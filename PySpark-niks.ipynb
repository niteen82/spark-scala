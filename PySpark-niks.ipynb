{
  "nbformat": 4,
  "nbformat_minor": 0,
  "metadata": {
    "colab": {
      "provenance": [],
      "toc_visible": true
    },
    "kernelspec": {
      "display_name": "Python 3",
      "language": "python",
      "name": "python3"
    },
    "language_info": {
      "codemirror_mode": {
        "name": "ipython",
        "version": 3
      },
      "file_extension": ".py",
      "mimetype": "text/x-python",
      "name": "python",
      "nbconvert_exporter": "python",
      "pygments_lexer": "ipython3",
      "version": "3.6.5"
    }
  },
  "cells": [
    {
      "cell_type": "markdown",
      "metadata": {
        "id": "iox_ufgbqDXa"
      },
      "source": [
        "<h1><center>Introduction to PySpark</center></h1>"
      ]
    },
    {
      "cell_type": "markdown",
      "metadata": {
        "id": "K_q3Yzc9qYc0"
      },
      "source": [
        "<a id='big-data-pyspark-and-colaboratory'></a>\n",
        "## Big data and PySpark"
      ]
    },
    {
      "cell_type": "markdown",
      "metadata": {
        "id": "5gs9JXCWqb9s"
      },
      "source": [
        "<a id='big-data'></a>\n",
        "### Big data"
      ]
    },
    {
      "cell_type": "markdown",
      "metadata": {
        "id": "q3UkLT6yqebl"
      },
      "source": [
        "Big data usually means data of such huge volume that normal data storage solutions cannot efficently store and process it. In this era, data is being generated at an absurd rate. Data is collected for each movement a person makes. The bulk of big data comes from three primary sources:\n",
        "<ol>\n",
        "   <li>Social data</li>\n",
        "   <li>Machine data</li>\n",
        "   <li>Transactional data</li>\n",
        "</ol>\n",
        "\n",
        "Some common examples for the sources of such data include internet searches, facebook posts, doorbell cams, smartwatches, online shopping history etc. Every action creates data, it is just a matter of of there is a way to collect them or not.  But what's interesting is that out of all this data collected, not even 5% of it is being used fully. There is a huge demand for big data professionals in the industry. Even though the number of graduates with a specialization in big data are rising, the problem is that they don't have the practical knowledge about big data scenarios, which leads to bad architecutres and inefficent methods of processing data.\n",
        "\n",
        ">If you are interested to know more about the landscape and technologies involved, here is [an article](https://hostingtribunal.com/blog/big-data-stats/) which I found really interesting!"
      ]
    },
    {
      "cell_type": "markdown",
      "metadata": {
        "id": "NhM3wLG2qhlN"
      },
      "source": [
        "<a id='pyspark'></a>\n",
        "### PySpark"
      ]
    },
    {
      "cell_type": "markdown",
      "metadata": {
        "id": "VBfC_kvjqjPj"
      },
      "source": [
        "If you are working in the field of big data, you must have definelty heard of spark. If you look at the [Apache Spark](https://spark.apache.org/) website, you will see that it is said to be a `Lightning-fast unified analytics engine`. PySpark is a flavour of Spark used for processing and analysing massive volumes of data. If you are familiar with python and have tried it for huge datasets, you should know that the execution time can get ridiculous. Enter PySpark!\n",
        "\n",
        "Imagine your data resides in a distributed manner at different places. If you try brining your data to one point and executing your code there, not only would that be inefficent, but also cause memory issues. Now let's say your code goes to the data rather than the data coming to where your code. This will help avoid unneccesary data movement which will thereby decrease the running time.\n",
        "\n",
        "PySpark is the Python API of Spark; which means it can do almost all the things python can. Machine learning(ML) pipelines, exploratory data analysis (at scale), ETLs for data platform, and much more! And all of them in a distributed manner. One of the best parts of pyspark is that if you are already familiar with python, it's really easy to learn.\n",
        "\n",
        "Apart from PySpark, there is another language called Scala used for big data processing. Scala is frequently over 10 times faster than *Python*, as it is native for Hadoop as its based on JVM. But PySpark is getting adopted at a fast rate because of the ease of use, easier learning curve and ML capabilities.\n",
        "\n",
        "I will briefly explain how a PySpark job works, but I strongly recommend you read more about the [architecture](https://data-flair.training/blogs/how-apache-spark-works/) and how everything works. Now, before I get into it, let me talk about some <u>basic jargons</u> first:\n",
        "\n",
        "<b>Cluster</b> is a set of loosely or tightly connected computers that work together so that they can be viewed as a single system.\n",
        "\n",
        "<b>Hadoop</b> is an open source, scalable, and fault tolerant framework written in Java. It efficiently processes large volumes of data on a cluster of commodity hardware. Hadoop is not only a storage system but is a platform for large data storage as well as processing.\n",
        "\n",
        "<b>HDFS</b> (Hadoop distributed file system). It is one of the world's most reliable storage system. HDFS is a Filesystem of Hadoop designed for storing very large files running on a cluster of commodity hardware.\n",
        "\n",
        "<b>MapReduce</b> is a data Processing framework, which has 2 phases - Mapper and Reducer. The map procedure performs filtering and sorting, and the reduce method performs a summary operation. It usually runs on a hadoop cluster.\n",
        "\n",
        "<b>Transformation</b> refers to the operations applied on a dataset to create a new dataset. Filter, groupBy and map are the examples of transformations.\n",
        "\n",
        "<b>Actions</b> Actions refer to an operation which instructs Spark to perform computation and send the result back to driver. This is an example of action.\n",
        "\n",
        "Alright! Now that that's out of the way, let me explain how a spark job runs. In simple terma, each time you submit a pyspark job, the code gets internally converted into a MapReduce program and gets executed in the Java virtual machine. Now one of the thoughts that might be popping in your mind will probably be: <br>`So the code gets converted into a MapReduce program. Wouldn't that mean MapReduce is faster than pySpark?`<br> Well, the answer is a big NO. This is what makes spark jobs special. Spark is capable of handling a massive amount of data at a time, in it's distributed environment. It does this through <u>in-memory processing</u>, which is what makes it almost 100 times faster than Hadoop. Another factor which amkes it fast is <u>Lazy Evaluation</u>. Spark delays its evaluation as much as it can. Each time you  submit a job, spark creates an action plan for how to execute the code, and then does nothing. Finally, when you ask for the result(i.e, calls an action), it executes the plan, which is basically all the transofrmations you have mentioned in your code. That's basically the gist of it.\n",
        "\n",
        "Now lastly, I want to talk about on more thing. Spark mainly consists of 4 modules:\n",
        "\n",
        "<ol>\n",
        "    <li>Spark SQL - helps to write  spark programs using SQL like queries.</li>\n",
        "    <li>Spark Streaming - is an extension of the core Spark API that enables scalable, high-throughput, fault-tolerant stream processing of live data streams. used heavily in processing of social media data.</li>\n",
        "    <li>Spark MLLib - is the machine learning component of SPark. It helps train ML models on massive datasets with very high efficeny. </li>\n",
        "    <li>Spark GraphX - is the visualization component of Spark. It enables users to view data both as graphs and as collections without data movement or duplication.</li>\n",
        "</ol>\n",
        "\n"
      ]
    },
    {
      "cell_type": "markdown",
      "metadata": {
        "id": "Dd6t0uFzuR4X"
      },
      "source": [
        "<a id='installing-spark'></a>\n",
        "### Installing Spark"
      ]
    },
    {
      "cell_type": "markdown",
      "metadata": {
        "id": "6apGVff5h4ca"
      },
      "source": [
        "Install Dependencies:\n",
        "\n",
        "\n",
        "1.   Java 8\n",
        "2.   Apache Spark with hadoop and\n",
        "3.   Findspark (used to locate the spark in the system)"
      ]
    },
    {
      "cell_type": "code",
      "metadata": {
        "id": "tt7ZS1_wGgjn"
      },
      "source": [
        "!apt-get install openjdk-8-jdk-headless -qq > /dev/null\n",
        "!wget -q http://archive.apache.org/dist/spark/spark-3.5.1/spark-3.5.1-bin-hadoop3.tgz\n",
        "!tar xf spark-3.5.1-bin-hadoop3.tgz\n",
        "!pip install -q findspark"
      ],
      "execution_count": 1,
      "outputs": []
    },
    {
      "cell_type": "markdown",
      "metadata": {
        "id": "C3x0ZRLxjMVr"
      },
      "source": [
        "Set Environment Variables:"
      ]
    },
    {
      "cell_type": "code",
      "metadata": {
        "id": "sdOOq4twHN1K"
      },
      "source": [
        "import os\n",
        "os.environ[\"JAVA_HOME\"] = \"/usr/lib/jvm/java-8-openjdk-amd64\"\n",
        "os.environ[\"SPARK_HOME\"] = \"/content/spark-3.5.1-bin-hadoop3\""
      ],
      "execution_count": 3,
      "outputs": []
    },
    {
      "cell_type": "code",
      "metadata": {
        "id": "3ACYMwhgHTYz",
        "colab": {
          "base_uri": "https://localhost:8080/"
        },
        "outputId": "51af6730-38a3-455a-c388-ff0d5b4e1472"
      },
      "source": [
        "!ls"
      ],
      "execution_count": 43,
      "outputs": [
        {
          "output_type": "stream",
          "name": "stdout",
          "text": [
            "cars.csv  sample_data  spark-3.5.1-bin-hadoop3\tspark-3.5.1-bin-hadoop3.tgz\n"
          ]
        }
      ]
    },
    {
      "cell_type": "code",
      "metadata": {
        "id": "KR1zLBk1998Z",
        "colab": {
          "base_uri": "https://localhost:8080/",
          "height": 219
        },
        "outputId": "b7c79394-71a5-4e50-85bd-ff81dae27c06"
      },
      "source": [
        "import findspark\n",
        "findspark.init()\n",
        "from pyspark.sql import SparkSession\n",
        "spark = SparkSession.builder.master(\"local[*]\").getOrCreate()\n",
        "spark.conf.set(\"spark.sql.repl.eagerEval.enabled\", True) # Property used to format output tables better\n",
        "spark"
      ],
      "execution_count": 44,
      "outputs": [
        {
          "output_type": "execute_result",
          "data": {
            "text/plain": [
              "<pyspark.sql.session.SparkSession at 0x7f1d5ffd9c90>"
            ],
            "text/html": [
              "\n",
              "            <div>\n",
              "                <p><b>SparkSession - in-memory</b></p>\n",
              "                \n",
              "        <div>\n",
              "            <p><b>SparkContext</b></p>\n",
              "\n",
              "            <p><a href=\"http://ac2027459ba2:4040\">Spark UI</a></p>\n",
              "\n",
              "            <dl>\n",
              "              <dt>Version</dt>\n",
              "                <dd><code>v3.5.1</code></dd>\n",
              "              <dt>Master</dt>\n",
              "                <dd><code>local[*]</code></dd>\n",
              "              <dt>AppName</dt>\n",
              "                <dd><code>pyspark-shell</code></dd>\n",
              "            </dl>\n",
              "        </div>\n",
              "        \n",
              "            </div>\n",
              "        "
            ]
          },
          "metadata": {},
          "execution_count": 44
        }
      ]
    },
    {
      "cell_type": "markdown",
      "metadata": {
        "id": "hmIqq6xPK7m7"
      },
      "source": [
        "<a id='exploring-the-dataset'></a>\n",
        "## Exploring the Dataset"
      ]
    },
    {
      "cell_type": "markdown",
      "metadata": {
        "id": "VZwsr57lwPgq"
      },
      "source": [
        "<a id='loading-the-dataset'></a>\n",
        "### Loading the Dataset"
      ]
    },
    {
      "cell_type": "code",
      "metadata": {
        "id": "hQ3zmGACLKlN",
        "colab": {
          "base_uri": "https://localhost:8080/"
        },
        "outputId": "cb65dea7-840e-4a4b-b75a-a617675da61c"
      },
      "source": [
        "!wget https://github.com/niteen82/spark-scala/blob/main/cars.csv"
      ],
      "execution_count": 37,
      "outputs": [
        {
          "output_type": "stream",
          "name": "stdout",
          "text": [
            "--2024-09-18 17:55:40--  https://github.com/niteen82/spark-scala/blob/main/cars.csv\n",
            "Resolving github.com (github.com)... 140.82.113.4\n",
            "Connecting to github.com (github.com)|140.82.113.4|:443... connected.\n",
            "HTTP request sent, awaiting response... 200 OK\n",
            "Length: unspecified [text/html]\n",
            "Saving to: ‘cars.csv’\n",
            "\n",
            "cars.csv                [  <=>               ] 488.70K  1.58MB/s    in 0.3s    \n",
            "\n",
            "2024-09-18 17:55:41 (1.58 MB/s) - ‘cars.csv’ saved [500424]\n",
            "\n"
          ]
        }
      ]
    },
    {
      "cell_type": "code",
      "metadata": {
        "id": "Wpq2jYvIMOJy",
        "colab": {
          "base_uri": "https://localhost:8080/"
        },
        "outputId": "8a09d295-b386-4a41-9de7-c1d6fc215ad4"
      },
      "source": [
        "!ls"
      ],
      "execution_count": 38,
      "outputs": [
        {
          "output_type": "stream",
          "name": "stdout",
          "text": [
            "cars.csv  sample_data  spark-3.5.1-bin-hadoop3\tspark-3.5.1-bin-hadoop3.tgz\n"
          ]
        }
      ]
    },
    {
      "cell_type": "code",
      "source": [
        "!cat cars.csv\n"
      ],
      "metadata": {
        "colab": {
          "base_uri": "https://localhost:8080/"
        },
        "id": "q7VHyVRrQzex",
        "outputId": "cc3a1552-5897-4a93-906d-a42a84fc4cd9"
      },
      "execution_count": 40,
      "outputs": [
        {
          "output_type": "stream",
          "name": "stdout",
          "text": [
            "\n",
            "\n",
            "\n",
            "\n",
            "\n",
            "\n",
            "<!DOCTYPE html>\n",
            "<html\n",
            "  lang=\"en\"\n",
            "  \n",
            "  data-color-mode=\"auto\" data-light-theme=\"light\" data-dark-theme=\"dark\"\n",
            "  data-a11y-animated-images=\"system\" data-a11y-link-underlines=\"true\"\n",
            "  >\n",
            "\n",
            "\n",
            "\n",
            "  <head>\n",
            "    <meta charset=\"utf-8\">\n",
            "  <link rel=\"dns-prefetch\" href=\"https://github.githubassets.com\">\n",
            "  <link rel=\"dns-prefetch\" href=\"https://avatars.githubusercontent.com\">\n",
            "  <link rel=\"dns-prefetch\" href=\"https://github-cloud.s3.amazonaws.com\">\n",
            "  <link rel=\"dns-prefetch\" href=\"https://user-images.githubusercontent.com/\">\n",
            "  <link rel=\"preconnect\" href=\"https://github.githubassets.com\" crossorigin>\n",
            "  <link rel=\"preconnect\" href=\"https://avatars.githubusercontent.com\">\n",
            "\n",
            "  \n",
            "\n",
            "\n",
            "  <link crossorigin=\"anonymous\" media=\"all\" rel=\"stylesheet\" href=\"https://github.githubassets.com/assets/light-3e154969b9f9.css\" /><link crossorigin=\"anonymous\" media=\"all\" rel=\"stylesheet\" href=\"https://github.githubassets.com/assets/dark-9c5b7a476542.css\" /><link data-color-theme=\"dark_dimmed\" crossorigin=\"anonymous\" media=\"all\" rel=\"stylesheet\" data-href=\"https://github.githubassets.com/assets/dark_dimmed-afda8eb0fb33.css\" /><link data-color-theme=\"dark_high_contrast\" crossorigin=\"anonymous\" media=\"all\" rel=\"stylesheet\" data-href=\"https://github.githubassets.com/assets/dark_high_contrast-2494e44ccdc5.css\" /><link data-color-theme=\"dark_colorblind\" crossorigin=\"anonymous\" media=\"all\" rel=\"stylesheet\" data-href=\"https://github.githubassets.com/assets/dark_colorblind-56fff47acadc.css\" /><link data-color-theme=\"light_colorblind\" crossorigin=\"anonymous\" media=\"all\" rel=\"stylesheet\" data-href=\"https://github.githubassets.com/assets/light_colorblind-71cd4cc132ec.css\" /><link data-color-theme=\"light_high_contrast\" crossorigin=\"anonymous\" media=\"all\" rel=\"stylesheet\" data-href=\"https://github.githubassets.com/assets/light_high_contrast-fd5499848985.css\" /><link data-color-theme=\"light_tritanopia\" crossorigin=\"anonymous\" media=\"all\" rel=\"stylesheet\" data-href=\"https://github.githubassets.com/assets/light_tritanopia-31d17ba3e139.css\" /><link data-color-theme=\"dark_tritanopia\" crossorigin=\"anonymous\" media=\"all\" rel=\"stylesheet\" data-href=\"https://github.githubassets.com/assets/dark_tritanopia-68d6b2c79663.css\" />\n",
            "    <link crossorigin=\"anonymous\" media=\"all\" rel=\"stylesheet\" href=\"https://github.githubassets.com/assets/primer-primitives-4cf0d59ab51a.css\" />\n",
            "    <link crossorigin=\"anonymous\" media=\"all\" rel=\"stylesheet\" href=\"https://github.githubassets.com/assets/primer-b71798d38c29.css\" />\n",
            "    <link crossorigin=\"anonymous\" media=\"all\" rel=\"stylesheet\" href=\"https://github.githubassets.com/assets/global-e647c9e7e18c.css\" />\n",
            "    <link crossorigin=\"anonymous\" media=\"all\" rel=\"stylesheet\" href=\"https://github.githubassets.com/assets/github-e4eed26e112b.css\" />\n",
            "  <link crossorigin=\"anonymous\" media=\"all\" rel=\"stylesheet\" href=\"https://github.githubassets.com/assets/repository-0f7cf89e325a.css\" />\n",
            "<link crossorigin=\"anonymous\" media=\"all\" rel=\"stylesheet\" href=\"https://github.githubassets.com/assets/code-84c85cb29e52.css\" />\n",
            "\n",
            "  \n",
            "\n",
            "\n",
            "  <script type=\"application/json\" id=\"client-env\">{\"locale\":\"en\",\"featureFlags\":[\"code_vulnerability_scanning\",\"copilot_at_mention_button\",\"copilot_beta_features_opt_in\",\"copilot_chat_conversation_intent_knowledge_search_skill\",\"copilot_chat_static_thread_suggestions\",\"copilot_completion_new_domain\",\"copilot_conversational_ux_history_refs\",\"copilot_copy_message\",\"copilot_followup_to_agent\",\"copilot_implicit_context\",\"copilot_site_updates_sept17\",\"copilot_smell_icebreaker_ux\",\"experimentation_azure_variant_endpoint\",\"failbot_handle_non_errors\",\"geojson_azure_maps\",\"ghost_pilot_confidence_truncation\",\"ghost_pilot_confidence_truncation_25\",\"ghost_pilot_confidence_truncation_40\",\"ghost_pilot_stream_handling\",\"hovercard_accessibility\",\"hovercard_longer_activate_timeout\",\"marketing_pages_search_explore_provider\",\"remove_child_patch\",\"sample_network_conn_type\",\"site_metered_billing_update\",\"issues_react_first_time_contribution_banner\",\"jk_navigation_in_list_view\"]}</script>\n",
            "<script crossorigin=\"anonymous\" defer=\"defer\" type=\"application/javascript\" src=\"https://github.githubassets.com/assets/wp-runtime-1cf1a7a37ae4.js\"></script>\n",
            "<script crossorigin=\"anonymous\" defer=\"defer\" type=\"application/javascript\" src=\"https://github.githubassets.com/assets/vendors-node_modules_dompurify_dist_purify_js-89a69c248502.js\"></script>\n",
            "<script crossorigin=\"anonymous\" defer=\"defer\" type=\"application/javascript\" src=\"https://github.githubassets.com/assets/vendors-node_modules_oddbird_popover-polyfill_dist_popover_js-56729c905fe2.js\"></script>\n",
            "<script crossorigin=\"anonymous\" defer=\"defer\" type=\"application/javascript\" src=\"https://github.githubassets.com/assets/vendors-node_modules_github_arianotify-polyfill_ariaNotify-polyfill_js-node_modules_github_mi-247092-b9c7cf3107b7.js\"></script>\n",
            "<script crossorigin=\"anonymous\" defer=\"defer\" type=\"application/javascript\" src=\"https://github.githubassets.com/assets/environment-9d8fe9c86899.js\"></script>\n",
            "<script crossorigin=\"anonymous\" defer=\"defer\" type=\"application/javascript\" src=\"https://github.githubassets.com/assets/vendors-node_modules_github_selector-observer_dist_index_esm_js-f690fd9ae3d5.js\"></script>\n",
            "<script crossorigin=\"anonymous\" defer=\"defer\" type=\"application/javascript\" src=\"https://github.githubassets.com/assets/vendors-node_modules_primer_behaviors_dist_esm_focus-zone_js-3993df7a23db.js\"></script>\n",
            "<script crossorigin=\"anonymous\" defer=\"defer\" type=\"application/javascript\" src=\"https://github.githubassets.com/assets/vendors-node_modules_github_relative-time-element_dist_index_js-6d3967acd51c.js\"></script>\n",
            "<script crossorigin=\"anonymous\" defer=\"defer\" type=\"application/javascript\" src=\"https://github.githubassets.com/assets/vendors-node_modules_primer_behaviors_dist_esm_anchored-position_js-node_modules_github_combo-c8f81b-aae774371435.js\"></script>\n",
            "<script crossorigin=\"anonymous\" defer=\"defer\" type=\"application/javascript\" src=\"https://github.githubassets.com/assets/vendors-node_modules_github_auto-complete-element_dist_index_js-node_modules_github_details-d-ed9a97-841122a1e9d4.js\"></script>\n",
            "<script crossorigin=\"anonymous\" defer=\"defer\" type=\"application/javascript\" src=\"https://github.githubassets.com/assets/vendors-node_modules_github_text-expander-element_dist_index_js-cd48220d74d5.js\"></script>\n",
            "<script crossorigin=\"anonymous\" defer=\"defer\" type=\"application/javascript\" src=\"https://github.githubassets.com/assets/vendors-node_modules_github_filter-input-element_dist_index_js-node_modules_github_remote-inp-d1a841-1cb70ce9c8ac.js\"></script>\n",
            "<script crossorigin=\"anonymous\" defer=\"defer\" type=\"application/javascript\" src=\"https://github.githubassets.com/assets/vendors-node_modules_delegated-events_dist_index_js-node_modules_github_catalyst_lib_index_js-f4b251-f7c3b6081b19.js\"></script>\n",
            "<script crossorigin=\"anonymous\" defer=\"defer\" type=\"application/javascript\" src=\"https://github.githubassets.com/assets/vendors-node_modules_github_mini-throttle_dist_index_js-node_modules_stacktrace-parser_dist_s-d71043-2f71edbcd4a2.js\"></script>\n",
            "<script crossorigin=\"anonymous\" defer=\"defer\" type=\"application/javascript\" src=\"https://github.githubassets.com/assets/vendors-node_modules_github_file-attachment-element_dist_index_js-node_modules_primer_view-co-278f98-614627bd58c2.js\"></script>\n",
            "<script crossorigin=\"anonymous\" defer=\"defer\" type=\"application/javascript\" src=\"https://github.githubassets.com/assets/github-elements-212af089b7d6.js\"></script>\n",
            "<script crossorigin=\"anonymous\" defer=\"defer\" type=\"application/javascript\" src=\"https://github.githubassets.com/assets/element-registry-285ed6d2db9a.js\"></script>\n",
            "<script crossorigin=\"anonymous\" defer=\"defer\" type=\"application/javascript\" src=\"https://github.githubassets.com/assets/vendors-node_modules_github_catalyst_lib_index_js-node_modules_github_hydro-analytics-client_-7901e7-b9a6188c064d.js\"></script>\n",
            "<script crossorigin=\"anonymous\" defer=\"defer\" type=\"application/javascript\" src=\"https://github.githubassets.com/assets/vendors-node_modules_braintree_browser-detection_dist_browser-detection_js-node_modules_stack-68835d-f76b8ac8a5c7.js\"></script>\n",
            "<script crossorigin=\"anonymous\" defer=\"defer\" type=\"application/javascript\" src=\"https://github.githubassets.com/assets/vendors-node_modules_lit-html_lit-html_js-ce7225a304c5.js\"></script>\n",
            "<script crossorigin=\"anonymous\" defer=\"defer\" type=\"application/javascript\" src=\"https://github.githubassets.com/assets/vendors-node_modules_github_mini-throttle_dist_index_js-node_modules_morphdom_dist_morphdom-e-7c534c-f8a5485c982a.js\"></script>\n",
            "<script crossorigin=\"anonymous\" defer=\"defer\" type=\"application/javascript\" src=\"https://github.githubassets.com/assets/vendors-node_modules_github_turbo_dist_turbo_es2017-esm_js-858e043fcf76.js\"></script>\n",
            "<script crossorigin=\"anonymous\" defer=\"defer\" type=\"application/javascript\" src=\"https://github.githubassets.com/assets/vendors-node_modules_github_remote-form_dist_index_js-node_modules_delegated-events_dist_inde-893f9f-6cf3320416b8.js\"></script>\n",
            "<script crossorigin=\"anonymous\" defer=\"defer\" type=\"application/javascript\" src=\"https://github.githubassets.com/assets/vendors-node_modules_color-convert_index_js-0e07cc183eed.js\"></script>\n",
            "<script crossorigin=\"anonymous\" defer=\"defer\" type=\"application/javascript\" src=\"https://github.githubassets.com/assets/vendors-node_modules_github_session-resume_dist_index_js-node_modules_primer_behaviors_dist_e-da6ec6-5de3eedc1320.js\"></script>\n",
            "<script crossorigin=\"anonymous\" defer=\"defer\" type=\"application/javascript\" src=\"https://github.githubassets.com/assets/vendors-node_modules_github_quote-selection_dist_index_js-node_modules_github_textarea-autosi-ded18a-121705d071ff.js\"></script>\n",
            "<script crossorigin=\"anonymous\" defer=\"defer\" type=\"application/javascript\" src=\"https://github.githubassets.com/assets/ui_packages_updatable-content_updatable-content_ts-b2e3c7cc6e92.js\"></script>\n",
            "<script crossorigin=\"anonymous\" defer=\"defer\" type=\"application/javascript\" src=\"https://github.githubassets.com/assets/app_assets_modules_github_behaviors_task-list_ts-app_assets_modules_github_sso_ts-ui_packages-900dde-ab87c1d6c5c8.js\"></script>\n",
            "<script crossorigin=\"anonymous\" defer=\"defer\" type=\"application/javascript\" src=\"https://github.githubassets.com/assets/app_assets_modules_github_sticky-scroll-into-view_ts-112600808cf9.js\"></script>\n",
            "<script crossorigin=\"anonymous\" defer=\"defer\" type=\"application/javascript\" src=\"https://github.githubassets.com/assets/app_assets_modules_github_behaviors_ajax-error_ts-app_assets_modules_github_behaviors_include-d0d0a6-e8165d062a74.js\"></script>\n",
            "<script crossorigin=\"anonymous\" defer=\"defer\" type=\"application/javascript\" src=\"https://github.githubassets.com/assets/app_assets_modules_github_behaviors_commenting_edit_ts-app_assets_modules_github_behaviors_ht-83c235-aeae6fcdf371.js\"></script>\n",
            "<script crossorigin=\"anonymous\" defer=\"defer\" type=\"application/javascript\" src=\"https://github.githubassets.com/assets/behaviors-f805eb413e22.js\"></script>\n",
            "<script crossorigin=\"anonymous\" defer=\"defer\" type=\"application/javascript\" src=\"https://github.githubassets.com/assets/vendors-node_modules_delegated-events_dist_index_js-node_modules_github_catalyst_lib_index_js-06ff531-bf7e5a3732fd.js\"></script>\n",
            "<script crossorigin=\"anonymous\" defer=\"defer\" type=\"application/javascript\" src=\"https://github.githubassets.com/assets/notifications-global-54f34167118d.js\"></script>\n",
            "<script crossorigin=\"anonymous\" defer=\"defer\" type=\"application/javascript\" src=\"https://github.githubassets.com/assets/vendors-node_modules_github_mini-throttle_dist_index_js-node_modules_github_catalyst_lib_inde-dbbea9-e73b311a14f1.js\"></script>\n",
            "<script crossorigin=\"anonymous\" defer=\"defer\" type=\"application/javascript\" src=\"https://github.githubassets.com/assets/app_assets_modules_github_repositories_get-repo-element_ts-78999cbaea69.js\"></script>\n",
            "<script crossorigin=\"anonymous\" defer=\"defer\" type=\"application/javascript\" src=\"https://github.githubassets.com/assets/code-menu-a8d08997ac4f.js\"></script>\n",
            "  \n",
            "  <script crossorigin=\"anonymous\" defer=\"defer\" type=\"application/javascript\" src=\"https://github.githubassets.com/assets/react-lib-7b7b5264f6c1.js\"></script>\n",
            "<script crossorigin=\"anonymous\" defer=\"defer\" type=\"application/javascript\" src=\"https://github.githubassets.com/assets/vendors-node_modules_github_mini-throttle_dist_index_js-node_modules_primer_octicons-react_di-5313f5-99ccefb7799a.js\"></script>\n",
            "<script crossorigin=\"anonymous\" defer=\"defer\" type=\"application/javascript\" src=\"https://github.githubassets.com/assets/vendors-node_modules_primer_react_lib-esm_Button_Button_js-6357bb73e9e3.js\"></script>\n",
            "<script crossorigin=\"anonymous\" defer=\"defer\" type=\"application/javascript\" src=\"https://github.githubassets.com/assets/vendors-node_modules_primer_react_lib-esm_TooltipV2_Tooltip_js-050077edbc8d.js\"></script>\n",
            "<script crossorigin=\"anonymous\" defer=\"defer\" type=\"application/javascript\" src=\"https://github.githubassets.com/assets/vendors-node_modules_primer_react_node_modules_primer_octicons-react_dist_index_esm_mjs-a5155473fc69.js\"></script>\n",
            "<script crossorigin=\"anonymous\" defer=\"defer\" type=\"application/javascript\" src=\"https://github.githubassets.com/assets/vendors-node_modules_primer_react_lib-esm_ActionList_index_js-498b0b85856d.js\"></script>\n",
            "<script crossorigin=\"anonymous\" defer=\"defer\" type=\"application/javascript\" src=\"https://github.githubassets.com/assets/vendors-node_modules_primer_react_lib-esm_AnchoredOverlay_AnchoredOverlay_js-23c952760bfd.js\"></script>\n",
            "<script crossorigin=\"anonymous\" defer=\"defer\" type=\"application/javascript\" src=\"https://github.githubassets.com/assets/vendors-node_modules_primer_react_lib-esm_Text_Text_js-node_modules_primer_react_lib-esm_Text-7845da-9a0cce799870.js\"></script>\n",
            "<script crossorigin=\"anonymous\" defer=\"defer\" type=\"application/javascript\" src=\"https://github.githubassets.com/assets/vendors-node_modules_primer_react_lib-esm_ActionMenu_ActionMenu_js-04511d790e86.js\"></script>\n",
            "<script crossorigin=\"anonymous\" defer=\"defer\" type=\"application/javascript\" src=\"https://github.githubassets.com/assets/vendors-node_modules_primer_react_lib-esm_FormControl_FormControl_js-ba8173c40da9.js\"></script>\n",
            "<script crossorigin=\"anonymous\" defer=\"defer\" type=\"application/javascript\" src=\"https://github.githubassets.com/assets/vendors-node_modules_react-router-dom_dist_index_js-c5568c29d405.js\"></script>\n",
            "<script crossorigin=\"anonymous\" defer=\"defer\" type=\"application/javascript\" src=\"https://github.githubassets.com/assets/vendors-node_modules_primer_react_lib-esm_ConfirmationDialog_ConfirmationDialog_js-node_modul-c2760e-f0f4eff31aae.js\"></script>\n",
            "<script crossorigin=\"anonymous\" defer=\"defer\" type=\"application/javascript\" src=\"https://github.githubassets.com/assets/vendors-node_modules_primer_react_lib-esm_Link_Link_js-node_modules_primer_react_lib-esm_Page-7c6288-c3ccdd5f8ff7.js\"></script>\n",
            "<script crossorigin=\"anonymous\" defer=\"defer\" type=\"application/javascript\" src=\"https://github.githubassets.com/assets/vendors-node_modules_primer_behaviors_dist_esm_anchored-position_js-node_modules_primer_react-a988ee-15d41f0c10d5.js\"></script>\n",
            "<script crossorigin=\"anonymous\" defer=\"defer\" type=\"application/javascript\" src=\"https://github.githubassets.com/assets/vendors-node_modules_primer_behaviors_dist_esm_scroll-into-view_js-node_modules_primer_react_-9dc7e0-afa64a5bb9e3.js\"></script>\n",
            "<script crossorigin=\"anonymous\" defer=\"defer\" type=\"application/javascript\" src=\"https://github.githubassets.com/assets/ui_packages_react-core_create-browser-history_ts-ui_packages_safe-storage_safe-storage_ts-ui_-146db5-e242431cb8ae.js\"></script>\n",
            "<script crossorigin=\"anonymous\" defer=\"defer\" type=\"application/javascript\" src=\"https://github.githubassets.com/assets/ui_packages_react-core_register-app_ts-5d0cdd898016.js\"></script>\n",
            "<script crossorigin=\"anonymous\" defer=\"defer\" type=\"application/javascript\" src=\"https://github.githubassets.com/assets/ui_packages_paths_index_ts-d1e89600e343.js\"></script>\n",
            "<script crossorigin=\"anonymous\" defer=\"defer\" type=\"application/javascript\" src=\"https://github.githubassets.com/assets/ui_packages_ref-selector_RefSelector_tsx-91d76dbd5957.js\"></script>\n",
            "<script crossorigin=\"anonymous\" defer=\"defer\" type=\"application/javascript\" src=\"https://github.githubassets.com/assets/ui_packages_code-view-shared_hooks_shortcuts_ts-ui_packages_code-view-shared_utilities_web-wo-e3361d-880433f5ab75.js\"></script>\n",
            "<script crossorigin=\"anonymous\" defer=\"defer\" type=\"application/javascript\" src=\"https://github.githubassets.com/assets/ui_packages_commit-checks-status_index_ts-ui_packages_react-core_use-feature-flag_ts-ui_packa-9dd6f2-163de5ac95fa.js\"></script>\n",
            "<script crossorigin=\"anonymous\" defer=\"defer\" type=\"application/javascript\" src=\"https://github.githubassets.com/assets/ui_packages_copy-to-clipboard_index_ts-ui_packages_code-view-shared_components_SharedMarkdown-5ea86a-b08985458b61.js\"></script>\n",
            "<script crossorigin=\"anonymous\" defer=\"defer\" type=\"application/javascript\" src=\"https://github.githubassets.com/assets/ui_packages_code-view-shared_hooks_use-canonical-object_ts-ui_packages_code-view-shared_hooks-7c483a-593eb0dadb30.js\"></script>\n",
            "<script crossorigin=\"anonymous\" defer=\"defer\" type=\"application/javascript\" src=\"https://github.githubassets.com/assets/ui_packages_repos-file-tree-view_repos-file-tree-view_ts-ui_packages_feature-request_FeatureR-ec5225-667e01753ddc.js\"></script>\n",
            "<script crossorigin=\"anonymous\" defer=\"defer\" type=\"application/javascript\" src=\"https://github.githubassets.com/assets/react-code-view-6c5e9360d2a6.js\"></script>\n",
            "<link crossorigin=\"anonymous\" media=\"all\" rel=\"stylesheet\" href=\"https://github.githubassets.com/assets/primer-react-css.f1690139a6be14fb1874.module.css\" />\n",
            "<link crossorigin=\"anonymous\" media=\"all\" rel=\"stylesheet\" href=\"https://github.githubassets.com/assets/react-code-view.cbc84db7f6a2b0bd0a66.module.css\" />\n",
            "\n",
            "  <script crossorigin=\"anonymous\" defer=\"defer\" type=\"application/javascript\" src=\"https://github.githubassets.com/assets/react-lib-7b7b5264f6c1.js\"></script>\n",
            "<script crossorigin=\"anonymous\" defer=\"defer\" type=\"application/javascript\" src=\"https://github.githubassets.com/assets/vendors-node_modules_github_mini-throttle_dist_index_js-node_modules_primer_octicons-react_di-5313f5-99ccefb7799a.js\"></script>\n",
            "<script crossorigin=\"anonymous\" defer=\"defer\" type=\"application/javascript\" src=\"https://github.githubassets.com/assets/vendors-node_modules_primer_react_lib-esm_Button_Button_js-6357bb73e9e3.js\"></script>\n",
            "<script crossorigin=\"anonymous\" defer=\"defer\" type=\"application/javascript\" src=\"https://github.githubassets.com/assets/vendors-node_modules_primer_react_lib-esm_TooltipV2_Tooltip_js-050077edbc8d.js\"></script>\n",
            "<script crossorigin=\"anonymous\" defer=\"defer\" type=\"application/javascript\" src=\"https://github.githubassets.com/assets/vendors-node_modules_primer_react_node_modules_primer_octicons-react_dist_index_esm_mjs-a5155473fc69.js\"></script>\n",
            "<script crossorigin=\"anonymous\" defer=\"defer\" type=\"application/javascript\" src=\"https://github.githubassets.com/assets/vendors-node_modules_primer_react_lib-esm_ActionList_index_js-498b0b85856d.js\"></script>\n",
            "<script crossorigin=\"anonymous\" defer=\"defer\" type=\"application/javascript\" src=\"https://github.githubassets.com/assets/vendors-node_modules_primer_react_lib-esm_AnchoredOverlay_AnchoredOverlay_js-23c952760bfd.js\"></script>\n",
            "<script crossorigin=\"anonymous\" defer=\"defer\" type=\"application/javascript\" src=\"https://github.githubassets.com/assets/vendors-node_modules_primer_react_lib-esm_Text_Text_js-node_modules_primer_react_lib-esm_Text-7845da-9a0cce799870.js\"></script>\n",
            "<script crossorigin=\"anonymous\" defer=\"defer\" type=\"application/javascript\" src=\"https://github.githubassets.com/assets/vendors-node_modules_primer_react_lib-esm_ActionMenu_ActionMenu_js-04511d790e86.js\"></script>\n",
            "<script crossorigin=\"anonymous\" defer=\"defer\" type=\"application/javascript\" src=\"https://github.githubassets.com/assets/vendors-node_modules_primer_react_lib-esm_FormControl_FormControl_js-ba8173c40da9.js\"></script>\n",
            "<script crossorigin=\"anonymous\" defer=\"defer\" type=\"application/javascript\" src=\"https://github.githubassets.com/assets/vendors-node_modules_primer_react_lib-esm_FilteredActionList_FilteredActionList_js-458c2b295553.js\"></script>\n",
            "<script crossorigin=\"anonymous\" defer=\"defer\" type=\"application/javascript\" src=\"https://github.githubassets.com/assets/vendors-node_modules_primer_react_lib-esm_Dialog_js-node_modules_primer_react_lib-esm_Feature-11a7b7-49a37822e466.js\"></script>\n",
            "<script crossorigin=\"anonymous\" defer=\"defer\" type=\"application/javascript\" src=\"https://github.githubassets.com/assets/ui_packages_react-core_create-browser-history_ts-ui_packages_safe-storage_safe-storage_ts-ui_-146db5-e242431cb8ae.js\"></script>\n",
            "<script crossorigin=\"anonymous\" defer=\"defer\" type=\"application/javascript\" src=\"https://github.githubassets.com/assets/notifications-subscriptions-menu-df9550103492.js\"></script>\n",
            "<link crossorigin=\"anonymous\" media=\"all\" rel=\"stylesheet\" href=\"https://github.githubassets.com/assets/primer-react-css.f1690139a6be14fb1874.module.css\" />\n",
            "<link crossorigin=\"anonymous\" media=\"all\" rel=\"stylesheet\" href=\"https://github.githubassets.com/assets/notifications-subscriptions-menu.1bcff9205c241e99cff2.module.css\" />\n",
            "\n",
            "\n",
            "  <title>spark-scala/cars.csv at main · niteen82/spark-scala · GitHub</title>\n",
            "\n",
            "\n",
            "\n",
            "  <meta name=\"route-pattern\" content=\"/:user_id/:repository/blob/*name(/*path)\" data-turbo-transient>\n",
            "  <meta name=\"route-controller\" content=\"blob\" data-turbo-transient>\n",
            "  <meta name=\"route-action\" content=\"show\" data-turbo-transient>\n",
            "\n",
            "    \n",
            "  <meta name=\"current-catalog-service-hash\" content=\"f3abb0cc802f3d7b95fc8762b94bdcb13bf39634c40c357301c4aa1d67a256fb\">\n",
            "\n",
            "\n",
            "  <meta name=\"request-id\" content=\"C3EC:1ECBC4:54C1A59:76C5E61:66EB141C\" data-pjax-transient=\"true\"/><meta name=\"html-safe-nonce\" content=\"0411c99b18fa62cf291e65de1c8a9cfb80562d1ba2a9c96cf162c0c2e6ee6213\" data-pjax-transient=\"true\"/><meta name=\"visitor-payload\" content=\"eyJyZWZlcnJlciI6IiIsInJlcXVlc3RfaWQiOiJDM0VDOjFFQ0JDNDo1NEMxQTU5Ojc2QzVFNjE6NjZFQjE0MUMiLCJ2aXNpdG9yX2lkIjoiMTk3MzYwNDQ2NzEzODU2NTE0OSIsInJlZ2lvbl9lZGdlIjoiaWFkIiwicmVnaW9uX3JlbmRlciI6ImlhZCJ9\" data-pjax-transient=\"true\"/><meta name=\"visitor-hmac\" content=\"5e6ca5a1b47f458a9c4eb7827a84feaba20a4351000164729b5de79d81064b64\" data-pjax-transient=\"true\"/>\n",
            "\n",
            "\n",
            "    <meta name=\"hovercard-subject-tag\" content=\"repository:859423405\" data-turbo-transient>\n",
            "\n",
            "\n",
            "  <meta name=\"github-keyboard-shortcuts\" content=\"repository,source-code,file-tree,copilot\" data-turbo-transient=\"true\" />\n",
            "  \n",
            "\n",
            "  <meta name=\"selected-link\" value=\"repo_source\" data-turbo-transient>\n",
            "  <link rel=\"assets\" href=\"https://github.githubassets.com/\">\n",
            "\n",
            "    <meta name=\"google-site-verification\" content=\"Apib7-x98H0j5cPqHWwSMm6dNU4GmODRoqxLiDzdx9I\">\n",
            "\n",
            "<meta name=\"octolytics-url\" content=\"https://collector.github.com/github/collect\" />\n",
            "\n",
            "  <meta name=\"analytics-location\" content=\"/&lt;user-name&gt;/&lt;repo-name&gt;/blob/show\" data-turbo-transient=\"true\" />\n",
            "\n",
            "  \n",
            "\n",
            "\n",
            "\n",
            "\n",
            "    <meta name=\"user-login\" content=\"\">\n",
            "\n",
            "  \n",
            "\n",
            "    <meta name=\"viewport\" content=\"width=device-width\">\n",
            "\n",
            "    \n",
            "\n",
            "      <meta name=\"description\" content=\"Contribute to niteen82/spark-scala development by creating an account on GitHub.\">\n",
            "\n",
            "      <link rel=\"search\" type=\"application/opensearchdescription+xml\" href=\"/opensearch.xml\" title=\"GitHub\">\n",
            "\n",
            "    <link rel=\"fluid-icon\" href=\"https://github.com/fluidicon.png\" title=\"GitHub\">\n",
            "    <meta property=\"fb:app_id\" content=\"1401488693436528\">\n",
            "    <meta name=\"apple-itunes-app\" content=\"app-id=1477376905, app-argument=https://github.com/niteen82/spark-scala/blob/main/cars.csv\" />\n",
            "\n",
            "      <meta name=\"twitter:image:src\" content=\"https://opengraph.githubassets.com/7921ae6ff2008245e928f3c410d4bf5cd71830dc7877dc958ec788964a8393a8/niteen82/spark-scala\" /><meta name=\"twitter:site\" content=\"@github\" /><meta name=\"twitter:card\" content=\"summary_large_image\" /><meta name=\"twitter:title\" content=\"spark-scala/cars.csv at main · niteen82/spark-scala\" /><meta name=\"twitter:description\" content=\"Contribute to niteen82/spark-scala development by creating an account on GitHub.\" />\n",
            "  <meta property=\"og:image\" content=\"https://opengraph.githubassets.com/7921ae6ff2008245e928f3c410d4bf5cd71830dc7877dc958ec788964a8393a8/niteen82/spark-scala\" /><meta property=\"og:image:alt\" content=\"Contribute to niteen82/spark-scala development by creating an account on GitHub.\" /><meta property=\"og:image:width\" content=\"1200\" /><meta property=\"og:image:height\" content=\"600\" /><meta property=\"og:site_name\" content=\"GitHub\" /><meta property=\"og:type\" content=\"object\" /><meta property=\"og:title\" content=\"spark-scala/cars.csv at main · niteen82/spark-scala\" /><meta property=\"og:url\" content=\"https://github.com/niteen82/spark-scala/blob/main/cars.csv\" /><meta property=\"og:description\" content=\"Contribute to niteen82/spark-scala development by creating an account on GitHub.\" />\n",
            "  \n",
            "\n",
            "\n",
            "\n",
            "\n",
            "      <meta name=\"hostname\" content=\"github.com\">\n",
            "\n",
            "\n",
            "\n",
            "        <meta name=\"expected-hostname\" content=\"github.com\">\n",
            "\n",
            "\n",
            "  <meta http-equiv=\"x-pjax-version\" content=\"25187510cbf5bc95e7467db6477461d1f6cf54192cfb06cc455f3cf41030c9b5\" data-turbo-track=\"reload\">\n",
            "  <meta http-equiv=\"x-pjax-csp-version\" content=\"925204cf86f33697bb76b130bd9fb401ee74f83f11af7e3b019b214d8378354a\" data-turbo-track=\"reload\">\n",
            "  <meta http-equiv=\"x-pjax-css-version\" content=\"dc5402d289f063661b82f9be60f7e499332afd4d85aa498a4ce62e845dd99158\" data-turbo-track=\"reload\">\n",
            "  <meta http-equiv=\"x-pjax-js-version\" content=\"1c4eb55edfece8330473f7d3a146fae7a7b30a36b98540cb0e30fe4f3a41a929\" data-turbo-track=\"reload\">\n",
            "\n",
            "  <meta name=\"turbo-cache-control\" content=\"no-preview\" data-turbo-transient=\"\">\n",
            "\n",
            "      <meta name=\"turbo-cache-control\" content=\"no-cache\" data-turbo-transient>\n",
            "    <meta data-hydrostats=\"publish\">\n",
            "  <meta name=\"go-import\" content=\"github.com/niteen82/spark-scala git https://github.com/niteen82/spark-scala.git\">\n",
            "\n",
            "  <meta name=\"octolytics-dimension-user_id\" content=\"48675783\" /><meta name=\"octolytics-dimension-user_login\" content=\"niteen82\" /><meta name=\"octolytics-dimension-repository_id\" content=\"859423405\" /><meta name=\"octolytics-dimension-repository_nwo\" content=\"niteen82/spark-scala\" /><meta name=\"octolytics-dimension-repository_public\" content=\"true\" /><meta name=\"octolytics-dimension-repository_is_fork\" content=\"false\" /><meta name=\"octolytics-dimension-repository_network_root_id\" content=\"859423405\" /><meta name=\"octolytics-dimension-repository_network_root_nwo\" content=\"niteen82/spark-scala\" />\n",
            "\n",
            "\n",
            "\n",
            "    \n",
            "\n",
            "    <meta name=\"turbo-body-classes\" content=\"logged-out env-production page-responsive\">\n",
            "\n",
            "\n",
            "  <meta name=\"browser-stats-url\" content=\"https://api.github.com/_private/browser/stats\">\n",
            "\n",
            "  <meta name=\"browser-errors-url\" content=\"https://api.github.com/_private/browser/errors\">\n",
            "\n",
            "  <link rel=\"mask-icon\" href=\"https://github.githubassets.com/assets/pinned-octocat-093da3e6fa40.svg\" color=\"#000000\">\n",
            "  <link rel=\"alternate icon\" class=\"js-site-favicon\" type=\"image/png\" href=\"https://github.githubassets.com/favicons/favicon.png\">\n",
            "  <link rel=\"icon\" class=\"js-site-favicon\" type=\"image/svg+xml\" href=\"https://github.githubassets.com/favicons/favicon.svg\">\n",
            "\n",
            "<meta name=\"theme-color\" content=\"#1e2327\">\n",
            "<meta name=\"color-scheme\" content=\"light dark\" />\n",
            "\n",
            "\n",
            "  <link rel=\"manifest\" href=\"/manifest.json\" crossOrigin=\"use-credentials\">\n",
            "\n",
            "  </head>\n",
            "\n",
            "  <body class=\"logged-out env-production page-responsive\" style=\"word-wrap: break-word;\">\n",
            "    <div data-turbo-body class=\"logged-out env-production page-responsive\" style=\"word-wrap: break-word;\">\n",
            "      \n",
            "\n",
            "\n",
            "    <div class=\"position-relative js-header-wrapper \">\n",
            "      <a href=\"#start-of-content\" data-skip-target-assigned=\"false\" class=\"px-2 py-4 color-bg-accent-emphasis color-fg-on-emphasis show-on-focus js-skip-to-content\">Skip to content</a>\n",
            "\n",
            "      <span data-view-component=\"true\" class=\"progress-pjax-loader Progress position-fixed width-full\">\n",
            "    <span style=\"width: 0%;\" data-view-component=\"true\" class=\"Progress-item progress-pjax-loader-bar left-0 top-0 color-bg-accent-emphasis\"></span>\n",
            "</span>      \n",
            "      \n",
            "      <script crossorigin=\"anonymous\" defer=\"defer\" type=\"application/javascript\" src=\"https://github.githubassets.com/assets/vendors-node_modules_primer_react_lib-esm_KeybindingHint_KeybindingHint_js-node_modules_githu-3fe5e5-b41b3dd7726d.js\"></script>\n",
            "<script crossorigin=\"anonymous\" defer=\"defer\" type=\"application/javascript\" src=\"https://github.githubassets.com/assets/vendors-node_modules_primer_react_lib-esm_Dialog_Dialog_js-node_modules_primer_react_lib-esm_-cb29f3-39c529ca0d75.js\"></script>\n",
            "<script crossorigin=\"anonymous\" defer=\"defer\" type=\"application/javascript\" src=\"https://github.githubassets.com/assets/keyboard-shortcuts-dialog-e41e66f4bc13.js\"></script>\n",
            "\n",
            "<react-partial\n",
            "  partial-name=\"keyboard-shortcuts-dialog\"\n",
            "  data-ssr=\"false\"\n",
            "  datta-attempted-ssr=\"false\"\n",
            ">\n",
            "  \n",
            "  <script type=\"application/json\" data-target=\"react-partial.embeddedData\">{\"props\":{\"docsUrl\":\"https://docs.github.com/get-started/accessibility/keyboard-shortcuts\"}}</script>\n",
            "  <div data-target=\"react-partial.reactRoot\"></div>\n",
            "</react-partial>\n",
            "\n",
            "\n",
            "\n",
            "\n",
            "      \n",
            "\n",
            "          \n",
            "\n",
            "              \n",
            "<script crossorigin=\"anonymous\" defer=\"defer\" type=\"application/javascript\" src=\"https://github.githubassets.com/assets/vendors-node_modules_github_remote-form_dist_index_js-node_modules_delegated-events_dist_inde-94fd67-9a621ecbf672.js\"></script>\n",
            "<script crossorigin=\"anonymous\" defer=\"defer\" type=\"application/javascript\" src=\"https://github.githubassets.com/assets/sessions-f3ddee0032e4.js\"></script>\n",
            "<header class=\"HeaderMktg header-logged-out js-details-container js-header Details position-relative f4 py-3\" role=\"banner\" data-color-mode=light data-light-theme=light data-dark-theme=dark>\n",
            "  <h2 class=\"sr-only\">Navigation Menu</h2>\n",
            "\n",
            "  <button type=\"button\" class=\"HeaderMktg-backdrop d-lg-none border-0 position-fixed top-0 left-0 width-full height-full js-details-target\" aria-label=\"Toggle navigation\">\n",
            "    <span class=\"d-none\">Toggle navigation</span>\n",
            "  </button>\n",
            "\n",
            "  <div class=\"d-flex flex-column flex-lg-row flex-items-center px-3 px-md-4 px-lg-5 height-full position-relative z-1\">\n",
            "    <div class=\"d-flex flex-justify-between flex-items-center width-full width-lg-auto\">\n",
            "      <div class=\"flex-1\">\n",
            "        <button aria-label=\"Toggle navigation\" aria-expanded=\"false\" type=\"button\" data-view-component=\"true\" class=\"js-details-target js-nav-padding-recalculate js-header-menu-toggle Button--link Button--medium Button d-lg-none color-fg-inherit p-1\">  <span class=\"Button-content\">\n",
            "    <span class=\"Button-label\"><div class=\"HeaderMenu-toggle-bar rounded my-1\"></div>\n",
            "            <div class=\"HeaderMenu-toggle-bar rounded my-1\"></div>\n",
            "            <div class=\"HeaderMenu-toggle-bar rounded my-1\"></div></span>\n",
            "  </span>\n",
            "</button>\n",
            "      </div>\n",
            "\n",
            "      <a class=\"mr-lg-3 color-fg-inherit flex-order-2 js-prevent-focus-on-mobile-nav\"\n",
            "        href=\"/\"\n",
            "        aria-label=\"Homepage\"\n",
            "        data-analytics-event=\"{&quot;category&quot;:&quot;Marketing nav&quot;,&quot;action&quot;:&quot;click to go to homepage&quot;,&quot;label&quot;:&quot;ref_page:Marketing;ref_cta:Logomark;ref_loc:Header&quot;}\">\n",
            "        <svg height=\"32\" aria-hidden=\"true\" viewBox=\"0 0 24 24\" version=\"1.1\" width=\"32\" data-view-component=\"true\" class=\"octicon octicon-mark-github\">\n",
            "    <path d=\"M12.5.75C6.146.75 1 5.896 1 12.25c0 5.089 3.292 9.387 7.863 10.91.575.101.79-.244.79-.546 0-.273-.014-1.178-.014-2.142-2.889.532-3.636-.704-3.866-1.35-.13-.331-.69-1.352-1.18-1.625-.402-.216-.977-.748-.014-.762.906-.014 1.553.834 1.769 1.179 1.035 1.74 2.688 1.25 3.349.948.1-.747.402-1.25.733-1.538-2.559-.287-5.232-1.279-5.232-5.678 0-1.25.445-2.285 1.178-3.09-.115-.288-.517-1.467.115-3.048 0 0 .963-.302 3.163 1.179.92-.259 1.897-.388 2.875-.388.977 0 1.955.13 2.875.388 2.2-1.495 3.162-1.179 3.162-1.179.633 1.581.23 2.76.115 3.048.733.805 1.179 1.825 1.179 3.09 0 4.413-2.688 5.39-5.247 5.678.417.36.776 1.05.776 2.128 0 1.538-.014 2.774-.014 3.162 0 .302.216.662.79.547C20.709 21.637 24 17.324 24 12.25 24 5.896 18.854.75 12.5.75Z\"></path>\n",
            "</svg>\n",
            "      </a>\n",
            "\n",
            "      <div class=\"flex-1 flex-order-2 text-right\">\n",
            "          <a\n",
            "            href=\"/login?return_to=https%3A%2F%2Fgithub.com%2Fniteen82%2Fspark-scala%2Fblob%2Fmain%2Fcars.csv\"\n",
            "            class=\"HeaderMenu-link HeaderMenu-button d-inline-flex d-lg-none flex-order-1 f5 no-underline border color-border-default rounded-2 px-2 py-1 color-fg-inherit js-prevent-focus-on-mobile-nav\"\n",
            "            data-hydro-click=\"{&quot;event_type&quot;:&quot;authentication.click&quot;,&quot;payload&quot;:{&quot;location_in_page&quot;:&quot;site header menu&quot;,&quot;repository_id&quot;:null,&quot;auth_type&quot;:&quot;SIGN_UP&quot;,&quot;originating_url&quot;:&quot;https://github.com/niteen82/spark-scala/blob/main/cars.csv&quot;,&quot;user_id&quot;:null}}\" data-hydro-click-hmac=\"5111aff86b22a5318e49bcb1faeb7493d29edba3f21b807873252d1fb5ab20d1\"\n",
            "            data-analytics-event=\"{&quot;category&quot;:&quot;Marketing nav&quot;,&quot;action&quot;:&quot;click to Sign in&quot;,&quot;label&quot;:&quot;ref_page:Marketing;ref_cta:Sign in;ref_loc:Header&quot;}\"\n",
            "          >\n",
            "            Sign in\n",
            "          </a>\n",
            "      </div>\n",
            "    </div>\n",
            "\n",
            "\n",
            "    <div class=\"HeaderMenu js-header-menu height-fit position-lg-relative d-lg-flex flex-column flex-auto top-0\">\n",
            "      <div class=\"HeaderMenu-wrapper d-flex flex-column flex-self-start flex-lg-row flex-auto rounded rounded-lg-0\">\n",
            "          <nav class=\"HeaderMenu-nav\" aria-label=\"Global\">\n",
            "            <ul class=\"d-lg-flex list-style-none\">\n",
            "                <li class=\"HeaderMenu-item position-relative flex-wrap flex-justify-between flex-items-center d-block d-lg-flex flex-lg-nowrap flex-lg-items-center js-details-container js-header-menu-item\">\n",
            "      <button type=\"button\" class=\"HeaderMenu-link border-0 width-full width-lg-auto px-0 px-lg-2 py-lg-2 no-wrap d-flex flex-items-center flex-justify-between js-details-target\" aria-expanded=\"false\">\n",
            "        Product\n",
            "        <svg opacity=\"0.5\" aria-hidden=\"true\" height=\"16\" viewBox=\"0 0 16 16\" version=\"1.1\" width=\"16\" data-view-component=\"true\" class=\"octicon octicon-chevron-down HeaderMenu-icon ml-1\">\n",
            "    <path d=\"M12.78 5.22a.749.749 0 0 1 0 1.06l-4.25 4.25a.749.749 0 0 1-1.06 0L3.22 6.28a.749.749 0 1 1 1.06-1.06L8 8.939l3.72-3.719a.749.749 0 0 1 1.06 0Z\"></path>\n",
            "</svg>\n",
            "      </button>\n",
            "      <div class=\"HeaderMenu-dropdown dropdown-menu rounded m-0 p-0 py-2 py-lg-4 position-relative position-lg-absolute left-0 left-lg-n3 d-lg-flex dropdown-menu-wide\">\n",
            "          <div class=\"px-lg-4 border-lg-right mb-4 mb-lg-0 pr-lg-7\">\n",
            "            <ul class=\"list-style-none f5\" >\n",
            "                <li>\n",
            "  <a class=\"HeaderMenu-dropdown-link d-block no-underline position-relative py-2 Link--secondary d-flex flex-items-center Link--has-description pb-lg-3\" data-analytics-event=\"{&quot;location&quot;:&quot;navbar&quot;,&quot;action&quot;:&quot;actions&quot;,&quot;context&quot;:&quot;product&quot;,&quot;tag&quot;:&quot;link&quot;,&quot;label&quot;:&quot;actions_link_product_navbar&quot;}\" href=\"https://github.com/features/actions\">\n",
            "      <svg aria-hidden=\"true\" height=\"24\" viewBox=\"0 0 24 24\" version=\"1.1\" width=\"24\" data-view-component=\"true\" class=\"octicon octicon-workflow color-fg-subtle mr-3\">\n",
            "    <path d=\"M1 3a2 2 0 0 1 2-2h6.5a2 2 0 0 1 2 2v6.5a2 2 0 0 1-2 2H7v4.063C7 16.355 7.644 17 8.438 17H12.5v-2.5a2 2 0 0 1 2-2H21a2 2 0 0 1 2 2V21a2 2 0 0 1-2 2h-6.5a2 2 0 0 1-2-2v-2.5H8.437A2.939 2.939 0 0 1 5.5 15.562V11.5H3a2 2 0 0 1-2-2Zm2-.5a.5.5 0 0 0-.5.5v6.5a.5.5 0 0 0 .5.5h6.5a.5.5 0 0 0 .5-.5V3a.5.5 0 0 0-.5-.5ZM14.5 14a.5.5 0 0 0-.5.5V21a.5.5 0 0 0 .5.5H21a.5.5 0 0 0 .5-.5v-6.5a.5.5 0 0 0-.5-.5Z\"></path>\n",
            "</svg>\n",
            "      <div>\n",
            "        <div class=\"color-fg-default h4\">Actions</div>\n",
            "        Automate any workflow\n",
            "      </div>\n",
            "\n",
            "    \n",
            "</a></li>\n",
            "\n",
            "                <li>\n",
            "  <a class=\"HeaderMenu-dropdown-link d-block no-underline position-relative py-2 Link--secondary d-flex flex-items-center Link--has-description pb-lg-3\" data-analytics-event=\"{&quot;location&quot;:&quot;navbar&quot;,&quot;action&quot;:&quot;packages&quot;,&quot;context&quot;:&quot;product&quot;,&quot;tag&quot;:&quot;link&quot;,&quot;label&quot;:&quot;packages_link_product_navbar&quot;}\" href=\"https://github.com/features/packages\">\n",
            "      <svg aria-hidden=\"true\" height=\"24\" viewBox=\"0 0 24 24\" version=\"1.1\" width=\"24\" data-view-component=\"true\" class=\"octicon octicon-package color-fg-subtle mr-3\">\n",
            "    <path d=\"M12.876.64V.639l8.25 4.763c.541.313.875.89.875 1.515v9.525a1.75 1.75 0 0 1-.875 1.516l-8.25 4.762a1.748 1.748 0 0 1-1.75 0l-8.25-4.763a1.75 1.75 0 0 1-.875-1.515V6.917c0-.625.334-1.202.875-1.515L11.126.64a1.748 1.748 0 0 1 1.75 0Zm-1 1.298L4.251 6.34l7.75 4.474 7.75-4.474-7.625-4.402a.248.248 0 0 0-.25 0Zm.875 19.123 7.625-4.402a.25.25 0 0 0 .125-.216V7.639l-7.75 4.474ZM3.501 7.64v8.803c0 .09.048.172.125.216l7.625 4.402v-8.947Z\"></path>\n",
            "</svg>\n",
            "      <div>\n",
            "        <div class=\"color-fg-default h4\">Packages</div>\n",
            "        Host and manage packages\n",
            "      </div>\n",
            "\n",
            "    \n",
            "</a></li>\n",
            "\n",
            "                <li>\n",
            "  <a class=\"HeaderMenu-dropdown-link d-block no-underline position-relative py-2 Link--secondary d-flex flex-items-center Link--has-description pb-lg-3\" data-analytics-event=\"{&quot;location&quot;:&quot;navbar&quot;,&quot;action&quot;:&quot;security&quot;,&quot;context&quot;:&quot;product&quot;,&quot;tag&quot;:&quot;link&quot;,&quot;label&quot;:&quot;security_link_product_navbar&quot;}\" href=\"https://github.com/features/security\">\n",
            "      <svg aria-hidden=\"true\" height=\"24\" viewBox=\"0 0 24 24\" version=\"1.1\" width=\"24\" data-view-component=\"true\" class=\"octicon octicon-shield-check color-fg-subtle mr-3\">\n",
            "    <path d=\"M16.53 9.78a.75.75 0 0 0-1.06-1.06L11 13.19l-1.97-1.97a.75.75 0 0 0-1.06 1.06l2.5 2.5a.75.75 0 0 0 1.06 0l5-5Z\"></path><path d=\"m12.54.637 8.25 2.675A1.75 1.75 0 0 1 22 4.976V10c0 6.19-3.771 10.704-9.401 12.83a1.704 1.704 0 0 1-1.198 0C5.77 20.705 2 16.19 2 10V4.976c0-.758.489-1.43 1.21-1.664L11.46.637a1.748 1.748 0 0 1 1.08 0Zm-.617 1.426-8.25 2.676a.249.249 0 0 0-.173.237V10c0 5.46 3.28 9.483 8.43 11.426a.199.199 0 0 0 .14 0C17.22 19.483 20.5 15.461 20.5 10V4.976a.25.25 0 0 0-.173-.237l-8.25-2.676a.253.253 0 0 0-.154 0Z\"></path>\n",
            "</svg>\n",
            "      <div>\n",
            "        <div class=\"color-fg-default h4\">Security</div>\n",
            "        Find and fix vulnerabilities\n",
            "      </div>\n",
            "\n",
            "    \n",
            "</a></li>\n",
            "\n",
            "                <li>\n",
            "  <a class=\"HeaderMenu-dropdown-link d-block no-underline position-relative py-2 Link--secondary d-flex flex-items-center Link--has-description pb-lg-3\" data-analytics-event=\"{&quot;location&quot;:&quot;navbar&quot;,&quot;action&quot;:&quot;codespaces&quot;,&quot;context&quot;:&quot;product&quot;,&quot;tag&quot;:&quot;link&quot;,&quot;label&quot;:&quot;codespaces_link_product_navbar&quot;}\" href=\"https://github.com/features/codespaces\">\n",
            "      <svg aria-hidden=\"true\" height=\"24\" viewBox=\"0 0 24 24\" version=\"1.1\" width=\"24\" data-view-component=\"true\" class=\"octicon octicon-codespaces color-fg-subtle mr-3\">\n",
            "    <path d=\"M3.5 3.75C3.5 2.784 4.284 2 5.25 2h13.5c.966 0 1.75.784 1.75 1.75v7.5A1.75 1.75 0 0 1 18.75 13H5.25a1.75 1.75 0 0 1-1.75-1.75Zm-2 12c0-.966.784-1.75 1.75-1.75h17.5c.966 0 1.75.784 1.75 1.75v4a1.75 1.75 0 0 1-1.75 1.75H3.25a1.75 1.75 0 0 1-1.75-1.75ZM5.25 3.5a.25.25 0 0 0-.25.25v7.5c0 .138.112.25.25.25h13.5a.25.25 0 0 0 .25-.25v-7.5a.25.25 0 0 0-.25-.25Zm-2 12a.25.25 0 0 0-.25.25v4c0 .138.112.25.25.25h17.5a.25.25 0 0 0 .25-.25v-4a.25.25 0 0 0-.25-.25Z\"></path><path d=\"M10 17.75a.75.75 0 0 1 .75-.75h6.5a.75.75 0 0 1 0 1.5h-6.5a.75.75 0 0 1-.75-.75Zm-4 0a.75.75 0 0 1 .75-.75h.5a.75.75 0 0 1 0 1.5h-.5a.75.75 0 0 1-.75-.75Z\"></path>\n",
            "</svg>\n",
            "      <div>\n",
            "        <div class=\"color-fg-default h4\">Codespaces</div>\n",
            "        Instant dev environments\n",
            "      </div>\n",
            "\n",
            "    \n",
            "</a></li>\n",
            "\n",
            "                <li>\n",
            "  <a class=\"HeaderMenu-dropdown-link d-block no-underline position-relative py-2 Link--secondary d-flex flex-items-center Link--has-description pb-lg-3\" data-analytics-event=\"{&quot;location&quot;:&quot;navbar&quot;,&quot;action&quot;:&quot;github_copilot&quot;,&quot;context&quot;:&quot;product&quot;,&quot;tag&quot;:&quot;link&quot;,&quot;label&quot;:&quot;github_copilot_link_product_navbar&quot;}\" href=\"https://github.com/features/copilot\">\n",
            "      <svg aria-hidden=\"true\" height=\"24\" viewBox=\"0 0 24 24\" version=\"1.1\" width=\"24\" data-view-component=\"true\" class=\"octicon octicon-copilot color-fg-subtle mr-3\">\n",
            "    <path d=\"M23.922 16.992c-.861 1.495-5.859 5.023-11.922 5.023-6.063 0-11.061-3.528-11.922-5.023A.641.641 0 0 1 0 16.736v-2.869a.841.841 0 0 1 .053-.22c.372-.935 1.347-2.292 2.605-2.656.167-.429.414-1.055.644-1.517a10.195 10.195 0 0 1-.052-1.086c0-1.331.282-2.499 1.132-3.368.397-.406.89-.717 1.474-.952 1.399-1.136 3.392-2.093 6.122-2.093 2.731 0 4.767.957 6.166 2.093.584.235 1.077.546 1.474.952.85.869 1.132 2.037 1.132 3.368 0 .368-.014.733-.052 1.086.23.462.477 1.088.644 1.517 1.258.364 2.233 1.721 2.605 2.656a.832.832 0 0 1 .053.22v2.869a.641.641 0 0 1-.078.256ZM12.172 11h-.344a4.323 4.323 0 0 1-.355.508C10.703 12.455 9.555 13 7.965 13c-1.725 0-2.989-.359-3.782-1.259a2.005 2.005 0 0 1-.085-.104L4 11.741v6.585c1.435.779 4.514 2.179 8 2.179 3.486 0 6.565-1.4 8-2.179v-6.585l-.098-.104s-.033.045-.085.104c-.793.9-2.057 1.259-3.782 1.259-1.59 0-2.738-.545-3.508-1.492a4.323 4.323 0 0 1-.355-.508h-.016.016Zm.641-2.935c.136 1.057.403 1.913.878 2.497.442.544 1.134.938 2.344.938 1.573 0 2.292-.337 2.657-.751.384-.435.558-1.15.558-2.361 0-1.14-.243-1.847-.705-2.319-.477-.488-1.319-.862-2.824-1.025-1.487-.161-2.192.138-2.533.529-.269.307-.437.808-.438 1.578v.021c0 .265.021.562.063.893Zm-1.626 0c.042-.331.063-.628.063-.894v-.02c-.001-.77-.169-1.271-.438-1.578-.341-.391-1.046-.69-2.533-.529-1.505.163-2.347.537-2.824 1.025-.462.472-.705 1.179-.705 2.319 0 1.211.175 1.926.558 2.361.365.414 1.084.751 2.657.751 1.21 0 1.902-.394 2.344-.938.475-.584.742-1.44.878-2.497Z\"></path><path d=\"M14.5 14.25a1 1 0 0 1 1 1v2a1 1 0 0 1-2 0v-2a1 1 0 0 1 1-1Zm-5 0a1 1 0 0 1 1 1v2a1 1 0 0 1-2 0v-2a1 1 0 0 1 1-1Z\"></path>\n",
            "</svg>\n",
            "      <div>\n",
            "        <div class=\"color-fg-default h4\">GitHub Copilot</div>\n",
            "        Write better code with AI\n",
            "      </div>\n",
            "\n",
            "    \n",
            "</a></li>\n",
            "\n",
            "                <li>\n",
            "  <a class=\"HeaderMenu-dropdown-link d-block no-underline position-relative py-2 Link--secondary d-flex flex-items-center Link--has-description pb-lg-3\" data-analytics-event=\"{&quot;location&quot;:&quot;navbar&quot;,&quot;action&quot;:&quot;code_review&quot;,&quot;context&quot;:&quot;product&quot;,&quot;tag&quot;:&quot;link&quot;,&quot;label&quot;:&quot;code_review_link_product_navbar&quot;}\" href=\"https://github.com/features/code-review\">\n",
            "      <svg aria-hidden=\"true\" height=\"24\" viewBox=\"0 0 24 24\" version=\"1.1\" width=\"24\" data-view-component=\"true\" class=\"octicon octicon-code-review color-fg-subtle mr-3\">\n",
            "    <path d=\"M10.3 6.74a.75.75 0 0 1-.04 1.06l-2.908 2.7 2.908 2.7a.75.75 0 1 1-1.02 1.1l-3.5-3.25a.75.75 0 0 1 0-1.1l3.5-3.25a.75.75 0 0 1 1.06.04Zm3.44 1.06a.75.75 0 1 1 1.02-1.1l3.5 3.25a.75.75 0 0 1 0 1.1l-3.5 3.25a.75.75 0 1 1-1.02-1.1l2.908-2.7-2.908-2.7Z\"></path><path d=\"M1.5 4.25c0-.966.784-1.75 1.75-1.75h17.5c.966 0 1.75.784 1.75 1.75v12.5a1.75 1.75 0 0 1-1.75 1.75h-9.69l-3.573 3.573A1.458 1.458 0 0 1 5 21.043V18.5H3.25a1.75 1.75 0 0 1-1.75-1.75ZM3.25 4a.25.25 0 0 0-.25.25v12.5c0 .138.112.25.25.25h2.5a.75.75 0 0 1 .75.75v3.19l3.72-3.72a.749.749 0 0 1 .53-.22h10a.25.25 0 0 0 .25-.25V4.25a.25.25 0 0 0-.25-.25Z\"></path>\n",
            "</svg>\n",
            "      <div>\n",
            "        <div class=\"color-fg-default h4\">Code review</div>\n",
            "        Manage code changes\n",
            "      </div>\n",
            "\n",
            "    \n",
            "</a></li>\n",
            "\n",
            "                <li>\n",
            "  <a class=\"HeaderMenu-dropdown-link d-block no-underline position-relative py-2 Link--secondary d-flex flex-items-center Link--has-description pb-lg-3\" data-analytics-event=\"{&quot;location&quot;:&quot;navbar&quot;,&quot;action&quot;:&quot;issues&quot;,&quot;context&quot;:&quot;product&quot;,&quot;tag&quot;:&quot;link&quot;,&quot;label&quot;:&quot;issues_link_product_navbar&quot;}\" href=\"https://github.com/features/issues\">\n",
            "      <svg aria-hidden=\"true\" height=\"24\" viewBox=\"0 0 24 24\" version=\"1.1\" width=\"24\" data-view-component=\"true\" class=\"octicon octicon-issue-opened color-fg-subtle mr-3\">\n",
            "    <path d=\"M12 1c6.075 0 11 4.925 11 11s-4.925 11-11 11S1 18.075 1 12 5.925 1 12 1ZM2.5 12a9.5 9.5 0 0 0 9.5 9.5 9.5 9.5 0 0 0 9.5-9.5A9.5 9.5 0 0 0 12 2.5 9.5 9.5 0 0 0 2.5 12Zm9.5 2a2 2 0 1 1-.001-3.999A2 2 0 0 1 12 14Z\"></path>\n",
            "</svg>\n",
            "      <div>\n",
            "        <div class=\"color-fg-default h4\">Issues</div>\n",
            "        Plan and track work\n",
            "      </div>\n",
            "\n",
            "    \n",
            "</a></li>\n",
            "\n",
            "                <li>\n",
            "  <a class=\"HeaderMenu-dropdown-link d-block no-underline position-relative py-2 Link--secondary d-flex flex-items-center Link--has-description\" data-analytics-event=\"{&quot;location&quot;:&quot;navbar&quot;,&quot;action&quot;:&quot;discussions&quot;,&quot;context&quot;:&quot;product&quot;,&quot;tag&quot;:&quot;link&quot;,&quot;label&quot;:&quot;discussions_link_product_navbar&quot;}\" href=\"https://github.com/features/discussions\">\n",
            "      <svg aria-hidden=\"true\" height=\"24\" viewBox=\"0 0 24 24\" version=\"1.1\" width=\"24\" data-view-component=\"true\" class=\"octicon octicon-comment-discussion color-fg-subtle mr-3\">\n",
            "    <path d=\"M1.75 1h12.5c.966 0 1.75.784 1.75 1.75v9.5A1.75 1.75 0 0 1 14.25 14H8.061l-2.574 2.573A1.458 1.458 0 0 1 3 15.543V14H1.75A1.75 1.75 0 0 1 0 12.25v-9.5C0 1.784.784 1 1.75 1ZM1.5 2.75v9.5c0 .138.112.25.25.25h2a.75.75 0 0 1 .75.75v2.19l2.72-2.72a.749.749 0 0 1 .53-.22h6.5a.25.25 0 0 0 .25-.25v-9.5a.25.25 0 0 0-.25-.25H1.75a.25.25 0 0 0-.25.25Z\"></path><path d=\"M22.5 8.75a.25.25 0 0 0-.25-.25h-3.5a.75.75 0 0 1 0-1.5h3.5c.966 0 1.75.784 1.75 1.75v9.5A1.75 1.75 0 0 1 22.25 20H21v1.543a1.457 1.457 0 0 1-2.487 1.03L15.939 20H10.75A1.75 1.75 0 0 1 9 18.25v-1.465a.75.75 0 0 1 1.5 0v1.465c0 .138.112.25.25.25h5.5a.75.75 0 0 1 .53.22l2.72 2.72v-2.19a.75.75 0 0 1 .75-.75h2a.25.25 0 0 0 .25-.25v-9.5Z\"></path>\n",
            "</svg>\n",
            "      <div>\n",
            "        <div class=\"color-fg-default h4\">Discussions</div>\n",
            "        Collaborate outside of code\n",
            "      </div>\n",
            "\n",
            "    \n",
            "</a></li>\n",
            "\n",
            "            </ul>\n",
            "          </div>\n",
            "          <div class=\"px-lg-4\">\n",
            "                <span class=\"d-block h4 color-fg-default my-1\" id=\"product-explore-heading\">Explore</span>\n",
            "            <ul class=\"list-style-none f5\" aria-labelledby=\"product-explore-heading\">\n",
            "                <li>\n",
            "  <a class=\"HeaderMenu-dropdown-link d-block no-underline position-relative py-2 Link--secondary\" data-analytics-event=\"{&quot;location&quot;:&quot;navbar&quot;,&quot;action&quot;:&quot;all_features&quot;,&quot;context&quot;:&quot;product&quot;,&quot;tag&quot;:&quot;link&quot;,&quot;label&quot;:&quot;all_features_link_product_navbar&quot;}\" href=\"https://github.com/features\">\n",
            "      All features\n",
            "\n",
            "    \n",
            "</a></li>\n",
            "\n",
            "                <li>\n",
            "  <a class=\"HeaderMenu-dropdown-link d-block no-underline position-relative py-2 Link--secondary Link--external\" target=\"_blank\" data-analytics-event=\"{&quot;location&quot;:&quot;navbar&quot;,&quot;action&quot;:&quot;documentation&quot;,&quot;context&quot;:&quot;product&quot;,&quot;tag&quot;:&quot;link&quot;,&quot;label&quot;:&quot;documentation_link_product_navbar&quot;}\" href=\"https://docs.github.com\">\n",
            "      Documentation\n",
            "\n",
            "    <svg aria-hidden=\"true\" height=\"16\" viewBox=\"0 0 16 16\" version=\"1.1\" width=\"16\" data-view-component=\"true\" class=\"octicon octicon-link-external HeaderMenu-external-icon color-fg-subtle\">\n",
            "    <path d=\"M3.75 2h3.5a.75.75 0 0 1 0 1.5h-3.5a.25.25 0 0 0-.25.25v8.5c0 .138.112.25.25.25h8.5a.25.25 0 0 0 .25-.25v-3.5a.75.75 0 0 1 1.5 0v3.5A1.75 1.75 0 0 1 12.25 14h-8.5A1.75 1.75 0 0 1 2 12.25v-8.5C2 2.784 2.784 2 3.75 2Zm6.854-1h4.146a.25.25 0 0 1 .25.25v4.146a.25.25 0 0 1-.427.177L13.03 4.03 9.28 7.78a.751.751 0 0 1-1.042-.018.751.751 0 0 1-.018-1.042l3.75-3.75-1.543-1.543A.25.25 0 0 1 10.604 1Z\"></path>\n",
            "</svg>\n",
            "</a></li>\n",
            "\n",
            "                <li>\n",
            "  <a class=\"HeaderMenu-dropdown-link d-block no-underline position-relative py-2 Link--secondary Link--external\" target=\"_blank\" data-analytics-event=\"{&quot;location&quot;:&quot;navbar&quot;,&quot;action&quot;:&quot;github_skills&quot;,&quot;context&quot;:&quot;product&quot;,&quot;tag&quot;:&quot;link&quot;,&quot;label&quot;:&quot;github_skills_link_product_navbar&quot;}\" href=\"https://skills.github.com\">\n",
            "      GitHub Skills\n",
            "\n",
            "    <svg aria-hidden=\"true\" height=\"16\" viewBox=\"0 0 16 16\" version=\"1.1\" width=\"16\" data-view-component=\"true\" class=\"octicon octicon-link-external HeaderMenu-external-icon color-fg-subtle\">\n",
            "    <path d=\"M3.75 2h3.5a.75.75 0 0 1 0 1.5h-3.5a.25.25 0 0 0-.25.25v8.5c0 .138.112.25.25.25h8.5a.25.25 0 0 0 .25-.25v-3.5a.75.75 0 0 1 1.5 0v3.5A1.75 1.75 0 0 1 12.25 14h-8.5A1.75 1.75 0 0 1 2 12.25v-8.5C2 2.784 2.784 2 3.75 2Zm6.854-1h4.146a.25.25 0 0 1 .25.25v4.146a.25.25 0 0 1-.427.177L13.03 4.03 9.28 7.78a.751.751 0 0 1-1.042-.018.751.751 0 0 1-.018-1.042l3.75-3.75-1.543-1.543A.25.25 0 0 1 10.604 1Z\"></path>\n",
            "</svg>\n",
            "</a></li>\n",
            "\n",
            "                <li>\n",
            "  <a class=\"HeaderMenu-dropdown-link d-block no-underline position-relative py-2 Link--secondary Link--external\" target=\"_blank\" data-analytics-event=\"{&quot;location&quot;:&quot;navbar&quot;,&quot;action&quot;:&quot;blog&quot;,&quot;context&quot;:&quot;product&quot;,&quot;tag&quot;:&quot;link&quot;,&quot;label&quot;:&quot;blog_link_product_navbar&quot;}\" href=\"https://github.blog\">\n",
            "      Blog\n",
            "\n",
            "    <svg aria-hidden=\"true\" height=\"16\" viewBox=\"0 0 16 16\" version=\"1.1\" width=\"16\" data-view-component=\"true\" class=\"octicon octicon-link-external HeaderMenu-external-icon color-fg-subtle\">\n",
            "    <path d=\"M3.75 2h3.5a.75.75 0 0 1 0 1.5h-3.5a.25.25 0 0 0-.25.25v8.5c0 .138.112.25.25.25h8.5a.25.25 0 0 0 .25-.25v-3.5a.75.75 0 0 1 1.5 0v3.5A1.75 1.75 0 0 1 12.25 14h-8.5A1.75 1.75 0 0 1 2 12.25v-8.5C2 2.784 2.784 2 3.75 2Zm6.854-1h4.146a.25.25 0 0 1 .25.25v4.146a.25.25 0 0 1-.427.177L13.03 4.03 9.28 7.78a.751.751 0 0 1-1.042-.018.751.751 0 0 1-.018-1.042l3.75-3.75-1.543-1.543A.25.25 0 0 1 10.604 1Z\"></path>\n",
            "</svg>\n",
            "</a></li>\n",
            "\n",
            "            </ul>\n",
            "          </div>\n",
            "      </div>\n",
            "</li>\n",
            "\n",
            "                  <li class=\"HeaderMenu-item position-relative flex-wrap flex-justify-between flex-items-center d-block d-lg-flex flex-lg-nowrap flex-lg-items-center js-details-container js-header-menu-item\">\n",
            "      <button type=\"button\" class=\"HeaderMenu-link border-0 width-full width-lg-auto px-0 px-lg-2 py-lg-2 no-wrap d-flex flex-items-center flex-justify-between js-details-target\" aria-expanded=\"false\">\n",
            "        Solutions\n",
            "        <svg opacity=\"0.5\" aria-hidden=\"true\" height=\"16\" viewBox=\"0 0 16 16\" version=\"1.1\" width=\"16\" data-view-component=\"true\" class=\"octicon octicon-chevron-down HeaderMenu-icon ml-1\">\n",
            "    <path d=\"M12.78 5.22a.749.749 0 0 1 0 1.06l-4.25 4.25a.749.749 0 0 1-1.06 0L3.22 6.28a.749.749 0 1 1 1.06-1.06L8 8.939l3.72-3.719a.749.749 0 0 1 1.06 0Z\"></path>\n",
            "</svg>\n",
            "      </button>\n",
            "      <div class=\"HeaderMenu-dropdown dropdown-menu rounded m-0 p-0 py-2 py-lg-4 position-relative position-lg-absolute left-0 left-lg-n3 px-lg-4\">\n",
            "          <div class=\"border-bottom pb-3 mb-3\">\n",
            "                <span class=\"d-block h4 color-fg-default my-1\" id=\"solutions-by-size-heading\">By size</span>\n",
            "            <ul class=\"list-style-none f5\" aria-labelledby=\"solutions-by-size-heading\">\n",
            "                <li>\n",
            "  <a class=\"HeaderMenu-dropdown-link d-block no-underline position-relative py-2 Link--secondary\" data-analytics-event=\"{&quot;location&quot;:&quot;navbar&quot;,&quot;action&quot;:&quot;enterprise&quot;,&quot;context&quot;:&quot;solutions&quot;,&quot;tag&quot;:&quot;link&quot;,&quot;label&quot;:&quot;enterprise_link_solutions_navbar&quot;}\" href=\"https://github.com/enterprise\">\n",
            "      Enterprise\n",
            "\n",
            "    \n",
            "</a></li>\n",
            "\n",
            "                <li>\n",
            "  <a class=\"HeaderMenu-dropdown-link d-block no-underline position-relative py-2 Link--secondary\" data-analytics-event=\"{&quot;location&quot;:&quot;navbar&quot;,&quot;action&quot;:&quot;teams&quot;,&quot;context&quot;:&quot;solutions&quot;,&quot;tag&quot;:&quot;link&quot;,&quot;label&quot;:&quot;teams_link_solutions_navbar&quot;}\" href=\"https://github.com/team\">\n",
            "      Teams\n",
            "\n",
            "    \n",
            "</a></li>\n",
            "\n",
            "                <li>\n",
            "  <a class=\"HeaderMenu-dropdown-link d-block no-underline position-relative py-2 Link--secondary\" data-analytics-event=\"{&quot;location&quot;:&quot;navbar&quot;,&quot;action&quot;:&quot;startups&quot;,&quot;context&quot;:&quot;solutions&quot;,&quot;tag&quot;:&quot;link&quot;,&quot;label&quot;:&quot;startups_link_solutions_navbar&quot;}\" href=\"https://github.com/enterprise/startups\">\n",
            "      Startups\n",
            "\n",
            "    \n",
            "</a></li>\n",
            "\n",
            "            </ul>\n",
            "          </div>\n",
            "          <div class=\"border-bottom pb-3 mb-3\">\n",
            "                <span class=\"d-block h4 color-fg-default my-1\" id=\"solutions-by-industry-heading\">By industry</span>\n",
            "            <ul class=\"list-style-none f5\" aria-labelledby=\"solutions-by-industry-heading\">\n",
            "                <li>\n",
            "  <a class=\"HeaderMenu-dropdown-link d-block no-underline position-relative py-2 Link--secondary\" data-analytics-event=\"{&quot;location&quot;:&quot;navbar&quot;,&quot;action&quot;:&quot;healthcare&quot;,&quot;context&quot;:&quot;solutions&quot;,&quot;tag&quot;:&quot;link&quot;,&quot;label&quot;:&quot;healthcare_link_solutions_navbar&quot;}\" href=\"https://github.com/solutions/industries/healthcare\">\n",
            "      Healthcare\n",
            "\n",
            "    \n",
            "</a></li>\n",
            "\n",
            "                <li>\n",
            "  <a class=\"HeaderMenu-dropdown-link d-block no-underline position-relative py-2 Link--secondary\" data-analytics-event=\"{&quot;location&quot;:&quot;navbar&quot;,&quot;action&quot;:&quot;financial_services&quot;,&quot;context&quot;:&quot;solutions&quot;,&quot;tag&quot;:&quot;link&quot;,&quot;label&quot;:&quot;financial_services_link_solutions_navbar&quot;}\" href=\"https://github.com/solutions/industries/financial-services\">\n",
            "      Financial services\n",
            "\n",
            "    \n",
            "</a></li>\n",
            "\n",
            "                <li>\n",
            "  <a class=\"HeaderMenu-dropdown-link d-block no-underline position-relative py-2 Link--secondary\" data-analytics-event=\"{&quot;location&quot;:&quot;navbar&quot;,&quot;action&quot;:&quot;manufacturing&quot;,&quot;context&quot;:&quot;solutions&quot;,&quot;tag&quot;:&quot;link&quot;,&quot;label&quot;:&quot;manufacturing_link_solutions_navbar&quot;}\" href=\"https://github.com/solutions/industries/manufacturing\">\n",
            "      Manufacturing\n",
            "\n",
            "    \n",
            "</a></li>\n",
            "\n",
            "            </ul>\n",
            "          </div>\n",
            "          <div class=\"\">\n",
            "                <span class=\"d-block h4 color-fg-default my-1\" id=\"solutions-by-use-case-heading\">By use case</span>\n",
            "            <ul class=\"list-style-none f5\" aria-labelledby=\"solutions-by-use-case-heading\">\n",
            "                <li>\n",
            "  <a class=\"HeaderMenu-dropdown-link d-block no-underline position-relative py-2 Link--secondary\" data-analytics-event=\"{&quot;location&quot;:&quot;navbar&quot;,&quot;action&quot;:&quot;ci_cd_amp_automation&quot;,&quot;context&quot;:&quot;solutions&quot;,&quot;tag&quot;:&quot;link&quot;,&quot;label&quot;:&quot;ci_cd_amp_automation_link_solutions_navbar&quot;}\" href=\"https://github.com/solutions/ci-cd\">\n",
            "      CI/CD &amp; Automation\n",
            "\n",
            "    \n",
            "</a></li>\n",
            "\n",
            "                <li>\n",
            "  <a class=\"HeaderMenu-dropdown-link d-block no-underline position-relative py-2 Link--secondary\" data-analytics-event=\"{&quot;location&quot;:&quot;navbar&quot;,&quot;action&quot;:&quot;devops&quot;,&quot;context&quot;:&quot;solutions&quot;,&quot;tag&quot;:&quot;link&quot;,&quot;label&quot;:&quot;devops_link_solutions_navbar&quot;}\" href=\"https://github.com/solutions/devops\">\n",
            "      DevOps\n",
            "\n",
            "    \n",
            "</a></li>\n",
            "\n",
            "                <li>\n",
            "  <a class=\"HeaderMenu-dropdown-link d-block no-underline position-relative py-2 Link--secondary\" data-analytics-event=\"{&quot;location&quot;:&quot;navbar&quot;,&quot;action&quot;:&quot;devsecops&quot;,&quot;context&quot;:&quot;solutions&quot;,&quot;tag&quot;:&quot;link&quot;,&quot;label&quot;:&quot;devsecops_link_solutions_navbar&quot;}\" href=\"https://github.com/solutions/devsecops\">\n",
            "      DevSecOps\n",
            "\n",
            "    \n",
            "</a></li>\n",
            "\n",
            "            </ul>\n",
            "          </div>\n",
            "      </div>\n",
            "</li>\n",
            "\n",
            "                  <li class=\"HeaderMenu-item position-relative flex-wrap flex-justify-between flex-items-center d-block d-lg-flex flex-lg-nowrap flex-lg-items-center js-details-container js-header-menu-item\">\n",
            "      <button type=\"button\" class=\"HeaderMenu-link border-0 width-full width-lg-auto px-0 px-lg-2 py-lg-2 no-wrap d-flex flex-items-center flex-justify-between js-details-target\" aria-expanded=\"false\">\n",
            "        Resources\n",
            "        <svg opacity=\"0.5\" aria-hidden=\"true\" height=\"16\" viewBox=\"0 0 16 16\" version=\"1.1\" width=\"16\" data-view-component=\"true\" class=\"octicon octicon-chevron-down HeaderMenu-icon ml-1\">\n",
            "    <path d=\"M12.78 5.22a.749.749 0 0 1 0 1.06l-4.25 4.25a.749.749 0 0 1-1.06 0L3.22 6.28a.749.749 0 1 1 1.06-1.06L8 8.939l3.72-3.719a.749.749 0 0 1 1.06 0Z\"></path>\n",
            "</svg>\n",
            "      </button>\n",
            "      <div class=\"HeaderMenu-dropdown dropdown-menu rounded m-0 p-0 py-2 py-lg-4 position-relative position-lg-absolute left-0 left-lg-n3 d-lg-flex dropdown-menu-wide\">\n",
            "          <div class=\"px-lg-4 border-lg-right mb-4 mb-lg-0 pr-lg-7\">\n",
            "                <span class=\"d-block h4 color-fg-default my-1\" id=\"resources-topics-heading\">Topics</span>\n",
            "            <ul class=\"list-style-none f5\" aria-labelledby=\"resources-topics-heading\">\n",
            "                <li>\n",
            "  <a class=\"HeaderMenu-dropdown-link d-block no-underline position-relative py-2 Link--secondary\" data-analytics-event=\"{&quot;location&quot;:&quot;navbar&quot;,&quot;action&quot;:&quot;ai&quot;,&quot;context&quot;:&quot;resources&quot;,&quot;tag&quot;:&quot;link&quot;,&quot;label&quot;:&quot;ai_link_resources_navbar&quot;}\" href=\"/resources/articles/ai\">\n",
            "      AI\n",
            "\n",
            "    \n",
            "</a></li>\n",
            "\n",
            "                <li>\n",
            "  <a class=\"HeaderMenu-dropdown-link d-block no-underline position-relative py-2 Link--secondary\" data-analytics-event=\"{&quot;location&quot;:&quot;navbar&quot;,&quot;action&quot;:&quot;devops&quot;,&quot;context&quot;:&quot;resources&quot;,&quot;tag&quot;:&quot;link&quot;,&quot;label&quot;:&quot;devops_link_resources_navbar&quot;}\" href=\"/resources/articles/devops\">\n",
            "      DevOps\n",
            "\n",
            "    \n",
            "</a></li>\n",
            "\n",
            "                <li>\n",
            "  <a class=\"HeaderMenu-dropdown-link d-block no-underline position-relative py-2 Link--secondary\" data-analytics-event=\"{&quot;location&quot;:&quot;navbar&quot;,&quot;action&quot;:&quot;security&quot;,&quot;context&quot;:&quot;resources&quot;,&quot;tag&quot;:&quot;link&quot;,&quot;label&quot;:&quot;security_link_resources_navbar&quot;}\" href=\"/resources/articles/security\">\n",
            "      Security\n",
            "\n",
            "    \n",
            "</a></li>\n",
            "\n",
            "                <li>\n",
            "  <a class=\"HeaderMenu-dropdown-link d-block no-underline position-relative py-2 Link--secondary\" data-analytics-event=\"{&quot;location&quot;:&quot;navbar&quot;,&quot;action&quot;:&quot;software_development&quot;,&quot;context&quot;:&quot;resources&quot;,&quot;tag&quot;:&quot;link&quot;,&quot;label&quot;:&quot;software_development_link_resources_navbar&quot;}\" href=\"/resources/articles/software-development\">\n",
            "      Software Development\n",
            "\n",
            "    \n",
            "</a></li>\n",
            "\n",
            "                <li>\n",
            "  <a class=\"HeaderMenu-dropdown-link d-block no-underline position-relative py-2 Link--secondary\" data-analytics-event=\"{&quot;location&quot;:&quot;navbar&quot;,&quot;action&quot;:&quot;view_all&quot;,&quot;context&quot;:&quot;resources&quot;,&quot;tag&quot;:&quot;link&quot;,&quot;label&quot;:&quot;view_all_link_resources_navbar&quot;}\" href=\"/resources/articles\">\n",
            "      View all\n",
            "\n",
            "    \n",
            "</a></li>\n",
            "\n",
            "            </ul>\n",
            "          </div>\n",
            "          <div class=\"px-lg-4\">\n",
            "                <span class=\"d-block h4 color-fg-default my-1\" id=\"resources-explore-heading\">Explore</span>\n",
            "            <ul class=\"list-style-none f5\" aria-labelledby=\"resources-explore-heading\">\n",
            "                <li>\n",
            "  <a class=\"HeaderMenu-dropdown-link d-block no-underline position-relative py-2 Link--secondary Link--external\" target=\"_blank\" data-analytics-event=\"{&quot;location&quot;:&quot;navbar&quot;,&quot;action&quot;:&quot;learning_pathways&quot;,&quot;context&quot;:&quot;resources&quot;,&quot;tag&quot;:&quot;link&quot;,&quot;label&quot;:&quot;learning_pathways_link_resources_navbar&quot;}\" href=\"https://resources.github.com/learn/pathways\">\n",
            "      Learning Pathways\n",
            "\n",
            "    <svg aria-hidden=\"true\" height=\"16\" viewBox=\"0 0 16 16\" version=\"1.1\" width=\"16\" data-view-component=\"true\" class=\"octicon octicon-link-external HeaderMenu-external-icon color-fg-subtle\">\n",
            "    <path d=\"M3.75 2h3.5a.75.75 0 0 1 0 1.5h-3.5a.25.25 0 0 0-.25.25v8.5c0 .138.112.25.25.25h8.5a.25.25 0 0 0 .25-.25v-3.5a.75.75 0 0 1 1.5 0v3.5A1.75 1.75 0 0 1 12.25 14h-8.5A1.75 1.75 0 0 1 2 12.25v-8.5C2 2.784 2.784 2 3.75 2Zm6.854-1h4.146a.25.25 0 0 1 .25.25v4.146a.25.25 0 0 1-.427.177L13.03 4.03 9.28 7.78a.751.751 0 0 1-1.042-.018.751.751 0 0 1-.018-1.042l3.75-3.75-1.543-1.543A.25.25 0 0 1 10.604 1Z\"></path>\n",
            "</svg>\n",
            "</a></li>\n",
            "\n",
            "                <li>\n",
            "  <a class=\"HeaderMenu-dropdown-link d-block no-underline position-relative py-2 Link--secondary Link--external\" target=\"_blank\" data-analytics-event=\"{&quot;location&quot;:&quot;navbar&quot;,&quot;action&quot;:&quot;white_papers_ebooks_webinars&quot;,&quot;context&quot;:&quot;resources&quot;,&quot;tag&quot;:&quot;link&quot;,&quot;label&quot;:&quot;white_papers_ebooks_webinars_link_resources_navbar&quot;}\" href=\"https://resources.github.com\">\n",
            "      White papers, Ebooks, Webinars\n",
            "\n",
            "    <svg aria-hidden=\"true\" height=\"16\" viewBox=\"0 0 16 16\" version=\"1.1\" width=\"16\" data-view-component=\"true\" class=\"octicon octicon-link-external HeaderMenu-external-icon color-fg-subtle\">\n",
            "    <path d=\"M3.75 2h3.5a.75.75 0 0 1 0 1.5h-3.5a.25.25 0 0 0-.25.25v8.5c0 .138.112.25.25.25h8.5a.25.25 0 0 0 .25-.25v-3.5a.75.75 0 0 1 1.5 0v3.5A1.75 1.75 0 0 1 12.25 14h-8.5A1.75 1.75 0 0 1 2 12.25v-8.5C2 2.784 2.784 2 3.75 2Zm6.854-1h4.146a.25.25 0 0 1 .25.25v4.146a.25.25 0 0 1-.427.177L13.03 4.03 9.28 7.78a.751.751 0 0 1-1.042-.018.751.751 0 0 1-.018-1.042l3.75-3.75-1.543-1.543A.25.25 0 0 1 10.604 1Z\"></path>\n",
            "</svg>\n",
            "</a></li>\n",
            "\n",
            "                <li>\n",
            "  <a class=\"HeaderMenu-dropdown-link d-block no-underline position-relative py-2 Link--secondary\" data-analytics-event=\"{&quot;location&quot;:&quot;navbar&quot;,&quot;action&quot;:&quot;customer_stories&quot;,&quot;context&quot;:&quot;resources&quot;,&quot;tag&quot;:&quot;link&quot;,&quot;label&quot;:&quot;customer_stories_link_resources_navbar&quot;}\" href=\"https://github.com/customer-stories\">\n",
            "      Customer Stories\n",
            "\n",
            "    \n",
            "</a></li>\n",
            "\n",
            "                <li>\n",
            "  <a class=\"HeaderMenu-dropdown-link d-block no-underline position-relative py-2 Link--secondary Link--external\" target=\"_blank\" data-analytics-event=\"{&quot;location&quot;:&quot;navbar&quot;,&quot;action&quot;:&quot;partners&quot;,&quot;context&quot;:&quot;resources&quot;,&quot;tag&quot;:&quot;link&quot;,&quot;label&quot;:&quot;partners_link_resources_navbar&quot;}\" href=\"https://partner.github.com\">\n",
            "      Partners\n",
            "\n",
            "    <svg aria-hidden=\"true\" height=\"16\" viewBox=\"0 0 16 16\" version=\"1.1\" width=\"16\" data-view-component=\"true\" class=\"octicon octicon-link-external HeaderMenu-external-icon color-fg-subtle\">\n",
            "    <path d=\"M3.75 2h3.5a.75.75 0 0 1 0 1.5h-3.5a.25.25 0 0 0-.25.25v8.5c0 .138.112.25.25.25h8.5a.25.25 0 0 0 .25-.25v-3.5a.75.75 0 0 1 1.5 0v3.5A1.75 1.75 0 0 1 12.25 14h-8.5A1.75 1.75 0 0 1 2 12.25v-8.5C2 2.784 2.784 2 3.75 2Zm6.854-1h4.146a.25.25 0 0 1 .25.25v4.146a.25.25 0 0 1-.427.177L13.03 4.03 9.28 7.78a.751.751 0 0 1-1.042-.018.751.751 0 0 1-.018-1.042l3.75-3.75-1.543-1.543A.25.25 0 0 1 10.604 1Z\"></path>\n",
            "</svg>\n",
            "</a></li>\n",
            "\n",
            "            </ul>\n",
            "          </div>\n",
            "      </div>\n",
            "</li>\n",
            "\n",
            "\n",
            "                <li class=\"HeaderMenu-item position-relative flex-wrap flex-justify-between flex-items-center d-block d-lg-flex flex-lg-nowrap flex-lg-items-center js-details-container js-header-menu-item\">\n",
            "      <button type=\"button\" class=\"HeaderMenu-link border-0 width-full width-lg-auto px-0 px-lg-2 py-lg-2 no-wrap d-flex flex-items-center flex-justify-between js-details-target\" aria-expanded=\"false\">\n",
            "        Open Source\n",
            "        <svg opacity=\"0.5\" aria-hidden=\"true\" height=\"16\" viewBox=\"0 0 16 16\" version=\"1.1\" width=\"16\" data-view-component=\"true\" class=\"octicon octicon-chevron-down HeaderMenu-icon ml-1\">\n",
            "    <path d=\"M12.78 5.22a.749.749 0 0 1 0 1.06l-4.25 4.25a.749.749 0 0 1-1.06 0L3.22 6.28a.749.749 0 1 1 1.06-1.06L8 8.939l3.72-3.719a.749.749 0 0 1 1.06 0Z\"></path>\n",
            "</svg>\n",
            "      </button>\n",
            "      <div class=\"HeaderMenu-dropdown dropdown-menu rounded m-0 p-0 py-2 py-lg-4 position-relative position-lg-absolute left-0 left-lg-n3 px-lg-4\">\n",
            "          <div class=\"border-bottom pb-3 mb-3\">\n",
            "            <ul class=\"list-style-none f5\" >\n",
            "                <li>\n",
            "  <a class=\"HeaderMenu-dropdown-link d-block no-underline position-relative py-2 Link--secondary d-flex flex-items-center Link--has-description\" data-analytics-event=\"{&quot;location&quot;:&quot;navbar&quot;,&quot;action&quot;:&quot;github_sponsors&quot;,&quot;context&quot;:&quot;open_source&quot;,&quot;tag&quot;:&quot;link&quot;,&quot;label&quot;:&quot;github_sponsors_link_open_source_navbar&quot;}\" href=\"/sponsors\">\n",
            "      \n",
            "      <div>\n",
            "        <div class=\"color-fg-default h4\">GitHub Sponsors</div>\n",
            "        Fund open source developers\n",
            "      </div>\n",
            "\n",
            "    \n",
            "</a></li>\n",
            "\n",
            "            </ul>\n",
            "          </div>\n",
            "          <div class=\"border-bottom pb-3 mb-3\">\n",
            "            <ul class=\"list-style-none f5\" >\n",
            "                <li>\n",
            "  <a class=\"HeaderMenu-dropdown-link d-block no-underline position-relative py-2 Link--secondary d-flex flex-items-center Link--has-description\" data-analytics-event=\"{&quot;location&quot;:&quot;navbar&quot;,&quot;action&quot;:&quot;the_readme_project&quot;,&quot;context&quot;:&quot;open_source&quot;,&quot;tag&quot;:&quot;link&quot;,&quot;label&quot;:&quot;the_readme_project_link_open_source_navbar&quot;}\" href=\"https://github.com/readme\">\n",
            "      \n",
            "      <div>\n",
            "        <div class=\"color-fg-default h4\">The ReadME Project</div>\n",
            "        GitHub community articles\n",
            "      </div>\n",
            "\n",
            "    \n",
            "</a></li>\n",
            "\n",
            "            </ul>\n",
            "          </div>\n",
            "          <div class=\"\">\n",
            "                <span class=\"d-block h4 color-fg-default my-1\" id=\"open-source-repositories-heading\">Repositories</span>\n",
            "            <ul class=\"list-style-none f5\" aria-labelledby=\"open-source-repositories-heading\">\n",
            "                <li>\n",
            "  <a class=\"HeaderMenu-dropdown-link d-block no-underline position-relative py-2 Link--secondary\" data-analytics-event=\"{&quot;location&quot;:&quot;navbar&quot;,&quot;action&quot;:&quot;topics&quot;,&quot;context&quot;:&quot;open_source&quot;,&quot;tag&quot;:&quot;link&quot;,&quot;label&quot;:&quot;topics_link_open_source_navbar&quot;}\" href=\"https://github.com/topics\">\n",
            "      Topics\n",
            "\n",
            "    \n",
            "</a></li>\n",
            "\n",
            "                <li>\n",
            "  <a class=\"HeaderMenu-dropdown-link d-block no-underline position-relative py-2 Link--secondary\" data-analytics-event=\"{&quot;location&quot;:&quot;navbar&quot;,&quot;action&quot;:&quot;trending&quot;,&quot;context&quot;:&quot;open_source&quot;,&quot;tag&quot;:&quot;link&quot;,&quot;label&quot;:&quot;trending_link_open_source_navbar&quot;}\" href=\"https://github.com/trending\">\n",
            "      Trending\n",
            "\n",
            "    \n",
            "</a></li>\n",
            "\n",
            "                <li>\n",
            "  <a class=\"HeaderMenu-dropdown-link d-block no-underline position-relative py-2 Link--secondary\" data-analytics-event=\"{&quot;location&quot;:&quot;navbar&quot;,&quot;action&quot;:&quot;collections&quot;,&quot;context&quot;:&quot;open_source&quot;,&quot;tag&quot;:&quot;link&quot;,&quot;label&quot;:&quot;collections_link_open_source_navbar&quot;}\" href=\"https://github.com/collections\">\n",
            "      Collections\n",
            "\n",
            "    \n",
            "</a></li>\n",
            "\n",
            "            </ul>\n",
            "          </div>\n",
            "      </div>\n",
            "</li>\n",
            "\n",
            "\n",
            "                <li class=\"HeaderMenu-item position-relative flex-wrap flex-justify-between flex-items-center d-block d-lg-flex flex-lg-nowrap flex-lg-items-center js-details-container js-header-menu-item\">\n",
            "      <button type=\"button\" class=\"HeaderMenu-link border-0 width-full width-lg-auto px-0 px-lg-2 py-lg-2 no-wrap d-flex flex-items-center flex-justify-between js-details-target\" aria-expanded=\"false\">\n",
            "        Enterprise\n",
            "        <svg opacity=\"0.5\" aria-hidden=\"true\" height=\"16\" viewBox=\"0 0 16 16\" version=\"1.1\" width=\"16\" data-view-component=\"true\" class=\"octicon octicon-chevron-down HeaderMenu-icon ml-1\">\n",
            "    <path d=\"M12.78 5.22a.749.749 0 0 1 0 1.06l-4.25 4.25a.749.749 0 0 1-1.06 0L3.22 6.28a.749.749 0 1 1 1.06-1.06L8 8.939l3.72-3.719a.749.749 0 0 1 1.06 0Z\"></path>\n",
            "</svg>\n",
            "      </button>\n",
            "      <div class=\"HeaderMenu-dropdown dropdown-menu rounded m-0 p-0 py-2 py-lg-4 position-relative position-lg-absolute left-0 left-lg-n3 px-lg-4\">\n",
            "          <div class=\"border-bottom pb-3 mb-3\">\n",
            "            <ul class=\"list-style-none f5\" >\n",
            "                <li>\n",
            "  <a class=\"HeaderMenu-dropdown-link d-block no-underline position-relative py-2 Link--secondary d-flex flex-items-center Link--has-description\" data-analytics-event=\"{&quot;location&quot;:&quot;navbar&quot;,&quot;action&quot;:&quot;enterprise_platform&quot;,&quot;context&quot;:&quot;enterprise&quot;,&quot;tag&quot;:&quot;link&quot;,&quot;label&quot;:&quot;enterprise_platform_link_enterprise_navbar&quot;}\" href=\"/enterprise\">\n",
            "      <svg aria-hidden=\"true\" height=\"24\" viewBox=\"0 0 24 24\" version=\"1.1\" width=\"24\" data-view-component=\"true\" class=\"octicon octicon-stack color-fg-subtle mr-3\">\n",
            "    <path d=\"M11.063 1.456a1.749 1.749 0 0 1 1.874 0l8.383 5.316a1.751 1.751 0 0 1 0 2.956l-8.383 5.316a1.749 1.749 0 0 1-1.874 0L2.68 9.728a1.751 1.751 0 0 1 0-2.956Zm1.071 1.267a.25.25 0 0 0-.268 0L3.483 8.039a.25.25 0 0 0 0 .422l8.383 5.316a.25.25 0 0 0 .268 0l8.383-5.316a.25.25 0 0 0 0-.422Z\"></path><path d=\"M1.867 12.324a.75.75 0 0 1 1.035-.232l8.964 5.685a.25.25 0 0 0 .268 0l8.964-5.685a.75.75 0 0 1 .804 1.267l-8.965 5.685a1.749 1.749 0 0 1-1.874 0l-8.965-5.685a.75.75 0 0 1-.231-1.035Z\"></path><path d=\"M1.867 16.324a.75.75 0 0 1 1.035-.232l8.964 5.685a.25.25 0 0 0 .268 0l8.964-5.685a.75.75 0 0 1 .804 1.267l-8.965 5.685a1.749 1.749 0 0 1-1.874 0l-8.965-5.685a.75.75 0 0 1-.231-1.035Z\"></path>\n",
            "</svg>\n",
            "      <div>\n",
            "        <div class=\"color-fg-default h4\">Enterprise platform</div>\n",
            "        AI-powered developer platform\n",
            "      </div>\n",
            "\n",
            "    \n",
            "</a></li>\n",
            "\n",
            "            </ul>\n",
            "          </div>\n",
            "          <div class=\"\">\n",
            "                <span class=\"d-block h4 color-fg-default my-1\" id=\"enterprise-available-add-ons-heading\">Available add-ons</span>\n",
            "            <ul class=\"list-style-none f5\" aria-labelledby=\"enterprise-available-add-ons-heading\">\n",
            "                <li>\n",
            "  <a class=\"HeaderMenu-dropdown-link d-block no-underline position-relative py-2 Link--secondary d-flex flex-items-center Link--has-description pb-lg-3\" data-analytics-event=\"{&quot;location&quot;:&quot;navbar&quot;,&quot;action&quot;:&quot;advanced_security&quot;,&quot;context&quot;:&quot;enterprise&quot;,&quot;tag&quot;:&quot;link&quot;,&quot;label&quot;:&quot;advanced_security_link_enterprise_navbar&quot;}\" href=\"https://github.com/enterprise/advanced-security\">\n",
            "      <svg aria-hidden=\"true\" height=\"24\" viewBox=\"0 0 24 24\" version=\"1.1\" width=\"24\" data-view-component=\"true\" class=\"octicon octicon-shield-check color-fg-subtle mr-3\">\n",
            "    <path d=\"M16.53 9.78a.75.75 0 0 0-1.06-1.06L11 13.19l-1.97-1.97a.75.75 0 0 0-1.06 1.06l2.5 2.5a.75.75 0 0 0 1.06 0l5-5Z\"></path><path d=\"m12.54.637 8.25 2.675A1.75 1.75 0 0 1 22 4.976V10c0 6.19-3.771 10.704-9.401 12.83a1.704 1.704 0 0 1-1.198 0C5.77 20.705 2 16.19 2 10V4.976c0-.758.489-1.43 1.21-1.664L11.46.637a1.748 1.748 0 0 1 1.08 0Zm-.617 1.426-8.25 2.676a.249.249 0 0 0-.173.237V10c0 5.46 3.28 9.483 8.43 11.426a.199.199 0 0 0 .14 0C17.22 19.483 20.5 15.461 20.5 10V4.976a.25.25 0 0 0-.173-.237l-8.25-2.676a.253.253 0 0 0-.154 0Z\"></path>\n",
            "</svg>\n",
            "      <div>\n",
            "        <div class=\"color-fg-default h4\">Advanced Security</div>\n",
            "        Enterprise-grade security features\n",
            "      </div>\n",
            "\n",
            "    \n",
            "</a></li>\n",
            "\n",
            "                <li>\n",
            "  <a class=\"HeaderMenu-dropdown-link d-block no-underline position-relative py-2 Link--secondary d-flex flex-items-center Link--has-description pb-lg-3\" data-analytics-event=\"{&quot;location&quot;:&quot;navbar&quot;,&quot;action&quot;:&quot;github_copilot&quot;,&quot;context&quot;:&quot;enterprise&quot;,&quot;tag&quot;:&quot;link&quot;,&quot;label&quot;:&quot;github_copilot_link_enterprise_navbar&quot;}\" href=\"/features/copilot#enterprise\">\n",
            "      <svg aria-hidden=\"true\" height=\"24\" viewBox=\"0 0 24 24\" version=\"1.1\" width=\"24\" data-view-component=\"true\" class=\"octicon octicon-copilot color-fg-subtle mr-3\">\n",
            "    <path d=\"M23.922 16.992c-.861 1.495-5.859 5.023-11.922 5.023-6.063 0-11.061-3.528-11.922-5.023A.641.641 0 0 1 0 16.736v-2.869a.841.841 0 0 1 .053-.22c.372-.935 1.347-2.292 2.605-2.656.167-.429.414-1.055.644-1.517a10.195 10.195 0 0 1-.052-1.086c0-1.331.282-2.499 1.132-3.368.397-.406.89-.717 1.474-.952 1.399-1.136 3.392-2.093 6.122-2.093 2.731 0 4.767.957 6.166 2.093.584.235 1.077.546 1.474.952.85.869 1.132 2.037 1.132 3.368 0 .368-.014.733-.052 1.086.23.462.477 1.088.644 1.517 1.258.364 2.233 1.721 2.605 2.656a.832.832 0 0 1 .053.22v2.869a.641.641 0 0 1-.078.256ZM12.172 11h-.344a4.323 4.323 0 0 1-.355.508C10.703 12.455 9.555 13 7.965 13c-1.725 0-2.989-.359-3.782-1.259a2.005 2.005 0 0 1-.085-.104L4 11.741v6.585c1.435.779 4.514 2.179 8 2.179 3.486 0 6.565-1.4 8-2.179v-6.585l-.098-.104s-.033.045-.085.104c-.793.9-2.057 1.259-3.782 1.259-1.59 0-2.738-.545-3.508-1.492a4.323 4.323 0 0 1-.355-.508h-.016.016Zm.641-2.935c.136 1.057.403 1.913.878 2.497.442.544 1.134.938 2.344.938 1.573 0 2.292-.337 2.657-.751.384-.435.558-1.15.558-2.361 0-1.14-.243-1.847-.705-2.319-.477-.488-1.319-.862-2.824-1.025-1.487-.161-2.192.138-2.533.529-.269.307-.437.808-.438 1.578v.021c0 .265.021.562.063.893Zm-1.626 0c.042-.331.063-.628.063-.894v-.02c-.001-.77-.169-1.271-.438-1.578-.341-.391-1.046-.69-2.533-.529-1.505.163-2.347.537-2.824 1.025-.462.472-.705 1.179-.705 2.319 0 1.211.175 1.926.558 2.361.365.414 1.084.751 2.657.751 1.21 0 1.902-.394 2.344-.938.475-.584.742-1.44.878-2.497Z\"></path><path d=\"M14.5 14.25a1 1 0 0 1 1 1v2a1 1 0 0 1-2 0v-2a1 1 0 0 1 1-1Zm-5 0a1 1 0 0 1 1 1v2a1 1 0 0 1-2 0v-2a1 1 0 0 1 1-1Z\"></path>\n",
            "</svg>\n",
            "      <div>\n",
            "        <div class=\"color-fg-default h4\">GitHub Copilot</div>\n",
            "        Enterprise-grade AI features\n",
            "      </div>\n",
            "\n",
            "    \n",
            "</a></li>\n",
            "\n",
            "                <li>\n",
            "  <a class=\"HeaderMenu-dropdown-link d-block no-underline position-relative py-2 Link--secondary d-flex flex-items-center Link--has-description\" data-analytics-event=\"{&quot;location&quot;:&quot;navbar&quot;,&quot;action&quot;:&quot;premium_support&quot;,&quot;context&quot;:&quot;enterprise&quot;,&quot;tag&quot;:&quot;link&quot;,&quot;label&quot;:&quot;premium_support_link_enterprise_navbar&quot;}\" href=\"/premium-support\">\n",
            "      <svg aria-hidden=\"true\" height=\"24\" viewBox=\"0 0 24 24\" version=\"1.1\" width=\"24\" data-view-component=\"true\" class=\"octicon octicon-comment-discussion color-fg-subtle mr-3\">\n",
            "    <path d=\"M1.75 1h12.5c.966 0 1.75.784 1.75 1.75v9.5A1.75 1.75 0 0 1 14.25 14H8.061l-2.574 2.573A1.458 1.458 0 0 1 3 15.543V14H1.75A1.75 1.75 0 0 1 0 12.25v-9.5C0 1.784.784 1 1.75 1ZM1.5 2.75v9.5c0 .138.112.25.25.25h2a.75.75 0 0 1 .75.75v2.19l2.72-2.72a.749.749 0 0 1 .53-.22h6.5a.25.25 0 0 0 .25-.25v-9.5a.25.25 0 0 0-.25-.25H1.75a.25.25 0 0 0-.25.25Z\"></path><path d=\"M22.5 8.75a.25.25 0 0 0-.25-.25h-3.5a.75.75 0 0 1 0-1.5h3.5c.966 0 1.75.784 1.75 1.75v9.5A1.75 1.75 0 0 1 22.25 20H21v1.543a1.457 1.457 0 0 1-2.487 1.03L15.939 20H10.75A1.75 1.75 0 0 1 9 18.25v-1.465a.75.75 0 0 1 1.5 0v1.465c0 .138.112.25.25.25h5.5a.75.75 0 0 1 .53.22l2.72 2.72v-2.19a.75.75 0 0 1 .75-.75h2a.25.25 0 0 0 .25-.25v-9.5Z\"></path>\n",
            "</svg>\n",
            "      <div>\n",
            "        <div class=\"color-fg-default h4\">Premium Support</div>\n",
            "        Enterprise-grade 24/7 support\n",
            "      </div>\n",
            "\n",
            "    \n",
            "</a></li>\n",
            "\n",
            "            </ul>\n",
            "          </div>\n",
            "      </div>\n",
            "</li>\n",
            "\n",
            "\n",
            "                <li class=\"HeaderMenu-item position-relative flex-wrap flex-justify-between flex-items-center d-block d-lg-flex flex-lg-nowrap flex-lg-items-center js-details-container js-header-menu-item\">\n",
            "    <a class=\"HeaderMenu-link no-underline px-0 px-lg-2 py-3 py-lg-2 d-block d-lg-inline-block\" data-analytics-event=\"{&quot;location&quot;:&quot;navbar&quot;,&quot;action&quot;:&quot;pricing&quot;,&quot;context&quot;:&quot;global&quot;,&quot;tag&quot;:&quot;link&quot;,&quot;label&quot;:&quot;pricing_link_global_navbar&quot;}\" href=\"https://github.com/pricing\">Pricing</a>\n",
            "</li>\n",
            "\n",
            "            </ul>\n",
            "          </nav>\n",
            "\n",
            "        <div class=\"d-flex flex-column flex-lg-row width-full flex-justify-end flex-lg-items-center text-center mt-3 mt-lg-0 text-lg-left ml-lg-3\">\n",
            "                \n",
            "\n",
            "\n",
            "<qbsearch-input class=\"search-input\" data-scope=\"repo:niteen82/spark-scala\" data-custom-scopes-path=\"/search/custom_scopes\" data-delete-custom-scopes-csrf=\"GkhzUhIdxivkGc1ZEfHldoVSDjImm9HRUuShuy3BC74YuzFhyEjVtfnLpCUTL7dVTD59LjkNGrdje1d8l64NsA\" data-max-custom-scopes=\"10\" data-header-redesign-enabled=\"false\" data-initial-value=\"\" data-blackbird-suggestions-path=\"/search/suggestions\" data-jump-to-suggestions-path=\"/_graphql/GetSuggestedNavigationDestinations\" data-current-repository=\"niteen82/spark-scala\" data-current-org=\"\" data-current-owner=\"niteen82\" data-logged-in=\"false\" data-copilot-chat-enabled=\"false\" data-nl-search-enabled=\"false\" data-retain-scroll-position=\"true\">\n",
            "  <div\n",
            "    class=\"search-input-container search-with-dialog position-relative d-flex flex-row flex-items-center mr-4 rounded\"\n",
            "    data-action=\"click:qbsearch-input#searchInputContainerClicked\"\n",
            "  >\n",
            "      <button\n",
            "        type=\"button\"\n",
            "        class=\"header-search-button placeholder  input-button form-control d-flex flex-1 flex-self-stretch flex-items-center no-wrap width-full py-0 pl-2 pr-0 text-left border-0 box-shadow-none\"\n",
            "        data-target=\"qbsearch-input.inputButton\"\n",
            "        aria-label=\"Search or jump to…\"\n",
            "        aria-haspopup=\"dialog\"\n",
            "        placeholder=\"Search or jump to...\"\n",
            "        data-hotkey=s,/\n",
            "        autocapitalize=\"off\"\n",
            "        data-analytics-event=\"{&quot;location&quot;:&quot;navbar&quot;,&quot;action&quot;:&quot;searchbar&quot;,&quot;context&quot;:&quot;global&quot;,&quot;tag&quot;:&quot;input&quot;,&quot;label&quot;:&quot;searchbar_input_global_navbar&quot;}\"\n",
            "        data-action=\"click:qbsearch-input#handleExpand\"\n",
            "      >\n",
            "        <div class=\"mr-2 color-fg-muted\">\n",
            "          <svg aria-hidden=\"true\" height=\"16\" viewBox=\"0 0 16 16\" version=\"1.1\" width=\"16\" data-view-component=\"true\" class=\"octicon octicon-search\">\n",
            "    <path d=\"M10.68 11.74a6 6 0 0 1-7.922-8.982 6 6 0 0 1 8.982 7.922l3.04 3.04a.749.749 0 0 1-.326 1.275.749.749 0 0 1-.734-.215ZM11.5 7a4.499 4.499 0 1 0-8.997 0A4.499 4.499 0 0 0 11.5 7Z\"></path>\n",
            "</svg>\n",
            "        </div>\n",
            "        <span class=\"flex-1\" data-target=\"qbsearch-input.inputButtonText\">Search or jump to...</span>\n",
            "          <div class=\"d-flex\" data-target=\"qbsearch-input.hotkeyIndicator\">\n",
            "            <svg xmlns=\"http://www.w3.org/2000/svg\" width=\"22\" height=\"20\" aria-hidden=\"true\" class=\"mr-1\"><path fill=\"none\" stroke=\"#979A9C\" opacity=\".4\" d=\"M3.5.5h12c1.7 0 3 1.3 3 3v13c0 1.7-1.3 3-3 3h-12c-1.7 0-3-1.3-3-3v-13c0-1.7 1.3-3 3-3z\"></path><path fill=\"#979A9C\" d=\"M11.8 6L8 15.1h-.9L10.8 6h1z\"></path></svg>\n",
            "\n",
            "          </div>\n",
            "      </button>\n",
            "\n",
            "    <input type=\"hidden\" name=\"type\" class=\"js-site-search-type-field\">\n",
            "\n",
            "    \n",
            "<div class=\"Overlay--hidden \" data-modal-dialog-overlay>\n",
            "  <modal-dialog data-action=\"close:qbsearch-input#handleClose cancel:qbsearch-input#handleClose\" data-target=\"qbsearch-input.searchSuggestionsDialog\" role=\"dialog\" id=\"search-suggestions-dialog\" aria-modal=\"true\" aria-labelledby=\"search-suggestions-dialog-header\" data-view-component=\"true\" class=\"Overlay Overlay--width-large Overlay--height-auto\">\n",
            "      <h1 id=\"search-suggestions-dialog-header\" class=\"sr-only\">Search code, repositories, users, issues, pull requests...</h1>\n",
            "    <div class=\"Overlay-body Overlay-body--paddingNone\">\n",
            "      \n",
            "          <div data-view-component=\"true\">        <div class=\"search-suggestions position-fixed width-full color-shadow-large border color-fg-default color-bg-default overflow-hidden d-flex flex-column query-builder-container\"\n",
            "          style=\"border-radius: 12px;\"\n",
            "          data-target=\"qbsearch-input.queryBuilderContainer\"\n",
            "          hidden\n",
            "        >\n",
            "          <!-- '\"` --><!-- </textarea></xmp> --></option></form><form id=\"query-builder-test-form\" action=\"\" accept-charset=\"UTF-8\" method=\"get\">\n",
            "  <query-builder data-target=\"qbsearch-input.queryBuilder\" id=\"query-builder-query-builder-test\" data-filter-key=\":\" data-view-component=\"true\" class=\"QueryBuilder search-query-builder\">\n",
            "    <div class=\"FormControl FormControl--fullWidth\">\n",
            "      <label id=\"query-builder-test-label\" for=\"query-builder-test\" class=\"FormControl-label sr-only\">\n",
            "        Search\n",
            "      </label>\n",
            "      <div\n",
            "        class=\"QueryBuilder-StyledInput width-fit \"\n",
            "        data-target=\"query-builder.styledInput\"\n",
            "      >\n",
            "          <span id=\"query-builder-test-leadingvisual-wrap\" class=\"FormControl-input-leadingVisualWrap QueryBuilder-leadingVisualWrap\">\n",
            "            <svg aria-hidden=\"true\" height=\"16\" viewBox=\"0 0 16 16\" version=\"1.1\" width=\"16\" data-view-component=\"true\" class=\"octicon octicon-search FormControl-input-leadingVisual\">\n",
            "    <path d=\"M10.68 11.74a6 6 0 0 1-7.922-8.982 6 6 0 0 1 8.982 7.922l3.04 3.04a.749.749 0 0 1-.326 1.275.749.749 0 0 1-.734-.215ZM11.5 7a4.499 4.499 0 1 0-8.997 0A4.499 4.499 0 0 0 11.5 7Z\"></path>\n",
            "</svg>\n",
            "          </span>\n",
            "        <div data-target=\"query-builder.styledInputContainer\" class=\"QueryBuilder-StyledInputContainer\">\n",
            "          <div\n",
            "            aria-hidden=\"true\"\n",
            "            class=\"QueryBuilder-StyledInputContent\"\n",
            "            data-target=\"query-builder.styledInputContent\"\n",
            "          ></div>\n",
            "          <div class=\"QueryBuilder-InputWrapper\">\n",
            "            <div aria-hidden=\"true\" class=\"QueryBuilder-Sizer\" data-target=\"query-builder.sizer\"></div>\n",
            "            <input id=\"query-builder-test\" name=\"query-builder-test\" value=\"\" autocomplete=\"off\" type=\"text\" role=\"combobox\" spellcheck=\"false\" aria-expanded=\"false\" aria-describedby=\"validation-fdd03d20-fb7b-42b4-872a-05268e31a672\" data-target=\"query-builder.input\" data-action=\"\n",
            "          input:query-builder#inputChange\n",
            "          blur:query-builder#inputBlur\n",
            "          keydown:query-builder#inputKeydown\n",
            "          focus:query-builder#inputFocus\n",
            "        \" data-view-component=\"true\" class=\"FormControl-input QueryBuilder-Input FormControl-medium\" />\n",
            "          </div>\n",
            "        </div>\n",
            "          <span class=\"sr-only\" id=\"query-builder-test-clear\">Clear</span>\n",
            "          <button role=\"button\" id=\"query-builder-test-clear-button\" aria-labelledby=\"query-builder-test-clear query-builder-test-label\" data-target=\"query-builder.clearButton\" data-action=\"\n",
            "                click:query-builder#clear\n",
            "                focus:query-builder#clearButtonFocus\n",
            "                blur:query-builder#clearButtonBlur\n",
            "              \" variant=\"small\" hidden=\"hidden\" type=\"button\" data-view-component=\"true\" class=\"Button Button--iconOnly Button--invisible Button--medium mr-1 px-2 py-0 d-flex flex-items-center rounded-1 color-fg-muted\">  <svg aria-hidden=\"true\" height=\"16\" viewBox=\"0 0 16 16\" version=\"1.1\" width=\"16\" data-view-component=\"true\" class=\"octicon octicon-x-circle-fill Button-visual\">\n",
            "    <path d=\"M2.343 13.657A8 8 0 1 1 13.658 2.343 8 8 0 0 1 2.343 13.657ZM6.03 4.97a.751.751 0 0 0-1.042.018.751.751 0 0 0-.018 1.042L6.94 8 4.97 9.97a.749.749 0 0 0 .326 1.275.749.749 0 0 0 .734-.215L8 9.06l1.97 1.97a.749.749 0 0 0 1.275-.326.749.749 0 0 0-.215-.734L9.06 8l1.97-1.97a.749.749 0 0 0-.326-1.275.749.749 0 0 0-.734.215L8 6.94Z\"></path>\n",
            "</svg>\n",
            "</button>\n",
            "\n",
            "      </div>\n",
            "      <template id=\"search-icon\">\n",
            "  <svg aria-hidden=\"true\" height=\"16\" viewBox=\"0 0 16 16\" version=\"1.1\" width=\"16\" data-view-component=\"true\" class=\"octicon octicon-search\">\n",
            "    <path d=\"M10.68 11.74a6 6 0 0 1-7.922-8.982 6 6 0 0 1 8.982 7.922l3.04 3.04a.749.749 0 0 1-.326 1.275.749.749 0 0 1-.734-.215ZM11.5 7a4.499 4.499 0 1 0-8.997 0A4.499 4.499 0 0 0 11.5 7Z\"></path>\n",
            "</svg>\n",
            "</template>\n",
            "\n",
            "<template id=\"code-icon\">\n",
            "  <svg aria-hidden=\"true\" height=\"16\" viewBox=\"0 0 16 16\" version=\"1.1\" width=\"16\" data-view-component=\"true\" class=\"octicon octicon-code\">\n",
            "    <path d=\"m11.28 3.22 4.25 4.25a.75.75 0 0 1 0 1.06l-4.25 4.25a.749.749 0 0 1-1.275-.326.749.749 0 0 1 .215-.734L13.94 8l-3.72-3.72a.749.749 0 0 1 .326-1.275.749.749 0 0 1 .734.215Zm-6.56 0a.751.751 0 0 1 1.042.018.751.751 0 0 1 .018 1.042L2.06 8l3.72 3.72a.749.749 0 0 1-.326 1.275.749.749 0 0 1-.734-.215L.47 8.53a.75.75 0 0 1 0-1.06Z\"></path>\n",
            "</svg>\n",
            "</template>\n",
            "\n",
            "<template id=\"file-code-icon\">\n",
            "  <svg aria-hidden=\"true\" height=\"16\" viewBox=\"0 0 16 16\" version=\"1.1\" width=\"16\" data-view-component=\"true\" class=\"octicon octicon-file-code\">\n",
            "    <path d=\"M4 1.75C4 .784 4.784 0 5.75 0h5.586c.464 0 .909.184 1.237.513l2.914 2.914c.329.328.513.773.513 1.237v8.586A1.75 1.75 0 0 1 14.25 15h-9a.75.75 0 0 1 0-1.5h9a.25.25 0 0 0 .25-.25V6h-2.75A1.75 1.75 0 0 1 10 4.25V1.5H5.75a.25.25 0 0 0-.25.25v2.5a.75.75 0 0 1-1.5 0Zm1.72 4.97a.75.75 0 0 1 1.06 0l2 2a.75.75 0 0 1 0 1.06l-2 2a.749.749 0 0 1-1.275-.326.749.749 0 0 1 .215-.734l1.47-1.47-1.47-1.47a.75.75 0 0 1 0-1.06ZM3.28 7.78 1.81 9.25l1.47 1.47a.751.751 0 0 1-.018 1.042.751.751 0 0 1-1.042.018l-2-2a.75.75 0 0 1 0-1.06l2-2a.751.751 0 0 1 1.042.018.751.751 0 0 1 .018 1.042Zm8.22-6.218V4.25c0 .138.112.25.25.25h2.688l-.011-.013-2.914-2.914-.013-.011Z\"></path>\n",
            "</svg>\n",
            "</template>\n",
            "\n",
            "<template id=\"history-icon\">\n",
            "  <svg aria-hidden=\"true\" height=\"16\" viewBox=\"0 0 16 16\" version=\"1.1\" width=\"16\" data-view-component=\"true\" class=\"octicon octicon-history\">\n",
            "    <path d=\"m.427 1.927 1.215 1.215a8.002 8.002 0 1 1-1.6 5.685.75.75 0 1 1 1.493-.154 6.5 6.5 0 1 0 1.18-4.458l1.358 1.358A.25.25 0 0 1 3.896 6H.25A.25.25 0 0 1 0 5.75V2.104a.25.25 0 0 1 .427-.177ZM7.75 4a.75.75 0 0 1 .75.75v2.992l2.028.812a.75.75 0 0 1-.557 1.392l-2.5-1A.751.751 0 0 1 7 8.25v-3.5A.75.75 0 0 1 7.75 4Z\"></path>\n",
            "</svg>\n",
            "</template>\n",
            "\n",
            "<template id=\"repo-icon\">\n",
            "  <svg aria-hidden=\"true\" height=\"16\" viewBox=\"0 0 16 16\" version=\"1.1\" width=\"16\" data-view-component=\"true\" class=\"octicon octicon-repo\">\n",
            "    <path d=\"M2 2.5A2.5 2.5 0 0 1 4.5 0h8.75a.75.75 0 0 1 .75.75v12.5a.75.75 0 0 1-.75.75h-2.5a.75.75 0 0 1 0-1.5h1.75v-2h-8a1 1 0 0 0-.714 1.7.75.75 0 1 1-1.072 1.05A2.495 2.495 0 0 1 2 11.5Zm10.5-1h-8a1 1 0 0 0-1 1v6.708A2.486 2.486 0 0 1 4.5 9h8ZM5 12.25a.25.25 0 0 1 .25-.25h3.5a.25.25 0 0 1 .25.25v3.25a.25.25 0 0 1-.4.2l-1.45-1.087a.249.249 0 0 0-.3 0L5.4 15.7a.25.25 0 0 1-.4-.2Z\"></path>\n",
            "</svg>\n",
            "</template>\n",
            "\n",
            "<template id=\"bookmark-icon\">\n",
            "  <svg aria-hidden=\"true\" height=\"16\" viewBox=\"0 0 16 16\" version=\"1.1\" width=\"16\" data-view-component=\"true\" class=\"octicon octicon-bookmark\">\n",
            "    <path d=\"M3 2.75C3 1.784 3.784 1 4.75 1h6.5c.966 0 1.75.784 1.75 1.75v11.5a.75.75 0 0 1-1.227.579L8 11.722l-3.773 3.107A.751.751 0 0 1 3 14.25Zm1.75-.25a.25.25 0 0 0-.25.25v9.91l3.023-2.489a.75.75 0 0 1 .954 0l3.023 2.49V2.75a.25.25 0 0 0-.25-.25Z\"></path>\n",
            "</svg>\n",
            "</template>\n",
            "\n",
            "<template id=\"plus-circle-icon\">\n",
            "  <svg aria-hidden=\"true\" height=\"16\" viewBox=\"0 0 16 16\" version=\"1.1\" width=\"16\" data-view-component=\"true\" class=\"octicon octicon-plus-circle\">\n",
            "    <path d=\"M8 0a8 8 0 1 1 0 16A8 8 0 0 1 8 0ZM1.5 8a6.5 6.5 0 1 0 13 0 6.5 6.5 0 0 0-13 0Zm7.25-3.25v2.5h2.5a.75.75 0 0 1 0 1.5h-2.5v2.5a.75.75 0 0 1-1.5 0v-2.5h-2.5a.75.75 0 0 1 0-1.5h2.5v-2.5a.75.75 0 0 1 1.5 0Z\"></path>\n",
            "</svg>\n",
            "</template>\n",
            "\n",
            "<template id=\"circle-icon\">\n",
            "  <svg aria-hidden=\"true\" height=\"16\" viewBox=\"0 0 16 16\" version=\"1.1\" width=\"16\" data-view-component=\"true\" class=\"octicon octicon-dot-fill\">\n",
            "    <path d=\"M8 4a4 4 0 1 1 0 8 4 4 0 0 1 0-8Z\"></path>\n",
            "</svg>\n",
            "</template>\n",
            "\n",
            "<template id=\"trash-icon\">\n",
            "  <svg aria-hidden=\"true\" height=\"16\" viewBox=\"0 0 16 16\" version=\"1.1\" width=\"16\" data-view-component=\"true\" class=\"octicon octicon-trash\">\n",
            "    <path d=\"M11 1.75V3h2.25a.75.75 0 0 1 0 1.5H2.75a.75.75 0 0 1 0-1.5H5V1.75C5 .784 5.784 0 6.75 0h2.5C10.216 0 11 .784 11 1.75ZM4.496 6.675l.66 6.6a.25.25 0 0 0 .249.225h5.19a.25.25 0 0 0 .249-.225l.66-6.6a.75.75 0 0 1 1.492.149l-.66 6.6A1.748 1.748 0 0 1 10.595 15h-5.19a1.75 1.75 0 0 1-1.741-1.575l-.66-6.6a.75.75 0 1 1 1.492-.15ZM6.5 1.75V3h3V1.75a.25.25 0 0 0-.25-.25h-2.5a.25.25 0 0 0-.25.25Z\"></path>\n",
            "</svg>\n",
            "</template>\n",
            "\n",
            "<template id=\"team-icon\">\n",
            "  <svg aria-hidden=\"true\" height=\"16\" viewBox=\"0 0 16 16\" version=\"1.1\" width=\"16\" data-view-component=\"true\" class=\"octicon octicon-people\">\n",
            "    <path d=\"M2 5.5a3.5 3.5 0 1 1 5.898 2.549 5.508 5.508 0 0 1 3.034 4.084.75.75 0 1 1-1.482.235 4 4 0 0 0-7.9 0 .75.75 0 0 1-1.482-.236A5.507 5.507 0 0 1 3.102 8.05 3.493 3.493 0 0 1 2 5.5ZM11 4a3.001 3.001 0 0 1 2.22 5.018 5.01 5.01 0 0 1 2.56 3.012.749.749 0 0 1-.885.954.752.752 0 0 1-.549-.514 3.507 3.507 0 0 0-2.522-2.372.75.75 0 0 1-.574-.73v-.352a.75.75 0 0 1 .416-.672A1.5 1.5 0 0 0 11 5.5.75.75 0 0 1 11 4Zm-5.5-.5a2 2 0 1 0-.001 3.999A2 2 0 0 0 5.5 3.5Z\"></path>\n",
            "</svg>\n",
            "</template>\n",
            "\n",
            "<template id=\"project-icon\">\n",
            "  <svg aria-hidden=\"true\" height=\"16\" viewBox=\"0 0 16 16\" version=\"1.1\" width=\"16\" data-view-component=\"true\" class=\"octicon octicon-project\">\n",
            "    <path d=\"M1.75 0h12.5C15.216 0 16 .784 16 1.75v12.5A1.75 1.75 0 0 1 14.25 16H1.75A1.75 1.75 0 0 1 0 14.25V1.75C0 .784.784 0 1.75 0ZM1.5 1.75v12.5c0 .138.112.25.25.25h12.5a.25.25 0 0 0 .25-.25V1.75a.25.25 0 0 0-.25-.25H1.75a.25.25 0 0 0-.25.25ZM11.75 3a.75.75 0 0 1 .75.75v7.5a.75.75 0 0 1-1.5 0v-7.5a.75.75 0 0 1 .75-.75Zm-8.25.75a.75.75 0 0 1 1.5 0v5.5a.75.75 0 0 1-1.5 0ZM8 3a.75.75 0 0 1 .75.75v3.5a.75.75 0 0 1-1.5 0v-3.5A.75.75 0 0 1 8 3Z\"></path>\n",
            "</svg>\n",
            "</template>\n",
            "\n",
            "<template id=\"pencil-icon\">\n",
            "  <svg aria-hidden=\"true\" height=\"16\" viewBox=\"0 0 16 16\" version=\"1.1\" width=\"16\" data-view-component=\"true\" class=\"octicon octicon-pencil\">\n",
            "    <path d=\"M11.013 1.427a1.75 1.75 0 0 1 2.474 0l1.086 1.086a1.75 1.75 0 0 1 0 2.474l-8.61 8.61c-.21.21-.47.364-.756.445l-3.251.93a.75.75 0 0 1-.927-.928l.929-3.25c.081-.286.235-.547.445-.758l8.61-8.61Zm.176 4.823L9.75 4.81l-6.286 6.287a.253.253 0 0 0-.064.108l-.558 1.953 1.953-.558a.253.253 0 0 0 .108-.064Zm1.238-3.763a.25.25 0 0 0-.354 0L10.811 3.75l1.439 1.44 1.263-1.263a.25.25 0 0 0 0-.354Z\"></path>\n",
            "</svg>\n",
            "</template>\n",
            "\n",
            "<template id=\"copilot-icon\">\n",
            "  <svg aria-hidden=\"true\" height=\"16\" viewBox=\"0 0 16 16\" version=\"1.1\" width=\"16\" data-view-component=\"true\" class=\"octicon octicon-copilot\">\n",
            "    <path d=\"M7.998 15.035c-4.562 0-7.873-2.914-7.998-3.749V9.338c.085-.628.677-1.686 1.588-2.065.013-.07.024-.143.036-.218.029-.183.06-.384.126-.612-.201-.508-.254-1.084-.254-1.656 0-.87.128-1.769.693-2.484.579-.733 1.494-1.124 2.724-1.261 1.206-.134 2.262.034 2.944.765.05.053.096.108.139.165.044-.057.094-.112.143-.165.682-.731 1.738-.899 2.944-.765 1.23.137 2.145.528 2.724 1.261.566.715.693 1.614.693 2.484 0 .572-.053 1.148-.254 1.656.066.228.098.429.126.612.012.076.024.148.037.218.924.385 1.522 1.471 1.591 2.095v1.872c0 .766-3.351 3.795-8.002 3.795Zm0-1.485c2.28 0 4.584-1.11 5.002-1.433V7.862l-.023-.116c-.49.21-1.075.291-1.727.291-1.146 0-2.059-.327-2.71-.991A3.222 3.222 0 0 1 8 6.303a3.24 3.24 0 0 1-.544.743c-.65.664-1.563.991-2.71.991-.652 0-1.236-.081-1.727-.291l-.023.116v4.255c.419.323 2.722 1.433 5.002 1.433ZM6.762 2.83c-.193-.206-.637-.413-1.682-.297-1.019.113-1.479.404-1.713.7-.247.312-.369.789-.369 1.554 0 .793.129 1.171.308 1.371.162.181.519.379 1.442.379.853 0 1.339-.235 1.638-.54.315-.322.527-.827.617-1.553.117-.935-.037-1.395-.241-1.614Zm4.155-.297c-1.044-.116-1.488.091-1.681.297-.204.219-.359.679-.242 1.614.091.726.303 1.231.618 1.553.299.305.784.54 1.638.54.922 0 1.28-.198 1.442-.379.179-.2.308-.578.308-1.371 0-.765-.123-1.242-.37-1.554-.233-.296-.693-.587-1.713-.7Z\"></path><path d=\"M6.25 9.037a.75.75 0 0 1 .75.75v1.501a.75.75 0 0 1-1.5 0V9.787a.75.75 0 0 1 .75-.75Zm4.25.75v1.501a.75.75 0 0 1-1.5 0V9.787a.75.75 0 0 1 1.5 0Z\"></path>\n",
            "</svg>\n",
            "</template>\n",
            "\n",
            "<template id=\"copilot-error-icon\">\n",
            "  <svg aria-hidden=\"true\" height=\"16\" viewBox=\"0 0 16 16\" version=\"1.1\" width=\"16\" data-view-component=\"true\" class=\"octicon octicon-copilot-error\">\n",
            "    <path d=\"M16 11.24c0 .112-.072.274-.21.467L13 9.688V7.862l-.023-.116c-.49.21-1.075.291-1.727.291-.198 0-.388-.009-.571-.029L6.833 5.226a4.01 4.01 0 0 0 .17-.782c.117-.935-.037-1.395-.241-1.614-.193-.206-.637-.413-1.682-.297-.683.076-1.115.231-1.395.415l-1.257-.91c.579-.564 1.413-.877 2.485-.996 1.206-.134 2.262.034 2.944.765.05.053.096.108.139.165.044-.057.094-.112.143-.165.682-.731 1.738-.899 2.944-.765 1.23.137 2.145.528 2.724 1.261.566.715.693 1.614.693 2.484 0 .572-.053 1.148-.254 1.656.066.228.098.429.126.612.012.076.024.148.037.218.924.385 1.522 1.471 1.591 2.095Zm-5.083-8.707c-1.044-.116-1.488.091-1.681.297-.204.219-.359.679-.242 1.614.091.726.303 1.231.618 1.553.299.305.784.54 1.638.54.922 0 1.28-.198 1.442-.379.179-.2.308-.578.308-1.371 0-.765-.123-1.242-.37-1.554-.233-.296-.693-.587-1.713-.7Zm2.511 11.074c-1.393.776-3.272 1.428-5.43 1.428-4.562 0-7.873-2.914-7.998-3.749V9.338c.085-.628.677-1.686 1.588-2.065.013-.07.024-.143.036-.218.029-.183.06-.384.126-.612-.18-.455-.241-.963-.252-1.475L.31 4.107A.747.747 0 0 1 0 3.509V3.49a.748.748 0 0 1 .625-.73c.156-.026.306.047.435.139l14.667 10.578a.592.592 0 0 1 .227.264.752.752 0 0 1 .046.249v.022a.75.75 0 0 1-1.19.596Zm-1.367-.991L5.635 7.964a5.128 5.128 0 0 1-.889.073c-.652 0-1.236-.081-1.727-.291l-.023.116v4.255c.419.323 2.722 1.433 5.002 1.433 1.539 0 3.089-.505 4.063-.934Z\"></path>\n",
            "</svg>\n",
            "</template>\n",
            "\n",
            "<template id=\"workflow-icon\">\n",
            "  <svg aria-hidden=\"true\" height=\"16\" viewBox=\"0 0 16 16\" version=\"1.1\" width=\"16\" data-view-component=\"true\" class=\"octicon octicon-workflow\">\n",
            "    <path d=\"M0 1.75C0 .784.784 0 1.75 0h3.5C6.216 0 7 .784 7 1.75v3.5A1.75 1.75 0 0 1 5.25 7H4v4a1 1 0 0 0 1 1h4v-1.25C9 9.784 9.784 9 10.75 9h3.5c.966 0 1.75.784 1.75 1.75v3.5A1.75 1.75 0 0 1 14.25 16h-3.5A1.75 1.75 0 0 1 9 14.25v-.75H5A2.5 2.5 0 0 1 2.5 11V7h-.75A1.75 1.75 0 0 1 0 5.25Zm1.75-.25a.25.25 0 0 0-.25.25v3.5c0 .138.112.25.25.25h3.5a.25.25 0 0 0 .25-.25v-3.5a.25.25 0 0 0-.25-.25Zm9 9a.25.25 0 0 0-.25.25v3.5c0 .138.112.25.25.25h3.5a.25.25 0 0 0 .25-.25v-3.5a.25.25 0 0 0-.25-.25Z\"></path>\n",
            "</svg>\n",
            "</template>\n",
            "\n",
            "<template id=\"book-icon\">\n",
            "  <svg aria-hidden=\"true\" height=\"16\" viewBox=\"0 0 16 16\" version=\"1.1\" width=\"16\" data-view-component=\"true\" class=\"octicon octicon-book\">\n",
            "    <path d=\"M0 1.75A.75.75 0 0 1 .75 1h4.253c1.227 0 2.317.59 3 1.501A3.743 3.743 0 0 1 11.006 1h4.245a.75.75 0 0 1 .75.75v10.5a.75.75 0 0 1-.75.75h-4.507a2.25 2.25 0 0 0-1.591.659l-.622.621a.75.75 0 0 1-1.06 0l-.622-.621A2.25 2.25 0 0 0 5.258 13H.75a.75.75 0 0 1-.75-.75Zm7.251 10.324.004-5.073-.002-2.253A2.25 2.25 0 0 0 5.003 2.5H1.5v9h3.757a3.75 3.75 0 0 1 1.994.574ZM8.755 4.75l-.004 7.322a3.752 3.752 0 0 1 1.992-.572H14.5v-9h-3.495a2.25 2.25 0 0 0-2.25 2.25Z\"></path>\n",
            "</svg>\n",
            "</template>\n",
            "\n",
            "<template id=\"code-review-icon\">\n",
            "  <svg aria-hidden=\"true\" height=\"16\" viewBox=\"0 0 16 16\" version=\"1.1\" width=\"16\" data-view-component=\"true\" class=\"octicon octicon-code-review\">\n",
            "    <path d=\"M1.75 1h12.5c.966 0 1.75.784 1.75 1.75v8.5A1.75 1.75 0 0 1 14.25 13H8.061l-2.574 2.573A1.458 1.458 0 0 1 3 14.543V13H1.75A1.75 1.75 0 0 1 0 11.25v-8.5C0 1.784.784 1 1.75 1ZM1.5 2.75v8.5c0 .138.112.25.25.25h2a.75.75 0 0 1 .75.75v2.19l2.72-2.72a.749.749 0 0 1 .53-.22h6.5a.25.25 0 0 0 .25-.25v-8.5a.25.25 0 0 0-.25-.25H1.75a.25.25 0 0 0-.25.25Zm5.28 1.72a.75.75 0 0 1 0 1.06L5.31 7l1.47 1.47a.751.751 0 0 1-.018 1.042.751.751 0 0 1-1.042.018l-2-2a.75.75 0 0 1 0-1.06l2-2a.75.75 0 0 1 1.06 0Zm2.44 0a.75.75 0 0 1 1.06 0l2 2a.75.75 0 0 1 0 1.06l-2 2a.751.751 0 0 1-1.042-.018.751.751 0 0 1-.018-1.042L10.69 7 9.22 5.53a.75.75 0 0 1 0-1.06Z\"></path>\n",
            "</svg>\n",
            "</template>\n",
            "\n",
            "<template id=\"codespaces-icon\">\n",
            "  <svg aria-hidden=\"true\" height=\"16\" viewBox=\"0 0 16 16\" version=\"1.1\" width=\"16\" data-view-component=\"true\" class=\"octicon octicon-codespaces\">\n",
            "    <path d=\"M0 11.25c0-.966.784-1.75 1.75-1.75h12.5c.966 0 1.75.784 1.75 1.75v3A1.75 1.75 0 0 1 14.25 16H1.75A1.75 1.75 0 0 1 0 14.25Zm2-9.5C2 .784 2.784 0 3.75 0h8.5C13.216 0 14 .784 14 1.75v5a1.75 1.75 0 0 1-1.75 1.75h-8.5A1.75 1.75 0 0 1 2 6.75Zm1.75-.25a.25.25 0 0 0-.25.25v5c0 .138.112.25.25.25h8.5a.25.25 0 0 0 .25-.25v-5a.25.25 0 0 0-.25-.25Zm-2 9.5a.25.25 0 0 0-.25.25v3c0 .138.112.25.25.25h12.5a.25.25 0 0 0 .25-.25v-3a.25.25 0 0 0-.25-.25Z\"></path><path d=\"M7 12.75a.75.75 0 0 1 .75-.75h4.5a.75.75 0 0 1 0 1.5h-4.5a.75.75 0 0 1-.75-.75Zm-4 0a.75.75 0 0 1 .75-.75h.5a.75.75 0 0 1 0 1.5h-.5a.75.75 0 0 1-.75-.75Z\"></path>\n",
            "</svg>\n",
            "</template>\n",
            "\n",
            "<template id=\"comment-icon\">\n",
            "  <svg aria-hidden=\"true\" height=\"16\" viewBox=\"0 0 16 16\" version=\"1.1\" width=\"16\" data-view-component=\"true\" class=\"octicon octicon-comment\">\n",
            "    <path d=\"M1 2.75C1 1.784 1.784 1 2.75 1h10.5c.966 0 1.75.784 1.75 1.75v7.5A1.75 1.75 0 0 1 13.25 12H9.06l-2.573 2.573A1.458 1.458 0 0 1 4 13.543V12H2.75A1.75 1.75 0 0 1 1 10.25Zm1.75-.25a.25.25 0 0 0-.25.25v7.5c0 .138.112.25.25.25h2a.75.75 0 0 1 .75.75v2.19l2.72-2.72a.749.749 0 0 1 .53-.22h4.5a.25.25 0 0 0 .25-.25v-7.5a.25.25 0 0 0-.25-.25Z\"></path>\n",
            "</svg>\n",
            "</template>\n",
            "\n",
            "<template id=\"comment-discussion-icon\">\n",
            "  <svg aria-hidden=\"true\" height=\"16\" viewBox=\"0 0 16 16\" version=\"1.1\" width=\"16\" data-view-component=\"true\" class=\"octicon octicon-comment-discussion\">\n",
            "    <path d=\"M1.75 1h8.5c.966 0 1.75.784 1.75 1.75v5.5A1.75 1.75 0 0 1 10.25 10H7.061l-2.574 2.573A1.458 1.458 0 0 1 2 11.543V10h-.25A1.75 1.75 0 0 1 0 8.25v-5.5C0 1.784.784 1 1.75 1ZM1.5 2.75v5.5c0 .138.112.25.25.25h1a.75.75 0 0 1 .75.75v2.19l2.72-2.72a.749.749 0 0 1 .53-.22h3.5a.25.25 0 0 0 .25-.25v-5.5a.25.25 0 0 0-.25-.25h-8.5a.25.25 0 0 0-.25.25Zm13 2a.25.25 0 0 0-.25-.25h-.5a.75.75 0 0 1 0-1.5h.5c.966 0 1.75.784 1.75 1.75v5.5A1.75 1.75 0 0 1 14.25 12H14v1.543a1.458 1.458 0 0 1-2.487 1.03L9.22 12.28a.749.749 0 0 1 .326-1.275.749.749 0 0 1 .734.215l2.22 2.22v-2.19a.75.75 0 0 1 .75-.75h1a.25.25 0 0 0 .25-.25Z\"></path>\n",
            "</svg>\n",
            "</template>\n",
            "\n",
            "<template id=\"organization-icon\">\n",
            "  <svg aria-hidden=\"true\" height=\"16\" viewBox=\"0 0 16 16\" version=\"1.1\" width=\"16\" data-view-component=\"true\" class=\"octicon octicon-organization\">\n",
            "    <path d=\"M1.75 16A1.75 1.75 0 0 1 0 14.25V1.75C0 .784.784 0 1.75 0h8.5C11.216 0 12 .784 12 1.75v12.5c0 .085-.006.168-.018.25h2.268a.25.25 0 0 0 .25-.25V8.285a.25.25 0 0 0-.111-.208l-1.055-.703a.749.749 0 1 1 .832-1.248l1.055.703c.487.325.779.871.779 1.456v5.965A1.75 1.75 0 0 1 14.25 16h-3.5a.766.766 0 0 1-.197-.026c-.099.017-.2.026-.303.026h-3a.75.75 0 0 1-.75-.75V14h-1v1.25a.75.75 0 0 1-.75.75Zm-.25-1.75c0 .138.112.25.25.25H4v-1.25a.75.75 0 0 1 .75-.75h2.5a.75.75 0 0 1 .75.75v1.25h2.25a.25.25 0 0 0 .25-.25V1.75a.25.25 0 0 0-.25-.25h-8.5a.25.25 0 0 0-.25.25ZM3.75 6h.5a.75.75 0 0 1 0 1.5h-.5a.75.75 0 0 1 0-1.5ZM3 3.75A.75.75 0 0 1 3.75 3h.5a.75.75 0 0 1 0 1.5h-.5A.75.75 0 0 1 3 3.75Zm4 3A.75.75 0 0 1 7.75 6h.5a.75.75 0 0 1 0 1.5h-.5A.75.75 0 0 1 7 6.75ZM7.75 3h.5a.75.75 0 0 1 0 1.5h-.5a.75.75 0 0 1 0-1.5ZM3 9.75A.75.75 0 0 1 3.75 9h.5a.75.75 0 0 1 0 1.5h-.5A.75.75 0 0 1 3 9.75ZM7.75 9h.5a.75.75 0 0 1 0 1.5h-.5a.75.75 0 0 1 0-1.5Z\"></path>\n",
            "</svg>\n",
            "</template>\n",
            "\n",
            "<template id=\"rocket-icon\">\n",
            "  <svg aria-hidden=\"true\" height=\"16\" viewBox=\"0 0 16 16\" version=\"1.1\" width=\"16\" data-view-component=\"true\" class=\"octicon octicon-rocket\">\n",
            "    <path d=\"M14.064 0h.186C15.216 0 16 .784 16 1.75v.186a8.752 8.752 0 0 1-2.564 6.186l-.458.459c-.314.314-.641.616-.979.904v3.207c0 .608-.315 1.172-.833 1.49l-2.774 1.707a.749.749 0 0 1-1.11-.418l-.954-3.102a1.214 1.214 0 0 1-.145-.125L3.754 9.816a1.218 1.218 0 0 1-.124-.145L.528 8.717a.749.749 0 0 1-.418-1.11l1.71-2.774A1.748 1.748 0 0 1 3.31 4h3.204c.288-.338.59-.665.904-.979l.459-.458A8.749 8.749 0 0 1 14.064 0ZM8.938 3.623h-.002l-.458.458c-.76.76-1.437 1.598-2.02 2.5l-1.5 2.317 2.143 2.143 2.317-1.5c.902-.583 1.74-1.26 2.499-2.02l.459-.458a7.25 7.25 0 0 0 2.123-5.127V1.75a.25.25 0 0 0-.25-.25h-.186a7.249 7.249 0 0 0-5.125 2.123ZM3.56 14.56c-.732.732-2.334 1.045-3.005 1.148a.234.234 0 0 1-.201-.064.234.234 0 0 1-.064-.201c.103-.671.416-2.273 1.15-3.003a1.502 1.502 0 1 1 2.12 2.12Zm6.94-3.935c-.088.06-.177.118-.266.175l-2.35 1.521.548 1.783 1.949-1.2a.25.25 0 0 0 .119-.213ZM3.678 8.116 5.2 5.766c.058-.09.117-.178.176-.266H3.309a.25.25 0 0 0-.213.119l-1.2 1.95ZM12 5a1 1 0 1 1-2 0 1 1 0 0 1 2 0Z\"></path>\n",
            "</svg>\n",
            "</template>\n",
            "\n",
            "<template id=\"shield-check-icon\">\n",
            "  <svg aria-hidden=\"true\" height=\"16\" viewBox=\"0 0 16 16\" version=\"1.1\" width=\"16\" data-view-component=\"true\" class=\"octicon octicon-shield-check\">\n",
            "    <path d=\"m8.533.133 5.25 1.68A1.75 1.75 0 0 1 15 3.48V7c0 1.566-.32 3.182-1.303 4.682-.983 1.498-2.585 2.813-5.032 3.855a1.697 1.697 0 0 1-1.33 0c-2.447-1.042-4.049-2.357-5.032-3.855C1.32 10.182 1 8.566 1 7V3.48a1.75 1.75 0 0 1 1.217-1.667l5.25-1.68a1.748 1.748 0 0 1 1.066 0Zm-.61 1.429.001.001-5.25 1.68a.251.251 0 0 0-.174.237V7c0 1.36.275 2.666 1.057 3.859.784 1.194 2.121 2.342 4.366 3.298a.196.196 0 0 0 .154 0c2.245-.957 3.582-2.103 4.366-3.297C13.225 9.666 13.5 8.358 13.5 7V3.48a.25.25 0 0 0-.174-.238l-5.25-1.68a.25.25 0 0 0-.153 0ZM11.28 6.28l-3.5 3.5a.75.75 0 0 1-1.06 0l-1.5-1.5a.749.749 0 0 1 .326-1.275.749.749 0 0 1 .734.215l.97.97 2.97-2.97a.751.751 0 0 1 1.042.018.751.751 0 0 1 .018 1.042Z\"></path>\n",
            "</svg>\n",
            "</template>\n",
            "\n",
            "<template id=\"heart-icon\">\n",
            "  <svg aria-hidden=\"true\" height=\"16\" viewBox=\"0 0 16 16\" version=\"1.1\" width=\"16\" data-view-component=\"true\" class=\"octicon octicon-heart\">\n",
            "    <path d=\"m8 14.25.345.666a.75.75 0 0 1-.69 0l-.008-.004-.018-.01a7.152 7.152 0 0 1-.31-.17 22.055 22.055 0 0 1-3.434-2.414C2.045 10.731 0 8.35 0 5.5 0 2.836 2.086 1 4.25 1 5.797 1 7.153 1.802 8 3.02 8.847 1.802 10.203 1 11.75 1 13.914 1 16 2.836 16 5.5c0 2.85-2.045 5.231-3.885 6.818a22.066 22.066 0 0 1-3.744 2.584l-.018.01-.006.003h-.002ZM4.25 2.5c-1.336 0-2.75 1.164-2.75 3 0 2.15 1.58 4.144 3.365 5.682A20.58 20.58 0 0 0 8 13.393a20.58 20.58 0 0 0 3.135-2.211C12.92 9.644 14.5 7.65 14.5 5.5c0-1.836-1.414-3-2.75-3-1.373 0-2.609.986-3.029 2.456a.749.749 0 0 1-1.442 0C6.859 3.486 5.623 2.5 4.25 2.5Z\"></path>\n",
            "</svg>\n",
            "</template>\n",
            "\n",
            "<template id=\"server-icon\">\n",
            "  <svg aria-hidden=\"true\" height=\"16\" viewBox=\"0 0 16 16\" version=\"1.1\" width=\"16\" data-view-component=\"true\" class=\"octicon octicon-server\">\n",
            "    <path d=\"M1.75 1h12.5c.966 0 1.75.784 1.75 1.75v4c0 .372-.116.717-.314 1 .198.283.314.628.314 1v4a1.75 1.75 0 0 1-1.75 1.75H1.75A1.75 1.75 0 0 1 0 12.75v-4c0-.358.109-.707.314-1a1.739 1.739 0 0 1-.314-1v-4C0 1.784.784 1 1.75 1ZM1.5 2.75v4c0 .138.112.25.25.25h12.5a.25.25 0 0 0 .25-.25v-4a.25.25 0 0 0-.25-.25H1.75a.25.25 0 0 0-.25.25Zm.25 5.75a.25.25 0 0 0-.25.25v4c0 .138.112.25.25.25h12.5a.25.25 0 0 0 .25-.25v-4a.25.25 0 0 0-.25-.25ZM7 4.75A.75.75 0 0 1 7.75 4h4.5a.75.75 0 0 1 0 1.5h-4.5A.75.75 0 0 1 7 4.75ZM7.75 10h4.5a.75.75 0 0 1 0 1.5h-4.5a.75.75 0 0 1 0-1.5ZM3 4.75A.75.75 0 0 1 3.75 4h.5a.75.75 0 0 1 0 1.5h-.5A.75.75 0 0 1 3 4.75ZM3.75 10h.5a.75.75 0 0 1 0 1.5h-.5a.75.75 0 0 1 0-1.5Z\"></path>\n",
            "</svg>\n",
            "</template>\n",
            "\n",
            "<template id=\"globe-icon\">\n",
            "  <svg aria-hidden=\"true\" height=\"16\" viewBox=\"0 0 16 16\" version=\"1.1\" width=\"16\" data-view-component=\"true\" class=\"octicon octicon-globe\">\n",
            "    <path d=\"M8 0a8 8 0 1 1 0 16A8 8 0 0 1 8 0ZM5.78 8.75a9.64 9.64 0 0 0 1.363 4.177c.255.426.542.832.857 1.215.245-.296.551-.705.857-1.215A9.64 9.64 0 0 0 10.22 8.75Zm4.44-1.5a9.64 9.64 0 0 0-1.363-4.177c-.307-.51-.612-.919-.857-1.215a9.927 9.927 0 0 0-.857 1.215A9.64 9.64 0 0 0 5.78 7.25Zm-5.944 1.5H1.543a6.507 6.507 0 0 0 4.666 5.5c-.123-.181-.24-.365-.352-.552-.715-1.192-1.437-2.874-1.581-4.948Zm-2.733-1.5h2.733c.144-2.074.866-3.756 1.58-4.948.12-.197.237-.381.353-.552a6.507 6.507 0 0 0-4.666 5.5Zm10.181 1.5c-.144 2.074-.866 3.756-1.58 4.948-.12.197-.237.381-.353.552a6.507 6.507 0 0 0 4.666-5.5Zm2.733-1.5a6.507 6.507 0 0 0-4.666-5.5c.123.181.24.365.353.552.714 1.192 1.436 2.874 1.58 4.948Z\"></path>\n",
            "</svg>\n",
            "</template>\n",
            "\n",
            "<template id=\"issue-opened-icon\">\n",
            "  <svg aria-hidden=\"true\" height=\"16\" viewBox=\"0 0 16 16\" version=\"1.1\" width=\"16\" data-view-component=\"true\" class=\"octicon octicon-issue-opened\">\n",
            "    <path d=\"M8 9.5a1.5 1.5 0 1 0 0-3 1.5 1.5 0 0 0 0 3Z\"></path><path d=\"M8 0a8 8 0 1 1 0 16A8 8 0 0 1 8 0ZM1.5 8a6.5 6.5 0 1 0 13 0 6.5 6.5 0 0 0-13 0Z\"></path>\n",
            "</svg>\n",
            "</template>\n",
            "\n",
            "<template id=\"device-mobile-icon\">\n",
            "  <svg aria-hidden=\"true\" height=\"16\" viewBox=\"0 0 16 16\" version=\"1.1\" width=\"16\" data-view-component=\"true\" class=\"octicon octicon-device-mobile\">\n",
            "    <path d=\"M3.75 0h8.5C13.216 0 14 .784 14 1.75v12.5A1.75 1.75 0 0 1 12.25 16h-8.5A1.75 1.75 0 0 1 2 14.25V1.75C2 .784 2.784 0 3.75 0ZM3.5 1.75v12.5c0 .138.112.25.25.25h8.5a.25.25 0 0 0 .25-.25V1.75a.25.25 0 0 0-.25-.25h-8.5a.25.25 0 0 0-.25.25ZM8 13a1 1 0 1 1 0-2 1 1 0 0 1 0 2Z\"></path>\n",
            "</svg>\n",
            "</template>\n",
            "\n",
            "<template id=\"package-icon\">\n",
            "  <svg aria-hidden=\"true\" height=\"16\" viewBox=\"0 0 16 16\" version=\"1.1\" width=\"16\" data-view-component=\"true\" class=\"octicon octicon-package\">\n",
            "    <path d=\"m8.878.392 5.25 3.045c.54.314.872.89.872 1.514v6.098a1.75 1.75 0 0 1-.872 1.514l-5.25 3.045a1.75 1.75 0 0 1-1.756 0l-5.25-3.045A1.75 1.75 0 0 1 1 11.049V4.951c0-.624.332-1.201.872-1.514L7.122.392a1.75 1.75 0 0 1 1.756 0ZM7.875 1.69l-4.63 2.685L8 7.133l4.755-2.758-4.63-2.685a.248.248 0 0 0-.25 0ZM2.5 5.677v5.372c0 .09.047.171.125.216l4.625 2.683V8.432Zm6.25 8.271 4.625-2.683a.25.25 0 0 0 .125-.216V5.677L8.75 8.432Z\"></path>\n",
            "</svg>\n",
            "</template>\n",
            "\n",
            "<template id=\"credit-card-icon\">\n",
            "  <svg aria-hidden=\"true\" height=\"16\" viewBox=\"0 0 16 16\" version=\"1.1\" width=\"16\" data-view-component=\"true\" class=\"octicon octicon-credit-card\">\n",
            "    <path d=\"M10.75 9a.75.75 0 0 0 0 1.5h1.5a.75.75 0 0 0 0-1.5h-1.5Z\"></path><path d=\"M0 3.75C0 2.784.784 2 1.75 2h12.5c.966 0 1.75.784 1.75 1.75v8.5A1.75 1.75 0 0 1 14.25 14H1.75A1.75 1.75 0 0 1 0 12.25ZM14.5 6.5h-13v5.75c0 .138.112.25.25.25h12.5a.25.25 0 0 0 .25-.25Zm0-2.75a.25.25 0 0 0-.25-.25H1.75a.25.25 0 0 0-.25.25V5h13Z\"></path>\n",
            "</svg>\n",
            "</template>\n",
            "\n",
            "<template id=\"play-icon\">\n",
            "  <svg aria-hidden=\"true\" height=\"16\" viewBox=\"0 0 16 16\" version=\"1.1\" width=\"16\" data-view-component=\"true\" class=\"octicon octicon-play\">\n",
            "    <path d=\"M8 0a8 8 0 1 1 0 16A8 8 0 0 1 8 0ZM1.5 8a6.5 6.5 0 1 0 13 0 6.5 6.5 0 0 0-13 0Zm4.879-2.773 4.264 2.559a.25.25 0 0 1 0 .428l-4.264 2.559A.25.25 0 0 1 6 10.559V5.442a.25.25 0 0 1 .379-.215Z\"></path>\n",
            "</svg>\n",
            "</template>\n",
            "\n",
            "<template id=\"gift-icon\">\n",
            "  <svg aria-hidden=\"true\" height=\"16\" viewBox=\"0 0 16 16\" version=\"1.1\" width=\"16\" data-view-component=\"true\" class=\"octicon octicon-gift\">\n",
            "    <path d=\"M2 2.75A2.75 2.75 0 0 1 4.75 0c.983 0 1.873.42 2.57 1.232.268.318.497.668.68 1.042.183-.375.411-.725.68-1.044C9.376.42 10.266 0 11.25 0a2.75 2.75 0 0 1 2.45 4h.55c.966 0 1.75.784 1.75 1.75v2c0 .698-.409 1.301-1 1.582v4.918A1.75 1.75 0 0 1 13.25 16H2.75A1.75 1.75 0 0 1 1 14.25V9.332C.409 9.05 0 8.448 0 7.75v-2C0 4.784.784 4 1.75 4h.55c-.192-.375-.3-.8-.3-1.25ZM7.25 9.5H2.5v4.75c0 .138.112.25.25.25h4.5Zm1.5 0v5h4.5a.25.25 0 0 0 .25-.25V9.5Zm0-4V8h5.5a.25.25 0 0 0 .25-.25v-2a.25.25 0 0 0-.25-.25Zm-7 0a.25.25 0 0 0-.25.25v2c0 .138.112.25.25.25h5.5V5.5h-5.5Zm3-4a1.25 1.25 0 0 0 0 2.5h2.309c-.233-.818-.542-1.401-.878-1.793-.43-.502-.915-.707-1.431-.707ZM8.941 4h2.309a1.25 1.25 0 0 0 0-2.5c-.516 0-1 .205-1.43.707-.337.392-.646.975-.879 1.793Z\"></path>\n",
            "</svg>\n",
            "</template>\n",
            "\n",
            "<template id=\"code-square-icon\">\n",
            "  <svg aria-hidden=\"true\" height=\"16\" viewBox=\"0 0 16 16\" version=\"1.1\" width=\"16\" data-view-component=\"true\" class=\"octicon octicon-code-square\">\n",
            "    <path d=\"M0 1.75C0 .784.784 0 1.75 0h12.5C15.216 0 16 .784 16 1.75v12.5A1.75 1.75 0 0 1 14.25 16H1.75A1.75 1.75 0 0 1 0 14.25Zm1.75-.25a.25.25 0 0 0-.25.25v12.5c0 .138.112.25.25.25h12.5a.25.25 0 0 0 .25-.25V1.75a.25.25 0 0 0-.25-.25Zm7.47 3.97a.75.75 0 0 1 1.06 0l2 2a.75.75 0 0 1 0 1.06l-2 2a.749.749 0 0 1-1.275-.326.749.749 0 0 1 .215-.734L10.69 8 9.22 6.53a.75.75 0 0 1 0-1.06ZM6.78 6.53 5.31 8l1.47 1.47a.749.749 0 0 1-.326 1.275.749.749 0 0 1-.734-.215l-2-2a.75.75 0 0 1 0-1.06l2-2a.751.751 0 0 1 1.042.018.751.751 0 0 1 .018 1.042Z\"></path>\n",
            "</svg>\n",
            "</template>\n",
            "\n",
            "<template id=\"device-desktop-icon\">\n",
            "  <svg aria-hidden=\"true\" height=\"16\" viewBox=\"0 0 16 16\" version=\"1.1\" width=\"16\" data-view-component=\"true\" class=\"octicon octicon-device-desktop\">\n",
            "    <path d=\"M14.25 1c.966 0 1.75.784 1.75 1.75v7.5A1.75 1.75 0 0 1 14.25 12h-3.727c.099 1.041.52 1.872 1.292 2.757A.752.752 0 0 1 11.25 16h-6.5a.75.75 0 0 1-.565-1.243c.772-.885 1.192-1.716 1.292-2.757H1.75A1.75 1.75 0 0 1 0 10.25v-7.5C0 1.784.784 1 1.75 1ZM1.75 2.5a.25.25 0 0 0-.25.25v7.5c0 .138.112.25.25.25h12.5a.25.25 0 0 0 .25-.25v-7.5a.25.25 0 0 0-.25-.25ZM9.018 12H6.982a5.72 5.72 0 0 1-.765 2.5h3.566a5.72 5.72 0 0 1-.765-2.5Z\"></path>\n",
            "</svg>\n",
            "</template>\n",
            "\n",
            "        <div class=\"position-relative\">\n",
            "                <ul\n",
            "                  role=\"listbox\"\n",
            "                  class=\"ActionListWrap QueryBuilder-ListWrap\"\n",
            "                  aria-label=\"Suggestions\"\n",
            "                  data-action=\"\n",
            "                    combobox-commit:query-builder#comboboxCommit\n",
            "                    mousedown:query-builder#resultsMousedown\n",
            "                  \"\n",
            "                  data-target=\"query-builder.resultsList\"\n",
            "                  data-persist-list=false\n",
            "                  id=\"query-builder-test-results\"\n",
            "                ></ul>\n",
            "        </div>\n",
            "      <div class=\"FormControl-inlineValidation\" id=\"validation-fdd03d20-fb7b-42b4-872a-05268e31a672\" hidden=\"hidden\">\n",
            "        <span class=\"FormControl-inlineValidation--visual\">\n",
            "          <svg aria-hidden=\"true\" height=\"12\" viewBox=\"0 0 12 12\" version=\"1.1\" width=\"12\" data-view-component=\"true\" class=\"octicon octicon-alert-fill\">\n",
            "    <path d=\"M4.855.708c.5-.896 1.79-.896 2.29 0l4.675 8.351a1.312 1.312 0 0 1-1.146 1.954H1.33A1.313 1.313 0 0 1 .183 9.058ZM7 7V3H5v4Zm-1 3a1 1 0 1 0 0-2 1 1 0 0 0 0 2Z\"></path>\n",
            "</svg>\n",
            "        </span>\n",
            "        <span></span>\n",
            "</div>    </div>\n",
            "    <div data-target=\"query-builder.screenReaderFeedback\" aria-live=\"polite\" aria-atomic=\"true\" class=\"sr-only\"></div>\n",
            "</query-builder></form>\n",
            "          <div class=\"d-flex flex-row color-fg-muted px-3 text-small color-bg-default search-feedback-prompt\">\n",
            "            <a target=\"_blank\" href=\"https://docs.github.com/search-github/github-code-search/understanding-github-code-search-syntax\" data-view-component=\"true\" class=\"Link color-fg-accent text-normal ml-2\">\n",
            "              Search syntax tips\n",
            "</a>            <div class=\"d-flex flex-1\"></div>\n",
            "          </div>\n",
            "        </div>\n",
            "</div>\n",
            "\n",
            "    </div>\n",
            "</modal-dialog></div>\n",
            "  </div>\n",
            "  <div data-action=\"click:qbsearch-input#retract\" class=\"dark-backdrop position-fixed\" hidden data-target=\"qbsearch-input.darkBackdrop\"></div>\n",
            "  <div class=\"color-fg-default\">\n",
            "    \n",
            "<dialog-helper>\n",
            "  <dialog data-target=\"qbsearch-input.feedbackDialog\" data-action=\"close:qbsearch-input#handleDialogClose cancel:qbsearch-input#handleDialogClose\" id=\"feedback-dialog\" aria-modal=\"true\" aria-labelledby=\"feedback-dialog-title\" aria-describedby=\"feedback-dialog-description\" data-view-component=\"true\" class=\"Overlay Overlay-whenNarrow Overlay--size-medium Overlay--motion-scaleFade\">\n",
            "    <div data-view-component=\"true\" class=\"Overlay-header\">\n",
            "  <div class=\"Overlay-headerContentWrap\">\n",
            "    <div class=\"Overlay-titleWrap\">\n",
            "      <h1 class=\"Overlay-title \" id=\"feedback-dialog-title\">\n",
            "        Provide feedback\n",
            "      </h1>\n",
            "        \n",
            "    </div>\n",
            "    <div class=\"Overlay-actionWrap\">\n",
            "      <button data-close-dialog-id=\"feedback-dialog\" aria-label=\"Close\" type=\"button\" data-view-component=\"true\" class=\"close-button Overlay-closeButton\"><svg aria-hidden=\"true\" height=\"16\" viewBox=\"0 0 16 16\" version=\"1.1\" width=\"16\" data-view-component=\"true\" class=\"octicon octicon-x\">\n",
            "    <path d=\"M3.72 3.72a.75.75 0 0 1 1.06 0L8 6.94l3.22-3.22a.749.749 0 0 1 1.275.326.749.749 0 0 1-.215.734L9.06 8l3.22 3.22a.749.749 0 0 1-.326 1.275.749.749 0 0 1-.734-.215L8 9.06l-3.22 3.22a.751.751 0 0 1-1.042-.018.751.751 0 0 1-.018-1.042L6.94 8 3.72 4.78a.75.75 0 0 1 0-1.06Z\"></path>\n",
            "</svg></button>\n",
            "    </div>\n",
            "  </div>\n",
            "  \n",
            "</div>\n",
            "      <scrollable-region data-labelled-by=\"feedback-dialog-title\">\n",
            "        <div data-view-component=\"true\" class=\"Overlay-body\">        <!-- '\"` --><!-- </textarea></xmp> --></option></form><form id=\"code-search-feedback-form\" data-turbo=\"false\" action=\"/search/feedback\" accept-charset=\"UTF-8\" method=\"post\"><input type=\"hidden\" data-csrf=\"true\" name=\"authenticity_token\" value=\"iiGUqwvTuwCQjpbDvPgdwNXFTKktAOGoQfzAIZxkzQQkfvxD8GQld79JZ4GoweIM5F/lp0Mo8P58U0U19Xw+pw==\" />\n",
            "          <p>We read every piece of feedback, and take your input very seriously.</p>\n",
            "          <textarea name=\"feedback\" class=\"form-control width-full mb-2\" style=\"height: 120px\" id=\"feedback\"></textarea>\n",
            "          <input name=\"include_email\" id=\"include_email\" aria-label=\"Include my email address so I can be contacted\" class=\"form-control mr-2\" type=\"checkbox\">\n",
            "          <label for=\"include_email\" style=\"font-weight: normal\">Include my email address so I can be contacted</label>\n",
            "</form></div>\n",
            "      </scrollable-region>\n",
            "      <div data-view-component=\"true\" class=\"Overlay-footer Overlay-footer--alignEnd\">          <button data-close-dialog-id=\"feedback-dialog\" type=\"button\" data-view-component=\"true\" class=\"btn\">    Cancel\n",
            "</button>\n",
            "          <button form=\"code-search-feedback-form\" data-action=\"click:qbsearch-input#submitFeedback\" type=\"submit\" data-view-component=\"true\" class=\"btn-primary btn\">    Submit feedback\n",
            "</button>\n",
            "</div>\n",
            "</dialog></dialog-helper>\n",
            "\n",
            "    <custom-scopes data-target=\"qbsearch-input.customScopesManager\">\n",
            "    \n",
            "<dialog-helper>\n",
            "  <dialog data-target=\"custom-scopes.customScopesModalDialog\" data-action=\"close:qbsearch-input#handleDialogClose cancel:qbsearch-input#handleDialogClose\" id=\"custom-scopes-dialog\" aria-modal=\"true\" aria-labelledby=\"custom-scopes-dialog-title\" aria-describedby=\"custom-scopes-dialog-description\" data-view-component=\"true\" class=\"Overlay Overlay-whenNarrow Overlay--size-medium Overlay--motion-scaleFade\">\n",
            "    <div data-view-component=\"true\" class=\"Overlay-header Overlay-header--divided\">\n",
            "  <div class=\"Overlay-headerContentWrap\">\n",
            "    <div class=\"Overlay-titleWrap\">\n",
            "      <h1 class=\"Overlay-title \" id=\"custom-scopes-dialog-title\">\n",
            "        Saved searches\n",
            "      </h1>\n",
            "        <h2 id=\"custom-scopes-dialog-description\" class=\"Overlay-description\">Use saved searches to filter your results more quickly</h2>\n",
            "    </div>\n",
            "    <div class=\"Overlay-actionWrap\">\n",
            "      <button data-close-dialog-id=\"custom-scopes-dialog\" aria-label=\"Close\" type=\"button\" data-view-component=\"true\" class=\"close-button Overlay-closeButton\"><svg aria-hidden=\"true\" height=\"16\" viewBox=\"0 0 16 16\" version=\"1.1\" width=\"16\" data-view-component=\"true\" class=\"octicon octicon-x\">\n",
            "    <path d=\"M3.72 3.72a.75.75 0 0 1 1.06 0L8 6.94l3.22-3.22a.749.749 0 0 1 1.275.326.749.749 0 0 1-.215.734L9.06 8l3.22 3.22a.749.749 0 0 1-.326 1.275.749.749 0 0 1-.734-.215L8 9.06l-3.22 3.22a.751.751 0 0 1-1.042-.018.751.751 0 0 1-.018-1.042L6.94 8 3.72 4.78a.75.75 0 0 1 0-1.06Z\"></path>\n",
            "</svg></button>\n",
            "    </div>\n",
            "  </div>\n",
            "  \n",
            "</div>\n",
            "      <scrollable-region data-labelled-by=\"custom-scopes-dialog-title\">\n",
            "        <div data-view-component=\"true\" class=\"Overlay-body\">        <div data-target=\"custom-scopes.customScopesModalDialogFlash\"></div>\n",
            "\n",
            "        <div hidden class=\"create-custom-scope-form\" data-target=\"custom-scopes.createCustomScopeForm\">\n",
            "        <!-- '\"` --><!-- </textarea></xmp> --></option></form><form id=\"custom-scopes-dialog-form\" data-turbo=\"false\" action=\"/search/custom_scopes\" accept-charset=\"UTF-8\" method=\"post\"><input type=\"hidden\" data-csrf=\"true\" name=\"authenticity_token\" value=\"e/Na8IN7AuiLq9o4FTo7KtoNcjdkczkQeZHUdA4wOTYl1WiKBxKBLc0cJpJnxud5OKbI+n3UKhSYi3+BuxOXSA==\" />\n",
            "          <div data-target=\"custom-scopes.customScopesModalDialogFlash\"></div>\n",
            "\n",
            "          <input type=\"hidden\" id=\"custom_scope_id\" name=\"custom_scope_id\" data-target=\"custom-scopes.customScopesIdField\">\n",
            "\n",
            "          <div class=\"form-group\">\n",
            "            <label for=\"custom_scope_name\">Name</label>\n",
            "            <auto-check src=\"/search/custom_scopes/check_name\" required>\n",
            "              <input\n",
            "                type=\"text\"\n",
            "                name=\"custom_scope_name\"\n",
            "                id=\"custom_scope_name\"\n",
            "                data-target=\"custom-scopes.customScopesNameField\"\n",
            "                class=\"form-control\"\n",
            "                autocomplete=\"off\"\n",
            "                placeholder=\"github-ruby\"\n",
            "                required\n",
            "                maxlength=\"50\">\n",
            "              <input type=\"hidden\" data-csrf=\"true\" value=\"kJZOCzLaO4C09pjHeDxadmqOJwBibWZgcScZBU2JeoGVMLWdZvEMc5p1kGF82QkgX8gkTlIILpdN/agj02D2uA==\" />\n",
            "            </auto-check>\n",
            "          </div>\n",
            "\n",
            "          <div class=\"form-group\">\n",
            "            <label for=\"custom_scope_query\">Query</label>\n",
            "            <input\n",
            "              type=\"text\"\n",
            "              name=\"custom_scope_query\"\n",
            "              id=\"custom_scope_query\"\n",
            "              data-target=\"custom-scopes.customScopesQueryField\"\n",
            "              class=\"form-control\"\n",
            "              autocomplete=\"off\"\n",
            "              placeholder=\"(repo:mona/a OR repo:mona/b) AND lang:python\"\n",
            "              required\n",
            "              maxlength=\"500\">\n",
            "          </div>\n",
            "\n",
            "          <p class=\"text-small color-fg-muted\">\n",
            "            To see all available qualifiers, see our <a class=\"Link--inTextBlock\" href=\"https://docs.github.com/search-github/github-code-search/understanding-github-code-search-syntax\">documentation</a>.\n",
            "          </p>\n",
            "</form>        </div>\n",
            "\n",
            "        <div data-target=\"custom-scopes.manageCustomScopesForm\">\n",
            "          <div data-target=\"custom-scopes.list\"></div>\n",
            "        </div>\n",
            "\n",
            "</div>\n",
            "      </scrollable-region>\n",
            "      <div data-view-component=\"true\" class=\"Overlay-footer Overlay-footer--alignEnd Overlay-footer--divided\">          <button data-action=\"click:custom-scopes#customScopesCancel\" type=\"button\" data-view-component=\"true\" class=\"btn\">    Cancel\n",
            "</button>\n",
            "          <button form=\"custom-scopes-dialog-form\" data-action=\"click:custom-scopes#customScopesSubmit\" data-target=\"custom-scopes.customScopesSubmitButton\" type=\"submit\" data-view-component=\"true\" class=\"btn-primary btn\">    Create saved search\n",
            "</button>\n",
            "</div>\n",
            "</dialog></dialog-helper>\n",
            "    </custom-scopes>\n",
            "  </div>\n",
            "</qbsearch-input>\n",
            "\n",
            "            <div class=\"position-relative HeaderMenu-link-wrap d-lg-inline-block\">\n",
            "              <a\n",
            "                href=\"/login?return_to=https%3A%2F%2Fgithub.com%2Fniteen82%2Fspark-scala%2Fblob%2Fmain%2Fcars.csv\"\n",
            "                class=\"HeaderMenu-link HeaderMenu-link--sign-in HeaderMenu-button flex-shrink-0 no-underline d-none d-lg-inline-flex border border-lg-0 rounded rounded-lg-0 px-2 py-1\"\n",
            "                style=\"margin-left: 12px;\"\n",
            "                data-hydro-click=\"{&quot;event_type&quot;:&quot;authentication.click&quot;,&quot;payload&quot;:{&quot;location_in_page&quot;:&quot;site header menu&quot;,&quot;repository_id&quot;:null,&quot;auth_type&quot;:&quot;SIGN_UP&quot;,&quot;originating_url&quot;:&quot;https://github.com/niteen82/spark-scala/blob/main/cars.csv&quot;,&quot;user_id&quot;:null}}\" data-hydro-click-hmac=\"5111aff86b22a5318e49bcb1faeb7493d29edba3f21b807873252d1fb5ab20d1\"\n",
            "                data-analytics-event=\"{&quot;category&quot;:&quot;Marketing nav&quot;,&quot;action&quot;:&quot;click to go to homepage&quot;,&quot;label&quot;:&quot;ref_page:Marketing;ref_cta:Sign in;ref_loc:Header&quot;}\"\n",
            "              >\n",
            "                Sign in\n",
            "              </a>\n",
            "            </div>\n",
            "\n",
            "              <a href=\"/signup?ref_cta=Sign+up&amp;ref_loc=header+logged+out&amp;ref_page=%2F%3Cuser-name%3E%2F%3Crepo-name%3E%2Fblob%2Fshow&amp;source=header-repo&amp;source_repo=niteen82%2Fspark-scala\"\n",
            "                class=\"HeaderMenu-link HeaderMenu-link--sign-up HeaderMenu-button flex-shrink-0 d-flex d-lg-inline-flex no-underline border color-border-default rounded px-2 py-1\"\n",
            "                data-hydro-click=\"{&quot;event_type&quot;:&quot;authentication.click&quot;,&quot;payload&quot;:{&quot;location_in_page&quot;:&quot;site header menu&quot;,&quot;repository_id&quot;:null,&quot;auth_type&quot;:&quot;SIGN_UP&quot;,&quot;originating_url&quot;:&quot;https://github.com/niteen82/spark-scala/blob/main/cars.csv&quot;,&quot;user_id&quot;:null}}\" data-hydro-click-hmac=\"5111aff86b22a5318e49bcb1faeb7493d29edba3f21b807873252d1fb5ab20d1\"\n",
            "                data-analytics-event=\"{&quot;category&quot;:&quot;Sign up&quot;,&quot;action&quot;:&quot;click to sign up for account&quot;,&quot;label&quot;:&quot;ref_page:/&lt;user-name&gt;/&lt;repo-name&gt;/blob/show;ref_cta:Sign up;ref_loc:header logged out&quot;}\"\n",
            "              >\n",
            "                Sign up\n",
            "              </a>\n",
            "          <button type=\"button\" class=\"sr-only js-header-menu-focus-trap d-block d-lg-none\">Reseting focus</button>\n",
            "        </div>\n",
            "      </div>\n",
            "    </div>\n",
            "  </div>\n",
            "</header>\n",
            "\n",
            "      <div hidden=\"hidden\" data-view-component=\"true\" class=\"js-stale-session-flash stale-session-flash flash flash-warn flash-full\">\n",
            "  \n",
            "        <svg aria-hidden=\"true\" height=\"16\" viewBox=\"0 0 16 16\" version=\"1.1\" width=\"16\" data-view-component=\"true\" class=\"octicon octicon-alert\">\n",
            "    <path d=\"M6.457 1.047c.659-1.234 2.427-1.234 3.086 0l6.082 11.378A1.75 1.75 0 0 1 14.082 15H1.918a1.75 1.75 0 0 1-1.543-2.575Zm1.763.707a.25.25 0 0 0-.44 0L1.698 13.132a.25.25 0 0 0 .22.368h12.164a.25.25 0 0 0 .22-.368Zm.53 3.996v2.5a.75.75 0 0 1-1.5 0v-2.5a.75.75 0 0 1 1.5 0ZM9 11a1 1 0 1 1-2 0 1 1 0 0 1 2 0Z\"></path>\n",
            "</svg>\n",
            "        <span class=\"js-stale-session-flash-signed-in\" hidden>You signed in with another tab or window. <a class=\"Link--inTextBlock\" href=\"\">Reload</a> to refresh your session.</span>\n",
            "        <span class=\"js-stale-session-flash-signed-out\" hidden>You signed out in another tab or window. <a class=\"Link--inTextBlock\" href=\"\">Reload</a> to refresh your session.</span>\n",
            "        <span class=\"js-stale-session-flash-switched\" hidden>You switched accounts on another tab or window. <a class=\"Link--inTextBlock\" href=\"\">Reload</a> to refresh your session.</span>\n",
            "\n",
            "    <button id=\"icon-button-4ca68665-a6e7-47b7-bead-832676e0d0e0\" aria-labelledby=\"tooltip-1d055506-3508-4c5a-a30a-33d551538a1a\" type=\"button\" data-view-component=\"true\" class=\"Button Button--iconOnly Button--invisible Button--medium flash-close js-flash-close\">  <svg aria-hidden=\"true\" height=\"16\" viewBox=\"0 0 16 16\" version=\"1.1\" width=\"16\" data-view-component=\"true\" class=\"octicon octicon-x Button-visual\">\n",
            "    <path d=\"M3.72 3.72a.75.75 0 0 1 1.06 0L8 6.94l3.22-3.22a.749.749 0 0 1 1.275.326.749.749 0 0 1-.215.734L9.06 8l3.22 3.22a.749.749 0 0 1-.326 1.275.749.749 0 0 1-.734-.215L8 9.06l-3.22 3.22a.751.751 0 0 1-1.042-.018.751.751 0 0 1-.018-1.042L6.94 8 3.72 4.78a.75.75 0 0 1 0-1.06Z\"></path>\n",
            "</svg>\n",
            "</button><tool-tip id=\"tooltip-1d055506-3508-4c5a-a30a-33d551538a1a\" for=\"icon-button-4ca68665-a6e7-47b7-bead-832676e0d0e0\" popover=\"manual\" data-direction=\"s\" data-type=\"label\" data-view-component=\"true\" class=\"sr-only position-absolute\">Dismiss alert</tool-tip>\n",
            "\n",
            "\n",
            "  \n",
            "</div>\n",
            "    </div>\n",
            "\n",
            "  <div id=\"start-of-content\" class=\"show-on-focus\"></div>\n",
            "\n",
            "\n",
            "\n",
            "\n",
            "\n",
            "\n",
            "\n",
            "\n",
            "    <div id=\"js-flash-container\" class=\"flash-container\" data-turbo-replace>\n",
            "\n",
            "\n",
            "\n",
            "\n",
            "  <template class=\"js-flash-template\">\n",
            "    \n",
            "<div class=\"flash flash-full   {{ className }}\">\n",
            "  <div >\n",
            "    <button autofocus class=\"flash-close js-flash-close\" type=\"button\" aria-label=\"Dismiss this message\">\n",
            "      <svg aria-hidden=\"true\" height=\"16\" viewBox=\"0 0 16 16\" version=\"1.1\" width=\"16\" data-view-component=\"true\" class=\"octicon octicon-x\">\n",
            "    <path d=\"M3.72 3.72a.75.75 0 0 1 1.06 0L8 6.94l3.22-3.22a.749.749 0 0 1 1.275.326.749.749 0 0 1-.215.734L9.06 8l3.22 3.22a.749.749 0 0 1-.326 1.275.749.749 0 0 1-.734-.215L8 9.06l-3.22 3.22a.751.751 0 0 1-1.042-.018.751.751 0 0 1-.018-1.042L6.94 8 3.72 4.78a.75.75 0 0 1 0-1.06Z\"></path>\n",
            "</svg>\n",
            "    </button>\n",
            "    <div aria-atomic=\"true\" role=\"alert\" class=\"js-flash-alert\">\n",
            "      \n",
            "      <div>{{ message }}</div>\n",
            "\n",
            "    </div>\n",
            "  </div>\n",
            "</div>\n",
            "  </template>\n",
            "</div>\n",
            "\n",
            "\n",
            "    \n",
            "    <include-fragment class=\"js-notification-shelf-include-fragment\" data-base-src=\"https://github.com/notifications/beta/shelf\"></include-fragment>\n",
            "\n",
            "\n",
            "\n",
            "\n",
            "\n",
            "  <div\n",
            "    class=\"application-main \"\n",
            "    data-commit-hovercards-enabled\n",
            "    data-discussion-hovercards-enabled\n",
            "    data-issue-and-pr-hovercards-enabled\n",
            "  >\n",
            "        <div itemscope itemtype=\"http://schema.org/SoftwareSourceCode\" class=\"\">\n",
            "    <main id=\"js-repo-pjax-container\" >\n",
            "      \n",
            "      \n",
            "\n",
            "\n",
            "\n",
            "\n",
            "\n",
            "\n",
            "  \n",
            "  <div id=\"repository-container-header\"  class=\"pt-3 hide-full-screen\" style=\"background-color: var(--page-header-bgColor, var(--color-page-header-bg));\" data-turbo-replace>\n",
            "\n",
            "      <div class=\"d-flex flex-nowrap flex-justify-end mb-3  px-3 px-lg-5\" style=\"gap: 1rem;\">\n",
            "\n",
            "        <div class=\"flex-auto min-width-0 width-fit\">\n",
            "            \n",
            "  <div class=\" d-flex flex-wrap flex-items-center wb-break-word f3 text-normal\">\n",
            "      <svg aria-hidden=\"true\" height=\"16\" viewBox=\"0 0 16 16\" version=\"1.1\" width=\"16\" data-view-component=\"true\" class=\"octicon octicon-repo color-fg-muted mr-2\">\n",
            "    <path d=\"M2 2.5A2.5 2.5 0 0 1 4.5 0h8.75a.75.75 0 0 1 .75.75v12.5a.75.75 0 0 1-.75.75h-2.5a.75.75 0 0 1 0-1.5h1.75v-2h-8a1 1 0 0 0-.714 1.7.75.75 0 1 1-1.072 1.05A2.495 2.495 0 0 1 2 11.5Zm10.5-1h-8a1 1 0 0 0-1 1v6.708A2.486 2.486 0 0 1 4.5 9h8ZM5 12.25a.25.25 0 0 1 .25-.25h3.5a.25.25 0 0 1 .25.25v3.25a.25.25 0 0 1-.4.2l-1.45-1.087a.249.249 0 0 0-.3 0L5.4 15.7a.25.25 0 0 1-.4-.2Z\"></path>\n",
            "</svg>\n",
            "    \n",
            "    <span class=\"author flex-self-stretch\" itemprop=\"author\">\n",
            "      <a class=\"url fn\" rel=\"author\" data-hovercard-type=\"user\" data-hovercard-url=\"/users/niteen82/hovercard\" data-octo-click=\"hovercard-link-click\" data-octo-dimensions=\"link_type:self\" href=\"/niteen82\">\n",
            "        niteen82\n",
            "</a>    </span>\n",
            "    <span class=\"mx-1 flex-self-stretch color-fg-muted\">/</span>\n",
            "    <strong itemprop=\"name\" class=\"mr-2 flex-self-stretch\">\n",
            "      <a data-pjax=\"#repo-content-pjax-container\" data-turbo-frame=\"repo-content-turbo-frame\" href=\"/niteen82/spark-scala\">spark-scala</a>\n",
            "    </strong>\n",
            "\n",
            "    <span></span><span class=\"Label Label--secondary v-align-middle mr-1\">Public</span>\n",
            "  </div>\n",
            "\n",
            "\n",
            "        </div>\n",
            "\n",
            "        <div id=\"repository-details-container\" class=\"flex-shrink-0\" data-turbo-replace style=\"max-width: 70%;\">\n",
            "            <ul class=\"pagehead-actions flex-shrink-0 d-none d-md-inline\" style=\"padding: 2px 0;\">\n",
            "    \n",
            "      \n",
            "\n",
            "  <li>\n",
            "            <a href=\"/login?return_to=%2Fniteen82%2Fspark-scala\" rel=\"nofollow\" id=\"repository-details-watch-button\" data-hydro-click=\"{&quot;event_type&quot;:&quot;authentication.click&quot;,&quot;payload&quot;:{&quot;location_in_page&quot;:&quot;notification subscription menu watch&quot;,&quot;repository_id&quot;:null,&quot;auth_type&quot;:&quot;LOG_IN&quot;,&quot;originating_url&quot;:&quot;https://github.com/niteen82/spark-scala/blob/main/cars.csv&quot;,&quot;user_id&quot;:null}}\" data-hydro-click-hmac=\"ccd33a278059aeb136734cf22d5724cabcb5f5f7b1d663fccb090ae38f3aa022\" aria-label=\"You must be signed in to change notification settings\" data-view-component=\"true\" class=\"btn-sm btn\">    <svg aria-hidden=\"true\" height=\"16\" viewBox=\"0 0 16 16\" version=\"1.1\" width=\"16\" data-view-component=\"true\" class=\"octicon octicon-bell mr-2\">\n",
            "    <path d=\"M8 16a2 2 0 0 0 1.985-1.75c.017-.137-.097-.25-.235-.25h-3.5c-.138 0-.252.113-.235.25A2 2 0 0 0 8 16ZM3 5a5 5 0 0 1 10 0v2.947c0 .05.015.098.042.139l1.703 2.555A1.519 1.519 0 0 1 13.482 13H2.518a1.516 1.516 0 0 1-1.263-2.36l1.703-2.554A.255.255 0 0 0 3 7.947Zm5-3.5A3.5 3.5 0 0 0 4.5 5v2.947c0 .346-.102.683-.294.97l-1.703 2.556a.017.017 0 0 0-.003.01l.001.006c0 .002.002.004.004.006l.006.004.007.001h10.964l.007-.001.006-.004.004-.006.001-.007a.017.017 0 0 0-.003-.01l-1.703-2.554a1.745 1.745 0 0 1-.294-.97V5A3.5 3.5 0 0 0 8 1.5Z\"></path>\n",
            "</svg>Notifications\n",
            "</a>    <tool-tip id=\"tooltip-4e12897a-cb8a-4f49-91f7-85ce41178742\" for=\"repository-details-watch-button\" popover=\"manual\" data-direction=\"s\" data-type=\"description\" data-view-component=\"true\" class=\"sr-only position-absolute\">You must be signed in to change notification settings</tool-tip>\n",
            "\n",
            "  </li>\n",
            "\n",
            "  <li>\n",
            "          <a icon=\"repo-forked\" id=\"fork-button\" href=\"/login?return_to=%2Fniteen82%2Fspark-scala\" rel=\"nofollow\" data-hydro-click=\"{&quot;event_type&quot;:&quot;authentication.click&quot;,&quot;payload&quot;:{&quot;location_in_page&quot;:&quot;repo details fork button&quot;,&quot;repository_id&quot;:859423405,&quot;auth_type&quot;:&quot;LOG_IN&quot;,&quot;originating_url&quot;:&quot;https://github.com/niteen82/spark-scala/blob/main/cars.csv&quot;,&quot;user_id&quot;:null}}\" data-hydro-click-hmac=\"0224ec0977a42035b7fd43d28672b62987a452b2a7047be4db29b249aef28aa4\" data-view-component=\"true\" class=\"btn-sm btn\">    <svg aria-hidden=\"true\" height=\"16\" viewBox=\"0 0 16 16\" version=\"1.1\" width=\"16\" data-view-component=\"true\" class=\"octicon octicon-repo-forked mr-2\">\n",
            "    <path d=\"M5 5.372v.878c0 .414.336.75.75.75h4.5a.75.75 0 0 0 .75-.75v-.878a2.25 2.25 0 1 1 1.5 0v.878a2.25 2.25 0 0 1-2.25 2.25h-1.5v2.128a2.251 2.251 0 1 1-1.5 0V8.5h-1.5A2.25 2.25 0 0 1 3.5 6.25v-.878a2.25 2.25 0 1 1 1.5 0ZM5 3.25a.75.75 0 1 0-1.5 0 .75.75 0 0 0 1.5 0Zm6.75.75a.75.75 0 1 0 0-1.5.75.75 0 0 0 0 1.5Zm-3 8.75a.75.75 0 1 0-1.5 0 .75.75 0 0 0 1.5 0Z\"></path>\n",
            "</svg>Fork\n",
            "    <span id=\"repo-network-counter\" data-pjax-replace=\"true\" data-turbo-replace=\"true\" title=\"0\" data-view-component=\"true\" class=\"Counter\">0</span>\n",
            "</a>\n",
            "  </li>\n",
            "\n",
            "  <li>\n",
            "        <div data-view-component=\"true\" class=\"BtnGroup d-flex\">\n",
            "        <a href=\"/login?return_to=%2Fniteen82%2Fspark-scala\" rel=\"nofollow\" data-hydro-click=\"{&quot;event_type&quot;:&quot;authentication.click&quot;,&quot;payload&quot;:{&quot;location_in_page&quot;:&quot;star button&quot;,&quot;repository_id&quot;:859423405,&quot;auth_type&quot;:&quot;LOG_IN&quot;,&quot;originating_url&quot;:&quot;https://github.com/niteen82/spark-scala/blob/main/cars.csv&quot;,&quot;user_id&quot;:null}}\" data-hydro-click-hmac=\"febaed794395a21e166b49d168852d5c44c29f6f49ac8d52b50485866a09a99f\" aria-label=\"You must be signed in to star a repository\" data-view-component=\"true\" class=\"tooltipped tooltipped-sw btn-sm btn\">    <svg aria-hidden=\"true\" height=\"16\" viewBox=\"0 0 16 16\" version=\"1.1\" width=\"16\" data-view-component=\"true\" class=\"octicon octicon-star v-align-text-bottom d-inline-block mr-2\">\n",
            "    <path d=\"M8 .25a.75.75 0 0 1 .673.418l1.882 3.815 4.21.612a.75.75 0 0 1 .416 1.279l-3.046 2.97.719 4.192a.751.751 0 0 1-1.088.791L8 12.347l-3.766 1.98a.75.75 0 0 1-1.088-.79l.72-4.194L.818 6.374a.75.75 0 0 1 .416-1.28l4.21-.611L7.327.668A.75.75 0 0 1 8 .25Zm0 2.445L6.615 5.5a.75.75 0 0 1-.564.41l-3.097.45 2.24 2.184a.75.75 0 0 1 .216.664l-.528 3.084 2.769-1.456a.75.75 0 0 1 .698 0l2.77 1.456-.53-3.084a.75.75 0 0 1 .216-.664l2.24-2.183-3.096-.45a.75.75 0 0 1-.564-.41L8 2.694Z\"></path>\n",
            "</svg><span data-view-component=\"true\" class=\"d-inline\">\n",
            "          Star\n",
            "</span>          <span id=\"repo-stars-counter-star\" aria-label=\"0 users starred this repository\" data-singular-suffix=\"user starred this repository\" data-plural-suffix=\"users starred this repository\" data-turbo-replace=\"true\" title=\"0\" data-view-component=\"true\" class=\"Counter js-social-count\">0</span>\n",
            "</a></div>\n",
            "  </li>\n",
            "\n",
            "</ul>\n",
            "\n",
            "        </div>\n",
            "      </div>\n",
            "\n",
            "        <div id=\"responsive-meta-container\" data-turbo-replace>\n",
            "</div>\n",
            "\n",
            "\n",
            "          <nav data-pjax=\"#js-repo-pjax-container\" aria-label=\"Repository\" data-view-component=\"true\" class=\"js-repo-nav js-sidenav-container-pjax js-responsive-underlinenav overflow-hidden UnderlineNav px-3 px-md-4 px-lg-5\">\n",
            "\n",
            "  <ul data-view-component=\"true\" class=\"UnderlineNav-body list-style-none\">\n",
            "      <li data-view-component=\"true\" class=\"d-inline-flex\">\n",
            "  <a id=\"code-tab\" href=\"/niteen82/spark-scala\" data-tab-item=\"i0code-tab\" data-selected-links=\"repo_source repo_downloads repo_commits repo_releases repo_tags repo_branches repo_packages repo_deployments repo_attestations /niteen82/spark-scala\" data-pjax=\"#repo-content-pjax-container\" data-turbo-frame=\"repo-content-turbo-frame\" data-hotkey=\"g c\" data-analytics-event=\"{&quot;category&quot;:&quot;Underline navbar&quot;,&quot;action&quot;:&quot;Click tab&quot;,&quot;label&quot;:&quot;Code&quot;,&quot;target&quot;:&quot;UNDERLINE_NAV.TAB&quot;}\" aria-current=\"page\" data-view-component=\"true\" class=\"UnderlineNav-item no-wrap js-responsive-underlinenav-item js-selected-navigation-item selected\">\n",
            "    \n",
            "              <svg aria-hidden=\"true\" height=\"16\" viewBox=\"0 0 16 16\" version=\"1.1\" width=\"16\" data-view-component=\"true\" class=\"octicon octicon-code UnderlineNav-octicon d-none d-sm-inline\">\n",
            "    <path d=\"m11.28 3.22 4.25 4.25a.75.75 0 0 1 0 1.06l-4.25 4.25a.749.749 0 0 1-1.275-.326.749.749 0 0 1 .215-.734L13.94 8l-3.72-3.72a.749.749 0 0 1 .326-1.275.749.749 0 0 1 .734.215Zm-6.56 0a.751.751 0 0 1 1.042.018.751.751 0 0 1 .018 1.042L2.06 8l3.72 3.72a.749.749 0 0 1-.326 1.275.749.749 0 0 1-.734-.215L.47 8.53a.75.75 0 0 1 0-1.06Z\"></path>\n",
            "</svg>\n",
            "        <span data-content=\"Code\">Code</span>\n",
            "          <span id=\"code-repo-tab-count\" data-pjax-replace=\"\" data-turbo-replace=\"\" title=\"Not available\" data-view-component=\"true\" class=\"Counter\"></span>\n",
            "\n",
            "\n",
            "    \n",
            "</a></li>\n",
            "      <li data-view-component=\"true\" class=\"d-inline-flex\">\n",
            "  <a id=\"issues-tab\" href=\"/niteen82/spark-scala/issues\" data-tab-item=\"i1issues-tab\" data-selected-links=\"repo_issues repo_labels repo_milestones /niteen82/spark-scala/issues\" data-pjax=\"#repo-content-pjax-container\" data-turbo-frame=\"repo-content-turbo-frame\" data-hotkey=\"g i\" data-analytics-event=\"{&quot;category&quot;:&quot;Underline navbar&quot;,&quot;action&quot;:&quot;Click tab&quot;,&quot;label&quot;:&quot;Issues&quot;,&quot;target&quot;:&quot;UNDERLINE_NAV.TAB&quot;}\" data-view-component=\"true\" class=\"UnderlineNav-item no-wrap js-responsive-underlinenav-item js-selected-navigation-item\">\n",
            "    \n",
            "              <svg aria-hidden=\"true\" height=\"16\" viewBox=\"0 0 16 16\" version=\"1.1\" width=\"16\" data-view-component=\"true\" class=\"octicon octicon-issue-opened UnderlineNav-octicon d-none d-sm-inline\">\n",
            "    <path d=\"M8 9.5a1.5 1.5 0 1 0 0-3 1.5 1.5 0 0 0 0 3Z\"></path><path d=\"M8 0a8 8 0 1 1 0 16A8 8 0 0 1 8 0ZM1.5 8a6.5 6.5 0 1 0 13 0 6.5 6.5 0 0 0-13 0Z\"></path>\n",
            "</svg>\n",
            "        <span data-content=\"Issues\">Issues</span>\n",
            "          <span id=\"issues-repo-tab-count\" data-pjax-replace=\"\" data-turbo-replace=\"\" title=\"0\" hidden=\"hidden\" data-view-component=\"true\" class=\"Counter\">0</span>\n",
            "\n",
            "\n",
            "    \n",
            "</a></li>\n",
            "      <li data-view-component=\"true\" class=\"d-inline-flex\">\n",
            "  <a id=\"pull-requests-tab\" href=\"/niteen82/spark-scala/pulls\" data-tab-item=\"i2pull-requests-tab\" data-selected-links=\"repo_pulls checks /niteen82/spark-scala/pulls\" data-pjax=\"#repo-content-pjax-container\" data-turbo-frame=\"repo-content-turbo-frame\" data-hotkey=\"g p\" data-analytics-event=\"{&quot;category&quot;:&quot;Underline navbar&quot;,&quot;action&quot;:&quot;Click tab&quot;,&quot;label&quot;:&quot;Pull requests&quot;,&quot;target&quot;:&quot;UNDERLINE_NAV.TAB&quot;}\" data-view-component=\"true\" class=\"UnderlineNav-item no-wrap js-responsive-underlinenav-item js-selected-navigation-item\">\n",
            "    \n",
            "              <svg aria-hidden=\"true\" height=\"16\" viewBox=\"0 0 16 16\" version=\"1.1\" width=\"16\" data-view-component=\"true\" class=\"octicon octicon-git-pull-request UnderlineNav-octicon d-none d-sm-inline\">\n",
            "    <path d=\"M1.5 3.25a2.25 2.25 0 1 1 3 2.122v5.256a2.251 2.251 0 1 1-1.5 0V5.372A2.25 2.25 0 0 1 1.5 3.25Zm5.677-.177L9.573.677A.25.25 0 0 1 10 .854V2.5h1A2.5 2.5 0 0 1 13.5 5v5.628a2.251 2.251 0 1 1-1.5 0V5a1 1 0 0 0-1-1h-1v1.646a.25.25 0 0 1-.427.177L7.177 3.427a.25.25 0 0 1 0-.354ZM3.75 2.5a.75.75 0 1 0 0 1.5.75.75 0 0 0 0-1.5Zm0 9.5a.75.75 0 1 0 0 1.5.75.75 0 0 0 0-1.5Zm8.25.75a.75.75 0 1 0 1.5 0 .75.75 0 0 0-1.5 0Z\"></path>\n",
            "</svg>\n",
            "        <span data-content=\"Pull requests\">Pull requests</span>\n",
            "          <span id=\"pull-requests-repo-tab-count\" data-pjax-replace=\"\" data-turbo-replace=\"\" title=\"0\" hidden=\"hidden\" data-view-component=\"true\" class=\"Counter\">0</span>\n",
            "\n",
            "\n",
            "    \n",
            "</a></li>\n",
            "      <li data-view-component=\"true\" class=\"d-inline-flex\">\n",
            "  <a id=\"actions-tab\" href=\"/niteen82/spark-scala/actions\" data-tab-item=\"i3actions-tab\" data-selected-links=\"repo_actions /niteen82/spark-scala/actions\" data-pjax=\"#repo-content-pjax-container\" data-turbo-frame=\"repo-content-turbo-frame\" data-hotkey=\"g a\" data-analytics-event=\"{&quot;category&quot;:&quot;Underline navbar&quot;,&quot;action&quot;:&quot;Click tab&quot;,&quot;label&quot;:&quot;Actions&quot;,&quot;target&quot;:&quot;UNDERLINE_NAV.TAB&quot;}\" data-view-component=\"true\" class=\"UnderlineNav-item no-wrap js-responsive-underlinenav-item js-selected-navigation-item\">\n",
            "    \n",
            "              <svg aria-hidden=\"true\" height=\"16\" viewBox=\"0 0 16 16\" version=\"1.1\" width=\"16\" data-view-component=\"true\" class=\"octicon octicon-play UnderlineNav-octicon d-none d-sm-inline\">\n",
            "    <path d=\"M8 0a8 8 0 1 1 0 16A8 8 0 0 1 8 0ZM1.5 8a6.5 6.5 0 1 0 13 0 6.5 6.5 0 0 0-13 0Zm4.879-2.773 4.264 2.559a.25.25 0 0 1 0 .428l-4.264 2.559A.25.25 0 0 1 6 10.559V5.442a.25.25 0 0 1 .379-.215Z\"></path>\n",
            "</svg>\n",
            "        <span data-content=\"Actions\">Actions</span>\n",
            "          <span id=\"actions-repo-tab-count\" data-pjax-replace=\"\" data-turbo-replace=\"\" title=\"Not available\" data-view-component=\"true\" class=\"Counter\"></span>\n",
            "\n",
            "\n",
            "    \n",
            "</a></li>\n",
            "      <li data-view-component=\"true\" class=\"d-inline-flex\">\n",
            "  <a id=\"projects-tab\" href=\"/niteen82/spark-scala/projects\" data-tab-item=\"i4projects-tab\" data-selected-links=\"repo_projects new_repo_project repo_project /niteen82/spark-scala/projects\" data-pjax=\"#repo-content-pjax-container\" data-turbo-frame=\"repo-content-turbo-frame\" data-hotkey=\"g b\" data-analytics-event=\"{&quot;category&quot;:&quot;Underline navbar&quot;,&quot;action&quot;:&quot;Click tab&quot;,&quot;label&quot;:&quot;Projects&quot;,&quot;target&quot;:&quot;UNDERLINE_NAV.TAB&quot;}\" data-view-component=\"true\" class=\"UnderlineNav-item no-wrap js-responsive-underlinenav-item js-selected-navigation-item\">\n",
            "    \n",
            "              <svg aria-hidden=\"true\" height=\"16\" viewBox=\"0 0 16 16\" version=\"1.1\" width=\"16\" data-view-component=\"true\" class=\"octicon octicon-table UnderlineNav-octicon d-none d-sm-inline\">\n",
            "    <path d=\"M0 1.75C0 .784.784 0 1.75 0h12.5C15.216 0 16 .784 16 1.75v12.5A1.75 1.75 0 0 1 14.25 16H1.75A1.75 1.75 0 0 1 0 14.25ZM6.5 6.5v8h7.75a.25.25 0 0 0 .25-.25V6.5Zm8-1.5V1.75a.25.25 0 0 0-.25-.25H6.5V5Zm-13 1.5v7.75c0 .138.112.25.25.25H5v-8ZM5 5V1.5H1.75a.25.25 0 0 0-.25.25V5Z\"></path>\n",
            "</svg>\n",
            "        <span data-content=\"Projects\">Projects</span>\n",
            "          <span id=\"projects-repo-tab-count\" data-pjax-replace=\"\" data-turbo-replace=\"\" title=\"0\" hidden=\"hidden\" data-view-component=\"true\" class=\"Counter\">0</span>\n",
            "\n",
            "\n",
            "    \n",
            "</a></li>\n",
            "      <li data-view-component=\"true\" class=\"d-inline-flex\">\n",
            "  <a id=\"security-tab\" href=\"/niteen82/spark-scala/security\" data-tab-item=\"i5security-tab\" data-selected-links=\"security overview alerts policy token_scanning code_scanning /niteen82/spark-scala/security\" data-pjax=\"#repo-content-pjax-container\" data-turbo-frame=\"repo-content-turbo-frame\" data-hotkey=\"g s\" data-analytics-event=\"{&quot;category&quot;:&quot;Underline navbar&quot;,&quot;action&quot;:&quot;Click tab&quot;,&quot;label&quot;:&quot;Security&quot;,&quot;target&quot;:&quot;UNDERLINE_NAV.TAB&quot;}\" data-view-component=\"true\" class=\"UnderlineNav-item no-wrap js-responsive-underlinenav-item js-selected-navigation-item\">\n",
            "    \n",
            "              <svg aria-hidden=\"true\" height=\"16\" viewBox=\"0 0 16 16\" version=\"1.1\" width=\"16\" data-view-component=\"true\" class=\"octicon octicon-shield UnderlineNav-octicon d-none d-sm-inline\">\n",
            "    <path d=\"M7.467.133a1.748 1.748 0 0 1 1.066 0l5.25 1.68A1.75 1.75 0 0 1 15 3.48V7c0 1.566-.32 3.182-1.303 4.682-.983 1.498-2.585 2.813-5.032 3.855a1.697 1.697 0 0 1-1.33 0c-2.447-1.042-4.049-2.357-5.032-3.855C1.32 10.182 1 8.566 1 7V3.48a1.75 1.75 0 0 1 1.217-1.667Zm.61 1.429a.25.25 0 0 0-.153 0l-5.25 1.68a.25.25 0 0 0-.174.238V7c0 1.358.275 2.666 1.057 3.86.784 1.194 2.121 2.34 4.366 3.297a.196.196 0 0 0 .154 0c2.245-.956 3.582-2.104 4.366-3.298C13.225 9.666 13.5 8.36 13.5 7V3.48a.251.251 0 0 0-.174-.237l-5.25-1.68ZM8.75 4.75v3a.75.75 0 0 1-1.5 0v-3a.75.75 0 0 1 1.5 0ZM9 10.5a1 1 0 1 1-2 0 1 1 0 0 1 2 0Z\"></path>\n",
            "</svg>\n",
            "        <span data-content=\"Security\">Security</span>\n",
            "          <include-fragment src=\"/niteen82/spark-scala/security/overall-count\" accept=\"text/fragment+html\"></include-fragment>\n",
            "\n",
            "    \n",
            "</a></li>\n",
            "      <li data-view-component=\"true\" class=\"d-inline-flex\">\n",
            "  <a id=\"insights-tab\" href=\"/niteen82/spark-scala/pulse\" data-tab-item=\"i6insights-tab\" data-selected-links=\"repo_graphs repo_contributors dependency_graph dependabot_updates pulse people community /niteen82/spark-scala/pulse\" data-pjax=\"#repo-content-pjax-container\" data-turbo-frame=\"repo-content-turbo-frame\" data-analytics-event=\"{&quot;category&quot;:&quot;Underline navbar&quot;,&quot;action&quot;:&quot;Click tab&quot;,&quot;label&quot;:&quot;Insights&quot;,&quot;target&quot;:&quot;UNDERLINE_NAV.TAB&quot;}\" data-view-component=\"true\" class=\"UnderlineNav-item no-wrap js-responsive-underlinenav-item js-selected-navigation-item\">\n",
            "    \n",
            "              <svg aria-hidden=\"true\" height=\"16\" viewBox=\"0 0 16 16\" version=\"1.1\" width=\"16\" data-view-component=\"true\" class=\"octicon octicon-graph UnderlineNav-octicon d-none d-sm-inline\">\n",
            "    <path d=\"M1.5 1.75V13.5h13.75a.75.75 0 0 1 0 1.5H.75a.75.75 0 0 1-.75-.75V1.75a.75.75 0 0 1 1.5 0Zm14.28 2.53-5.25 5.25a.75.75 0 0 1-1.06 0L7 7.06 4.28 9.78a.751.751 0 0 1-1.042-.018.751.751 0 0 1-.018-1.042l3.25-3.25a.75.75 0 0 1 1.06 0L10 7.94l4.72-4.72a.751.751 0 0 1 1.042.018.751.751 0 0 1 .018 1.042Z\"></path>\n",
            "</svg>\n",
            "        <span data-content=\"Insights\">Insights</span>\n",
            "          <span id=\"insights-repo-tab-count\" data-pjax-replace=\"\" data-turbo-replace=\"\" title=\"Not available\" data-view-component=\"true\" class=\"Counter\"></span>\n",
            "\n",
            "\n",
            "    \n",
            "</a></li>\n",
            "</ul>\n",
            "    <div style=\"visibility:hidden;\" data-view-component=\"true\" class=\"UnderlineNav-actions js-responsive-underlinenav-overflow position-absolute pr-3 pr-md-4 pr-lg-5 right-0\">      <action-menu data-select-variant=\"none\" data-view-component=\"true\">\n",
            "  <focus-group direction=\"vertical\" mnemonics retain>\n",
            "    <button id=\"action-menu-367a65a2-4175-4ebe-98ed-f16384ee137e-button\" popovertarget=\"action-menu-367a65a2-4175-4ebe-98ed-f16384ee137e-overlay\" aria-controls=\"action-menu-367a65a2-4175-4ebe-98ed-f16384ee137e-list\" aria-haspopup=\"true\" aria-labelledby=\"tooltip-a9772a09-b600-480f-ac87-d44f037fccb5\" type=\"button\" data-view-component=\"true\" class=\"Button Button--iconOnly Button--secondary Button--medium UnderlineNav-item\">  <svg aria-hidden=\"true\" height=\"16\" viewBox=\"0 0 16 16\" version=\"1.1\" width=\"16\" data-view-component=\"true\" class=\"octicon octicon-kebab-horizontal Button-visual\">\n",
            "    <path d=\"M8 9a1.5 1.5 0 1 0 0-3 1.5 1.5 0 0 0 0 3ZM1.5 9a1.5 1.5 0 1 0 0-3 1.5 1.5 0 0 0 0 3Zm13 0a1.5 1.5 0 1 0 0-3 1.5 1.5 0 0 0 0 3Z\"></path>\n",
            "</svg>\n",
            "</button><tool-tip id=\"tooltip-a9772a09-b600-480f-ac87-d44f037fccb5\" for=\"action-menu-367a65a2-4175-4ebe-98ed-f16384ee137e-button\" popover=\"manual\" data-direction=\"s\" data-type=\"label\" data-view-component=\"true\" class=\"sr-only position-absolute\">Additional navigation options</tool-tip>\n",
            "\n",
            "\n",
            "<anchored-position id=\"action-menu-367a65a2-4175-4ebe-98ed-f16384ee137e-overlay\" anchor=\"action-menu-367a65a2-4175-4ebe-98ed-f16384ee137e-button\" align=\"start\" side=\"outside-bottom\" anchor-offset=\"normal\" popover=\"auto\" data-view-component=\"true\">\n",
            "  <div data-view-component=\"true\" class=\"Overlay Overlay--size-auto\">\n",
            "    \n",
            "      <div data-view-component=\"true\" class=\"Overlay-body Overlay-body--paddingNone\">          <action-list>\n",
            "  <div data-view-component=\"true\">\n",
            "    <ul aria-labelledby=\"action-menu-367a65a2-4175-4ebe-98ed-f16384ee137e-button\" id=\"action-menu-367a65a2-4175-4ebe-98ed-f16384ee137e-list\" role=\"menu\" data-view-component=\"true\" class=\"ActionListWrap--inset ActionListWrap\">\n",
            "        <li hidden=\"hidden\" data-menu-item=\"i0code-tab\" data-targets=\"action-list.items\" role=\"none\" data-view-component=\"true\" class=\"ActionListItem\">\n",
            "    \n",
            "    \n",
            "    <a tabindex=\"-1\" id=\"item-0359a125-0b42-4b2d-b3ac-52d42fefb6fb\" href=\"/niteen82/spark-scala\" role=\"menuitem\" data-view-component=\"true\" class=\"ActionListContent ActionListContent--visual16\">\n",
            "        <span class=\"ActionListItem-visual ActionListItem-visual--leading\">\n",
            "          <svg aria-hidden=\"true\" height=\"16\" viewBox=\"0 0 16 16\" version=\"1.1\" width=\"16\" data-view-component=\"true\" class=\"octicon octicon-code\">\n",
            "    <path d=\"m11.28 3.22 4.25 4.25a.75.75 0 0 1 0 1.06l-4.25 4.25a.749.749 0 0 1-1.275-.326.749.749 0 0 1 .215-.734L13.94 8l-3.72-3.72a.749.749 0 0 1 .326-1.275.749.749 0 0 1 .734.215Zm-6.56 0a.751.751 0 0 1 1.042.018.751.751 0 0 1 .018 1.042L2.06 8l3.72 3.72a.749.749 0 0 1-.326 1.275.749.749 0 0 1-.734-.215L.47 8.53a.75.75 0 0 1 0-1.06Z\"></path>\n",
            "</svg>\n",
            "        </span>\n",
            "      \n",
            "        <span data-view-component=\"true\" class=\"ActionListItem-label\">\n",
            "          Code\n",
            "</span>      \n",
            "</a>\n",
            "  \n",
            "</li>\n",
            "        <li hidden=\"hidden\" data-menu-item=\"i1issues-tab\" data-targets=\"action-list.items\" role=\"none\" data-view-component=\"true\" class=\"ActionListItem\">\n",
            "    \n",
            "    \n",
            "    <a tabindex=\"-1\" id=\"item-fd8c7bba-5a41-426f-bdda-4bb50e0ad170\" href=\"/niteen82/spark-scala/issues\" role=\"menuitem\" data-view-component=\"true\" class=\"ActionListContent ActionListContent--visual16\">\n",
            "        <span class=\"ActionListItem-visual ActionListItem-visual--leading\">\n",
            "          <svg aria-hidden=\"true\" height=\"16\" viewBox=\"0 0 16 16\" version=\"1.1\" width=\"16\" data-view-component=\"true\" class=\"octicon octicon-issue-opened\">\n",
            "    <path d=\"M8 9.5a1.5 1.5 0 1 0 0-3 1.5 1.5 0 0 0 0 3Z\"></path><path d=\"M8 0a8 8 0 1 1 0 16A8 8 0 0 1 8 0ZM1.5 8a6.5 6.5 0 1 0 13 0 6.5 6.5 0 0 0-13 0Z\"></path>\n",
            "</svg>\n",
            "        </span>\n",
            "      \n",
            "        <span data-view-component=\"true\" class=\"ActionListItem-label\">\n",
            "          Issues\n",
            "</span>      \n",
            "</a>\n",
            "  \n",
            "</li>\n",
            "        <li hidden=\"hidden\" data-menu-item=\"i2pull-requests-tab\" data-targets=\"action-list.items\" role=\"none\" data-view-component=\"true\" class=\"ActionListItem\">\n",
            "    \n",
            "    \n",
            "    <a tabindex=\"-1\" id=\"item-11ebd2cc-dd08-4ab8-82f6-5f3f276648e7\" href=\"/niteen82/spark-scala/pulls\" role=\"menuitem\" data-view-component=\"true\" class=\"ActionListContent ActionListContent--visual16\">\n",
            "        <span class=\"ActionListItem-visual ActionListItem-visual--leading\">\n",
            "          <svg aria-hidden=\"true\" height=\"16\" viewBox=\"0 0 16 16\" version=\"1.1\" width=\"16\" data-view-component=\"true\" class=\"octicon octicon-git-pull-request\">\n",
            "    <path d=\"M1.5 3.25a2.25 2.25 0 1 1 3 2.122v5.256a2.251 2.251 0 1 1-1.5 0V5.372A2.25 2.25 0 0 1 1.5 3.25Zm5.677-.177L9.573.677A.25.25 0 0 1 10 .854V2.5h1A2.5 2.5 0 0 1 13.5 5v5.628a2.251 2.251 0 1 1-1.5 0V5a1 1 0 0 0-1-1h-1v1.646a.25.25 0 0 1-.427.177L7.177 3.427a.25.25 0 0 1 0-.354ZM3.75 2.5a.75.75 0 1 0 0 1.5.75.75 0 0 0 0-1.5Zm0 9.5a.75.75 0 1 0 0 1.5.75.75 0 0 0 0-1.5Zm8.25.75a.75.75 0 1 0 1.5 0 .75.75 0 0 0-1.5 0Z\"></path>\n",
            "</svg>\n",
            "        </span>\n",
            "      \n",
            "        <span data-view-component=\"true\" class=\"ActionListItem-label\">\n",
            "          Pull requests\n",
            "</span>      \n",
            "</a>\n",
            "  \n",
            "</li>\n",
            "        <li hidden=\"hidden\" data-menu-item=\"i3actions-tab\" data-targets=\"action-list.items\" role=\"none\" data-view-component=\"true\" class=\"ActionListItem\">\n",
            "    \n",
            "    \n",
            "    <a tabindex=\"-1\" id=\"item-0fb8ae8c-7f6d-450e-8ae9-57f8185165a8\" href=\"/niteen82/spark-scala/actions\" role=\"menuitem\" data-view-component=\"true\" class=\"ActionListContent ActionListContent--visual16\">\n",
            "        <span class=\"ActionListItem-visual ActionListItem-visual--leading\">\n",
            "          <svg aria-hidden=\"true\" height=\"16\" viewBox=\"0 0 16 16\" version=\"1.1\" width=\"16\" data-view-component=\"true\" class=\"octicon octicon-play\">\n",
            "    <path d=\"M8 0a8 8 0 1 1 0 16A8 8 0 0 1 8 0ZM1.5 8a6.5 6.5 0 1 0 13 0 6.5 6.5 0 0 0-13 0Zm4.879-2.773 4.264 2.559a.25.25 0 0 1 0 .428l-4.264 2.559A.25.25 0 0 1 6 10.559V5.442a.25.25 0 0 1 .379-.215Z\"></path>\n",
            "</svg>\n",
            "        </span>\n",
            "      \n",
            "        <span data-view-component=\"true\" class=\"ActionListItem-label\">\n",
            "          Actions\n",
            "</span>      \n",
            "</a>\n",
            "  \n",
            "</li>\n",
            "        <li hidden=\"hidden\" data-menu-item=\"i4projects-tab\" data-targets=\"action-list.items\" role=\"none\" data-view-component=\"true\" class=\"ActionListItem\">\n",
            "    \n",
            "    \n",
            "    <a tabindex=\"-1\" id=\"item-16fab7e6-5ab4-489e-a419-df31a8c4871e\" href=\"/niteen82/spark-scala/projects\" role=\"menuitem\" data-view-component=\"true\" class=\"ActionListContent ActionListContent--visual16\">\n",
            "        <span class=\"ActionListItem-visual ActionListItem-visual--leading\">\n",
            "          <svg aria-hidden=\"true\" height=\"16\" viewBox=\"0 0 16 16\" version=\"1.1\" width=\"16\" data-view-component=\"true\" class=\"octicon octicon-table\">\n",
            "    <path d=\"M0 1.75C0 .784.784 0 1.75 0h12.5C15.216 0 16 .784 16 1.75v12.5A1.75 1.75 0 0 1 14.25 16H1.75A1.75 1.75 0 0 1 0 14.25ZM6.5 6.5v8h7.75a.25.25 0 0 0 .25-.25V6.5Zm8-1.5V1.75a.25.25 0 0 0-.25-.25H6.5V5Zm-13 1.5v7.75c0 .138.112.25.25.25H5v-8ZM5 5V1.5H1.75a.25.25 0 0 0-.25.25V5Z\"></path>\n",
            "</svg>\n",
            "        </span>\n",
            "      \n",
            "        <span data-view-component=\"true\" class=\"ActionListItem-label\">\n",
            "          Projects\n",
            "</span>      \n",
            "</a>\n",
            "  \n",
            "</li>\n",
            "        <li hidden=\"hidden\" data-menu-item=\"i5security-tab\" data-targets=\"action-list.items\" role=\"none\" data-view-component=\"true\" class=\"ActionListItem\">\n",
            "    \n",
            "    \n",
            "    <a tabindex=\"-1\" id=\"item-9d0a3ec3-506e-4e97-936f-d9cb38fedf93\" href=\"/niteen82/spark-scala/security\" role=\"menuitem\" data-view-component=\"true\" class=\"ActionListContent ActionListContent--visual16\">\n",
            "        <span class=\"ActionListItem-visual ActionListItem-visual--leading\">\n",
            "          <svg aria-hidden=\"true\" height=\"16\" viewBox=\"0 0 16 16\" version=\"1.1\" width=\"16\" data-view-component=\"true\" class=\"octicon octicon-shield\">\n",
            "    <path d=\"M7.467.133a1.748 1.748 0 0 1 1.066 0l5.25 1.68A1.75 1.75 0 0 1 15 3.48V7c0 1.566-.32 3.182-1.303 4.682-.983 1.498-2.585 2.813-5.032 3.855a1.697 1.697 0 0 1-1.33 0c-2.447-1.042-4.049-2.357-5.032-3.855C1.32 10.182 1 8.566 1 7V3.48a1.75 1.75 0 0 1 1.217-1.667Zm.61 1.429a.25.25 0 0 0-.153 0l-5.25 1.68a.25.25 0 0 0-.174.238V7c0 1.358.275 2.666 1.057 3.86.784 1.194 2.121 2.34 4.366 3.297a.196.196 0 0 0 .154 0c2.245-.956 3.582-2.104 4.366-3.298C13.225 9.666 13.5 8.36 13.5 7V3.48a.251.251 0 0 0-.174-.237l-5.25-1.68ZM8.75 4.75v3a.75.75 0 0 1-1.5 0v-3a.75.75 0 0 1 1.5 0ZM9 10.5a1 1 0 1 1-2 0 1 1 0 0 1 2 0Z\"></path>\n",
            "</svg>\n",
            "        </span>\n",
            "      \n",
            "        <span data-view-component=\"true\" class=\"ActionListItem-label\">\n",
            "          Security\n",
            "</span>      \n",
            "</a>\n",
            "  \n",
            "</li>\n",
            "        <li hidden=\"hidden\" data-menu-item=\"i6insights-tab\" data-targets=\"action-list.items\" role=\"none\" data-view-component=\"true\" class=\"ActionListItem\">\n",
            "    \n",
            "    \n",
            "    <a tabindex=\"-1\" id=\"item-5d2d046e-4130-4bc4-8aa3-c84df542ee5b\" href=\"/niteen82/spark-scala/pulse\" role=\"menuitem\" data-view-component=\"true\" class=\"ActionListContent ActionListContent--visual16\">\n",
            "        <span class=\"ActionListItem-visual ActionListItem-visual--leading\">\n",
            "          <svg aria-hidden=\"true\" height=\"16\" viewBox=\"0 0 16 16\" version=\"1.1\" width=\"16\" data-view-component=\"true\" class=\"octicon octicon-graph\">\n",
            "    <path d=\"M1.5 1.75V13.5h13.75a.75.75 0 0 1 0 1.5H.75a.75.75 0 0 1-.75-.75V1.75a.75.75 0 0 1 1.5 0Zm14.28 2.53-5.25 5.25a.75.75 0 0 1-1.06 0L7 7.06 4.28 9.78a.751.751 0 0 1-1.042-.018.751.751 0 0 1-.018-1.042l3.25-3.25a.75.75 0 0 1 1.06 0L10 7.94l4.72-4.72a.751.751 0 0 1 1.042.018.751.751 0 0 1 .018 1.042Z\"></path>\n",
            "</svg>\n",
            "        </span>\n",
            "      \n",
            "        <span data-view-component=\"true\" class=\"ActionListItem-label\">\n",
            "          Insights\n",
            "</span>      \n",
            "</a>\n",
            "  \n",
            "</li>\n",
            "</ul>    \n",
            "</div></action-list>\n",
            "\n",
            "\n",
            "</div>\n",
            "      \n",
            "</div></anchored-position>  </focus-group>\n",
            "</action-menu></div>\n",
            "</nav>\n",
            "\n",
            "  </div>\n",
            "\n",
            "  \n",
            "\n",
            "\n",
            "\n",
            "<turbo-frame id=\"repo-content-turbo-frame\" target=\"_top\" data-turbo-action=\"advance\" class=\"\">\n",
            "    <div id=\"repo-content-pjax-container\" class=\"repository-content \" >\n",
            "    \n",
            "\n",
            "\n",
            "\n",
            "    \n",
            "      \n",
            "    \n",
            "\n",
            "\n",
            "\n",
            "\n",
            "\n",
            "\n",
            "\n",
            "\n",
            "<react-app\n",
            "  app-name=\"react-code-view\"\n",
            "  initial-path=\"/niteen82/spark-scala/blob/main/cars.csv\"\n",
            "  style=\"display: block; min-height: calc(100vh - 64px)\" \n",
            "  datta-attempted-ssr=\"true\"\n",
            "  data-ssr=\"true\"\n",
            "  data-lazy=\"false\"\n",
            "  data-alternate=\"false\"\n",
            ">\n",
            "  \n",
            "  <script type=\"application/json\" data-target=\"react-app.embeddedData\">{\"payload\":{\"allShortcutsEnabled\":false,\"fileTree\":{\"\":{\"items\":[{\"name\":\"cars.csv\",\"path\":\"cars.csv\",\"contentType\":\"file\"}],\"totalCount\":1}},\"fileTreeProcessingTime\":1.2979319999999999,\"foldersToFetch\":[],\"repo\":{\"id\":859423405,\"defaultBranch\":\"main\",\"name\":\"spark-scala\",\"ownerLogin\":\"niteen82\",\"currentUserCanPush\":false,\"isFork\":false,\"isEmpty\":false,\"createdAt\":\"2024-09-18T16:27:19.000Z\",\"ownerAvatar\":\"https://avatars.githubusercontent.com/u/48675783?v=4\",\"public\":true,\"private\":false,\"isOrgOwned\":false},\"codeLineWrapEnabled\":false,\"symbolsExpanded\":false,\"treeExpanded\":true,\"refInfo\":{\"name\":\"main\",\"listCacheKey\":\"v0:1726676911.0\",\"canEdit\":false,\"refType\":\"branch\",\"currentOid\":\"70419dfb2a0f3948969f02c77287474e860b9c78\"},\"path\":\"cars.csv\",\"currentUser\":null,\"blob\":{\"rawLines\":[\"Car;MPG;Cylinders;Displacement;Horsepower;Weight;Acceleration;Model;Origin\\r\",\"STRING;DOUBLE;INT;DOUBLE;DOUBLE;DOUBLE;DOUBLE;INT;CAT\\r\",\"Chevrolet Chevelle Malibu;18.0;8;307.0;130.0;3504.;12.0;70;US\\r\",\"Buick Skylark 320;15.0;8;350.0;165.0;3693.;11.5;70;US\\r\",\"Plymouth Satellite;18.0;8;318.0;150.0;3436.;11.0;70;US\\r\",\"AMC Rebel SST;16.0;8;304.0;150.0;3433.;12.0;70;US\\r\",\"Ford Torino;17.0;8;302.0;140.0;3449.;10.5;70;US\\r\",\"Ford Galaxie 500;15.0;8;429.0;198.0;4341.;10.0;70;US\\r\",\"Chevrolet Impala;14.0;8;454.0;220.0;4354.;9.0;70;US\\r\",\"Plymouth Fury iii;14.0;8;440.0;215.0;4312.;8.5;70;US\\r\",\"Pontiac Catalina;14.0;8;455.0;225.0;4425.;10.0;70;US\\r\",\"AMC Ambassador DPL;15.0;8;390.0;190.0;3850.;8.5;70;US\\r\",\"Citroen DS-21 Pallas;0;4;133.0;115.0;3090.;17.5;70;Europe\\r\",\"Chevrolet Chevelle Concours (sw);0;8;350.0;165.0;4142.;11.5;70;US\\r\",\"Ford Torino (sw);0;8;351.0;153.0;4034.;11.0;70;US\\r\",\"Plymouth Satellite (sw);0;8;383.0;175.0;4166.;10.5;70;US\\r\",\"AMC Rebel SST (sw);0;8;360.0;175.0;3850.;11.0;70;US\\r\",\"Dodge Challenger SE;15.0;8;383.0;170.0;3563.;10.0;70;US\\r\",\"Plymouth 'Cuda 340;14.0;8;340.0;160.0;3609.;8.0;70;US\\r\",\"Ford Mustang Boss 302;0;8;302.0;140.0;3353.;8.0;70;US\\r\",\"Chevrolet Monte Carlo;15.0;8;400.0;150.0;3761.;9.5;70;US\\r\",\"Buick Estate Wagon (sw);14.0;8;455.0;225.0;3086.;10.0;70;US\\r\",\"Toyota Corolla Mark ii;24.0;4;113.0;95.00;2372.;15.0;70;Japan\\r\",\"Plymouth Duster;22.0;6;198.0;95.00;2833.;15.5;70;US\\r\",\"AMC Hornet;18.0;6;199.0;97.00;2774.;15.5;70;US\\r\",\"Ford Maverick;21.0;6;200.0;85.00;2587.;16.0;70;US\\r\",\"Datsun PL510;27.0;4;97.00;88.00;2130.;14.5;70;Japan\\r\",\"Volkswagen 1131 Deluxe Sedan;26.0;4;97.00;46.00;1835.;20.5;70;Europe\\r\",\"Peugeot 504;25.0;4;110.0;87.00;2672.;17.5;70;Europe\\r\",\"Audi 100 LS;24.0;4;107.0;90.00;2430.;14.5;70;Europe\\r\",\"Saab 99e;25.0;4;104.0;95.00;2375.;17.5;70;Europe\\r\",\"BMW 2002;26.0;4;121.0;113.0;2234.;12.5;70;Europe\\r\",\"AMC Gremlin;21.0;6;199.0;90.00;2648.;15.0;70;US\\r\",\"Ford F250;10.0;8;360.0;215.0;4615.;14.0;70;US\\r\",\"Chevy C20;10.0;8;307.0;200.0;4376.;15.0;70;US\\r\",\"Dodge D200;11.0;8;318.0;210.0;4382.;13.5;70;US\\r\",\"Hi 1200D;9.0;8;304.0;193.0;4732.;18.5;70;US\\r\",\"Datsun PL510;27.0;4;97.00;88.00;2130.;14.5;71;Japan\\r\",\"Chevrolet Vega 2300;28.0;4;140.0;90.00;2264.;15.5;71;US\\r\",\"Toyota Corolla;25.0;4;113.0;95.00;2228.;14.0;71;Japan\\r\",\"Ford Pinto;25.0;4;98.00;0;2046.;19.0;71;US\\r\",\"Volkswagen Super Beetle 117;0;4;97.00;48.00;1978.;20.0;71;Europe\\r\",\"AMC Gremlin;19.0;6;232.0;100.0;2634.;13.0;71;US\\r\",\"Plymouth Satellite Custom;16.0;6;225.0;105.0;3439.;15.5;71;US\\r\",\"Chevrolet Chevelle Malibu;17.0;6;250.0;100.0;3329.;15.5;71;US\\r\",\"Ford Torino 500;19.0;6;250.0;88.00;3302.;15.5;71;US\\r\",\"AMC Matador;18.0;6;232.0;100.0;3288.;15.5;71;US\\r\",\"Chevrolet Impala;14.0;8;350.0;165.0;4209.;12.0;71;US\\r\",\"Pontiac Catalina Brougham;14.0;8;400.0;175.0;4464.;11.5;71;US\\r\",\"Ford Galaxie 500;14.0;8;351.0;153.0;4154.;13.5;71;US\\r\",\"Plymouth Fury iii;14.0;8;318.0;150.0;4096.;13.0;71;US\\r\",\"Dodge Monaco (sw);12.0;8;383.0;180.0;4955.;11.5;71;US\\r\",\"Ford Country Squire (sw);13.0;8;400.0;170.0;4746.;12.0;71;US\\r\",\"Pontiac Safari (sw);13.0;8;400.0;175.0;5140.;12.0;71;US\\r\",\"AMC Hornet Sportabout (sw);18.0;6;258.0;110.0;2962.;13.5;71;US\\r\",\"Chevrolet Vega (sw);22.0;4;140.0;72.00;2408.;19.0;71;US\\r\",\"Pontiac Firebird;19.0;6;250.0;100.0;3282.;15.0;71;US\\r\",\"Ford Mustang;18.0;6;250.0;88.00;3139.;14.5;71;US\\r\",\"Mercury Capri 2000;23.0;4;122.0;86.00;2220.;14.0;71;US\\r\",\"Opel 1900;28.0;4;116.0;90.00;2123.;14.0;71;Europe\\r\",\"Peugeot 304;30.0;4;79.00;70.00;2074.;19.5;71;Europe\\r\",\"Fiat 124B;30.0;4;88.00;76.00;2065.;14.5;71;Europe\\r\",\"Toyota Corolla 1200;31.0;4;71.00;65.00;1773.;19.0;71;Japan\\r\",\"Datsun 1200;35.0;4;72.00;69.00;1613.;18.0;71;Japan\\r\",\"Volkswagen Model 111;27.0;4;97.00;60.00;1834.;19.0;71;Europe\\r\",\"Plymouth Cricket;26.0;4;91.00;70.00;1955.;20.5;71;US\\r\",\"Toyota Corolla Hardtop;24.0;4;113.0;95.00;2278.;15.5;72;Japan\\r\",\"Dodge Colt Hardtop;25.0;4;97.50;80.00;2126.;17.0;72;US\\r\",\"Volkswagen Type 3;23.0;4;97.00;54.00;2254.;23.5;72;Europe\\r\",\"Chevrolet Vega;20.0;4;140.0;90.00;2408.;19.5;72;US\\r\",\"Ford Pinto Runabout;21.0;4;122.0;86.00;2226.;16.5;72;US\\r\",\"Chevrolet Impala;13.0;8;350.0;165.0;4274.;12.0;72;US\\r\",\"Pontiac Catalina;14.0;8;400.0;175.0;4385.;12.0;72;US\\r\",\"Plymouth Fury III;15.0;8;318.0;150.0;4135.;13.5;72;US\\r\",\"Ford Galaxie 500;14.0;8;351.0;153.0;4129.;13.0;72;US\\r\",\"AMC Ambassador SST;17.0;8;304.0;150.0;3672.;11.5;72;US\\r\",\"Mercury Marquis;11.0;8;429.0;208.0;4633.;11.0;72;US\\r\",\"Buick LeSabre Custom;13.0;8;350.0;155.0;4502.;13.5;72;US\\r\",\"Oldsmobile Delta 88 Royale;12.0;8;350.0;160.0;4456.;13.5;72;US\\r\",\"Chrysler Newport Royal;13.0;8;400.0;190.0;4422.;12.5;72;US\\r\",\"Mazda RX2 Coupe;19.0;3;70.00;97.00;2330.;13.5;72;Japan\\r\",\"AMC Matador (sw);15.0;8;304.0;150.0;3892.;12.5;72;US\\r\",\"Chevrolet Chevelle Concours (sw);13.0;8;307.0;130.0;4098.;14.0;72;US\\r\",\"Ford Gran Torino (sw);13.0;8;302.0;140.0;4294.;16.0;72;US\\r\",\"Plymouth Satellite Custom (sw);14.0;8;318.0;150.0;4077.;14.0;72;US\\r\",\"Volvo 145e (sw);18.0;4;121.0;112.0;2933.;14.5;72;Europe\\r\",\"Volkswagen 411 (sw);22.0;4;121.0;76.00;2511.;18.0;72;Europe\\r\",\"Peugeot 504 (sw);21.0;4;120.0;87.00;2979.;19.5;72;Europe\\r\",\"Renault 12 (sw);26.0;4;96.00;69.00;2189.;18.0;72;Europe\\r\",\"Ford Pinto (sw);22.0;4;122.0;86.00;2395.;16.0;72;US\\r\",\"Datsun 510 (sw);28.0;4;97.00;92.00;2288.;17.0;72;Japan\\r\",\"Toyota Corolla Mark II (sw);23.0;4;120.0;97.00;2506.;14.5;72;Japan\\r\",\"Dodge Colt (sw);28.0;4;98.00;80.00;2164.;15.0;72;US\\r\",\"Toyota Corolla 1600 (sw);27.0;4;97.00;88.00;2100.;16.5;72;Japan\\r\",\"Buick Century 350;13.0;8;350.0;175.0;4100.;13.0;73;US\\r\",\"AMC Matador;14.0;8;304.0;150.0;3672.;11.5;73;US\\r\",\"Chevrolet Malibu;13.0;8;350.0;145.0;3988.;13.0;73;US\\r\",\"Ford Gran Torino;14.0;8;302.0;137.0;4042.;14.5;73;US\\r\",\"Dodge Coronet Custom;15.0;8;318.0;150.0;3777.;12.5;73;US\\r\",\"Mercury Marquis Brougham;12.0;8;429.0;198.0;4952.;11.5;73;US\\r\",\"Chevrolet Caprice Classic;13.0;8;400.0;150.0;4464.;12.0;73;US\\r\",\"Ford LTD;13.0;8;351.0;158.0;4363.;13.0;73;US\\r\",\"Plymouth Fury Gran Sedan;14.0;8;318.0;150.0;4237.;14.5;73;US\\r\",\"Chrysler New Yorker Brougham;13.0;8;440.0;215.0;4735.;11.0;73;US\\r\",\"Buick Electra 225 Custom;12.0;8;455.0;225.0;4951.;11.0;73;US\\r\",\"AMC Ambassador Brougham;13.0;8;360.0;175.0;3821.;11.0;73;US\\r\",\"Plymouth Valiant;18.0;6;225.0;105.0;3121.;16.5;73;US\\r\",\"Chevrolet Nova Custom;16.0;6;250.0;100.0;3278.;18.0;73;US\\r\",\"AMC Hornet;18.0;6;232.0;100.0;2945.;16.0;73;US\\r\",\"Ford Maverick;18.0;6;250.0;88.00;3021.;16.5;73;US\\r\",\"Plymouth Duster;23.0;6;198.0;95.00;2904.;16.0;73;US\\r\",\"Volkswagen Super Beetle;26.0;4;97.00;46.00;1950.;21.0;73;Europe\\r\",\"Chevrolet Impala;11.0;8;400.0;150.0;4997.;14.0;73;US\\r\",\"Ford Country;12.0;8;400.0;167.0;4906.;12.5;73;US\\r\",\"Plymouth Custom Suburb;13.0;8;360.0;170.0;4654.;13.0;73;US\\r\",\"Oldsmobile Vista Cruiser;12.0;8;350.0;180.0;4499.;12.5;73;US\\r\",\"AMC Gremlin;18.0;6;232.0;100.0;2789.;15.0;73;US\\r\",\"Toyota Camry;20.0;4;97.00;88.00;2279.;19.0;73;Japan\\r\",\"Chevrolet Vega;21.0;4;140.0;72.00;2401.;19.5;73;US\\r\",\"Datsun 610;22.0;4;108.0;94.00;2379.;16.5;73;Japan\\r\",\"Mazda RX3;18.0;3;70.00;90.00;2124.;13.5;73;Japan\\r\",\"Ford Pinto;19.0;4;122.0;85.00;2310.;18.5;73;US\\r\",\"Mercury Capri v6;21.0;6;155.0;107.0;2472.;14.0;73;US\\r\",\"Fiat 124 Sport Coupe;26.0;4;98.00;90.00;2265.;15.5;73;Europe\\r\",\"Chevrolet Monte Carlo S;15.0;8;350.0;145.0;4082.;13.0;73;US\\r\",\"Pontiac Grand Prix;16.0;8;400.0;230.0;4278.;9.50;73;US\\r\",\"Fiat 128;29.0;4;68.00;49.00;1867.;19.5;73;Europe\\r\",\"Opel Manta;24.0;4;116.0;75.00;2158.;15.5;73;Europe\\r\",\"Audi 100LS;20.0;4;114.0;91.00;2582.;14.0;73;Europe\\r\",\"Volvo 144ea;19.0;4;121.0;112.0;2868.;15.5;73;Europe\\r\",\"Dodge Dart Custom;15.0;8;318.0;150.0;3399.;11.0;73;US\\r\",\"Saab 99le;24.0;4;121.0;110.0;2660.;14.0;73;Europe\\r\",\"Toyota Mark II;20.0;6;156.0;122.0;2807.;13.5;73;Japan\\r\",\"Oldsmobile Omega;11.0;8;350.0;180.0;3664.;11.0;73;US\\r\",\"Plymouth Duster;20.0;6;198.0;95.00;3102.;16.5;74;US\\r\",\"Ford Maverick;21.0;6;200.0;0;2875.;17.0;74;US\\r\",\"AMC Hornet;19.0;6;232.0;100.0;2901.;16.0;74;US\\r\",\"Chevrolet Nova;15.0;6;250.0;100.0;3336.;17.0;74;US\\r\",\"Datsun B210;31.0;4;79.00;67.00;1950.;19.0;74;Japan\\r\",\"Ford Pinto;26.0;4;122.0;80.00;2451.;16.5;74;US\\r\",\"Toyota Corolla 1200;32.0;4;71.00;65.00;1836.;21.0;74;Japan\\r\",\"Chevrolet Vega;25.0;4;140.0;75.00;2542.;17.0;74;US\\r\",\"Chevrolet Chevelle Malibu Classic;16.0;6;250.0;100.0;3781.;17.0;74;US\\r\",\"AMC Matador;16.0;6;258.0;110.0;3632.;18.0;74;US\\r\",\"Plymouth Satellite Sebring;18.0;6;225.0;105.0;3613.;16.5;74;US\\r\",\"Ford Gran Torino;16.0;8;302.0;140.0;4141.;14.0;74;US\\r\",\"Buick Century Luxus (sw);13.0;8;350.0;150.0;4699.;14.5;74;US\\r\",\"Dodge Coronet Custom (sw);14.0;8;318.0;150.0;4457.;13.5;74;US\\r\",\"Ford Gran Torino (sw);14.0;8;302.0;140.0;4638.;16.0;74;US\\r\",\"AMC Matador (sw);14.0;8;304.0;150.0;4257.;15.5;74;US\\r\",\"Audi Fox;29.0;4;98.00;83.00;2219.;16.5;74;Europe\\r\",\"Volkswagen Dasher;26.0;4;79.00;67.00;1963.;15.5;74;Europe\\r\",\"Opel Manta;26.0;4;97.00;78.00;2300.;14.5;74;Europe\\r\",\"Toyota Corolla;31.0;4;76.00;52.00;1649.;16.5;74;Japan\\r\",\"Datsun 710;32.0;4;83.00;61.00;2003.;19.0;74;Japan\\r\",\"Dodge Colt;28.0;4;90.00;75.00;2125.;14.5;74;US\\r\",\"Fiat 128;24.0;4;90.00;75.00;2108.;15.5;74;Europe\\r\",\"Fiat 124 TC;26.0;4;116.0;75.00;2246.;14.0;74;Europe\\r\",\"Honda Civic;24.0;4;120.0;97.00;2489.;15.0;74;Japan\\r\",\"Subaru;26.0;4;108.0;93.00;2391.;15.5;74;Japan\\r\",\"Fiat x1.9;31.0;4;79.00;67.00;2000.;16.0;74;Europe\\r\",\"Plymouth Valiant Custom;19.0;6;225.0;95.00;3264.;16.0;75;US\\r\",\"Chevrolet Nova;18.0;6;250.0;105.0;3459.;16.0;75;US\\r\",\"Mercury Monarch;15.0;6;250.0;72.00;3432.;21.0;75;US\\r\",\"Ford Maverick;15.0;6;250.0;72.00;3158.;19.5;75;US\\r\",\"Pontiac Catalina;16.0;8;400.0;170.0;4668.;11.5;75;US\\r\",\"Chevrolet Bel Air;15.0;8;350.0;145.0;4440.;14.0;75;US\\r\",\"Plymouth Grand Fury;16.0;8;318.0;150.0;4498.;14.5;75;US\\r\",\"Ford LTD;14.0;8;351.0;148.0;4657.;13.5;75;US\\r\",\"Buick Century;17.0;6;231.0;110.0;3907.;21.0;75;US\\r\",\"Chevrolete Chevelle Malibu;16.0;6;250.0;105.0;3897.;18.5;75;US\\r\",\"AMC Matador;15.0;6;258.0;110.0;3730.;19.0;75;US\\r\",\"Plymouth Fury;18.0;6;225.0;95.00;3785.;19.0;75;US\\r\",\"Buick Skyhawk;21.0;6;231.0;110.0;3039.;15.0;75;US\\r\",\"Chevrolet Monza 2+2;20.0;8;262.0;110.0;3221.;13.5;75;US\\r\",\"Ford Mustang II;13.0;8;302.0;129.0;3169.;12.0;75;US\\r\",\"Toyota Corolla;29.0;4;97.00;75.00;2171.;16.0;75;Japan\\r\",\"Ford Pinto;23.0;4;140.0;83.00;2639.;17.0;75;US\\r\",\"AMC Gremlin;20.0;6;232.0;100.0;2914.;16.0;75;US\\r\",\"Pontiac Astro;23.0;4;140.0;78.00;2592.;18.5;75;US\\r\",\"Toyota Corolla;24.0;4;134.0;96.00;2702.;13.5;75;Japan\\r\",\"Volkswagen Dasher;25.0;4;90.00;71.00;2223.;16.5;75;Europe\\r\",\"Datsun 710;24.0;4;119.0;97.00;2545.;17.0;75;Japan\\r\",\"Ford Pinto;18.0;6;171.0;97.00;2984.;14.5;75;US\\r\",\"Volkswagen Rabbit;29.0;4;90.00;70.00;1937.;14.0;75;Europe\\r\",\"AMC Pacer;19.0;6;232.0;90.00;3211.;17.0;75;US\\r\",\"Audi 100LS;23.0;4;115.0;95.00;2694.;15.0;75;Europe\\r\",\"Peugeot 504;23.0;4;120.0;88.00;2957.;17.0;75;Europe\\r\",\"Volvo 244DL;22.0;4;121.0;98.00;2945.;14.5;75;Europe\\r\",\"Saab 99LE;25.0;4;121.0;115.0;2671.;13.5;75;Europe\\r\",\"Honda Civic CVCC;33.0;4;91.00;53.00;1795.;17.5;75;Japan\\r\",\"Fiat 131;28.0;4;107.0;86.00;2464.;15.5;76;Europe\\r\",\"Opel 1900;25.0;4;116.0;81.00;2220.;16.9;76;Europe\\r\",\"Capri ii;25.0;4;140.0;92.00;2572.;14.9;76;US\\r\",\"Dodge Colt;26.0;4;98.00;79.00;2255.;17.7;76;US\\r\",\"Renault 12tl;27.0;4;101.0;83.00;2202.;15.3;76;Europe\\r\",\"Chevrolet Chevelle Malibu Classic;17.5;8;305.0;140.0;4215.;13.0;76;US\\r\",\"Dodge Coronet Brougham;16.0;8;318.0;150.0;4190.;13.0;76;US\\r\",\"AMC Matador;15.5;8;304.0;120.0;3962.;13.9;76;US\\r\",\"Ford Gran Torino;14.5;8;351.0;152.0;4215.;12.8;76;US\\r\",\"Plymouth Valiant;22.0;6;225.0;100.0;3233.;15.4;76;US\\r\",\"Chevrolet Nova;22.0;6;250.0;105.0;3353.;14.5;76;US\\r\",\"Ford Maverick;24.0;6;200.0;81.00;3012.;17.6;76;US\\r\",\"AMC Hornet;22.5;6;232.0;90.00;3085.;17.6;76;US\\r\",\"Chevrolet Chevette;29.0;4;85.00;52.00;2035.;22.2;76;US\\r\",\"Chevrolet Woody;24.5;4;98.00;60.00;2164.;22.1;76;US\\r\",\"Volkswagen Rabbit;29.0;4;90.00;70.00;1937.;14.2;76;Europe\\r\",\"Honda Civic;33.0;4;91.00;53.00;1795.;17.4;76;Japan\\r\",\"Dodge Aspen SE;20.0;6;225.0;100.0;3651.;17.7;76;US\\r\",\"Ford Grenada ghia;18.0;6;250.0;78.00;3574.;21.0;76;US\\r\",\"Pontiac Ventura SJ;18.5;6;250.0;110.0;3645.;16.2;76;US\\r\",\"AMC Pacer d/l;17.5;6;258.0;95.00;3193.;17.8;76;US\\r\",\"Volkswagen Rabbit;29.5;4;97.00;71.00;1825.;12.2;76;Europe\\r\",\"Datsun B-210;32.0;4;85.00;70.00;1990.;17.0;76;Japan\\r\",\"Toyota Corolla;28.0;4;97.00;75.00;2155.;16.4;76;Japan\\r\",\"Ford Pinto;26.5;4;140.0;72.00;2565.;13.6;76;US\\r\",\"Volvo 245;20.0;4;130.0;102.0;3150.;15.7;76;Europe\\r\",\"Plymouth Volare Premier v8;13.0;8;318.0;150.0;3940.;13.2;76;US\\r\",\"Peugeot 504;19.0;4;120.0;88.00;3270.;21.9;76;Europe\\r\",\"Toyota Mark II;19.0;6;156.0;108.0;2930.;15.5;76;Japan\\r\",\"Mercedes-Benz 280s;16.5;6;168.0;120.0;3820.;16.7;76;Europe\\r\",\"Cadillac Seville;16.5;8;350.0;180.0;4380.;12.1;76;US\\r\",\"Chevrolet C10;13.0;8;350.0;145.0;4055.;12.0;76;US\\r\",\"Ford F108;13.0;8;302.0;130.0;3870.;15.0;76;US\\r\",\"Dodge D100;13.0;8;318.0;150.0;3755.;14.0;76;US\\r\",\"Honda Accord CVCC;31.5;4;98.00;68.00;2045.;18.5;77;Japan\\r\",\"Buick Opel Isuzu Deluxe;30.0;4;111.0;80.00;2155.;14.8;77;US\\r\",\"Renault 5 GTL;36.0;4;79.00;58.00;1825.;18.6;77;Europe\\r\",\"Plymouth Arrow GS;25.5;4;122.0;96.00;2300.;15.5;77;US\\r\",\"Datsun F-10 Hatchback;33.5;4;85.00;70.00;1945.;16.8;77;Japan\\r\",\"Chevrolet Caprice Classic;17.5;8;305.0;145.0;3880.;12.5;77;US\\r\",\"Oldsmobile Cutlass Supreme;17.0;8;260.0;110.0;4060.;19.0;77;US\\r\",\"Dodge Monaco Brougham;15.5;8;318.0;145.0;4140.;13.7;77;US\\r\",\"Mercury Cougar Brougham;15.0;8;302.0;130.0;4295.;14.9;77;US\\r\",\"Chevrolet Concours;17.5;6;250.0;110.0;3520.;16.4;77;US\\r\",\"Buick Skylark;20.5;6;231.0;105.0;3425.;16.9;77;US\\r\",\"Plymouth Volare Custom;19.0;6;225.0;100.0;3630.;17.7;77;US\\r\",\"Ford Grenada;18.5;6;250.0;98.00;3525.;19.0;77;US\\r\",\"Pontiac Grand Prix LJ;16.0;8;400.0;180.0;4220.;11.1;77;US\\r\",\"Chevrolet Monte Carlo Landau;15.5;8;350.0;170.0;4165.;11.4;77;US\\r\",\"Chrysler Cordoba;15.5;8;400.0;190.0;4325.;12.2;77;US\\r\",\"Ford Thunderbird;16.0;8;351.0;149.0;4335.;14.5;77;US\\r\",\"Volkswagen Rabbit Custom;29.0;4;97.00;78.00;1940.;14.5;77;Europe\\r\",\"Pontiac Sunbird Coupe;24.5;4;151.0;88.00;2740.;16.0;77;US\\r\",\"Toyota Corolla Liftback;26.0;4;97.00;75.00;2265.;18.2;77;Japan\\r\",\"Ford Mustang II 2+2;25.5;4;140.0;89.00;2755.;15.8;77;US\\r\",\"Chevrolet Chevette;30.5;4;98.00;63.00;2051.;17.0;77;US\\r\",\"Dodge Colt m/m;33.5;4;98.00;83.00;2075.;15.9;77;US\\r\",\"Subaru DL;30.0;4;97.00;67.00;1985.;16.4;77;Japan\\r\",\"Volkswagen Dasher;30.5;4;97.00;78.00;2190.;14.1;77;Europe\\r\",\"Datsun 810;22.0;6;146.0;97.00;2815.;14.5;77;Japan\\r\",\"BMW 320i;21.5;4;121.0;110.0;2600.;12.8;77;Europe\\r\",\"Mazda RX-4;21.5;3;80.00;110.0;2720.;13.5;77;Japan\\r\",\"Volkswagen Rabbit Custom Diesel;43.1;4;90.00;48.00;1985.;21.5;78;Europe\\r\",\"Ford Fiesta;36.1;4;98.00;66.00;1800.;14.4;78;US\\r\",\"Mazda GLC Deluxe;32.8;4;78.00;52.00;1985.;19.4;78;Japan\\r\",\"Datsun B210 GX;39.4;4;85.00;70.00;2070.;18.6;78;Japan\\r\",\"Honda Civic CVCC;36.1;4;91.00;60.00;1800.;16.4;78;Japan\\r\",\"Oldsmobile Cutlass Salon Brougham;19.9;8;260.0;110.0;3365.;15.5;78;US\\r\",\"Dodge Diplomat;19.4;8;318.0;140.0;3735.;13.2;78;US\\r\",\"Mercury Monarch ghia;20.2;8;302.0;139.0;3570.;12.8;78;US\\r\",\"Pontiac Phoenix LJ;19.2;6;231.0;105.0;3535.;19.2;78;US\\r\",\"Chevrolet Malibu;20.5;6;200.0;95.00;3155.;18.2;78;US\\r\",\"Ford Fairmont (auto);20.2;6;200.0;85.00;2965.;15.8;78;US\\r\",\"Ford Fairmont (man);25.1;4;140.0;88.00;2720.;15.4;78;US\\r\",\"Plymouth Volare;20.5;6;225.0;100.0;3430.;17.2;78;US\\r\",\"AMC Concord;19.4;6;232.0;90.00;3210.;17.2;78;US\\r\",\"Buick Century Special;20.6;6;231.0;105.0;3380.;15.8;78;US\\r\",\"Mercury Zephyr;20.8;6;200.0;85.00;3070.;16.7;78;US\\r\",\"Dodge Aspen;18.6;6;225.0;110.0;3620.;18.7;78;US\\r\",\"AMC Concord d/l;18.1;6;258.0;120.0;3410.;15.1;78;US\\r\",\"Chevrolet Monte Carlo Landau;19.2;8;305.0;145.0;3425.;13.2;78;US\\r\",\"Buick Regal Sport Coupe (turbo);17.7;6;231.0;165.0;3445.;13.4;78;US\\r\",\"Ford Futura;18.1;8;302.0;139.0;3205.;11.2;78;US\\r\",\"Dodge Magnum XE;17.5;8;318.0;140.0;4080.;13.7;78;US\\r\",\"Chevrolet Chevette;30.0;4;98.00;68.00;2155.;16.5;78;US\\r\",\"Toyota Corolla;27.5;4;134.0;95.00;2560.;14.2;78;Japan\\r\",\"Datsun 510;27.2;4;119.0;97.00;2300.;14.7;78;Japan\\r\",\"Dodge Omni;30.9;4;105.0;75.00;2230.;14.5;78;US\\r\",\"Toyota Celica GT Liftback;21.1;4;134.0;95.00;2515.;14.8;78;Japan\\r\",\"Plymouth Sapporo;23.2;4;156.0;105.0;2745.;16.7;78;US\\r\",\"Oldsmobile Starfire SX;23.8;4;151.0;85.00;2855.;17.6;78;US\\r\",\"Datsun 200-SX;23.9;4;119.0;97.00;2405.;14.9;78;Japan\\r\",\"Audi 5000;20.3;5;131.0;103.0;2830.;15.9;78;Europe\\r\",\"Volvo 264gl;17.0;6;163.0;125.0;3140.;13.6;78;Europe\\r\",\"Saab 99gle;21.6;4;121.0;115.0;2795.;15.7;78;Europe\\r\",\"Peugeot 604sl;16.2;6;163.0;133.0;3410.;15.8;78;Europe\\r\",\"Volkswagen Scirocco;31.5;4;89.00;71.00;1990.;14.9;78;Europe\\r\",\"Honda Accord LX;29.5;4;98.00;68.00;2135.;16.6;78;Japan\\r\",\"Pontiac Lemans V6;21.5;6;231.0;115.0;3245.;15.4;79;US\\r\",\"Mercury Zephyr 6;19.8;6;200.0;85.00;2990.;18.2;79;US\\r\",\"Ford Fairmont 4;22.3;4;140.0;88.00;2890.;17.3;79;US\\r\",\"AMC Concord DL 6;20.2;6;232.0;90.00;3265.;18.2;79;US\\r\",\"Dodge Aspen 6;20.6;6;225.0;110.0;3360.;16.6;79;US\\r\",\"Chevrolet Caprice Classic;17.0;8;305.0;130.0;3840.;15.4;79;US\\r\",\"Ford LTD Landau;17.6;8;302.0;129.0;3725.;13.4;79;US\\r\",\"Mercury Grand Marquis;16.5;8;351.0;138.0;3955.;13.2;79;US\\r\",\"Dodge St. Regis;18.2;8;318.0;135.0;3830.;15.2;79;US\\r\",\"Buick Estate Wagon (sw);16.9;8;350.0;155.0;4360.;14.9;79;US\\r\",\"Ford Country Squire (sw);15.5;8;351.0;142.0;4054.;14.3;79;US\\r\",\"Chevrolet Malibu Classic (sw);19.2;8;267.0;125.0;3605.;15.0;79;US\\r\",\"Chrysler Lebaron Town @ Country (sw);18.5;8;360.0;150.0;3940.;13.0;79;US\\r\",\"Volkswagen Rabbit Custom;31.9;4;89.00;71.00;1925.;14.0;79;Europe\\r\",\"Mazda GLC Deluxe;34.1;4;86.00;65.00;1975.;15.2;79;Japan\\r\",\"Dodge Colt Hatchback Custom;35.7;4;98.00;80.00;1915.;14.4;79;US\\r\",\"AMC Spirit DL;27.4;4;121.0;80.00;2670.;15.0;79;US\\r\",\"Mercedes Benz 300d;25.4;5;183.0;77.00;3530.;20.1;79;Europe\\r\",\"Cadillac Eldorado;23.0;8;350.0;125.0;3900.;17.4;79;US\\r\",\"Peugeot 504;27.2;4;141.0;71.00;3190.;24.8;79;Europe\\r\",\"Oldsmobile Cutlass Salon Brougham;23.9;8;260.0;90.00;3420.;22.2;79;US\\r\",\"Plymouth Horizon;34.2;4;105.0;70.00;2200.;13.2;79;US\\r\",\"Plymouth Horizon TC3;34.5;4;105.0;70.00;2150.;14.9;79;US\\r\",\"Datsun 210;31.8;4;85.00;65.00;2020.;19.2;79;Japan\\r\",\"Fiat Strada Custom;37.3;4;91.00;69.00;2130.;14.7;79;Europe\\r\",\"Buick Skylark Limited;28.4;4;151.0;90.00;2670.;16.0;79;US\\r\",\"Chevrolet Citation;28.8;6;173.0;115.0;2595.;11.3;79;US\\r\",\"Oldsmobile Omega Brougham;26.8;6;173.0;115.0;2700.;12.9;79;US\\r\",\"Pontiac Phoenix;33.5;4;151.0;90.00;2556.;13.2;79;US\\r\",\"Volkswagen Rabbit;41.5;4;98.00;76.00;2144.;14.7;80;Europe\\r\",\"Toyota Corolla Tercel;38.1;4;89.00;60.00;1968.;18.8;80;Japan\\r\",\"Chevrolet Chevette;32.1;4;98.00;70.00;2120.;15.5;80;US\\r\",\"Datsun 310;37.2;4;86.00;65.00;2019.;16.4;80;Japan\\r\",\"Chevrolet Citation;28.0;4;151.0;90.00;2678.;16.5;80;US\\r\",\"Ford Fairmont;26.4;4;140.0;88.00;2870.;18.1;80;US\\r\",\"AMC Concord;24.3;4;151.0;90.00;3003.;20.1;80;US\\r\",\"Dodge Aspen;19.1;6;225.0;90.00;3381.;18.7;80;US\\r\",\"Audi 4000;34.3;4;97.00;78.00;2188.;15.8;80;Europe\\r\",\"Toyota Corolla Liftback;29.8;4;134.0;90.00;2711.;15.5;80;Japan\\r\",\"Mazda 626;31.3;4;120.0;75.00;2542.;17.5;80;Japan\\r\",\"Datsun 510 Hatchback;37.0;4;119.0;92.00;2434.;15.0;80;Japan\\r\",\"Toyota Corolla;32.2;4;108.0;75.00;2265.;15.2;80;Japan\\r\",\"Mazda GLC;46.6;4;86.00;65.00;2110.;17.9;80;Japan\\r\",\"Dodge Colt;27.9;4;156.0;105.0;2800.;14.4;80;US\\r\",\"Datsun 210;40.8;4;85.00;65.00;2110.;19.2;80;Japan\\r\",\"Volkswagen Rabbit C (Diesel);44.3;4;90.00;48.00;2085.;21.7;80;Europe\\r\",\"Volkswagen Dasher (diesel);43.4;4;90.00;48.00;2335.;23.7;80;Europe\\r\",\"Audi 5000s (diesel);36.4;5;121.0;67.00;2950.;19.9;80;Europe\\r\",\"Mercedes-Benz 240d;30.0;4;146.0;67.00;3250.;21.8;80;Europe\\r\",\"Honda Civic 1500 gl;44.6;4;91.00;67.00;1850.;13.8;80;Japan\\r\",\"Renault Lecar Deluxe;40.9;4;85.00;0;1835.;17.3;80;Europe\\r\",\"Subaru DL;33.8;4;97.00;67.00;2145.;18.0;80;Japan\\r\",\"Volkswagen Rabbit;29.8;4;89.00;62.00;1845.;15.3;80;Europe\\r\",\"Datsun 280-ZX;32.7;6;168.0;132.0;2910.;11.4;80;Japan\\r\",\"Mazda RX-7 GS;23.7;3;70.00;100.0;2420.;12.5;80;Japan\\r\",\"Triumph TR7 Coupe;35.0;4;122.0;88.00;2500.;15.1;80;Europe\\r\",\"Ford Mustang Cobra;23.6;4;140.0;0;2905.;14.3;80;US\\r\",\"Honda Accord;32.4;4;107.0;72.00;2290.;17.0;80;Japan\\r\",\"Plymouth Reliant;27.2;4;135.0;84.00;2490.;15.7;81;US\\r\",\"Buick Skylark;26.6;4;151.0;84.00;2635.;16.4;81;US\\r\",\"Dodge Aries Wagon (sw);25.8;4;156.0;92.00;2620.;14.4;81;US\\r\",\"Chevrolet Citation;23.5;6;173.0;110.0;2725.;12.6;81;US\\r\",\"Plymouth Reliant;30.0;4;135.0;84.00;2385.;12.9;81;US\\r\",\"Toyota Starlet;39.1;4;79.00;58.00;1755.;16.9;81;Japan\\r\",\"Plymouth Champ;39.0;4;86.00;64.00;1875.;16.4;81;US\\r\",\"Honda Civic 1300;35.1;4;81.00;60.00;1760.;16.1;81;Japan\\r\",\"Subaru;32.3;4;97.00;67.00;2065.;17.8;81;Japan\\r\",\"Datsun 210 MPG;37.0;4;85.00;65.00;1975.;19.4;81;Japan\\r\",\"Toyota Tercel;37.7;4;89.00;62.00;2050.;17.3;81;Japan\\r\",\"Mazda GLC 4;34.1;4;91.00;68.00;1985.;16.0;81;Japan\\r\",\"Plymouth Horizon 4;34.7;4;105.0;63.00;2215.;14.9;81;US\\r\",\"Ford Escort 4W;34.4;4;98.00;65.00;2045.;16.2;81;US\\r\",\"Ford Escort 2H;29.9;4;98.00;65.00;2380.;20.7;81;US\\r\",\"Volkswagen Jetta;33.0;4;105.0;74.00;2190.;14.2;81;Europe\\r\",\"Renault 18i;34.5;4;100.0;0;2320.;15.8;81;Europe\\r\",\"Honda Prelude;33.7;4;107.0;75.00;2210.;14.4;81;Japan\\r\",\"Toyota Corolla;32.4;4;108.0;75.00;2350.;16.8;81;Japan\\r\",\"Datsun 200SX;32.9;4;119.0;100.0;2615.;14.8;81;Japan\\r\",\"Mazda 626;31.6;4;120.0;74.00;2635.;18.3;81;Japan\\r\",\"Peugeot 505s Turbo Diesel;28.1;4;141.0;80.00;3230.;20.4;81;Europe\\r\",\"Saab 900s;0;4;121.0;110.0;2800.;15.4;81;Europe\\r\",\"Volvo Diesel;30.7;6;145.0;76.00;3160.;19.6;81;Europe\\r\",\"Toyota Cressida;25.4;6;168.0;116.0;2900.;12.6;81;Japan\\r\",\"Datsun 810 Maxima;24.2;6;146.0;120.0;2930.;13.8;81;Japan\\r\",\"Buick Century;22.4;6;231.0;110.0;3415.;15.8;81;US\\r\",\"Oldsmobile Cutlass LS;26.6;8;350.0;105.0;3725.;19.0;81;US\\r\",\"Ford Grenada gl;20.2;6;200.0;88.00;3060.;17.1;81;US\\r\",\"Chrysler Lebaron Salon;17.6;6;225.0;85.00;3465.;16.6;81;US\\r\",\"Chevrolet Cavalier;28.0;4;112.0;88.00;2605.;19.6;82;US\\r\",\"Chevrolet Cavalier Wagon;27.0;4;112.0;88.00;2640.;18.6;82;US\\r\",\"Chevrolet Cavalier 2-door;34.0;4;112.0;88.00;2395.;18.0;82;US\\r\",\"Pontiac J2000 SE Hatchback;31.0;4;112.0;85.00;2575.;16.2;82;US\\r\",\"Dodge Aries SE;29.0;4;135.0;84.00;2525.;16.0;82;US\\r\",\"Pontiac Phoenix;27.0;4;151.0;90.00;2735.;18.0;82;US\\r\",\"Ford Fairmont Futura;24.0;4;140.0;92.00;2865.;16.4;82;US\\r\",\"AMC Concord DL;23.0;4;151.0;0;3035.;20.5;82;US\\r\",\"Volkswagen Rabbit l;36.0;4;105.0;74.00;1980.;15.3;82;Europe\\r\",\"Mazda GLC Custom l;37.0;4;91.00;68.00;2025.;18.2;82;Japan\\r\",\"Mazda GLC Custom;31.0;4;91.00;68.00;1970.;17.6;82;Japan\\r\",\"Plymouth Horizon Miser;38.0;4;105.0;63.00;2125.;14.7;82;US\\r\",\"Mercury Lynx l;36.0;4;98.00;70.00;2125.;17.3;82;US\\r\",\"Nissan Stanza XE;36.0;4;120.0;88.00;2160.;14.5;82;Japan\\r\",\"Honda Accord;36.0;4;107.0;75.00;2205.;14.5;82;Japan\\r\",\"Toyota Corolla;34.0;4;108.0;70.00;2245;16.9;82;Japan\\r\",\"Honda Civic;38.0;4;91.00;67.00;1965.;15.0;82;Japan\\r\",\"Honda Civic (auto);32.0;4;91.00;67.00;1965.;15.7;82;Japan\\r\",\"Datsun 310 GX;38.0;4;91.00;67.00;1995.;16.2;82;Japan\\r\",\"Buick Century Limited;25.0;6;181.0;110.0;2945.;16.4;82;US\\r\",\"Oldsmobile Cutlass Ciera (diesel);38.0;6;262.0;85.00;3015.;17.0;82;US\\r\",\"Chrysler Lebaron Medallion;26.0;4;156.0;92.00;2585.;14.5;82;US\\r\",\"Ford Grenada l;22.0;6;232.0;112.0;2835;14.7;82;US\\r\",\"Toyota Celica GT;32.0;4;144.0;96.00;2665.;13.9;82;Japan\\r\",\"Dodge Charger 2.2;36.0;4;135.0;84.00;2370.;13.0;82;US\\r\",\"Chevrolet Camaro;27.0;4;151.0;90.00;2950.;17.3;82;US\\r\",\"Ford Mustang GL;27.0;4;140.0;86.00;2790.;15.6;82;US\\r\",\"Volkswagen Pickup;44.0;4;97.00;52.00;2130.;24.6;82;Europe\\r\",\"Dodge Rampage;32.0;4;135.0;84.00;2295.;11.6;82;US\\r\",\"Ford Ranger;28.0;4;120.0;79.00;2625.;18.6;82;US\\r\",\"Chevy S-10;31.0;4;119.0;82.00;2720.;19.4;82;US\\r\"],\"stylingDirectives\":[[],[],[],[],[],[],[],[],[],[],[],[],[],[],[],[],[],[],[],[],[],[],[],[],[],[],[],[],[],[],[],[],[],[],[],[],[],[],[],[],[],[],[],[],[],[],[],[],[],[],[],[],[],[],[],[],[],[],[],[],[],[],[],[],[],[],[],[],[],[],[],[],[],[],[],[],[],[],[],[],[],[],[],[],[],[],[],[],[],[],[],[],[],[],[],[],[],[],[],[],[],[],[],[],[],[],[],[],[],[],[],[],[],[],[],[],[],[],[],[],[],[],[],[],[],[],[],[],[],[],[],[],[],[],[],[],[],[],[],[],[],[],[],[],[],[],[],[],[],[],[],[],[],[],[],[],[],[],[],[],[],[],[],[],[],[],[],[],[],[],[],[],[],[],[],[],[],[],[],[],[],[],[],[],[],[],[],[],[],[],[],[],[],[],[],[],[],[],[],[],[],[],[],[],[],[],[],[],[],[],[],[],[],[],[],[],[],[],[],[],[],[],[],[],[],[],[],[],[],[],[],[],[],[],[],[],[],[],[],[],[],[],[],[],[],[],[],[],[],[],[],[],[],[],[],[],[],[],[],[],[],[],[],[],[],[],[],[],[],[],[],[],[],[],[],[],[],[],[],[],[],[],[],[],[],[],[],[],[],[],[],[],[],[],[],[],[],[],[],[],[],[],[],[],[],[],[],[],[],[],[],[],[],[],[],[],[],[],[],[],[],[],[],[],[],[],[],[],[],[],[],[],[],[],[],[],[],[],[],[],[],[],[],[],[],[],[],[],[],[],[],[],[],[],[],[],[],[],[],[],[],[],[],[],[],[],[],[],[],[],[],[],[],[],[],[],[],[],[],[],[],[],[],[],[],[],[],[],[],[],[],[],[],[],[],[],[],[],[],[],[],[],[],[],[],[],[],[]],\"colorizedLines\":null,\"csv\":null,\"csvError\":\"We can make this file \\u003ca href='https://docs.github.com/articles/rendering-csv-and-tsv-data'\\u003ebeautiful and searchable\\u003c/a\\u003e if this error is corrected: No commas found in this CSV file in line 0.\",\"dependabotInfo\":{\"showConfigurationBanner\":false,\"configFilePath\":null,\"networkDependabotPath\":\"/niteen82/spark-scala/network/updates\",\"dismissConfigurationNoticePath\":\"/settings/dismiss-notice/dependabot_configuration_notice\",\"configurationNoticeDismissed\":null},\"displayName\":\"cars.csv\",\"displayUrl\":\"https://github.com/niteen82/spark-scala/blob/main/cars.csv?raw=true\",\"headerInfo\":{\"blobSize\":\"22.1 KB\",\"deleteTooltip\":\"You must be signed in to make or propose changes\",\"editTooltip\":\"You must be signed in to make or propose changes\",\"ghDesktopPath\":\"https://desktop.github.com\",\"isGitLfs\":false,\"onBranch\":true,\"shortPath\":\"22c2224\",\"siteNavLoginPath\":\"/login?return_to=https%3A%2F%2Fgithub.com%2Fniteen82%2Fspark-scala%2Fblob%2Fmain%2Fcars.csv\",\"isCSV\":true,\"isRichtext\":false,\"toc\":null,\"lineInfo\":{\"truncatedLoc\":\"408\",\"truncatedSloc\":\"408\"},\"mode\":\"file\"},\"image\":false,\"isCodeownersFile\":null,\"isPlain\":false,\"isValidLegacyIssueTemplate\":false,\"issueTemplate\":null,\"discussionTemplate\":null,\"language\":\"CSV\",\"languageID\":51,\"large\":false,\"planSupportInfo\":{\"repoIsFork\":null,\"repoOwnedByCurrentUser\":null,\"requestFullPath\":\"/niteen82/spark-scala/blob/main/cars.csv\",\"showFreeOrgGatedFeatureMessage\":null,\"showPlanSupportBanner\":null,\"upgradeDataAttributes\":null,\"upgradePath\":null},\"publishBannersInfo\":{\"dismissActionNoticePath\":\"/settings/dismiss-notice/publish_action_from_dockerfile\",\"releasePath\":\"/niteen82/spark-scala/releases/new?marketplace=true\",\"showPublishActionBanner\":false},\"rawBlobUrl\":\"https://github.com/niteen82/spark-scala/raw/main/cars.csv\",\"renderImageOrRaw\":false,\"richText\":null,\"renderedFileInfo\":null,\"shortPath\":null,\"symbolsEnabled\":true,\"tabSize\":8,\"topBannersInfo\":{\"overridingGlobalFundingFile\":false,\"globalPreferredFundingPath\":null,\"showInvalidCitationWarning\":false,\"citationHelpUrl\":\"https://docs.github.com/github/creating-cloning-and-archiving-repositories/creating-a-repository-on-github/about-citation-files\",\"actionsOnboardingTip\":null},\"truncated\":false,\"viewable\":true,\"workflowRedirectUrl\":null,\"symbols\":{\"timed_out\":false,\"not_analyzed\":true,\"symbols\":[]}},\"copilotInfo\":null,\"copilotAccessAllowed\":false,\"csrf_tokens\":{\"/niteen82/spark-scala/branches\":{\"post\":\"MsS6j4r3JKFTApAQygcMOQ_MMXzGxO6GDhcUTO6HOA8d-L1S48iRP-F1hxNv85D9rcAHKDRUPVhy_0iDf_Wa8A\"},\"/repos/preferences\":{\"post\":\"PkTtkGuL4yYPAEyPV7nszVtv4uhO1Eo-WCKZSubdLmt7ms4eHZJd3pQqOLxCDFvxS-J40A6O4xpi9K4UziOg8A\"}}},\"title\":\"spark-scala/cars.csv at main · niteen82/spark-scala\",\"appPayload\":{\"helpUrl\":\"https://docs.github.com\",\"findFileWorkerPath\":\"/assets-cdn/worker/find-file-worker-1583894afd38.js\",\"findInFileWorkerPath\":\"/assets-cdn/worker/find-in-file-worker-03b87d52cf57.js\",\"githubDevUrl\":null,\"enabled_features\":{\"code_nav_ui_events\":false,\"overview_shared_code_dropdown_button\":false,\"react_blob_overlay\":false,\"copilot_conversational_ux_embedding_update\":false,\"copilot_smell_icebreaker_ux\":true,\"copilot_workspace\":false}}}</script>\n",
            "  <div data-target=\"react-app.reactRoot\"><style data-styled=\"true\" data-styled-version=\"5.3.11\">.hOfjFo{padding:0;}/*!sc*/\n",
            ".oDGAe{max-width:100%;margin-left:auto;margin-right:auto;display:-webkit-box;display:-webkit-flex;display:-ms-flexbox;display:flex;-webkit-flex-wrap:wrap;-ms-flex-wrap:wrap;flex-wrap:wrap;}/*!sc*/\n",
            ".kowOcT{display:-webkit-box;display:-webkit-flex;display:-ms-flexbox;display:flex;-webkit-flex:1 1 100%;-ms-flex:1 1 100%;flex:1 1 100%;-webkit-flex-wrap:wrap;-ms-flex-wrap:wrap;flex-wrap:wrap;max-width:100%;}/*!sc*/\n",
            ".gISSDQ{width:100%;}/*!sc*/\n",
            "@media screen and (min-width:544px){.gISSDQ{width:100%;}}/*!sc*/\n",
            "@media screen and (min-width:768px){.gISSDQ{width:auto;}}/*!sc*/\n",
            ".fLEPlD{display:none;-webkit-order:1;-ms-flex-order:1;order:1;width:100%;margin-left:0;margin-right:0;-webkit-flex-direction:column;-ms-flex-direction:column;flex-direction:column;margin-bottom:0;min-width:0;}/*!sc*/\n",
            "@media screen and (min-width:544px){.fLEPlD{-webkit-flex-direction:column;-ms-flex-direction:column;flex-direction:column;}}/*!sc*/\n",
            "@media screen and (min-width:768px){.fLEPlD{width:auto;margin-top:0 !important;margin-bottom:0 !important;position:-webkit-sticky;position:sticky;top:0px;max-height:100vh !important;-webkit-flex-direction:row;-ms-flex-direction:row;flex-direction:row;margin-right:0;height:100vh;}}/*!sc*/\n",
            "@media print,screen and (max-width:1011px) and (min-width:768px){.fLEPlD{display:none;}}/*!sc*/\n",
            ".hPvFuC{margin-left:0;margin-right:0;display:none;margin-top:0;}/*!sc*/\n",
            "@media screen and (min-width:768px){.hPvFuC{margin-left:0 !important;margin-right:0 !important;}}/*!sc*/\n",
            ".fFSoPl{--pane-min-width:256px;--pane-max-width-diff:511px;--pane-max-width:calc(100vw - var(--pane-max-width-diff));width:100%;padding:0;}/*!sc*/\n",
            "@media screen and (min-width:544px){}/*!sc*/\n",
            "@media screen and (min-width:768px){.fFSoPl{width:clamp(var(--pane-min-width),var(--pane-width),var(--pane-max-width));overflow:auto;}}/*!sc*/\n",
            "@media screen and (min-width:1280px){.fFSoPl{--pane-max-width-diff:959px;}}/*!sc*/\n",
            ".bTBnTW{height:100%;position:relative;display:none;margin-left:0;}/*!sc*/\n",
            ".bHLmSv{position:absolute;inset:0 -2px;cursor:col-resize;background-color:transparent;-webkit-transition-delay:0.1s;transition-delay:0.1s;}/*!sc*/\n",
            ".bHLmSv:hover{background-color:var(--bgColor-neutral-muted,var(--color-neutral-muted,rgba(175,184,193,0.2)));}/*!sc*/\n",
            ".iKqMNA{display:-webkit-box;display:-webkit-flex;display:-ms-flexbox;display:flex;-webkit-flex-direction:column;-ms-flex-direction:column;flex-direction:column;-webkit-order:2;-ms-flex-order:2;order:2;-webkit-flex-basis:0;-ms-flex-preferred-size:0;flex-basis:0;-webkit-box-flex:1;-webkit-flex-grow:1;-ms-flex-positive:1;flex-grow:1;-webkit-flex-shrink:1;-ms-flex-negative:1;flex-shrink:1;min-width:1px;margin-right:auto;}/*!sc*/\n",
            "@media print{.iKqMNA{display:-webkit-box !important;display:-webkit-flex !important;display:-ms-flexbox !important;display:flex !important;}}/*!sc*/\n",
            ".FxAyp{width:100%;max-width:100%;margin-left:auto;margin-right:auto;-webkit-box-flex:1;-webkit-flex-grow:1;-ms-flex-positive:1;flex-grow:1;padding:0;}/*!sc*/\n",
            ".leYMvG{margin-left:auto;margin-right:auto;-webkit-flex-direction:column;-ms-flex-direction:column;flex-direction:column;padding-bottom:40px;max-width:100%;margin-top:0;}/*!sc*/\n",
            ".KMPzq{display:inherit;}/*!sc*/\n",
            ".hfKjHv{width:100%;}/*!sc*/\n",
            ".gZWyZE{display:-webkit-box;display:-webkit-flex;display:-ms-flexbox;display:flex;gap:8px;-webkit-flex-direction:column;-ms-flex-direction:column;flex-direction:column;width:100%;}/*!sc*/\n",
            ".dwYKDk{display:-webkit-box;display:-webkit-flex;display:-ms-flexbox;display:flex;-webkit-align-items:start;-webkit-box-align:start;-ms-flex-align:start;align-items:start;-webkit-box-pack:justify;-webkit-justify-content:space-between;-ms-flex-pack:justify;justify-content:space-between;gap:8px;}/*!sc*/\n",
            ".ibcGmb{display:-webkit-box;display:-webkit-flex;display:-ms-flexbox;display:flex;-webkit-align-items:start;-webkit-box-align:start;-ms-flex-align:start;align-items:start;min-width:0;}/*!sc*/\n",
            ".hKaEJF{display:block;margin-right:8px;}/*!sc*/\n",
            "@media screen and (min-width:1360px){.hKaEJF{display:block;}}/*!sc*/\n",
            ".gUkoLg{-webkit-box-pack:center;-webkit-justify-content:center;-ms-flex-pack:center;justify-content:center;}/*!sc*/\n",
            ".hzSPyu{display:-webkit-box;display:-webkit-flex;display:-ms-flexbox;display:flex;pointer-events:none;}/*!sc*/\n",
            ".bZBlpz{display:-webkit-box;display:-webkit-flex;display:-ms-flexbox;display:flex;width:100%;}/*!sc*/\n",
            ".lhTYNA{margin-right:4px;color:var(--fgColor-muted,var(--color-fg-muted,#656d76));}/*!sc*/\n",
            ".dbrgmi{font-size:14px;min-width:0;max-width:125px;overflow:hidden;text-overflow:ellipsis;white-space:nowrap;}/*!sc*/\n",
            ".dHJiml{-webkit-align-self:center;-ms-flex-item-align:center;align-self:center;display:-webkit-box;display:-webkit-flex;display:-ms-flexbox;display:flex;padding-left:8px;padding-right:8px;min-width:0;}/*!sc*/\n",
            ".cEytCf{display:-webkit-box;display:-webkit-flex;display:-ms-flexbox;display:flex;-webkit-flex-direction:row;-ms-flex-direction:row;flex-direction:row;font-size:16px;min-width:0;-webkit-flex-shrink:1;-ms-flex-negative:1;flex-shrink:1;-webkit-flex-wrap:wrap;-ms-flex-wrap:wrap;flex-wrap:wrap;max-width:100%;-webkit-align-items:center;-webkit-box-align:center;-ms-flex-align:center;align-items:center;}/*!sc*/\n",
            ".fzFXnm{max-width:100%;}/*!sc*/\n",
            ".iMnkmv{max-width:100%;list-style:none;display:inline-block;}/*!sc*/\n",
            ".ghzDag{display:inline-block;max-width:100%;}/*!sc*/\n",
            ".faNtbn{min-height:32px;display:-webkit-box;display:-webkit-flex;display:-ms-flexbox;display:flex;-webkit-align-items:start;-webkit-box-align:start;-ms-flex-align:start;align-items:start;}/*!sc*/\n",
            ".fmQaBv{margin-left:4px;margin-right:4px;}/*!sc*/\n",
            ".dJxjrT{margin-left:16px;margin-right:16px;}/*!sc*/\n",
            ".eFxKDQ{display:-webkit-box;display:-webkit-flex;display:-ms-flexbox;display:flex;-webkit-flex-direction:column;-ms-flex-direction:column;flex-direction:column;}/*!sc*/\n",
            ".dzCJzi{display:-webkit-box;display:-webkit-flex;display:-ms-flexbox;display:flex;-webkit-flex-direction:row;-ms-flex-direction:row;flex-direction:row;-webkit-flex-wrap:wrap;-ms-flex-wrap:wrap;flex-wrap:wrap;-webkit-box-pack:justify;-webkit-justify-content:space-between;-ms-flex-pack:justify;justify-content:space-between;-webkit-align-items:center;-webkit-box-align:center;-ms-flex-align:center;align-items:center;gap:8px;min-width:273px;padding:8px;}/*!sc*/\n",
            "@media screen and (min-width:544px){.dzCJzi{-webkit-flex-wrap:nowrap;-ms-flex-wrap:nowrap;flex-wrap:nowrap;}}/*!sc*/\n",
            ".ldRxiI{display:-webkit-box;display:-webkit-flex;display:-ms-flexbox;display:flex;-webkit-flex-direction:row;-ms-flex-direction:row;flex-direction:row;}/*!sc*/\n",
            ".fVkfyA{width:100%;height:-webkit-fit-content;height:-moz-fit-content;height:fit-content;min-width:0;margin-right:0;}/*!sc*/\n",
            ".gNAmSV{height:40px;padding-left:4px;padding-bottom:16px;}/*!sc*/\n",
            ".jNEwzY{-webkit-align-items:center;-webkit-box-align:center;-ms-flex-align:center;align-items:center;}/*!sc*/\n",
            ".bsDwxw{font-size:12px;-webkit-flex:auto;-ms-flex:auto;flex:auto;padding-right:16px;color:var(--fgColor-muted,var(--color-fg-muted,#656d76));min-width:0;}/*!sc*/\n",
            ".jdLMhu{top:0px;z-index:4;background:var(--bgColor-default,var(--color-canvas-default));position:-webkit-sticky;position:sticky;}/*!sc*/\n",
            ".tOISc{display:-webkit-box;display:-webkit-flex;display:-ms-flexbox;display:flex;-webkit-flex-direction:column;-ms-flex-direction:column;flex-direction:column;width:100%;position:absolute;}/*!sc*/\n",
            ".hqwSEx{display:none;min-width:0;padding-top:8px;padding-bottom:8px;}/*!sc*/\n",
            ".bDVoEr{display:-webkit-box;display:-webkit-flex;display:-ms-flexbox;display:flex;-webkit-align-items:center;-webkit-box-align:center;-ms-flex-align:center;align-items:center;overflow:hidden;margin-left:8px;margin-right:8px;-webkit-flex-direction:row;-ms-flex-direction:row;flex-direction:row;-webkit-box-pack:justify;-webkit-justify-content:space-between;-ms-flex-pack:justify;justify-content:space-between;width:100%;}/*!sc*/\n",
            ".kYLlPM{display:-webkit-box;display:-webkit-flex;display:-ms-flexbox;display:flex;-webkit-align-items:center;-webkit-box-align:center;-ms-flex-align:center;align-items:center;}/*!sc*/\n",
            ".gYjEmn{margin-left:4px;margin-right:8px;}/*!sc*/\n",
            ".kGqOLL{text-overflow:ellipsis;overflow:hidden;display:-webkit-box;display:-webkit-flex;display:-ms-flexbox;display:flex;}/*!sc*/\n",
            ".fHind{display:-webkit-box;display:-webkit-flex;display:-ms-flexbox;display:flex;-webkit-flex-direction:row;-ms-flex-direction:row;flex-direction:row;font-size:14px;min-width:0;-webkit-flex-shrink:1;-ms-flex-negative:1;flex-shrink:1;-webkit-flex-wrap:wrap;-ms-flex-wrap:wrap;flex-wrap:wrap;max-width:100%;-webkit-align-items:center;-webkit-box-align:center;-ms-flex-align:center;align-items:center;}/*!sc*/\n",
            ".kTvpNk{padding-left:8px;padding-top:8px;padding-bottom:8px;display:-webkit-box;display:-webkit-flex;display:-ms-flexbox;display:flex;-webkit-flex:1;-ms-flex:1;flex:1;-webkit-align-items:center;-webkit-box-align:center;-ms-flex-align:center;align-items:center;-webkit-box-pack:justify;-webkit-justify-content:space-between;-ms-flex-pack:justify;justify-content:space-between;background-color:var(--bgColor-muted,var(--color-canvas-subtle,#f6f8fa));border:1px solid var(--borderColor-default,var(--color-border-default));border-radius:6px 6px 0px 0px;}/*!sc*/\n",
            ".iNMjfP{display:-webkit-box;display:-webkit-flex;display:-ms-flexbox;display:flex;-webkit-align-items:center;-webkit-box-align:center;-ms-flex-align:center;align-items:center;gap:8px;min-width:0;}/*!sc*/\n",
            ".fefCSX{display:block;position:relative;-webkit-box-flex:1;-webkit-flex-grow:1;-ms-flex-positive:1;flex-grow:1;margin-top:-1px;margin-bottom:-1px;--separator-color:transparent;}/*!sc*/\n",
            ".fefCSX:not(:last-child){margin-right:1px;}/*!sc*/\n",
            ".fefCSX:not(:last-child):after{background-color:var(--separator-color);content:\"\";position:absolute;right:-2px;top:8px;bottom:8px;width:1px;}/*!sc*/\n",
            ".fefCSX:focus-within:has(:focus-visible){--separator-color:transparent;}/*!sc*/\n",
            ".fefCSX:first-child{margin-left:-1px;}/*!sc*/\n",
            ".fefCSX:last-child{margin-right:-1px;}/*!sc*/\n",
            ".idgUkN{display:block;position:relative;-webkit-box-flex:1;-webkit-flex-grow:1;-ms-flex-positive:1;flex-grow:1;margin-top:-1px;margin-bottom:-1px;--separator-color:var(--borderColor-default,var(--color-border-default,#d0d7de));}/*!sc*/\n",
            ".idgUkN:not(:last-child){margin-right:1px;}/*!sc*/\n",
            ".idgUkN:not(:last-child):after{background-color:var(--separator-color);content:\"\";position:absolute;right:-2px;top:8px;bottom:8px;width:1px;}/*!sc*/\n",
            ".idgUkN:focus-within:has(:focus-visible){--separator-color:transparent;}/*!sc*/\n",
            ".idgUkN:first-child{margin-left:-1px;}/*!sc*/\n",
            ".idgUkN:last-child{margin-right:-1px;}/*!sc*/\n",
            ".kcLCKF{display:-webkit-box;display:-webkit-flex;display:-ms-flexbox;display:flex;-webkit-align-items:center;-webkit-box-align:center;-ms-flex-align:center;align-items:center;gap:8px;margin-right:8px;}/*!sc*/\n",
            ".kVWtTz{gap:8px;}/*!sc*/\n",
            ".hGyMdv{border:1px solid;border-top:none;border-color:var(--borderColor-default,var(--color-border-default,#d0d7de));border-radius:0px 0px 6px 6px;min-width:273px;}/*!sc*/\n",
            ".dceWRL{background-color:var(--bgColor-default,var(--color-canvas-default));border:0px;border-width:0;border-radius:0px 0px 6px 6px;padding:0;min-width:0;margin-top:46px;}/*!sc*/\n",
            ".dGXHv{display:-webkit-box;display:-webkit-flex;display:-ms-flexbox;display:flex;-webkit-flex:1;-ms-flex:1;flex:1;padding-top:8px;padding-bottom:8px;-webkit-flex-direction:column;-ms-flex-direction:column;flex-direction:column;-webkit-box-pack:justify;-webkit-justify-content:space-between;-ms-flex-pack:justify;justify-content:space-between;min-width:0;position:relative;}/*!sc*/\n",
            ".bpDFns{position:relative;}/*!sc*/\n",
            ".iJOeCH{-webkit-flex:1;-ms-flex:1;flex:1;position:relative;min-width:0;}/*!sc*/\n",
            ".jewUnv{tab-size:8;isolation:isolate;position:relative;overflow:auto;max-width:unset;}/*!sc*/\n",
            ".cCoXib{position:fixed;top:0;right:0;height:100%;width:15px;-webkit-transition:-webkit-transform 0.3s;-webkit-transition:transform 0.3s;transition:transform 0.3s;z-index:1;}/*!sc*/\n",
            ".cCoXib:hover{-webkit-transform:scaleX(1.5);-ms-transform:scaleX(1.5);transform:scaleX(1.5);}/*!sc*/\n",
            "data-styled.g1[id=\"Box-sc-g0xbh4-0\"]{content:\"hOfjFo,oDGAe,kowOcT,gISSDQ,fLEPlD,hPvFuC,fFSoPl,bTBnTW,bHLmSv,iKqMNA,FxAyp,leYMvG,KMPzq,hfKjHv,gZWyZE,dwYKDk,ibcGmb,hKaEJF,gUkoLg,hzSPyu,bZBlpz,lhTYNA,dbrgmi,dHJiml,cEytCf,fzFXnm,iMnkmv,ghzDag,faNtbn,fmQaBv,dJxjrT,eFxKDQ,dzCJzi,ldRxiI,fVkfyA,gNAmSV,jNEwzY,bsDwxw,jdLMhu,tOISc,hqwSEx,bDVoEr,kYLlPM,gYjEmn,kGqOLL,fHind,kTvpNk,iNMjfP,fefCSX,idgUkN,kcLCKF,kVWtTz,hGyMdv,dceWRL,dGXHv,bpDFns,iJOeCH,jewUnv,cCoXib,\"}/*!sc*/\n",
            ".ixDjro{font-weight:600;font-size:32px;margin:0;display:-webkit-box;display:-webkit-flex;display:-ms-flexbox;display:flex;font-size:14px;}/*!sc*/\n",
            ".ixDjro:where([data-variant='large']){font:var(--text-title-shorthand-large,600 32px / 1.5 -apple-system,BlinkMacSystemFont,\"Segoe UI\",\"Noto Sans\",Helvetica,Arial,sans-serif,\"Apple Color Emoji\",\"Segoe UI Emoji\");}/*!sc*/\n",
            ".ixDjro:where([data-variant='medium']){font:var(--text-title-shorthand-medium,600 20px / 1.6 -apple-system,BlinkMacSystemFont,\"Segoe UI\",\"Noto Sans\",Helvetica,Arial,sans-serif,\"Apple Color Emoji\",\"Segoe UI Emoji\");}/*!sc*/\n",
            ".ixDjro:where([data-variant='small']){font:var(--text-title-shorthand-small,600 16px / 1.5 -apple-system,BlinkMacSystemFont,\"Segoe UI\",\"Noto Sans\",Helvetica,Arial,sans-serif,\"Apple Color Emoji\",\"Segoe UI Emoji\");}/*!sc*/\n",
            ".jHwwdn{font-weight:600;font-size:32px;margin:0;}/*!sc*/\n",
            ".jHwwdn:where([data-variant='large']){font:var(--text-title-shorthand-large,600 32px / 1.5 -apple-system,BlinkMacSystemFont,\"Segoe UI\",\"Noto Sans\",Helvetica,Arial,sans-serif,\"Apple Color Emoji\",\"Segoe UI Emoji\");}/*!sc*/\n",
            ".jHwwdn:where([data-variant='medium']){font:var(--text-title-shorthand-medium,600 20px / 1.6 -apple-system,BlinkMacSystemFont,\"Segoe UI\",\"Noto Sans\",Helvetica,Arial,sans-serif,\"Apple Color Emoji\",\"Segoe UI Emoji\");}/*!sc*/\n",
            ".jHwwdn:where([data-variant='small']){font:var(--text-title-shorthand-small,600 16px / 1.5 -apple-system,BlinkMacSystemFont,\"Segoe UI\",\"Noto Sans\",Helvetica,Arial,sans-serif,\"Apple Color Emoji\",\"Segoe UI Emoji\");}/*!sc*/\n",
            ".leHNVT{font-weight:600;font-size:32px;margin:0;font-weight:600;display:inline-block;max-width:100%;font-size:16px;}/*!sc*/\n",
            ".leHNVT:where([data-variant='large']){font:var(--text-title-shorthand-large,600 32px / 1.5 -apple-system,BlinkMacSystemFont,\"Segoe UI\",\"Noto Sans\",Helvetica,Arial,sans-serif,\"Apple Color Emoji\",\"Segoe UI Emoji\");}/*!sc*/\n",
            ".leHNVT:where([data-variant='medium']){font:var(--text-title-shorthand-medium,600 20px / 1.6 -apple-system,BlinkMacSystemFont,\"Segoe UI\",\"Noto Sans\",Helvetica,Arial,sans-serif,\"Apple Color Emoji\",\"Segoe UI Emoji\");}/*!sc*/\n",
            ".leHNVT:where([data-variant='small']){font:var(--text-title-shorthand-small,600 16px / 1.5 -apple-system,BlinkMacSystemFont,\"Segoe UI\",\"Noto Sans\",Helvetica,Arial,sans-serif,\"Apple Color Emoji\",\"Segoe UI Emoji\");}/*!sc*/\n",
            ".gbqGBV{font-weight:600;font-size:32px;margin:0;font-weight:600;display:inline-block;max-width:100%;font-size:14px;}/*!sc*/\n",
            ".gbqGBV:where([data-variant='large']){font:var(--text-title-shorthand-large,600 32px / 1.5 -apple-system,BlinkMacSystemFont,\"Segoe UI\",\"Noto Sans\",Helvetica,Arial,sans-serif,\"Apple Color Emoji\",\"Segoe UI Emoji\");}/*!sc*/\n",
            ".gbqGBV:where([data-variant='medium']){font:var(--text-title-shorthand-medium,600 20px / 1.6 -apple-system,BlinkMacSystemFont,\"Segoe UI\",\"Noto Sans\",Helvetica,Arial,sans-serif,\"Apple Color Emoji\",\"Segoe UI Emoji\");}/*!sc*/\n",
            ".gbqGBV:where([data-variant='small']){font:var(--text-title-shorthand-small,600 16px / 1.5 -apple-system,BlinkMacSystemFont,\"Segoe UI\",\"Noto Sans\",Helvetica,Arial,sans-serif,\"Apple Color Emoji\",\"Segoe UI Emoji\");}/*!sc*/\n",
            "data-styled.g2[id=\"Heading__StyledHeading-sc-1c1dgg0-0\"]{content:\"ixDjro,jHwwdn,leHNVT,gbqGBV,\"}/*!sc*/\n",
            ".cOjWAP{border-radius:6px;border:1px solid;border-color:transparent;font-family:inherit;font-weight:500;font-size:14px;cursor:pointer;-webkit-appearance:none;-moz-appearance:none;appearance:none;-webkit-user-select:none;-moz-user-select:none;-ms-user-select:none;user-select:none;-webkit-text-decoration:none;text-decoration:none;text-align:center;display:-webkit-box;display:-webkit-flex;display:-ms-flexbox;display:flex;-webkit-align-items:center;-webkit-box-align:center;-ms-flex-align:center;align-items:center;-webkit-box-pack:justify;-webkit-justify-content:space-between;-ms-flex-pack:justify;justify-content:space-between;height:32px;padding:0 12px;gap:8px;min-width:-webkit-max-content;min-width:-moz-max-content;min-width:max-content;-webkit-transition:80ms cubic-bezier(0.65,0,0.35,1);transition:80ms cubic-bezier(0.65,0,0.35,1);-webkit-transition-property:color,fill,background-color,border-color;transition-property:color,fill,background-color,border-color;color:var(--button-invisible-fgColor-rest,var(--button-default-fgColor-rest,var(--color-btn-text,#24292f)));background-color:transparent;box-shadow:none;}/*!sc*/\n",
            ".cOjWAP:focus:not(:disabled){box-shadow:none;outline:2px solid var(--fgColor-accent,var(--color-accent-fg,#0969da));outline-offset:-2px;}/*!sc*/\n",
            ".cOjWAP:focus:not(:disabled):not(:focus-visible){outline:solid 1px transparent;}/*!sc*/\n",
            ".cOjWAP:focus-visible:not(:disabled){box-shadow:none;outline:2px solid var(--fgColor-accent,var(--color-accent-fg,#0969da));outline-offset:-2px;}/*!sc*/\n",
            ".cOjWAP[href]{display:-webkit-inline-box;display:-webkit-inline-flex;display:-ms-inline-flexbox;display:inline-flex;}/*!sc*/\n",
            ".cOjWAP[href]:hover{-webkit-text-decoration:none;text-decoration:none;}/*!sc*/\n",
            ".cOjWAP:hover{-webkit-transition-duration:80ms;transition-duration:80ms;}/*!sc*/\n",
            ".cOjWAP:active{-webkit-transition:none;transition:none;}/*!sc*/\n",
            ".cOjWAP[data-inactive]{cursor:auto;}/*!sc*/\n",
            ".cOjWAP:disabled{cursor:not-allowed;box-shadow:none;color:var(--fgColor-disabled,var(--color-primer-fg-disabled,#8c959f));background-color:var(--button-invisible-bgColor-disabled,transparent);}/*!sc*/\n",
            ".cOjWAP:disabled [data-component=ButtonCounter],.cOjWAP:disabled [data-component=\"leadingVisual\"],.cOjWAP:disabled [data-component=\"trailingAction\"]{color:inherit;}/*!sc*/\n",
            "@media (forced-colors:active){.cOjWAP:focus{outline:solid 1px transparent;}}/*!sc*/\n",
            ".cOjWAP [data-component=ButtonCounter]{font-size:12px;}/*!sc*/\n",
            ".cOjWAP[data-component=IconButton]{display:inline-grid;padding:unset;place-content:center;width:32px;min-width:unset;}/*!sc*/\n",
            ".cOjWAP[data-size=\"small\"]{padding:0 8px;height:28px;gap:4px;font-size:12px;}/*!sc*/\n",
            ".cOjWAP[data-size=\"small\"] [data-component=\"text\"]{line-height:calc(20 / 12);}/*!sc*/\n",
            ".cOjWAP[data-size=\"small\"] [data-component=ButtonCounter]{font-size:12px;}/*!sc*/\n",
            ".cOjWAP[data-size=\"small\"] [data-component=\"buttonContent\"] > :not(:last-child){margin-right:4px;}/*!sc*/\n",
            ".cOjWAP[data-size=\"small\"][data-component=IconButton]{width:28px;padding:unset;}/*!sc*/\n",
            ".cOjWAP[data-size=\"large\"]{padding:0 16px;height:40px;gap:8px;}/*!sc*/\n",
            ".cOjWAP[data-size=\"large\"] [data-component=\"buttonContent\"] > :not(:last-child){margin-right:8px;}/*!sc*/\n",
            ".cOjWAP[data-size=\"large\"][data-component=IconButton]{width:40px;padding:unset;}/*!sc*/\n",
            ".cOjWAP[data-block=\"block\"]{width:100%;}/*!sc*/\n",
            ".cOjWAP[data-label-wrap=\"true\"]{min-width:-webkit-fit-content;min-width:-moz-fit-content;min-width:fit-content;height:unset;min-height:var(--control-medium-size,2rem);}/*!sc*/\n",
            ".cOjWAP[data-label-wrap=\"true\"] [data-component=\"buttonContent\"]{-webkit-flex:1 1 auto;-ms-flex:1 1 auto;flex:1 1 auto;-webkit-align-self:stretch;-ms-flex-item-align:stretch;align-self:stretch;padding-block:calc(var(--control-medium-paddingBlock,0.375rem) - 2px);}/*!sc*/\n",
            ".cOjWAP[data-label-wrap=\"true\"] [data-component=\"text\"]{white-space:unset;word-break:break-word;}/*!sc*/\n",
            ".cOjWAP[data-label-wrap=\"true\"][data-size=\"small\"]{height:unset;min-height:var(--control-small-size,1.75rem);}/*!sc*/\n",
            ".cOjWAP[data-label-wrap=\"true\"][data-size=\"small\"] [data-component=\"buttonContent\"]{padding-block:calc(var(--control-small-paddingBlock,0.25rem) - 2px);}/*!sc*/\n",
            ".cOjWAP[data-label-wrap=\"true\"][data-size=\"large\"]{height:unset;min-height:var(--control-large-size,2.5rem);padding-inline:var(--control-large-paddingInline-spacious,1rem);}/*!sc*/\n",
            ".cOjWAP[data-label-wrap=\"true\"][data-size=\"large\"] [data-component=\"buttonContent\"]{padding-block:calc(var(--control-large-paddingBlock,0.625rem) - 2px);}/*!sc*/\n",
            ".cOjWAP[data-inactive]:not([disabled]){background-color:var(--button-inactive-bgColor,var(--button-inactive-bgColor-rest,var(--color-btn-inactive-bg,#eaeef2)));border-color:var(--button-inactive-bgColor,var(--button-inactive-bgColor-rest,var(--color-btn-inactive-bg,#eaeef2)));color:var(--button-inactive-fgColor,var(--button-inactive-fgColor-rest,var(--color-btn-inactive-text,#57606a)));}/*!sc*/\n",
            ".cOjWAP[data-inactive]:not([disabled]):focus-visible{box-shadow:none;}/*!sc*/\n",
            ".cOjWAP [data-component=\"leadingVisual\"]{grid-area:leadingVisual;color:var(--fgColor-muted,var(--color-fg-muted,#656d76));}/*!sc*/\n",
            ".cOjWAP [data-component=\"text\"]{grid-area:text;line-height:calc(20/14);white-space:nowrap;}/*!sc*/\n",
            ".cOjWAP [data-component=\"trailingVisual\"]{grid-area:trailingVisual;}/*!sc*/\n",
            ".cOjWAP [data-component=\"trailingAction\"]{margin-right:-4px;color:var(--fgColor-muted,var(--color-fg-muted,#656d76));}/*!sc*/\n",
            ".cOjWAP [data-component=\"buttonContent\"]{-webkit-flex:1 0 auto;-ms-flex:1 0 auto;flex:1 0 auto;display:grid;grid-template-areas:\"leadingVisual text trailingVisual\";grid-template-columns:min-content minmax(0,auto) min-content;-webkit-align-items:center;-webkit-box-align:center;-ms-flex-align:center;align-items:center;-webkit-align-content:center;-ms-flex-line-pack:center;align-content:center;}/*!sc*/\n",
            ".cOjWAP [data-component=\"buttonContent\"] > :not(:last-child){margin-right:8px;}/*!sc*/\n",
            ".cOjWAP [data-component=\"loadingSpinner\"]{grid-area:text;margin-right:0px !important;place-self:center;}/*!sc*/\n",
            ".cOjWAP [data-component=\"loadingSpinner\"] + [data-component=\"text\"]{visibility:hidden;}/*!sc*/\n",
            ".cOjWAP:hover:not([disabled]){background-color:var(--control-transparent-bgColor-hover,var(--color-action-list-item-default-hover-bg,rgba(208,215,222,0.32)));}/*!sc*/\n",
            ".cOjWAP:active:not([disabled]){background-color:var(--control-transparent-bgColor-active,var(--color-action-list-item-default-active-bg,rgba(208,215,222,0.48)));}/*!sc*/\n",
            ".cOjWAP[aria-expanded=true]{background-color:var(--control-transparent-bgColor-selected,var(--color-action-list-item-default-selected-bg,rgba(208,215,222,0.24)));}/*!sc*/\n",
            ".cOjWAP[data-component=\"IconButton\"][data-no-visuals]{color:var(--fgColor-muted,var(--color-fg-muted,#656d76));}/*!sc*/\n",
            ".cOjWAP[data-no-visuals]{color:var(--button-invisible-fgColor-rest,var(--button-default-fgColor-rest,var(--color-btn-text,#24292f)));}/*!sc*/\n",
            ".cOjWAP:has([data-component=\"ButtonCounter\"]){color:var(--button-invisible-fgColor-rest,var(--button-default-fgColor-rest,var(--color-btn-text,#24292f)));}/*!sc*/\n",
            ".cOjWAP:disabled[data-no-visuals]{color:var(--fgColor-disabled,var(--color-primer-fg-disabled,#8c959f));}/*!sc*/\n",
            ".cOjWAP:disabled[data-no-visuals] [data-component=ButtonCounter]{color:inherit;}/*!sc*/\n",
            ".cOjWAP{color:var(--fgColor-muted,var(--color-fg-muted,#656d76));padding-left:8px;padding-right:8px;display:none;}/*!sc*/\n",
            "@media screen and (max-width:768px){.cOjWAP{display:block;}}/*!sc*/\n",
            ".gdextR{border-radius:6px;border:1px solid;border-color:transparent;font-family:inherit;font-weight:500;font-size:14px;cursor:pointer;-webkit-appearance:none;-moz-appearance:none;appearance:none;-webkit-user-select:none;-moz-user-select:none;-ms-user-select:none;user-select:none;-webkit-text-decoration:none;text-decoration:none;text-align:center;display:-webkit-box;display:-webkit-flex;display:-ms-flexbox;display:flex;-webkit-align-items:center;-webkit-box-align:center;-ms-flex-align:center;align-items:center;-webkit-box-pack:justify;-webkit-justify-content:space-between;-ms-flex-pack:justify;justify-content:space-between;height:32px;padding:0 12px;gap:8px;min-width:-webkit-max-content;min-width:-moz-max-content;min-width:max-content;-webkit-transition:80ms cubic-bezier(0.65,0,0.35,1);transition:80ms cubic-bezier(0.65,0,0.35,1);-webkit-transition-property:color,fill,background-color,border-color;transition-property:color,fill,background-color,border-color;color:var(--button-invisible-fgColor-rest,var(--button-default-fgColor-rest,var(--color-btn-text,#24292f)));background-color:transparent;box-shadow:none;}/*!sc*/\n",
            ".gdextR:focus:not(:disabled){box-shadow:none;outline:2px solid var(--fgColor-accent,var(--color-accent-fg,#0969da));outline-offset:-2px;}/*!sc*/\n",
            ".gdextR:focus:not(:disabled):not(:focus-visible){outline:solid 1px transparent;}/*!sc*/\n",
            ".gdextR:focus-visible:not(:disabled){box-shadow:none;outline:2px solid var(--fgColor-accent,var(--color-accent-fg,#0969da));outline-offset:-2px;}/*!sc*/\n",
            ".gdextR[href]{display:-webkit-inline-box;display:-webkit-inline-flex;display:-ms-inline-flexbox;display:inline-flex;}/*!sc*/\n",
            ".gdextR[href]:hover{-webkit-text-decoration:none;text-decoration:none;}/*!sc*/\n",
            ".gdextR:hover{-webkit-transition-duration:80ms;transition-duration:80ms;}/*!sc*/\n",
            ".gdextR:active{-webkit-transition:none;transition:none;}/*!sc*/\n",
            ".gdextR[data-inactive]{cursor:auto;}/*!sc*/\n",
            ".gdextR:disabled{cursor:not-allowed;box-shadow:none;color:var(--fgColor-disabled,var(--color-primer-fg-disabled,#8c959f));background-color:var(--button-invisible-bgColor-disabled,transparent);}/*!sc*/\n",
            ".gdextR:disabled [data-component=ButtonCounter],.gdextR:disabled [data-component=\"leadingVisual\"],.gdextR:disabled [data-component=\"trailingAction\"]{color:inherit;}/*!sc*/\n",
            "@media (forced-colors:active){.gdextR:focus{outline:solid 1px transparent;}}/*!sc*/\n",
            ".gdextR [data-component=ButtonCounter]{font-size:12px;}/*!sc*/\n",
            ".gdextR[data-component=IconButton]{display:inline-grid;padding:unset;place-content:center;width:32px;min-width:unset;}/*!sc*/\n",
            ".gdextR[data-size=\"small\"]{padding:0 8px;height:28px;gap:4px;font-size:12px;}/*!sc*/\n",
            ".gdextR[data-size=\"small\"] [data-component=\"text\"]{line-height:calc(20 / 12);}/*!sc*/\n",
            ".gdextR[data-size=\"small\"] [data-component=ButtonCounter]{font-size:12px;}/*!sc*/\n",
            ".gdextR[data-size=\"small\"] [data-component=\"buttonContent\"] > :not(:last-child){margin-right:4px;}/*!sc*/\n",
            ".gdextR[data-size=\"small\"][data-component=IconButton]{width:28px;padding:unset;}/*!sc*/\n",
            ".gdextR[data-size=\"large\"]{padding:0 16px;height:40px;gap:8px;}/*!sc*/\n",
            ".gdextR[data-size=\"large\"] [data-component=\"buttonContent\"] > :not(:last-child){margin-right:8px;}/*!sc*/\n",
            ".gdextR[data-size=\"large\"][data-component=IconButton]{width:40px;padding:unset;}/*!sc*/\n",
            ".gdextR[data-block=\"block\"]{width:100%;}/*!sc*/\n",
            ".gdextR[data-label-wrap=\"true\"]{min-width:-webkit-fit-content;min-width:-moz-fit-content;min-width:fit-content;height:unset;min-height:var(--control-medium-size,2rem);}/*!sc*/\n",
            ".gdextR[data-label-wrap=\"true\"] [data-component=\"buttonContent\"]{-webkit-flex:1 1 auto;-ms-flex:1 1 auto;flex:1 1 auto;-webkit-align-self:stretch;-ms-flex-item-align:stretch;align-self:stretch;padding-block:calc(var(--control-medium-paddingBlock,0.375rem) - 2px);}/*!sc*/\n",
            ".gdextR[data-label-wrap=\"true\"] [data-component=\"text\"]{white-space:unset;word-break:break-word;}/*!sc*/\n",
            ".gdextR[data-label-wrap=\"true\"][data-size=\"small\"]{height:unset;min-height:var(--control-small-size,1.75rem);}/*!sc*/\n",
            ".gdextR[data-label-wrap=\"true\"][data-size=\"small\"] [data-component=\"buttonContent\"]{padding-block:calc(var(--control-small-paddingBlock,0.25rem) - 2px);}/*!sc*/\n",
            ".gdextR[data-label-wrap=\"true\"][data-size=\"large\"]{height:unset;min-height:var(--control-large-size,2.5rem);padding-inline:var(--control-large-paddingInline-spacious,1rem);}/*!sc*/\n",
            ".gdextR[data-label-wrap=\"true\"][data-size=\"large\"] [data-component=\"buttonContent\"]{padding-block:calc(var(--control-large-paddingBlock,0.625rem) - 2px);}/*!sc*/\n",
            ".gdextR[data-inactive]:not([disabled]){background-color:var(--button-inactive-bgColor,var(--button-inactive-bgColor-rest,var(--color-btn-inactive-bg,#eaeef2)));border-color:var(--button-inactive-bgColor,var(--button-inactive-bgColor-rest,var(--color-btn-inactive-bg,#eaeef2)));color:var(--button-inactive-fgColor,var(--button-inactive-fgColor-rest,var(--color-btn-inactive-text,#57606a)));}/*!sc*/\n",
            ".gdextR[data-inactive]:not([disabled]):focus-visible{box-shadow:none;}/*!sc*/\n",
            ".gdextR [data-component=\"leadingVisual\"]{grid-area:leadingVisual;color:var(--fgColor-muted,var(--color-fg-muted,#656d76));}/*!sc*/\n",
            ".gdextR [data-component=\"text\"]{grid-area:text;line-height:calc(20/14);white-space:nowrap;}/*!sc*/\n",
            ".gdextR [data-component=\"trailingVisual\"]{grid-area:trailingVisual;}/*!sc*/\n",
            ".gdextR [data-component=\"trailingAction\"]{margin-right:-4px;color:var(--fgColor-muted,var(--color-fg-muted,#656d76));}/*!sc*/\n",
            ".gdextR [data-component=\"buttonContent\"]{-webkit-flex:1 0 auto;-ms-flex:1 0 auto;flex:1 0 auto;display:grid;grid-template-areas:\"leadingVisual text trailingVisual\";grid-template-columns:min-content minmax(0,auto) min-content;-webkit-align-items:center;-webkit-box-align:center;-ms-flex-align:center;align-items:center;-webkit-align-content:center;-ms-flex-line-pack:center;align-content:center;}/*!sc*/\n",
            ".gdextR [data-component=\"buttonContent\"] > :not(:last-child){margin-right:8px;}/*!sc*/\n",
            ".gdextR [data-component=\"loadingSpinner\"]{grid-area:text;margin-right:0px !important;place-self:center;}/*!sc*/\n",
            ".gdextR [data-component=\"loadingSpinner\"] + [data-component=\"text\"]{visibility:hidden;}/*!sc*/\n",
            ".gdextR:hover:not([disabled]){background-color:var(--control-transparent-bgColor-hover,var(--color-action-list-item-default-hover-bg,rgba(208,215,222,0.32)));}/*!sc*/\n",
            ".gdextR:active:not([disabled]){background-color:var(--control-transparent-bgColor-active,var(--color-action-list-item-default-active-bg,rgba(208,215,222,0.48)));}/*!sc*/\n",
            ".gdextR[aria-expanded=true]{background-color:var(--control-transparent-bgColor-selected,var(--color-action-list-item-default-selected-bg,rgba(208,215,222,0.24)));}/*!sc*/\n",
            ".gdextR[data-component=\"IconButton\"][data-no-visuals]{color:var(--fgColor-muted,var(--color-fg-muted,#656d76));}/*!sc*/\n",
            ".gdextR[data-no-visuals]{color:var(--fgColor-muted,var(--color-fg-muted,#656d76));height:32px;position:relative;}/*!sc*/\n",
            "@media screen and (max-width:768px){.gdextR[data-no-visuals]{display:none;}}/*!sc*/\n",
            ".gdextR:has([data-component=\"ButtonCounter\"]){color:var(--button-invisible-fgColor-rest,var(--button-default-fgColor-rest,var(--color-btn-text,#24292f)));}/*!sc*/\n",
            ".gdextR:disabled[data-no-visuals]{color:var(--fgColor-disabled,var(--color-primer-fg-disabled,#8c959f));}/*!sc*/\n",
            ".gdextR:disabled[data-no-visuals] [data-component=ButtonCounter]{color:inherit;}/*!sc*/\n",
            ".epCwAk{border-radius:6px;border:1px solid;border-color:var(--button-default-borderColor-rest,var(--button-default-borderColor-rest,var(--color-btn-border,rgba(31,35,40,0.15))));font-family:inherit;font-weight:500;font-size:14px;cursor:pointer;-webkit-appearance:none;-moz-appearance:none;appearance:none;-webkit-user-select:none;-moz-user-select:none;-ms-user-select:none;user-select:none;-webkit-text-decoration:none;text-decoration:none;text-align:center;display:-webkit-box;display:-webkit-flex;display:-ms-flexbox;display:flex;-webkit-align-items:center;-webkit-box-align:center;-ms-flex-align:center;align-items:center;-webkit-box-pack:justify;-webkit-justify-content:space-between;-ms-flex-pack:justify;justify-content:space-between;height:32px;padding:0 12px;gap:8px;min-width:-webkit-max-content;min-width:-moz-max-content;min-width:max-content;-webkit-transition:80ms cubic-bezier(0.65,0,0.35,1);transition:80ms cubic-bezier(0.65,0,0.35,1);-webkit-transition-property:color,fill,background-color,border-color;transition-property:color,fill,background-color,border-color;color:var(--button-default-fgColor-rest,var(--color-btn-text,#24292f));background-color:var(--button-default-bgColor-rest,var(--color-btn-bg,#f6f8fa));box-shadow:var(--button-default-shadow-resting,var(--color-btn-shadow,0 1px 0 rgba(31,35,40,0.04))),var(--button-default-shadow-inset,var(--color-btn-inset-shadow,inset 0 1px 0 rgba(255,255,255,0.25)));}/*!sc*/\n",
            ".epCwAk:focus:not(:disabled){box-shadow:none;outline:2px solid var(--fgColor-accent,var(--color-accent-fg,#0969da));outline-offset:-2px;}/*!sc*/\n",
            ".epCwAk:focus:not(:disabled):not(:focus-visible){outline:solid 1px transparent;}/*!sc*/\n",
            ".epCwAk:focus-visible:not(:disabled){box-shadow:none;outline:2px solid var(--fgColor-accent,var(--color-accent-fg,#0969da));outline-offset:-2px;}/*!sc*/\n",
            ".epCwAk[href]{display:-webkit-inline-box;display:-webkit-inline-flex;display:-ms-inline-flexbox;display:inline-flex;}/*!sc*/\n",
            ".epCwAk[href]:hover{-webkit-text-decoration:none;text-decoration:none;}/*!sc*/\n",
            ".epCwAk:hover{-webkit-transition-duration:80ms;transition-duration:80ms;}/*!sc*/\n",
            ".epCwAk:active{-webkit-transition:none;transition:none;}/*!sc*/\n",
            ".epCwAk[data-inactive]{cursor:auto;}/*!sc*/\n",
            ".epCwAk:disabled{cursor:not-allowed;box-shadow:none;color:var(--fgColor-disabled,var(--color-primer-fg-disabled,#8c959f));border-color:var(--button-default-borderColor-disabled,var(--button-default-borderColor-rest,var(--color-btn-border,rgba(31,35,40,0.15))));background-color:var(--button-default-bgColor-disabled,var(--control-bgColor-disabled,var(--color-input-disabled-bg,rgba(175,184,193,0.2))));}/*!sc*/\n",
            ".epCwAk:disabled [data-component=ButtonCounter]{color:inherit;}/*!sc*/\n",
            "@media (forced-colors:active){.epCwAk:focus{outline:solid 1px transparent;}}/*!sc*/\n",
            ".epCwAk [data-component=ButtonCounter]{font-size:12px;background-color:var(--buttonCounter-default-bgColor-rest,var(--color-btn-counter-bg,rgba(31,35,40,0.08)));}/*!sc*/\n",
            ".epCwAk[data-component=IconButton]{display:inline-grid;padding:unset;place-content:center;width:32px;min-width:unset;}/*!sc*/\n",
            ".epCwAk[data-size=\"small\"]{padding:0 8px;height:28px;gap:4px;font-size:12px;}/*!sc*/\n",
            ".epCwAk[data-size=\"small\"] [data-component=\"text\"]{line-height:calc(20 / 12);}/*!sc*/\n",
            ".epCwAk[data-size=\"small\"] [data-component=ButtonCounter]{font-size:12px;}/*!sc*/\n",
            ".epCwAk[data-size=\"small\"] [data-component=\"buttonContent\"] > :not(:last-child){margin-right:4px;}/*!sc*/\n",
            ".epCwAk[data-size=\"small\"][data-component=IconButton]{width:28px;padding:unset;}/*!sc*/\n",
            ".epCwAk[data-size=\"large\"]{padding:0 16px;height:40px;gap:8px;}/*!sc*/\n",
            ".epCwAk[data-size=\"large\"] [data-component=\"buttonContent\"] > :not(:last-child){margin-right:8px;}/*!sc*/\n",
            ".epCwAk[data-size=\"large\"][data-component=IconButton]{width:40px;padding:unset;}/*!sc*/\n",
            ".epCwAk[data-block=\"block\"]{width:100%;}/*!sc*/\n",
            ".epCwAk[data-label-wrap=\"true\"]{min-width:-webkit-fit-content;min-width:-moz-fit-content;min-width:fit-content;height:unset;min-height:var(--control-medium-size,2rem);}/*!sc*/\n",
            ".epCwAk[data-label-wrap=\"true\"] [data-component=\"buttonContent\"]{-webkit-flex:1 1 auto;-ms-flex:1 1 auto;flex:1 1 auto;-webkit-align-self:stretch;-ms-flex-item-align:stretch;align-self:stretch;padding-block:calc(var(--control-medium-paddingBlock,0.375rem) - 2px);}/*!sc*/\n",
            ".epCwAk[data-label-wrap=\"true\"] [data-component=\"text\"]{white-space:unset;word-break:break-word;}/*!sc*/\n",
            ".epCwAk[data-label-wrap=\"true\"][data-size=\"small\"]{height:unset;min-height:var(--control-small-size,1.75rem);}/*!sc*/\n",
            ".epCwAk[data-label-wrap=\"true\"][data-size=\"small\"] [data-component=\"buttonContent\"]{padding-block:calc(var(--control-small-paddingBlock,0.25rem) - 2px);}/*!sc*/\n",
            ".epCwAk[data-label-wrap=\"true\"][data-size=\"large\"]{height:unset;min-height:var(--control-large-size,2.5rem);padding-inline:var(--control-large-paddingInline-spacious,1rem);}/*!sc*/\n",
            ".epCwAk[data-label-wrap=\"true\"][data-size=\"large\"] [data-component=\"buttonContent\"]{padding-block:calc(var(--control-large-paddingBlock,0.625rem) - 2px);}/*!sc*/\n",
            ".epCwAk[data-inactive]:not([disabled]){background-color:var(--button-inactive-bgColor,var(--button-inactive-bgColor-rest,var(--color-btn-inactive-bg,#eaeef2)));border-color:var(--button-inactive-bgColor,var(--button-inactive-bgColor-rest,var(--color-btn-inactive-bg,#eaeef2)));color:var(--button-inactive-fgColor,var(--button-inactive-fgColor-rest,var(--color-btn-inactive-text,#57606a)));}/*!sc*/\n",
            ".epCwAk[data-inactive]:not([disabled]):focus-visible{box-shadow:none;}/*!sc*/\n",
            ".epCwAk [data-component=\"leadingVisual\"]{grid-area:leadingVisual;}/*!sc*/\n",
            ".epCwAk [data-component=\"text\"]{grid-area:text;line-height:calc(20/14);white-space:nowrap;}/*!sc*/\n",
            ".epCwAk [data-component=\"trailingVisual\"]{grid-area:trailingVisual;}/*!sc*/\n",
            ".epCwAk [data-component=\"trailingAction\"]{margin-right:-4px;}/*!sc*/\n",
            ".epCwAk [data-component=\"buttonContent\"]{-webkit-flex:1 0 auto;-ms-flex:1 0 auto;flex:1 0 auto;display:grid;grid-template-areas:\"leadingVisual text trailingVisual\";grid-template-columns:min-content minmax(0,auto) min-content;-webkit-align-items:center;-webkit-box-align:center;-ms-flex-align:center;align-items:center;-webkit-align-content:center;-ms-flex-line-pack:center;align-content:center;}/*!sc*/\n",
            ".epCwAk [data-component=\"buttonContent\"] > :not(:last-child){margin-right:8px;}/*!sc*/\n",
            ".epCwAk [data-component=\"loadingSpinner\"]{grid-area:text;margin-right:0px !important;place-self:center;}/*!sc*/\n",
            ".epCwAk [data-component=\"loadingSpinner\"] + [data-component=\"text\"]{visibility:hidden;}/*!sc*/\n",
            ".epCwAk:hover:not([disabled]):not([data-inactive]){background-color:var(--button-default-bgColor-hover,var(--color-btn-hover-bg,#f3f4f6));border-color:var(--button-default-borderColor-hover,var(--button-default-borderColor-hover,var(--color-btn-hover-border,rgba(31,35,40,0.15))));}/*!sc*/\n",
            ".epCwAk:active:not([disabled]):not([data-inactive]){background-color:var(--button-default-bgColor-active,var(--color-btn-active-bg,hsla(220,14%,93%,1)));border-color:var(--button-default-borderColor-active,var(--button-default-borderColor-active,var(--color-btn-active-border,rgba(31,35,40,0.15))));}/*!sc*/\n",
            ".epCwAk[aria-expanded=true]{background-color:var(--button-default-bgColor-active,var(--color-btn-active-bg,hsla(220,14%,93%,1)));border-color:var(--button-default-borderColor-active,var(--button-default-borderColor-active,var(--color-btn-active-border,rgba(31,35,40,0.15))));}/*!sc*/\n",
            ".epCwAk [data-component=\"leadingVisual\"],.epCwAk [data-component=\"trailingVisual\"],.epCwAk [data-component=\"trailingAction\"]{color:var(--button-color,var(--fgColor-muted,var(--color-fg-muted,#656d76)));}/*!sc*/\n",
            ".epCwAk[data-component=\"IconButton\"][data-no-visuals]{color:var(--fgColor-muted,var(--color-fg-muted,#656d76));}/*!sc*/\n",
            ".epCwAk{display:-webkit-box;display:-webkit-flex;display:-ms-flexbox;display:flex;}/*!sc*/\n",
            ".epCwAk svg{color:var(--fgColor-muted,var(--color-fg-muted,#656d76));}/*!sc*/\n",
            ".epCwAk > span{width:inherit;}/*!sc*/\n",
            ".dPtMKR{border-radius:6px;border:1px solid;border-color:transparent;font-family:inherit;font-weight:500;font-size:14px;cursor:pointer;-webkit-appearance:none;-moz-appearance:none;appearance:none;-webkit-user-select:none;-moz-user-select:none;-ms-user-select:none;user-select:none;-webkit-text-decoration:none;text-decoration:none;text-align:center;display:-webkit-box;display:-webkit-flex;display:-ms-flexbox;display:flex;-webkit-align-items:center;-webkit-box-align:center;-ms-flex-align:center;align-items:center;-webkit-box-pack:justify;-webkit-justify-content:space-between;-ms-flex-pack:justify;justify-content:space-between;height:32px;padding:0 12px;gap:8px;min-width:-webkit-max-content;min-width:-moz-max-content;min-width:max-content;-webkit-transition:80ms cubic-bezier(0.65,0,0.35,1);transition:80ms cubic-bezier(0.65,0,0.35,1);-webkit-transition-property:color,fill,background-color,border-color;transition-property:color,fill,background-color,border-color;color:var(--button-invisible-fgColor-rest,var(--button-default-fgColor-rest,var(--color-btn-text,#24292f)));background-color:transparent;box-shadow:none;}/*!sc*/\n",
            ".dPtMKR:focus:not(:disabled){box-shadow:none;outline:2px solid var(--fgColor-accent,var(--color-accent-fg,#0969da));outline-offset:-2px;}/*!sc*/\n",
            ".dPtMKR:focus:not(:disabled):not(:focus-visible){outline:solid 1px transparent;}/*!sc*/\n",
            ".dPtMKR:focus-visible:not(:disabled){box-shadow:none;outline:2px solid var(--fgColor-accent,var(--color-accent-fg,#0969da));outline-offset:-2px;}/*!sc*/\n",
            ".dPtMKR[href]{display:-webkit-inline-box;display:-webkit-inline-flex;display:-ms-inline-flexbox;display:inline-flex;}/*!sc*/\n",
            ".dPtMKR[href]:hover{-webkit-text-decoration:none;text-decoration:none;}/*!sc*/\n",
            ".dPtMKR:hover{-webkit-transition-duration:80ms;transition-duration:80ms;}/*!sc*/\n",
            ".dPtMKR:active{-webkit-transition:none;transition:none;}/*!sc*/\n",
            ".dPtMKR[data-inactive]{cursor:auto;}/*!sc*/\n",
            ".dPtMKR:disabled{cursor:not-allowed;box-shadow:none;color:var(--fgColor-disabled,var(--color-primer-fg-disabled,#8c959f));background-color:var(--button-invisible-bgColor-disabled,transparent);}/*!sc*/\n",
            ".dPtMKR:disabled [data-component=ButtonCounter],.dPtMKR:disabled [data-component=\"leadingVisual\"],.dPtMKR:disabled [data-component=\"trailingAction\"]{color:inherit;}/*!sc*/\n",
            "@media (forced-colors:active){.dPtMKR:focus{outline:solid 1px transparent;}}/*!sc*/\n",
            ".dPtMKR [data-component=ButtonCounter]{font-size:12px;}/*!sc*/\n",
            ".dPtMKR[data-component=IconButton]{display:inline-grid;padding:unset;place-content:center;width:32px;min-width:unset;}/*!sc*/\n",
            ".dPtMKR[data-size=\"small\"]{padding:0 8px;height:28px;gap:4px;font-size:12px;}/*!sc*/\n",
            ".dPtMKR[data-size=\"small\"] [data-component=\"text\"]{line-height:calc(20 / 12);}/*!sc*/\n",
            ".dPtMKR[data-size=\"small\"] [data-component=ButtonCounter]{font-size:12px;}/*!sc*/\n",
            ".dPtMKR[data-size=\"small\"] [data-component=\"buttonContent\"] > :not(:last-child){margin-right:4px;}/*!sc*/\n",
            ".dPtMKR[data-size=\"small\"][data-component=IconButton]{width:28px;padding:unset;}/*!sc*/\n",
            ".dPtMKR[data-size=\"large\"]{padding:0 16px;height:40px;gap:8px;}/*!sc*/\n",
            ".dPtMKR[data-size=\"large\"] [data-component=\"buttonContent\"] > :not(:last-child){margin-right:8px;}/*!sc*/\n",
            ".dPtMKR[data-size=\"large\"][data-component=IconButton]{width:40px;padding:unset;}/*!sc*/\n",
            ".dPtMKR[data-block=\"block\"]{width:100%;}/*!sc*/\n",
            ".dPtMKR[data-label-wrap=\"true\"]{min-width:-webkit-fit-content;min-width:-moz-fit-content;min-width:fit-content;height:unset;min-height:var(--control-medium-size,2rem);}/*!sc*/\n",
            ".dPtMKR[data-label-wrap=\"true\"] [data-component=\"buttonContent\"]{-webkit-flex:1 1 auto;-ms-flex:1 1 auto;flex:1 1 auto;-webkit-align-self:stretch;-ms-flex-item-align:stretch;align-self:stretch;padding-block:calc(var(--control-medium-paddingBlock,0.375rem) - 2px);}/*!sc*/\n",
            ".dPtMKR[data-label-wrap=\"true\"] [data-component=\"text\"]{white-space:unset;word-break:break-word;}/*!sc*/\n",
            ".dPtMKR[data-label-wrap=\"true\"][data-size=\"small\"]{height:unset;min-height:var(--control-small-size,1.75rem);}/*!sc*/\n",
            ".dPtMKR[data-label-wrap=\"true\"][data-size=\"small\"] [data-component=\"buttonContent\"]{padding-block:calc(var(--control-small-paddingBlock,0.25rem) - 2px);}/*!sc*/\n",
            ".dPtMKR[data-label-wrap=\"true\"][data-size=\"large\"]{height:unset;min-height:var(--control-large-size,2.5rem);padding-inline:var(--control-large-paddingInline-spacious,1rem);}/*!sc*/\n",
            ".dPtMKR[data-label-wrap=\"true\"][data-size=\"large\"] [data-component=\"buttonContent\"]{padding-block:calc(var(--control-large-paddingBlock,0.625rem) - 2px);}/*!sc*/\n",
            ".dPtMKR[data-inactive]:not([disabled]){background-color:var(--button-inactive-bgColor,var(--button-inactive-bgColor-rest,var(--color-btn-inactive-bg,#eaeef2)));border-color:var(--button-inactive-bgColor,var(--button-inactive-bgColor-rest,var(--color-btn-inactive-bg,#eaeef2)));color:var(--button-inactive-fgColor,var(--button-inactive-fgColor-rest,var(--color-btn-inactive-text,#57606a)));}/*!sc*/\n",
            ".dPtMKR[data-inactive]:not([disabled]):focus-visible{box-shadow:none;}/*!sc*/\n",
            ".dPtMKR [data-component=\"leadingVisual\"]{grid-area:leadingVisual;color:var(--fgColor-muted,var(--color-fg-muted,#656d76));}/*!sc*/\n",
            ".dPtMKR [data-component=\"text\"]{grid-area:text;line-height:calc(20/14);white-space:nowrap;}/*!sc*/\n",
            ".dPtMKR [data-component=\"trailingVisual\"]{grid-area:trailingVisual;}/*!sc*/\n",
            ".dPtMKR [data-component=\"trailingAction\"]{margin-right:-4px;color:var(--fgColor-muted,var(--color-fg-muted,#656d76));}/*!sc*/\n",
            ".dPtMKR [data-component=\"buttonContent\"]{-webkit-flex:1 0 auto;-ms-flex:1 0 auto;flex:1 0 auto;display:grid;grid-template-areas:\"leadingVisual text trailingVisual\";grid-template-columns:min-content minmax(0,auto) min-content;-webkit-align-items:center;-webkit-box-align:center;-ms-flex-align:center;align-items:center;-webkit-align-content:center;-ms-flex-line-pack:center;align-content:center;}/*!sc*/\n",
            ".dPtMKR [data-component=\"buttonContent\"] > :not(:last-child){margin-right:8px;}/*!sc*/\n",
            ".dPtMKR [data-component=\"loadingSpinner\"]{grid-area:text;margin-right:0px !important;place-self:center;}/*!sc*/\n",
            ".dPtMKR [data-component=\"loadingSpinner\"] + [data-component=\"text\"]{visibility:hidden;}/*!sc*/\n",
            ".dPtMKR:hover:not([disabled]){background-color:var(--control-transparent-bgColor-hover,var(--color-action-list-item-default-hover-bg,rgba(208,215,222,0.32)));}/*!sc*/\n",
            ".dPtMKR:active:not([disabled]){background-color:var(--control-transparent-bgColor-active,var(--color-action-list-item-default-active-bg,rgba(208,215,222,0.48)));}/*!sc*/\n",
            ".dPtMKR[aria-expanded=true]{background-color:var(--control-transparent-bgColor-selected,var(--color-action-list-item-default-selected-bg,rgba(208,215,222,0.24)));}/*!sc*/\n",
            ".dPtMKR[data-component=\"IconButton\"][data-no-visuals]{color:var(--fgColor-muted,var(--color-fg-muted,#656d76));}/*!sc*/\n",
            ".dPtMKR[data-no-visuals]{color:var(--button-invisible-fgColor-rest,var(--button-default-fgColor-rest,var(--color-btn-text,#24292f)));}/*!sc*/\n",
            ".dPtMKR:has([data-component=\"ButtonCounter\"]){color:var(--button-invisible-fgColor-rest,var(--button-default-fgColor-rest,var(--color-btn-text,#24292f)));}/*!sc*/\n",
            ".dPtMKR:disabled[data-no-visuals]{color:var(--fgColor-disabled,var(--color-primer-fg-disabled,#8c959f));}/*!sc*/\n",
            ".dPtMKR:disabled[data-no-visuals] [data-component=ButtonCounter]{color:inherit;}/*!sc*/\n",
            ".ROdPh{border-radius:6px;border:1px solid;border-color:var(--button-default-borderColor-rest,var(--button-default-borderColor-rest,var(--color-btn-border,rgba(31,35,40,0.15))));font-family:inherit;font-weight:500;font-size:14px;cursor:pointer;-webkit-appearance:none;-moz-appearance:none;appearance:none;-webkit-user-select:none;-moz-user-select:none;-ms-user-select:none;user-select:none;-webkit-text-decoration:none;text-decoration:none;text-align:center;display:-webkit-box;display:-webkit-flex;display:-ms-flexbox;display:flex;-webkit-align-items:center;-webkit-box-align:center;-ms-flex-align:center;align-items:center;-webkit-box-pack:justify;-webkit-justify-content:space-between;-ms-flex-pack:justify;justify-content:space-between;height:32px;padding:0 12px;gap:8px;min-width:-webkit-max-content;min-width:-moz-max-content;min-width:max-content;-webkit-transition:80ms cubic-bezier(0.65,0,0.35,1);transition:80ms cubic-bezier(0.65,0,0.35,1);-webkit-transition-property:color,fill,background-color,border-color;transition-property:color,fill,background-color,border-color;color:var(--button-default-fgColor-rest,var(--color-btn-text,#24292f));background-color:var(--button-default-bgColor-rest,var(--color-btn-bg,#f6f8fa));box-shadow:var(--button-default-shadow-resting,var(--color-btn-shadow,0 1px 0 rgba(31,35,40,0.04))),var(--button-default-shadow-inset,var(--color-btn-inset-shadow,inset 0 1px 0 rgba(255,255,255,0.25)));}/*!sc*/\n",
            ".ROdPh:focus:not(:disabled){box-shadow:none;outline:2px solid var(--fgColor-accent,var(--color-accent-fg,#0969da));outline-offset:-2px;}/*!sc*/\n",
            ".ROdPh:focus:not(:disabled):not(:focus-visible){outline:solid 1px transparent;}/*!sc*/\n",
            ".ROdPh:focus-visible:not(:disabled){box-shadow:none;outline:2px solid var(--fgColor-accent,var(--color-accent-fg,#0969da));outline-offset:-2px;}/*!sc*/\n",
            ".ROdPh[href]{display:-webkit-inline-box;display:-webkit-inline-flex;display:-ms-inline-flexbox;display:inline-flex;}/*!sc*/\n",
            ".ROdPh[href]:hover{-webkit-text-decoration:none;text-decoration:none;}/*!sc*/\n",
            ".ROdPh:hover{-webkit-transition-duration:80ms;transition-duration:80ms;}/*!sc*/\n",
            ".ROdPh:active{-webkit-transition:none;transition:none;}/*!sc*/\n",
            ".ROdPh[data-inactive]{cursor:auto;}/*!sc*/\n",
            ".ROdPh:disabled{cursor:not-allowed;box-shadow:none;color:var(--fgColor-disabled,var(--color-primer-fg-disabled,#8c959f));border-color:var(--button-default-borderColor-disabled,var(--button-default-borderColor-rest,var(--color-btn-border,rgba(31,35,40,0.15))));background-color:var(--button-default-bgColor-disabled,var(--control-bgColor-disabled,var(--color-input-disabled-bg,rgba(175,184,193,0.2))));}/*!sc*/\n",
            ".ROdPh:disabled [data-component=ButtonCounter]{color:inherit;}/*!sc*/\n",
            "@media (forced-colors:active){.ROdPh:focus{outline:solid 1px transparent;}}/*!sc*/\n",
            ".ROdPh [data-component=ButtonCounter]{font-size:12px;background-color:var(--buttonCounter-default-bgColor-rest,var(--color-btn-counter-bg,rgba(31,35,40,0.08)));}/*!sc*/\n",
            ".ROdPh[data-component=IconButton]{display:inline-grid;padding:unset;place-content:center;width:32px;min-width:unset;}/*!sc*/\n",
            ".ROdPh[data-size=\"small\"]{padding:0 8px;height:28px;gap:4px;font-size:12px;}/*!sc*/\n",
            ".ROdPh[data-size=\"small\"] [data-component=\"text\"]{line-height:calc(20 / 12);}/*!sc*/\n",
            ".ROdPh[data-size=\"small\"] [data-component=ButtonCounter]{font-size:12px;}/*!sc*/\n",
            ".ROdPh[data-size=\"small\"] [data-component=\"buttonContent\"] > :not(:last-child){margin-right:4px;}/*!sc*/\n",
            ".ROdPh[data-size=\"small\"][data-component=IconButton]{width:28px;padding:unset;}/*!sc*/\n",
            ".ROdPh[data-size=\"large\"]{padding:0 16px;height:40px;gap:8px;}/*!sc*/\n",
            ".ROdPh[data-size=\"large\"] [data-component=\"buttonContent\"] > :not(:last-child){margin-right:8px;}/*!sc*/\n",
            ".ROdPh[data-size=\"large\"][data-component=IconButton]{width:40px;padding:unset;}/*!sc*/\n",
            ".ROdPh[data-block=\"block\"]{width:100%;}/*!sc*/\n",
            ".ROdPh[data-label-wrap=\"true\"]{min-width:-webkit-fit-content;min-width:-moz-fit-content;min-width:fit-content;height:unset;min-height:var(--control-medium-size,2rem);}/*!sc*/\n",
            ".ROdPh[data-label-wrap=\"true\"] [data-component=\"buttonContent\"]{-webkit-flex:1 1 auto;-ms-flex:1 1 auto;flex:1 1 auto;-webkit-align-self:stretch;-ms-flex-item-align:stretch;align-self:stretch;padding-block:calc(var(--control-medium-paddingBlock,0.375rem) - 2px);}/*!sc*/\n",
            ".ROdPh[data-label-wrap=\"true\"] [data-component=\"text\"]{white-space:unset;word-break:break-word;}/*!sc*/\n",
            ".ROdPh[data-label-wrap=\"true\"][data-size=\"small\"]{height:unset;min-height:var(--control-small-size,1.75rem);}/*!sc*/\n",
            ".ROdPh[data-label-wrap=\"true\"][data-size=\"small\"] [data-component=\"buttonContent\"]{padding-block:calc(var(--control-small-paddingBlock,0.25rem) - 2px);}/*!sc*/\n",
            ".ROdPh[data-label-wrap=\"true\"][data-size=\"large\"]{height:unset;min-height:var(--control-large-size,2.5rem);padding-inline:var(--control-large-paddingInline-spacious,1rem);}/*!sc*/\n",
            ".ROdPh[data-label-wrap=\"true\"][data-size=\"large\"] [data-component=\"buttonContent\"]{padding-block:calc(var(--control-large-paddingBlock,0.625rem) - 2px);}/*!sc*/\n",
            ".ROdPh[data-inactive]:not([disabled]){background-color:var(--button-inactive-bgColor,var(--button-inactive-bgColor-rest,var(--color-btn-inactive-bg,#eaeef2)));border-color:var(--button-inactive-bgColor,var(--button-inactive-bgColor-rest,var(--color-btn-inactive-bg,#eaeef2)));color:var(--button-inactive-fgColor,var(--button-inactive-fgColor-rest,var(--color-btn-inactive-text,#57606a)));}/*!sc*/\n",
            ".ROdPh[data-inactive]:not([disabled]):focus-visible{box-shadow:none;}/*!sc*/\n",
            ".ROdPh [data-component=\"leadingVisual\"]{grid-area:leadingVisual;}/*!sc*/\n",
            ".ROdPh [data-component=\"text\"]{grid-area:text;line-height:calc(20/14);white-space:nowrap;}/*!sc*/\n",
            ".ROdPh [data-component=\"trailingVisual\"]{grid-area:trailingVisual;}/*!sc*/\n",
            ".ROdPh [data-component=\"trailingAction\"]{margin-right:-4px;}/*!sc*/\n",
            ".ROdPh [data-component=\"buttonContent\"]{-webkit-flex:1 0 auto;-ms-flex:1 0 auto;flex:1 0 auto;display:grid;grid-template-areas:\"leadingVisual text trailingVisual\";grid-template-columns:min-content minmax(0,auto) min-content;-webkit-align-items:center;-webkit-box-align:center;-ms-flex-align:center;align-items:center;-webkit-align-content:center;-ms-flex-line-pack:center;align-content:center;}/*!sc*/\n",
            ".ROdPh [data-component=\"buttonContent\"] > :not(:last-child){margin-right:8px;}/*!sc*/\n",
            ".ROdPh [data-component=\"loadingSpinner\"]{grid-area:text;margin-right:0px !important;place-self:center;}/*!sc*/\n",
            ".ROdPh [data-component=\"loadingSpinner\"] + [data-component=\"text\"]{visibility:hidden;}/*!sc*/\n",
            ".ROdPh:hover:not([disabled]):not([data-inactive]){background-color:var(--button-default-bgColor-hover,var(--color-btn-hover-bg,#f3f4f6));border-color:var(--button-default-borderColor-hover,var(--button-default-borderColor-hover,var(--color-btn-hover-border,rgba(31,35,40,0.15))));}/*!sc*/\n",
            ".ROdPh:active:not([disabled]):not([data-inactive]){background-color:var(--button-default-bgColor-active,var(--color-btn-active-bg,hsla(220,14%,93%,1)));border-color:var(--button-default-borderColor-active,var(--button-default-borderColor-active,var(--color-btn-active-border,rgba(31,35,40,0.15))));}/*!sc*/\n",
            ".ROdPh[aria-expanded=true]{background-color:var(--button-default-bgColor-active,var(--color-btn-active-bg,hsla(220,14%,93%,1)));border-color:var(--button-default-borderColor-active,var(--button-default-borderColor-active,var(--color-btn-active-border,rgba(31,35,40,0.15))));}/*!sc*/\n",
            ".ROdPh [data-component=\"leadingVisual\"],.ROdPh [data-component=\"trailingVisual\"],.ROdPh [data-component=\"trailingAction\"]{color:var(--button-color,var(--fgColor-muted,var(--color-fg-muted,#656d76)));}/*!sc*/\n",
            ".ROdPh[data-component=\"IconButton\"][data-no-visuals]{color:var(--fgColor-muted,var(--color-fg-muted,#656d76));}/*!sc*/\n",
            ".ROdPh[data-no-visuals]{border-top-left-radius:0;border-bottom-left-radius:0;display:none;}/*!sc*/\n",
            ".jUZcJa{border-radius:6px;border:1px solid;border-color:var(--button-default-borderColor-rest,var(--button-default-borderColor-rest,var(--color-btn-border,rgba(31,35,40,0.15))));font-family:inherit;font-weight:500;font-size:14px;cursor:pointer;-webkit-appearance:none;-moz-appearance:none;appearance:none;-webkit-user-select:none;-moz-user-select:none;-ms-user-select:none;user-select:none;-webkit-text-decoration:none;text-decoration:none;text-align:center;display:-webkit-box;display:-webkit-flex;display:-ms-flexbox;display:flex;-webkit-align-items:center;-webkit-box-align:center;-ms-flex-align:center;align-items:center;-webkit-box-pack:justify;-webkit-justify-content:space-between;-ms-flex-pack:justify;justify-content:space-between;height:32px;padding:0 12px;gap:8px;min-width:-webkit-max-content;min-width:-moz-max-content;min-width:max-content;-webkit-transition:80ms cubic-bezier(0.65,0,0.35,1);transition:80ms cubic-bezier(0.65,0,0.35,1);-webkit-transition-property:color,fill,background-color,border-color;transition-property:color,fill,background-color,border-color;color:var(--button-default-fgColor-rest,var(--color-btn-text,#24292f));background-color:var(--button-default-bgColor-rest,var(--color-btn-bg,#f6f8fa));box-shadow:var(--button-default-shadow-resting,var(--color-btn-shadow,0 1px 0 rgba(31,35,40,0.04))),var(--button-default-shadow-inset,var(--color-btn-inset-shadow,inset 0 1px 0 rgba(255,255,255,0.25)));}/*!sc*/\n",
            ".jUZcJa:focus:not(:disabled){box-shadow:none;outline:2px solid var(--fgColor-accent,var(--color-accent-fg,#0969da));outline-offset:-2px;}/*!sc*/\n",
            ".jUZcJa:focus:not(:disabled):not(:focus-visible){outline:solid 1px transparent;}/*!sc*/\n",
            ".jUZcJa:focus-visible:not(:disabled){box-shadow:none;outline:2px solid var(--fgColor-accent,var(--color-accent-fg,#0969da));outline-offset:-2px;}/*!sc*/\n",
            ".jUZcJa[href]{display:-webkit-inline-box;display:-webkit-inline-flex;display:-ms-inline-flexbox;display:inline-flex;}/*!sc*/\n",
            ".jUZcJa[href]:hover{-webkit-text-decoration:none;text-decoration:none;}/*!sc*/\n",
            ".jUZcJa:hover{-webkit-transition-duration:80ms;transition-duration:80ms;}/*!sc*/\n",
            ".jUZcJa:active{-webkit-transition:none;transition:none;}/*!sc*/\n",
            ".jUZcJa[data-inactive]{cursor:auto;}/*!sc*/\n",
            ".jUZcJa:disabled{cursor:not-allowed;box-shadow:none;color:var(--fgColor-disabled,var(--color-primer-fg-disabled,#8c959f));border-color:var(--button-default-borderColor-disabled,var(--button-default-borderColor-rest,var(--color-btn-border,rgba(31,35,40,0.15))));background-color:var(--button-default-bgColor-disabled,var(--control-bgColor-disabled,var(--color-input-disabled-bg,rgba(175,184,193,0.2))));}/*!sc*/\n",
            ".jUZcJa:disabled [data-component=ButtonCounter]{color:inherit;}/*!sc*/\n",
            "@media (forced-colors:active){.jUZcJa:focus{outline:solid 1px transparent;}}/*!sc*/\n",
            ".jUZcJa [data-component=ButtonCounter]{font-size:12px;background-color:var(--buttonCounter-default-bgColor-rest,var(--color-btn-counter-bg,rgba(31,35,40,0.08)));}/*!sc*/\n",
            ".jUZcJa[data-component=IconButton]{display:inline-grid;padding:unset;place-content:center;width:32px;min-width:unset;}/*!sc*/\n",
            ".jUZcJa[data-size=\"small\"]{padding:0 8px;height:28px;gap:4px;font-size:12px;}/*!sc*/\n",
            ".jUZcJa[data-size=\"small\"] [data-component=\"text\"]{line-height:calc(20 / 12);}/*!sc*/\n",
            ".jUZcJa[data-size=\"small\"] [data-component=ButtonCounter]{font-size:12px;}/*!sc*/\n",
            ".jUZcJa[data-size=\"small\"] [data-component=\"buttonContent\"] > :not(:last-child){margin-right:4px;}/*!sc*/\n",
            ".jUZcJa[data-size=\"small\"][data-component=IconButton]{width:28px;padding:unset;}/*!sc*/\n",
            ".jUZcJa[data-size=\"large\"]{padding:0 16px;height:40px;gap:8px;}/*!sc*/\n",
            ".jUZcJa[data-size=\"large\"] [data-component=\"buttonContent\"] > :not(:last-child){margin-right:8px;}/*!sc*/\n",
            ".jUZcJa[data-size=\"large\"][data-component=IconButton]{width:40px;padding:unset;}/*!sc*/\n",
            ".jUZcJa[data-block=\"block\"]{width:100%;}/*!sc*/\n",
            ".jUZcJa[data-label-wrap=\"true\"]{min-width:-webkit-fit-content;min-width:-moz-fit-content;min-width:fit-content;height:unset;min-height:var(--control-medium-size,2rem);}/*!sc*/\n",
            ".jUZcJa[data-label-wrap=\"true\"] [data-component=\"buttonContent\"]{-webkit-flex:1 1 auto;-ms-flex:1 1 auto;flex:1 1 auto;-webkit-align-self:stretch;-ms-flex-item-align:stretch;align-self:stretch;padding-block:calc(var(--control-medium-paddingBlock,0.375rem) - 2px);}/*!sc*/\n",
            ".jUZcJa[data-label-wrap=\"true\"] [data-component=\"text\"]{white-space:unset;word-break:break-word;}/*!sc*/\n",
            ".jUZcJa[data-label-wrap=\"true\"][data-size=\"small\"]{height:unset;min-height:var(--control-small-size,1.75rem);}/*!sc*/\n",
            ".jUZcJa[data-label-wrap=\"true\"][data-size=\"small\"] [data-component=\"buttonContent\"]{padding-block:calc(var(--control-small-paddingBlock,0.25rem) - 2px);}/*!sc*/\n",
            ".jUZcJa[data-label-wrap=\"true\"][data-size=\"large\"]{height:unset;min-height:var(--control-large-size,2.5rem);padding-inline:var(--control-large-paddingInline-spacious,1rem);}/*!sc*/\n",
            ".jUZcJa[data-label-wrap=\"true\"][data-size=\"large\"] [data-component=\"buttonContent\"]{padding-block:calc(var(--control-large-paddingBlock,0.625rem) - 2px);}/*!sc*/\n",
            ".jUZcJa[data-inactive]:not([disabled]){background-color:var(--button-inactive-bgColor,var(--button-inactive-bgColor-rest,var(--color-btn-inactive-bg,#eaeef2)));border-color:var(--button-inactive-bgColor,var(--button-inactive-bgColor-rest,var(--color-btn-inactive-bg,#eaeef2)));color:var(--button-inactive-fgColor,var(--button-inactive-fgColor-rest,var(--color-btn-inactive-text,#57606a)));}/*!sc*/\n",
            ".jUZcJa[data-inactive]:not([disabled]):focus-visible{box-shadow:none;}/*!sc*/\n",
            ".jUZcJa [data-component=\"leadingVisual\"]{grid-area:leadingVisual;}/*!sc*/\n",
            ".jUZcJa [data-component=\"text\"]{grid-area:text;line-height:calc(20/14);white-space:nowrap;}/*!sc*/\n",
            ".jUZcJa [data-component=\"trailingVisual\"]{grid-area:trailingVisual;}/*!sc*/\n",
            ".jUZcJa [data-component=\"trailingAction\"]{margin-right:-4px;}/*!sc*/\n",
            ".jUZcJa [data-component=\"buttonContent\"]{-webkit-flex:1 0 auto;-ms-flex:1 0 auto;flex:1 0 auto;display:grid;grid-template-areas:\"leadingVisual text trailingVisual\";grid-template-columns:min-content minmax(0,auto) min-content;-webkit-align-items:center;-webkit-box-align:center;-ms-flex-align:center;align-items:center;-webkit-align-content:center;-ms-flex-line-pack:center;align-content:center;}/*!sc*/\n",
            ".jUZcJa [data-component=\"buttonContent\"] > :not(:last-child){margin-right:8px;}/*!sc*/\n",
            ".jUZcJa [data-component=\"loadingSpinner\"]{grid-area:text;margin-right:0px !important;place-self:center;}/*!sc*/\n",
            ".jUZcJa [data-component=\"loadingSpinner\"] + [data-component=\"text\"]{visibility:hidden;}/*!sc*/\n",
            ".jUZcJa:hover:not([disabled]):not([data-inactive]){background-color:var(--button-default-bgColor-hover,var(--color-btn-hover-bg,#f3f4f6));border-color:var(--button-default-borderColor-hover,var(--button-default-borderColor-hover,var(--color-btn-hover-border,rgba(31,35,40,0.15))));}/*!sc*/\n",
            ".jUZcJa:active:not([disabled]):not([data-inactive]){background-color:var(--button-default-bgColor-active,var(--color-btn-active-bg,hsla(220,14%,93%,1)));border-color:var(--button-default-borderColor-active,var(--button-default-borderColor-active,var(--color-btn-active-border,rgba(31,35,40,0.15))));}/*!sc*/\n",
            ".jUZcJa[aria-expanded=true]{background-color:var(--button-default-bgColor-active,var(--color-btn-active-bg,hsla(220,14%,93%,1)));border-color:var(--button-default-borderColor-active,var(--button-default-borderColor-active,var(--color-btn-active-border,rgba(31,35,40,0.15))));}/*!sc*/\n",
            ".jUZcJa [data-component=\"leadingVisual\"],.jUZcJa [data-component=\"trailingVisual\"],.jUZcJa [data-component=\"trailingAction\"]{color:var(--button-color,var(--fgColor-muted,var(--color-fg-muted,#656d76)));}/*!sc*/\n",
            ".jUZcJa[data-component=\"IconButton\"][data-no-visuals]{color:var(--fgColor-muted,var(--color-fg-muted,#656d76));}/*!sc*/\n",
            ".jUZcJa[data-no-visuals]{color:var(--fgColor-muted,var(--color-fg-muted,#656d76));}/*!sc*/\n",
            ".eZYoam{border-radius:6px;border:1px solid;border-color:transparent;font-family:inherit;font-weight:500;font-size:14px;cursor:pointer;-webkit-appearance:none;-moz-appearance:none;appearance:none;-webkit-user-select:none;-moz-user-select:none;-ms-user-select:none;user-select:none;-webkit-text-decoration:none;text-decoration:none;text-align:center;display:-webkit-box;display:-webkit-flex;display:-ms-flexbox;display:flex;-webkit-align-items:center;-webkit-box-align:center;-ms-flex-align:center;align-items:center;-webkit-box-pack:justify;-webkit-justify-content:space-between;-ms-flex-pack:justify;justify-content:space-between;height:32px;padding:0 12px;gap:8px;min-width:-webkit-max-content;min-width:-moz-max-content;min-width:max-content;-webkit-transition:80ms cubic-bezier(0.65,0,0.35,1);transition:80ms cubic-bezier(0.65,0,0.35,1);-webkit-transition-property:color,fill,background-color,border-color;transition-property:color,fill,background-color,border-color;color:var(--button-invisible-fgColor-rest,var(--button-default-fgColor-rest,var(--color-btn-text,#24292f)));background-color:transparent;box-shadow:none;}/*!sc*/\n",
            ".eZYoam:focus:not(:disabled){box-shadow:none;outline:2px solid var(--fgColor-accent,var(--color-accent-fg,#0969da));outline-offset:-2px;}/*!sc*/\n",
            ".eZYoam:focus:not(:disabled):not(:focus-visible){outline:solid 1px transparent;}/*!sc*/\n",
            ".eZYoam:focus-visible:not(:disabled){box-shadow:none;outline:2px solid var(--fgColor-accent,var(--color-accent-fg,#0969da));outline-offset:-2px;}/*!sc*/\n",
            ".eZYoam[href]{display:-webkit-inline-box;display:-webkit-inline-flex;display:-ms-inline-flexbox;display:inline-flex;}/*!sc*/\n",
            ".eZYoam[href]:hover{-webkit-text-decoration:none;text-decoration:none;}/*!sc*/\n",
            ".eZYoam:hover{-webkit-transition-duration:80ms;transition-duration:80ms;}/*!sc*/\n",
            ".eZYoam:active{-webkit-transition:none;transition:none;}/*!sc*/\n",
            ".eZYoam[data-inactive]{cursor:auto;}/*!sc*/\n",
            ".eZYoam:disabled{cursor:not-allowed;box-shadow:none;color:var(--fgColor-disabled,var(--color-primer-fg-disabled,#8c959f));background-color:var(--button-invisible-bgColor-disabled,transparent);}/*!sc*/\n",
            ".eZYoam:disabled [data-component=ButtonCounter],.eZYoam:disabled [data-component=\"leadingVisual\"],.eZYoam:disabled [data-component=\"trailingAction\"]{color:inherit;}/*!sc*/\n",
            "@media (forced-colors:active){.eZYoam:focus{outline:solid 1px transparent;}}/*!sc*/\n",
            ".eZYoam [data-component=ButtonCounter]{font-size:12px;}/*!sc*/\n",
            ".eZYoam[data-component=IconButton]{display:inline-grid;padding:unset;place-content:center;width:32px;min-width:unset;}/*!sc*/\n",
            ".eZYoam[data-size=\"small\"]{padding:0 8px;height:28px;gap:4px;font-size:12px;color:var(--fgColor-default,var(--color-fg-default,#1F2328));margin-left:8px;}/*!sc*/\n",
            ".eZYoam[data-size=\"small\"] [data-component=\"text\"]{line-height:calc(20 / 12);}/*!sc*/\n",
            ".eZYoam[data-size=\"small\"] [data-component=ButtonCounter]{font-size:12px;}/*!sc*/\n",
            ".eZYoam[data-size=\"small\"] [data-component=\"buttonContent\"] > :not(:last-child){margin-right:4px;}/*!sc*/\n",
            ".eZYoam[data-size=\"small\"][data-component=IconButton]{width:28px;padding:unset;}/*!sc*/\n",
            ".eZYoam[data-size=\"large\"]{padding:0 16px;height:40px;gap:8px;}/*!sc*/\n",
            ".eZYoam[data-size=\"large\"] [data-component=\"buttonContent\"] > :not(:last-child){margin-right:8px;}/*!sc*/\n",
            ".eZYoam[data-size=\"large\"][data-component=IconButton]{width:40px;padding:unset;}/*!sc*/\n",
            ".eZYoam[data-block=\"block\"]{width:100%;}/*!sc*/\n",
            ".eZYoam[data-label-wrap=\"true\"]{min-width:-webkit-fit-content;min-width:-moz-fit-content;min-width:fit-content;height:unset;min-height:var(--control-medium-size,2rem);}/*!sc*/\n",
            ".eZYoam[data-label-wrap=\"true\"] [data-component=\"buttonContent\"]{-webkit-flex:1 1 auto;-ms-flex:1 1 auto;flex:1 1 auto;-webkit-align-self:stretch;-ms-flex-item-align:stretch;align-self:stretch;padding-block:calc(var(--control-medium-paddingBlock,0.375rem) - 2px);}/*!sc*/\n",
            ".eZYoam[data-label-wrap=\"true\"] [data-component=\"text\"]{white-space:unset;word-break:break-word;}/*!sc*/\n",
            ".eZYoam[data-label-wrap=\"true\"][data-size=\"small\"]{height:unset;min-height:var(--control-small-size,1.75rem);}/*!sc*/\n",
            ".eZYoam[data-label-wrap=\"true\"][data-size=\"small\"] [data-component=\"buttonContent\"]{padding-block:calc(var(--control-small-paddingBlock,0.25rem) - 2px);}/*!sc*/\n",
            ".eZYoam[data-label-wrap=\"true\"][data-size=\"large\"]{height:unset;min-height:var(--control-large-size,2.5rem);padding-inline:var(--control-large-paddingInline-spacious,1rem);}/*!sc*/\n",
            ".eZYoam[data-label-wrap=\"true\"][data-size=\"large\"] [data-component=\"buttonContent\"]{padding-block:calc(var(--control-large-paddingBlock,0.625rem) - 2px);}/*!sc*/\n",
            ".eZYoam[data-inactive]:not([disabled]){background-color:var(--button-inactive-bgColor,var(--button-inactive-bgColor-rest,var(--color-btn-inactive-bg,#eaeef2)));border-color:var(--button-inactive-bgColor,var(--button-inactive-bgColor-rest,var(--color-btn-inactive-bg,#eaeef2)));color:var(--button-inactive-fgColor,var(--button-inactive-fgColor-rest,var(--color-btn-inactive-text,#57606a)));}/*!sc*/\n",
            ".eZYoam[data-inactive]:not([disabled]):focus-visible{box-shadow:none;}/*!sc*/\n",
            ".eZYoam [data-component=\"leadingVisual\"]{grid-area:leadingVisual;color:var(--fgColor-muted,var(--color-fg-muted,#656d76));}/*!sc*/\n",
            ".eZYoam [data-component=\"text\"]{grid-area:text;line-height:calc(20/14);white-space:nowrap;}/*!sc*/\n",
            ".eZYoam [data-component=\"trailingVisual\"]{grid-area:trailingVisual;}/*!sc*/\n",
            ".eZYoam [data-component=\"trailingAction\"]{margin-right:-4px;color:var(--fgColor-muted,var(--color-fg-muted,#656d76));}/*!sc*/\n",
            ".eZYoam [data-component=\"buttonContent\"]{-webkit-flex:1 0 auto;-ms-flex:1 0 auto;flex:1 0 auto;display:grid;grid-template-areas:\"leadingVisual text trailingVisual\";grid-template-columns:min-content minmax(0,auto) min-content;-webkit-align-items:center;-webkit-box-align:center;-ms-flex-align:center;align-items:center;-webkit-align-content:center;-ms-flex-line-pack:center;align-content:center;}/*!sc*/\n",
            ".eZYoam [data-component=\"buttonContent\"] > :not(:last-child){margin-right:8px;}/*!sc*/\n",
            ".eZYoam [data-component=\"loadingSpinner\"]{grid-area:text;margin-right:0px !important;place-self:center;}/*!sc*/\n",
            ".eZYoam [data-component=\"loadingSpinner\"] + [data-component=\"text\"]{visibility:hidden;}/*!sc*/\n",
            ".eZYoam:hover:not([disabled]){background-color:var(--control-transparent-bgColor-hover,var(--color-action-list-item-default-hover-bg,rgba(208,215,222,0.32)));}/*!sc*/\n",
            ".eZYoam:active:not([disabled]){background-color:var(--control-transparent-bgColor-active,var(--color-action-list-item-default-active-bg,rgba(208,215,222,0.48)));}/*!sc*/\n",
            ".eZYoam[aria-expanded=true]{background-color:var(--control-transparent-bgColor-selected,var(--color-action-list-item-default-selected-bg,rgba(208,215,222,0.24)));}/*!sc*/\n",
            ".eZYoam[data-component=\"IconButton\"][data-no-visuals]{color:var(--fgColor-muted,var(--color-fg-muted,#656d76));}/*!sc*/\n",
            ".eZYoam[data-no-visuals]{color:var(--button-invisible-fgColor-rest,var(--button-default-fgColor-rest,var(--color-btn-text,#24292f)));}/*!sc*/\n",
            ".eZYoam:has([data-component=\"ButtonCounter\"]){color:var(--button-invisible-fgColor-rest,var(--button-default-fgColor-rest,var(--color-btn-text,#24292f)));}/*!sc*/\n",
            ".eZYoam:disabled[data-no-visuals]{color:var(--fgColor-disabled,var(--color-primer-fg-disabled,#8c959f));}/*!sc*/\n",
            ".eZYoam:disabled[data-no-visuals] [data-component=ButtonCounter]{color:inherit;}/*!sc*/\n",
            ".jQNnxx{border-radius:6px;border:1px solid;border-color:var(--button-default-borderColor-rest,var(--button-default-borderColor-rest,var(--color-btn-border,rgba(31,35,40,0.15))));font-family:inherit;font-weight:500;font-size:14px;cursor:pointer;-webkit-appearance:none;-moz-appearance:none;appearance:none;-webkit-user-select:none;-moz-user-select:none;-ms-user-select:none;user-select:none;-webkit-text-decoration:none;text-decoration:none;text-align:center;display:-webkit-box;display:-webkit-flex;display:-ms-flexbox;display:flex;-webkit-align-items:center;-webkit-box-align:center;-ms-flex-align:center;align-items:center;-webkit-box-pack:justify;-webkit-justify-content:space-between;-ms-flex-pack:justify;justify-content:space-between;height:32px;padding:0 12px;gap:8px;min-width:-webkit-max-content;min-width:-moz-max-content;min-width:max-content;-webkit-transition:80ms cubic-bezier(0.65,0,0.35,1);transition:80ms cubic-bezier(0.65,0,0.35,1);-webkit-transition-property:color,fill,background-color,border-color;transition-property:color,fill,background-color,border-color;color:var(--button-default-fgColor-rest,var(--color-btn-text,#24292f));background-color:var(--button-default-bgColor-rest,var(--color-btn-bg,#f6f8fa));box-shadow:var(--button-default-shadow-resting,var(--color-btn-shadow,0 1px 0 rgba(31,35,40,0.04))),var(--button-default-shadow-inset,var(--color-btn-inset-shadow,inset 0 1px 0 rgba(255,255,255,0.25)));padding-left:8px;padding-right:8px;}/*!sc*/\n",
            ".jQNnxx:focus:not(:disabled){box-shadow:none;outline:2px solid var(--fgColor-accent,var(--color-accent-fg,#0969da));outline-offset:-2px;}/*!sc*/\n",
            ".jQNnxx:focus:not(:disabled):not(:focus-visible){outline:solid 1px transparent;}/*!sc*/\n",
            ".jQNnxx:focus-visible:not(:disabled){box-shadow:none;outline:2px solid var(--fgColor-accent,var(--color-accent-fg,#0969da));outline-offset:-2px;}/*!sc*/\n",
            ".jQNnxx[href]{display:-webkit-inline-box;display:-webkit-inline-flex;display:-ms-inline-flexbox;display:inline-flex;}/*!sc*/\n",
            ".jQNnxx[href]:hover{-webkit-text-decoration:none;text-decoration:none;}/*!sc*/\n",
            ".jQNnxx:hover{-webkit-transition-duration:80ms;transition-duration:80ms;}/*!sc*/\n",
            ".jQNnxx:active{-webkit-transition:none;transition:none;}/*!sc*/\n",
            ".jQNnxx[data-inactive]{cursor:auto;}/*!sc*/\n",
            ".jQNnxx:disabled{cursor:not-allowed;box-shadow:none;color:var(--fgColor-disabled,var(--color-primer-fg-disabled,#8c959f));border-color:var(--button-default-borderColor-disabled,var(--button-default-borderColor-rest,var(--color-btn-border,rgba(31,35,40,0.15))));background-color:var(--button-default-bgColor-disabled,var(--control-bgColor-disabled,var(--color-input-disabled-bg,rgba(175,184,193,0.2))));}/*!sc*/\n",
            ".jQNnxx:disabled [data-component=ButtonCounter]{color:inherit;}/*!sc*/\n",
            "@media (forced-colors:active){.jQNnxx:focus{outline:solid 1px transparent;}}/*!sc*/\n",
            ".jQNnxx [data-component=ButtonCounter]{font-size:12px;background-color:var(--buttonCounter-default-bgColor-rest,var(--color-btn-counter-bg,rgba(31,35,40,0.08)));}/*!sc*/\n",
            ".jQNnxx[data-component=IconButton]{display:inline-grid;padding:unset;place-content:center;width:32px;min-width:unset;}/*!sc*/\n",
            ".jQNnxx[data-size=\"small\"]{padding:0 8px;height:28px;gap:4px;font-size:12px;}/*!sc*/\n",
            ".jQNnxx[data-size=\"small\"] [data-component=\"text\"]{line-height:calc(20 / 12);}/*!sc*/\n",
            ".jQNnxx[data-size=\"small\"] [data-component=ButtonCounter]{font-size:12px;}/*!sc*/\n",
            ".jQNnxx[data-size=\"small\"] [data-component=\"buttonContent\"] > :not(:last-child){margin-right:4px;}/*!sc*/\n",
            ".jQNnxx[data-size=\"small\"][data-component=IconButton]{width:28px;padding:unset;}/*!sc*/\n",
            ".jQNnxx[data-size=\"large\"]{padding:0 16px;height:40px;gap:8px;}/*!sc*/\n",
            ".jQNnxx[data-size=\"large\"] [data-component=\"buttonContent\"] > :not(:last-child){margin-right:8px;}/*!sc*/\n",
            ".jQNnxx[data-size=\"large\"][data-component=IconButton]{width:40px;padding:unset;}/*!sc*/\n",
            ".jQNnxx[data-block=\"block\"]{width:100%;}/*!sc*/\n",
            ".jQNnxx[data-label-wrap=\"true\"]{min-width:-webkit-fit-content;min-width:-moz-fit-content;min-width:fit-content;height:unset;min-height:var(--control-medium-size,2rem);}/*!sc*/\n",
            ".jQNnxx[data-label-wrap=\"true\"] [data-component=\"buttonContent\"]{-webkit-flex:1 1 auto;-ms-flex:1 1 auto;flex:1 1 auto;-webkit-align-self:stretch;-ms-flex-item-align:stretch;align-self:stretch;padding-block:calc(var(--control-medium-paddingBlock,0.375rem) - 2px);}/*!sc*/\n",
            ".jQNnxx[data-label-wrap=\"true\"] [data-component=\"text\"]{white-space:unset;word-break:break-word;}/*!sc*/\n",
            ".jQNnxx[data-label-wrap=\"true\"][data-size=\"small\"]{height:unset;min-height:var(--control-small-size,1.75rem);}/*!sc*/\n",
            ".jQNnxx[data-label-wrap=\"true\"][data-size=\"small\"] [data-component=\"buttonContent\"]{padding-block:calc(var(--control-small-paddingBlock,0.25rem) - 2px);}/*!sc*/\n",
            ".jQNnxx[data-label-wrap=\"true\"][data-size=\"large\"]{height:unset;min-height:var(--control-large-size,2.5rem);padding-inline:var(--control-large-paddingInline-spacious,1rem);}/*!sc*/\n",
            ".jQNnxx[data-label-wrap=\"true\"][data-size=\"large\"] [data-component=\"buttonContent\"]{padding-block:calc(var(--control-large-paddingBlock,0.625rem) - 2px);}/*!sc*/\n",
            ".jQNnxx[data-inactive]:not([disabled]){background-color:var(--button-inactive-bgColor,var(--button-inactive-bgColor-rest,var(--color-btn-inactive-bg,#eaeef2)));border-color:var(--button-inactive-bgColor,var(--button-inactive-bgColor-rest,var(--color-btn-inactive-bg,#eaeef2)));color:var(--button-inactive-fgColor,var(--button-inactive-fgColor-rest,var(--color-btn-inactive-text,#57606a)));}/*!sc*/\n",
            ".jQNnxx[data-inactive]:not([disabled]):focus-visible{box-shadow:none;}/*!sc*/\n",
            ".jQNnxx [data-component=\"leadingVisual\"]{grid-area:leadingVisual;}/*!sc*/\n",
            ".jQNnxx [data-component=\"text\"]{grid-area:text;line-height:calc(20/14);white-space:nowrap;}/*!sc*/\n",
            ".jQNnxx [data-component=\"trailingVisual\"]{grid-area:trailingVisual;}/*!sc*/\n",
            ".jQNnxx [data-component=\"trailingAction\"]{margin-right:-4px;}/*!sc*/\n",
            ".jQNnxx [data-component=\"buttonContent\"]{-webkit-flex:1 0 auto;-ms-flex:1 0 auto;flex:1 0 auto;display:grid;grid-template-areas:\"leadingVisual text trailingVisual\";grid-template-columns:min-content minmax(0,auto) min-content;-webkit-align-items:center;-webkit-box-align:center;-ms-flex-align:center;align-items:center;-webkit-align-content:center;-ms-flex-line-pack:center;align-content:center;}/*!sc*/\n",
            ".jQNnxx [data-component=\"buttonContent\"] > :not(:last-child){margin-right:8px;}/*!sc*/\n",
            ".jQNnxx [data-component=\"loadingSpinner\"]{grid-area:text;margin-right:0px !important;place-self:center;}/*!sc*/\n",
            ".jQNnxx [data-component=\"loadingSpinner\"] + [data-component=\"text\"]{visibility:hidden;}/*!sc*/\n",
            ".jQNnxx:hover:not([disabled]):not([data-inactive]){background-color:var(--button-default-bgColor-hover,var(--color-btn-hover-bg,#f3f4f6));border-color:var(--button-default-borderColor-hover,var(--button-default-borderColor-hover,var(--color-btn-hover-border,rgba(31,35,40,0.15))));}/*!sc*/\n",
            ".jQNnxx:active:not([disabled]):not([data-inactive]){background-color:var(--button-default-bgColor-active,var(--color-btn-active-bg,hsla(220,14%,93%,1)));border-color:var(--button-default-borderColor-active,var(--button-default-borderColor-active,var(--color-btn-active-border,rgba(31,35,40,0.15))));}/*!sc*/\n",
            ".jQNnxx[aria-expanded=true]{background-color:var(--button-default-bgColor-active,var(--color-btn-active-bg,hsla(220,14%,93%,1)));border-color:var(--button-default-borderColor-active,var(--button-default-borderColor-active,var(--color-btn-active-border,rgba(31,35,40,0.15))));}/*!sc*/\n",
            ".jQNnxx [data-component=\"leadingVisual\"],.jQNnxx [data-component=\"trailingVisual\"],.jQNnxx [data-component=\"trailingAction\"]{color:var(--button-color,var(--fgColor-muted,var(--color-fg-muted,#656d76)));}/*!sc*/\n",
            ".jQNnxx[data-component=\"IconButton\"][data-no-visuals]{color:var(--fgColor-muted,var(--color-fg-muted,#656d76));}/*!sc*/\n",
            ".jQNnxx linkButtonSx:hover:not([disabled]){-webkit-text-decoration:none;text-decoration:none;}/*!sc*/\n",
            ".jQNnxx linkButtonSx:focus:not([disabled]){-webkit-text-decoration:none;text-decoration:none;}/*!sc*/\n",
            ".jQNnxx linkButtonSx:active:not([disabled]){-webkit-text-decoration:none;text-decoration:none;}/*!sc*/\n",
            ".cCCFnA{border-radius:6px;border:1px solid;border-color:var(--button-default-borderColor-rest,var(--button-default-borderColor-rest,var(--color-btn-border,rgba(31,35,40,0.15))));font-family:inherit;font-weight:500;font-size:14px;cursor:pointer;-webkit-appearance:none;-moz-appearance:none;appearance:none;-webkit-user-select:none;-moz-user-select:none;-ms-user-select:none;user-select:none;-webkit-text-decoration:none;text-decoration:none;text-align:center;display:-webkit-box;display:-webkit-flex;display:-ms-flexbox;display:flex;-webkit-align-items:center;-webkit-box-align:center;-ms-flex-align:center;align-items:center;-webkit-box-pack:justify;-webkit-justify-content:space-between;-ms-flex-pack:justify;justify-content:space-between;height:32px;padding:0 12px;gap:8px;min-width:-webkit-max-content;min-width:-moz-max-content;min-width:max-content;-webkit-transition:80ms cubic-bezier(0.65,0,0.35,1);transition:80ms cubic-bezier(0.65,0,0.35,1);-webkit-transition-property:color,fill,background-color,border-color;transition-property:color,fill,background-color,border-color;color:var(--button-default-fgColor-rest,var(--color-btn-text,#24292f));background-color:var(--button-default-bgColor-rest,var(--color-btn-bg,#f6f8fa));box-shadow:var(--button-default-shadow-resting,var(--color-btn-shadow,0 1px 0 rgba(31,35,40,0.04))),var(--button-default-shadow-inset,var(--color-btn-inset-shadow,inset 0 1px 0 rgba(255,255,255,0.25)));}/*!sc*/\n",
            ".cCCFnA:focus:not(:disabled){box-shadow:none;outline:2px solid var(--fgColor-accent,var(--color-accent-fg,#0969da));outline-offset:-2px;}/*!sc*/\n",
            ".cCCFnA:focus:not(:disabled):not(:focus-visible){outline:solid 1px transparent;}/*!sc*/\n",
            ".cCCFnA:focus-visible:not(:disabled){box-shadow:none;outline:2px solid var(--fgColor-accent,var(--color-accent-fg,#0969da));outline-offset:-2px;}/*!sc*/\n",
            ".cCCFnA[href]{display:-webkit-inline-box;display:-webkit-inline-flex;display:-ms-inline-flexbox;display:inline-flex;}/*!sc*/\n",
            ".cCCFnA[href]:hover{-webkit-text-decoration:none;text-decoration:none;}/*!sc*/\n",
            ".cCCFnA:hover{-webkit-transition-duration:80ms;transition-duration:80ms;}/*!sc*/\n",
            ".cCCFnA:active{-webkit-transition:none;transition:none;}/*!sc*/\n",
            ".cCCFnA[data-inactive]{cursor:auto;}/*!sc*/\n",
            ".cCCFnA:disabled{cursor:not-allowed;box-shadow:none;color:var(--fgColor-disabled,var(--color-primer-fg-disabled,#8c959f));border-color:var(--button-default-borderColor-disabled,var(--button-default-borderColor-rest,var(--color-btn-border,rgba(31,35,40,0.15))));background-color:var(--button-default-bgColor-disabled,var(--control-bgColor-disabled,var(--color-input-disabled-bg,rgba(175,184,193,0.2))));}/*!sc*/\n",
            ".cCCFnA:disabled [data-component=ButtonCounter]{color:inherit;}/*!sc*/\n",
            "@media (forced-colors:active){.cCCFnA:focus{outline:solid 1px transparent;}}/*!sc*/\n",
            ".cCCFnA [data-component=ButtonCounter]{font-size:12px;background-color:var(--buttonCounter-default-bgColor-rest,var(--color-btn-counter-bg,rgba(31,35,40,0.08)));}/*!sc*/\n",
            ".cCCFnA[data-component=IconButton]{display:inline-grid;padding:unset;place-content:center;width:32px;min-width:unset;}/*!sc*/\n",
            ".cCCFnA[data-size=\"small\"]{padding:0 8px;height:28px;gap:4px;font-size:12px;}/*!sc*/\n",
            ".cCCFnA[data-size=\"small\"] [data-component=\"text\"]{line-height:calc(20 / 12);}/*!sc*/\n",
            ".cCCFnA[data-size=\"small\"] [data-component=ButtonCounter]{font-size:12px;}/*!sc*/\n",
            ".cCCFnA[data-size=\"small\"] [data-component=\"buttonContent\"] > :not(:last-child){margin-right:4px;}/*!sc*/\n",
            ".cCCFnA[data-size=\"small\"][data-component=IconButton]{width:28px;padding:unset;}/*!sc*/\n",
            ".cCCFnA[data-size=\"large\"]{padding:0 16px;height:40px;gap:8px;}/*!sc*/\n",
            ".cCCFnA[data-size=\"large\"] [data-component=\"buttonContent\"] > :not(:last-child){margin-right:8px;}/*!sc*/\n",
            ".cCCFnA[data-size=\"large\"][data-component=IconButton]{width:40px;padding:unset;}/*!sc*/\n",
            ".cCCFnA[data-block=\"block\"]{width:100%;}/*!sc*/\n",
            ".cCCFnA[data-label-wrap=\"true\"]{min-width:-webkit-fit-content;min-width:-moz-fit-content;min-width:fit-content;height:unset;min-height:var(--control-medium-size,2rem);}/*!sc*/\n",
            ".cCCFnA[data-label-wrap=\"true\"] [data-component=\"buttonContent\"]{-webkit-flex:1 1 auto;-ms-flex:1 1 auto;flex:1 1 auto;-webkit-align-self:stretch;-ms-flex-item-align:stretch;align-self:stretch;padding-block:calc(var(--control-medium-paddingBlock,0.375rem) - 2px);}/*!sc*/\n",
            ".cCCFnA[data-label-wrap=\"true\"] [data-component=\"text\"]{white-space:unset;word-break:break-word;}/*!sc*/\n",
            ".cCCFnA[data-label-wrap=\"true\"][data-size=\"small\"]{height:unset;min-height:var(--control-small-size,1.75rem);}/*!sc*/\n",
            ".cCCFnA[data-label-wrap=\"true\"][data-size=\"small\"] [data-component=\"buttonContent\"]{padding-block:calc(var(--control-small-paddingBlock,0.25rem) - 2px);}/*!sc*/\n",
            ".cCCFnA[data-label-wrap=\"true\"][data-size=\"large\"]{height:unset;min-height:var(--control-large-size,2.5rem);padding-inline:var(--control-large-paddingInline-spacious,1rem);}/*!sc*/\n",
            ".cCCFnA[data-label-wrap=\"true\"][data-size=\"large\"] [data-component=\"buttonContent\"]{padding-block:calc(var(--control-large-paddingBlock,0.625rem) - 2px);}/*!sc*/\n",
            ".cCCFnA[data-inactive]:not([disabled]){background-color:var(--button-inactive-bgColor,var(--button-inactive-bgColor-rest,var(--color-btn-inactive-bg,#eaeef2)));border-color:var(--button-inactive-bgColor,var(--button-inactive-bgColor-rest,var(--color-btn-inactive-bg,#eaeef2)));color:var(--button-inactive-fgColor,var(--button-inactive-fgColor-rest,var(--color-btn-inactive-text,#57606a)));}/*!sc*/\n",
            ".cCCFnA[data-inactive]:not([disabled]):focus-visible{box-shadow:none;}/*!sc*/\n",
            ".cCCFnA [data-component=\"leadingVisual\"]{grid-area:leadingVisual;}/*!sc*/\n",
            ".cCCFnA [data-component=\"text\"]{grid-area:text;line-height:calc(20/14);white-space:nowrap;}/*!sc*/\n",
            ".cCCFnA [data-component=\"trailingVisual\"]{grid-area:trailingVisual;}/*!sc*/\n",
            ".cCCFnA [data-component=\"trailingAction\"]{margin-right:-4px;}/*!sc*/\n",
            ".cCCFnA [data-component=\"buttonContent\"]{-webkit-flex:1 0 auto;-ms-flex:1 0 auto;flex:1 0 auto;display:grid;grid-template-areas:\"leadingVisual text trailingVisual\";grid-template-columns:min-content minmax(0,auto) min-content;-webkit-align-items:center;-webkit-box-align:center;-ms-flex-align:center;align-items:center;-webkit-align-content:center;-ms-flex-line-pack:center;align-content:center;}/*!sc*/\n",
            ".cCCFnA [data-component=\"buttonContent\"] > :not(:last-child){margin-right:8px;}/*!sc*/\n",
            ".cCCFnA [data-component=\"loadingSpinner\"]{grid-area:text;margin-right:0px !important;place-self:center;}/*!sc*/\n",
            ".cCCFnA [data-component=\"loadingSpinner\"] + [data-component=\"text\"]{visibility:hidden;}/*!sc*/\n",
            ".cCCFnA:hover:not([disabled]):not([data-inactive]){background-color:var(--button-default-bgColor-hover,var(--color-btn-hover-bg,#f3f4f6));border-color:var(--button-default-borderColor-hover,var(--button-default-borderColor-hover,var(--color-btn-hover-border,rgba(31,35,40,0.15))));}/*!sc*/\n",
            ".cCCFnA:active:not([disabled]):not([data-inactive]){background-color:var(--button-default-bgColor-active,var(--color-btn-active-bg,hsla(220,14%,93%,1)));border-color:var(--button-default-borderColor-active,var(--button-default-borderColor-active,var(--color-btn-active-border,rgba(31,35,40,0.15))));}/*!sc*/\n",
            ".cCCFnA[aria-expanded=true]{background-color:var(--button-default-bgColor-active,var(--color-btn-active-bg,hsla(220,14%,93%,1)));border-color:var(--button-default-borderColor-active,var(--button-default-borderColor-active,var(--color-btn-active-border,rgba(31,35,40,0.15))));}/*!sc*/\n",
            ".cCCFnA [data-component=\"leadingVisual\"],.cCCFnA [data-component=\"trailingVisual\"],.cCCFnA [data-component=\"trailingAction\"]{color:var(--button-color,var(--fgColor-muted,var(--color-fg-muted,#656d76)));}/*!sc*/\n",
            ".cCCFnA[data-component=\"IconButton\"][data-no-visuals]{color:var(--fgColor-muted,var(--color-fg-muted,#656d76));}/*!sc*/\n",
            ".BWvIU{border-radius:6px;border:1px solid;border-color:var(--button-default-borderColor-rest,var(--button-default-borderColor-rest,var(--color-btn-border,rgba(31,35,40,0.15))));font-family:inherit;font-weight:500;font-size:14px;cursor:pointer;-webkit-appearance:none;-moz-appearance:none;appearance:none;-webkit-user-select:none;-moz-user-select:none;-ms-user-select:none;user-select:none;-webkit-text-decoration:none;text-decoration:none;text-align:center;display:-webkit-box;display:-webkit-flex;display:-ms-flexbox;display:flex;-webkit-align-items:center;-webkit-box-align:center;-ms-flex-align:center;align-items:center;-webkit-box-pack:justify;-webkit-justify-content:space-between;-ms-flex-pack:justify;justify-content:space-between;height:32px;padding:0 12px;gap:8px;min-width:-webkit-max-content;min-width:-moz-max-content;min-width:max-content;-webkit-transition:80ms cubic-bezier(0.65,0,0.35,1);transition:80ms cubic-bezier(0.65,0,0.35,1);-webkit-transition-property:color,fill,background-color,border-color;transition-property:color,fill,background-color,border-color;color:var(--button-default-fgColor-rest,var(--color-btn-text,#24292f));background-color:var(--button-default-bgColor-rest,var(--color-btn-bg,#f6f8fa));box-shadow:var(--button-default-shadow-resting,var(--color-btn-shadow,0 1px 0 rgba(31,35,40,0.04))),var(--button-default-shadow-inset,var(--color-btn-inset-shadow,inset 0 1px 0 rgba(255,255,255,0.25)));}/*!sc*/\n",
            ".BWvIU:focus:not(:disabled){box-shadow:none;outline:2px solid var(--fgColor-accent,var(--color-accent-fg,#0969da));outline-offset:-2px;}/*!sc*/\n",
            ".BWvIU:focus:not(:disabled):not(:focus-visible){outline:solid 1px transparent;}/*!sc*/\n",
            ".BWvIU:focus-visible:not(:disabled){box-shadow:none;outline:2px solid var(--fgColor-accent,var(--color-accent-fg,#0969da));outline-offset:-2px;}/*!sc*/\n",
            ".BWvIU[href]{display:-webkit-inline-box;display:-webkit-inline-flex;display:-ms-inline-flexbox;display:inline-flex;}/*!sc*/\n",
            ".BWvIU[href]:hover{-webkit-text-decoration:none;text-decoration:none;}/*!sc*/\n",
            ".BWvIU:hover{-webkit-transition-duration:80ms;transition-duration:80ms;}/*!sc*/\n",
            ".BWvIU:active{-webkit-transition:none;transition:none;}/*!sc*/\n",
            ".BWvIU[data-inactive]{cursor:auto;}/*!sc*/\n",
            ".BWvIU:disabled{cursor:not-allowed;box-shadow:none;color:var(--fgColor-disabled,var(--color-primer-fg-disabled,#8c959f));border-color:var(--button-default-borderColor-disabled,var(--button-default-borderColor-rest,var(--color-btn-border,rgba(31,35,40,0.15))));background-color:var(--button-default-bgColor-disabled,var(--control-bgColor-disabled,var(--color-input-disabled-bg,rgba(175,184,193,0.2))));}/*!sc*/\n",
            ".BWvIU:disabled [data-component=ButtonCounter]{color:inherit;}/*!sc*/\n",
            "@media (forced-colors:active){.BWvIU:focus{outline:solid 1px transparent;}}/*!sc*/\n",
            ".BWvIU [data-component=ButtonCounter]{font-size:12px;background-color:var(--buttonCounter-default-bgColor-rest,var(--color-btn-counter-bg,rgba(31,35,40,0.08)));}/*!sc*/\n",
            ".BWvIU[data-component=IconButton]{display:inline-grid;padding:unset;place-content:center;width:32px;min-width:unset;}/*!sc*/\n",
            ".BWvIU[data-size=\"small\"]{padding:0 8px;height:28px;gap:4px;font-size:12px;}/*!sc*/\n",
            ".BWvIU[data-size=\"small\"] [data-component=\"text\"]{line-height:calc(20 / 12);}/*!sc*/\n",
            ".BWvIU[data-size=\"small\"] [data-component=ButtonCounter]{font-size:12px;}/*!sc*/\n",
            ".BWvIU[data-size=\"small\"] [data-component=\"buttonContent\"] > :not(:last-child){margin-right:4px;}/*!sc*/\n",
            ".BWvIU[data-size=\"small\"][data-component=IconButton]{width:28px;padding:unset;}/*!sc*/\n",
            ".BWvIU[data-size=\"large\"]{padding:0 16px;height:40px;gap:8px;}/*!sc*/\n",
            ".BWvIU[data-size=\"large\"] [data-component=\"buttonContent\"] > :not(:last-child){margin-right:8px;}/*!sc*/\n",
            ".BWvIU[data-size=\"large\"][data-component=IconButton]{width:40px;padding:unset;}/*!sc*/\n",
            ".BWvIU[data-block=\"block\"]{width:100%;}/*!sc*/\n",
            ".BWvIU[data-label-wrap=\"true\"]{min-width:-webkit-fit-content;min-width:-moz-fit-content;min-width:fit-content;height:unset;min-height:var(--control-medium-size,2rem);}/*!sc*/\n",
            ".BWvIU[data-label-wrap=\"true\"] [data-component=\"buttonContent\"]{-webkit-flex:1 1 auto;-ms-flex:1 1 auto;flex:1 1 auto;-webkit-align-self:stretch;-ms-flex-item-align:stretch;align-self:stretch;padding-block:calc(var(--control-medium-paddingBlock,0.375rem) - 2px);}/*!sc*/\n",
            ".BWvIU[data-label-wrap=\"true\"] [data-component=\"text\"]{white-space:unset;word-break:break-word;}/*!sc*/\n",
            ".BWvIU[data-label-wrap=\"true\"][data-size=\"small\"]{height:unset;min-height:var(--control-small-size,1.75rem);}/*!sc*/\n",
            ".BWvIU[data-label-wrap=\"true\"][data-size=\"small\"] [data-component=\"buttonContent\"]{padding-block:calc(var(--control-small-paddingBlock,0.25rem) - 2px);}/*!sc*/\n",
            ".BWvIU[data-label-wrap=\"true\"][data-size=\"large\"]{height:unset;min-height:var(--control-large-size,2.5rem);padding-inline:var(--control-large-paddingInline-spacious,1rem);}/*!sc*/\n",
            ".BWvIU[data-label-wrap=\"true\"][data-size=\"large\"] [data-component=\"buttonContent\"]{padding-block:calc(var(--control-large-paddingBlock,0.625rem) - 2px);}/*!sc*/\n",
            ".BWvIU[data-inactive]:not([disabled]){background-color:var(--button-inactive-bgColor,var(--button-inactive-bgColor-rest,var(--color-btn-inactive-bg,#eaeef2)));border-color:var(--button-inactive-bgColor,var(--button-inactive-bgColor-rest,var(--color-btn-inactive-bg,#eaeef2)));color:var(--button-inactive-fgColor,var(--button-inactive-fgColor-rest,var(--color-btn-inactive-text,#57606a)));}/*!sc*/\n",
            ".BWvIU[data-inactive]:not([disabled]):focus-visible{box-shadow:none;}/*!sc*/\n",
            ".BWvIU [data-component=\"leadingVisual\"]{grid-area:leadingVisual;}/*!sc*/\n",
            ".BWvIU [data-component=\"text\"]{grid-area:text;line-height:calc(20/14);white-space:nowrap;}/*!sc*/\n",
            ".BWvIU [data-component=\"trailingVisual\"]{grid-area:trailingVisual;}/*!sc*/\n",
            ".BWvIU [data-component=\"trailingAction\"]{margin-right:-4px;}/*!sc*/\n",
            ".BWvIU [data-component=\"buttonContent\"]{-webkit-flex:1 0 auto;-ms-flex:1 0 auto;flex:1 0 auto;display:grid;grid-template-areas:\"leadingVisual text trailingVisual\";grid-template-columns:min-content minmax(0,auto) min-content;-webkit-align-items:center;-webkit-box-align:center;-ms-flex-align:center;align-items:center;-webkit-align-content:center;-ms-flex-line-pack:center;align-content:center;}/*!sc*/\n",
            ".BWvIU [data-component=\"buttonContent\"] > :not(:last-child){margin-right:8px;}/*!sc*/\n",
            ".BWvIU [data-component=\"loadingSpinner\"]{grid-area:text;margin-right:0px !important;place-self:center;}/*!sc*/\n",
            ".BWvIU [data-component=\"loadingSpinner\"] + [data-component=\"text\"]{visibility:hidden;}/*!sc*/\n",
            ".BWvIU:hover:not([disabled]):not([data-inactive]){background-color:var(--button-default-bgColor-hover,var(--color-btn-hover-bg,#f3f4f6));border-color:var(--button-default-borderColor-hover,var(--button-default-borderColor-hover,var(--color-btn-hover-border,rgba(31,35,40,0.15))));}/*!sc*/\n",
            ".BWvIU:active:not([disabled]):not([data-inactive]){background-color:var(--button-default-bgColor-active,var(--color-btn-active-bg,hsla(220,14%,93%,1)));border-color:var(--button-default-borderColor-active,var(--button-default-borderColor-active,var(--color-btn-active-border,rgba(31,35,40,0.15))));}/*!sc*/\n",
            ".BWvIU[aria-expanded=true]{background-color:var(--button-default-bgColor-active,var(--color-btn-active-bg,hsla(220,14%,93%,1)));border-color:var(--button-default-borderColor-active,var(--button-default-borderColor-active,var(--color-btn-active-border,rgba(31,35,40,0.15))));}/*!sc*/\n",
            ".BWvIU [data-component=\"leadingVisual\"],.BWvIU [data-component=\"trailingVisual\"],.BWvIU [data-component=\"trailingAction\"]{color:var(--button-color,var(--fgColor-muted,var(--color-fg-muted,#656d76)));}/*!sc*/\n",
            ".BWvIU[data-component=\"IconButton\"][data-no-visuals]{color:var(--fgColor-muted,var(--color-fg-muted,#656d76));}/*!sc*/\n",
            ".BWvIU[data-size=\"small\"][data-no-visuals]{border-top-left-radius:0;border-bottom-left-radius:0;}/*!sc*/\n",
            ".gLkvWj{border-radius:6px;border:1px solid;border-color:transparent;font-family:inherit;font-weight:500;font-size:14px;cursor:pointer;-webkit-appearance:none;-moz-appearance:none;appearance:none;-webkit-user-select:none;-moz-user-select:none;-ms-user-select:none;user-select:none;-webkit-text-decoration:none;text-decoration:none;text-align:center;display:-webkit-box;display:-webkit-flex;display:-ms-flexbox;display:flex;-webkit-align-items:center;-webkit-box-align:center;-ms-flex-align:center;align-items:center;-webkit-box-pack:justify;-webkit-justify-content:space-between;-ms-flex-pack:justify;justify-content:space-between;height:32px;padding:0 12px;gap:8px;min-width:-webkit-max-content;min-width:-moz-max-content;min-width:max-content;-webkit-transition:80ms cubic-bezier(0.65,0,0.35,1);transition:80ms cubic-bezier(0.65,0,0.35,1);-webkit-transition-property:color,fill,background-color,border-color;transition-property:color,fill,background-color,border-color;color:var(--button-invisible-fgColor-rest,var(--button-default-fgColor-rest,var(--color-btn-text,#24292f)));background-color:transparent;box-shadow:none;}/*!sc*/\n",
            ".gLkvWj:focus:not(:disabled){box-shadow:none;outline:2px solid var(--fgColor-accent,var(--color-accent-fg,#0969da));outline-offset:-2px;}/*!sc*/\n",
            ".gLkvWj:focus:not(:disabled):not(:focus-visible){outline:solid 1px transparent;}/*!sc*/\n",
            ".gLkvWj:focus-visible:not(:disabled){box-shadow:none;outline:2px solid var(--fgColor-accent,var(--color-accent-fg,#0969da));outline-offset:-2px;}/*!sc*/\n",
            ".gLkvWj[href]{display:-webkit-inline-box;display:-webkit-inline-flex;display:-ms-inline-flexbox;display:inline-flex;}/*!sc*/\n",
            ".gLkvWj[href]:hover{-webkit-text-decoration:none;text-decoration:none;}/*!sc*/\n",
            ".gLkvWj:hover{-webkit-transition-duration:80ms;transition-duration:80ms;}/*!sc*/\n",
            ".gLkvWj:active{-webkit-transition:none;transition:none;}/*!sc*/\n",
            ".gLkvWj[data-inactive]{cursor:auto;}/*!sc*/\n",
            ".gLkvWj:disabled{cursor:not-allowed;box-shadow:none;color:var(--fgColor-disabled,var(--color-primer-fg-disabled,#8c959f));background-color:var(--button-invisible-bgColor-disabled,transparent);}/*!sc*/\n",
            ".gLkvWj:disabled [data-component=ButtonCounter],.gLkvWj:disabled [data-component=\"leadingVisual\"],.gLkvWj:disabled [data-component=\"trailingAction\"]{color:inherit;}/*!sc*/\n",
            "@media (forced-colors:active){.gLkvWj:focus{outline:solid 1px transparent;}}/*!sc*/\n",
            ".gLkvWj [data-component=ButtonCounter]{font-size:12px;}/*!sc*/\n",
            ".gLkvWj[data-component=IconButton]{display:inline-grid;padding:unset;place-content:center;width:32px;min-width:unset;}/*!sc*/\n",
            ".gLkvWj[data-size=\"small\"]{padding:0 8px;height:28px;gap:4px;font-size:12px;}/*!sc*/\n",
            ".gLkvWj[data-size=\"small\"] [data-component=\"text\"]{line-height:calc(20 / 12);}/*!sc*/\n",
            ".gLkvWj[data-size=\"small\"] [data-component=ButtonCounter]{font-size:12px;}/*!sc*/\n",
            ".gLkvWj[data-size=\"small\"] [data-component=\"buttonContent\"] > :not(:last-child){margin-right:4px;}/*!sc*/\n",
            ".gLkvWj[data-size=\"small\"][data-component=IconButton]{width:28px;padding:unset;}/*!sc*/\n",
            ".gLkvWj[data-size=\"large\"]{padding:0 16px;height:40px;gap:8px;}/*!sc*/\n",
            ".gLkvWj[data-size=\"large\"] [data-component=\"buttonContent\"] > :not(:last-child){margin-right:8px;}/*!sc*/\n",
            ".gLkvWj[data-size=\"large\"][data-component=IconButton]{width:40px;padding:unset;}/*!sc*/\n",
            ".gLkvWj[data-block=\"block\"]{width:100%;}/*!sc*/\n",
            ".gLkvWj[data-label-wrap=\"true\"]{min-width:-webkit-fit-content;min-width:-moz-fit-content;min-width:fit-content;height:unset;min-height:var(--control-medium-size,2rem);}/*!sc*/\n",
            ".gLkvWj[data-label-wrap=\"true\"] [data-component=\"buttonContent\"]{-webkit-flex:1 1 auto;-ms-flex:1 1 auto;flex:1 1 auto;-webkit-align-self:stretch;-ms-flex-item-align:stretch;align-self:stretch;padding-block:calc(var(--control-medium-paddingBlock,0.375rem) - 2px);}/*!sc*/\n",
            ".gLkvWj[data-label-wrap=\"true\"] [data-component=\"text\"]{white-space:unset;word-break:break-word;}/*!sc*/\n",
            ".gLkvWj[data-label-wrap=\"true\"][data-size=\"small\"]{height:unset;min-height:var(--control-small-size,1.75rem);}/*!sc*/\n",
            ".gLkvWj[data-label-wrap=\"true\"][data-size=\"small\"] [data-component=\"buttonContent\"]{padding-block:calc(var(--control-small-paddingBlock,0.25rem) - 2px);}/*!sc*/\n",
            ".gLkvWj[data-label-wrap=\"true\"][data-size=\"large\"]{height:unset;min-height:var(--control-large-size,2.5rem);padding-inline:var(--control-large-paddingInline-spacious,1rem);}/*!sc*/\n",
            ".gLkvWj[data-label-wrap=\"true\"][data-size=\"large\"] [data-component=\"buttonContent\"]{padding-block:calc(var(--control-large-paddingBlock,0.625rem) - 2px);}/*!sc*/\n",
            ".gLkvWj[data-inactive]:not([disabled]){background-color:var(--button-inactive-bgColor,var(--button-inactive-bgColor-rest,var(--color-btn-inactive-bg,#eaeef2)));border-color:var(--button-inactive-bgColor,var(--button-inactive-bgColor-rest,var(--color-btn-inactive-bg,#eaeef2)));color:var(--button-inactive-fgColor,var(--button-inactive-fgColor-rest,var(--color-btn-inactive-text,#57606a)));}/*!sc*/\n",
            ".gLkvWj[data-inactive]:not([disabled]):focus-visible{box-shadow:none;}/*!sc*/\n",
            ".gLkvWj [data-component=\"leadingVisual\"]{grid-area:leadingVisual;color:var(--fgColor-muted,var(--color-fg-muted,#656d76));}/*!sc*/\n",
            ".gLkvWj [data-component=\"text\"]{grid-area:text;line-height:calc(20/14);white-space:nowrap;}/*!sc*/\n",
            ".gLkvWj [data-component=\"trailingVisual\"]{grid-area:trailingVisual;}/*!sc*/\n",
            ".gLkvWj [data-component=\"trailingAction\"]{margin-right:-4px;color:var(--fgColor-muted,var(--color-fg-muted,#656d76));}/*!sc*/\n",
            ".gLkvWj [data-component=\"buttonContent\"]{-webkit-flex:1 0 auto;-ms-flex:1 0 auto;flex:1 0 auto;display:grid;grid-template-areas:\"leadingVisual text trailingVisual\";grid-template-columns:min-content minmax(0,auto) min-content;-webkit-align-items:center;-webkit-box-align:center;-ms-flex-align:center;align-items:center;-webkit-align-content:center;-ms-flex-line-pack:center;align-content:center;}/*!sc*/\n",
            ".gLkvWj [data-component=\"buttonContent\"] > :not(:last-child){margin-right:8px;}/*!sc*/\n",
            ".gLkvWj [data-component=\"loadingSpinner\"]{grid-area:text;margin-right:0px !important;place-self:center;}/*!sc*/\n",
            ".gLkvWj [data-component=\"loadingSpinner\"] + [data-component=\"text\"]{visibility:hidden;}/*!sc*/\n",
            ".gLkvWj:hover:not([disabled]){background-color:var(--control-transparent-bgColor-hover,var(--color-action-list-item-default-hover-bg,rgba(208,215,222,0.32)));}/*!sc*/\n",
            ".gLkvWj:active:not([disabled]){background-color:var(--control-transparent-bgColor-active,var(--color-action-list-item-default-active-bg,rgba(208,215,222,0.48)));}/*!sc*/\n",
            ".gLkvWj[aria-expanded=true]{background-color:var(--control-transparent-bgColor-selected,var(--color-action-list-item-default-selected-bg,rgba(208,215,222,0.24)));}/*!sc*/\n",
            ".gLkvWj[data-component=\"IconButton\"][data-no-visuals]{color:var(--fgColor-muted,var(--color-fg-muted,#656d76));}/*!sc*/\n",
            ".gLkvWj[data-no-visuals]{color:var(--button-invisible-fgColor-rest,var(--button-default-fgColor-rest,var(--color-btn-text,#24292f)));}/*!sc*/\n",
            ".gLkvWj:has([data-component=\"ButtonCounter\"]){color:var(--button-invisible-fgColor-rest,var(--button-default-fgColor-rest,var(--color-btn-text,#24292f)));}/*!sc*/\n",
            ".gLkvWj:disabled[data-no-visuals]{color:var(--fgColor-disabled,var(--color-primer-fg-disabled,#8c959f));}/*!sc*/\n",
            ".gLkvWj:disabled[data-no-visuals] [data-component=ButtonCounter]{color:inherit;}/*!sc*/\n",
            ".gLkvWj[data-size=\"small\"][data-no-visuals]{color:var(--fgColor-muted,var(--color-fg-muted,#656d76));position:relative;}/*!sc*/\n",
            ".leanDH{border-radius:6px;border:1px solid;border-color:transparent;font-family:inherit;font-weight:500;font-size:14px;cursor:pointer;-webkit-appearance:none;-moz-appearance:none;appearance:none;-webkit-user-select:none;-moz-user-select:none;-ms-user-select:none;user-select:none;-webkit-text-decoration:none;text-decoration:none;text-align:center;display:-webkit-box;display:-webkit-flex;display:-ms-flexbox;display:flex;-webkit-align-items:center;-webkit-box-align:center;-ms-flex-align:center;align-items:center;-webkit-box-pack:justify;-webkit-justify-content:space-between;-ms-flex-pack:justify;justify-content:space-between;height:32px;padding:0 12px;gap:8px;min-width:-webkit-max-content;min-width:-moz-max-content;min-width:max-content;-webkit-transition:80ms cubic-bezier(0.65,0,0.35,1);transition:80ms cubic-bezier(0.65,0,0.35,1);-webkit-transition-property:color,fill,background-color,border-color;transition-property:color,fill,background-color,border-color;color:var(--button-invisible-fgColor-rest,var(--button-default-fgColor-rest,var(--color-btn-text,#24292f)));background-color:transparent;box-shadow:none;}/*!sc*/\n",
            ".leanDH:focus:not(:disabled){box-shadow:none;outline:2px solid var(--fgColor-accent,var(--color-accent-fg,#0969da));outline-offset:-2px;}/*!sc*/\n",
            ".leanDH:focus:not(:disabled):not(:focus-visible){outline:solid 1px transparent;}/*!sc*/\n",
            ".leanDH:focus-visible:not(:disabled){box-shadow:none;outline:2px solid var(--fgColor-accent,var(--color-accent-fg,#0969da));outline-offset:-2px;}/*!sc*/\n",
            ".leanDH[href]{display:-webkit-inline-box;display:-webkit-inline-flex;display:-ms-inline-flexbox;display:inline-flex;}/*!sc*/\n",
            ".leanDH[href]:hover{-webkit-text-decoration:none;text-decoration:none;}/*!sc*/\n",
            ".leanDH:hover{-webkit-transition-duration:80ms;transition-duration:80ms;}/*!sc*/\n",
            ".leanDH:active{-webkit-transition:none;transition:none;}/*!sc*/\n",
            ".leanDH[data-inactive]{cursor:auto;}/*!sc*/\n",
            ".leanDH:disabled{cursor:not-allowed;box-shadow:none;color:var(--fgColor-disabled,var(--color-primer-fg-disabled,#8c959f));background-color:var(--button-invisible-bgColor-disabled,transparent);}/*!sc*/\n",
            ".leanDH:disabled [data-component=ButtonCounter],.leanDH:disabled [data-component=\"leadingVisual\"],.leanDH:disabled [data-component=\"trailingAction\"]{color:inherit;}/*!sc*/\n",
            "@media (forced-colors:active){.leanDH:focus{outline:solid 1px transparent;}}/*!sc*/\n",
            ".leanDH [data-component=ButtonCounter]{font-size:12px;}/*!sc*/\n",
            ".leanDH[data-component=IconButton]{display:inline-grid;padding:unset;place-content:center;width:32px;min-width:unset;}/*!sc*/\n",
            ".leanDH[data-size=\"small\"]{padding:0 8px;height:28px;gap:4px;font-size:12px;}/*!sc*/\n",
            ".leanDH[data-size=\"small\"] [data-component=\"text\"]{line-height:calc(20 / 12);}/*!sc*/\n",
            ".leanDH[data-size=\"small\"] [data-component=ButtonCounter]{font-size:12px;}/*!sc*/\n",
            ".leanDH[data-size=\"small\"] [data-component=\"buttonContent\"] > :not(:last-child){margin-right:4px;}/*!sc*/\n",
            ".leanDH[data-size=\"small\"][data-component=IconButton]{width:28px;padding:unset;}/*!sc*/\n",
            ".leanDH[data-size=\"large\"]{padding:0 16px;height:40px;gap:8px;}/*!sc*/\n",
            ".leanDH[data-size=\"large\"] [data-component=\"buttonContent\"] > :not(:last-child){margin-right:8px;}/*!sc*/\n",
            ".leanDH[data-size=\"large\"][data-component=IconButton]{width:40px;padding:unset;}/*!sc*/\n",
            ".leanDH[data-block=\"block\"]{width:100%;}/*!sc*/\n",
            ".leanDH[data-label-wrap=\"true\"]{min-width:-webkit-fit-content;min-width:-moz-fit-content;min-width:fit-content;height:unset;min-height:var(--control-medium-size,2rem);}/*!sc*/\n",
            ".leanDH[data-label-wrap=\"true\"] [data-component=\"buttonContent\"]{-webkit-flex:1 1 auto;-ms-flex:1 1 auto;flex:1 1 auto;-webkit-align-self:stretch;-ms-flex-item-align:stretch;align-self:stretch;padding-block:calc(var(--control-medium-paddingBlock,0.375rem) - 2px);}/*!sc*/\n",
            ".leanDH[data-label-wrap=\"true\"] [data-component=\"text\"]{white-space:unset;word-break:break-word;}/*!sc*/\n",
            ".leanDH[data-label-wrap=\"true\"][data-size=\"small\"]{height:unset;min-height:var(--control-small-size,1.75rem);}/*!sc*/\n",
            ".leanDH[data-label-wrap=\"true\"][data-size=\"small\"] [data-component=\"buttonContent\"]{padding-block:calc(var(--control-small-paddingBlock,0.25rem) - 2px);}/*!sc*/\n",
            ".leanDH[data-label-wrap=\"true\"][data-size=\"large\"]{height:unset;min-height:var(--control-large-size,2.5rem);padding-inline:var(--control-large-paddingInline-spacious,1rem);}/*!sc*/\n",
            ".leanDH[data-label-wrap=\"true\"][data-size=\"large\"] [data-component=\"buttonContent\"]{padding-block:calc(var(--control-large-paddingBlock,0.625rem) - 2px);}/*!sc*/\n",
            ".leanDH[data-inactive]:not([disabled]){background-color:var(--button-inactive-bgColor,var(--button-inactive-bgColor-rest,var(--color-btn-inactive-bg,#eaeef2)));border-color:var(--button-inactive-bgColor,var(--button-inactive-bgColor-rest,var(--color-btn-inactive-bg,#eaeef2)));color:var(--button-inactive-fgColor,var(--button-inactive-fgColor-rest,var(--color-btn-inactive-text,#57606a)));}/*!sc*/\n",
            ".leanDH[data-inactive]:not([disabled]):focus-visible{box-shadow:none;}/*!sc*/\n",
            ".leanDH [data-component=\"leadingVisual\"]{grid-area:leadingVisual;color:var(--fgColor-muted,var(--color-fg-muted,#656d76));}/*!sc*/\n",
            ".leanDH [data-component=\"text\"]{grid-area:text;line-height:calc(20/14);white-space:nowrap;}/*!sc*/\n",
            ".leanDH [data-component=\"trailingVisual\"]{grid-area:trailingVisual;}/*!sc*/\n",
            ".leanDH [data-component=\"trailingAction\"]{margin-right:-4px;color:var(--fgColor-muted,var(--color-fg-muted,#656d76));}/*!sc*/\n",
            ".leanDH [data-component=\"buttonContent\"]{-webkit-flex:1 0 auto;-ms-flex:1 0 auto;flex:1 0 auto;display:grid;grid-template-areas:\"leadingVisual text trailingVisual\";grid-template-columns:min-content minmax(0,auto) min-content;-webkit-align-items:center;-webkit-box-align:center;-ms-flex-align:center;align-items:center;-webkit-align-content:center;-ms-flex-line-pack:center;align-content:center;}/*!sc*/\n",
            ".leanDH [data-component=\"buttonContent\"] > :not(:last-child){margin-right:8px;}/*!sc*/\n",
            ".leanDH [data-component=\"loadingSpinner\"]{grid-area:text;margin-right:0px !important;place-self:center;}/*!sc*/\n",
            ".leanDH [data-component=\"loadingSpinner\"] + [data-component=\"text\"]{visibility:hidden;}/*!sc*/\n",
            ".leanDH:hover:not([disabled]){background-color:var(--control-transparent-bgColor-hover,var(--color-action-list-item-default-hover-bg,rgba(208,215,222,0.32)));}/*!sc*/\n",
            ".leanDH:active:not([disabled]){background-color:var(--control-transparent-bgColor-active,var(--color-action-list-item-default-active-bg,rgba(208,215,222,0.48)));}/*!sc*/\n",
            ".leanDH[aria-expanded=true]{background-color:var(--control-transparent-bgColor-selected,var(--color-action-list-item-default-selected-bg,rgba(208,215,222,0.24)));}/*!sc*/\n",
            ".leanDH[data-component=\"IconButton\"][data-no-visuals]{color:var(--fgColor-muted,var(--color-fg-muted,#656d76));}/*!sc*/\n",
            ".leanDH[data-no-visuals]{color:var(--button-invisible-fgColor-rest,var(--button-default-fgColor-rest,var(--color-btn-text,#24292f)));}/*!sc*/\n",
            ".leanDH:has([data-component=\"ButtonCounter\"]){color:var(--button-invisible-fgColor-rest,var(--button-default-fgColor-rest,var(--color-btn-text,#24292f)));}/*!sc*/\n",
            ".leanDH:disabled[data-no-visuals]{color:var(--fgColor-disabled,var(--color-primer-fg-disabled,#8c959f));}/*!sc*/\n",
            ".leanDH:disabled[data-no-visuals] [data-component=ButtonCounter]{color:inherit;}/*!sc*/\n",
            ".leanDH[data-size=\"small\"][data-no-visuals]{color:var(--fgColor-muted,var(--color-fg-muted,#656d76));}/*!sc*/\n",
            "data-styled.g4[id=\"types__StyledButton-sc-ws60qy-0\"]{content:\"cOjWAP,gdextR,epCwAk,dPtMKR,ROdPh,jUZcJa,eZYoam,jQNnxx,cCCFnA,BWvIU,gLkvWj,leanDH,\"}/*!sc*/\n",
            ".iuEHTz{color:var(--fgColor-accent,var(--color-accent-fg,#0969da));-webkit-text-decoration:none;text-decoration:none;font-weight:600;}/*!sc*/\n",
            "[data-a11y-link-underlines='true'] .Link__StyledLink-sc-14289xe-0[data-inline='true']{-webkit-text-decoration:underline;text-decoration:underline;}/*!sc*/\n",
            ".iuEHTz:hover{-webkit-text-decoration:underline;text-decoration:underline;}/*!sc*/\n",
            ".iuEHTz:is(button){display:inline-block;padding:0;font-size:inherit;white-space:nowrap;cursor:pointer;-webkit-user-select:none;-moz-user-select:none;-ms-user-select:none;user-select:none;background-color:transparent;border:0;-webkit-appearance:none;-moz-appearance:none;appearance:none;}/*!sc*/\n",
            "data-styled.g9[id=\"Link__StyledLink-sc-14289xe-0\"]{content:\"iuEHTz,\"}/*!sc*/\n",
            ".hWlpPn{position:relative;display:inline-block;}/*!sc*/\n",
            ".hWlpPn::after{position:absolute;z-index:1000000;display:none;padding:0.5em 0.75em;font:normal normal 11px/1.5 -apple-system,BlinkMacSystemFont,\"Segoe UI\",\"Noto Sans\",Helvetica,Arial,sans-serif,\"Apple Color Emoji\",\"Segoe UI Emoji\";-webkit-font-smoothing:subpixel-antialiased;color:var(--tooltip-fgColor,var(--fgColor-onEmphasis,var(--color-fg-on-emphasis,#ffffff)));text-align:center;-webkit-text-decoration:none;text-decoration:none;text-shadow:none;text-transform:none;-webkit-letter-spacing:normal;-moz-letter-spacing:normal;-ms-letter-spacing:normal;letter-spacing:normal;word-wrap:break-word;white-space:pre;pointer-events:none;content:attr(aria-label);background:var(--tooltip-bgColor,var(--bgColor-emphasis,var(--color-neutral-emphasis-plus,#24292f)));border-radius:6px;opacity:0;}/*!sc*/\n",
            "@-webkit-keyframes tooltip-appear{from{opacity:0;}to{opacity:1;}}/*!sc*/\n",
            "@keyframes tooltip-appear{from{opacity:0;}to{opacity:1;}}/*!sc*/\n",
            ".hWlpPn:hover::after,.hWlpPn:active::after,.hWlpPn:focus::after,.hWlpPn:focus-within::after{display:inline-block;-webkit-text-decoration:none;text-decoration:none;-webkit-animation-name:tooltip-appear;animation-name:tooltip-appear;-webkit-animation-duration:0.1s;animation-duration:0.1s;-webkit-animation-fill-mode:forwards;animation-fill-mode:forwards;-webkit-animation-timing-function:ease-in;animation-timing-function:ease-in;-webkit-animation-delay:0s;animation-delay:0s;}/*!sc*/\n",
            ".hWlpPn.tooltipped-no-delay:hover::after,.hWlpPn.tooltipped-no-delay:active::after,.hWlpPn.tooltipped-no-delay:focus::after,.hWlpPn.tooltipped-no-delay:focus-within::after{-webkit-animation-delay:0s;animation-delay:0s;}/*!sc*/\n",
            ".hWlpPn.tooltipped-multiline:hover::after,.hWlpPn.tooltipped-multiline:active::after,.hWlpPn.tooltipped-multiline:focus::after,.hWlpPn.tooltipped-multiline:focus-within::after{display:table-cell;}/*!sc*/\n",
            ".hWlpPn.tooltipped-s::after,.hWlpPn.tooltipped-se::after,.hWlpPn.tooltipped-sw::after{top:100%;right:50%;margin-top:6px;}/*!sc*/\n",
            ".hWlpPn.tooltipped-se::after{right:auto;left:50%;margin-left:-16px;}/*!sc*/\n",
            ".hWlpPn.tooltipped-sw::after{margin-right:-16px;}/*!sc*/\n",
            ".hWlpPn.tooltipped-n::after,.hWlpPn.tooltipped-ne::after,.hWlpPn.tooltipped-nw::after{right:50%;bottom:100%;margin-bottom:6px;}/*!sc*/\n",
            ".hWlpPn.tooltipped-ne::after{right:auto;left:50%;margin-left:-16px;}/*!sc*/\n",
            ".hWlpPn.tooltipped-nw::after{margin-right:-16px;}/*!sc*/\n",
            ".hWlpPn.tooltipped-s::after,.hWlpPn.tooltipped-n::after{-webkit-transform:translateX(50%);-ms-transform:translateX(50%);transform:translateX(50%);}/*!sc*/\n",
            ".hWlpPn.tooltipped-w::after{right:100%;bottom:50%;margin-right:6px;-webkit-transform:translateY(50%);-ms-transform:translateY(50%);transform:translateY(50%);}/*!sc*/\n",
            ".hWlpPn.tooltipped-e::after{bottom:50%;left:100%;margin-left:6px;-webkit-transform:translateY(50%);-ms-transform:translateY(50%);transform:translateY(50%);}/*!sc*/\n",
            ".hWlpPn.tooltipped-multiline::after{width:-webkit-max-content;width:-moz-max-content;width:max-content;max-width:250px;word-wrap:break-word;white-space:pre-line;border-collapse:separate;}/*!sc*/\n",
            ".hWlpPn.tooltipped-multiline.tooltipped-s::after,.hWlpPn.tooltipped-multiline.tooltipped-n::after{right:auto;left:50%;-webkit-transform:translateX(-50%);-ms-transform:translateX(-50%);transform:translateX(-50%);}/*!sc*/\n",
            ".hWlpPn.tooltipped-multiline.tooltipped-w::after,.hWlpPn.tooltipped-multiline.tooltipped-e::after{right:100%;}/*!sc*/\n",
            ".hWlpPn.tooltipped-align-right-2::after{right:0;margin-right:0;}/*!sc*/\n",
            ".hWlpPn.tooltipped-align-left-2::after{left:0;margin-left:0;}/*!sc*/\n",
            "data-styled.g10[id=\"Tooltip__TooltipBase-sc-17tf59c-0\"]{content:\"hWlpPn,\"}/*!sc*/\n",
            ".hlWueK{position:relative;color:var(--fgColor-default,var(--color-fg-default,#1F2328));padding:16px;border-style:solid;border-width:1px;border-radius:6px;margin-top:0;color:var(--fgColor-default,var(--color-fg-default,#1F2328));background-color:var(--bgColor-attention-muted,var(--color-attention-subtle,#fff8c5));border-color:var(--borderColor-attention-muted,var(--color-attention-muted,rgba(212,167,44,0.4)));margin-top:16px;}/*!sc*/\n",
            ".hlWueK p:last-child{margin-bottom:0;}/*!sc*/\n",
            ".hlWueK svg{margin-right:8px;}/*!sc*/\n",
            ".hlWueK svg{color:var(--fgColor-attention,var(--color-attention-fg,#9a6700));}/*!sc*/\n",
            "data-styled.g12[id=\"Flash__StyledFlash-sc-hzrzfc-0\"]{content:\"hlWueK,\"}/*!sc*/\n",
            ".eAtkQz{display:inline-block;overflow:hidden;text-overflow:ellipsis;vertical-align:top;white-space:nowrap;max-width:125px;max-width:100%;}/*!sc*/\n",
            "data-styled.g14[id=\"Truncate__StyledTruncate-sc-23o1d2-0\"]{content:\"eAtkQz,\"}/*!sc*/\n",
            ".gwqFqs{font-size:14px;line-height:20px;color:var(--fgColor-default,var(--color-fg-default,#1F2328));vertical-align:middle;background-color:var(--bgColor-default,var(--color-canvas-default,#ffffff));border:1px solid var(--control-borderColor-rest,var(--borderColor-default,var(--color-border-default,#d0d7de)));border-radius:6px;outline:none;box-shadow:var(--shadow-inset,var(--color-primer-shadow-inset,inset 0 1px 0 rgba(208,215,222,0.2)));display:-webkit-inline-box;display:-webkit-inline-flex;display:-ms-inline-flexbox;display:inline-flex;-webkit-align-items:stretch;-webkit-box-align:stretch;-ms-flex-align:stretch;align-items:stretch;min-height:32px;overflow:hidden;display:-webkit-box;display:-webkit-flex;display:-ms-flexbox;display:flex;min-width:160px;}/*!sc*/\n",
            ".gwqFqs input,.gwqFqs textarea{cursor:text;}/*!sc*/\n",
            ".gwqFqs select{cursor:pointer;}/*!sc*/\n",
            ".gwqFqs input::-webkit-input-placeholder,.gwqFqs textarea::-webkit-input-placeholder,.gwqFqs select::-webkit-input-placeholder{color:var(---control-fgColor-placeholder,var(--fgColor-muted,var(--color-fg-muted,#656d76)));}/*!sc*/\n",
            ".gwqFqs input::-moz-placeholder,.gwqFqs textarea::-moz-placeholder,.gwqFqs select::-moz-placeholder{color:var(---control-fgColor-placeholder,var(--fgColor-muted,var(--color-fg-muted,#656d76)));}/*!sc*/\n",
            ".gwqFqs input:-ms-input-placeholder,.gwqFqs textarea:-ms-input-placeholder,.gwqFqs select:-ms-input-placeholder{color:var(---control-fgColor-placeholder,var(--fgColor-muted,var(--color-fg-muted,#656d76)));}/*!sc*/\n",
            ".gwqFqs input::placeholder,.gwqFqs textarea::placeholder,.gwqFqs select::placeholder{color:var(---control-fgColor-placeholder,var(--fgColor-muted,var(--color-fg-muted,#656d76)));}/*!sc*/\n",
            ".gwqFqs:focus-within{border-color:var(--fgColor-accent,var(--color-accent-fg,#0969da));outline:2px solid var(--fgColor-accent,var(--color-accent-fg,#0969da));outline-offset:-1px;}/*!sc*/\n",
            ".gwqFqs > textarea{padding:12px;}/*!sc*/\n",
            "@media (min-width:768px){.gwqFqs{font-size:14px;}}/*!sc*/\n",
            "data-styled.g17[id=\"TextInputWrapper__TextInputBaseWrapper-sc-1mqhpbi-0\"]{content:\"gwqFqs,\"}/*!sc*/\n",
            ".decvaq{background-repeat:no-repeat;background-position:right 8px center;padding-left:12px;padding-right:12px;display:-webkit-box;display:-webkit-flex;display:-ms-flexbox;display:flex;min-width:160px;}/*!sc*/\n",
            ".decvaq > :not(:last-child){margin-right:8px;}/*!sc*/\n",
            ".decvaq .TextInput-icon,.decvaq .TextInput-action{-webkit-align-self:center;-ms-flex-item-align:center;align-self:center;color:var(--fgColor-muted,var(--color-fg-muted,#656d76));-webkit-flex-shrink:0;-ms-flex-negative:0;flex-shrink:0;}/*!sc*/\n",
            ".decvaq > input,.decvaq > select{padding-left:0;padding-right:0;}/*!sc*/\n",
            "data-styled.g18[id=\"TextInputWrapper-sc-1mqhpbi-1\"]{content:\"decvaq,\"}/*!sc*/\n",
            ".kbCLEG{border:0;font-size:inherit;font-family:inherit;background-color:transparent;-webkit-appearance:none;color:inherit;width:100%;}/*!sc*/\n",
            ".kbCLEG:focus{outline:0;}/*!sc*/\n",
            "data-styled.g19[id=\"UnstyledTextInput-sc-14ypya-0\"]{content:\"kbCLEG,\"}/*!sc*/\n",
            ".eMMFM{min-width:0;}/*!sc*/\n",
            ".eMMFM:where([data-size='small']){font-size:var(--text-body-size-small,0.75rem);line-height:var(--text-body-lineHeight-small,1.6666);}/*!sc*/\n",
            ".eMMFM:where([data-size='medium']){font-size:var(--text-body-size-medium,0.875rem);line-height:var(--text-body-lineHeight-medium,1.4285);}/*!sc*/\n",
            ".eMMFM:where([data-size='large']){font-size:var(--text-body-size-large,1rem);line-height:var(--text-body-lineHeight-large,1.5);}/*!sc*/\n",
            ".eMMFM:where([data-weight='light']){font-weight:var(--base-text-weight-light,300);}/*!sc*/\n",
            ".eMMFM:where([data-weight='normal']){font-weight:var(--base-text-weight-normal,400);}/*!sc*/\n",
            ".eMMFM:where([data-weight='medium']){font-weight:var(--base-text-weight-medium,500);}/*!sc*/\n",
            ".eMMFM:where([data-weight='semibold']){font-weight:var(--base-text-weight-semibold,600);}/*!sc*/\n",
            ".HlHVj{padding-left:4px;padding-right:4px;font-weight:400;color:var(--fgColor-muted,var(--color-fg-muted,#656d76));font-size:16px;}/*!sc*/\n",
            ".HlHVj:where([data-size='small']){font-size:var(--text-body-size-small,0.75rem);line-height:var(--text-body-lineHeight-small,1.6666);}/*!sc*/\n",
            ".HlHVj:where([data-size='medium']){font-size:var(--text-body-size-medium,0.875rem);line-height:var(--text-body-lineHeight-medium,1.4285);}/*!sc*/\n",
            ".HlHVj:where([data-size='large']){font-size:var(--text-body-size-large,1rem);line-height:var(--text-body-lineHeight-large,1.5);}/*!sc*/\n",
            ".HlHVj:where([data-weight='light']){font-weight:var(--base-text-weight-light,300);}/*!sc*/\n",
            ".HlHVj:where([data-weight='normal']){font-weight:var(--base-text-weight-normal,400);}/*!sc*/\n",
            ".HlHVj:where([data-weight='medium']){font-weight:var(--base-text-weight-medium,500);}/*!sc*/\n",
            ".HlHVj:where([data-weight='semibold']){font-weight:var(--base-text-weight-semibold,600);}/*!sc*/\n",
            ".lauzFl{padding-left:4px;padding-right:4px;font-weight:400;color:var(--fgColor-muted,var(--color-fg-muted,#656d76));font-size:14px;}/*!sc*/\n",
            ".lauzFl:where([data-size='small']){font-size:var(--text-body-size-small,0.75rem);line-height:var(--text-body-lineHeight-small,1.6666);}/*!sc*/\n",
            ".lauzFl:where([data-size='medium']){font-size:var(--text-body-size-medium,0.875rem);line-height:var(--text-body-lineHeight-medium,1.4285);}/*!sc*/\n",
            ".lauzFl:where([data-size='large']){font-size:var(--text-body-size-large,1rem);line-height:var(--text-body-lineHeight-large,1.5);}/*!sc*/\n",
            ".lauzFl:where([data-weight='light']){font-weight:var(--base-text-weight-light,300);}/*!sc*/\n",
            ".lauzFl:where([data-weight='normal']){font-weight:var(--base-text-weight-normal,400);}/*!sc*/\n",
            ".lauzFl:where([data-weight='medium']){font-weight:var(--base-text-weight-medium,500);}/*!sc*/\n",
            ".lauzFl:where([data-weight='semibold']){font-weight:var(--base-text-weight-semibold,600);}/*!sc*/\n",
            "data-styled.g24[id=\"Text__StyledText-sc-17v1xeu-0\"]{content:\"eMMFM,HlHVj,lauzFl,\"}/*!sc*/\n",
            "body[data-page-layout-dragging=\"true\"]{cursor:col-resize;}/*!sc*/\n",
            "body[data-page-layout-dragging=\"true\"] *{-webkit-user-select:none;-moz-user-select:none;-ms-user-select:none;user-select:none;}/*!sc*/\n",
            "data-styled.g29[id=\"sc-global-gbKrvU1\"]{content:\"sc-global-gbKrvU1,\"}/*!sc*/\n",
            ".kiEfKw{display:-webkit-inline-box;display:-webkit-inline-flex;display:-ms-inline-flexbox;display:inline-flex;vertical-align:middle;isolation:isolate;}/*!sc*/\n",
            ".kiEfKw.kiEfKw > *:not([data-loading-wrapper]){margin-inline-end:-1px;position:relative;border-radius:0;}/*!sc*/\n",
            ".kiEfKw.kiEfKw > *:not([data-loading-wrapper]):first-child{border-top-left-radius:6px;border-bottom-left-radius:6px;}/*!sc*/\n",
            ".kiEfKw.kiEfKw > *:not([data-loading-wrapper]):last-child{border-top-right-radius:6px;border-bottom-right-radius:6px;}/*!sc*/\n",
            ".kiEfKw.kiEfKw > *:not([data-loading-wrapper]):focus,.kiEfKw.kiEfKw > *:not([data-loading-wrapper]):active,.kiEfKw.kiEfKw > *:not([data-loading-wrapper]):hover{z-index:1;}/*!sc*/\n",
            ".kiEfKw [data-loading-wrapper]:first-child button,.kiEfKw [data-loading-wrapper]:first-child a{border-top-left-radius:6px;border-bottom-left-radius:6px;}/*!sc*/\n",
            ".kiEfKw [data-loading-wrapper]:last-child button,.kiEfKw [data-loading-wrapper]:last-child a{border-top-right-radius:6px;border-bottom-right-radius:6px;}/*!sc*/\n",
            ".kiEfKw [data-loading-wrapper] > *{margin-inline-end:-1px;position:relative;border-radius:0;}/*!sc*/\n",
            ".kiEfKw [data-loading-wrapper] > *:focus,.kiEfKw [data-loading-wrapper] > *:active,.kiEfKw [data-loading-wrapper] > *:hover{z-index:1;}/*!sc*/\n",
            "data-styled.g50[id=\"ButtonGroup-sc-1gxhls1-0\"]{content:\"kiEfKw,\"}/*!sc*/\n",
            ".dIQQCq{--segmented-control-button-inner-padding:12px;--segmented-control-button-bg-inset:4px;--segmented-control-outer-radius:6px;background-color:transparent;border-color:transparent;border-radius:var(--segmented-control-outer-radius);border-width:0;color:currentColor;cursor:pointer;font-family:inherit;font-size:inherit;font-weight:600;padding:0;height:100%;width:100%;}/*!sc*/\n",
            ".dIQQCq .segmentedControl-content{-webkit-align-items:center;-webkit-box-align:center;-ms-flex-align:center;align-items:center;background-color:var(--controlKnob-bgColor-rest,var(--color-segmented-control-button-bg,#ffffff));border-color:var(--controlKnob-borderColor-rest,var(--color-segmented-control-button-hover-active-selected-border,#8c959f));border-style:solid;border-width:1px;border-radius:var(--segmented-control-outer-radius);display:-webkit-box;display:-webkit-flex;display:-ms-flexbox;display:flex;height:100%;-webkit-box-pack:center;-webkit-justify-content:center;-ms-flex-pack:center;justify-content:center;padding-left:var(--segmented-control-button-inner-padding);padding-right:var(--segmented-control-button-inner-padding);}/*!sc*/\n",
            ".dIQQCq svg{fill:var(--fgColor-muted,var(--color-fg-muted,#656d76));}/*!sc*/\n",
            ".dIQQCq:focus:focus-visible:not(:last-child):after{width:0;}/*!sc*/\n",
            ".dIQQCq .segmentedControl-text:after{content:\"Preview\";display:block;font-weight:600;height:0;overflow:hidden;pointer-events:none;-webkit-user-select:none;-moz-user-select:none;-ms-user-select:none;user-select:none;visibility:hidden;}/*!sc*/\n",
            "@media (pointer:coarse){.dIQQCq:before{content:\"\";position:absolute;left:0;right:0;-webkit-transform:translateY(-50%);-ms-transform:translateY(-50%);transform:translateY(-50%);top:50%;min-height:44px;}}/*!sc*/\n",
            ".bppgUk{--segmented-control-button-inner-padding:12px;--segmented-control-button-bg-inset:4px;--segmented-control-outer-radius:6px;background-color:transparent;border-color:transparent;border-radius:var(--segmented-control-outer-radius);border-width:0;color:currentColor;cursor:pointer;font-family:inherit;font-size:inherit;font-weight:400;padding:var(--segmented-control-button-bg-inset);height:100%;width:100%;}/*!sc*/\n",
            ".bppgUk .segmentedControl-content{-webkit-align-items:center;-webkit-box-align:center;-ms-flex-align:center;align-items:center;background-color:transparent;border-color:transparent;border-style:solid;border-width:1px;border-radius:calc(var(--segmented-control-outer-radius) - var(--segmented-control-button-bg-inset) / 2);display:-webkit-box;display:-webkit-flex;display:-ms-flexbox;display:flex;height:100%;-webkit-box-pack:center;-webkit-justify-content:center;-ms-flex-pack:center;justify-content:center;padding-left:calc(var(--segmented-control-button-inner-padding) - var(--segmented-control-button-bg-inset));padding-right:calc(var(--segmented-control-button-inner-padding) - var(--segmented-control-button-bg-inset));}/*!sc*/\n",
            ".bppgUk svg{fill:var(--fgColor-muted,var(--color-fg-muted,#656d76));}/*!sc*/\n",
            ".bppgUk:hover .segmentedControl-content{background-color:var(--controlTrack-bgColor-hover,var(--color-segmented-control-button-hover-bg,rgba(175,184,193,0.2)));}/*!sc*/\n",
            ".bppgUk:active .segmentedControl-content{background-color:var(--controlTrack-bgColor-active,var(--color-segmented-control-button-hover-active-bg,rgba(175,184,193,0.4)));}/*!sc*/\n",
            ".bppgUk:focus:focus-visible:not(:last-child):after{width:0;}/*!sc*/\n",
            ".bppgUk .segmentedControl-text:after{content:\"Code\";display:block;font-weight:600;height:0;overflow:hidden;pointer-events:none;-webkit-user-select:none;-moz-user-select:none;-ms-user-select:none;user-select:none;visibility:hidden;}/*!sc*/\n",
            "@media (pointer:coarse){.bppgUk:before{content:\"\";position:absolute;left:0;right:0;-webkit-transform:translateY(-50%);-ms-transform:translateY(-50%);transform:translateY(-50%);top:50%;min-height:44px;}}/*!sc*/\n",
            ".gLclPK{--segmented-control-button-inner-padding:12px;--segmented-control-button-bg-inset:4px;--segmented-control-outer-radius:6px;background-color:transparent;border-color:transparent;border-radius:var(--segmented-control-outer-radius);border-width:0;color:currentColor;cursor:pointer;font-family:inherit;font-size:inherit;font-weight:400;padding:var(--segmented-control-button-bg-inset);height:100%;width:100%;}/*!sc*/\n",
            ".gLclPK .segmentedControl-content{-webkit-align-items:center;-webkit-box-align:center;-ms-flex-align:center;align-items:center;background-color:transparent;border-color:transparent;border-style:solid;border-width:1px;border-radius:calc(var(--segmented-control-outer-radius) - var(--segmented-control-button-bg-inset) / 2);display:-webkit-box;display:-webkit-flex;display:-ms-flexbox;display:flex;height:100%;-webkit-box-pack:center;-webkit-justify-content:center;-ms-flex-pack:center;justify-content:center;padding-left:calc(var(--segmented-control-button-inner-padding) - var(--segmented-control-button-bg-inset));padding-right:calc(var(--segmented-control-button-inner-padding) - var(--segmented-control-button-bg-inset));}/*!sc*/\n",
            ".gLclPK svg{fill:var(--fgColor-muted,var(--color-fg-muted,#656d76));}/*!sc*/\n",
            ".gLclPK:hover .segmentedControl-content{background-color:var(--controlTrack-bgColor-hover,var(--color-segmented-control-button-hover-bg,rgba(175,184,193,0.2)));}/*!sc*/\n",
            ".gLclPK:active .segmentedControl-content{background-color:var(--controlTrack-bgColor-active,var(--color-segmented-control-button-hover-active-bg,rgba(175,184,193,0.4)));}/*!sc*/\n",
            ".gLclPK:focus:focus-visible:not(:last-child):after{width:0;}/*!sc*/\n",
            ".gLclPK .segmentedControl-text:after{content:\"Blame\";display:block;font-weight:600;height:0;overflow:hidden;pointer-events:none;-webkit-user-select:none;-moz-user-select:none;-ms-user-select:none;user-select:none;visibility:hidden;}/*!sc*/\n",
            "@media (pointer:coarse){.gLclPK:before{content:\"\";position:absolute;left:0;right:0;-webkit-transform:translateY(-50%);-ms-transform:translateY(-50%);transform:translateY(-50%);top:50%;min-height:44px;}}/*!sc*/\n",
            "data-styled.g61[id=\"SegmentedControlButton__SegmentedControlButtonStyled-sc-8lkgxl-0\"]{content:\"dIQQCq,bppgUk,gLclPK,\"}/*!sc*/\n",
            ".lawgDG{background-color:var(--controlTrack-bgColor-rest,var(--color-segmented-control-bg,#eaeef2));border-radius:6px;border:1px solid;border-color:var(--controlTrack-borderColor-rest,transparent);display:-webkit-inline-box;display:-webkit-inline-flex;display:-ms-inline-flexbox;display:inline-flex;font-size:14px;height:28px;margin:0;padding:0;}/*!sc*/\n",
            "data-styled.g63[id=\"SegmentedControl__SegmentedControlList-sc-1rzig82-0\"]{content:\"lawgDG,\"}/*!sc*/\n",
            "</style><meta data-hydrostats=\"publish\"/> <!-- --> <!-- --> <button hidden=\"\" data-testid=\"header-permalink-button\" data-hotkey-scope=\"read-only-cursor-text-area\"></button><button hidden=\"\"></button><div><div style=\"--sticky-pane-height:100vh\" class=\"Box-sc-g0xbh4-0 hOfjFo\"><div class=\"Box-sc-g0xbh4-0 oDGAe\"><div class=\"Box-sc-g0xbh4-0 kowOcT\"><div tabindex=\"0\" class=\"Box-sc-g0xbh4-0 gISSDQ\"><div class=\"Box-sc-g0xbh4-0 fLEPlD\"><div class=\"Box-sc-g0xbh4-0 hPvFuC\"></div><div style=\"--pane-width:320px\" class=\"Box-sc-g0xbh4-0 fFSoPl\"></div><div class=\"Box-sc-g0xbh4-0 bTBnTW\"><div role=\"slider\" aria-label=\"Draggable pane splitter\" aria-valuemin=\"0\" aria-valuemax=\"0\" aria-valuenow=\"0\" aria-valuetext=\"Pane width 0 pixels\" tabindex=\"0\" class=\"Box-sc-g0xbh4-0 bHLmSv\"></div></div></div></div><div class=\"Box-sc-g0xbh4-0 iKqMNA\"><div class=\"Box-sc-g0xbh4-0\"></div><div class=\"Box-sc-g0xbh4-0 FxAyp\"><div data-selector=\"repos-split-pane-content\" tabindex=\"0\" class=\"Box-sc-g0xbh4-0 leYMvG\"><div class=\"Box-sc-g0xbh4-0 KMPzq\"><div class=\"Box-sc-g0xbh4-0 hfKjHv container\"><div class=\"px-3 pt-3 pb-0\" id=\"StickyHeader\"><div class=\"Box-sc-g0xbh4-0 gZWyZE\"><div class=\"Box-sc-g0xbh4-0 dwYKDk\"><div class=\"Box-sc-g0xbh4-0 ibcGmb react-code-view-header-wrap--narrow\"><div class=\"Box-sc-g0xbh4-0 hKaEJF\"><h2 class=\"Heading__StyledHeading-sc-1c1dgg0-0 ixDjro\"><button style=\"--button-color:fg.muted\" type=\"button\" aria-label=\"Expand file tree\" data-testid=\"expand-file-tree-button-mobile\" data-loading=\"false\" aria-describedby=\":Rld9lab:-loading-announcement\" class=\"types__StyledButton-sc-ws60qy-0 cOjWAP\"><span data-component=\"buttonContent\" class=\"Box-sc-g0xbh4-0 gUkoLg\"><span data-component=\"leadingVisual\" class=\"Box-sc-g0xbh4-0 hzSPyu\"><svg aria-hidden=\"true\" focusable=\"false\" role=\"img\" class=\"octicon octicon-arrow-left\" viewBox=\"0 0 16 16\" width=\"16\" height=\"16\" fill=\"currentColor\" style=\"display:inline-block;user-select:none;vertical-align:text-bottom;overflow:visible\"><path d=\"M7.78 12.53a.75.75 0 0 1-1.06 0L2.47 8.28a.75.75 0 0 1 0-1.06l4.25-4.25a.751.751 0 0 1 1.042.018.751.751 0 0 1 .018 1.042L4.81 7h7.44a.75.75 0 0 1 0 1.5H4.81l2.97 2.97a.75.75 0 0 1 0 1.06Z\"></path></svg></span><span data-component=\"text\">Files</span></span></button><span role=\"tooltip\" aria-label=\"Expand file tree\" id=\"expand-button-file-tree-button\" class=\"Tooltip__TooltipBase-sc-17tf59c-0 hWlpPn tooltipped-se\"><button data-component=\"IconButton\" type=\"button\" data-testid=\"expand-file-tree-button\" aria-controls=\"repos-file-tree\" class=\"types__StyledButton-sc-ws60qy-0 gdextR\" data-loading=\"false\" data-no-visuals=\"true\" aria-describedby=\":R35d9lab:-loading-announcement\" aria-labelledby=\"expand-button-file-tree-button\"><svg aria-hidden=\"true\" focusable=\"false\" role=\"img\" class=\"octicon octicon-sidebar-collapse\" viewBox=\"0 0 16 16\" width=\"16\" height=\"16\" fill=\"currentColor\" style=\"display:inline-block;user-select:none;vertical-align:text-bottom;overflow:visible\"><path d=\"M6.823 7.823a.25.25 0 0 1 0 .354l-2.396 2.396A.25.25 0 0 1 4 10.396V5.604a.25.25 0 0 1 .427-.177Z\"></path><path d=\"M1.75 0h12.5C15.216 0 16 .784 16 1.75v12.5A1.75 1.75 0 0 1 14.25 16H1.75A1.75 1.75 0 0 1 0 14.25V1.75C0 .784.784 0 1.75 0ZM1.5 1.75v12.5c0 .138.112.25.25.25H9.5v-13H1.75a.25.25 0 0 0-.25.25ZM11 14.5h3.25a.25.25 0 0 0 .25-.25V1.75a.25.25 0 0 0-.25-.25H11Z\"></path></svg></button></span><button hidden=\"\" data-testid=\"\" data-hotkey-scope=\"read-only-cursor-text-area\"></button></h2></div><div class=\"react-code-view-header-mb--narrow mr-2\"><button type=\"button\" aria-haspopup=\"true\" aria-expanded=\"false\" tabindex=\"0\" aria-label=\"main branch\" data-testid=\"anchor-button\" class=\"types__StyledButton-sc-ws60qy-0 epCwAk ref-selector-class\" data-loading=\"false\" aria-describedby=\"branch-picker-repos-header-ref-selector-wide-loading-announcement\" id=\"branch-picker-repos-header-ref-selector-wide\"><span data-component=\"buttonContent\" class=\"Box-sc-g0xbh4-0 gUkoLg\"><span data-component=\"text\"><div class=\"Box-sc-g0xbh4-0 bZBlpz\"><div class=\"Box-sc-g0xbh4-0 lhTYNA\"><svg aria-hidden=\"true\" focusable=\"false\" role=\"img\" class=\"octicon octicon-git-branch\" viewBox=\"0 0 16 16\" width=\"16\" height=\"16\" fill=\"currentColor\" style=\"display:inline-block;user-select:none;vertical-align:text-bottom;overflow:visible\"><path d=\"M9.5 3.25a2.25 2.25 0 1 1 3 2.122V6A2.5 2.5 0 0 1 10 8.5H6a1 1 0 0 0-1 1v1.128a2.251 2.251 0 1 1-1.5 0V5.372a2.25 2.25 0 1 1 1.5 0v1.836A2.493 2.493 0 0 1 6 7h4a1 1 0 0 0 1-1v-.628A2.25 2.25 0 0 1 9.5 3.25Zm-6 0a.75.75 0 1 0 1.5 0 .75.75 0 0 0-1.5 0Zm8.25-.75a.75.75 0 1 0 0 1.5.75.75 0 0 0 0-1.5ZM4.25 12a.75.75 0 1 0 0 1.5.75.75 0 0 0 0-1.5Z\"></path></svg></div><div class=\"Box-sc-g0xbh4-0 dbrgmi ref-selector-button-text-container\"><span class=\"Text__StyledText-sc-17v1xeu-0 eMMFM\"> <!-- -->main</span></div></div></span><span data-component=\"trailingVisual\" class=\"Box-sc-g0xbh4-0 hzSPyu\"><svg aria-hidden=\"true\" focusable=\"false\" role=\"img\" class=\"octicon octicon-triangle-down\" viewBox=\"0 0 16 16\" width=\"16\" height=\"16\" fill=\"currentColor\" style=\"display:inline-block;user-select:none;vertical-align:text-bottom;overflow:visible\"><path d=\"m4.427 7.427 3.396 3.396a.25.25 0 0 0 .354 0l3.396-3.396A.25.25 0 0 0 11.396 7H4.604a.25.25 0 0 0-.177.427Z\"></path></svg></span></span></button><button hidden=\"\" data-hotkey-scope=\"read-only-cursor-text-area\"></button></div><div class=\"Box-sc-g0xbh4-0 dHJiml react-code-view-header-mb--narrow\"><div class=\"Box-sc-g0xbh4-0 cEytCf\"><nav data-testid=\"breadcrumbs\" aria-labelledby=\"repos-header-breadcrumb-heading\" id=\"repos-header-breadcrumb\" class=\"Box-sc-g0xbh4-0 fzFXnm\"><h2 class=\"Heading__StyledHeading-sc-1c1dgg0-0 jHwwdn sr-only\" data-testid=\"screen-reader-heading\" id=\"repos-header-breadcrumb-heading\">Breadcrumbs</h2><ol class=\"Box-sc-g0xbh4-0 iMnkmv\"><li class=\"Box-sc-g0xbh4-0 ghzDag\"><a class=\"Link__StyledLink-sc-14289xe-0 iuEHTz\" sx=\"[object Object]\" data-testid=\"breadcrumbs-repo-link\" href=\"/niteen82/spark-scala/tree/main\">spark-scala</a></li></ol></nav><div data-testid=\"breadcrumbs-filename\" class=\"Box-sc-g0xbh4-0 ghzDag\"><span class=\"Text__StyledText-sc-17v1xeu-0 HlHVj\" aria-hidden=\"true\">/</span><h1 class=\"Heading__StyledHeading-sc-1c1dgg0-0 leHNVT\" tabindex=\"-1\" id=\"file-name-id\">cars.csv</h1></div><div aria-describedby=\":R1td9lab:\"><button data-component=\"IconButton\" type=\"button\" aria-label=\"Copy path\" tabindex=\"0\" class=\"types__StyledButton-sc-ws60qy-0 dPtMKR\" data-loading=\"false\" data-no-visuals=\"true\" data-size=\"small\" aria-describedby=\":R7td9lab:-loading-announcement\"><svg aria-hidden=\"true\" focusable=\"false\" role=\"img\" class=\"octicon octicon-copy\" viewBox=\"0 0 16 16\" width=\"16\" height=\"16\" fill=\"currentColor\" style=\"display:inline-block;user-select:none;vertical-align:text-bottom;overflow:visible\"><path d=\"M0 6.75C0 5.784.784 5 1.75 5h1.5a.75.75 0 0 1 0 1.5h-1.5a.25.25 0 0 0-.25.25v7.5c0 .138.112.25.25.25h7.5a.25.25 0 0 0 .25-.25v-1.5a.75.75 0 0 1 1.5 0v1.5A1.75 1.75 0 0 1 9.25 16h-7.5A1.75 1.75 0 0 1 0 14.25Z\"></path><path d=\"M5 1.75C5 .784 5.784 0 6.75 0h7.5C15.216 0 16 .784 16 1.75v7.5A1.75 1.75 0 0 1 14.25 11h-7.5A1.75 1.75 0 0 1 5 9.25Zm1.75-.25a.25.25 0 0 0-.25.25v7.5c0 .138.112.25.25.25h7.5a.25.25 0 0 0 .25-.25v-7.5a.25.25 0 0 0-.25-.25Z\"></path></svg></button></div></div></div></div><div class=\"react-code-view-header-element--wide\"><div class=\"Box-sc-g0xbh4-0 faNtbn\"><div class=\"d-flex gap-2\"> <div><div class=\"Box-sc-g0xbh4-0 fmQaBv\"><span class=\"TextInputWrapper__TextInputBaseWrapper-sc-1mqhpbi-0 TextInputWrapper-sc-1mqhpbi-1 gwqFqs decvaq TextInput-wrapper\" aria-busy=\"false\"><span class=\"TextInput-icon\"><svg aria-hidden=\"true\" focusable=\"false\" role=\"img\" class=\"octicon octicon-search\" viewBox=\"0 0 16 16\" width=\"16\" height=\"16\" fill=\"currentColor\" style=\"display:inline-block;user-select:none;vertical-align:text-bottom;overflow:visible\"><path d=\"M10.68 11.74a6 6 0 0 1-7.922-8.982 6 6 0 0 1 8.982 7.922l3.04 3.04a.749.749 0 0 1-.326 1.275.749.749 0 0 1-.734-.215ZM11.5 7a4.499 4.499 0 1 0-8.997 0A4.499 4.499 0 0 0 11.5 7Z\"></path></svg></span><input type=\"text\" aria-label=\"Go to file\" role=\"combobox\" aria-controls=\"file-results-list\" aria-expanded=\"false\" aria-haspopup=\"dialog\" autoCorrect=\"off\" spellcheck=\"false\" placeholder=\"Go to file\" data-component=\"input\" class=\"UnstyledTextInput-sc-14ypya-0 kbCLEG\" value=\"\"/><span class=\"TextInput-icon\"></span></span></div><button hidden=\"\" data-testid=\"\" data-hotkey-scope=\"read-only-cursor-text-area\"></button><button hidden=\"\"></button></div><button hidden=\"\" data-testid=\"\" data-hotkey-scope=\"read-only-cursor-text-area\"></button><button hidden=\"\"></button><button hidden=\"\" data-testid=\"\" data-hotkey-scope=\"read-only-cursor-text-area\"></button><button hidden=\"\"></button><button type=\"button\" data-loading=\"false\" data-no-visuals=\"true\" aria-describedby=\":R2l6d9lab:-loading-announcement\" class=\"types__StyledButton-sc-ws60qy-0 ROdPh\"><span data-component=\"buttonContent\" class=\"Box-sc-g0xbh4-0 gUkoLg\"><span data-component=\"text\">Blame</span></span></button><button hidden=\"\" data-testid=\"\" data-hotkey-scope=\"read-only-cursor-text-area\"></button><button data-component=\"IconButton\" type=\"button\" aria-label=\"More file actions\" class=\"types__StyledButton-sc-ws60qy-0 jUZcJa js-blob-dropdown-click\" title=\"More file actions\" data-testid=\"more-file-actions-button-nav-menu-wide\" aria-haspopup=\"true\" aria-expanded=\"false\" tabindex=\"0\" data-loading=\"false\" data-no-visuals=\"true\" aria-describedby=\":R156d9lab:-loading-announcement\" id=\":R156d9lab:\"><svg aria-hidden=\"true\" focusable=\"false\" role=\"img\" class=\"octicon octicon-kebab-horizontal\" viewBox=\"0 0 16 16\" width=\"16\" height=\"16\" fill=\"currentColor\" style=\"display:inline-block;user-select:none;vertical-align:text-bottom;overflow:visible\"><path d=\"M8 9a1.5 1.5 0 1 0 0-3 1.5 1.5 0 0 0 0 3ZM1.5 9a1.5 1.5 0 1 0 0-3 1.5 1.5 0 0 0 0 3Zm13 0a1.5 1.5 0 1 0 0-3 1.5 1.5 0 0 0 0 3Z\"></path></svg></button> </div></div></div><div class=\"react-code-view-header-element--narrow\"><div class=\"Box-sc-g0xbh4-0 faNtbn\"><div class=\"d-flex gap-2\"> <button hidden=\"\" data-testid=\"\" data-hotkey-scope=\"read-only-cursor-text-area\"></button><button hidden=\"\"></button><button hidden=\"\" data-testid=\"\" data-hotkey-scope=\"read-only-cursor-text-area\"></button><button hidden=\"\"></button><button type=\"button\" data-loading=\"false\" data-no-visuals=\"true\" aria-describedby=\":R2l7d9lab:-loading-announcement\" class=\"types__StyledButton-sc-ws60qy-0 ROdPh\"><span data-component=\"buttonContent\" class=\"Box-sc-g0xbh4-0 gUkoLg\"><span data-component=\"text\">Blame</span></span></button><button hidden=\"\" data-testid=\"\" data-hotkey-scope=\"read-only-cursor-text-area\"></button><button data-component=\"IconButton\" type=\"button\" aria-label=\"More file actions\" class=\"types__StyledButton-sc-ws60qy-0 jUZcJa js-blob-dropdown-click\" title=\"More file actions\" data-testid=\"more-file-actions-button-nav-menu-narrow\" aria-haspopup=\"true\" aria-expanded=\"false\" tabindex=\"0\" data-loading=\"false\" data-no-visuals=\"true\" aria-describedby=\":R157d9lab:-loading-announcement\" id=\":R157d9lab:\"><svg aria-hidden=\"true\" focusable=\"false\" role=\"img\" class=\"octicon octicon-kebab-horizontal\" viewBox=\"0 0 16 16\" width=\"16\" height=\"16\" fill=\"currentColor\" style=\"display:inline-block;user-select:none;vertical-align:text-bottom;overflow:visible\"><path d=\"M8 9a1.5 1.5 0 1 0 0-3 1.5 1.5 0 0 0 0 3ZM1.5 9a1.5 1.5 0 1 0 0-3 1.5 1.5 0 0 0 0 3Zm13 0a1.5 1.5 0 1 0 0-3 1.5 1.5 0 0 0 0 3Z\"></path></svg></button> </div></div></div></div></div></div></div></div><div class=\"Box-sc-g0xbh4-0 dJxjrT react-code-view-bottom-padding\"> <div class=\"Box-sc-g0xbh4-0 eFxKDQ\"></div><div class=\"Flash__StyledFlash-sc-hzrzfc-0 hlWueK\"><div class=\"Box-sc-g0xbh4-0\">We can make this file <a href='https://docs.github.com/articles/rendering-csv-and-tsv-data'>beautiful and searchable</a> if this error is corrected: No commas found in this CSV file in line 0.</div></div> <!-- --> <!-- --> </div><div class=\"Box-sc-g0xbh4-0 dJxjrT\"> <!-- --> <!-- --> <div class=\"d-flex flex-column border rounded-2 mb-3 pl-1\"><div class=\"Box-sc-g0xbh4-0 dzCJzi\"><h2 class=\"Heading__StyledHeading-sc-1c1dgg0-0 jHwwdn sr-only\" data-testid=\"screen-reader-heading\">Latest commit</h2><div style=\"width:120px\" class=\"Skeleton Skeleton--text\" data-testid=\"loading\"> </div><div class=\"d-flex flex-shrink-0 gap-2\"><div data-testid=\"latest-commit-details\" class=\"d-none d-sm-flex flex-items-center\"></div><div class=\"d-flex gap-2\"><h2 class=\"Heading__StyledHeading-sc-1c1dgg0-0 jHwwdn sr-only\" data-testid=\"screen-reader-heading\">History</h2><a class=\"types__StyledButton-sc-ws60qy-0 dPtMKR d-none d-lg-flex LinkButton-module__code-view-link-button--xvCGA flex-items-center fgColor-default\" href=\"/niteen82/spark-scala/commits/main/cars.csv\" data-loading=\"false\" data-size=\"small\" aria-describedby=\":R5dlal9lab:-loading-announcement\"><span data-component=\"buttonContent\" class=\"Box-sc-g0xbh4-0 gUkoLg\"><span data-component=\"leadingVisual\" class=\"Box-sc-g0xbh4-0 hzSPyu\"><svg aria-hidden=\"true\" focusable=\"false\" role=\"img\" class=\"octicon octicon-history\" viewBox=\"0 0 16 16\" width=\"16\" height=\"16\" fill=\"currentColor\" style=\"display:inline-block;user-select:none;vertical-align:text-bottom;overflow:visible\"><path d=\"m.427 1.927 1.215 1.215a8.002 8.002 0 1 1-1.6 5.685.75.75 0 1 1 1.493-.154 6.5 6.5 0 1 0 1.18-4.458l1.358 1.358A.25.25 0 0 1 3.896 6H.25A.25.25 0 0 1 0 5.75V2.104a.25.25 0 0 1 .427-.177ZM7.75 4a.75.75 0 0 1 .75.75v2.992l2.028.812a.75.75 0 0 1-.557 1.392l-2.5-1A.751.751 0 0 1 7 8.25v-3.5A.75.75 0 0 1 7.75 4Z\"></path></svg></span><span data-component=\"text\"><span class=\"fgColor-default\">History</span></span></span></a><div class=\"d-sm-none\"></div><div class=\"d-flex d-lg-none\"><span role=\"tooltip\" aria-label=\"History\" id=\"history-icon-button-tooltip\" class=\"Tooltip__TooltipBase-sc-17tf59c-0 hWlpPn tooltipped-n\"><a class=\"types__StyledButton-sc-ws60qy-0 dPtMKR LinkButton-module__code-view-link-button--xvCGA flex-items-center fgColor-default\" href=\"/niteen82/spark-scala/commits/main/cars.csv\" data-loading=\"false\" data-size=\"small\" aria-describedby=\":Rpdlal9lab:-loading-announcement history-icon-button-tooltip\"><span data-component=\"buttonContent\" class=\"Box-sc-g0xbh4-0 gUkoLg\"><span data-component=\"leadingVisual\" class=\"Box-sc-g0xbh4-0 hzSPyu\"><svg aria-hidden=\"true\" focusable=\"false\" role=\"img\" class=\"octicon octicon-history\" viewBox=\"0 0 16 16\" width=\"16\" height=\"16\" fill=\"currentColor\" style=\"display:inline-block;user-select:none;vertical-align:text-bottom;overflow:visible\"><path d=\"m.427 1.927 1.215 1.215a8.002 8.002 0 1 1-1.6 5.685.75.75 0 1 1 1.493-.154 6.5 6.5 0 1 0 1.18-4.458l1.358 1.358A.25.25 0 0 1 3.896 6H.25A.25.25 0 0 1 0 5.75V2.104a.25.25 0 0 1 .427-.177ZM7.75 4a.75.75 0 0 1 .75.75v2.992l2.028.812a.75.75 0 0 1-.557 1.392l-2.5-1A.751.751 0 0 1 7 8.25v-3.5A.75.75 0 0 1 7.75 4Z\"></path></svg></span></span></a></span></div></div></div></div></div><div class=\"Box-sc-g0xbh4-0 ldRxiI\"><div class=\"Box-sc-g0xbh4-0 fVkfyA container\"><div class=\"Box-sc-g0xbh4-0 gNAmSV react-code-size-details-banner\"><div class=\"Box-sc-g0xbh4-0 jNEwzY react-code-size-details-banner\"><div class=\"Box-sc-g0xbh4-0 bsDwxw text-mono\"><div title=\"22.1 KB\" data-testid=\"blob-size\" class=\"Truncate__StyledTruncate-sc-23o1d2-0 eAtkQz\"><span>408 lines (408 loc) · 22.1 KB</span></div></div></div></div><div class=\"Box-sc-g0xbh4-0 jdLMhu react-blob-view-header-sticky\" id=\"repos-sticky-header\"><div class=\"Box-sc-g0xbh4-0 tOISc\"><div class=\"react-blob-sticky-header\"><div class=\"Box-sc-g0xbh4-0 hqwSEx\"><div class=\"Box-sc-g0xbh4-0 bDVoEr\"><div class=\"Box-sc-g0xbh4-0 kYLlPM\"><div class=\"Box-sc-g0xbh4-0 gYjEmn\"><button type=\"button\" aria-haspopup=\"true\" aria-expanded=\"false\" tabindex=\"0\" aria-label=\"main branch\" data-testid=\"anchor-button\" class=\"types__StyledButton-sc-ws60qy-0 epCwAk ref-selector-class\" data-loading=\"false\" aria-describedby=\"branch-picker-repos-header-ref-selector-loading-announcement\" id=\"branch-picker-repos-header-ref-selector\"><span data-component=\"buttonContent\" class=\"Box-sc-g0xbh4-0 gUkoLg\"><span data-component=\"text\"><div class=\"Box-sc-g0xbh4-0 bZBlpz\"><div class=\"Box-sc-g0xbh4-0 lhTYNA\"><svg aria-hidden=\"true\" focusable=\"false\" role=\"img\" class=\"octicon octicon-git-branch\" viewBox=\"0 0 16 16\" width=\"16\" height=\"16\" fill=\"currentColor\" style=\"display:inline-block;user-select:none;vertical-align:text-bottom;overflow:visible\"><path d=\"M9.5 3.25a2.25 2.25 0 1 1 3 2.122V6A2.5 2.5 0 0 1 10 8.5H6a1 1 0 0 0-1 1v1.128a2.251 2.251 0 1 1-1.5 0V5.372a2.25 2.25 0 1 1 1.5 0v1.836A2.493 2.493 0 0 1 6 7h4a1 1 0 0 0 1-1v-.628A2.25 2.25 0 0 1 9.5 3.25Zm-6 0a.75.75 0 1 0 1.5 0 .75.75 0 0 0-1.5 0Zm8.25-.75a.75.75 0 1 0 0 1.5.75.75 0 0 0 0-1.5ZM4.25 12a.75.75 0 1 0 0 1.5.75.75 0 0 0 0-1.5Z\"></path></svg></div><div class=\"Box-sc-g0xbh4-0 dbrgmi ref-selector-button-text-container\"><span class=\"Text__StyledText-sc-17v1xeu-0 eMMFM\"> <!-- -->main</span></div></div></span><span data-component=\"trailingVisual\" class=\"Box-sc-g0xbh4-0 hzSPyu\"><svg aria-hidden=\"true\" focusable=\"false\" role=\"img\" class=\"octicon octicon-triangle-down\" viewBox=\"0 0 16 16\" width=\"16\" height=\"16\" fill=\"currentColor\" style=\"display:inline-block;user-select:none;vertical-align:text-bottom;overflow:visible\"><path d=\"m4.427 7.427 3.396 3.396a.25.25 0 0 0 .354 0l3.396-3.396A.25.25 0 0 0 11.396 7H4.604a.25.25 0 0 0-.177.427Z\"></path></svg></span></span></button><button hidden=\"\" data-hotkey-scope=\"read-only-cursor-text-area\"></button></div><div class=\"Box-sc-g0xbh4-0 kGqOLL\"><div class=\"Box-sc-g0xbh4-0 fHind\"><nav data-testid=\"breadcrumbs\" aria-labelledby=\"sticky-breadcrumb-heading\" id=\"sticky-breadcrumb\" class=\"Box-sc-g0xbh4-0 fzFXnm\"><h2 class=\"Heading__StyledHeading-sc-1c1dgg0-0 jHwwdn sr-only\" data-testid=\"screen-reader-heading\" id=\"sticky-breadcrumb-heading\">Breadcrumbs</h2><ol class=\"Box-sc-g0xbh4-0 iMnkmv\"><li class=\"Box-sc-g0xbh4-0 ghzDag\"><a class=\"Link__StyledLink-sc-14289xe-0 iuEHTz\" sx=\"[object Object]\" data-testid=\"breadcrumbs-repo-link\" href=\"/niteen82/spark-scala/tree/main\">spark-scala</a></li></ol></nav><div data-testid=\"breadcrumbs-filename\" class=\"Box-sc-g0xbh4-0 ghzDag\"><span class=\"Text__StyledText-sc-17v1xeu-0 lauzFl\" aria-hidden=\"true\">/</span><h1 class=\"Heading__StyledHeading-sc-1c1dgg0-0 gbqGBV\" tabindex=\"-1\" id=\"sticky-file-name-id\">cars.csv</h1></div></div></div></div><button style=\"--button-color:fg.default\" type=\"button\" data-loading=\"false\" data-size=\"small\" aria-describedby=\":Riptal9lab:-loading-announcement\" class=\"types__StyledButton-sc-ws60qy-0 eZYoam\"><span data-component=\"buttonContent\" class=\"Box-sc-g0xbh4-0 gUkoLg\"><span data-component=\"leadingVisual\" class=\"Box-sc-g0xbh4-0 hzSPyu\"><svg aria-hidden=\"true\" focusable=\"false\" role=\"img\" class=\"octicon octicon-arrow-up\" viewBox=\"0 0 16 16\" width=\"16\" height=\"16\" fill=\"currentColor\" style=\"display:inline-block;user-select:none;vertical-align:text-bottom;overflow:visible\"><path d=\"M3.47 7.78a.75.75 0 0 1 0-1.06l4.25-4.25a.75.75 0 0 1 1.06 0l4.25 4.25a.751.751 0 0 1-.018 1.042.751.751 0 0 1-1.042.018L9 4.81v7.44a.75.75 0 0 1-1.5 0V4.81L4.53 7.78a.75.75 0 0 1-1.06 0Z\"></path></svg></span><span data-component=\"text\">Top</span></span></button></div></div></div><div class=\"Box-sc-g0xbh4-0 kTvpNk\"><h2 class=\"Heading__StyledHeading-sc-1c1dgg0-0 jHwwdn sr-only\" data-testid=\"screen-reader-heading\">File metadata and controls</h2><div class=\"Box-sc-g0xbh4-0 iNMjfP\"><ul aria-label=\"File view\" class=\"SegmentedControl__SegmentedControlList-sc-1rzig82-0 lawgDG\"><li class=\"Box-sc-g0xbh4-0 fefCSX\"><button aria-current=\"true\" type=\"button\" class=\"SegmentedControlButton__SegmentedControlButtonStyled-sc-8lkgxl-0 dIQQCq\"><span class=\"segmentedControl-content\"><div class=\"Box-sc-g0xbh4-0 segmentedControl-text\">Preview</div></span></button></li><li class=\"Box-sc-g0xbh4-0 idgUkN\"><button aria-current=\"false\" type=\"button\" class=\"SegmentedControlButton__SegmentedControlButtonStyled-sc-8lkgxl-0 bppgUk\"><span class=\"segmentedControl-content\"><div class=\"Box-sc-g0xbh4-0 segmentedControl-text\">Code</div></span></button></li><li class=\"Box-sc-g0xbh4-0 idgUkN\"><button aria-current=\"false\" type=\"button\" class=\"SegmentedControlButton__SegmentedControlButtonStyled-sc-8lkgxl-0 gLclPK\"><span class=\"segmentedControl-content\"><div class=\"Box-sc-g0xbh4-0 segmentedControl-text\">Blame</div></span></button></li></ul><button hidden=\"\" data-testid=\"\" data-hotkey-scope=\"read-only-cursor-text-area\"></button><button hidden=\"\" data-testid=\"\" data-hotkey-scope=\"read-only-cursor-text-area\"></button><button hidden=\"\" data-testid=\"\" data-hotkey-scope=\"read-only-cursor-text-area\"></button><div class=\"Box-sc-g0xbh4-0 jNEwzY react-code-size-details-in-header\"><div class=\"Box-sc-g0xbh4-0 bsDwxw text-mono\"><div title=\"22.1 KB\" data-testid=\"blob-size\" class=\"Truncate__StyledTruncate-sc-23o1d2-0 eAtkQz\"><span>408 lines (408 loc) · 22.1 KB</span></div></div></div></div><div class=\"Box-sc-g0xbh4-0 kcLCKF\"><div class=\"Box-sc-g0xbh4-0 kVWtTz react-blob-header-edit-and-raw-actions\"><div class=\"ButtonGroup-sc-1gxhls1-0 kiEfKw\"><a href=\"https://github.com/niteen82/spark-scala/raw/main/cars.csv\" data-testid=\"raw-button\" data-loading=\"false\" data-no-visuals=\"true\" data-size=\"small\" aria-describedby=\":R5csptal9lab:-loading-announcement\" class=\"types__StyledButton-sc-ws60qy-0 jQNnxx\"><span data-component=\"buttonContent\" class=\"Box-sc-g0xbh4-0 gUkoLg\"><span data-component=\"text\">Raw</span></span></a><button data-component=\"IconButton\" type=\"button\" aria-label=\"Copy raw content\" data-testid=\"copy-raw-button\" data-loading=\"false\" data-no-visuals=\"true\" data-size=\"small\" aria-describedby=\":Rpcsptal9lab:-loading-announcement\" class=\"types__StyledButton-sc-ws60qy-0 cCCFnA\"><svg aria-hidden=\"true\" focusable=\"false\" role=\"img\" class=\"octicon octicon-copy\" viewBox=\"0 0 16 16\" width=\"16\" height=\"16\" fill=\"currentColor\" style=\"display:inline-block;user-select:none;vertical-align:text-bottom;overflow:visible\"><path d=\"M0 6.75C0 5.784.784 5 1.75 5h1.5a.75.75 0 0 1 0 1.5h-1.5a.25.25 0 0 0-.25.25v7.5c0 .138.112.25.25.25h7.5a.25.25 0 0 0 .25-.25v-1.5a.75.75 0 0 1 1.5 0v1.5A1.75 1.75 0 0 1 9.25 16h-7.5A1.75 1.75 0 0 1 0 14.25Z\"></path><path d=\"M5 1.75C5 .784 5.784 0 6.75 0h7.5C15.216 0 16 .784 16 1.75v7.5A1.75 1.75 0 0 1 14.25 11h-7.5A1.75 1.75 0 0 1 5 9.25Zm1.75-.25a.25.25 0 0 0-.25.25v7.5c0 .138.112.25.25.25h7.5a.25.25 0 0 0 .25-.25v-7.5a.25.25 0 0 0-.25-.25Z\"></path></svg></button><span role=\"tooltip\" aria-label=\"Download raw file\" id=\":Rdcsptal9lab:\" class=\"Tooltip__TooltipBase-sc-17tf59c-0 hWlpPn tooltipped-n\"><button data-component=\"IconButton\" type=\"button\" aria-label=\"Download raw content\" data-testid=\"download-raw-button\" data-loading=\"false\" data-no-visuals=\"true\" data-size=\"small\" aria-describedby=\":Rtcsptal9lab:-loading-announcement\" class=\"types__StyledButton-sc-ws60qy-0 BWvIU\"><svg aria-hidden=\"true\" focusable=\"false\" role=\"img\" class=\"octicon octicon-download\" viewBox=\"0 0 16 16\" width=\"16\" height=\"16\" fill=\"currentColor\" style=\"display:inline-block;user-select:none;vertical-align:text-bottom;overflow:visible\"><path d=\"M2.75 14A1.75 1.75 0 0 1 1 12.25v-2.5a.75.75 0 0 1 1.5 0v2.5c0 .138.112.25.25.25h10.5a.25.25 0 0 0 .25-.25v-2.5a.75.75 0 0 1 1.5 0v2.5A1.75 1.75 0 0 1 13.25 14Z\"></path><path d=\"M7.25 7.689V2a.75.75 0 0 1 1.5 0v5.689l1.97-1.969a.749.749 0 1 1 1.06 1.06l-3.25 3.25a.749.749 0 0 1-1.06 0L4.22 6.78a.749.749 0 1 1 1.06-1.06l1.97 1.969Z\"></path></svg></button></span></div><button hidden=\"\" data-testid=\"raw-button-shortcut\" data-hotkey-scope=\"read-only-cursor-text-area\"></button><button hidden=\"\" data-testid=\"copy-raw-button-shortcut\" data-hotkey-scope=\"read-only-cursor-text-area\"></button><button hidden=\"\" data-testid=\"download-raw-button-shortcut\" data-hotkey-scope=\"read-only-cursor-text-area\"></button></div><span role=\"tooltip\" aria-label=\"Open symbols panel\" id=\":R5sptal9lab:\" class=\"Tooltip__TooltipBase-sc-17tf59c-0 hWlpPn tooltipped-nw\"><button data-component=\"IconButton\" type=\"button\" aria-label=\"Symbols\" aria-pressed=\"false\" aria-expanded=\"false\" aria-controls=\"symbols-pane\" class=\"types__StyledButton-sc-ws60qy-0 gLkvWj\" data-testid=\"symbols-button\" data-loading=\"false\" data-no-visuals=\"true\" data-size=\"small\" aria-describedby=\"symbols-button-loading-announcement\" id=\"symbols-button\"><svg aria-hidden=\"true\" focusable=\"false\" role=\"img\" class=\"octicon octicon-code-square\" viewBox=\"0 0 16 16\" width=\"16\" height=\"16\" fill=\"currentColor\" style=\"display:inline-block;user-select:none;vertical-align:text-bottom;overflow:visible\"><path d=\"M0 1.75C0 .784.784 0 1.75 0h12.5C15.216 0 16 .784 16 1.75v12.5A1.75 1.75 0 0 1 14.25 16H1.75A1.75 1.75 0 0 1 0 14.25Zm1.75-.25a.25.25 0 0 0-.25.25v12.5c0 .138.112.25.25.25h12.5a.25.25 0 0 0 .25-.25V1.75a.25.25 0 0 0-.25-.25Zm7.47 3.97a.75.75 0 0 1 1.06 0l2 2a.75.75 0 0 1 0 1.06l-2 2a.749.749 0 0 1-1.275-.326.749.749 0 0 1 .215-.734L10.69 8 9.22 6.53a.75.75 0 0 1 0-1.06ZM6.78 6.53 5.31 8l1.47 1.47a.749.749 0 0 1-.326 1.275.749.749 0 0 1-.734-.215l-2-2a.75.75 0 0 1 0-1.06l2-2a.751.751 0 0 1 1.042.018.751.751 0 0 1 .018 1.042Z\"></path></svg></button></span><div class=\"react-blob-header-edit-and-raw-actions-combined\"><button data-component=\"IconButton\" type=\"button\" aria-label=\"Edit and raw actions\" class=\"types__StyledButton-sc-ws60qy-0 leanDH js-blob-dropdown-click\" title=\"More file actions\" data-testid=\"more-file-actions-button\" aria-haspopup=\"true\" aria-expanded=\"false\" tabindex=\"0\" data-loading=\"false\" data-no-visuals=\"true\" data-size=\"small\" aria-describedby=\":Rnsptal9lab:-loading-announcement\" id=\":Rnsptal9lab:\"><svg aria-hidden=\"true\" focusable=\"false\" role=\"img\" class=\"octicon octicon-kebab-horizontal\" viewBox=\"0 0 16 16\" width=\"16\" height=\"16\" fill=\"currentColor\" style=\"display:inline-block;user-select:none;vertical-align:text-bottom;overflow:visible\"><path d=\"M8 9a1.5 1.5 0 1 0 0-3 1.5 1.5 0 0 0 0 3ZM1.5 9a1.5 1.5 0 1 0 0-3 1.5 1.5 0 0 0 0 3Zm13 0a1.5 1.5 0 1 0 0-3 1.5 1.5 0 0 0 0 3Z\"></path></svg></button></div></div></div></div><div></div></div><div class=\"Box-sc-g0xbh4-0 hGyMdv\"><section aria-labelledby=\"file-name-id-wide file-name-id-mobile\" class=\"Box-sc-g0xbh4-0 dceWRL\"><div class=\"Box-sc-g0xbh4-0 dGXHv\"><div id=\"highlighted-line-menu-positioner\" class=\"position-relative\"><div id=\"copilot-button-positioner\" class=\"Box-sc-g0xbh4-0 bpDFns\"><div class=\"Box-sc-g0xbh4-0 iJOeCH\"><div class=\"Box-sc-g0xbh4-0 jewUnv react-code-file-contents\" role=\"presentation\" aria-hidden=\"true\" data-tab-size=\"8\" data-paste-markdown-skip=\"true\" data-hpc=\"true\"><div class=\"react-line-numbers\" style=\"pointer-events:auto\"><div data-line-number=\"1\" class=\"react-line-number react-code-text\" style=\"padding-right:16px\">1</div><div data-line-number=\"2\" class=\"react-line-number react-code-text\" style=\"padding-right:16px\">2</div><div data-line-number=\"3\" class=\"react-line-number react-code-text\" style=\"padding-right:16px\">3</div><div data-line-number=\"4\" class=\"react-line-number react-code-text\" style=\"padding-right:16px\">4</div><div data-line-number=\"5\" class=\"react-line-number react-code-text\" style=\"padding-right:16px\">5</div><div data-line-number=\"6\" class=\"react-line-number react-code-text\" style=\"padding-right:16px\">6</div><div data-line-number=\"7\" class=\"react-line-number react-code-text\" style=\"padding-right:16px\">7</div><div data-line-number=\"8\" class=\"react-line-number react-code-text\" style=\"padding-right:16px\">8</div><div data-line-number=\"9\" class=\"react-line-number react-code-text\" style=\"padding-right:16px\">9</div><div data-line-number=\"10\" class=\"react-line-number react-code-text\" style=\"padding-right:16px\">10</div><div data-line-number=\"11\" class=\"react-line-number react-code-text\" style=\"padding-right:16px\">11</div><div data-line-number=\"12\" class=\"react-line-number react-code-text\" style=\"padding-right:16px\">12</div><div data-line-number=\"13\" class=\"react-line-number react-code-text\" style=\"padding-right:16px\">13</div><div data-line-number=\"14\" class=\"react-line-number react-code-text\" style=\"padding-right:16px\">14</div><div data-line-number=\"15\" class=\"react-line-number react-code-text\" style=\"padding-right:16px\">15</div><div data-line-number=\"16\" class=\"react-line-number react-code-text\" style=\"padding-right:16px\">16</div><div data-line-number=\"17\" class=\"react-line-number react-code-text\" style=\"padding-right:16px\">17</div><div data-line-number=\"18\" class=\"react-line-number react-code-text\" style=\"padding-right:16px\">18</div><div data-line-number=\"19\" class=\"react-line-number react-code-text\" style=\"padding-right:16px\">19</div><div data-line-number=\"20\" class=\"react-line-number react-code-text\" style=\"padding-right:16px\">20</div><div data-line-number=\"21\" class=\"react-line-number react-code-text\" style=\"padding-right:16px\">21</div><div data-line-number=\"22\" class=\"react-line-number react-code-text\" style=\"padding-right:16px\">22</div><div data-line-number=\"23\" class=\"react-line-number react-code-text\" style=\"padding-right:16px\">23</div><div data-line-number=\"24\" class=\"react-line-number react-code-text\" style=\"padding-right:16px\">24</div><div data-line-number=\"25\" class=\"react-line-number react-code-text\" style=\"padding-right:16px\">25</div><div data-line-number=\"26\" class=\"react-line-number react-code-text\" style=\"padding-right:16px\">26</div><div data-line-number=\"27\" class=\"react-line-number react-code-text\" style=\"padding-right:16px\">27</div><div data-line-number=\"28\" class=\"react-line-number react-code-text\" style=\"padding-right:16px\">28</div><div data-line-number=\"29\" class=\"react-line-number react-code-text\" style=\"padding-right:16px\">29</div><div data-line-number=\"30\" class=\"react-line-number react-code-text\" style=\"padding-right:16px\">30</div><div data-line-number=\"31\" class=\"react-line-number react-code-text\" style=\"padding-right:16px\">31</div><div data-line-number=\"32\" class=\"react-line-number react-code-text\" style=\"padding-right:16px\">32</div><div data-line-number=\"33\" class=\"react-line-number react-code-text\" style=\"padding-right:16px\">33</div><div data-line-number=\"34\" class=\"react-line-number react-code-text\" style=\"padding-right:16px\">34</div><div data-line-number=\"35\" class=\"react-line-number react-code-text\" style=\"padding-right:16px\">35</div><div data-line-number=\"36\" class=\"react-line-number react-code-text\" style=\"padding-right:16px\">36</div><div data-line-number=\"37\" class=\"react-line-number react-code-text\" style=\"padding-right:16px\">37</div><div data-line-number=\"38\" class=\"react-line-number react-code-text\" style=\"padding-right:16px\">38</div><div data-line-number=\"39\" class=\"react-line-number react-code-text\" style=\"padding-right:16px\">39</div><div data-line-number=\"40\" class=\"react-line-number react-code-text\" style=\"padding-right:16px\">40</div><div data-line-number=\"41\" class=\"react-line-number react-code-text\" style=\"padding-right:16px\">41</div><div data-line-number=\"42\" class=\"react-line-number react-code-text\" style=\"padding-right:16px\">42</div><div data-line-number=\"43\" class=\"react-line-number react-code-text\" style=\"padding-right:16px\">43</div><div data-line-number=\"44\" class=\"react-line-number react-code-text\" style=\"padding-right:16px\">44</div><div data-line-number=\"45\" class=\"react-line-number react-code-text\" style=\"padding-right:16px\">45</div><div data-line-number=\"46\" class=\"react-line-number react-code-text\" style=\"padding-right:16px\">46</div><div data-line-number=\"47\" class=\"react-line-number react-code-text\" style=\"padding-right:16px\">47</div><div data-line-number=\"48\" class=\"react-line-number react-code-text\" style=\"padding-right:16px\">48</div><div data-line-number=\"49\" class=\"react-line-number react-code-text\" style=\"padding-right:16px\">49</div><div data-line-number=\"50\" class=\"react-line-number react-code-text\" style=\"padding-right:16px\">50</div><div data-line-number=\"51\" class=\"react-line-number react-code-text\" style=\"padding-right:16px\">51</div><div data-line-number=\"52\" class=\"react-line-number react-code-text\" style=\"padding-right:16px\">52</div><div data-line-number=\"53\" class=\"react-line-number react-code-text\" style=\"padding-right:16px\">53</div><div data-line-number=\"54\" class=\"react-line-number react-code-text\" style=\"padding-right:16px\">54</div><div data-line-number=\"55\" class=\"react-line-number react-code-text\" style=\"padding-right:16px\">55</div><div data-line-number=\"56\" class=\"react-line-number react-code-text\" style=\"padding-right:16px\">56</div><div data-line-number=\"57\" class=\"react-line-number react-code-text\" style=\"padding-right:16px\">57</div><div data-line-number=\"58\" class=\"react-line-number react-code-text\" style=\"padding-right:16px\">58</div><div data-line-number=\"59\" class=\"react-line-number react-code-text\" style=\"padding-right:16px\">59</div><div data-line-number=\"60\" class=\"react-line-number react-code-text\" style=\"padding-right:16px\">60</div><div data-line-number=\"61\" class=\"react-line-number react-code-text\" style=\"padding-right:16px\">61</div><div data-line-number=\"62\" class=\"react-line-number react-code-text\" style=\"padding-right:16px\">62</div><div data-line-number=\"63\" class=\"react-line-number react-code-text\" style=\"padding-right:16px\">63</div><div data-line-number=\"64\" class=\"react-line-number react-code-text\" style=\"padding-right:16px\">64</div><div data-line-number=\"65\" class=\"react-line-number react-code-text\" style=\"padding-right:16px\">65</div><div data-line-number=\"66\" class=\"react-line-number react-code-text\" style=\"padding-right:16px\">66</div><div data-line-number=\"67\" class=\"react-line-number react-code-text\" style=\"padding-right:16px\">67</div><div data-line-number=\"68\" class=\"react-line-number react-code-text\" style=\"padding-right:16px\">68</div><div data-line-number=\"69\" class=\"react-line-number react-code-text\" style=\"padding-right:16px\">69</div><div data-line-number=\"70\" class=\"react-line-number react-code-text\" style=\"padding-right:16px\">70</div><div data-line-number=\"71\" class=\"react-line-number react-code-text\" style=\"padding-right:16px\">71</div><div data-line-number=\"72\" class=\"react-line-number react-code-text\" style=\"padding-right:16px\">72</div><div data-line-number=\"73\" class=\"react-line-number react-code-text\" style=\"padding-right:16px\">73</div><div data-line-number=\"74\" class=\"react-line-number react-code-text\" style=\"padding-right:16px\">74</div><div data-line-number=\"75\" class=\"react-line-number react-code-text\" style=\"padding-right:16px\">75</div><div data-line-number=\"76\" class=\"react-line-number react-code-text\" style=\"padding-right:16px\">76</div><div data-line-number=\"77\" class=\"react-line-number react-code-text\" style=\"padding-right:16px\">77</div><div data-line-number=\"78\" class=\"react-line-number react-code-text\" style=\"padding-right:16px\">78</div><div data-line-number=\"79\" class=\"react-line-number react-code-text\" style=\"padding-right:16px\">79</div><div data-line-number=\"80\" class=\"react-line-number react-code-text\" style=\"padding-right:16px\">80</div><div data-line-number=\"81\" class=\"react-line-number react-code-text\" style=\"padding-right:16px\">81</div><div data-line-number=\"82\" class=\"react-line-number react-code-text\" style=\"padding-right:16px\">82</div><div data-line-number=\"83\" class=\"react-line-number react-code-text\" style=\"padding-right:16px\">83</div><div data-line-number=\"84\" class=\"react-line-number react-code-text\" style=\"padding-right:16px\">84</div><div data-line-number=\"85\" class=\"react-line-number react-code-text\" style=\"padding-right:16px\">85</div><div data-line-number=\"86\" class=\"react-line-number react-code-text\" style=\"padding-right:16px\">86</div><div data-line-number=\"87\" class=\"react-line-number react-code-text\" style=\"padding-right:16px\">87</div><div data-line-number=\"88\" class=\"react-line-number react-code-text\" style=\"padding-right:16px\">88</div><div data-line-number=\"89\" class=\"react-line-number react-code-text\" style=\"padding-right:16px\">89</div><div data-line-number=\"90\" class=\"react-line-number react-code-text\" style=\"padding-right:16px\">90</div><div data-line-number=\"91\" class=\"react-line-number react-code-text\" style=\"padding-right:16px\">91</div><div data-line-number=\"92\" class=\"react-line-number react-code-text\" style=\"padding-right:16px\">92</div><div data-line-number=\"93\" class=\"react-line-number react-code-text\" style=\"padding-right:16px\">93</div><div data-line-number=\"94\" class=\"react-line-number react-code-text\" style=\"padding-right:16px\">94</div><div data-line-number=\"95\" class=\"react-line-number react-code-text\" style=\"padding-right:16px\">95</div><div data-line-number=\"96\" class=\"react-line-number react-code-text\" style=\"padding-right:16px\">96</div><div data-line-number=\"97\" class=\"react-line-number react-code-text\" style=\"padding-right:16px\">97</div><div data-line-number=\"98\" class=\"react-line-number react-code-text\" style=\"padding-right:16px\">98</div><div data-line-number=\"99\" class=\"react-line-number react-code-text\" style=\"padding-right:16px\">99</div><div data-line-number=\"100\" class=\"react-line-number react-code-text\" style=\"padding-right:16px\">100</div><div data-line-number=\"101\" class=\"react-line-number react-code-text\" style=\"padding-right:16px\">101</div><div data-line-number=\"102\" class=\"react-line-number react-code-text\" style=\"padding-right:16px\">102</div><div data-line-number=\"103\" class=\"react-line-number react-code-text\" style=\"padding-right:16px\">103</div><div data-line-number=\"104\" class=\"react-line-number react-code-text\" style=\"padding-right:16px\">104</div><div data-line-number=\"105\" class=\"react-line-number react-code-text\" style=\"padding-right:16px\">105</div><div data-line-number=\"106\" class=\"react-line-number react-code-text\" style=\"padding-right:16px\">106</div><div data-line-number=\"107\" class=\"react-line-number react-code-text\" style=\"padding-right:16px\">107</div><div data-line-number=\"108\" class=\"react-line-number react-code-text\" style=\"padding-right:16px\">108</div><div data-line-number=\"109\" class=\"react-line-number react-code-text\" style=\"padding-right:16px\">109</div><div data-line-number=\"110\" class=\"react-line-number react-code-text\" style=\"padding-right:16px\">110</div><div data-line-number=\"111\" class=\"react-line-number react-code-text\" style=\"padding-right:16px\">111</div><div data-line-number=\"112\" class=\"react-line-number react-code-text\" style=\"padding-right:16px\">112</div><div data-line-number=\"113\" class=\"react-line-number react-code-text\" style=\"padding-right:16px\">113</div><div data-line-number=\"114\" class=\"react-line-number react-code-text\" style=\"padding-right:16px\">114</div><div data-line-number=\"115\" class=\"react-line-number react-code-text\" style=\"padding-right:16px\">115</div><div data-line-number=\"116\" class=\"react-line-number react-code-text\" style=\"padding-right:16px\">116</div><div data-line-number=\"117\" class=\"react-line-number react-code-text\" style=\"padding-right:16px\">117</div><div data-line-number=\"118\" class=\"react-line-number react-code-text\" style=\"padding-right:16px\">118</div><div data-line-number=\"119\" class=\"react-line-number react-code-text\" style=\"padding-right:16px\">119</div><div data-line-number=\"120\" class=\"react-line-number react-code-text\" style=\"padding-right:16px\">120</div><div data-line-number=\"121\" class=\"react-line-number react-code-text\" style=\"padding-right:16px\">121</div><div data-line-number=\"122\" class=\"react-line-number react-code-text\" style=\"padding-right:16px\">122</div><div data-line-number=\"123\" class=\"react-line-number react-code-text\" style=\"padding-right:16px\">123</div><div data-line-number=\"124\" class=\"react-line-number react-code-text\" style=\"padding-right:16px\">124</div><div data-line-number=\"125\" class=\"react-line-number react-code-text\" style=\"padding-right:16px\">125</div><div data-line-number=\"126\" class=\"react-line-number react-code-text\" style=\"padding-right:16px\">126</div><div data-line-number=\"127\" class=\"react-line-number react-code-text\" style=\"padding-right:16px\">127</div><div data-line-number=\"128\" class=\"react-line-number react-code-text\" style=\"padding-right:16px\">128</div><div data-line-number=\"129\" class=\"react-line-number react-code-text\" style=\"padding-right:16px\">129</div><div data-line-number=\"130\" class=\"react-line-number react-code-text\" style=\"padding-right:16px\">130</div><div data-line-number=\"131\" class=\"react-line-number react-code-text\" style=\"padding-right:16px\">131</div><div data-line-number=\"132\" class=\"react-line-number react-code-text\" style=\"padding-right:16px\">132</div><div data-line-number=\"133\" class=\"react-line-number react-code-text\" style=\"padding-right:16px\">133</div><div data-line-number=\"134\" class=\"react-line-number react-code-text\" style=\"padding-right:16px\">134</div><div data-line-number=\"135\" class=\"react-line-number react-code-text\" style=\"padding-right:16px\">135</div><div data-line-number=\"136\" class=\"react-line-number react-code-text\" style=\"padding-right:16px\">136</div><div data-line-number=\"137\" class=\"react-line-number react-code-text\" style=\"padding-right:16px\">137</div><div data-line-number=\"138\" class=\"react-line-number react-code-text\" style=\"padding-right:16px\">138</div><div data-line-number=\"139\" class=\"react-line-number react-code-text\" style=\"padding-right:16px\">139</div><div data-line-number=\"140\" class=\"react-line-number react-code-text\" style=\"padding-right:16px\">140</div><div data-line-number=\"141\" class=\"react-line-number react-code-text\" style=\"padding-right:16px\">141</div><div data-line-number=\"142\" class=\"react-line-number react-code-text\" style=\"padding-right:16px\">142</div><div data-line-number=\"143\" class=\"react-line-number react-code-text\" style=\"padding-right:16px\">143</div><div data-line-number=\"144\" class=\"react-line-number react-code-text\" style=\"padding-right:16px\">144</div><div data-line-number=\"145\" class=\"react-line-number react-code-text\" style=\"padding-right:16px\">145</div><div data-line-number=\"146\" class=\"react-line-number react-code-text\" style=\"padding-right:16px\">146</div><div data-line-number=\"147\" class=\"react-line-number react-code-text\" style=\"padding-right:16px\">147</div><div data-line-number=\"148\" class=\"react-line-number react-code-text\" style=\"padding-right:16px\">148</div><div data-line-number=\"149\" class=\"react-line-number react-code-text\" style=\"padding-right:16px\">149</div><div data-line-number=\"150\" class=\"react-line-number react-code-text\" style=\"padding-right:16px\">150</div><div data-line-number=\"151\" class=\"react-line-number react-code-text\" style=\"padding-right:16px\">151</div><div data-line-number=\"152\" class=\"react-line-number react-code-text\" style=\"padding-right:16px\">152</div><div data-line-number=\"153\" class=\"react-line-number react-code-text\" style=\"padding-right:16px\">153</div><div data-line-number=\"154\" class=\"react-line-number react-code-text\" style=\"padding-right:16px\">154</div><div data-line-number=\"155\" class=\"react-line-number react-code-text\" style=\"padding-right:16px\">155</div><div data-line-number=\"156\" class=\"react-line-number react-code-text\" style=\"padding-right:16px\">156</div><div data-line-number=\"157\" class=\"react-line-number react-code-text\" style=\"padding-right:16px\">157</div><div data-line-number=\"158\" class=\"react-line-number react-code-text\" style=\"padding-right:16px\">158</div><div data-line-number=\"159\" class=\"react-line-number react-code-text\" style=\"padding-right:16px\">159</div><div data-line-number=\"160\" class=\"react-line-number react-code-text\" style=\"padding-right:16px\">160</div><div data-line-number=\"161\" class=\"react-line-number react-code-text\" style=\"padding-right:16px\">161</div><div data-line-number=\"162\" class=\"react-line-number react-code-text\" style=\"padding-right:16px\">162</div><div data-line-number=\"163\" class=\"react-line-number react-code-text\" style=\"padding-right:16px\">163</div><div data-line-number=\"164\" class=\"react-line-number react-code-text\" style=\"padding-right:16px\">164</div><div data-line-number=\"165\" class=\"react-line-number react-code-text\" style=\"padding-right:16px\">165</div><div data-line-number=\"166\" class=\"react-line-number react-code-text\" style=\"padding-right:16px\">166</div><div data-line-number=\"167\" class=\"react-line-number react-code-text\" style=\"padding-right:16px\">167</div><div data-line-number=\"168\" class=\"react-line-number react-code-text\" style=\"padding-right:16px\">168</div><div data-line-number=\"169\" class=\"react-line-number react-code-text\" style=\"padding-right:16px\">169</div><div data-line-number=\"170\" class=\"react-line-number react-code-text\" style=\"padding-right:16px\">170</div><div data-line-number=\"171\" class=\"react-line-number react-code-text\" style=\"padding-right:16px\">171</div><div data-line-number=\"172\" class=\"react-line-number react-code-text\" style=\"padding-right:16px\">172</div><div data-line-number=\"173\" class=\"react-line-number react-code-text\" style=\"padding-right:16px\">173</div><div data-line-number=\"174\" class=\"react-line-number react-code-text\" style=\"padding-right:16px\">174</div><div data-line-number=\"175\" class=\"react-line-number react-code-text\" style=\"padding-right:16px\">175</div><div data-line-number=\"176\" class=\"react-line-number react-code-text\" style=\"padding-right:16px\">176</div><div data-line-number=\"177\" class=\"react-line-number react-code-text\" style=\"padding-right:16px\">177</div><div data-line-number=\"178\" class=\"react-line-number react-code-text\" style=\"padding-right:16px\">178</div><div data-line-number=\"179\" class=\"react-line-number react-code-text\" style=\"padding-right:16px\">179</div><div data-line-number=\"180\" class=\"react-line-number react-code-text\" style=\"padding-right:16px\">180</div><div data-line-number=\"181\" class=\"react-line-number react-code-text\" style=\"padding-right:16px\">181</div><div data-line-number=\"182\" class=\"react-line-number react-code-text\" style=\"padding-right:16px\">182</div><div data-line-number=\"183\" class=\"react-line-number react-code-text\" style=\"padding-right:16px\">183</div><div data-line-number=\"184\" class=\"react-line-number react-code-text\" style=\"padding-right:16px\">184</div><div data-line-number=\"185\" class=\"react-line-number react-code-text\" style=\"padding-right:16px\">185</div><div data-line-number=\"186\" class=\"react-line-number react-code-text\" style=\"padding-right:16px\">186</div><div data-line-number=\"187\" class=\"react-line-number react-code-text\" style=\"padding-right:16px\">187</div><div data-line-number=\"188\" class=\"react-line-number react-code-text\" style=\"padding-right:16px\">188</div><div data-line-number=\"189\" class=\"react-line-number react-code-text\" style=\"padding-right:16px\">189</div><div data-line-number=\"190\" class=\"react-line-number react-code-text\" style=\"padding-right:16px\">190</div><div data-line-number=\"191\" class=\"react-line-number react-code-text\" style=\"padding-right:16px\">191</div><div data-line-number=\"192\" class=\"react-line-number react-code-text\" style=\"padding-right:16px\">192</div><div data-line-number=\"193\" class=\"react-line-number react-code-text\" style=\"padding-right:16px\">193</div><div data-line-number=\"194\" class=\"react-line-number react-code-text\" style=\"padding-right:16px\">194</div><div data-line-number=\"195\" class=\"react-line-number react-code-text\" style=\"padding-right:16px\">195</div><div data-line-number=\"196\" class=\"react-line-number react-code-text\" style=\"padding-right:16px\">196</div><div data-line-number=\"197\" class=\"react-line-number react-code-text\" style=\"padding-right:16px\">197</div><div data-line-number=\"198\" class=\"react-line-number react-code-text\" style=\"padding-right:16px\">198</div><div data-line-number=\"199\" class=\"react-line-number react-code-text\" style=\"padding-right:16px\">199</div><div data-line-number=\"200\" class=\"react-line-number react-code-text\" style=\"padding-right:16px\">200</div><div data-line-number=\"201\" class=\"react-line-number react-code-text\" style=\"padding-right:16px\">201</div><div data-line-number=\"202\" class=\"react-line-number react-code-text\" style=\"padding-right:16px\">202</div><div data-line-number=\"203\" class=\"react-line-number react-code-text\" style=\"padding-right:16px\">203</div><div data-line-number=\"204\" class=\"react-line-number react-code-text\" style=\"padding-right:16px\">204</div><div data-line-number=\"205\" class=\"react-line-number react-code-text\" style=\"padding-right:16px\">205</div><div data-line-number=\"206\" class=\"react-line-number react-code-text\" style=\"padding-right:16px\">206</div><div data-line-number=\"207\" class=\"react-line-number react-code-text\" style=\"padding-right:16px\">207</div><div data-line-number=\"208\" class=\"react-line-number react-code-text\" style=\"padding-right:16px\">208</div><div data-line-number=\"209\" class=\"react-line-number react-code-text\" style=\"padding-right:16px\">209</div><div data-line-number=\"210\" class=\"react-line-number react-code-text\" style=\"padding-right:16px\">210</div><div data-line-number=\"211\" class=\"react-line-number react-code-text\" style=\"padding-right:16px\">211</div><div data-line-number=\"212\" class=\"react-line-number react-code-text\" style=\"padding-right:16px\">212</div><div data-line-number=\"213\" class=\"react-line-number react-code-text\" style=\"padding-right:16px\">213</div><div data-line-number=\"214\" class=\"react-line-number react-code-text\" style=\"padding-right:16px\">214</div><div data-line-number=\"215\" class=\"react-line-number react-code-text\" style=\"padding-right:16px\">215</div><div data-line-number=\"216\" class=\"react-line-number react-code-text\" style=\"padding-right:16px\">216</div><div data-line-number=\"217\" class=\"react-line-number react-code-text\" style=\"padding-right:16px\">217</div><div data-line-number=\"218\" class=\"react-line-number react-code-text\" style=\"padding-right:16px\">218</div><div data-line-number=\"219\" class=\"react-line-number react-code-text\" style=\"padding-right:16px\">219</div><div data-line-number=\"220\" class=\"react-line-number react-code-text\" style=\"padding-right:16px\">220</div><div data-line-number=\"221\" class=\"react-line-number react-code-text\" style=\"padding-right:16px\">221</div><div data-line-number=\"222\" class=\"react-line-number react-code-text\" style=\"padding-right:16px\">222</div><div data-line-number=\"223\" class=\"react-line-number react-code-text\" style=\"padding-right:16px\">223</div><div data-line-number=\"224\" class=\"react-line-number react-code-text\" style=\"padding-right:16px\">224</div><div data-line-number=\"225\" class=\"react-line-number react-code-text\" style=\"padding-right:16px\">225</div><div data-line-number=\"226\" class=\"react-line-number react-code-text\" style=\"padding-right:16px\">226</div><div data-line-number=\"227\" class=\"react-line-number react-code-text\" style=\"padding-right:16px\">227</div><div data-line-number=\"228\" class=\"react-line-number react-code-text\" style=\"padding-right:16px\">228</div><div data-line-number=\"229\" class=\"react-line-number react-code-text\" style=\"padding-right:16px\">229</div><div data-line-number=\"230\" class=\"react-line-number react-code-text\" style=\"padding-right:16px\">230</div><div data-line-number=\"231\" class=\"react-line-number react-code-text\" style=\"padding-right:16px\">231</div><div data-line-number=\"232\" class=\"react-line-number react-code-text\" style=\"padding-right:16px\">232</div><div data-line-number=\"233\" class=\"react-line-number react-code-text\" style=\"padding-right:16px\">233</div><div data-line-number=\"234\" class=\"react-line-number react-code-text\" style=\"padding-right:16px\">234</div><div data-line-number=\"235\" class=\"react-line-number react-code-text\" style=\"padding-right:16px\">235</div><div data-line-number=\"236\" class=\"react-line-number react-code-text\" style=\"padding-right:16px\">236</div><div data-line-number=\"237\" class=\"react-line-number react-code-text\" style=\"padding-right:16px\">237</div><div data-line-number=\"238\" class=\"react-line-number react-code-text\" style=\"padding-right:16px\">238</div><div data-line-number=\"239\" class=\"react-line-number react-code-text\" style=\"padding-right:16px\">239</div><div data-line-number=\"240\" class=\"react-line-number react-code-text\" style=\"padding-right:16px\">240</div><div data-line-number=\"241\" class=\"react-line-number react-code-text\" style=\"padding-right:16px\">241</div><div data-line-number=\"242\" class=\"react-line-number react-code-text\" style=\"padding-right:16px\">242</div><div data-line-number=\"243\" class=\"react-line-number react-code-text\" style=\"padding-right:16px\">243</div><div data-line-number=\"244\" class=\"react-line-number react-code-text\" style=\"padding-right:16px\">244</div><div data-line-number=\"245\" class=\"react-line-number react-code-text\" style=\"padding-right:16px\">245</div><div data-line-number=\"246\" class=\"react-line-number react-code-text\" style=\"padding-right:16px\">246</div><div data-line-number=\"247\" class=\"react-line-number react-code-text\" style=\"padding-right:16px\">247</div><div data-line-number=\"248\" class=\"react-line-number react-code-text\" style=\"padding-right:16px\">248</div><div data-line-number=\"249\" class=\"react-line-number react-code-text\" style=\"padding-right:16px\">249</div><div data-line-number=\"250\" class=\"react-line-number react-code-text\" style=\"padding-right:16px\">250</div><div data-line-number=\"251\" class=\"react-line-number react-code-text\" style=\"padding-right:16px\">251</div><div data-line-number=\"252\" class=\"react-line-number react-code-text\" style=\"padding-right:16px\">252</div><div data-line-number=\"253\" class=\"react-line-number react-code-text\" style=\"padding-right:16px\">253</div><div data-line-number=\"254\" class=\"react-line-number react-code-text\" style=\"padding-right:16px\">254</div><div data-line-number=\"255\" class=\"react-line-number react-code-text\" style=\"padding-right:16px\">255</div><div data-line-number=\"256\" class=\"react-line-number react-code-text\" style=\"padding-right:16px\">256</div><div data-line-number=\"257\" class=\"react-line-number react-code-text\" style=\"padding-right:16px\">257</div><div data-line-number=\"258\" class=\"react-line-number react-code-text\" style=\"padding-right:16px\">258</div><div data-line-number=\"259\" class=\"react-line-number react-code-text\" style=\"padding-right:16px\">259</div><div data-line-number=\"260\" class=\"react-line-number react-code-text\" style=\"padding-right:16px\">260</div><div data-line-number=\"261\" class=\"react-line-number react-code-text\" style=\"padding-right:16px\">261</div><div data-line-number=\"262\" class=\"react-line-number react-code-text\" style=\"padding-right:16px\">262</div><div data-line-number=\"263\" class=\"react-line-number react-code-text\" style=\"padding-right:16px\">263</div><div data-line-number=\"264\" class=\"react-line-number react-code-text\" style=\"padding-right:16px\">264</div><div data-line-number=\"265\" class=\"react-line-number react-code-text\" style=\"padding-right:16px\">265</div><div data-line-number=\"266\" class=\"react-line-number react-code-text\" style=\"padding-right:16px\">266</div><div data-line-number=\"267\" class=\"react-line-number react-code-text\" style=\"padding-right:16px\">267</div><div data-line-number=\"268\" class=\"react-line-number react-code-text\" style=\"padding-right:16px\">268</div><div data-line-number=\"269\" class=\"react-line-number react-code-text\" style=\"padding-right:16px\">269</div><div data-line-number=\"270\" class=\"react-line-number react-code-text\" style=\"padding-right:16px\">270</div><div data-line-number=\"271\" class=\"react-line-number react-code-text\" style=\"padding-right:16px\">271</div><div data-line-number=\"272\" class=\"react-line-number react-code-text\" style=\"padding-right:16px\">272</div><div data-line-number=\"273\" class=\"react-line-number react-code-text\" style=\"padding-right:16px\">273</div><div data-line-number=\"274\" class=\"react-line-number react-code-text\" style=\"padding-right:16px\">274</div><div data-line-number=\"275\" class=\"react-line-number react-code-text\" style=\"padding-right:16px\">275</div><div data-line-number=\"276\" class=\"react-line-number react-code-text\" style=\"padding-right:16px\">276</div><div data-line-number=\"277\" class=\"react-line-number react-code-text\" style=\"padding-right:16px\">277</div><div data-line-number=\"278\" class=\"react-line-number react-code-text\" style=\"padding-right:16px\">278</div><div data-line-number=\"279\" class=\"react-line-number react-code-text\" style=\"padding-right:16px\">279</div><div data-line-number=\"280\" class=\"react-line-number react-code-text\" style=\"padding-right:16px\">280</div><div data-line-number=\"281\" class=\"react-line-number react-code-text\" style=\"padding-right:16px\">281</div><div data-line-number=\"282\" class=\"react-line-number react-code-text\" style=\"padding-right:16px\">282</div><div data-line-number=\"283\" class=\"react-line-number react-code-text\" style=\"padding-right:16px\">283</div><div data-line-number=\"284\" class=\"react-line-number react-code-text\" style=\"padding-right:16px\">284</div><div data-line-number=\"285\" class=\"react-line-number react-code-text\" style=\"padding-right:16px\">285</div><div data-line-number=\"286\" class=\"react-line-number react-code-text\" style=\"padding-right:16px\">286</div><div data-line-number=\"287\" class=\"react-line-number react-code-text\" style=\"padding-right:16px\">287</div><div data-line-number=\"288\" class=\"react-line-number react-code-text\" style=\"padding-right:16px\">288</div><div data-line-number=\"289\" class=\"react-line-number react-code-text\" style=\"padding-right:16px\">289</div><div data-line-number=\"290\" class=\"react-line-number react-code-text\" style=\"padding-right:16px\">290</div><div data-line-number=\"291\" class=\"react-line-number react-code-text\" style=\"padding-right:16px\">291</div><div data-line-number=\"292\" class=\"react-line-number react-code-text\" style=\"padding-right:16px\">292</div><div data-line-number=\"293\" class=\"react-line-number react-code-text\" style=\"padding-right:16px\">293</div><div data-line-number=\"294\" class=\"react-line-number react-code-text\" style=\"padding-right:16px\">294</div><div data-line-number=\"295\" class=\"react-line-number react-code-text\" style=\"padding-right:16px\">295</div><div data-line-number=\"296\" class=\"react-line-number react-code-text\" style=\"padding-right:16px\">296</div><div data-line-number=\"297\" class=\"react-line-number react-code-text\" style=\"padding-right:16px\">297</div><div data-line-number=\"298\" class=\"react-line-number react-code-text\" style=\"padding-right:16px\">298</div><div data-line-number=\"299\" class=\"react-line-number react-code-text\" style=\"padding-right:16px\">299</div><div data-line-number=\"300\" class=\"react-line-number react-code-text\" style=\"padding-right:16px\">300</div><div data-line-number=\"301\" class=\"react-line-number react-code-text\" style=\"padding-right:16px\">301</div><div data-line-number=\"302\" class=\"react-line-number react-code-text\" style=\"padding-right:16px\">302</div><div data-line-number=\"303\" class=\"react-line-number react-code-text\" style=\"padding-right:16px\">303</div><div data-line-number=\"304\" class=\"react-line-number react-code-text\" style=\"padding-right:16px\">304</div><div data-line-number=\"305\" class=\"react-line-number react-code-text\" style=\"padding-right:16px\">305</div><div data-line-number=\"306\" class=\"react-line-number react-code-text\" style=\"padding-right:16px\">306</div><div data-line-number=\"307\" class=\"react-line-number react-code-text\" style=\"padding-right:16px\">307</div><div data-line-number=\"308\" class=\"react-line-number react-code-text\" style=\"padding-right:16px\">308</div><div data-line-number=\"309\" class=\"react-line-number react-code-text\" style=\"padding-right:16px\">309</div><div data-line-number=\"310\" class=\"react-line-number react-code-text\" style=\"padding-right:16px\">310</div><div data-line-number=\"311\" class=\"react-line-number react-code-text\" style=\"padding-right:16px\">311</div><div data-line-number=\"312\" class=\"react-line-number react-code-text\" style=\"padding-right:16px\">312</div><div data-line-number=\"313\" class=\"react-line-number react-code-text\" style=\"padding-right:16px\">313</div><div data-line-number=\"314\" class=\"react-line-number react-code-text\" style=\"padding-right:16px\">314</div><div data-line-number=\"315\" class=\"react-line-number react-code-text\" style=\"padding-right:16px\">315</div><div data-line-number=\"316\" class=\"react-line-number react-code-text\" style=\"padding-right:16px\">316</div><div data-line-number=\"317\" class=\"react-line-number react-code-text\" style=\"padding-right:16px\">317</div><div data-line-number=\"318\" class=\"react-line-number react-code-text\" style=\"padding-right:16px\">318</div><div data-line-number=\"319\" class=\"react-line-number react-code-text\" style=\"padding-right:16px\">319</div><div data-line-number=\"320\" class=\"react-line-number react-code-text\" style=\"padding-right:16px\">320</div><div data-line-number=\"321\" class=\"react-line-number react-code-text\" style=\"padding-right:16px\">321</div><div data-line-number=\"322\" class=\"react-line-number react-code-text\" style=\"padding-right:16px\">322</div><div data-line-number=\"323\" class=\"react-line-number react-code-text\" style=\"padding-right:16px\">323</div><div data-line-number=\"324\" class=\"react-line-number react-code-text\" style=\"padding-right:16px\">324</div><div data-line-number=\"325\" class=\"react-line-number react-code-text\" style=\"padding-right:16px\">325</div><div data-line-number=\"326\" class=\"react-line-number react-code-text\" style=\"padding-right:16px\">326</div><div data-line-number=\"327\" class=\"react-line-number react-code-text\" style=\"padding-right:16px\">327</div><div data-line-number=\"328\" class=\"react-line-number react-code-text\" style=\"padding-right:16px\">328</div><div data-line-number=\"329\" class=\"react-line-number react-code-text\" style=\"padding-right:16px\">329</div><div data-line-number=\"330\" class=\"react-line-number react-code-text\" style=\"padding-right:16px\">330</div><div data-line-number=\"331\" class=\"react-line-number react-code-text\" style=\"padding-right:16px\">331</div><div data-line-number=\"332\" class=\"react-line-number react-code-text\" style=\"padding-right:16px\">332</div><div data-line-number=\"333\" class=\"react-line-number react-code-text\" style=\"padding-right:16px\">333</div><div data-line-number=\"334\" class=\"react-line-number react-code-text\" style=\"padding-right:16px\">334</div><div data-line-number=\"335\" class=\"react-line-number react-code-text\" style=\"padding-right:16px\">335</div><div data-line-number=\"336\" class=\"react-line-number react-code-text\" style=\"padding-right:16px\">336</div><div data-line-number=\"337\" class=\"react-line-number react-code-text\" style=\"padding-right:16px\">337</div><div data-line-number=\"338\" class=\"react-line-number react-code-text\" style=\"padding-right:16px\">338</div><div data-line-number=\"339\" class=\"react-line-number react-code-text\" style=\"padding-right:16px\">339</div><div data-line-number=\"340\" class=\"react-line-number react-code-text\" style=\"padding-right:16px\">340</div><div data-line-number=\"341\" class=\"react-line-number react-code-text\" style=\"padding-right:16px\">341</div><div data-line-number=\"342\" class=\"react-line-number react-code-text\" style=\"padding-right:16px\">342</div><div data-line-number=\"343\" class=\"react-line-number react-code-text\" style=\"padding-right:16px\">343</div><div data-line-number=\"344\" class=\"react-line-number react-code-text\" style=\"padding-right:16px\">344</div><div data-line-number=\"345\" class=\"react-line-number react-code-text\" style=\"padding-right:16px\">345</div><div data-line-number=\"346\" class=\"react-line-number react-code-text\" style=\"padding-right:16px\">346</div><div data-line-number=\"347\" class=\"react-line-number react-code-text\" style=\"padding-right:16px\">347</div><div data-line-number=\"348\" class=\"react-line-number react-code-text\" style=\"padding-right:16px\">348</div><div data-line-number=\"349\" class=\"react-line-number react-code-text\" style=\"padding-right:16px\">349</div><div data-line-number=\"350\" class=\"react-line-number react-code-text\" style=\"padding-right:16px\">350</div><div data-line-number=\"351\" class=\"react-line-number react-code-text\" style=\"padding-right:16px\">351</div><div data-line-number=\"352\" class=\"react-line-number react-code-text\" style=\"padding-right:16px\">352</div><div data-line-number=\"353\" class=\"react-line-number react-code-text\" style=\"padding-right:16px\">353</div><div data-line-number=\"354\" class=\"react-line-number react-code-text\" style=\"padding-right:16px\">354</div><div data-line-number=\"355\" class=\"react-line-number react-code-text\" style=\"padding-right:16px\">355</div><div data-line-number=\"356\" class=\"react-line-number react-code-text\" style=\"padding-right:16px\">356</div><div data-line-number=\"357\" class=\"react-line-number react-code-text\" style=\"padding-right:16px\">357</div><div data-line-number=\"358\" class=\"react-line-number react-code-text\" style=\"padding-right:16px\">358</div><div data-line-number=\"359\" class=\"react-line-number react-code-text\" style=\"padding-right:16px\">359</div><div data-line-number=\"360\" class=\"react-line-number react-code-text\" style=\"padding-right:16px\">360</div><div data-line-number=\"361\" class=\"react-line-number react-code-text\" style=\"padding-right:16px\">361</div><div data-line-number=\"362\" class=\"react-line-number react-code-text\" style=\"padding-right:16px\">362</div><div data-line-number=\"363\" class=\"react-line-number react-code-text\" style=\"padding-right:16px\">363</div><div data-line-number=\"364\" class=\"react-line-number react-code-text\" style=\"padding-right:16px\">364</div><div data-line-number=\"365\" class=\"react-line-number react-code-text\" style=\"padding-right:16px\">365</div><div data-line-number=\"366\" class=\"react-line-number react-code-text\" style=\"padding-right:16px\">366</div><div data-line-number=\"367\" class=\"react-line-number react-code-text\" style=\"padding-right:16px\">367</div><div data-line-number=\"368\" class=\"react-line-number react-code-text\" style=\"padding-right:16px\">368</div><div data-line-number=\"369\" class=\"react-line-number react-code-text\" style=\"padding-right:16px\">369</div><div data-line-number=\"370\" class=\"react-line-number react-code-text\" style=\"padding-right:16px\">370</div><div data-line-number=\"371\" class=\"react-line-number react-code-text\" style=\"padding-right:16px\">371</div><div data-line-number=\"372\" class=\"react-line-number react-code-text\" style=\"padding-right:16px\">372</div><div data-line-number=\"373\" class=\"react-line-number react-code-text\" style=\"padding-right:16px\">373</div><div data-line-number=\"374\" class=\"react-line-number react-code-text\" style=\"padding-right:16px\">374</div><div data-line-number=\"375\" class=\"react-line-number react-code-text\" style=\"padding-right:16px\">375</div><div data-line-number=\"376\" class=\"react-line-number react-code-text\" style=\"padding-right:16px\">376</div><div data-line-number=\"377\" class=\"react-line-number react-code-text\" style=\"padding-right:16px\">377</div><div data-line-number=\"378\" class=\"react-line-number react-code-text\" style=\"padding-right:16px\">378</div><div data-line-number=\"379\" class=\"react-line-number react-code-text\" style=\"padding-right:16px\">379</div><div data-line-number=\"380\" class=\"react-line-number react-code-text\" style=\"padding-right:16px\">380</div><div data-line-number=\"381\" class=\"react-line-number react-code-text\" style=\"padding-right:16px\">381</div><div data-line-number=\"382\" class=\"react-line-number react-code-text\" style=\"padding-right:16px\">382</div><div data-line-number=\"383\" class=\"react-line-number react-code-text\" style=\"padding-right:16px\">383</div><div data-line-number=\"384\" class=\"react-line-number react-code-text\" style=\"padding-right:16px\">384</div><div data-line-number=\"385\" class=\"react-line-number react-code-text\" style=\"padding-right:16px\">385</div><div data-line-number=\"386\" class=\"react-line-number react-code-text\" style=\"padding-right:16px\">386</div><div data-line-number=\"387\" class=\"react-line-number react-code-text\" style=\"padding-right:16px\">387</div><div data-line-number=\"388\" class=\"react-line-number react-code-text\" style=\"padding-right:16px\">388</div><div data-line-number=\"389\" class=\"react-line-number react-code-text\" style=\"padding-right:16px\">389</div><div data-line-number=\"390\" class=\"react-line-number react-code-text\" style=\"padding-right:16px\">390</div><div data-line-number=\"391\" class=\"react-line-number react-code-text\" style=\"padding-right:16px\">391</div><div data-line-number=\"392\" class=\"react-line-number react-code-text\" style=\"padding-right:16px\">392</div><div data-line-number=\"393\" class=\"react-line-number react-code-text\" style=\"padding-right:16px\">393</div><div data-line-number=\"394\" class=\"react-line-number react-code-text\" style=\"padding-right:16px\">394</div><div data-line-number=\"395\" class=\"react-line-number react-code-text\" style=\"padding-right:16px\">395</div><div data-line-number=\"396\" class=\"react-line-number react-code-text\" style=\"padding-right:16px\">396</div><div data-line-number=\"397\" class=\"react-line-number react-code-text\" style=\"padding-right:16px\">397</div><div data-line-number=\"398\" class=\"react-line-number react-code-text\" style=\"padding-right:16px\">398</div><div data-line-number=\"399\" class=\"react-line-number react-code-text\" style=\"padding-right:16px\">399</div><div data-line-number=\"400\" class=\"react-line-number react-code-text\" style=\"padding-right:16px\">400</div><div data-line-number=\"401\" class=\"react-line-number react-code-text\" style=\"padding-right:16px\">401</div><div data-line-number=\"402\" class=\"react-line-number react-code-text\" style=\"padding-right:16px\">402</div><div data-line-number=\"403\" class=\"react-line-number react-code-text\" style=\"padding-right:16px\">403</div><div data-line-number=\"404\" class=\"react-line-number react-code-text\" style=\"padding-right:16px\">404</div><div data-line-number=\"405\" class=\"react-line-number react-code-text\" style=\"padding-right:16px\">405</div><div data-line-number=\"406\" class=\"react-line-number react-code-text\" style=\"padding-right:16px\">406</div><div data-line-number=\"407\" class=\"react-line-number react-code-text\" style=\"padding-right:16px\">407</div><div data-line-number=\"408\" class=\"react-line-number react-code-text\" style=\"padding-right:16px\">408</div></div><div class=\"react-code-lines\"><div class=\"react-code-text react-code-line-contents\" style=\"min-height:auto\"><div><div id=\"LC1\" class=\"react-file-line html-div\" data-testid=\"code-cell\" data-line-number=\"1\" style=\"position:relative\">Car;MPG;Cylinders;Displacement;Horsepower;Weight;Acceleration;Model;Origin</div></div></div><div class=\"react-code-text react-code-line-contents\" style=\"min-height:auto\"><div><div id=\"LC2\" class=\"react-file-line html-div\" data-testid=\"code-cell\" data-line-number=\"2\" style=\"position:relative\">STRING;DOUBLE;INT;DOUBLE;DOUBLE;DOUBLE;DOUBLE;INT;CAT</div></div></div><div class=\"react-code-text react-code-line-contents\" style=\"min-height:auto\"><div><div id=\"LC3\" class=\"react-file-line html-div\" data-testid=\"code-cell\" data-line-number=\"3\" style=\"position:relative\">Chevrolet Chevelle Malibu;18.0;8;307.0;130.0;3504.;12.0;70;US</div></div></div><div class=\"react-code-text react-code-line-contents\" style=\"min-height:auto\"><div><div id=\"LC4\" class=\"react-file-line html-div\" data-testid=\"code-cell\" data-line-number=\"4\" style=\"position:relative\">Buick Skylark 320;15.0;8;350.0;165.0;3693.;11.5;70;US</div></div></div><div class=\"react-code-text react-code-line-contents\" style=\"min-height:auto\"><div><div id=\"LC5\" class=\"react-file-line html-div\" data-testid=\"code-cell\" data-line-number=\"5\" style=\"position:relative\">Plymouth Satellite;18.0;8;318.0;150.0;3436.;11.0;70;US</div></div></div><div class=\"react-code-text react-code-line-contents\" style=\"min-height:auto\"><div><div id=\"LC6\" class=\"react-file-line html-div\" data-testid=\"code-cell\" data-line-number=\"6\" style=\"position:relative\">AMC Rebel SST;16.0;8;304.0;150.0;3433.;12.0;70;US</div></div></div><div class=\"react-code-text react-code-line-contents\" style=\"min-height:auto\"><div><div id=\"LC7\" class=\"react-file-line html-div\" data-testid=\"code-cell\" data-line-number=\"7\" style=\"position:relative\">Ford Torino;17.0;8;302.0;140.0;3449.;10.5;70;US</div></div></div><div class=\"react-code-text react-code-line-contents\" style=\"min-height:auto\"><div><div id=\"LC8\" class=\"react-file-line html-div\" data-testid=\"code-cell\" data-line-number=\"8\" style=\"position:relative\">Ford Galaxie 500;15.0;8;429.0;198.0;4341.;10.0;70;US</div></div></div><div class=\"react-code-text react-code-line-contents\" style=\"min-height:auto\"><div><div id=\"LC9\" class=\"react-file-line html-div\" data-testid=\"code-cell\" data-line-number=\"9\" style=\"position:relative\">Chevrolet Impala;14.0;8;454.0;220.0;4354.;9.0;70;US</div></div></div><div class=\"react-code-text react-code-line-contents\" style=\"min-height:auto\"><div><div id=\"LC10\" class=\"react-file-line html-div\" data-testid=\"code-cell\" data-line-number=\"10\" style=\"position:relative\">Plymouth Fury iii;14.0;8;440.0;215.0;4312.;8.5;70;US</div></div></div><div class=\"react-code-text react-code-line-contents\" style=\"min-height:auto\"><div><div id=\"LC11\" class=\"react-file-line html-div\" data-testid=\"code-cell\" data-line-number=\"11\" style=\"position:relative\">Pontiac Catalina;14.0;8;455.0;225.0;4425.;10.0;70;US</div></div></div><div class=\"react-code-text react-code-line-contents\" style=\"min-height:auto\"><div><div id=\"LC12\" class=\"react-file-line html-div\" data-testid=\"code-cell\" data-line-number=\"12\" style=\"position:relative\">AMC Ambassador DPL;15.0;8;390.0;190.0;3850.;8.5;70;US</div></div></div><div class=\"react-code-text react-code-line-contents\" style=\"min-height:auto\"><div><div id=\"LC13\" class=\"react-file-line html-div\" data-testid=\"code-cell\" data-line-number=\"13\" style=\"position:relative\">Citroen DS-21 Pallas;0;4;133.0;115.0;3090.;17.5;70;Europe</div></div></div><div class=\"react-code-text react-code-line-contents\" style=\"min-height:auto\"><div><div id=\"LC14\" class=\"react-file-line html-div\" data-testid=\"code-cell\" data-line-number=\"14\" style=\"position:relative\">Chevrolet Chevelle Concours (sw);0;8;350.0;165.0;4142.;11.5;70;US</div></div></div><div class=\"react-code-text react-code-line-contents\" style=\"min-height:auto\"><div><div id=\"LC15\" class=\"react-file-line html-div\" data-testid=\"code-cell\" data-line-number=\"15\" style=\"position:relative\">Ford Torino (sw);0;8;351.0;153.0;4034.;11.0;70;US</div></div></div><div class=\"react-code-text react-code-line-contents\" style=\"min-height:auto\"><div><div id=\"LC16\" class=\"react-file-line html-div\" data-testid=\"code-cell\" data-line-number=\"16\" style=\"position:relative\">Plymouth Satellite (sw);0;8;383.0;175.0;4166.;10.5;70;US</div></div></div><div class=\"react-code-text react-code-line-contents\" style=\"min-height:auto\"><div><div id=\"LC17\" class=\"react-file-line html-div\" data-testid=\"code-cell\" data-line-number=\"17\" style=\"position:relative\">AMC Rebel SST (sw);0;8;360.0;175.0;3850.;11.0;70;US</div></div></div><div class=\"react-code-text react-code-line-contents\" style=\"min-height:auto\"><div><div id=\"LC18\" class=\"react-file-line html-div\" data-testid=\"code-cell\" data-line-number=\"18\" style=\"position:relative\">Dodge Challenger SE;15.0;8;383.0;170.0;3563.;10.0;70;US</div></div></div><div class=\"react-code-text react-code-line-contents\" style=\"min-height:auto\"><div><div id=\"LC19\" class=\"react-file-line html-div\" data-testid=\"code-cell\" data-line-number=\"19\" style=\"position:relative\">Plymouth &#039;Cuda 340;14.0;8;340.0;160.0;3609.;8.0;70;US</div></div></div><div class=\"react-code-text react-code-line-contents\" style=\"min-height:auto\"><div><div id=\"LC20\" class=\"react-file-line html-div\" data-testid=\"code-cell\" data-line-number=\"20\" style=\"position:relative\">Ford Mustang Boss 302;0;8;302.0;140.0;3353.;8.0;70;US</div></div></div><div class=\"react-code-text react-code-line-contents\" style=\"min-height:auto\"><div><div id=\"LC21\" class=\"react-file-line html-div\" data-testid=\"code-cell\" data-line-number=\"21\" style=\"position:relative\">Chevrolet Monte Carlo;15.0;8;400.0;150.0;3761.;9.5;70;US</div></div></div><div class=\"react-code-text react-code-line-contents\" style=\"min-height:auto\"><div><div id=\"LC22\" class=\"react-file-line html-div\" data-testid=\"code-cell\" data-line-number=\"22\" style=\"position:relative\">Buick Estate Wagon (sw);14.0;8;455.0;225.0;3086.;10.0;70;US</div></div></div><div class=\"react-code-text react-code-line-contents\" style=\"min-height:auto\"><div><div id=\"LC23\" class=\"react-file-line html-div\" data-testid=\"code-cell\" data-line-number=\"23\" style=\"position:relative\">Toyota Corolla Mark ii;24.0;4;113.0;95.00;2372.;15.0;70;Japan</div></div></div><div class=\"react-code-text react-code-line-contents\" style=\"min-height:auto\"><div><div id=\"LC24\" class=\"react-file-line html-div\" data-testid=\"code-cell\" data-line-number=\"24\" style=\"position:relative\">Plymouth Duster;22.0;6;198.0;95.00;2833.;15.5;70;US</div></div></div><div class=\"react-code-text react-code-line-contents\" style=\"min-height:auto\"><div><div id=\"LC25\" class=\"react-file-line html-div\" data-testid=\"code-cell\" data-line-number=\"25\" style=\"position:relative\">AMC Hornet;18.0;6;199.0;97.00;2774.;15.5;70;US</div></div></div><div class=\"react-code-text react-code-line-contents\" style=\"min-height:auto\"><div><div id=\"LC26\" class=\"react-file-line html-div\" data-testid=\"code-cell\" data-line-number=\"26\" style=\"position:relative\">Ford Maverick;21.0;6;200.0;85.00;2587.;16.0;70;US</div></div></div><div class=\"react-code-text react-code-line-contents\" style=\"min-height:auto\"><div><div id=\"LC27\" class=\"react-file-line html-div\" data-testid=\"code-cell\" data-line-number=\"27\" style=\"position:relative\">Datsun PL510;27.0;4;97.00;88.00;2130.;14.5;70;Japan</div></div></div><div class=\"react-code-text react-code-line-contents\" style=\"min-height:auto\"><div><div id=\"LC28\" class=\"react-file-line html-div\" data-testid=\"code-cell\" data-line-number=\"28\" style=\"position:relative\">Volkswagen 1131 Deluxe Sedan;26.0;4;97.00;46.00;1835.;20.5;70;Europe</div></div></div><div class=\"react-code-text react-code-line-contents\" style=\"min-height:auto\"><div><div id=\"LC29\" class=\"react-file-line html-div\" data-testid=\"code-cell\" data-line-number=\"29\" style=\"position:relative\">Peugeot 504;25.0;4;110.0;87.00;2672.;17.5;70;Europe</div></div></div><div class=\"react-code-text react-code-line-contents\" style=\"min-height:auto\"><div><div id=\"LC30\" class=\"react-file-line html-div\" data-testid=\"code-cell\" data-line-number=\"30\" style=\"position:relative\">Audi 100 LS;24.0;4;107.0;90.00;2430.;14.5;70;Europe</div></div></div><div class=\"react-code-text react-code-line-contents\" style=\"min-height:auto\"><div><div id=\"LC31\" class=\"react-file-line html-div\" data-testid=\"code-cell\" data-line-number=\"31\" style=\"position:relative\">Saab 99e;25.0;4;104.0;95.00;2375.;17.5;70;Europe</div></div></div><div class=\"react-code-text react-code-line-contents\" style=\"min-height:auto\"><div><div id=\"LC32\" class=\"react-file-line html-div\" data-testid=\"code-cell\" data-line-number=\"32\" style=\"position:relative\">BMW 2002;26.0;4;121.0;113.0;2234.;12.5;70;Europe</div></div></div><div class=\"react-code-text react-code-line-contents\" style=\"min-height:auto\"><div><div id=\"LC33\" class=\"react-file-line html-div\" data-testid=\"code-cell\" data-line-number=\"33\" style=\"position:relative\">AMC Gremlin;21.0;6;199.0;90.00;2648.;15.0;70;US</div></div></div><div class=\"react-code-text react-code-line-contents\" style=\"min-height:auto\"><div><div id=\"LC34\" class=\"react-file-line html-div\" data-testid=\"code-cell\" data-line-number=\"34\" style=\"position:relative\">Ford F250;10.0;8;360.0;215.0;4615.;14.0;70;US</div></div></div><div class=\"react-code-text react-code-line-contents\" style=\"min-height:auto\"><div><div id=\"LC35\" class=\"react-file-line html-div\" data-testid=\"code-cell\" data-line-number=\"35\" style=\"position:relative\">Chevy C20;10.0;8;307.0;200.0;4376.;15.0;70;US</div></div></div><div class=\"react-code-text react-code-line-contents\" style=\"min-height:auto\"><div><div id=\"LC36\" class=\"react-file-line html-div\" data-testid=\"code-cell\" data-line-number=\"36\" style=\"position:relative\">Dodge D200;11.0;8;318.0;210.0;4382.;13.5;70;US</div></div></div><div class=\"react-code-text react-code-line-contents\" style=\"min-height:auto\"><div><div id=\"LC37\" class=\"react-file-line html-div\" data-testid=\"code-cell\" data-line-number=\"37\" style=\"position:relative\">Hi 1200D;9.0;8;304.0;193.0;4732.;18.5;70;US</div></div></div><div class=\"react-code-text react-code-line-contents\" style=\"min-height:auto\"><div><div id=\"LC38\" class=\"react-file-line html-div\" data-testid=\"code-cell\" data-line-number=\"38\" style=\"position:relative\">Datsun PL510;27.0;4;97.00;88.00;2130.;14.5;71;Japan</div></div></div><div class=\"react-code-text react-code-line-contents\" style=\"min-height:auto\"><div><div id=\"LC39\" class=\"react-file-line html-div\" data-testid=\"code-cell\" data-line-number=\"39\" style=\"position:relative\">Chevrolet Vega 2300;28.0;4;140.0;90.00;2264.;15.5;71;US</div></div></div><div class=\"react-code-text react-code-line-contents\" style=\"min-height:auto\"><div><div id=\"LC40\" class=\"react-file-line html-div\" data-testid=\"code-cell\" data-line-number=\"40\" style=\"position:relative\">Toyota Corolla;25.0;4;113.0;95.00;2228.;14.0;71;Japan</div></div></div><div class=\"react-code-text react-code-line-contents\" style=\"min-height:auto\"><div><div id=\"LC41\" class=\"react-file-line html-div\" data-testid=\"code-cell\" data-line-number=\"41\" style=\"position:relative\">Ford Pinto;25.0;4;98.00;0;2046.;19.0;71;US</div></div></div><div class=\"react-code-text react-code-line-contents\" style=\"min-height:auto\"><div><div id=\"LC42\" class=\"react-file-line html-div\" data-testid=\"code-cell\" data-line-number=\"42\" style=\"position:relative\">Volkswagen Super Beetle 117;0;4;97.00;48.00;1978.;20.0;71;Europe</div></div></div><div class=\"react-code-text react-code-line-contents\" style=\"min-height:auto\"><div><div id=\"LC43\" class=\"react-file-line html-div\" data-testid=\"code-cell\" data-line-number=\"43\" style=\"position:relative\">AMC Gremlin;19.0;6;232.0;100.0;2634.;13.0;71;US</div></div></div><div class=\"react-code-text react-code-line-contents\" style=\"min-height:auto\"><div><div id=\"LC44\" class=\"react-file-line html-div\" data-testid=\"code-cell\" data-line-number=\"44\" style=\"position:relative\">Plymouth Satellite Custom;16.0;6;225.0;105.0;3439.;15.5;71;US</div></div></div><div class=\"react-code-text react-code-line-contents\" style=\"min-height:auto\"><div><div id=\"LC45\" class=\"react-file-line html-div\" data-testid=\"code-cell\" data-line-number=\"45\" style=\"position:relative\">Chevrolet Chevelle Malibu;17.0;6;250.0;100.0;3329.;15.5;71;US</div></div></div><div class=\"react-code-text react-code-line-contents\" style=\"min-height:auto\"><div><div id=\"LC46\" class=\"react-file-line html-div\" data-testid=\"code-cell\" data-line-number=\"46\" style=\"position:relative\">Ford Torino 500;19.0;6;250.0;88.00;3302.;15.5;71;US</div></div></div><div class=\"react-code-text react-code-line-contents\" style=\"min-height:auto\"><div><div id=\"LC47\" class=\"react-file-line html-div\" data-testid=\"code-cell\" data-line-number=\"47\" style=\"position:relative\">AMC Matador;18.0;6;232.0;100.0;3288.;15.5;71;US</div></div></div><div class=\"react-code-text react-code-line-contents\" style=\"min-height:auto\"><div><div id=\"LC48\" class=\"react-file-line html-div\" data-testid=\"code-cell\" data-line-number=\"48\" style=\"position:relative\">Chevrolet Impala;14.0;8;350.0;165.0;4209.;12.0;71;US</div></div></div><div class=\"react-code-text react-code-line-contents\" style=\"min-height:auto\"><div><div id=\"LC49\" class=\"react-file-line html-div\" data-testid=\"code-cell\" data-line-number=\"49\" style=\"position:relative\">Pontiac Catalina Brougham;14.0;8;400.0;175.0;4464.;11.5;71;US</div></div></div><div class=\"react-code-text react-code-line-contents\" style=\"min-height:auto\"><div><div id=\"LC50\" class=\"react-file-line html-div\" data-testid=\"code-cell\" data-line-number=\"50\" style=\"position:relative\">Ford Galaxie 500;14.0;8;351.0;153.0;4154.;13.5;71;US</div></div></div><div class=\"react-code-text react-code-line-contents\" style=\"min-height:auto\"><div><div id=\"LC51\" class=\"react-file-line html-div\" data-testid=\"code-cell\" data-line-number=\"51\" style=\"position:relative\">Plymouth Fury iii;14.0;8;318.0;150.0;4096.;13.0;71;US</div></div></div><div class=\"react-code-text react-code-line-contents\" style=\"min-height:auto\"><div><div id=\"LC52\" class=\"react-file-line html-div\" data-testid=\"code-cell\" data-line-number=\"52\" style=\"position:relative\">Dodge Monaco (sw);12.0;8;383.0;180.0;4955.;11.5;71;US</div></div></div><div class=\"react-code-text react-code-line-contents\" style=\"min-height:auto\"><div><div id=\"LC53\" class=\"react-file-line html-div\" data-testid=\"code-cell\" data-line-number=\"53\" style=\"position:relative\">Ford Country Squire (sw);13.0;8;400.0;170.0;4746.;12.0;71;US</div></div></div><div class=\"react-code-text react-code-line-contents\" style=\"min-height:auto\"><div><div id=\"LC54\" class=\"react-file-line html-div\" data-testid=\"code-cell\" data-line-number=\"54\" style=\"position:relative\">Pontiac Safari (sw);13.0;8;400.0;175.0;5140.;12.0;71;US</div></div></div><div class=\"react-code-text react-code-line-contents\" style=\"min-height:auto\"><div><div id=\"LC55\" class=\"react-file-line html-div\" data-testid=\"code-cell\" data-line-number=\"55\" style=\"position:relative\">AMC Hornet Sportabout (sw);18.0;6;258.0;110.0;2962.;13.5;71;US</div></div></div><div class=\"react-code-text react-code-line-contents\" style=\"min-height:auto\"><div><div id=\"LC56\" class=\"react-file-line html-div\" data-testid=\"code-cell\" data-line-number=\"56\" style=\"position:relative\">Chevrolet Vega (sw);22.0;4;140.0;72.00;2408.;19.0;71;US</div></div></div><div class=\"react-code-text react-code-line-contents\" style=\"min-height:auto\"><div><div id=\"LC57\" class=\"react-file-line html-div\" data-testid=\"code-cell\" data-line-number=\"57\" style=\"position:relative\">Pontiac Firebird;19.0;6;250.0;100.0;3282.;15.0;71;US</div></div></div><div class=\"react-code-text react-code-line-contents\" style=\"min-height:auto\"><div><div id=\"LC58\" class=\"react-file-line html-div\" data-testid=\"code-cell\" data-line-number=\"58\" style=\"position:relative\">Ford Mustang;18.0;6;250.0;88.00;3139.;14.5;71;US</div></div></div><div class=\"react-code-text react-code-line-contents\" style=\"min-height:auto\"><div><div id=\"LC59\" class=\"react-file-line html-div\" data-testid=\"code-cell\" data-line-number=\"59\" style=\"position:relative\">Mercury Capri 2000;23.0;4;122.0;86.00;2220.;14.0;71;US</div></div></div><div class=\"react-code-text react-code-line-contents\" style=\"min-height:auto\"><div><div id=\"LC60\" class=\"react-file-line html-div\" data-testid=\"code-cell\" data-line-number=\"60\" style=\"position:relative\">Opel 1900;28.0;4;116.0;90.00;2123.;14.0;71;Europe</div></div></div><div class=\"react-code-text react-code-line-contents\" style=\"min-height:auto\"><div><div id=\"LC61\" class=\"react-file-line html-div\" data-testid=\"code-cell\" data-line-number=\"61\" style=\"position:relative\">Peugeot 304;30.0;4;79.00;70.00;2074.;19.5;71;Europe</div></div></div><div class=\"react-code-text react-code-line-contents\" style=\"min-height:auto\"><div><div id=\"LC62\" class=\"react-file-line html-div\" data-testid=\"code-cell\" data-line-number=\"62\" style=\"position:relative\">Fiat 124B;30.0;4;88.00;76.00;2065.;14.5;71;Europe</div></div></div><div class=\"react-code-text react-code-line-contents\" style=\"min-height:auto\"><div><div id=\"LC63\" class=\"react-file-line html-div\" data-testid=\"code-cell\" data-line-number=\"63\" style=\"position:relative\">Toyota Corolla 1200;31.0;4;71.00;65.00;1773.;19.0;71;Japan</div></div></div><div class=\"react-code-text react-code-line-contents\" style=\"min-height:auto\"><div><div id=\"LC64\" class=\"react-file-line html-div\" data-testid=\"code-cell\" data-line-number=\"64\" style=\"position:relative\">Datsun 1200;35.0;4;72.00;69.00;1613.;18.0;71;Japan</div></div></div><div class=\"react-code-text react-code-line-contents\" style=\"min-height:auto\"><div><div id=\"LC65\" class=\"react-file-line html-div\" data-testid=\"code-cell\" data-line-number=\"65\" style=\"position:relative\">Volkswagen Model 111;27.0;4;97.00;60.00;1834.;19.0;71;Europe</div></div></div><div class=\"react-code-text react-code-line-contents\" style=\"min-height:auto\"><div><div id=\"LC66\" class=\"react-file-line html-div\" data-testid=\"code-cell\" data-line-number=\"66\" style=\"position:relative\">Plymouth Cricket;26.0;4;91.00;70.00;1955.;20.5;71;US</div></div></div><div class=\"react-code-text react-code-line-contents\" style=\"min-height:auto\"><div><div id=\"LC67\" class=\"react-file-line html-div\" data-testid=\"code-cell\" data-line-number=\"67\" style=\"position:relative\">Toyota Corolla Hardtop;24.0;4;113.0;95.00;2278.;15.5;72;Japan</div></div></div><div class=\"react-code-text react-code-line-contents\" style=\"min-height:auto\"><div><div id=\"LC68\" class=\"react-file-line html-div\" data-testid=\"code-cell\" data-line-number=\"68\" style=\"position:relative\">Dodge Colt Hardtop;25.0;4;97.50;80.00;2126.;17.0;72;US</div></div></div><div class=\"react-code-text react-code-line-contents\" style=\"min-height:auto\"><div><div id=\"LC69\" class=\"react-file-line html-div\" data-testid=\"code-cell\" data-line-number=\"69\" style=\"position:relative\">Volkswagen Type 3;23.0;4;97.00;54.00;2254.;23.5;72;Europe</div></div></div><div class=\"react-code-text react-code-line-contents\" style=\"min-height:auto\"><div><div id=\"LC70\" class=\"react-file-line html-div\" data-testid=\"code-cell\" data-line-number=\"70\" style=\"position:relative\">Chevrolet Vega;20.0;4;140.0;90.00;2408.;19.5;72;US</div></div></div><div class=\"react-code-text react-code-line-contents\" style=\"min-height:auto\"><div><div id=\"LC71\" class=\"react-file-line html-div\" data-testid=\"code-cell\" data-line-number=\"71\" style=\"position:relative\">Ford Pinto Runabout;21.0;4;122.0;86.00;2226.;16.5;72;US</div></div></div><div class=\"react-code-text react-code-line-contents\" style=\"min-height:auto\"><div><div id=\"LC72\" class=\"react-file-line html-div\" data-testid=\"code-cell\" data-line-number=\"72\" style=\"position:relative\">Chevrolet Impala;13.0;8;350.0;165.0;4274.;12.0;72;US</div></div></div><div class=\"react-code-text react-code-line-contents\" style=\"min-height:auto\"><div><div id=\"LC73\" class=\"react-file-line html-div\" data-testid=\"code-cell\" data-line-number=\"73\" style=\"position:relative\">Pontiac Catalina;14.0;8;400.0;175.0;4385.;12.0;72;US</div></div></div><div class=\"react-code-text react-code-line-contents\" style=\"min-height:auto\"><div><div id=\"LC74\" class=\"react-file-line html-div\" data-testid=\"code-cell\" data-line-number=\"74\" style=\"position:relative\">Plymouth Fury III;15.0;8;318.0;150.0;4135.;13.5;72;US</div></div></div><div class=\"react-code-text react-code-line-contents\" style=\"min-height:auto\"><div><div id=\"LC75\" class=\"react-file-line html-div\" data-testid=\"code-cell\" data-line-number=\"75\" style=\"position:relative\">Ford Galaxie 500;14.0;8;351.0;153.0;4129.;13.0;72;US</div></div></div><div class=\"react-code-text react-code-line-contents\" style=\"min-height:auto\"><div><div id=\"LC76\" class=\"react-file-line html-div\" data-testid=\"code-cell\" data-line-number=\"76\" style=\"position:relative\">AMC Ambassador SST;17.0;8;304.0;150.0;3672.;11.5;72;US</div></div></div><div class=\"react-code-text react-code-line-contents\" style=\"min-height:auto\"><div><div id=\"LC77\" class=\"react-file-line html-div\" data-testid=\"code-cell\" data-line-number=\"77\" style=\"position:relative\">Mercury Marquis;11.0;8;429.0;208.0;4633.;11.0;72;US</div></div></div><div class=\"react-code-text react-code-line-contents\" style=\"min-height:auto\"><div><div id=\"LC78\" class=\"react-file-line html-div\" data-testid=\"code-cell\" data-line-number=\"78\" style=\"position:relative\">Buick LeSabre Custom;13.0;8;350.0;155.0;4502.;13.5;72;US</div></div></div><div class=\"react-code-text react-code-line-contents\" style=\"min-height:auto\"><div><div id=\"LC79\" class=\"react-file-line html-div\" data-testid=\"code-cell\" data-line-number=\"79\" style=\"position:relative\">Oldsmobile Delta 88 Royale;12.0;8;350.0;160.0;4456.;13.5;72;US</div></div></div><div class=\"react-code-text react-code-line-contents\" style=\"min-height:auto\"><div><div id=\"LC80\" class=\"react-file-line html-div\" data-testid=\"code-cell\" data-line-number=\"80\" style=\"position:relative\">Chrysler Newport Royal;13.0;8;400.0;190.0;4422.;12.5;72;US</div></div></div><div class=\"react-code-text react-code-line-contents\" style=\"min-height:auto\"><div><div id=\"LC81\" class=\"react-file-line html-div\" data-testid=\"code-cell\" data-line-number=\"81\" style=\"position:relative\">Mazda RX2 Coupe;19.0;3;70.00;97.00;2330.;13.5;72;Japan</div></div></div><div class=\"react-code-text react-code-line-contents\" style=\"min-height:auto\"><div><div id=\"LC82\" class=\"react-file-line html-div\" data-testid=\"code-cell\" data-line-number=\"82\" style=\"position:relative\">AMC Matador (sw);15.0;8;304.0;150.0;3892.;12.5;72;US</div></div></div><div class=\"react-code-text react-code-line-contents\" style=\"min-height:auto\"><div><div id=\"LC83\" class=\"react-file-line html-div\" data-testid=\"code-cell\" data-line-number=\"83\" style=\"position:relative\">Chevrolet Chevelle Concours (sw);13.0;8;307.0;130.0;4098.;14.0;72;US</div></div></div><div class=\"react-code-text react-code-line-contents\" style=\"min-height:auto\"><div><div id=\"LC84\" class=\"react-file-line html-div\" data-testid=\"code-cell\" data-line-number=\"84\" style=\"position:relative\">Ford Gran Torino (sw);13.0;8;302.0;140.0;4294.;16.0;72;US</div></div></div><div class=\"react-code-text react-code-line-contents\" style=\"min-height:auto\"><div><div id=\"LC85\" class=\"react-file-line html-div\" data-testid=\"code-cell\" data-line-number=\"85\" style=\"position:relative\">Plymouth Satellite Custom (sw);14.0;8;318.0;150.0;4077.;14.0;72;US</div></div></div><div class=\"react-code-text react-code-line-contents\" style=\"min-height:auto\"><div><div id=\"LC86\" class=\"react-file-line html-div\" data-testid=\"code-cell\" data-line-number=\"86\" style=\"position:relative\">Volvo 145e (sw);18.0;4;121.0;112.0;2933.;14.5;72;Europe</div></div></div><div class=\"react-code-text react-code-line-contents\" style=\"min-height:auto\"><div><div id=\"LC87\" class=\"react-file-line html-div\" data-testid=\"code-cell\" data-line-number=\"87\" style=\"position:relative\">Volkswagen 411 (sw);22.0;4;121.0;76.00;2511.;18.0;72;Europe</div></div></div><div class=\"react-code-text react-code-line-contents\" style=\"min-height:auto\"><div><div id=\"LC88\" class=\"react-file-line html-div\" data-testid=\"code-cell\" data-line-number=\"88\" style=\"position:relative\">Peugeot 504 (sw);21.0;4;120.0;87.00;2979.;19.5;72;Europe</div></div></div><div class=\"react-code-text react-code-line-contents\" style=\"min-height:auto\"><div><div id=\"LC89\" class=\"react-file-line html-div\" data-testid=\"code-cell\" data-line-number=\"89\" style=\"position:relative\">Renault 12 (sw);26.0;4;96.00;69.00;2189.;18.0;72;Europe</div></div></div><div class=\"react-code-text react-code-line-contents\" style=\"min-height:auto\"><div><div id=\"LC90\" class=\"react-file-line html-div\" data-testid=\"code-cell\" data-line-number=\"90\" style=\"position:relative\">Ford Pinto (sw);22.0;4;122.0;86.00;2395.;16.0;72;US</div></div></div><div class=\"react-code-text react-code-line-contents\" style=\"min-height:auto\"><div><div id=\"LC91\" class=\"react-file-line html-div\" data-testid=\"code-cell\" data-line-number=\"91\" style=\"position:relative\">Datsun 510 (sw);28.0;4;97.00;92.00;2288.;17.0;72;Japan</div></div></div><div class=\"react-code-text react-code-line-contents\" style=\"min-height:auto\"><div><div id=\"LC92\" class=\"react-file-line html-div\" data-testid=\"code-cell\" data-line-number=\"92\" style=\"position:relative\">Toyota Corolla Mark II (sw);23.0;4;120.0;97.00;2506.;14.5;72;Japan</div></div></div><div class=\"react-code-text react-code-line-contents\" style=\"min-height:auto\"><div><div id=\"LC93\" class=\"react-file-line html-div\" data-testid=\"code-cell\" data-line-number=\"93\" style=\"position:relative\">Dodge Colt (sw);28.0;4;98.00;80.00;2164.;15.0;72;US</div></div></div><div class=\"react-code-text react-code-line-contents\" style=\"min-height:auto\"><div><div id=\"LC94\" class=\"react-file-line html-div\" data-testid=\"code-cell\" data-line-number=\"94\" style=\"position:relative\">Toyota Corolla 1600 (sw);27.0;4;97.00;88.00;2100.;16.5;72;Japan</div></div></div><div class=\"react-code-text react-code-line-contents\" style=\"min-height:auto\"><div><div id=\"LC95\" class=\"react-file-line html-div\" data-testid=\"code-cell\" data-line-number=\"95\" style=\"position:relative\">Buick Century 350;13.0;8;350.0;175.0;4100.;13.0;73;US</div></div></div><div class=\"react-code-text react-code-line-contents\" style=\"min-height:auto\"><div><div id=\"LC96\" class=\"react-file-line html-div\" data-testid=\"code-cell\" data-line-number=\"96\" style=\"position:relative\">AMC Matador;14.0;8;304.0;150.0;3672.;11.5;73;US</div></div></div><div class=\"react-code-text react-code-line-contents\" style=\"min-height:auto\"><div><div id=\"LC97\" class=\"react-file-line html-div\" data-testid=\"code-cell\" data-line-number=\"97\" style=\"position:relative\">Chevrolet Malibu;13.0;8;350.0;145.0;3988.;13.0;73;US</div></div></div><div class=\"react-code-text react-code-line-contents\" style=\"min-height:auto\"><div><div id=\"LC98\" class=\"react-file-line html-div\" data-testid=\"code-cell\" data-line-number=\"98\" style=\"position:relative\">Ford Gran Torino;14.0;8;302.0;137.0;4042.;14.5;73;US</div></div></div><div class=\"react-code-text react-code-line-contents\" style=\"min-height:auto\"><div><div id=\"LC99\" class=\"react-file-line html-div\" data-testid=\"code-cell\" data-line-number=\"99\" style=\"position:relative\">Dodge Coronet Custom;15.0;8;318.0;150.0;3777.;12.5;73;US</div></div></div><div class=\"react-code-text react-code-line-contents\" style=\"min-height:auto\"><div><div id=\"LC100\" class=\"react-file-line html-div\" data-testid=\"code-cell\" data-line-number=\"100\" style=\"position:relative\">Mercury Marquis Brougham;12.0;8;429.0;198.0;4952.;11.5;73;US</div></div></div><div class=\"react-code-text react-code-line-contents\" style=\"min-height:auto\"><div><div id=\"LC101\" class=\"react-file-line html-div\" data-testid=\"code-cell\" data-line-number=\"101\" style=\"position:relative\">Chevrolet Caprice Classic;13.0;8;400.0;150.0;4464.;12.0;73;US</div></div></div><div class=\"react-code-text react-code-line-contents\" style=\"min-height:auto\"><div><div id=\"LC102\" class=\"react-file-line html-div\" data-testid=\"code-cell\" data-line-number=\"102\" style=\"position:relative\">Ford LTD;13.0;8;351.0;158.0;4363.;13.0;73;US</div></div></div><div class=\"react-code-text react-code-line-contents\" style=\"min-height:auto\"><div><div id=\"LC103\" class=\"react-file-line html-div\" data-testid=\"code-cell\" data-line-number=\"103\" style=\"position:relative\">Plymouth Fury Gran Sedan;14.0;8;318.0;150.0;4237.;14.5;73;US</div></div></div><div class=\"react-code-text react-code-line-contents\" style=\"min-height:auto\"><div><div id=\"LC104\" class=\"react-file-line html-div\" data-testid=\"code-cell\" data-line-number=\"104\" style=\"position:relative\">Chrysler New Yorker Brougham;13.0;8;440.0;215.0;4735.;11.0;73;US</div></div></div><div class=\"react-code-text react-code-line-contents\" style=\"min-height:auto\"><div><div id=\"LC105\" class=\"react-file-line html-div\" data-testid=\"code-cell\" data-line-number=\"105\" style=\"position:relative\">Buick Electra 225 Custom;12.0;8;455.0;225.0;4951.;11.0;73;US</div></div></div><div class=\"react-code-text react-code-line-contents\" style=\"min-height:auto\"><div><div id=\"LC106\" class=\"react-file-line html-div\" data-testid=\"code-cell\" data-line-number=\"106\" style=\"position:relative\">AMC Ambassador Brougham;13.0;8;360.0;175.0;3821.;11.0;73;US</div></div></div><div class=\"react-code-text react-code-line-contents\" style=\"min-height:auto\"><div><div id=\"LC107\" class=\"react-file-line html-div\" data-testid=\"code-cell\" data-line-number=\"107\" style=\"position:relative\">Plymouth Valiant;18.0;6;225.0;105.0;3121.;16.5;73;US</div></div></div><div class=\"react-code-text react-code-line-contents\" style=\"min-height:auto\"><div><div id=\"LC108\" class=\"react-file-line html-div\" data-testid=\"code-cell\" data-line-number=\"108\" style=\"position:relative\">Chevrolet Nova Custom;16.0;6;250.0;100.0;3278.;18.0;73;US</div></div></div><div class=\"react-code-text react-code-line-contents\" style=\"min-height:auto\"><div><div id=\"LC109\" class=\"react-file-line html-div\" data-testid=\"code-cell\" data-line-number=\"109\" style=\"position:relative\">AMC Hornet;18.0;6;232.0;100.0;2945.;16.0;73;US</div></div></div><div class=\"react-code-text react-code-line-contents\" style=\"min-height:auto\"><div><div id=\"LC110\" class=\"react-file-line html-div\" data-testid=\"code-cell\" data-line-number=\"110\" style=\"position:relative\">Ford Maverick;18.0;6;250.0;88.00;3021.;16.5;73;US</div></div></div><div class=\"react-code-text react-code-line-contents\" style=\"min-height:auto\"><div><div id=\"LC111\" class=\"react-file-line html-div\" data-testid=\"code-cell\" data-line-number=\"111\" style=\"position:relative\">Plymouth Duster;23.0;6;198.0;95.00;2904.;16.0;73;US</div></div></div><div class=\"react-code-text react-code-line-contents\" style=\"min-height:auto\"><div><div id=\"LC112\" class=\"react-file-line html-div\" data-testid=\"code-cell\" data-line-number=\"112\" style=\"position:relative\">Volkswagen Super Beetle;26.0;4;97.00;46.00;1950.;21.0;73;Europe</div></div></div><div class=\"react-code-text react-code-line-contents\" style=\"min-height:auto\"><div><div id=\"LC113\" class=\"react-file-line html-div\" data-testid=\"code-cell\" data-line-number=\"113\" style=\"position:relative\">Chevrolet Impala;11.0;8;400.0;150.0;4997.;14.0;73;US</div></div></div><div class=\"react-code-text react-code-line-contents\" style=\"min-height:auto\"><div><div id=\"LC114\" class=\"react-file-line html-div\" data-testid=\"code-cell\" data-line-number=\"114\" style=\"position:relative\">Ford Country;12.0;8;400.0;167.0;4906.;12.5;73;US</div></div></div><div class=\"react-code-text react-code-line-contents\" style=\"min-height:auto\"><div><div id=\"LC115\" class=\"react-file-line html-div\" data-testid=\"code-cell\" data-line-number=\"115\" style=\"position:relative\">Plymouth Custom Suburb;13.0;8;360.0;170.0;4654.;13.0;73;US</div></div></div><div class=\"react-code-text react-code-line-contents\" style=\"min-height:auto\"><div><div id=\"LC116\" class=\"react-file-line html-div\" data-testid=\"code-cell\" data-line-number=\"116\" style=\"position:relative\">Oldsmobile Vista Cruiser;12.0;8;350.0;180.0;4499.;12.5;73;US</div></div></div><div class=\"react-code-text react-code-line-contents\" style=\"min-height:auto\"><div><div id=\"LC117\" class=\"react-file-line html-div\" data-testid=\"code-cell\" data-line-number=\"117\" style=\"position:relative\">AMC Gremlin;18.0;6;232.0;100.0;2789.;15.0;73;US</div></div></div><div class=\"react-code-text react-code-line-contents\" style=\"min-height:auto\"><div><div id=\"LC118\" class=\"react-file-line html-div\" data-testid=\"code-cell\" data-line-number=\"118\" style=\"position:relative\">Toyota Camry;20.0;4;97.00;88.00;2279.;19.0;73;Japan</div></div></div><div class=\"react-code-text react-code-line-contents\" style=\"min-height:auto\"><div><div id=\"LC119\" class=\"react-file-line html-div\" data-testid=\"code-cell\" data-line-number=\"119\" style=\"position:relative\">Chevrolet Vega;21.0;4;140.0;72.00;2401.;19.5;73;US</div></div></div><div class=\"react-code-text react-code-line-contents\" style=\"min-height:auto\"><div><div id=\"LC120\" class=\"react-file-line html-div\" data-testid=\"code-cell\" data-line-number=\"120\" style=\"position:relative\">Datsun 610;22.0;4;108.0;94.00;2379.;16.5;73;Japan</div></div></div><div class=\"react-code-text react-code-line-contents\" style=\"min-height:auto\"><div><div id=\"LC121\" class=\"react-file-line html-div\" data-testid=\"code-cell\" data-line-number=\"121\" style=\"position:relative\">Mazda RX3;18.0;3;70.00;90.00;2124.;13.5;73;Japan</div></div></div><div class=\"react-code-text react-code-line-contents\" style=\"min-height:auto\"><div><div id=\"LC122\" class=\"react-file-line html-div\" data-testid=\"code-cell\" data-line-number=\"122\" style=\"position:relative\">Ford Pinto;19.0;4;122.0;85.00;2310.;18.5;73;US</div></div></div><div class=\"react-code-text react-code-line-contents\" style=\"min-height:auto\"><div><div id=\"LC123\" class=\"react-file-line html-div\" data-testid=\"code-cell\" data-line-number=\"123\" style=\"position:relative\">Mercury Capri v6;21.0;6;155.0;107.0;2472.;14.0;73;US</div></div></div><div class=\"react-code-text react-code-line-contents\" style=\"min-height:auto\"><div><div id=\"LC124\" class=\"react-file-line html-div\" data-testid=\"code-cell\" data-line-number=\"124\" style=\"position:relative\">Fiat 124 Sport Coupe;26.0;4;98.00;90.00;2265.;15.5;73;Europe</div></div></div><div class=\"react-code-text react-code-line-contents\" style=\"min-height:auto\"><div><div id=\"LC125\" class=\"react-file-line html-div\" data-testid=\"code-cell\" data-line-number=\"125\" style=\"position:relative\">Chevrolet Monte Carlo S;15.0;8;350.0;145.0;4082.;13.0;73;US</div></div></div><div class=\"react-code-text react-code-line-contents\" style=\"min-height:auto\"><div><div id=\"LC126\" class=\"react-file-line html-div\" data-testid=\"code-cell\" data-line-number=\"126\" style=\"position:relative\">Pontiac Grand Prix;16.0;8;400.0;230.0;4278.;9.50;73;US</div></div></div><div class=\"react-code-text react-code-line-contents\" style=\"min-height:auto\"><div><div id=\"LC127\" class=\"react-file-line html-div\" data-testid=\"code-cell\" data-line-number=\"127\" style=\"position:relative\">Fiat 128;29.0;4;68.00;49.00;1867.;19.5;73;Europe</div></div></div><div class=\"react-code-text react-code-line-contents\" style=\"min-height:auto\"><div><div id=\"LC128\" class=\"react-file-line html-div\" data-testid=\"code-cell\" data-line-number=\"128\" style=\"position:relative\">Opel Manta;24.0;4;116.0;75.00;2158.;15.5;73;Europe</div></div></div><div class=\"react-code-text react-code-line-contents\" style=\"min-height:auto\"><div><div id=\"LC129\" class=\"react-file-line html-div\" data-testid=\"code-cell\" data-line-number=\"129\" style=\"position:relative\">Audi 100LS;20.0;4;114.0;91.00;2582.;14.0;73;Europe</div></div></div><div class=\"react-code-text react-code-line-contents\" style=\"min-height:auto\"><div><div id=\"LC130\" class=\"react-file-line html-div\" data-testid=\"code-cell\" data-line-number=\"130\" style=\"position:relative\">Volvo 144ea;19.0;4;121.0;112.0;2868.;15.5;73;Europe</div></div></div><div class=\"react-code-text react-code-line-contents\" style=\"min-height:auto\"><div><div id=\"LC131\" class=\"react-file-line html-div\" data-testid=\"code-cell\" data-line-number=\"131\" style=\"position:relative\">Dodge Dart Custom;15.0;8;318.0;150.0;3399.;11.0;73;US</div></div></div><div class=\"react-code-text react-code-line-contents\" style=\"min-height:auto\"><div><div id=\"LC132\" class=\"react-file-line html-div\" data-testid=\"code-cell\" data-line-number=\"132\" style=\"position:relative\">Saab 99le;24.0;4;121.0;110.0;2660.;14.0;73;Europe</div></div></div><div class=\"react-code-text react-code-line-contents\" style=\"min-height:auto\"><div><div id=\"LC133\" class=\"react-file-line html-div\" data-testid=\"code-cell\" data-line-number=\"133\" style=\"position:relative\">Toyota Mark II;20.0;6;156.0;122.0;2807.;13.5;73;Japan</div></div></div><div class=\"react-code-text react-code-line-contents\" style=\"min-height:auto\"><div><div id=\"LC134\" class=\"react-file-line html-div\" data-testid=\"code-cell\" data-line-number=\"134\" style=\"position:relative\">Oldsmobile Omega;11.0;8;350.0;180.0;3664.;11.0;73;US</div></div></div><div class=\"react-code-text react-code-line-contents\" style=\"min-height:auto\"><div><div id=\"LC135\" class=\"react-file-line html-div\" data-testid=\"code-cell\" data-line-number=\"135\" style=\"position:relative\">Plymouth Duster;20.0;6;198.0;95.00;3102.;16.5;74;US</div></div></div><div class=\"react-code-text react-code-line-contents\" style=\"min-height:auto\"><div><div id=\"LC136\" class=\"react-file-line html-div\" data-testid=\"code-cell\" data-line-number=\"136\" style=\"position:relative\">Ford Maverick;21.0;6;200.0;0;2875.;17.0;74;US</div></div></div><div class=\"react-code-text react-code-line-contents\" style=\"min-height:auto\"><div><div id=\"LC137\" class=\"react-file-line html-div\" data-testid=\"code-cell\" data-line-number=\"137\" style=\"position:relative\">AMC Hornet;19.0;6;232.0;100.0;2901.;16.0;74;US</div></div></div><div class=\"react-code-text react-code-line-contents\" style=\"min-height:auto\"><div><div id=\"LC138\" class=\"react-file-line html-div\" data-testid=\"code-cell\" data-line-number=\"138\" style=\"position:relative\">Chevrolet Nova;15.0;6;250.0;100.0;3336.;17.0;74;US</div></div></div><div class=\"react-code-text react-code-line-contents\" style=\"min-height:auto\"><div><div id=\"LC139\" class=\"react-file-line html-div\" data-testid=\"code-cell\" data-line-number=\"139\" style=\"position:relative\">Datsun B210;31.0;4;79.00;67.00;1950.;19.0;74;Japan</div></div></div><div class=\"react-code-text react-code-line-contents\" style=\"min-height:auto\"><div><div id=\"LC140\" class=\"react-file-line html-div\" data-testid=\"code-cell\" data-line-number=\"140\" style=\"position:relative\">Ford Pinto;26.0;4;122.0;80.00;2451.;16.5;74;US</div></div></div><div class=\"react-code-text react-code-line-contents\" style=\"min-height:auto\"><div><div id=\"LC141\" class=\"react-file-line html-div\" data-testid=\"code-cell\" data-line-number=\"141\" style=\"position:relative\">Toyota Corolla 1200;32.0;4;71.00;65.00;1836.;21.0;74;Japan</div></div></div><div class=\"react-code-text react-code-line-contents\" style=\"min-height:auto\"><div><div id=\"LC142\" class=\"react-file-line html-div\" data-testid=\"code-cell\" data-line-number=\"142\" style=\"position:relative\">Chevrolet Vega;25.0;4;140.0;75.00;2542.;17.0;74;US</div></div></div><div class=\"react-code-text react-code-line-contents\" style=\"min-height:auto\"><div><div id=\"LC143\" class=\"react-file-line html-div\" data-testid=\"code-cell\" data-line-number=\"143\" style=\"position:relative\">Chevrolet Chevelle Malibu Classic;16.0;6;250.0;100.0;3781.;17.0;74;US</div></div></div><div class=\"react-code-text react-code-line-contents\" style=\"min-height:auto\"><div><div id=\"LC144\" class=\"react-file-line html-div\" data-testid=\"code-cell\" data-line-number=\"144\" style=\"position:relative\">AMC Matador;16.0;6;258.0;110.0;3632.;18.0;74;US</div></div></div><div class=\"react-code-text react-code-line-contents\" style=\"min-height:auto\"><div><div id=\"LC145\" class=\"react-file-line html-div\" data-testid=\"code-cell\" data-line-number=\"145\" style=\"position:relative\">Plymouth Satellite Sebring;18.0;6;225.0;105.0;3613.;16.5;74;US</div></div></div><div class=\"react-code-text react-code-line-contents\" style=\"min-height:auto\"><div><div id=\"LC146\" class=\"react-file-line html-div\" data-testid=\"code-cell\" data-line-number=\"146\" style=\"position:relative\">Ford Gran Torino;16.0;8;302.0;140.0;4141.;14.0;74;US</div></div></div><div class=\"react-code-text react-code-line-contents\" style=\"min-height:auto\"><div><div id=\"LC147\" class=\"react-file-line html-div\" data-testid=\"code-cell\" data-line-number=\"147\" style=\"position:relative\">Buick Century Luxus (sw);13.0;8;350.0;150.0;4699.;14.5;74;US</div></div></div><div class=\"react-code-text react-code-line-contents\" style=\"min-height:auto\"><div><div id=\"LC148\" class=\"react-file-line html-div\" data-testid=\"code-cell\" data-line-number=\"148\" style=\"position:relative\">Dodge Coronet Custom (sw);14.0;8;318.0;150.0;4457.;13.5;74;US</div></div></div><div class=\"react-code-text react-code-line-contents\" style=\"min-height:auto\"><div><div id=\"LC149\" class=\"react-file-line html-div\" data-testid=\"code-cell\" data-line-number=\"149\" style=\"position:relative\">Ford Gran Torino (sw);14.0;8;302.0;140.0;4638.;16.0;74;US</div></div></div><div class=\"react-code-text react-code-line-contents\" style=\"min-height:auto\"><div><div id=\"LC150\" class=\"react-file-line html-div\" data-testid=\"code-cell\" data-line-number=\"150\" style=\"position:relative\">AMC Matador (sw);14.0;8;304.0;150.0;4257.;15.5;74;US</div></div></div><div class=\"react-code-text react-code-line-contents\" style=\"min-height:auto\"><div><div id=\"LC151\" class=\"react-file-line html-div\" data-testid=\"code-cell\" data-line-number=\"151\" style=\"position:relative\">Audi Fox;29.0;4;98.00;83.00;2219.;16.5;74;Europe</div></div></div><div class=\"react-code-text react-code-line-contents\" style=\"min-height:auto\"><div><div id=\"LC152\" class=\"react-file-line html-div\" data-testid=\"code-cell\" data-line-number=\"152\" style=\"position:relative\">Volkswagen Dasher;26.0;4;79.00;67.00;1963.;15.5;74;Europe</div></div></div><div class=\"react-code-text react-code-line-contents\" style=\"min-height:auto\"><div><div id=\"LC153\" class=\"react-file-line html-div\" data-testid=\"code-cell\" data-line-number=\"153\" style=\"position:relative\">Opel Manta;26.0;4;97.00;78.00;2300.;14.5;74;Europe</div></div></div><div class=\"react-code-text react-code-line-contents\" style=\"min-height:auto\"><div><div id=\"LC154\" class=\"react-file-line html-div\" data-testid=\"code-cell\" data-line-number=\"154\" style=\"position:relative\">Toyota Corolla;31.0;4;76.00;52.00;1649.;16.5;74;Japan</div></div></div><div class=\"react-code-text react-code-line-contents\" style=\"min-height:auto\"><div><div id=\"LC155\" class=\"react-file-line html-div\" data-testid=\"code-cell\" data-line-number=\"155\" style=\"position:relative\">Datsun 710;32.0;4;83.00;61.00;2003.;19.0;74;Japan</div></div></div><div class=\"react-code-text react-code-line-contents\" style=\"min-height:auto\"><div><div id=\"LC156\" class=\"react-file-line html-div\" data-testid=\"code-cell\" data-line-number=\"156\" style=\"position:relative\">Dodge Colt;28.0;4;90.00;75.00;2125.;14.5;74;US</div></div></div><div class=\"react-code-text react-code-line-contents\" style=\"min-height:auto\"><div><div id=\"LC157\" class=\"react-file-line html-div\" data-testid=\"code-cell\" data-line-number=\"157\" style=\"position:relative\">Fiat 128;24.0;4;90.00;75.00;2108.;15.5;74;Europe</div></div></div><div class=\"react-code-text react-code-line-contents\" style=\"min-height:auto\"><div><div id=\"LC158\" class=\"react-file-line html-div\" data-testid=\"code-cell\" data-line-number=\"158\" style=\"position:relative\">Fiat 124 TC;26.0;4;116.0;75.00;2246.;14.0;74;Europe</div></div></div><div class=\"react-code-text react-code-line-contents\" style=\"min-height:auto\"><div><div id=\"LC159\" class=\"react-file-line html-div\" data-testid=\"code-cell\" data-line-number=\"159\" style=\"position:relative\">Honda Civic;24.0;4;120.0;97.00;2489.;15.0;74;Japan</div></div></div><div class=\"react-code-text react-code-line-contents\" style=\"min-height:auto\"><div><div id=\"LC160\" class=\"react-file-line html-div\" data-testid=\"code-cell\" data-line-number=\"160\" style=\"position:relative\">Subaru;26.0;4;108.0;93.00;2391.;15.5;74;Japan</div></div></div><div class=\"react-code-text react-code-line-contents\" style=\"min-height:auto\"><div><div id=\"LC161\" class=\"react-file-line html-div\" data-testid=\"code-cell\" data-line-number=\"161\" style=\"position:relative\">Fiat x1.9;31.0;4;79.00;67.00;2000.;16.0;74;Europe</div></div></div><div class=\"react-code-text react-code-line-contents\" style=\"min-height:auto\"><div><div id=\"LC162\" class=\"react-file-line html-div\" data-testid=\"code-cell\" data-line-number=\"162\" style=\"position:relative\">Plymouth Valiant Custom;19.0;6;225.0;95.00;3264.;16.0;75;US</div></div></div><div class=\"react-code-text react-code-line-contents\" style=\"min-height:auto\"><div><div id=\"LC163\" class=\"react-file-line html-div\" data-testid=\"code-cell\" data-line-number=\"163\" style=\"position:relative\">Chevrolet Nova;18.0;6;250.0;105.0;3459.;16.0;75;US</div></div></div><div class=\"react-code-text react-code-line-contents\" style=\"min-height:auto\"><div><div id=\"LC164\" class=\"react-file-line html-div\" data-testid=\"code-cell\" data-line-number=\"164\" style=\"position:relative\">Mercury Monarch;15.0;6;250.0;72.00;3432.;21.0;75;US</div></div></div><div class=\"react-code-text react-code-line-contents\" style=\"min-height:auto\"><div><div id=\"LC165\" class=\"react-file-line html-div\" data-testid=\"code-cell\" data-line-number=\"165\" style=\"position:relative\">Ford Maverick;15.0;6;250.0;72.00;3158.;19.5;75;US</div></div></div><div class=\"react-code-text react-code-line-contents\" style=\"min-height:auto\"><div><div id=\"LC166\" class=\"react-file-line html-div\" data-testid=\"code-cell\" data-line-number=\"166\" style=\"position:relative\">Pontiac Catalina;16.0;8;400.0;170.0;4668.;11.5;75;US</div></div></div><div class=\"react-code-text react-code-line-contents\" style=\"min-height:auto\"><div><div id=\"LC167\" class=\"react-file-line html-div\" data-testid=\"code-cell\" data-line-number=\"167\" style=\"position:relative\">Chevrolet Bel Air;15.0;8;350.0;145.0;4440.;14.0;75;US</div></div></div><div class=\"react-code-text react-code-line-contents\" style=\"min-height:auto\"><div><div id=\"LC168\" class=\"react-file-line html-div\" data-testid=\"code-cell\" data-line-number=\"168\" style=\"position:relative\">Plymouth Grand Fury;16.0;8;318.0;150.0;4498.;14.5;75;US</div></div></div><div class=\"react-code-text react-code-line-contents\" style=\"min-height:auto\"><div><div id=\"LC169\" class=\"react-file-line html-div\" data-testid=\"code-cell\" data-line-number=\"169\" style=\"position:relative\">Ford LTD;14.0;8;351.0;148.0;4657.;13.5;75;US</div></div></div><div class=\"react-code-text react-code-line-contents\" style=\"min-height:auto\"><div><div id=\"LC170\" class=\"react-file-line html-div\" data-testid=\"code-cell\" data-line-number=\"170\" style=\"position:relative\">Buick Century;17.0;6;231.0;110.0;3907.;21.0;75;US</div></div></div><div class=\"react-code-text react-code-line-contents\" style=\"min-height:auto\"><div><div id=\"LC171\" class=\"react-file-line html-div\" data-testid=\"code-cell\" data-line-number=\"171\" style=\"position:relative\">Chevrolete Chevelle Malibu;16.0;6;250.0;105.0;3897.;18.5;75;US</div></div></div><div class=\"react-code-text react-code-line-contents\" style=\"min-height:auto\"><div><div id=\"LC172\" class=\"react-file-line html-div\" data-testid=\"code-cell\" data-line-number=\"172\" style=\"position:relative\">AMC Matador;15.0;6;258.0;110.0;3730.;19.0;75;US</div></div></div><div class=\"react-code-text react-code-line-contents\" style=\"min-height:auto\"><div><div id=\"LC173\" class=\"react-file-line html-div\" data-testid=\"code-cell\" data-line-number=\"173\" style=\"position:relative\">Plymouth Fury;18.0;6;225.0;95.00;3785.;19.0;75;US</div></div></div><div class=\"react-code-text react-code-line-contents\" style=\"min-height:auto\"><div><div id=\"LC174\" class=\"react-file-line html-div\" data-testid=\"code-cell\" data-line-number=\"174\" style=\"position:relative\">Buick Skyhawk;21.0;6;231.0;110.0;3039.;15.0;75;US</div></div></div><div class=\"react-code-text react-code-line-contents\" style=\"min-height:auto\"><div><div id=\"LC175\" class=\"react-file-line html-div\" data-testid=\"code-cell\" data-line-number=\"175\" style=\"position:relative\">Chevrolet Monza 2+2;20.0;8;262.0;110.0;3221.;13.5;75;US</div></div></div><div class=\"react-code-text react-code-line-contents\" style=\"min-height:auto\"><div><div id=\"LC176\" class=\"react-file-line html-div\" data-testid=\"code-cell\" data-line-number=\"176\" style=\"position:relative\">Ford Mustang II;13.0;8;302.0;129.0;3169.;12.0;75;US</div></div></div><div class=\"react-code-text react-code-line-contents\" style=\"min-height:auto\"><div><div id=\"LC177\" class=\"react-file-line html-div\" data-testid=\"code-cell\" data-line-number=\"177\" style=\"position:relative\">Toyota Corolla;29.0;4;97.00;75.00;2171.;16.0;75;Japan</div></div></div><div class=\"react-code-text react-code-line-contents\" style=\"min-height:auto\"><div><div id=\"LC178\" class=\"react-file-line html-div\" data-testid=\"code-cell\" data-line-number=\"178\" style=\"position:relative\">Ford Pinto;23.0;4;140.0;83.00;2639.;17.0;75;US</div></div></div><div class=\"react-code-text react-code-line-contents\" style=\"min-height:auto\"><div><div id=\"LC179\" class=\"react-file-line html-div\" data-testid=\"code-cell\" data-line-number=\"179\" style=\"position:relative\">AMC Gremlin;20.0;6;232.0;100.0;2914.;16.0;75;US</div></div></div><div class=\"react-code-text react-code-line-contents\" style=\"min-height:auto\"><div><div id=\"LC180\" class=\"react-file-line html-div\" data-testid=\"code-cell\" data-line-number=\"180\" style=\"position:relative\">Pontiac Astro;23.0;4;140.0;78.00;2592.;18.5;75;US</div></div></div><div class=\"react-code-text react-code-line-contents\" style=\"min-height:auto\"><div><div id=\"LC181\" class=\"react-file-line html-div\" data-testid=\"code-cell\" data-line-number=\"181\" style=\"position:relative\">Toyota Corolla;24.0;4;134.0;96.00;2702.;13.5;75;Japan</div></div></div><div class=\"react-code-text react-code-line-contents\" style=\"min-height:auto\"><div><div id=\"LC182\" class=\"react-file-line html-div\" data-testid=\"code-cell\" data-line-number=\"182\" style=\"position:relative\">Volkswagen Dasher;25.0;4;90.00;71.00;2223.;16.5;75;Europe</div></div></div><div class=\"react-code-text react-code-line-contents\" style=\"min-height:auto\"><div><div id=\"LC183\" class=\"react-file-line html-div\" data-testid=\"code-cell\" data-line-number=\"183\" style=\"position:relative\">Datsun 710;24.0;4;119.0;97.00;2545.;17.0;75;Japan</div></div></div><div class=\"react-code-text react-code-line-contents\" style=\"min-height:auto\"><div><div id=\"LC184\" class=\"react-file-line html-div\" data-testid=\"code-cell\" data-line-number=\"184\" style=\"position:relative\">Ford Pinto;18.0;6;171.0;97.00;2984.;14.5;75;US</div></div></div><div class=\"react-code-text react-code-line-contents\" style=\"min-height:auto\"><div><div id=\"LC185\" class=\"react-file-line html-div\" data-testid=\"code-cell\" data-line-number=\"185\" style=\"position:relative\">Volkswagen Rabbit;29.0;4;90.00;70.00;1937.;14.0;75;Europe</div></div></div><div class=\"react-code-text react-code-line-contents\" style=\"min-height:auto\"><div><div id=\"LC186\" class=\"react-file-line html-div\" data-testid=\"code-cell\" data-line-number=\"186\" style=\"position:relative\">AMC Pacer;19.0;6;232.0;90.00;3211.;17.0;75;US</div></div></div><div class=\"react-code-text react-code-line-contents\" style=\"min-height:auto\"><div><div id=\"LC187\" class=\"react-file-line html-div\" data-testid=\"code-cell\" data-line-number=\"187\" style=\"position:relative\">Audi 100LS;23.0;4;115.0;95.00;2694.;15.0;75;Europe</div></div></div><div class=\"react-code-text react-code-line-contents\" style=\"min-height:auto\"><div><div id=\"LC188\" class=\"react-file-line html-div\" data-testid=\"code-cell\" data-line-number=\"188\" style=\"position:relative\">Peugeot 504;23.0;4;120.0;88.00;2957.;17.0;75;Europe</div></div></div><div class=\"react-code-text react-code-line-contents\" style=\"min-height:auto\"><div><div id=\"LC189\" class=\"react-file-line html-div\" data-testid=\"code-cell\" data-line-number=\"189\" style=\"position:relative\">Volvo 244DL;22.0;4;121.0;98.00;2945.;14.5;75;Europe</div></div></div><div class=\"react-code-text react-code-line-contents\" style=\"min-height:auto\"><div><div id=\"LC190\" class=\"react-file-line html-div\" data-testid=\"code-cell\" data-line-number=\"190\" style=\"position:relative\">Saab 99LE;25.0;4;121.0;115.0;2671.;13.5;75;Europe</div></div></div><div class=\"react-code-text react-code-line-contents\" style=\"min-height:auto\"><div><div id=\"LC191\" class=\"react-file-line html-div\" data-testid=\"code-cell\" data-line-number=\"191\" style=\"position:relative\">Honda Civic CVCC;33.0;4;91.00;53.00;1795.;17.5;75;Japan</div></div></div><div class=\"react-code-text react-code-line-contents\" style=\"min-height:auto\"><div><div id=\"LC192\" class=\"react-file-line html-div\" data-testid=\"code-cell\" data-line-number=\"192\" style=\"position:relative\">Fiat 131;28.0;4;107.0;86.00;2464.;15.5;76;Europe</div></div></div><div class=\"react-code-text react-code-line-contents\" style=\"min-height:auto\"><div><div id=\"LC193\" class=\"react-file-line html-div\" data-testid=\"code-cell\" data-line-number=\"193\" style=\"position:relative\">Opel 1900;25.0;4;116.0;81.00;2220.;16.9;76;Europe</div></div></div><div class=\"react-code-text react-code-line-contents\" style=\"min-height:auto\"><div><div id=\"LC194\" class=\"react-file-line html-div\" data-testid=\"code-cell\" data-line-number=\"194\" style=\"position:relative\">Capri ii;25.0;4;140.0;92.00;2572.;14.9;76;US</div></div></div><div class=\"react-code-text react-code-line-contents\" style=\"min-height:auto\"><div><div id=\"LC195\" class=\"react-file-line html-div\" data-testid=\"code-cell\" data-line-number=\"195\" style=\"position:relative\">Dodge Colt;26.0;4;98.00;79.00;2255.;17.7;76;US</div></div></div><div class=\"react-code-text react-code-line-contents\" style=\"min-height:auto\"><div><div id=\"LC196\" class=\"react-file-line html-div\" data-testid=\"code-cell\" data-line-number=\"196\" style=\"position:relative\">Renault 12tl;27.0;4;101.0;83.00;2202.;15.3;76;Europe</div></div></div><div class=\"react-code-text react-code-line-contents\" style=\"min-height:auto\"><div><div id=\"LC197\" class=\"react-file-line html-div\" data-testid=\"code-cell\" data-line-number=\"197\" style=\"position:relative\">Chevrolet Chevelle Malibu Classic;17.5;8;305.0;140.0;4215.;13.0;76;US</div></div></div><div class=\"react-code-text react-code-line-contents\" style=\"min-height:auto\"><div><div id=\"LC198\" class=\"react-file-line html-div\" data-testid=\"code-cell\" data-line-number=\"198\" style=\"position:relative\">Dodge Coronet Brougham;16.0;8;318.0;150.0;4190.;13.0;76;US</div></div></div><div class=\"react-code-text react-code-line-contents\" style=\"min-height:auto\"><div><div id=\"LC199\" class=\"react-file-line html-div\" data-testid=\"code-cell\" data-line-number=\"199\" style=\"position:relative\">AMC Matador;15.5;8;304.0;120.0;3962.;13.9;76;US</div></div></div><div class=\"react-code-text react-code-line-contents\" style=\"min-height:auto\"><div><div id=\"LC200\" class=\"react-file-line html-div\" data-testid=\"code-cell\" data-line-number=\"200\" style=\"position:relative\">Ford Gran Torino;14.5;8;351.0;152.0;4215.;12.8;76;US</div></div></div><div class=\"react-code-text react-code-line-contents\" style=\"min-height:auto\"><div><div id=\"LC201\" class=\"react-file-line html-div\" data-testid=\"code-cell\" data-line-number=\"201\" style=\"position:relative\">Plymouth Valiant;22.0;6;225.0;100.0;3233.;15.4;76;US</div></div></div><div class=\"react-code-text react-code-line-contents\" style=\"min-height:auto\"><div><div id=\"LC202\" class=\"react-file-line html-div\" data-testid=\"code-cell\" data-line-number=\"202\" style=\"position:relative\">Chevrolet Nova;22.0;6;250.0;105.0;3353.;14.5;76;US</div></div></div><div class=\"react-code-text react-code-line-contents\" style=\"min-height:auto\"><div><div id=\"LC203\" class=\"react-file-line html-div\" data-testid=\"code-cell\" data-line-number=\"203\" style=\"position:relative\">Ford Maverick;24.0;6;200.0;81.00;3012.;17.6;76;US</div></div></div><div class=\"react-code-text react-code-line-contents\" style=\"min-height:auto\"><div><div id=\"LC204\" class=\"react-file-line html-div\" data-testid=\"code-cell\" data-line-number=\"204\" style=\"position:relative\">AMC Hornet;22.5;6;232.0;90.00;3085.;17.6;76;US</div></div></div><div class=\"react-code-text react-code-line-contents\" style=\"min-height:auto\"><div><div id=\"LC205\" class=\"react-file-line html-div\" data-testid=\"code-cell\" data-line-number=\"205\" style=\"position:relative\">Chevrolet Chevette;29.0;4;85.00;52.00;2035.;22.2;76;US</div></div></div><div class=\"react-code-text react-code-line-contents\" style=\"min-height:auto\"><div><div id=\"LC206\" class=\"react-file-line html-div\" data-testid=\"code-cell\" data-line-number=\"206\" style=\"position:relative\">Chevrolet Woody;24.5;4;98.00;60.00;2164.;22.1;76;US</div></div></div><div class=\"react-code-text react-code-line-contents\" style=\"min-height:auto\"><div><div id=\"LC207\" class=\"react-file-line html-div\" data-testid=\"code-cell\" data-line-number=\"207\" style=\"position:relative\">Volkswagen Rabbit;29.0;4;90.00;70.00;1937.;14.2;76;Europe</div></div></div><div class=\"react-code-text react-code-line-contents\" style=\"min-height:auto\"><div><div id=\"LC208\" class=\"react-file-line html-div\" data-testid=\"code-cell\" data-line-number=\"208\" style=\"position:relative\">Honda Civic;33.0;4;91.00;53.00;1795.;17.4;76;Japan</div></div></div><div class=\"react-code-text react-code-line-contents\" style=\"min-height:auto\"><div><div id=\"LC209\" class=\"react-file-line html-div\" data-testid=\"code-cell\" data-line-number=\"209\" style=\"position:relative\">Dodge Aspen SE;20.0;6;225.0;100.0;3651.;17.7;76;US</div></div></div><div class=\"react-code-text react-code-line-contents\" style=\"min-height:auto\"><div><div id=\"LC210\" class=\"react-file-line html-div\" data-testid=\"code-cell\" data-line-number=\"210\" style=\"position:relative\">Ford Grenada ghia;18.0;6;250.0;78.00;3574.;21.0;76;US</div></div></div><div class=\"react-code-text react-code-line-contents\" style=\"min-height:auto\"><div><div id=\"LC211\" class=\"react-file-line html-div\" data-testid=\"code-cell\" data-line-number=\"211\" style=\"position:relative\">Pontiac Ventura SJ;18.5;6;250.0;110.0;3645.;16.2;76;US</div></div></div><div class=\"react-code-text react-code-line-contents\" style=\"min-height:auto\"><div><div id=\"LC212\" class=\"react-file-line html-div\" data-testid=\"code-cell\" data-line-number=\"212\" style=\"position:relative\">AMC Pacer d/l;17.5;6;258.0;95.00;3193.;17.8;76;US</div></div></div><div class=\"react-code-text react-code-line-contents\" style=\"min-height:auto\"><div><div id=\"LC213\" class=\"react-file-line html-div\" data-testid=\"code-cell\" data-line-number=\"213\" style=\"position:relative\">Volkswagen Rabbit;29.5;4;97.00;71.00;1825.;12.2;76;Europe</div></div></div><div class=\"react-code-text react-code-line-contents\" style=\"min-height:auto\"><div><div id=\"LC214\" class=\"react-file-line html-div\" data-testid=\"code-cell\" data-line-number=\"214\" style=\"position:relative\">Datsun B-210;32.0;4;85.00;70.00;1990.;17.0;76;Japan</div></div></div><div class=\"react-code-text react-code-line-contents\" style=\"min-height:auto\"><div><div id=\"LC215\" class=\"react-file-line html-div\" data-testid=\"code-cell\" data-line-number=\"215\" style=\"position:relative\">Toyota Corolla;28.0;4;97.00;75.00;2155.;16.4;76;Japan</div></div></div><div class=\"react-code-text react-code-line-contents\" style=\"min-height:auto\"><div><div id=\"LC216\" class=\"react-file-line html-div\" data-testid=\"code-cell\" data-line-number=\"216\" style=\"position:relative\">Ford Pinto;26.5;4;140.0;72.00;2565.;13.6;76;US</div></div></div><div class=\"react-code-text react-code-line-contents\" style=\"min-height:auto\"><div><div id=\"LC217\" class=\"react-file-line html-div\" data-testid=\"code-cell\" data-line-number=\"217\" style=\"position:relative\">Volvo 245;20.0;4;130.0;102.0;3150.;15.7;76;Europe</div></div></div><div class=\"react-code-text react-code-line-contents\" style=\"min-height:auto\"><div><div id=\"LC218\" class=\"react-file-line html-div\" data-testid=\"code-cell\" data-line-number=\"218\" style=\"position:relative\">Plymouth Volare Premier v8;13.0;8;318.0;150.0;3940.;13.2;76;US</div></div></div><div class=\"react-code-text react-code-line-contents\" style=\"min-height:auto\"><div><div id=\"LC219\" class=\"react-file-line html-div\" data-testid=\"code-cell\" data-line-number=\"219\" style=\"position:relative\">Peugeot 504;19.0;4;120.0;88.00;3270.;21.9;76;Europe</div></div></div><div class=\"react-code-text react-code-line-contents\" style=\"min-height:auto\"><div><div id=\"LC220\" class=\"react-file-line html-div\" data-testid=\"code-cell\" data-line-number=\"220\" style=\"position:relative\">Toyota Mark II;19.0;6;156.0;108.0;2930.;15.5;76;Japan</div></div></div><div class=\"react-code-text react-code-line-contents\" style=\"min-height:auto\"><div><div id=\"LC221\" class=\"react-file-line html-div\" data-testid=\"code-cell\" data-line-number=\"221\" style=\"position:relative\">Mercedes-Benz 280s;16.5;6;168.0;120.0;3820.;16.7;76;Europe</div></div></div><div class=\"react-code-text react-code-line-contents\" style=\"min-height:auto\"><div><div id=\"LC222\" class=\"react-file-line html-div\" data-testid=\"code-cell\" data-line-number=\"222\" style=\"position:relative\">Cadillac Seville;16.5;8;350.0;180.0;4380.;12.1;76;US</div></div></div><div class=\"react-code-text react-code-line-contents\" style=\"min-height:auto\"><div><div id=\"LC223\" class=\"react-file-line html-div\" data-testid=\"code-cell\" data-line-number=\"223\" style=\"position:relative\">Chevrolet C10;13.0;8;350.0;145.0;4055.;12.0;76;US</div></div></div><div class=\"react-code-text react-code-line-contents\" style=\"min-height:auto\"><div><div id=\"LC224\" class=\"react-file-line html-div\" data-testid=\"code-cell\" data-line-number=\"224\" style=\"position:relative\">Ford F108;13.0;8;302.0;130.0;3870.;15.0;76;US</div></div></div><div class=\"react-code-text react-code-line-contents\" style=\"min-height:auto\"><div><div id=\"LC225\" class=\"react-file-line html-div\" data-testid=\"code-cell\" data-line-number=\"225\" style=\"position:relative\">Dodge D100;13.0;8;318.0;150.0;3755.;14.0;76;US</div></div></div><div class=\"react-code-text react-code-line-contents\" style=\"min-height:auto\"><div><div id=\"LC226\" class=\"react-file-line html-div\" data-testid=\"code-cell\" data-line-number=\"226\" style=\"position:relative\">Honda Accord CVCC;31.5;4;98.00;68.00;2045.;18.5;77;Japan</div></div></div><div class=\"react-code-text react-code-line-contents\" style=\"min-height:auto\"><div><div id=\"LC227\" class=\"react-file-line html-div\" data-testid=\"code-cell\" data-line-number=\"227\" style=\"position:relative\">Buick Opel Isuzu Deluxe;30.0;4;111.0;80.00;2155.;14.8;77;US</div></div></div><div class=\"react-code-text react-code-line-contents\" style=\"min-height:auto\"><div><div id=\"LC228\" class=\"react-file-line html-div\" data-testid=\"code-cell\" data-line-number=\"228\" style=\"position:relative\">Renault 5 GTL;36.0;4;79.00;58.00;1825.;18.6;77;Europe</div></div></div><div class=\"react-code-text react-code-line-contents\" style=\"min-height:auto\"><div><div id=\"LC229\" class=\"react-file-line html-div\" data-testid=\"code-cell\" data-line-number=\"229\" style=\"position:relative\">Plymouth Arrow GS;25.5;4;122.0;96.00;2300.;15.5;77;US</div></div></div><div class=\"react-code-text react-code-line-contents\" style=\"min-height:auto\"><div><div id=\"LC230\" class=\"react-file-line html-div\" data-testid=\"code-cell\" data-line-number=\"230\" style=\"position:relative\">Datsun F-10 Hatchback;33.5;4;85.00;70.00;1945.;16.8;77;Japan</div></div></div><div class=\"react-code-text react-code-line-contents\" style=\"min-height:auto\"><div><div id=\"LC231\" class=\"react-file-line html-div\" data-testid=\"code-cell\" data-line-number=\"231\" style=\"position:relative\">Chevrolet Caprice Classic;17.5;8;305.0;145.0;3880.;12.5;77;US</div></div></div><div class=\"react-code-text react-code-line-contents\" style=\"min-height:auto\"><div><div id=\"LC232\" class=\"react-file-line html-div\" data-testid=\"code-cell\" data-line-number=\"232\" style=\"position:relative\">Oldsmobile Cutlass Supreme;17.0;8;260.0;110.0;4060.;19.0;77;US</div></div></div><div class=\"react-code-text react-code-line-contents\" style=\"min-height:auto\"><div><div id=\"LC233\" class=\"react-file-line html-div\" data-testid=\"code-cell\" data-line-number=\"233\" style=\"position:relative\">Dodge Monaco Brougham;15.5;8;318.0;145.0;4140.;13.7;77;US</div></div></div><div class=\"react-code-text react-code-line-contents\" style=\"min-height:auto\"><div><div id=\"LC234\" class=\"react-file-line html-div\" data-testid=\"code-cell\" data-line-number=\"234\" style=\"position:relative\">Mercury Cougar Brougham;15.0;8;302.0;130.0;4295.;14.9;77;US</div></div></div><div class=\"react-code-text react-code-line-contents\" style=\"min-height:auto\"><div><div id=\"LC235\" class=\"react-file-line html-div\" data-testid=\"code-cell\" data-line-number=\"235\" style=\"position:relative\">Chevrolet Concours;17.5;6;250.0;110.0;3520.;16.4;77;US</div></div></div><div class=\"react-code-text react-code-line-contents\" style=\"min-height:auto\"><div><div id=\"LC236\" class=\"react-file-line html-div\" data-testid=\"code-cell\" data-line-number=\"236\" style=\"position:relative\">Buick Skylark;20.5;6;231.0;105.0;3425.;16.9;77;US</div></div></div><div class=\"react-code-text react-code-line-contents\" style=\"min-height:auto\"><div><div id=\"LC237\" class=\"react-file-line html-div\" data-testid=\"code-cell\" data-line-number=\"237\" style=\"position:relative\">Plymouth Volare Custom;19.0;6;225.0;100.0;3630.;17.7;77;US</div></div></div><div class=\"react-code-text react-code-line-contents\" style=\"min-height:auto\"><div><div id=\"LC238\" class=\"react-file-line html-div\" data-testid=\"code-cell\" data-line-number=\"238\" style=\"position:relative\">Ford Grenada;18.5;6;250.0;98.00;3525.;19.0;77;US</div></div></div><div class=\"react-code-text react-code-line-contents\" style=\"min-height:auto\"><div><div id=\"LC239\" class=\"react-file-line html-div\" data-testid=\"code-cell\" data-line-number=\"239\" style=\"position:relative\">Pontiac Grand Prix LJ;16.0;8;400.0;180.0;4220.;11.1;77;US</div></div></div><div class=\"react-code-text react-code-line-contents\" style=\"min-height:auto\"><div><div id=\"LC240\" class=\"react-file-line html-div\" data-testid=\"code-cell\" data-line-number=\"240\" style=\"position:relative\">Chevrolet Monte Carlo Landau;15.5;8;350.0;170.0;4165.;11.4;77;US</div></div></div><div class=\"react-code-text react-code-line-contents\" style=\"min-height:auto\"><div><div id=\"LC241\" class=\"react-file-line html-div\" data-testid=\"code-cell\" data-line-number=\"241\" style=\"position:relative\">Chrysler Cordoba;15.5;8;400.0;190.0;4325.;12.2;77;US</div></div></div><div class=\"react-code-text react-code-line-contents\" style=\"min-height:auto\"><div><div id=\"LC242\" class=\"react-file-line html-div\" data-testid=\"code-cell\" data-line-number=\"242\" style=\"position:relative\">Ford Thunderbird;16.0;8;351.0;149.0;4335.;14.5;77;US</div></div></div><div class=\"react-code-text react-code-line-contents\" style=\"min-height:auto\"><div><div id=\"LC243\" class=\"react-file-line html-div\" data-testid=\"code-cell\" data-line-number=\"243\" style=\"position:relative\">Volkswagen Rabbit Custom;29.0;4;97.00;78.00;1940.;14.5;77;Europe</div></div></div><div class=\"react-code-text react-code-line-contents\" style=\"min-height:auto\"><div><div id=\"LC244\" class=\"react-file-line html-div\" data-testid=\"code-cell\" data-line-number=\"244\" style=\"position:relative\">Pontiac Sunbird Coupe;24.5;4;151.0;88.00;2740.;16.0;77;US</div></div></div><div class=\"react-code-text react-code-line-contents\" style=\"min-height:auto\"><div><div id=\"LC245\" class=\"react-file-line html-div\" data-testid=\"code-cell\" data-line-number=\"245\" style=\"position:relative\">Toyota Corolla Liftback;26.0;4;97.00;75.00;2265.;18.2;77;Japan</div></div></div><div class=\"react-code-text react-code-line-contents\" style=\"min-height:auto\"><div><div id=\"LC246\" class=\"react-file-line html-div\" data-testid=\"code-cell\" data-line-number=\"246\" style=\"position:relative\">Ford Mustang II 2+2;25.5;4;140.0;89.00;2755.;15.8;77;US</div></div></div><div class=\"react-code-text react-code-line-contents\" style=\"min-height:auto\"><div><div id=\"LC247\" class=\"react-file-line html-div\" data-testid=\"code-cell\" data-line-number=\"247\" style=\"position:relative\">Chevrolet Chevette;30.5;4;98.00;63.00;2051.;17.0;77;US</div></div></div><div class=\"react-code-text react-code-line-contents\" style=\"min-height:auto\"><div><div id=\"LC248\" class=\"react-file-line html-div\" data-testid=\"code-cell\" data-line-number=\"248\" style=\"position:relative\">Dodge Colt m/m;33.5;4;98.00;83.00;2075.;15.9;77;US</div></div></div><div class=\"react-code-text react-code-line-contents\" style=\"min-height:auto\"><div><div id=\"LC249\" class=\"react-file-line html-div\" data-testid=\"code-cell\" data-line-number=\"249\" style=\"position:relative\">Subaru DL;30.0;4;97.00;67.00;1985.;16.4;77;Japan</div></div></div><div class=\"react-code-text react-code-line-contents\" style=\"min-height:auto\"><div><div id=\"LC250\" class=\"react-file-line html-div\" data-testid=\"code-cell\" data-line-number=\"250\" style=\"position:relative\">Volkswagen Dasher;30.5;4;97.00;78.00;2190.;14.1;77;Europe</div></div></div><div class=\"react-code-text react-code-line-contents\" style=\"min-height:auto\"><div><div id=\"LC251\" class=\"react-file-line html-div\" data-testid=\"code-cell\" data-line-number=\"251\" style=\"position:relative\">Datsun 810;22.0;6;146.0;97.00;2815.;14.5;77;Japan</div></div></div><div class=\"react-code-text react-code-line-contents\" style=\"min-height:auto\"><div><div id=\"LC252\" class=\"react-file-line html-div\" data-testid=\"code-cell\" data-line-number=\"252\" style=\"position:relative\">BMW 320i;21.5;4;121.0;110.0;2600.;12.8;77;Europe</div></div></div><div class=\"react-code-text react-code-line-contents\" style=\"min-height:auto\"><div><div id=\"LC253\" class=\"react-file-line html-div\" data-testid=\"code-cell\" data-line-number=\"253\" style=\"position:relative\">Mazda RX-4;21.5;3;80.00;110.0;2720.;13.5;77;Japan</div></div></div><div class=\"react-code-text react-code-line-contents\" style=\"min-height:auto\"><div><div id=\"LC254\" class=\"react-file-line html-div\" data-testid=\"code-cell\" data-line-number=\"254\" style=\"position:relative\">Volkswagen Rabbit Custom Diesel;43.1;4;90.00;48.00;1985.;21.5;78;Europe</div></div></div><div class=\"react-code-text react-code-line-contents\" style=\"min-height:auto\"><div><div id=\"LC255\" class=\"react-file-line html-div\" data-testid=\"code-cell\" data-line-number=\"255\" style=\"position:relative\">Ford Fiesta;36.1;4;98.00;66.00;1800.;14.4;78;US</div></div></div><div class=\"react-code-text react-code-line-contents\" style=\"min-height:auto\"><div><div id=\"LC256\" class=\"react-file-line html-div\" data-testid=\"code-cell\" data-line-number=\"256\" style=\"position:relative\">Mazda GLC Deluxe;32.8;4;78.00;52.00;1985.;19.4;78;Japan</div></div></div><div class=\"react-code-text react-code-line-contents\" style=\"min-height:auto\"><div><div id=\"LC257\" class=\"react-file-line html-div\" data-testid=\"code-cell\" data-line-number=\"257\" style=\"position:relative\">Datsun B210 GX;39.4;4;85.00;70.00;2070.;18.6;78;Japan</div></div></div><div class=\"react-code-text react-code-line-contents\" style=\"min-height:auto\"><div><div id=\"LC258\" class=\"react-file-line html-div\" data-testid=\"code-cell\" data-line-number=\"258\" style=\"position:relative\">Honda Civic CVCC;36.1;4;91.00;60.00;1800.;16.4;78;Japan</div></div></div><div class=\"react-code-text react-code-line-contents\" style=\"min-height:auto\"><div><div id=\"LC259\" class=\"react-file-line html-div\" data-testid=\"code-cell\" data-line-number=\"259\" style=\"position:relative\">Oldsmobile Cutlass Salon Brougham;19.9;8;260.0;110.0;3365.;15.5;78;US</div></div></div><div class=\"react-code-text react-code-line-contents\" style=\"min-height:auto\"><div><div id=\"LC260\" class=\"react-file-line html-div\" data-testid=\"code-cell\" data-line-number=\"260\" style=\"position:relative\">Dodge Diplomat;19.4;8;318.0;140.0;3735.;13.2;78;US</div></div></div><div class=\"react-code-text react-code-line-contents\" style=\"min-height:auto\"><div><div id=\"LC261\" class=\"react-file-line html-div\" data-testid=\"code-cell\" data-line-number=\"261\" style=\"position:relative\">Mercury Monarch ghia;20.2;8;302.0;139.0;3570.;12.8;78;US</div></div></div><div class=\"react-code-text react-code-line-contents\" style=\"min-height:auto\"><div><div id=\"LC262\" class=\"react-file-line html-div\" data-testid=\"code-cell\" data-line-number=\"262\" style=\"position:relative\">Pontiac Phoenix LJ;19.2;6;231.0;105.0;3535.;19.2;78;US</div></div></div><div class=\"react-code-text react-code-line-contents\" style=\"min-height:auto\"><div><div id=\"LC263\" class=\"react-file-line html-div\" data-testid=\"code-cell\" data-line-number=\"263\" style=\"position:relative\">Chevrolet Malibu;20.5;6;200.0;95.00;3155.;18.2;78;US</div></div></div><div class=\"react-code-text react-code-line-contents\" style=\"min-height:auto\"><div><div id=\"LC264\" class=\"react-file-line html-div\" data-testid=\"code-cell\" data-line-number=\"264\" style=\"position:relative\">Ford Fairmont (auto);20.2;6;200.0;85.00;2965.;15.8;78;US</div></div></div><div class=\"react-code-text react-code-line-contents\" style=\"min-height:auto\"><div><div id=\"LC265\" class=\"react-file-line html-div\" data-testid=\"code-cell\" data-line-number=\"265\" style=\"position:relative\">Ford Fairmont (man);25.1;4;140.0;88.00;2720.;15.4;78;US</div></div></div><div class=\"react-code-text react-code-line-contents\" style=\"min-height:auto\"><div><div id=\"LC266\" class=\"react-file-line html-div\" data-testid=\"code-cell\" data-line-number=\"266\" style=\"position:relative\">Plymouth Volare;20.5;6;225.0;100.0;3430.;17.2;78;US</div></div></div><div class=\"react-code-text react-code-line-contents\" style=\"min-height:auto\"><div><div id=\"LC267\" class=\"react-file-line html-div\" data-testid=\"code-cell\" data-line-number=\"267\" style=\"position:relative\">AMC Concord;19.4;6;232.0;90.00;3210.;17.2;78;US</div></div></div><div class=\"react-code-text react-code-line-contents\" style=\"min-height:auto\"><div><div id=\"LC268\" class=\"react-file-line html-div\" data-testid=\"code-cell\" data-line-number=\"268\" style=\"position:relative\">Buick Century Special;20.6;6;231.0;105.0;3380.;15.8;78;US</div></div></div><div class=\"react-code-text react-code-line-contents\" style=\"min-height:auto\"><div><div id=\"LC269\" class=\"react-file-line html-div\" data-testid=\"code-cell\" data-line-number=\"269\" style=\"position:relative\">Mercury Zephyr;20.8;6;200.0;85.00;3070.;16.7;78;US</div></div></div><div class=\"react-code-text react-code-line-contents\" style=\"min-height:auto\"><div><div id=\"LC270\" class=\"react-file-line html-div\" data-testid=\"code-cell\" data-line-number=\"270\" style=\"position:relative\">Dodge Aspen;18.6;6;225.0;110.0;3620.;18.7;78;US</div></div></div><div class=\"react-code-text react-code-line-contents\" style=\"min-height:auto\"><div><div id=\"LC271\" class=\"react-file-line html-div\" data-testid=\"code-cell\" data-line-number=\"271\" style=\"position:relative\">AMC Concord d/l;18.1;6;258.0;120.0;3410.;15.1;78;US</div></div></div><div class=\"react-code-text react-code-line-contents\" style=\"min-height:auto\"><div><div id=\"LC272\" class=\"react-file-line html-div\" data-testid=\"code-cell\" data-line-number=\"272\" style=\"position:relative\">Chevrolet Monte Carlo Landau;19.2;8;305.0;145.0;3425.;13.2;78;US</div></div></div><div class=\"react-code-text react-code-line-contents\" style=\"min-height:auto\"><div><div id=\"LC273\" class=\"react-file-line html-div\" data-testid=\"code-cell\" data-line-number=\"273\" style=\"position:relative\">Buick Regal Sport Coupe (turbo);17.7;6;231.0;165.0;3445.;13.4;78;US</div></div></div><div class=\"react-code-text react-code-line-contents\" style=\"min-height:auto\"><div><div id=\"LC274\" class=\"react-file-line html-div\" data-testid=\"code-cell\" data-line-number=\"274\" style=\"position:relative\">Ford Futura;18.1;8;302.0;139.0;3205.;11.2;78;US</div></div></div><div class=\"react-code-text react-code-line-contents\" style=\"min-height:auto\"><div><div id=\"LC275\" class=\"react-file-line html-div\" data-testid=\"code-cell\" data-line-number=\"275\" style=\"position:relative\">Dodge Magnum XE;17.5;8;318.0;140.0;4080.;13.7;78;US</div></div></div><div class=\"react-code-text react-code-line-contents\" style=\"min-height:auto\"><div><div id=\"LC276\" class=\"react-file-line html-div\" data-testid=\"code-cell\" data-line-number=\"276\" style=\"position:relative\">Chevrolet Chevette;30.0;4;98.00;68.00;2155.;16.5;78;US</div></div></div><div class=\"react-code-text react-code-line-contents\" style=\"min-height:auto\"><div><div id=\"LC277\" class=\"react-file-line html-div\" data-testid=\"code-cell\" data-line-number=\"277\" style=\"position:relative\">Toyota Corolla;27.5;4;134.0;95.00;2560.;14.2;78;Japan</div></div></div><div class=\"react-code-text react-code-line-contents\" style=\"min-height:auto\"><div><div id=\"LC278\" class=\"react-file-line html-div\" data-testid=\"code-cell\" data-line-number=\"278\" style=\"position:relative\">Datsun 510;27.2;4;119.0;97.00;2300.;14.7;78;Japan</div></div></div><div class=\"react-code-text react-code-line-contents\" style=\"min-height:auto\"><div><div id=\"LC279\" class=\"react-file-line html-div\" data-testid=\"code-cell\" data-line-number=\"279\" style=\"position:relative\">Dodge Omni;30.9;4;105.0;75.00;2230.;14.5;78;US</div></div></div><div class=\"react-code-text react-code-line-contents\" style=\"min-height:auto\"><div><div id=\"LC280\" class=\"react-file-line html-div\" data-testid=\"code-cell\" data-line-number=\"280\" style=\"position:relative\">Toyota Celica GT Liftback;21.1;4;134.0;95.00;2515.;14.8;78;Japan</div></div></div><div class=\"react-code-text react-code-line-contents\" style=\"min-height:auto\"><div><div id=\"LC281\" class=\"react-file-line html-div\" data-testid=\"code-cell\" data-line-number=\"281\" style=\"position:relative\">Plymouth Sapporo;23.2;4;156.0;105.0;2745.;16.7;78;US</div></div></div><div class=\"react-code-text react-code-line-contents\" style=\"min-height:auto\"><div><div id=\"LC282\" class=\"react-file-line html-div\" data-testid=\"code-cell\" data-line-number=\"282\" style=\"position:relative\">Oldsmobile Starfire SX;23.8;4;151.0;85.00;2855.;17.6;78;US</div></div></div><div class=\"react-code-text react-code-line-contents\" style=\"min-height:auto\"><div><div id=\"LC283\" class=\"react-file-line html-div\" data-testid=\"code-cell\" data-line-number=\"283\" style=\"position:relative\">Datsun 200-SX;23.9;4;119.0;97.00;2405.;14.9;78;Japan</div></div></div><div class=\"react-code-text react-code-line-contents\" style=\"min-height:auto\"><div><div id=\"LC284\" class=\"react-file-line html-div\" data-testid=\"code-cell\" data-line-number=\"284\" style=\"position:relative\">Audi 5000;20.3;5;131.0;103.0;2830.;15.9;78;Europe</div></div></div><div class=\"react-code-text react-code-line-contents\" style=\"min-height:auto\"><div><div id=\"LC285\" class=\"react-file-line html-div\" data-testid=\"code-cell\" data-line-number=\"285\" style=\"position:relative\">Volvo 264gl;17.0;6;163.0;125.0;3140.;13.6;78;Europe</div></div></div><div class=\"react-code-text react-code-line-contents\" style=\"min-height:auto\"><div><div id=\"LC286\" class=\"react-file-line html-div\" data-testid=\"code-cell\" data-line-number=\"286\" style=\"position:relative\">Saab 99gle;21.6;4;121.0;115.0;2795.;15.7;78;Europe</div></div></div><div class=\"react-code-text react-code-line-contents\" style=\"min-height:auto\"><div><div id=\"LC287\" class=\"react-file-line html-div\" data-testid=\"code-cell\" data-line-number=\"287\" style=\"position:relative\">Peugeot 604sl;16.2;6;163.0;133.0;3410.;15.8;78;Europe</div></div></div><div class=\"react-code-text react-code-line-contents\" style=\"min-height:auto\"><div><div id=\"LC288\" class=\"react-file-line html-div\" data-testid=\"code-cell\" data-line-number=\"288\" style=\"position:relative\">Volkswagen Scirocco;31.5;4;89.00;71.00;1990.;14.9;78;Europe</div></div></div><div class=\"react-code-text react-code-line-contents\" style=\"min-height:auto\"><div><div id=\"LC289\" class=\"react-file-line html-div\" data-testid=\"code-cell\" data-line-number=\"289\" style=\"position:relative\">Honda Accord LX;29.5;4;98.00;68.00;2135.;16.6;78;Japan</div></div></div><div class=\"react-code-text react-code-line-contents\" style=\"min-height:auto\"><div><div id=\"LC290\" class=\"react-file-line html-div\" data-testid=\"code-cell\" data-line-number=\"290\" style=\"position:relative\">Pontiac Lemans V6;21.5;6;231.0;115.0;3245.;15.4;79;US</div></div></div><div class=\"react-code-text react-code-line-contents\" style=\"min-height:auto\"><div><div id=\"LC291\" class=\"react-file-line html-div\" data-testid=\"code-cell\" data-line-number=\"291\" style=\"position:relative\">Mercury Zephyr 6;19.8;6;200.0;85.00;2990.;18.2;79;US</div></div></div><div class=\"react-code-text react-code-line-contents\" style=\"min-height:auto\"><div><div id=\"LC292\" class=\"react-file-line html-div\" data-testid=\"code-cell\" data-line-number=\"292\" style=\"position:relative\">Ford Fairmont 4;22.3;4;140.0;88.00;2890.;17.3;79;US</div></div></div><div class=\"react-code-text react-code-line-contents\" style=\"min-height:auto\"><div><div id=\"LC293\" class=\"react-file-line html-div\" data-testid=\"code-cell\" data-line-number=\"293\" style=\"position:relative\">AMC Concord DL 6;20.2;6;232.0;90.00;3265.;18.2;79;US</div></div></div><div class=\"react-code-text react-code-line-contents\" style=\"min-height:auto\"><div><div id=\"LC294\" class=\"react-file-line html-div\" data-testid=\"code-cell\" data-line-number=\"294\" style=\"position:relative\">Dodge Aspen 6;20.6;6;225.0;110.0;3360.;16.6;79;US</div></div></div><div class=\"react-code-text react-code-line-contents\" style=\"min-height:auto\"><div><div id=\"LC295\" class=\"react-file-line html-div\" data-testid=\"code-cell\" data-line-number=\"295\" style=\"position:relative\">Chevrolet Caprice Classic;17.0;8;305.0;130.0;3840.;15.4;79;US</div></div></div><div class=\"react-code-text react-code-line-contents\" style=\"min-height:auto\"><div><div id=\"LC296\" class=\"react-file-line html-div\" data-testid=\"code-cell\" data-line-number=\"296\" style=\"position:relative\">Ford LTD Landau;17.6;8;302.0;129.0;3725.;13.4;79;US</div></div></div><div class=\"react-code-text react-code-line-contents\" style=\"min-height:auto\"><div><div id=\"LC297\" class=\"react-file-line html-div\" data-testid=\"code-cell\" data-line-number=\"297\" style=\"position:relative\">Mercury Grand Marquis;16.5;8;351.0;138.0;3955.;13.2;79;US</div></div></div><div class=\"react-code-text react-code-line-contents\" style=\"min-height:auto\"><div><div id=\"LC298\" class=\"react-file-line html-div\" data-testid=\"code-cell\" data-line-number=\"298\" style=\"position:relative\">Dodge St. Regis;18.2;8;318.0;135.0;3830.;15.2;79;US</div></div></div><div class=\"react-code-text react-code-line-contents\" style=\"min-height:auto\"><div><div id=\"LC299\" class=\"react-file-line html-div\" data-testid=\"code-cell\" data-line-number=\"299\" style=\"position:relative\">Buick Estate Wagon (sw);16.9;8;350.0;155.0;4360.;14.9;79;US</div></div></div><div class=\"react-code-text react-code-line-contents\" style=\"min-height:auto\"><div><div id=\"LC300\" class=\"react-file-line html-div\" data-testid=\"code-cell\" data-line-number=\"300\" style=\"position:relative\">Ford Country Squire (sw);15.5;8;351.0;142.0;4054.;14.3;79;US</div></div></div><div class=\"react-code-text react-code-line-contents\" style=\"min-height:auto\"><div><div id=\"LC301\" class=\"react-file-line html-div\" data-testid=\"code-cell\" data-line-number=\"301\" style=\"position:relative\">Chevrolet Malibu Classic (sw);19.2;8;267.0;125.0;3605.;15.0;79;US</div></div></div><div class=\"react-code-text react-code-line-contents\" style=\"min-height:auto\"><div><div id=\"LC302\" class=\"react-file-line html-div\" data-testid=\"code-cell\" data-line-number=\"302\" style=\"position:relative\">Chrysler Lebaron Town @ Country (sw);18.5;8;360.0;150.0;3940.;13.0;79;US</div></div></div><div class=\"react-code-text react-code-line-contents\" style=\"min-height:auto\"><div><div id=\"LC303\" class=\"react-file-line html-div\" data-testid=\"code-cell\" data-line-number=\"303\" style=\"position:relative\">Volkswagen Rabbit Custom;31.9;4;89.00;71.00;1925.;14.0;79;Europe</div></div></div><div class=\"react-code-text react-code-line-contents\" style=\"min-height:auto\"><div><div id=\"LC304\" class=\"react-file-line html-div\" data-testid=\"code-cell\" data-line-number=\"304\" style=\"position:relative\">Mazda GLC Deluxe;34.1;4;86.00;65.00;1975.;15.2;79;Japan</div></div></div><div class=\"react-code-text react-code-line-contents\" style=\"min-height:auto\"><div><div id=\"LC305\" class=\"react-file-line html-div\" data-testid=\"code-cell\" data-line-number=\"305\" style=\"position:relative\">Dodge Colt Hatchback Custom;35.7;4;98.00;80.00;1915.;14.4;79;US</div></div></div><div class=\"react-code-text react-code-line-contents\" style=\"min-height:auto\"><div><div id=\"LC306\" class=\"react-file-line html-div\" data-testid=\"code-cell\" data-line-number=\"306\" style=\"position:relative\">AMC Spirit DL;27.4;4;121.0;80.00;2670.;15.0;79;US</div></div></div><div class=\"react-code-text react-code-line-contents\" style=\"min-height:auto\"><div><div id=\"LC307\" class=\"react-file-line html-div\" data-testid=\"code-cell\" data-line-number=\"307\" style=\"position:relative\">Mercedes Benz 300d;25.4;5;183.0;77.00;3530.;20.1;79;Europe</div></div></div><div class=\"react-code-text react-code-line-contents\" style=\"min-height:auto\"><div><div id=\"LC308\" class=\"react-file-line html-div\" data-testid=\"code-cell\" data-line-number=\"308\" style=\"position:relative\">Cadillac Eldorado;23.0;8;350.0;125.0;3900.;17.4;79;US</div></div></div><div class=\"react-code-text react-code-line-contents\" style=\"min-height:auto\"><div><div id=\"LC309\" class=\"react-file-line html-div\" data-testid=\"code-cell\" data-line-number=\"309\" style=\"position:relative\">Peugeot 504;27.2;4;141.0;71.00;3190.;24.8;79;Europe</div></div></div><div class=\"react-code-text react-code-line-contents\" style=\"min-height:auto\"><div><div id=\"LC310\" class=\"react-file-line html-div\" data-testid=\"code-cell\" data-line-number=\"310\" style=\"position:relative\">Oldsmobile Cutlass Salon Brougham;23.9;8;260.0;90.00;3420.;22.2;79;US</div></div></div><div class=\"react-code-text react-code-line-contents\" style=\"min-height:auto\"><div><div id=\"LC311\" class=\"react-file-line html-div\" data-testid=\"code-cell\" data-line-number=\"311\" style=\"position:relative\">Plymouth Horizon;34.2;4;105.0;70.00;2200.;13.2;79;US</div></div></div><div class=\"react-code-text react-code-line-contents\" style=\"min-height:auto\"><div><div id=\"LC312\" class=\"react-file-line html-div\" data-testid=\"code-cell\" data-line-number=\"312\" style=\"position:relative\">Plymouth Horizon TC3;34.5;4;105.0;70.00;2150.;14.9;79;US</div></div></div><div class=\"react-code-text react-code-line-contents\" style=\"min-height:auto\"><div><div id=\"LC313\" class=\"react-file-line html-div\" data-testid=\"code-cell\" data-line-number=\"313\" style=\"position:relative\">Datsun 210;31.8;4;85.00;65.00;2020.;19.2;79;Japan</div></div></div><div class=\"react-code-text react-code-line-contents\" style=\"min-height:auto\"><div><div id=\"LC314\" class=\"react-file-line html-div\" data-testid=\"code-cell\" data-line-number=\"314\" style=\"position:relative\">Fiat Strada Custom;37.3;4;91.00;69.00;2130.;14.7;79;Europe</div></div></div><div class=\"react-code-text react-code-line-contents\" style=\"min-height:auto\"><div><div id=\"LC315\" class=\"react-file-line html-div\" data-testid=\"code-cell\" data-line-number=\"315\" style=\"position:relative\">Buick Skylark Limited;28.4;4;151.0;90.00;2670.;16.0;79;US</div></div></div><div class=\"react-code-text react-code-line-contents\" style=\"min-height:auto\"><div><div id=\"LC316\" class=\"react-file-line html-div\" data-testid=\"code-cell\" data-line-number=\"316\" style=\"position:relative\">Chevrolet Citation;28.8;6;173.0;115.0;2595.;11.3;79;US</div></div></div><div class=\"react-code-text react-code-line-contents\" style=\"min-height:auto\"><div><div id=\"LC317\" class=\"react-file-line html-div\" data-testid=\"code-cell\" data-line-number=\"317\" style=\"position:relative\">Oldsmobile Omega Brougham;26.8;6;173.0;115.0;2700.;12.9;79;US</div></div></div><div class=\"react-code-text react-code-line-contents\" style=\"min-height:auto\"><div><div id=\"LC318\" class=\"react-file-line html-div\" data-testid=\"code-cell\" data-line-number=\"318\" style=\"position:relative\">Pontiac Phoenix;33.5;4;151.0;90.00;2556.;13.2;79;US</div></div></div><div class=\"react-code-text react-code-line-contents\" style=\"min-height:auto\"><div><div id=\"LC319\" class=\"react-file-line html-div\" data-testid=\"code-cell\" data-line-number=\"319\" style=\"position:relative\">Volkswagen Rabbit;41.5;4;98.00;76.00;2144.;14.7;80;Europe</div></div></div><div class=\"react-code-text react-code-line-contents\" style=\"min-height:auto\"><div><div id=\"LC320\" class=\"react-file-line html-div\" data-testid=\"code-cell\" data-line-number=\"320\" style=\"position:relative\">Toyota Corolla Tercel;38.1;4;89.00;60.00;1968.;18.8;80;Japan</div></div></div><div class=\"react-code-text react-code-line-contents\" style=\"min-height:auto\"><div><div id=\"LC321\" class=\"react-file-line html-div\" data-testid=\"code-cell\" data-line-number=\"321\" style=\"position:relative\">Chevrolet Chevette;32.1;4;98.00;70.00;2120.;15.5;80;US</div></div></div><div class=\"react-code-text react-code-line-contents\" style=\"min-height:auto\"><div><div id=\"LC322\" class=\"react-file-line html-div\" data-testid=\"code-cell\" data-line-number=\"322\" style=\"position:relative\">Datsun 310;37.2;4;86.00;65.00;2019.;16.4;80;Japan</div></div></div><div class=\"react-code-text react-code-line-contents\" style=\"min-height:auto\"><div><div id=\"LC323\" class=\"react-file-line html-div\" data-testid=\"code-cell\" data-line-number=\"323\" style=\"position:relative\">Chevrolet Citation;28.0;4;151.0;90.00;2678.;16.5;80;US</div></div></div><div class=\"react-code-text react-code-line-contents\" style=\"min-height:auto\"><div><div id=\"LC324\" class=\"react-file-line html-div\" data-testid=\"code-cell\" data-line-number=\"324\" style=\"position:relative\">Ford Fairmont;26.4;4;140.0;88.00;2870.;18.1;80;US</div></div></div><div class=\"react-code-text react-code-line-contents\" style=\"min-height:auto\"><div><div id=\"LC325\" class=\"react-file-line html-div\" data-testid=\"code-cell\" data-line-number=\"325\" style=\"position:relative\">AMC Concord;24.3;4;151.0;90.00;3003.;20.1;80;US</div></div></div><div class=\"react-code-text react-code-line-contents\" style=\"min-height:auto\"><div><div id=\"LC326\" class=\"react-file-line html-div\" data-testid=\"code-cell\" data-line-number=\"326\" style=\"position:relative\">Dodge Aspen;19.1;6;225.0;90.00;3381.;18.7;80;US</div></div></div><div class=\"react-code-text react-code-line-contents\" style=\"min-height:auto\"><div><div id=\"LC327\" class=\"react-file-line html-div\" data-testid=\"code-cell\" data-line-number=\"327\" style=\"position:relative\">Audi 4000;34.3;4;97.00;78.00;2188.;15.8;80;Europe</div></div></div><div class=\"react-code-text react-code-line-contents\" style=\"min-height:auto\"><div><div id=\"LC328\" class=\"react-file-line html-div\" data-testid=\"code-cell\" data-line-number=\"328\" style=\"position:relative\">Toyota Corolla Liftback;29.8;4;134.0;90.00;2711.;15.5;80;Japan</div></div></div><div class=\"react-code-text react-code-line-contents\" style=\"min-height:auto\"><div><div id=\"LC329\" class=\"react-file-line html-div\" data-testid=\"code-cell\" data-line-number=\"329\" style=\"position:relative\">Mazda 626;31.3;4;120.0;75.00;2542.;17.5;80;Japan</div></div></div><div class=\"react-code-text react-code-line-contents\" style=\"min-height:auto\"><div><div id=\"LC330\" class=\"react-file-line html-div\" data-testid=\"code-cell\" data-line-number=\"330\" style=\"position:relative\">Datsun 510 Hatchback;37.0;4;119.0;92.00;2434.;15.0;80;Japan</div></div></div><div class=\"react-code-text react-code-line-contents\" style=\"min-height:auto\"><div><div id=\"LC331\" class=\"react-file-line html-div\" data-testid=\"code-cell\" data-line-number=\"331\" style=\"position:relative\">Toyota Corolla;32.2;4;108.0;75.00;2265.;15.2;80;Japan</div></div></div><div class=\"react-code-text react-code-line-contents\" style=\"min-height:auto\"><div><div id=\"LC332\" class=\"react-file-line html-div\" data-testid=\"code-cell\" data-line-number=\"332\" style=\"position:relative\">Mazda GLC;46.6;4;86.00;65.00;2110.;17.9;80;Japan</div></div></div><div class=\"react-code-text react-code-line-contents\" style=\"min-height:auto\"><div><div id=\"LC333\" class=\"react-file-line html-div\" data-testid=\"code-cell\" data-line-number=\"333\" style=\"position:relative\">Dodge Colt;27.9;4;156.0;105.0;2800.;14.4;80;US</div></div></div><div class=\"react-code-text react-code-line-contents\" style=\"min-height:auto\"><div><div id=\"LC334\" class=\"react-file-line html-div\" data-testid=\"code-cell\" data-line-number=\"334\" style=\"position:relative\">Datsun 210;40.8;4;85.00;65.00;2110.;19.2;80;Japan</div></div></div><div class=\"react-code-text react-code-line-contents\" style=\"min-height:auto\"><div><div id=\"LC335\" class=\"react-file-line html-div\" data-testid=\"code-cell\" data-line-number=\"335\" style=\"position:relative\">Volkswagen Rabbit C (Diesel);44.3;4;90.00;48.00;2085.;21.7;80;Europe</div></div></div><div class=\"react-code-text react-code-line-contents\" style=\"min-height:auto\"><div><div id=\"LC336\" class=\"react-file-line html-div\" data-testid=\"code-cell\" data-line-number=\"336\" style=\"position:relative\">Volkswagen Dasher (diesel);43.4;4;90.00;48.00;2335.;23.7;80;Europe</div></div></div><div class=\"react-code-text react-code-line-contents\" style=\"min-height:auto\"><div><div id=\"LC337\" class=\"react-file-line html-div\" data-testid=\"code-cell\" data-line-number=\"337\" style=\"position:relative\">Audi 5000s (diesel);36.4;5;121.0;67.00;2950.;19.9;80;Europe</div></div></div><div class=\"react-code-text react-code-line-contents\" style=\"min-height:auto\"><div><div id=\"LC338\" class=\"react-file-line html-div\" data-testid=\"code-cell\" data-line-number=\"338\" style=\"position:relative\">Mercedes-Benz 240d;30.0;4;146.0;67.00;3250.;21.8;80;Europe</div></div></div><div class=\"react-code-text react-code-line-contents\" style=\"min-height:auto\"><div><div id=\"LC339\" class=\"react-file-line html-div\" data-testid=\"code-cell\" data-line-number=\"339\" style=\"position:relative\">Honda Civic 1500 gl;44.6;4;91.00;67.00;1850.;13.8;80;Japan</div></div></div><div class=\"react-code-text react-code-line-contents\" style=\"min-height:auto\"><div><div id=\"LC340\" class=\"react-file-line html-div\" data-testid=\"code-cell\" data-line-number=\"340\" style=\"position:relative\">Renault Lecar Deluxe;40.9;4;85.00;0;1835.;17.3;80;Europe</div></div></div><div class=\"react-code-text react-code-line-contents\" style=\"min-height:auto\"><div><div id=\"LC341\" class=\"react-file-line html-div\" data-testid=\"code-cell\" data-line-number=\"341\" style=\"position:relative\">Subaru DL;33.8;4;97.00;67.00;2145.;18.0;80;Japan</div></div></div><div class=\"react-code-text react-code-line-contents\" style=\"min-height:auto\"><div><div id=\"LC342\" class=\"react-file-line html-div\" data-testid=\"code-cell\" data-line-number=\"342\" style=\"position:relative\">Volkswagen Rabbit;29.8;4;89.00;62.00;1845.;15.3;80;Europe</div></div></div><div class=\"react-code-text react-code-line-contents\" style=\"min-height:auto\"><div><div id=\"LC343\" class=\"react-file-line html-div\" data-testid=\"code-cell\" data-line-number=\"343\" style=\"position:relative\">Datsun 280-ZX;32.7;6;168.0;132.0;2910.;11.4;80;Japan</div></div></div><div class=\"react-code-text react-code-line-contents\" style=\"min-height:auto\"><div><div id=\"LC344\" class=\"react-file-line html-div\" data-testid=\"code-cell\" data-line-number=\"344\" style=\"position:relative\">Mazda RX-7 GS;23.7;3;70.00;100.0;2420.;12.5;80;Japan</div></div></div><div class=\"react-code-text react-code-line-contents\" style=\"min-height:auto\"><div><div id=\"LC345\" class=\"react-file-line html-div\" data-testid=\"code-cell\" data-line-number=\"345\" style=\"position:relative\">Triumph TR7 Coupe;35.0;4;122.0;88.00;2500.;15.1;80;Europe</div></div></div><div class=\"react-code-text react-code-line-contents\" style=\"min-height:auto\"><div><div id=\"LC346\" class=\"react-file-line html-div\" data-testid=\"code-cell\" data-line-number=\"346\" style=\"position:relative\">Ford Mustang Cobra;23.6;4;140.0;0;2905.;14.3;80;US</div></div></div><div class=\"react-code-text react-code-line-contents\" style=\"min-height:auto\"><div><div id=\"LC347\" class=\"react-file-line html-div\" data-testid=\"code-cell\" data-line-number=\"347\" style=\"position:relative\">Honda Accord;32.4;4;107.0;72.00;2290.;17.0;80;Japan</div></div></div><div class=\"react-code-text react-code-line-contents\" style=\"min-height:auto\"><div><div id=\"LC348\" class=\"react-file-line html-div\" data-testid=\"code-cell\" data-line-number=\"348\" style=\"position:relative\">Plymouth Reliant;27.2;4;135.0;84.00;2490.;15.7;81;US</div></div></div><div class=\"react-code-text react-code-line-contents\" style=\"min-height:auto\"><div><div id=\"LC349\" class=\"react-file-line html-div\" data-testid=\"code-cell\" data-line-number=\"349\" style=\"position:relative\">Buick Skylark;26.6;4;151.0;84.00;2635.;16.4;81;US</div></div></div><div class=\"react-code-text react-code-line-contents\" style=\"min-height:auto\"><div><div id=\"LC350\" class=\"react-file-line html-div\" data-testid=\"code-cell\" data-line-number=\"350\" style=\"position:relative\">Dodge Aries Wagon (sw);25.8;4;156.0;92.00;2620.;14.4;81;US</div></div></div><div class=\"react-code-text react-code-line-contents\" style=\"min-height:auto\"><div><div id=\"LC351\" class=\"react-file-line html-div\" data-testid=\"code-cell\" data-line-number=\"351\" style=\"position:relative\">Chevrolet Citation;23.5;6;173.0;110.0;2725.;12.6;81;US</div></div></div><div class=\"react-code-text react-code-line-contents\" style=\"min-height:auto\"><div><div id=\"LC352\" class=\"react-file-line html-div\" data-testid=\"code-cell\" data-line-number=\"352\" style=\"position:relative\">Plymouth Reliant;30.0;4;135.0;84.00;2385.;12.9;81;US</div></div></div><div class=\"react-code-text react-code-line-contents\" style=\"min-height:auto\"><div><div id=\"LC353\" class=\"react-file-line html-div\" data-testid=\"code-cell\" data-line-number=\"353\" style=\"position:relative\">Toyota Starlet;39.1;4;79.00;58.00;1755.;16.9;81;Japan</div></div></div><div class=\"react-code-text react-code-line-contents\" style=\"min-height:auto\"><div><div id=\"LC354\" class=\"react-file-line html-div\" data-testid=\"code-cell\" data-line-number=\"354\" style=\"position:relative\">Plymouth Champ;39.0;4;86.00;64.00;1875.;16.4;81;US</div></div></div><div class=\"react-code-text react-code-line-contents\" style=\"min-height:auto\"><div><div id=\"LC355\" class=\"react-file-line html-div\" data-testid=\"code-cell\" data-line-number=\"355\" style=\"position:relative\">Honda Civic 1300;35.1;4;81.00;60.00;1760.;16.1;81;Japan</div></div></div><div class=\"react-code-text react-code-line-contents\" style=\"min-height:auto\"><div><div id=\"LC356\" class=\"react-file-line html-div\" data-testid=\"code-cell\" data-line-number=\"356\" style=\"position:relative\">Subaru;32.3;4;97.00;67.00;2065.;17.8;81;Japan</div></div></div><div class=\"react-code-text react-code-line-contents\" style=\"min-height:auto\"><div><div id=\"LC357\" class=\"react-file-line html-div\" data-testid=\"code-cell\" data-line-number=\"357\" style=\"position:relative\">Datsun 210 MPG;37.0;4;85.00;65.00;1975.;19.4;81;Japan</div></div></div><div class=\"react-code-text react-code-line-contents\" style=\"min-height:auto\"><div><div id=\"LC358\" class=\"react-file-line html-div\" data-testid=\"code-cell\" data-line-number=\"358\" style=\"position:relative\">Toyota Tercel;37.7;4;89.00;62.00;2050.;17.3;81;Japan</div></div></div><div class=\"react-code-text react-code-line-contents\" style=\"min-height:auto\"><div><div id=\"LC359\" class=\"react-file-line html-div\" data-testid=\"code-cell\" data-line-number=\"359\" style=\"position:relative\">Mazda GLC 4;34.1;4;91.00;68.00;1985.;16.0;81;Japan</div></div></div><div class=\"react-code-text react-code-line-contents\" style=\"min-height:auto\"><div><div id=\"LC360\" class=\"react-file-line html-div\" data-testid=\"code-cell\" data-line-number=\"360\" style=\"position:relative\">Plymouth Horizon 4;34.7;4;105.0;63.00;2215.;14.9;81;US</div></div></div><div class=\"react-code-text react-code-line-contents\" style=\"min-height:auto\"><div><div id=\"LC361\" class=\"react-file-line html-div\" data-testid=\"code-cell\" data-line-number=\"361\" style=\"position:relative\">Ford Escort 4W;34.4;4;98.00;65.00;2045.;16.2;81;US</div></div></div><div class=\"react-code-text react-code-line-contents\" style=\"min-height:auto\"><div><div id=\"LC362\" class=\"react-file-line html-div\" data-testid=\"code-cell\" data-line-number=\"362\" style=\"position:relative\">Ford Escort 2H;29.9;4;98.00;65.00;2380.;20.7;81;US</div></div></div><div class=\"react-code-text react-code-line-contents\" style=\"min-height:auto\"><div><div id=\"LC363\" class=\"react-file-line html-div\" data-testid=\"code-cell\" data-line-number=\"363\" style=\"position:relative\">Volkswagen Jetta;33.0;4;105.0;74.00;2190.;14.2;81;Europe</div></div></div><div class=\"react-code-text react-code-line-contents\" style=\"min-height:auto\"><div><div id=\"LC364\" class=\"react-file-line html-div\" data-testid=\"code-cell\" data-line-number=\"364\" style=\"position:relative\">Renault 18i;34.5;4;100.0;0;2320.;15.8;81;Europe</div></div></div><div class=\"react-code-text react-code-line-contents\" style=\"min-height:auto\"><div><div id=\"LC365\" class=\"react-file-line html-div\" data-testid=\"code-cell\" data-line-number=\"365\" style=\"position:relative\">Honda Prelude;33.7;4;107.0;75.00;2210.;14.4;81;Japan</div></div></div><div class=\"react-code-text react-code-line-contents\" style=\"min-height:auto\"><div><div id=\"LC366\" class=\"react-file-line html-div\" data-testid=\"code-cell\" data-line-number=\"366\" style=\"position:relative\">Toyota Corolla;32.4;4;108.0;75.00;2350.;16.8;81;Japan</div></div></div><div class=\"react-code-text react-code-line-contents\" style=\"min-height:auto\"><div><div id=\"LC367\" class=\"react-file-line html-div\" data-testid=\"code-cell\" data-line-number=\"367\" style=\"position:relative\">Datsun 200SX;32.9;4;119.0;100.0;2615.;14.8;81;Japan</div></div></div><div class=\"react-code-text react-code-line-contents\" style=\"min-height:auto\"><div><div id=\"LC368\" class=\"react-file-line html-div\" data-testid=\"code-cell\" data-line-number=\"368\" style=\"position:relative\">Mazda 626;31.6;4;120.0;74.00;2635.;18.3;81;Japan</div></div></div><div class=\"react-code-text react-code-line-contents\" style=\"min-height:auto\"><div><div id=\"LC369\" class=\"react-file-line html-div\" data-testid=\"code-cell\" data-line-number=\"369\" style=\"position:relative\">Peugeot 505s Turbo Diesel;28.1;4;141.0;80.00;3230.;20.4;81;Europe</div></div></div><div class=\"react-code-text react-code-line-contents\" style=\"min-height:auto\"><div><div id=\"LC370\" class=\"react-file-line html-div\" data-testid=\"code-cell\" data-line-number=\"370\" style=\"position:relative\">Saab 900s;0;4;121.0;110.0;2800.;15.4;81;Europe</div></div></div><div class=\"react-code-text react-code-line-contents\" style=\"min-height:auto\"><div><div id=\"LC371\" class=\"react-file-line html-div\" data-testid=\"code-cell\" data-line-number=\"371\" style=\"position:relative\">Volvo Diesel;30.7;6;145.0;76.00;3160.;19.6;81;Europe</div></div></div><div class=\"react-code-text react-code-line-contents\" style=\"min-height:auto\"><div><div id=\"LC372\" class=\"react-file-line html-div\" data-testid=\"code-cell\" data-line-number=\"372\" style=\"position:relative\">Toyota Cressida;25.4;6;168.0;116.0;2900.;12.6;81;Japan</div></div></div><div class=\"react-code-text react-code-line-contents\" style=\"min-height:auto\"><div><div id=\"LC373\" class=\"react-file-line html-div\" data-testid=\"code-cell\" data-line-number=\"373\" style=\"position:relative\">Datsun 810 Maxima;24.2;6;146.0;120.0;2930.;13.8;81;Japan</div></div></div><div class=\"react-code-text react-code-line-contents\" style=\"min-height:auto\"><div><div id=\"LC374\" class=\"react-file-line html-div\" data-testid=\"code-cell\" data-line-number=\"374\" style=\"position:relative\">Buick Century;22.4;6;231.0;110.0;3415.;15.8;81;US</div></div></div><div class=\"react-code-text react-code-line-contents\" style=\"min-height:auto\"><div><div id=\"LC375\" class=\"react-file-line html-div\" data-testid=\"code-cell\" data-line-number=\"375\" style=\"position:relative\">Oldsmobile Cutlass LS;26.6;8;350.0;105.0;3725.;19.0;81;US</div></div></div><div class=\"react-code-text react-code-line-contents\" style=\"min-height:auto\"><div><div id=\"LC376\" class=\"react-file-line html-div\" data-testid=\"code-cell\" data-line-number=\"376\" style=\"position:relative\">Ford Grenada gl;20.2;6;200.0;88.00;3060.;17.1;81;US</div></div></div><div class=\"react-code-text react-code-line-contents\" style=\"min-height:auto\"><div><div id=\"LC377\" class=\"react-file-line html-div\" data-testid=\"code-cell\" data-line-number=\"377\" style=\"position:relative\">Chrysler Lebaron Salon;17.6;6;225.0;85.00;3465.;16.6;81;US</div></div></div><div class=\"react-code-text react-code-line-contents\" style=\"min-height:auto\"><div><div id=\"LC378\" class=\"react-file-line html-div\" data-testid=\"code-cell\" data-line-number=\"378\" style=\"position:relative\">Chevrolet Cavalier;28.0;4;112.0;88.00;2605.;19.6;82;US</div></div></div><div class=\"react-code-text react-code-line-contents\" style=\"min-height:auto\"><div><div id=\"LC379\" class=\"react-file-line html-div\" data-testid=\"code-cell\" data-line-number=\"379\" style=\"position:relative\">Chevrolet Cavalier Wagon;27.0;4;112.0;88.00;2640.;18.6;82;US</div></div></div><div class=\"react-code-text react-code-line-contents\" style=\"min-height:auto\"><div><div id=\"LC380\" class=\"react-file-line html-div\" data-testid=\"code-cell\" data-line-number=\"380\" style=\"position:relative\">Chevrolet Cavalier 2-door;34.0;4;112.0;88.00;2395.;18.0;82;US</div></div></div><div class=\"react-code-text react-code-line-contents\" style=\"min-height:auto\"><div><div id=\"LC381\" class=\"react-file-line html-div\" data-testid=\"code-cell\" data-line-number=\"381\" style=\"position:relative\">Pontiac J2000 SE Hatchback;31.0;4;112.0;85.00;2575.;16.2;82;US</div></div></div><div class=\"react-code-text react-code-line-contents\" style=\"min-height:auto\"><div><div id=\"LC382\" class=\"react-file-line html-div\" data-testid=\"code-cell\" data-line-number=\"382\" style=\"position:relative\">Dodge Aries SE;29.0;4;135.0;84.00;2525.;16.0;82;US</div></div></div><div class=\"react-code-text react-code-line-contents\" style=\"min-height:auto\"><div><div id=\"LC383\" class=\"react-file-line html-div\" data-testid=\"code-cell\" data-line-number=\"383\" style=\"position:relative\">Pontiac Phoenix;27.0;4;151.0;90.00;2735.;18.0;82;US</div></div></div><div class=\"react-code-text react-code-line-contents\" style=\"min-height:auto\"><div><div id=\"LC384\" class=\"react-file-line html-div\" data-testid=\"code-cell\" data-line-number=\"384\" style=\"position:relative\">Ford Fairmont Futura;24.0;4;140.0;92.00;2865.;16.4;82;US</div></div></div><div class=\"react-code-text react-code-line-contents\" style=\"min-height:auto\"><div><div id=\"LC385\" class=\"react-file-line html-div\" data-testid=\"code-cell\" data-line-number=\"385\" style=\"position:relative\">AMC Concord DL;23.0;4;151.0;0;3035.;20.5;82;US</div></div></div><div class=\"react-code-text react-code-line-contents\" style=\"min-height:auto\"><div><div id=\"LC386\" class=\"react-file-line html-div\" data-testid=\"code-cell\" data-line-number=\"386\" style=\"position:relative\">Volkswagen Rabbit l;36.0;4;105.0;74.00;1980.;15.3;82;Europe</div></div></div><div class=\"react-code-text react-code-line-contents\" style=\"min-height:auto\"><div><div id=\"LC387\" class=\"react-file-line html-div\" data-testid=\"code-cell\" data-line-number=\"387\" style=\"position:relative\">Mazda GLC Custom l;37.0;4;91.00;68.00;2025.;18.2;82;Japan</div></div></div><div class=\"react-code-text react-code-line-contents\" style=\"min-height:auto\"><div><div id=\"LC388\" class=\"react-file-line html-div\" data-testid=\"code-cell\" data-line-number=\"388\" style=\"position:relative\">Mazda GLC Custom;31.0;4;91.00;68.00;1970.;17.6;82;Japan</div></div></div><div class=\"react-code-text react-code-line-contents\" style=\"min-height:auto\"><div><div id=\"LC389\" class=\"react-file-line html-div\" data-testid=\"code-cell\" data-line-number=\"389\" style=\"position:relative\">Plymouth Horizon Miser;38.0;4;105.0;63.00;2125.;14.7;82;US</div></div></div><div class=\"react-code-text react-code-line-contents\" style=\"min-height:auto\"><div><div id=\"LC390\" class=\"react-file-line html-div\" data-testid=\"code-cell\" data-line-number=\"390\" style=\"position:relative\">Mercury Lynx l;36.0;4;98.00;70.00;2125.;17.3;82;US</div></div></div><div class=\"react-code-text react-code-line-contents\" style=\"min-height:auto\"><div><div id=\"LC391\" class=\"react-file-line html-div\" data-testid=\"code-cell\" data-line-number=\"391\" style=\"position:relative\">Nissan Stanza XE;36.0;4;120.0;88.00;2160.;14.5;82;Japan</div></div></div><div class=\"react-code-text react-code-line-contents\" style=\"min-height:auto\"><div><div id=\"LC392\" class=\"react-file-line html-div\" data-testid=\"code-cell\" data-line-number=\"392\" style=\"position:relative\">Honda Accord;36.0;4;107.0;75.00;2205.;14.5;82;Japan</div></div></div><div class=\"react-code-text react-code-line-contents\" style=\"min-height:auto\"><div><div id=\"LC393\" class=\"react-file-line html-div\" data-testid=\"code-cell\" data-line-number=\"393\" style=\"position:relative\">Toyota Corolla;34.0;4;108.0;70.00;2245;16.9;82;Japan</div></div></div><div class=\"react-code-text react-code-line-contents\" style=\"min-height:auto\"><div><div id=\"LC394\" class=\"react-file-line html-div\" data-testid=\"code-cell\" data-line-number=\"394\" style=\"position:relative\">Honda Civic;38.0;4;91.00;67.00;1965.;15.0;82;Japan</div></div></div><div class=\"react-code-text react-code-line-contents\" style=\"min-height:auto\"><div><div id=\"LC395\" class=\"react-file-line html-div\" data-testid=\"code-cell\" data-line-number=\"395\" style=\"position:relative\">Honda Civic (auto);32.0;4;91.00;67.00;1965.;15.7;82;Japan</div></div></div><div class=\"react-code-text react-code-line-contents\" style=\"min-height:auto\"><div><div id=\"LC396\" class=\"react-file-line html-div\" data-testid=\"code-cell\" data-line-number=\"396\" style=\"position:relative\">Datsun 310 GX;38.0;4;91.00;67.00;1995.;16.2;82;Japan</div></div></div><div class=\"react-code-text react-code-line-contents\" style=\"min-height:auto\"><div><div id=\"LC397\" class=\"react-file-line html-div\" data-testid=\"code-cell\" data-line-number=\"397\" style=\"position:relative\">Buick Century Limited;25.0;6;181.0;110.0;2945.;16.4;82;US</div></div></div><div class=\"react-code-text react-code-line-contents\" style=\"min-height:auto\"><div><div id=\"LC398\" class=\"react-file-line html-div\" data-testid=\"code-cell\" data-line-number=\"398\" style=\"position:relative\">Oldsmobile Cutlass Ciera (diesel);38.0;6;262.0;85.00;3015.;17.0;82;US</div></div></div><div class=\"react-code-text react-code-line-contents\" style=\"min-height:auto\"><div><div id=\"LC399\" class=\"react-file-line html-div\" data-testid=\"code-cell\" data-line-number=\"399\" style=\"position:relative\">Chrysler Lebaron Medallion;26.0;4;156.0;92.00;2585.;14.5;82;US</div></div></div><div class=\"react-code-text react-code-line-contents\" style=\"min-height:auto\"><div><div id=\"LC400\" class=\"react-file-line html-div\" data-testid=\"code-cell\" data-line-number=\"400\" style=\"position:relative\">Ford Grenada l;22.0;6;232.0;112.0;2835;14.7;82;US</div></div></div><div class=\"react-code-text react-code-line-contents\" style=\"min-height:auto\"><div><div id=\"LC401\" class=\"react-file-line html-div\" data-testid=\"code-cell\" data-line-number=\"401\" style=\"position:relative\">Toyota Celica GT;32.0;4;144.0;96.00;2665.;13.9;82;Japan</div></div></div><div class=\"react-code-text react-code-line-contents\" style=\"min-height:auto\"><div><div id=\"LC402\" class=\"react-file-line html-div\" data-testid=\"code-cell\" data-line-number=\"402\" style=\"position:relative\">Dodge Charger 2.2;36.0;4;135.0;84.00;2370.;13.0;82;US</div></div></div><div class=\"react-code-text react-code-line-contents\" style=\"min-height:auto\"><div><div id=\"LC403\" class=\"react-file-line html-div\" data-testid=\"code-cell\" data-line-number=\"403\" style=\"position:relative\">Chevrolet Camaro;27.0;4;151.0;90.00;2950.;17.3;82;US</div></div></div><div class=\"react-code-text react-code-line-contents\" style=\"min-height:auto\"><div><div id=\"LC404\" class=\"react-file-line html-div\" data-testid=\"code-cell\" data-line-number=\"404\" style=\"position:relative\">Ford Mustang GL;27.0;4;140.0;86.00;2790.;15.6;82;US</div></div></div><div class=\"react-code-text react-code-line-contents\" style=\"min-height:auto\"><div><div id=\"LC405\" class=\"react-file-line html-div\" data-testid=\"code-cell\" data-line-number=\"405\" style=\"position:relative\">Volkswagen Pickup;44.0;4;97.00;52.00;2130.;24.6;82;Europe</div></div></div><div class=\"react-code-text react-code-line-contents\" style=\"min-height:auto\"><div><div id=\"LC406\" class=\"react-file-line html-div\" data-testid=\"code-cell\" data-line-number=\"406\" style=\"position:relative\">Dodge Rampage;32.0;4;135.0;84.00;2295.;11.6;82;US</div></div></div><div class=\"react-code-text react-code-line-contents\" style=\"min-height:auto\"><div><div id=\"LC407\" class=\"react-file-line html-div\" data-testid=\"code-cell\" data-line-number=\"407\" style=\"position:relative\">Ford Ranger;28.0;4;120.0;79.00;2625.;18.6;82;US</div></div></div><div class=\"react-code-text react-code-line-contents\" style=\"min-height:auto\"><div><div id=\"LC408\" class=\"react-file-line html-div\" data-testid=\"code-cell\" data-line-number=\"408\" style=\"position:relative\">Chevy S-10;31.0;4;119.0;82.00;2720.;19.4;82;US</div></div></div></div></div></div><div id=\"copilot-button-container\"></div></div><div id=\"highlighted-line-menu-container\"></div></div></div><button hidden=\"\" data-testid=\"hotkey-button\" data-hotkey-scope=\"read-only-cursor-text-area\"></button><button hidden=\"\"></button></section></div></div></div> <!-- --> <!-- --> </div></div></div><div class=\"Box-sc-g0xbh4-0\"></div></div></div></div></div><div id=\"find-result-marks-container\" class=\"Box-sc-g0xbh4-0 cCoXib\"></div><button hidden=\"\" data-testid=\"\" data-hotkey-scope=\"read-only-cursor-text-area\"></button><button hidden=\"\"></button></div> <!-- --> <!-- --> <script type=\"application/json\" id=\"__PRIMER_DATA_:R0:__\">{\"resolvedServerColorMode\":\"day\"}</script></div>\n",
            "</react-app>\n",
            "</turbo-frame>\n",
            "\n",
            "\n",
            "\n",
            "  </div>\n",
            "\n",
            "</turbo-frame>\n",
            "\n",
            "    </main>\n",
            "  </div>\n",
            "\n",
            "  </div>\n",
            "\n",
            "          <footer class=\"footer pt-8 pb-6 f6 color-fg-muted p-responsive\" role=\"contentinfo\" >\n",
            "  <h2 class='sr-only'>Footer</h2>\n",
            "\n",
            "  \n",
            "\n",
            "\n",
            "  <div class=\"d-flex flex-justify-center flex-items-center flex-column-reverse flex-lg-row flex-wrap flex-lg-nowrap\">\n",
            "    <div class=\"d-flex flex-items-center flex-shrink-0 mx-2\">\n",
            "      <a aria-label=\"Homepage\" title=\"GitHub\" class=\"footer-octicon mr-2\" href=\"https://github.com\">\n",
            "        <svg aria-hidden=\"true\" height=\"24\" viewBox=\"0 0 24 24\" version=\"1.1\" width=\"24\" data-view-component=\"true\" class=\"octicon octicon-mark-github\">\n",
            "    <path d=\"M12.5.75C6.146.75 1 5.896 1 12.25c0 5.089 3.292 9.387 7.863 10.91.575.101.79-.244.79-.546 0-.273-.014-1.178-.014-2.142-2.889.532-3.636-.704-3.866-1.35-.13-.331-.69-1.352-1.18-1.625-.402-.216-.977-.748-.014-.762.906-.014 1.553.834 1.769 1.179 1.035 1.74 2.688 1.25 3.349.948.1-.747.402-1.25.733-1.538-2.559-.287-5.232-1.279-5.232-5.678 0-1.25.445-2.285 1.178-3.09-.115-.288-.517-1.467.115-3.048 0 0 .963-.302 3.163 1.179.92-.259 1.897-.388 2.875-.388.977 0 1.955.13 2.875.388 2.2-1.495 3.162-1.179 3.162-1.179.633 1.581.23 2.76.115 3.048.733.805 1.179 1.825 1.179 3.09 0 4.413-2.688 5.39-5.247 5.678.417.36.776 1.05.776 2.128 0 1.538-.014 2.774-.014 3.162 0 .302.216.662.79.547C20.709 21.637 24 17.324 24 12.25 24 5.896 18.854.75 12.5.75Z\"></path>\n",
            "</svg>\n",
            "</a>\n",
            "      <span>\n",
            "        &copy; 2024 GitHub,&nbsp;Inc.\n",
            "      </span>\n",
            "    </div>\n",
            "\n",
            "    <nav aria-label=\"Footer\">\n",
            "      <h3 class=\"sr-only\" id=\"sr-footer-heading\">Footer navigation</h3>\n",
            "\n",
            "      <ul class=\"list-style-none d-flex flex-justify-center flex-wrap mb-2 mb-lg-0\" aria-labelledby=\"sr-footer-heading\">\n",
            "\n",
            "          <li class=\"mx-2\">\n",
            "            <a data-analytics-event=\"{&quot;category&quot;:&quot;Footer&quot;,&quot;action&quot;:&quot;go to Terms&quot;,&quot;label&quot;:&quot;text:terms&quot;}\" href=\"https://docs.github.com/site-policy/github-terms/github-terms-of-service\" data-view-component=\"true\" class=\"Link--secondary Link\">Terms</a>\n",
            "          </li>\n",
            "\n",
            "          <li class=\"mx-2\">\n",
            "            <a data-analytics-event=\"{&quot;category&quot;:&quot;Footer&quot;,&quot;action&quot;:&quot;go to privacy&quot;,&quot;label&quot;:&quot;text:privacy&quot;}\" href=\"https://docs.github.com/site-policy/privacy-policies/github-privacy-statement\" data-view-component=\"true\" class=\"Link--secondary Link\">Privacy</a>\n",
            "          </li>\n",
            "\n",
            "          <li class=\"mx-2\">\n",
            "            <a data-analytics-event=\"{&quot;category&quot;:&quot;Footer&quot;,&quot;action&quot;:&quot;go to security&quot;,&quot;label&quot;:&quot;text:security&quot;}\" href=\"https://github.com/security\" data-view-component=\"true\" class=\"Link--secondary Link\">Security</a>\n",
            "          </li>\n",
            "\n",
            "          <li class=\"mx-2\">\n",
            "            <a data-analytics-event=\"{&quot;category&quot;:&quot;Footer&quot;,&quot;action&quot;:&quot;go to status&quot;,&quot;label&quot;:&quot;text:status&quot;}\" href=\"https://www.githubstatus.com/\" data-view-component=\"true\" class=\"Link--secondary Link\">Status</a>\n",
            "          </li>\n",
            "\n",
            "          <li class=\"mx-2\">\n",
            "            <a data-analytics-event=\"{&quot;category&quot;:&quot;Footer&quot;,&quot;action&quot;:&quot;go to docs&quot;,&quot;label&quot;:&quot;text:docs&quot;}\" href=\"https://docs.github.com/\" data-view-component=\"true\" class=\"Link--secondary Link\">Docs</a>\n",
            "          </li>\n",
            "\n",
            "          <li class=\"mx-2\">\n",
            "            <a data-analytics-event=\"{&quot;category&quot;:&quot;Footer&quot;,&quot;action&quot;:&quot;go to contact&quot;,&quot;label&quot;:&quot;text:contact&quot;}\" href=\"https://support.github.com?tags=dotcom-footer\" data-view-component=\"true\" class=\"Link--secondary Link\">Contact</a>\n",
            "          </li>\n",
            "\n",
            "          <li class=\"mr-3\" >\n",
            "  <cookie-consent-link>\n",
            "    <button\n",
            "      type=\"button\"\n",
            "      class=\"Link--secondary underline-on-hover border-0 p-0 color-bg-transparent\"\n",
            "      data-action=\"click:cookie-consent-link#showConsentManagement\"\n",
            "      data-analytics-event=\"{&quot;location&quot;:&quot;footer&quot;,&quot;action&quot;:&quot;cookies&quot;,&quot;context&quot;:&quot;subfooter&quot;,&quot;tag&quot;:&quot;link&quot;,&quot;label&quot;:&quot;cookies_link_subfooter_footer&quot;}\"\n",
            "    >\n",
            "      Manage cookies\n",
            "    </button>\n",
            "  </cookie-consent-link>\n",
            "</li>\n",
            "\n",
            "<li class=\"mr-3\">\n",
            "  <cookie-consent-link>\n",
            "    <button\n",
            "      type=\"button\"\n",
            "      class=\"Link--secondary underline-on-hover border-0 p-0 color-bg-transparent\"\n",
            "      data-action=\"click:cookie-consent-link#showConsentManagement\"\n",
            "      data-analytics-event=\"{&quot;location&quot;:&quot;footer&quot;,&quot;action&quot;:&quot;dont_share_info&quot;,&quot;context&quot;:&quot;subfooter&quot;,&quot;tag&quot;:&quot;link&quot;,&quot;label&quot;:&quot;dont_share_info_link_subfooter_footer&quot;}\"\n",
            "    >\n",
            "      Do not share my personal information\n",
            "    </button>\n",
            "  </cookie-consent-link>\n",
            "</li>\n",
            "\n",
            "      </ul>\n",
            "    </nav>\n",
            "  </div>\n",
            "</footer>\n",
            "\n",
            "\n",
            "\n",
            "\n",
            "    <ghcc-consent id=\"ghcc\" class=\"position-fixed bottom-0 left-0\" style=\"z-index: 999999\" data-initial-cookie-consent-allowed=\"\" data-cookie-consent-required=\"false\"></ghcc-consent>\n",
            "\n",
            "\n",
            "  <div id=\"ajax-error-message\" class=\"ajax-error-message flash flash-error\" hidden>\n",
            "    <svg aria-hidden=\"true\" height=\"16\" viewBox=\"0 0 16 16\" version=\"1.1\" width=\"16\" data-view-component=\"true\" class=\"octicon octicon-alert\">\n",
            "    <path d=\"M6.457 1.047c.659-1.234 2.427-1.234 3.086 0l6.082 11.378A1.75 1.75 0 0 1 14.082 15H1.918a1.75 1.75 0 0 1-1.543-2.575Zm1.763.707a.25.25 0 0 0-.44 0L1.698 13.132a.25.25 0 0 0 .22.368h12.164a.25.25 0 0 0 .22-.368Zm.53 3.996v2.5a.75.75 0 0 1-1.5 0v-2.5a.75.75 0 0 1 1.5 0ZM9 11a1 1 0 1 1-2 0 1 1 0 0 1 2 0Z\"></path>\n",
            "</svg>\n",
            "    <button type=\"button\" class=\"flash-close js-ajax-error-dismiss\" aria-label=\"Dismiss error\">\n",
            "      <svg aria-hidden=\"true\" height=\"16\" viewBox=\"0 0 16 16\" version=\"1.1\" width=\"16\" data-view-component=\"true\" class=\"octicon octicon-x\">\n",
            "    <path d=\"M3.72 3.72a.75.75 0 0 1 1.06 0L8 6.94l3.22-3.22a.749.749 0 0 1 1.275.326.749.749 0 0 1-.215.734L9.06 8l3.22 3.22a.749.749 0 0 1-.326 1.275.749.749 0 0 1-.734-.215L8 9.06l-3.22 3.22a.751.751 0 0 1-1.042-.018.751.751 0 0 1-.018-1.042L6.94 8 3.72 4.78a.75.75 0 0 1 0-1.06Z\"></path>\n",
            "</svg>\n",
            "    </button>\n",
            "    You can’t perform that action at this time.\n",
            "  </div>\n",
            "\n",
            "    <template id=\"site-details-dialog\">\n",
            "  <details class=\"details-reset details-overlay details-overlay-dark lh-default color-fg-default hx_rsm\" open>\n",
            "    <summary role=\"button\" aria-label=\"Close dialog\"></summary>\n",
            "    <details-dialog class=\"Box Box--overlay d-flex flex-column anim-fade-in fast hx_rsm-dialog hx_rsm-modal\">\n",
            "      <button class=\"Box-btn-octicon m-0 btn-octicon position-absolute right-0 top-0\" type=\"button\" aria-label=\"Close dialog\" data-close-dialog>\n",
            "        <svg aria-hidden=\"true\" height=\"16\" viewBox=\"0 0 16 16\" version=\"1.1\" width=\"16\" data-view-component=\"true\" class=\"octicon octicon-x\">\n",
            "    <path d=\"M3.72 3.72a.75.75 0 0 1 1.06 0L8 6.94l3.22-3.22a.749.749 0 0 1 1.275.326.749.749 0 0 1-.215.734L9.06 8l3.22 3.22a.749.749 0 0 1-.326 1.275.749.749 0 0 1-.734-.215L8 9.06l-3.22 3.22a.751.751 0 0 1-1.042-.018.751.751 0 0 1-.018-1.042L6.94 8 3.72 4.78a.75.75 0 0 1 0-1.06Z\"></path>\n",
            "</svg>\n",
            "      </button>\n",
            "      <div class=\"octocat-spinner my-6 js-details-dialog-spinner\"></div>\n",
            "    </details-dialog>\n",
            "  </details>\n",
            "</template>\n",
            "\n",
            "    <div class=\"Popover js-hovercard-content position-absolute\" style=\"display: none; outline: none;\">\n",
            "  <div class=\"Popover-message Popover-message--bottom-left Popover-message--large Box color-shadow-large\" style=\"width:360px;\">\n",
            "  </div>\n",
            "</div>\n",
            "\n",
            "    <template id=\"snippet-clipboard-copy-button\">\n",
            "  <div class=\"zeroclipboard-container position-absolute right-0 top-0\">\n",
            "    <clipboard-copy aria-label=\"Copy\" class=\"ClipboardButton btn js-clipboard-copy m-2 p-0\" data-copy-feedback=\"Copied!\" data-tooltip-direction=\"w\">\n",
            "      <svg aria-hidden=\"true\" height=\"16\" viewBox=\"0 0 16 16\" version=\"1.1\" width=\"16\" data-view-component=\"true\" class=\"octicon octicon-copy js-clipboard-copy-icon m-2\">\n",
            "    <path d=\"M0 6.75C0 5.784.784 5 1.75 5h1.5a.75.75 0 0 1 0 1.5h-1.5a.25.25 0 0 0-.25.25v7.5c0 .138.112.25.25.25h7.5a.25.25 0 0 0 .25-.25v-1.5a.75.75 0 0 1 1.5 0v1.5A1.75 1.75 0 0 1 9.25 16h-7.5A1.75 1.75 0 0 1 0 14.25Z\"></path><path d=\"M5 1.75C5 .784 5.784 0 6.75 0h7.5C15.216 0 16 .784 16 1.75v7.5A1.75 1.75 0 0 1 14.25 11h-7.5A1.75 1.75 0 0 1 5 9.25Zm1.75-.25a.25.25 0 0 0-.25.25v7.5c0 .138.112.25.25.25h7.5a.25.25 0 0 0 .25-.25v-7.5a.25.25 0 0 0-.25-.25Z\"></path>\n",
            "</svg>\n",
            "      <svg aria-hidden=\"true\" height=\"16\" viewBox=\"0 0 16 16\" version=\"1.1\" width=\"16\" data-view-component=\"true\" class=\"octicon octicon-check js-clipboard-check-icon color-fg-success d-none m-2\">\n",
            "    <path d=\"M13.78 4.22a.75.75 0 0 1 0 1.06l-7.25 7.25a.75.75 0 0 1-1.06 0L2.22 9.28a.751.751 0 0 1 .018-1.042.751.751 0 0 1 1.042-.018L6 10.94l6.72-6.72a.75.75 0 0 1 1.06 0Z\"></path>\n",
            "</svg>\n",
            "    </clipboard-copy>\n",
            "  </div>\n",
            "</template>\n",
            "<template id=\"snippet-clipboard-copy-button-unpositioned\">\n",
            "  <div class=\"zeroclipboard-container\">\n",
            "    <clipboard-copy aria-label=\"Copy\" class=\"ClipboardButton btn btn-invisible js-clipboard-copy m-2 p-0 d-flex flex-justify-center flex-items-center\" data-copy-feedback=\"Copied!\" data-tooltip-direction=\"w\">\n",
            "      <svg aria-hidden=\"true\" height=\"16\" viewBox=\"0 0 16 16\" version=\"1.1\" width=\"16\" data-view-component=\"true\" class=\"octicon octicon-copy js-clipboard-copy-icon\">\n",
            "    <path d=\"M0 6.75C0 5.784.784 5 1.75 5h1.5a.75.75 0 0 1 0 1.5h-1.5a.25.25 0 0 0-.25.25v7.5c0 .138.112.25.25.25h7.5a.25.25 0 0 0 .25-.25v-1.5a.75.75 0 0 1 1.5 0v1.5A1.75 1.75 0 0 1 9.25 16h-7.5A1.75 1.75 0 0 1 0 14.25Z\"></path><path d=\"M5 1.75C5 .784 5.784 0 6.75 0h7.5C15.216 0 16 .784 16 1.75v7.5A1.75 1.75 0 0 1 14.25 11h-7.5A1.75 1.75 0 0 1 5 9.25Zm1.75-.25a.25.25 0 0 0-.25.25v7.5c0 .138.112.25.25.25h7.5a.25.25 0 0 0 .25-.25v-7.5a.25.25 0 0 0-.25-.25Z\"></path>\n",
            "</svg>\n",
            "      <svg aria-hidden=\"true\" height=\"16\" viewBox=\"0 0 16 16\" version=\"1.1\" width=\"16\" data-view-component=\"true\" class=\"octicon octicon-check js-clipboard-check-icon color-fg-success d-none\">\n",
            "    <path d=\"M13.78 4.22a.75.75 0 0 1 0 1.06l-7.25 7.25a.75.75 0 0 1-1.06 0L2.22 9.28a.751.751 0 0 1 .018-1.042.751.751 0 0 1 1.042-.018L6 10.94l6.72-6.72a.75.75 0 0 1 1.06 0Z\"></path>\n",
            "</svg>\n",
            "    </clipboard-copy>\n",
            "  </div>\n",
            "</template>\n",
            "\n",
            "\n",
            "\n",
            "\n",
            "    </div>\n",
            "\n",
            "    <div id=\"js-global-screen-reader-notice\" class=\"sr-only mt-n1\" aria-live=\"polite\" aria-atomic=\"true\" ></div>\n",
            "    <div id=\"js-global-screen-reader-notice-assertive\" class=\"sr-only mt-n1\" aria-live=\"assertive\" aria-atomic=\"true\"></div>\n",
            "  </body>\n",
            "</html>\n",
            "\n"
          ]
        }
      ]
    },
    {
      "cell_type": "code",
      "metadata": {
        "id": "hz6ALr5mMqZt",
        "colab": {
          "base_uri": "https://localhost:8080/"
        },
        "outputId": "05d04bcc-8d5e-4d1b-ca56-ba70f2a5eaab"
      },
      "source": [
        "# Load data from csv to a dataframe.\n",
        "# header=True means the first row is a header\n",
        "# sep=';' means the column are seperated using ''\n",
        "df = spark.read.csv('cars.csv', header=True, sep=\";\")\n",
        "df.show(20)"
      ],
      "execution_count": 45,
      "outputs": [
        {
          "output_type": "stream",
          "name": "stdout",
          "text": [
            "+--------------------+------+---------+------------+----------+------+------------+-----+------+\n",
            "|                 Car|   MPG|Cylinders|Displacement|Horsepower|Weight|Acceleration|Model|Origin|\n",
            "+--------------------+------+---------+------------+----------+------+------------+-----+------+\n",
            "|              STRING|DOUBLE|      INT|      DOUBLE|    DOUBLE|DOUBLE|      DOUBLE|  INT|   CAT|\n",
            "|Chevrolet Chevell...|  18.0|        8|       307.0|     130.0| 3504.|        12.0|   70|    US|\n",
            "|   Buick Skylark 320|  15.0|        8|       350.0|     165.0| 3693.|        11.5|   70|    US|\n",
            "|  Plymouth Satellite|  18.0|        8|       318.0|     150.0| 3436.|        11.0|   70|    US|\n",
            "|       AMC Rebel SST|  16.0|        8|       304.0|     150.0| 3433.|        12.0|   70|    US|\n",
            "|         Ford Torino|  17.0|        8|       302.0|     140.0| 3449.|        10.5|   70|    US|\n",
            "|    Ford Galaxie 500|  15.0|        8|       429.0|     198.0| 4341.|        10.0|   70|    US|\n",
            "|    Chevrolet Impala|  14.0|        8|       454.0|     220.0| 4354.|         9.0|   70|    US|\n",
            "|   Plymouth Fury iii|  14.0|        8|       440.0|     215.0| 4312.|         8.5|   70|    US|\n",
            "|    Pontiac Catalina|  14.0|        8|       455.0|     225.0| 4425.|        10.0|   70|    US|\n",
            "|  AMC Ambassador DPL|  15.0|        8|       390.0|     190.0| 3850.|         8.5|   70|    US|\n",
            "|Citroen DS-21 Pallas|     0|        4|       133.0|     115.0| 3090.|        17.5|   70|Europe|\n",
            "|Chevrolet Chevell...|     0|        8|       350.0|     165.0| 4142.|        11.5|   70|    US|\n",
            "|    Ford Torino (sw)|     0|        8|       351.0|     153.0| 4034.|        11.0|   70|    US|\n",
            "|Plymouth Satellit...|     0|        8|       383.0|     175.0| 4166.|        10.5|   70|    US|\n",
            "|  AMC Rebel SST (sw)|     0|        8|       360.0|     175.0| 3850.|        11.0|   70|    US|\n",
            "| Dodge Challenger SE|  15.0|        8|       383.0|     170.0| 3563.|        10.0|   70|    US|\n",
            "|  Plymouth 'Cuda 340|  14.0|        8|       340.0|     160.0| 3609.|         8.0|   70|    US|\n",
            "|Ford Mustang Boss...|     0|        8|       302.0|     140.0| 3353.|         8.0|   70|    US|\n",
            "|Chevrolet Monte C...|  15.0|        8|       400.0|     150.0| 3761.|         9.5|   70|    US|\n",
            "+--------------------+------+---------+------------+----------+------+------------+-----+------+\n",
            "only showing top 20 rows\n",
            "\n"
          ]
        }
      ]
    },
    {
      "cell_type": "markdown",
      "metadata": {
        "id": "N0lCS2LNwnoy"
      },
      "source": [
        "The above command loads our data from into a dataframe (DF). A dataframe is a 2-dimensional labeled data structure with columns of potentially different types."
      ]
    },
    {
      "cell_type": "markdown",
      "metadata": {
        "id": "_QwZtWxZRCBn"
      },
      "source": [
        "<a id='viewing-the-dataframe'></a>\n",
        "### Viewing the Dataframe"
      ]
    },
    {
      "cell_type": "markdown",
      "metadata": {
        "id": "50LZ3S8_PMg_"
      },
      "source": [
        "There are a couple of ways to view your dataframe(DF) in PySpark:\n",
        "\n",
        "1.   `df.take(5)` will return a list of five Row objects.\n",
        "2.   `df.collect()` will get all of the data from the entire DataFrame. Be really careful when using it, because if you have a large data set, you can easily crash the driver node.\n",
        "3.   `df.show()` is the most commonly used method to view a dataframe. There are a few parameters we can pass to this method, like the number of rows and truncaiton. For example, `df.show(5, False)` or ` df.show(5, truncate=False)` will show the entire data wihtout any truncation.\n",
        "4.   `df.limit(5)` will **return a new DataFrame** by taking the first n rows. As spark is distributed in nature, there is no guarantee that `df.limit()` will give you the same results each time.\n",
        "\n",
        "Let us see some of them in action below:"
      ]
    },
    {
      "cell_type": "code",
      "metadata": {
        "colab": {
          "base_uri": "https://localhost:8080/"
        },
        "id": "I1qqkqcfxM0v",
        "outputId": "6c4be78f-0866-4881-f313-c0f35e357726"
      },
      "source": [
        "df.show(5, truncate=False)"
      ],
      "execution_count": 46,
      "outputs": [
        {
          "output_type": "stream",
          "name": "stdout",
          "text": [
            "+-------------------------+------+---------+------------+----------+------+------------+-----+------+\n",
            "|Car                      |MPG   |Cylinders|Displacement|Horsepower|Weight|Acceleration|Model|Origin|\n",
            "+-------------------------+------+---------+------------+----------+------+------------+-----+------+\n",
            "|STRING                   |DOUBLE|INT      |DOUBLE      |DOUBLE    |DOUBLE|DOUBLE      |INT  |CAT   |\n",
            "|Chevrolet Chevelle Malibu|18.0  |8        |307.0       |130.0     |3504. |12.0        |70   |US    |\n",
            "|Buick Skylark 320        |15.0  |8        |350.0       |165.0     |3693. |11.5        |70   |US    |\n",
            "|Plymouth Satellite       |18.0  |8        |318.0       |150.0     |3436. |11.0        |70   |US    |\n",
            "|AMC Rebel SST            |16.0  |8        |304.0       |150.0     |3433. |12.0        |70   |US    |\n",
            "+-------------------------+------+---------+------------+----------+------+------------+-----+------+\n",
            "only showing top 5 rows\n",
            "\n"
          ]
        }
      ]
    },
    {
      "cell_type": "code",
      "metadata": {
        "colab": {
          "base_uri": "https://localhost:8080/",
          "height": 161
        },
        "id": "R9zwzswIxXF9",
        "outputId": "324cb757-c8cb-4072-a3fa-c7f339ea24fa"
      },
      "source": [
        "df.limit(5)"
      ],
      "execution_count": 47,
      "outputs": [
        {
          "output_type": "execute_result",
          "data": {
            "text/plain": [
              "+--------------------+------+---------+------------+----------+------+------------+-----+------+\n",
              "|                 Car|   MPG|Cylinders|Displacement|Horsepower|Weight|Acceleration|Model|Origin|\n",
              "+--------------------+------+---------+------------+----------+------+------------+-----+------+\n",
              "|              STRING|DOUBLE|      INT|      DOUBLE|    DOUBLE|DOUBLE|      DOUBLE|  INT|   CAT|\n",
              "|Chevrolet Chevell...|  18.0|        8|       307.0|     130.0| 3504.|        12.0|   70|    US|\n",
              "|   Buick Skylark 320|  15.0|        8|       350.0|     165.0| 3693.|        11.5|   70|    US|\n",
              "|  Plymouth Satellite|  18.0|        8|       318.0|     150.0| 3436.|        11.0|   70|    US|\n",
              "|       AMC Rebel SST|  16.0|        8|       304.0|     150.0| 3433.|        12.0|   70|    US|\n",
              "+--------------------+------+---------+------------+----------+------+------------+-----+------+"
            ],
            "text/html": [
              "<table border='1'>\n",
              "<tr><th>Car</th><th>MPG</th><th>Cylinders</th><th>Displacement</th><th>Horsepower</th><th>Weight</th><th>Acceleration</th><th>Model</th><th>Origin</th></tr>\n",
              "<tr><td>STRING</td><td>DOUBLE</td><td>INT</td><td>DOUBLE</td><td>DOUBLE</td><td>DOUBLE</td><td>DOUBLE</td><td>INT</td><td>CAT</td></tr>\n",
              "<tr><td>Chevrolet Chevell...</td><td>18.0</td><td>8</td><td>307.0</td><td>130.0</td><td>3504.</td><td>12.0</td><td>70</td><td>US</td></tr>\n",
              "<tr><td>Buick Skylark 320</td><td>15.0</td><td>8</td><td>350.0</td><td>165.0</td><td>3693.</td><td>11.5</td><td>70</td><td>US</td></tr>\n",
              "<tr><td>Plymouth Satellite</td><td>18.0</td><td>8</td><td>318.0</td><td>150.0</td><td>3436.</td><td>11.0</td><td>70</td><td>US</td></tr>\n",
              "<tr><td>AMC Rebel SST</td><td>16.0</td><td>8</td><td>304.0</td><td>150.0</td><td>3433.</td><td>12.0</td><td>70</td><td>US</td></tr>\n",
              "</table>\n"
            ]
          },
          "metadata": {},
          "execution_count": 47
        }
      ]
    },
    {
      "cell_type": "markdown",
      "metadata": {
        "id": "eUazdCEmu_sp"
      },
      "source": [
        "<a id='viewing-dataframe-columns'></a>\n",
        "### Viewing Dataframe Columns"
      ]
    },
    {
      "cell_type": "code",
      "metadata": {
        "colab": {
          "base_uri": "https://localhost:8080/"
        },
        "id": "9o7jsazcu-13",
        "outputId": "ec756bc5-c4e3-4491-bf10-27b0bb351f24"
      },
      "source": [
        "df.columns"
      ],
      "execution_count": 48,
      "outputs": [
        {
          "output_type": "execute_result",
          "data": {
            "text/plain": [
              "['Car',\n",
              " 'MPG',\n",
              " 'Cylinders',\n",
              " 'Displacement',\n",
              " 'Horsepower',\n",
              " 'Weight',\n",
              " 'Acceleration',\n",
              " 'Model',\n",
              " 'Origin']"
            ]
          },
          "metadata": {},
          "execution_count": 48
        }
      ]
    },
    {
      "cell_type": "markdown",
      "metadata": {
        "id": "3lfS2DhHuhPl"
      },
      "source": [
        "<a id='dataframe-schema'></a>\n",
        "### Dataframe Schema"
      ]
    },
    {
      "cell_type": "markdown",
      "metadata": {
        "id": "-xX7hRoW_cXY"
      },
      "source": [
        "There are two methods commonly used to view the data types of a dataframe:"
      ]
    },
    {
      "cell_type": "code",
      "metadata": {
        "id": "w6qwTjGsNxrw",
        "colab": {
          "base_uri": "https://localhost:8080/"
        },
        "outputId": "de921ccb-f62d-42ab-8caf-d1f62cb23c00"
      },
      "source": [
        "df.dtypes"
      ],
      "execution_count": 49,
      "outputs": [
        {
          "output_type": "execute_result",
          "data": {
            "text/plain": [
              "[('Car', 'string'),\n",
              " ('MPG', 'string'),\n",
              " ('Cylinders', 'string'),\n",
              " ('Displacement', 'string'),\n",
              " ('Horsepower', 'string'),\n",
              " ('Weight', 'string'),\n",
              " ('Acceleration', 'string'),\n",
              " ('Model', 'string'),\n",
              " ('Origin', 'string')]"
            ]
          },
          "metadata": {},
          "execution_count": 49
        }
      ]
    },
    {
      "cell_type": "code",
      "metadata": {
        "id": "CCGTFlCWRPw4",
        "colab": {
          "base_uri": "https://localhost:8080/"
        },
        "outputId": "d57d5440-9cde-4d0c-8ec8-c56e5dfe717b"
      },
      "source": [
        "df.printSchema()"
      ],
      "execution_count": 50,
      "outputs": [
        {
          "output_type": "stream",
          "name": "stdout",
          "text": [
            "root\n",
            " |-- Car: string (nullable = true)\n",
            " |-- MPG: string (nullable = true)\n",
            " |-- Cylinders: string (nullable = true)\n",
            " |-- Displacement: string (nullable = true)\n",
            " |-- Horsepower: string (nullable = true)\n",
            " |-- Weight: string (nullable = true)\n",
            " |-- Acceleration: string (nullable = true)\n",
            " |-- Model: string (nullable = true)\n",
            " |-- Origin: string (nullable = true)\n",
            "\n"
          ]
        }
      ]
    },
    {
      "cell_type": "markdown",
      "metadata": {
        "id": "RXx5ATpZ9oor"
      },
      "source": [
        "<a id='implicit-schema-inference'></a>\n",
        "#### Inferring Schema Implicitly"
      ]
    },
    {
      "cell_type": "markdown",
      "metadata": {
        "id": "7TeflTUp8l29"
      },
      "source": [
        "We can use the parameter `inferschema=true` to infer the input schema automatically while loading the data. An example is shown below:"
      ]
    },
    {
      "cell_type": "code",
      "metadata": {
        "colab": {
          "base_uri": "https://localhost:8080/"
        },
        "id": "Qym5MjCi894N",
        "outputId": "27c13af3-f52d-4c00-a597-65edb5eb65a7"
      },
      "source": [
        "df = spark.read.csv('cars.csv', header=True, sep=\";\", inferSchema=True)\n",
        "df.printSchema()"
      ],
      "execution_count": 51,
      "outputs": [
        {
          "output_type": "stream",
          "name": "stdout",
          "text": [
            "root\n",
            " |-- Car: string (nullable = true)\n",
            " |-- MPG: string (nullable = true)\n",
            " |-- Cylinders: string (nullable = true)\n",
            " |-- Displacement: string (nullable = true)\n",
            " |-- Horsepower: string (nullable = true)\n",
            " |-- Weight: string (nullable = true)\n",
            " |-- Acceleration: string (nullable = true)\n",
            " |-- Model: string (nullable = true)\n",
            " |-- Origin: string (nullable = true)\n",
            "\n"
          ]
        }
      ]
    },
    {
      "cell_type": "markdown",
      "metadata": {
        "id": "G6jTedYd-Dhb"
      },
      "source": [
        "As you can see, the datatype has been infered automatically spark with even the correct precison for decimal type. A problem that might arise here is that sometimes, when you have to read multiple files with different schemas in different files, there might be an issue with implicit inferring leading to null values in some columns. Therefore, let us also see how to define schemas explicitly."
      ]
    },
    {
      "cell_type": "markdown",
      "metadata": {
        "id": "yTVjYqeRuxWn"
      },
      "source": [
        "<a id='explicit-schema-inference'></a>\n",
        "#### Defining Schema Explicitly"
      ]
    },
    {
      "cell_type": "code",
      "metadata": {
        "id": "xpsaQ4JMRUiS",
        "colab": {
          "base_uri": "https://localhost:8080/"
        },
        "outputId": "8a72fcc8-8040-46c5-f0b5-5c551c9e81e4"
      },
      "source": [
        "from pyspark.sql.types import *\n",
        "df.columns"
      ],
      "execution_count": 52,
      "outputs": [
        {
          "output_type": "execute_result",
          "data": {
            "text/plain": [
              "['Car',\n",
              " 'MPG',\n",
              " 'Cylinders',\n",
              " 'Displacement',\n",
              " 'Horsepower',\n",
              " 'Weight',\n",
              " 'Acceleration',\n",
              " 'Model',\n",
              " 'Origin']"
            ]
          },
          "metadata": {},
          "execution_count": 52
        }
      ]
    },
    {
      "cell_type": "code",
      "metadata": {
        "id": "ik62VX34SlFh"
      },
      "source": [
        "# Creating a list of the schema in the format column_name, data_type\n",
        "labels = [\n",
        "     ('Car',StringType()),\n",
        "     ('MPG',DoubleType()),\n",
        "     ('Cylinders',IntegerType()),\n",
        "     ('Displacement',DoubleType()),\n",
        "     ('Horsepower',DoubleType()),\n",
        "     ('Weight',DoubleType()),\n",
        "     ('Acceleration',DoubleType()),\n",
        "     ('Model',IntegerType()),\n",
        "     ('Origin',StringType())\n",
        "]"
      ],
      "execution_count": 53,
      "outputs": []
    },
    {
      "cell_type": "code",
      "metadata": {
        "id": "T-Fp5y_oU9SF",
        "colab": {
          "base_uri": "https://localhost:8080/"
        },
        "outputId": "65a5ad73-8098-4872-bd2e-c068b86576d9"
      },
      "source": [
        "# Creating the schema that will be passed when reading the csv\n",
        "schema = StructType([StructField (x[0], x[1], True) for x in labels])\n",
        "schema"
      ],
      "execution_count": 54,
      "outputs": [
        {
          "output_type": "execute_result",
          "data": {
            "text/plain": [
              "StructType([StructField('Car', StringType(), True), StructField('MPG', DoubleType(), True), StructField('Cylinders', IntegerType(), True), StructField('Displacement', DoubleType(), True), StructField('Horsepower', DoubleType(), True), StructField('Weight', DoubleType(), True), StructField('Acceleration', DoubleType(), True), StructField('Model', IntegerType(), True), StructField('Origin', StringType(), True)])"
            ]
          },
          "metadata": {},
          "execution_count": 54
        }
      ]
    },
    {
      "cell_type": "code",
      "metadata": {
        "id": "sgC7gtL5VTls",
        "colab": {
          "base_uri": "https://localhost:8080/"
        },
        "outputId": "9e7ae0ef-a47e-491e-9418-6065a8964086"
      },
      "source": [
        "df = spark.read.csv('cars.csv', header=True, sep=\";\", schema=schema)\n",
        "df.printSchema()\n",
        "# The schema comes as we gave!"
      ],
      "execution_count": 55,
      "outputs": [
        {
          "output_type": "stream",
          "name": "stdout",
          "text": [
            "root\n",
            " |-- Car: string (nullable = true)\n",
            " |-- MPG: double (nullable = true)\n",
            " |-- Cylinders: integer (nullable = true)\n",
            " |-- Displacement: double (nullable = true)\n",
            " |-- Horsepower: double (nullable = true)\n",
            " |-- Weight: double (nullable = true)\n",
            " |-- Acceleration: double (nullable = true)\n",
            " |-- Model: integer (nullable = true)\n",
            " |-- Origin: string (nullable = true)\n",
            "\n"
          ]
        }
      ]
    },
    {
      "cell_type": "code",
      "metadata": {
        "id": "Dn2EAhesVmx0",
        "colab": {
          "base_uri": "https://localhost:8080/"
        },
        "outputId": "43b8922c-e602-4229-923e-abd8171f93e1"
      },
      "source": [
        "df.show(truncate=False)"
      ],
      "execution_count": 56,
      "outputs": [
        {
          "output_type": "stream",
          "name": "stdout",
          "text": [
            "+--------------------------------+----+---------+------------+----------+------+------------+-----+------+\n",
            "|Car                             |MPG |Cylinders|Displacement|Horsepower|Weight|Acceleration|Model|Origin|\n",
            "+--------------------------------+----+---------+------------+----------+------+------------+-----+------+\n",
            "|STRING                          |NULL|NULL     |NULL        |NULL      |NULL  |NULL        |NULL |CAT   |\n",
            "|Chevrolet Chevelle Malibu       |18.0|8        |307.0       |130.0     |3504.0|12.0        |70   |US    |\n",
            "|Buick Skylark 320               |15.0|8        |350.0       |165.0     |3693.0|11.5        |70   |US    |\n",
            "|Plymouth Satellite              |18.0|8        |318.0       |150.0     |3436.0|11.0        |70   |US    |\n",
            "|AMC Rebel SST                   |16.0|8        |304.0       |150.0     |3433.0|12.0        |70   |US    |\n",
            "|Ford Torino                     |17.0|8        |302.0       |140.0     |3449.0|10.5        |70   |US    |\n",
            "|Ford Galaxie 500                |15.0|8        |429.0       |198.0     |4341.0|10.0        |70   |US    |\n",
            "|Chevrolet Impala                |14.0|8        |454.0       |220.0     |4354.0|9.0         |70   |US    |\n",
            "|Plymouth Fury iii               |14.0|8        |440.0       |215.0     |4312.0|8.5         |70   |US    |\n",
            "|Pontiac Catalina                |14.0|8        |455.0       |225.0     |4425.0|10.0        |70   |US    |\n",
            "|AMC Ambassador DPL              |15.0|8        |390.0       |190.0     |3850.0|8.5         |70   |US    |\n",
            "|Citroen DS-21 Pallas            |0.0 |4        |133.0       |115.0     |3090.0|17.5        |70   |Europe|\n",
            "|Chevrolet Chevelle Concours (sw)|0.0 |8        |350.0       |165.0     |4142.0|11.5        |70   |US    |\n",
            "|Ford Torino (sw)                |0.0 |8        |351.0       |153.0     |4034.0|11.0        |70   |US    |\n",
            "|Plymouth Satellite (sw)         |0.0 |8        |383.0       |175.0     |4166.0|10.5        |70   |US    |\n",
            "|AMC Rebel SST (sw)              |0.0 |8        |360.0       |175.0     |3850.0|11.0        |70   |US    |\n",
            "|Dodge Challenger SE             |15.0|8        |383.0       |170.0     |3563.0|10.0        |70   |US    |\n",
            "|Plymouth 'Cuda 340              |14.0|8        |340.0       |160.0     |3609.0|8.0         |70   |US    |\n",
            "|Ford Mustang Boss 302           |0.0 |8        |302.0       |140.0     |3353.0|8.0         |70   |US    |\n",
            "|Chevrolet Monte Carlo           |15.0|8        |400.0       |150.0     |3761.0|9.5         |70   |US    |\n",
            "+--------------------------------+----+---------+------------+----------+------+------------+-----+------+\n",
            "only showing top 20 rows\n",
            "\n"
          ]
        }
      ]
    },
    {
      "cell_type": "markdown",
      "metadata": {
        "id": "MDCO3TEe95OY"
      },
      "source": [
        "As we can see here, the data has been successully loaded with the specified datatypes."
      ]
    },
    {
      "cell_type": "markdown",
      "metadata": {
        "id": "rsD48rckdHPe"
      },
      "source": [
        "<a id='dataframe-operations-on-columns'></a>\n",
        "## DataFrame Operations on Columns"
      ]
    },
    {
      "cell_type": "markdown",
      "metadata": {
        "id": "cMlxdWfSY8ks"
      },
      "source": [
        "We will go over the following in this section:\n",
        "\n",
        "1.   Selecting Columns\n",
        "2.   Selecting Multiple Columns\n",
        "3.   Adding New Columns\n",
        "4.   Renaming Columns\n",
        "5.   Grouping By Columns\n",
        "6.   Removing Columns\n",
        "\n"
      ]
    },
    {
      "cell_type": "markdown",
      "metadata": {
        "id": "ikGR5pDICTu7"
      },
      "source": [
        "<a id='selecting-columns'></a>\n",
        "### Selecting Columns"
      ]
    },
    {
      "cell_type": "markdown",
      "metadata": {
        "id": "-VMwIwi2rj_o"
      },
      "source": [
        "There are multiple ways to do a select in PySpark. You can find how they differ and how each below:"
      ]
    },
    {
      "cell_type": "code",
      "metadata": {
        "id": "ge9-_ygideWk",
        "colab": {
          "base_uri": "https://localhost:8080/"
        },
        "outputId": "ca3de3c4-8604-46b4-d69d-53b76535b3e5"
      },
      "source": [
        "# 1st method\n",
        "\n",
        "print(df.Car)\n",
        "print(\"*\"*20)\n",
        "df.select(df.Car).show(truncate=False)"
      ],
      "execution_count": 60,
      "outputs": [
        {
          "output_type": "stream",
          "name": "stdout",
          "text": [
            "Column<'Car'>\n",
            "********************\n",
            "+--------------------------------+\n",
            "|Car                             |\n",
            "+--------------------------------+\n",
            "|STRING                          |\n",
            "|Chevrolet Chevelle Malibu       |\n",
            "|Buick Skylark 320               |\n",
            "|Plymouth Satellite              |\n",
            "|AMC Rebel SST                   |\n",
            "|Ford Torino                     |\n",
            "|Ford Galaxie 500                |\n",
            "|Chevrolet Impala                |\n",
            "|Plymouth Fury iii               |\n",
            "|Pontiac Catalina                |\n",
            "|AMC Ambassador DPL              |\n",
            "|Citroen DS-21 Pallas            |\n",
            "|Chevrolet Chevelle Concours (sw)|\n",
            "|Ford Torino (sw)                |\n",
            "|Plymouth Satellite (sw)         |\n",
            "|AMC Rebel SST (sw)              |\n",
            "|Dodge Challenger SE             |\n",
            "|Plymouth 'Cuda 340              |\n",
            "|Ford Mustang Boss 302           |\n",
            "|Chevrolet Monte Carlo           |\n",
            "+--------------------------------+\n",
            "only showing top 20 rows\n",
            "\n"
          ]
        }
      ]
    },
    {
      "cell_type": "markdown",
      "metadata": {
        "id": "YxP1su8veNde"
      },
      "source": [
        "**NOTE:**\n",
        "\n",
        "> **We can't always use the dot notation because this will break when the column names have reserved names or attributes to the data frame class. Additionally, the column names are case sensitive in nature so we need to always make sure the column names have been changed to a paticular case before using it.**\n",
        "\n"
      ]
    },
    {
      "cell_type": "code",
      "metadata": {
        "id": "md5zaET8dsr4",
        "colab": {
          "base_uri": "https://localhost:8080/"
        },
        "outputId": "ea9dfa08-5071-434c-c5e6-2843d9ffea8d"
      },
      "source": [
        "# 2nd method\n",
        "\n",
        "print(df['car'])\n",
        "print(\"*\"*20)\n",
        "df.select(df['car']).show(truncate=False)"
      ],
      "execution_count": 63,
      "outputs": [
        {
          "output_type": "stream",
          "name": "stdout",
          "text": [
            "Column<'car'>\n",
            "********************\n",
            "+--------------------------------+\n",
            "|car                             |\n",
            "+--------------------------------+\n",
            "|STRING                          |\n",
            "|Chevrolet Chevelle Malibu       |\n",
            "|Buick Skylark 320               |\n",
            "|Plymouth Satellite              |\n",
            "|AMC Rebel SST                   |\n",
            "|Ford Torino                     |\n",
            "|Ford Galaxie 500                |\n",
            "|Chevrolet Impala                |\n",
            "|Plymouth Fury iii               |\n",
            "|Pontiac Catalina                |\n",
            "|AMC Ambassador DPL              |\n",
            "|Citroen DS-21 Pallas            |\n",
            "|Chevrolet Chevelle Concours (sw)|\n",
            "|Ford Torino (sw)                |\n",
            "|Plymouth Satellite (sw)         |\n",
            "|AMC Rebel SST (sw)              |\n",
            "|Dodge Challenger SE             |\n",
            "|Plymouth 'Cuda 340              |\n",
            "|Ford Mustang Boss 302           |\n",
            "|Chevrolet Monte Carlo           |\n",
            "+--------------------------------+\n",
            "only showing top 20 rows\n",
            "\n"
          ]
        }
      ]
    },
    {
      "cell_type": "code",
      "metadata": {
        "id": "6Gkf14sHec9a",
        "colab": {
          "base_uri": "https://localhost:8080/"
        },
        "outputId": "3a4f62d3-7add-41ca-da84-0a7c0884e875"
      },
      "source": [
        "# 3rd method\n",
        "\n",
        "from pyspark.sql.functions import col\n",
        "df.select(col('car')).show(truncate=False)"
      ],
      "execution_count": null,
      "outputs": [
        {
          "output_type": "stream",
          "name": "stdout",
          "text": [
            "+--------------------------------+\n",
            "|car                             |\n",
            "+--------------------------------+\n",
            "|Chevrolet Chevelle Malibu       |\n",
            "|Buick Skylark 320               |\n",
            "|Plymouth Satellite              |\n",
            "|AMC Rebel SST                   |\n",
            "|Ford Torino                     |\n",
            "|Ford Galaxie 500                |\n",
            "|Chevrolet Impala                |\n",
            "|Plymouth Fury iii               |\n",
            "|Pontiac Catalina                |\n",
            "|AMC Ambassador DPL              |\n",
            "|Citroen DS-21 Pallas            |\n",
            "|Chevrolet Chevelle Concours (sw)|\n",
            "|Ford Torino (sw)                |\n",
            "|Plymouth Satellite (sw)         |\n",
            "|AMC Rebel SST (sw)              |\n",
            "|Dodge Challenger SE             |\n",
            "|Plymouth 'Cuda 340              |\n",
            "|Ford Mustang Boss 302           |\n",
            "|Chevrolet Monte Carlo           |\n",
            "|Buick Estate Wagon (sw)         |\n",
            "+--------------------------------+\n",
            "only showing top 20 rows\n",
            "\n"
          ]
        }
      ]
    },
    {
      "cell_type": "markdown",
      "metadata": {
        "id": "z6QsMfnNt3qF"
      },
      "source": [
        "<a id='selecting-multiple-columns'></a>\n",
        "### Selecting Multiple Columns"
      ]
    },
    {
      "cell_type": "code",
      "metadata": {
        "colab": {
          "base_uri": "https://localhost:8080/"
        },
        "id": "bPjLMhZ6uAQR",
        "outputId": "a76790ef-514a-4369-ec01-df690f25158f"
      },
      "source": [
        "# 1st method\n",
        "\n",
        "print(df.Car, df.Cylinders)\n",
        "print(\"*\"*40)\n",
        "df.select(df.Car, df.Cylinders).show(truncate=False)"
      ],
      "execution_count": 64,
      "outputs": [
        {
          "output_type": "stream",
          "name": "stdout",
          "text": [
            "Column<'Car'> Column<'Cylinders'>\n",
            "****************************************\n",
            "+--------------------------------+---------+\n",
            "|Car                             |Cylinders|\n",
            "+--------------------------------+---------+\n",
            "|STRING                          |NULL     |\n",
            "|Chevrolet Chevelle Malibu       |8        |\n",
            "|Buick Skylark 320               |8        |\n",
            "|Plymouth Satellite              |8        |\n",
            "|AMC Rebel SST                   |8        |\n",
            "|Ford Torino                     |8        |\n",
            "|Ford Galaxie 500                |8        |\n",
            "|Chevrolet Impala                |8        |\n",
            "|Plymouth Fury iii               |8        |\n",
            "|Pontiac Catalina                |8        |\n",
            "|AMC Ambassador DPL              |8        |\n",
            "|Citroen DS-21 Pallas            |4        |\n",
            "|Chevrolet Chevelle Concours (sw)|8        |\n",
            "|Ford Torino (sw)                |8        |\n",
            "|Plymouth Satellite (sw)         |8        |\n",
            "|AMC Rebel SST (sw)              |8        |\n",
            "|Dodge Challenger SE             |8        |\n",
            "|Plymouth 'Cuda 340              |8        |\n",
            "|Ford Mustang Boss 302           |8        |\n",
            "|Chevrolet Monte Carlo           |8        |\n",
            "+--------------------------------+---------+\n",
            "only showing top 20 rows\n",
            "\n"
          ]
        }
      ]
    },
    {
      "cell_type": "code",
      "metadata": {
        "colab": {
          "base_uri": "https://localhost:8080/"
        },
        "id": "DMRMUrv7uHWa",
        "outputId": "b9b86a0d-4912-4708-edc3-5ae29ac9e4c8"
      },
      "source": [
        "# 2nd method\n",
        "\n",
        "print(df['car'],df['cylinders'])\n",
        "print(\"*\"*40)\n",
        "df.select(df['car'],df['cylinders']).show(truncate=False)"
      ],
      "execution_count": 65,
      "outputs": [
        {
          "output_type": "stream",
          "name": "stdout",
          "text": [
            "Column<'car'> Column<'cylinders'>\n",
            "****************************************\n",
            "+--------------------------------+---------+\n",
            "|car                             |cylinders|\n",
            "+--------------------------------+---------+\n",
            "|STRING                          |NULL     |\n",
            "|Chevrolet Chevelle Malibu       |8        |\n",
            "|Buick Skylark 320               |8        |\n",
            "|Plymouth Satellite              |8        |\n",
            "|AMC Rebel SST                   |8        |\n",
            "|Ford Torino                     |8        |\n",
            "|Ford Galaxie 500                |8        |\n",
            "|Chevrolet Impala                |8        |\n",
            "|Plymouth Fury iii               |8        |\n",
            "|Pontiac Catalina                |8        |\n",
            "|AMC Ambassador DPL              |8        |\n",
            "|Citroen DS-21 Pallas            |4        |\n",
            "|Chevrolet Chevelle Concours (sw)|8        |\n",
            "|Ford Torino (sw)                |8        |\n",
            "|Plymouth Satellite (sw)         |8        |\n",
            "|AMC Rebel SST (sw)              |8        |\n",
            "|Dodge Challenger SE             |8        |\n",
            "|Plymouth 'Cuda 340              |8        |\n",
            "|Ford Mustang Boss 302           |8        |\n",
            "|Chevrolet Monte Carlo           |8        |\n",
            "+--------------------------------+---------+\n",
            "only showing top 20 rows\n",
            "\n"
          ]
        }
      ]
    },
    {
      "cell_type": "code",
      "metadata": {
        "colab": {
          "base_uri": "https://localhost:8080/"
        },
        "id": "RgQ20-4GugjR",
        "outputId": "5313acee-95e3-4b71-e0e7-bb06be40dd32"
      },
      "source": [
        "# 3rd method\n",
        "\n",
        "from pyspark.sql.functions import col\n",
        "df.select(col('car'),col('cylinders')).show(truncate=False)"
      ],
      "execution_count": 66,
      "outputs": [
        {
          "output_type": "stream",
          "name": "stdout",
          "text": [
            "+--------------------------------+---------+\n",
            "|car                             |cylinders|\n",
            "+--------------------------------+---------+\n",
            "|STRING                          |NULL     |\n",
            "|Chevrolet Chevelle Malibu       |8        |\n",
            "|Buick Skylark 320               |8        |\n",
            "|Plymouth Satellite              |8        |\n",
            "|AMC Rebel SST                   |8        |\n",
            "|Ford Torino                     |8        |\n",
            "|Ford Galaxie 500                |8        |\n",
            "|Chevrolet Impala                |8        |\n",
            "|Plymouth Fury iii               |8        |\n",
            "|Pontiac Catalina                |8        |\n",
            "|AMC Ambassador DPL              |8        |\n",
            "|Citroen DS-21 Pallas            |4        |\n",
            "|Chevrolet Chevelle Concours (sw)|8        |\n",
            "|Ford Torino (sw)                |8        |\n",
            "|Plymouth Satellite (sw)         |8        |\n",
            "|AMC Rebel SST (sw)              |8        |\n",
            "|Dodge Challenger SE             |8        |\n",
            "|Plymouth 'Cuda 340              |8        |\n",
            "|Ford Mustang Boss 302           |8        |\n",
            "|Chevrolet Monte Carlo           |8        |\n",
            "+--------------------------------+---------+\n",
            "only showing top 20 rows\n",
            "\n"
          ]
        }
      ]
    },
    {
      "cell_type": "markdown",
      "metadata": {
        "id": "85Lv3zSXCcOY"
      },
      "source": [
        "<a id='adding-new-columns'></a>\n",
        "### Adding New Columns"
      ]
    },
    {
      "cell_type": "markdown",
      "metadata": {
        "id": "d_Y7dcAHu-Uz"
      },
      "source": [
        "We will take a look at three cases here:\n",
        "\n",
        "1.   Adding a new column\n",
        "2.   Adding multiple columns\n",
        "3.   Deriving a new column from an exisitng one"
      ]
    },
    {
      "cell_type": "code",
      "metadata": {
        "id": "oFHUmRKZeCEV",
        "colab": {
          "base_uri": "https://localhost:8080/"
        },
        "outputId": "185ccd37-72b7-4e03-a511-48c0696b4349"
      },
      "source": [
        "# CASE 1: Adding a new column\n",
        "\n",
        "from pyspark.sql.functions import lit\n",
        "df = df.withColumn('first_column',lit(1)) # lit means literal.\n",
        "df.show(5,truncate=False)"
      ],
      "execution_count": 68,
      "outputs": [
        {
          "output_type": "stream",
          "name": "stdout",
          "text": [
            "+-------------------------+----+---------+------------+----------+------+------------+-----+------+------------+\n",
            "|Car                      |MPG |Cylinders|Displacement|Horsepower|Weight|Acceleration|Model|Origin|first_column|\n",
            "+-------------------------+----+---------+------------+----------+------+------------+-----+------+------------+\n",
            "|STRING                   |NULL|NULL     |NULL        |NULL      |NULL  |NULL        |NULL |CAT   |1           |\n",
            "|Chevrolet Chevelle Malibu|18.0|8        |307.0       |130.0     |3504.0|12.0        |70   |US    |1           |\n",
            "|Buick Skylark 320        |15.0|8        |350.0       |165.0     |3693.0|11.5        |70   |US    |1           |\n",
            "|Plymouth Satellite       |18.0|8        |318.0       |150.0     |3436.0|11.0        |70   |US    |1           |\n",
            "|AMC Rebel SST            |16.0|8        |304.0       |150.0     |3433.0|12.0        |70   |US    |1           |\n",
            "+-------------------------+----+---------+------------+----------+------+------------+-----+------+------------+\n",
            "only showing top 5 rows\n",
            "\n"
          ]
        }
      ]
    },
    {
      "cell_type": "code",
      "metadata": {
        "colab": {
          "base_uri": "https://localhost:8080/"
        },
        "id": "U9772_mHwAqL",
        "outputId": "55c6cb89-51b0-420d-de4d-b26f41e9b2c7"
      },
      "source": [
        "# CASE 2: Adding multiple columns\n",
        "df = df.withColumn('second_column', lit(2)) \\\n",
        "       .withColumn('third_column', lit('Third Column'))\n",
        "df.show(5,truncate=False)"
      ],
      "execution_count": 69,
      "outputs": [
        {
          "output_type": "stream",
          "name": "stdout",
          "text": [
            "+-------------------------+----+---------+------------+----------+------+------------+-----+------+------------+-------------+------------+\n",
            "|Car                      |MPG |Cylinders|Displacement|Horsepower|Weight|Acceleration|Model|Origin|first_column|second_column|third_column|\n",
            "+-------------------------+----+---------+------------+----------+------+------------+-----+------+------------+-------------+------------+\n",
            "|STRING                   |NULL|NULL     |NULL        |NULL      |NULL  |NULL        |NULL |CAT   |1           |2            |Third Column|\n",
            "|Chevrolet Chevelle Malibu|18.0|8        |307.0       |130.0     |3504.0|12.0        |70   |US    |1           |2            |Third Column|\n",
            "|Buick Skylark 320        |15.0|8        |350.0       |165.0     |3693.0|11.5        |70   |US    |1           |2            |Third Column|\n",
            "|Plymouth Satellite       |18.0|8        |318.0       |150.0     |3436.0|11.0        |70   |US    |1           |2            |Third Column|\n",
            "|AMC Rebel SST            |16.0|8        |304.0       |150.0     |3433.0|12.0        |70   |US    |1           |2            |Third Column|\n",
            "+-------------------------+----+---------+------------+----------+------+------------+-----+------+------------+-------------+------------+\n",
            "only showing top 5 rows\n",
            "\n"
          ]
        }
      ]
    },
    {
      "cell_type": "code",
      "metadata": {
        "colab": {
          "base_uri": "https://localhost:8080/"
        },
        "id": "dGaQS_pOwx_b",
        "outputId": "942c1475-5936-4186-e38c-34ad56f77c4a"
      },
      "source": [
        "# CASE 3: Deriving a new column from an exisitng one\n",
        "\n",
        "from pyspark.sql.functions import concat\n",
        "df = df.withColumn('car_model', concat(col(\"Car\"), lit(\" \"), col(\"model\")))\n",
        "\n",
        "df.show(5,truncate=False)"
      ],
      "execution_count": 70,
      "outputs": [
        {
          "output_type": "stream",
          "name": "stdout",
          "text": [
            "+-------------------------+----+---------+------------+----------+------+------------+-----+------+------------+-------------+------------+----------------------------+\n",
            "|Car                      |MPG |Cylinders|Displacement|Horsepower|Weight|Acceleration|Model|Origin|first_column|second_column|third_column|car_model                   |\n",
            "+-------------------------+----+---------+------------+----------+------+------------+-----+------+------------+-------------+------------+----------------------------+\n",
            "|STRING                   |NULL|NULL     |NULL        |NULL      |NULL  |NULL        |NULL |CAT   |1           |2            |Third Column|NULL                        |\n",
            "|Chevrolet Chevelle Malibu|18.0|8        |307.0       |130.0     |3504.0|12.0        |70   |US    |1           |2            |Third Column|Chevrolet Chevelle Malibu 70|\n",
            "|Buick Skylark 320        |15.0|8        |350.0       |165.0     |3693.0|11.5        |70   |US    |1           |2            |Third Column|Buick Skylark 320 70        |\n",
            "|Plymouth Satellite       |18.0|8        |318.0       |150.0     |3436.0|11.0        |70   |US    |1           |2            |Third Column|Plymouth Satellite 70       |\n",
            "|AMC Rebel SST            |16.0|8        |304.0       |150.0     |3433.0|12.0        |70   |US    |1           |2            |Third Column|AMC Rebel SST 70            |\n",
            "+-------------------------+----+---------+------------+----------+------+------------+-----+------+------------+-------------+------------+----------------------------+\n",
            "only showing top 5 rows\n",
            "\n"
          ]
        }
      ]
    },
    {
      "cell_type": "markdown",
      "metadata": {
        "id": "xeHExg-zxf5r"
      },
      "source": [
        "As we can see, the new column car model has been created from existing columns. Since our aim was to create a column which has the value of car and model appended together with a space in between we have used the `concat` operator."
      ]
    },
    {
      "cell_type": "markdown",
      "metadata": {
        "id": "QlMf04i2CjDC"
      },
      "source": [
        "<a id='renaming-columns'></a>\n",
        "### Renaming Columns"
      ]
    },
    {
      "cell_type": "markdown",
      "metadata": {
        "id": "CwGKbSHvxxxG"
      },
      "source": [
        "We use the `withColumnRenamed` function to rename a columm in PySpark. Let us see it in action below:"
      ]
    },
    {
      "cell_type": "code",
      "metadata": {
        "id": "QJqgy6lKfk2o",
        "colab": {
          "base_uri": "https://localhost:8080/"
        },
        "outputId": "2cca390e-0448-47db-d3ef-fca7f38b94cb"
      },
      "source": [
        "#Renaming a column in PySpark\n",
        "df = df.withColumnRenamed('first_column', 'new_column_one') \\\n",
        "       .withColumnRenamed('second_column', 'new_column_two') \\\n",
        "       .withColumnRenamed('third_column', 'new_column_three')\n",
        "df.show(truncate=False)"
      ],
      "execution_count": 71,
      "outputs": [
        {
          "output_type": "stream",
          "name": "stdout",
          "text": [
            "+--------------------------------+----+---------+------------+----------+------+------------+-----+------+--------------+--------------+----------------+-----------------------------------+\n",
            "|Car                             |MPG |Cylinders|Displacement|Horsepower|Weight|Acceleration|Model|Origin|new_column_one|new_column_two|new_column_three|car_model                          |\n",
            "+--------------------------------+----+---------+------------+----------+------+------------+-----+------+--------------+--------------+----------------+-----------------------------------+\n",
            "|STRING                          |NULL|NULL     |NULL        |NULL      |NULL  |NULL        |NULL |CAT   |1             |2             |Third Column    |NULL                               |\n",
            "|Chevrolet Chevelle Malibu       |18.0|8        |307.0       |130.0     |3504.0|12.0        |70   |US    |1             |2             |Third Column    |Chevrolet Chevelle Malibu 70       |\n",
            "|Buick Skylark 320               |15.0|8        |350.0       |165.0     |3693.0|11.5        |70   |US    |1             |2             |Third Column    |Buick Skylark 320 70               |\n",
            "|Plymouth Satellite              |18.0|8        |318.0       |150.0     |3436.0|11.0        |70   |US    |1             |2             |Third Column    |Plymouth Satellite 70              |\n",
            "|AMC Rebel SST                   |16.0|8        |304.0       |150.0     |3433.0|12.0        |70   |US    |1             |2             |Third Column    |AMC Rebel SST 70                   |\n",
            "|Ford Torino                     |17.0|8        |302.0       |140.0     |3449.0|10.5        |70   |US    |1             |2             |Third Column    |Ford Torino 70                     |\n",
            "|Ford Galaxie 500                |15.0|8        |429.0       |198.0     |4341.0|10.0        |70   |US    |1             |2             |Third Column    |Ford Galaxie 500 70                |\n",
            "|Chevrolet Impala                |14.0|8        |454.0       |220.0     |4354.0|9.0         |70   |US    |1             |2             |Third Column    |Chevrolet Impala 70                |\n",
            "|Plymouth Fury iii               |14.0|8        |440.0       |215.0     |4312.0|8.5         |70   |US    |1             |2             |Third Column    |Plymouth Fury iii 70               |\n",
            "|Pontiac Catalina                |14.0|8        |455.0       |225.0     |4425.0|10.0        |70   |US    |1             |2             |Third Column    |Pontiac Catalina 70                |\n",
            "|AMC Ambassador DPL              |15.0|8        |390.0       |190.0     |3850.0|8.5         |70   |US    |1             |2             |Third Column    |AMC Ambassador DPL 70              |\n",
            "|Citroen DS-21 Pallas            |0.0 |4        |133.0       |115.0     |3090.0|17.5        |70   |Europe|1             |2             |Third Column    |Citroen DS-21 Pallas 70            |\n",
            "|Chevrolet Chevelle Concours (sw)|0.0 |8        |350.0       |165.0     |4142.0|11.5        |70   |US    |1             |2             |Third Column    |Chevrolet Chevelle Concours (sw) 70|\n",
            "|Ford Torino (sw)                |0.0 |8        |351.0       |153.0     |4034.0|11.0        |70   |US    |1             |2             |Third Column    |Ford Torino (sw) 70                |\n",
            "|Plymouth Satellite (sw)         |0.0 |8        |383.0       |175.0     |4166.0|10.5        |70   |US    |1             |2             |Third Column    |Plymouth Satellite (sw) 70         |\n",
            "|AMC Rebel SST (sw)              |0.0 |8        |360.0       |175.0     |3850.0|11.0        |70   |US    |1             |2             |Third Column    |AMC Rebel SST (sw) 70              |\n",
            "|Dodge Challenger SE             |15.0|8        |383.0       |170.0     |3563.0|10.0        |70   |US    |1             |2             |Third Column    |Dodge Challenger SE 70             |\n",
            "|Plymouth 'Cuda 340              |14.0|8        |340.0       |160.0     |3609.0|8.0         |70   |US    |1             |2             |Third Column    |Plymouth 'Cuda 340 70              |\n",
            "|Ford Mustang Boss 302           |0.0 |8        |302.0       |140.0     |3353.0|8.0         |70   |US    |1             |2             |Third Column    |Ford Mustang Boss 302 70           |\n",
            "|Chevrolet Monte Carlo           |15.0|8        |400.0       |150.0     |3761.0|9.5         |70   |US    |1             |2             |Third Column    |Chevrolet Monte Carlo 70           |\n",
            "+--------------------------------+----+---------+------------+----------+------+------------+-----+------+--------------+--------------+----------------+-----------------------------------+\n",
            "only showing top 20 rows\n",
            "\n"
          ]
        }
      ]
    },
    {
      "cell_type": "markdown",
      "metadata": {
        "id": "4CDifVC2Cnml"
      },
      "source": [
        "<a id='grouping-by-columns'></a>\n",
        "### Grouping By Columns"
      ]
    },
    {
      "cell_type": "markdown",
      "metadata": {
        "id": "9wlB76FdyS0W"
      },
      "source": [
        "Here, we see the Dataframe API way of grouping values. We will discuss how to:\n",
        "\n",
        "\n",
        "1.   Group By a single column\n",
        "2.   Group By multiple columns"
      ]
    },
    {
      "cell_type": "code",
      "metadata": {
        "id": "M1ek2opVfqea",
        "colab": {
          "base_uri": "https://localhost:8080/"
        },
        "outputId": "7be277f4-5f76-48eb-d477-d82db0a451ce"
      },
      "source": [
        "# Group By a column in PySpark\n",
        "df.groupBy('Origin').count().show(5)"
      ],
      "execution_count": 72,
      "outputs": [
        {
          "output_type": "stream",
          "name": "stdout",
          "text": [
            "+------+-----+\n",
            "|Origin|count|\n",
            "+------+-----+\n",
            "|Europe|   73|\n",
            "|    US|  254|\n",
            "|   CAT|    1|\n",
            "| Japan|   79|\n",
            "+------+-----+\n",
            "\n"
          ]
        }
      ]
    },
    {
      "cell_type": "code",
      "metadata": {
        "colab": {
          "base_uri": "https://localhost:8080/"
        },
        "id": "hUh_TWcOysoL",
        "outputId": "81ad8509-2de8-4235-a141-369899f2f163"
      },
      "source": [
        "df.groupBy('Origin', 'Model').count().show(5)"
      ],
      "execution_count": 73,
      "outputs": [
        {
          "output_type": "stream",
          "name": "stdout",
          "text": [
            "+------+-----+-----+\n",
            "|Origin|Model|count|\n",
            "+------+-----+-----+\n",
            "|Europe|   71|    5|\n",
            "|Europe|   80|    9|\n",
            "|Europe|   79|    4|\n",
            "| Japan|   75|    4|\n",
            "|    US|   72|   18|\n",
            "+------+-----+-----+\n",
            "only showing top 5 rows\n",
            "\n"
          ]
        }
      ]
    },
    {
      "cell_type": "markdown",
      "metadata": {
        "id": "CbpEj9fECrW3"
      },
      "source": [
        "<a id='removing-columns'></a>\n",
        "### Removing Columns"
      ]
    },
    {
      "cell_type": "code",
      "metadata": {
        "id": "xsb9PXxpfnmh",
        "colab": {
          "base_uri": "https://localhost:8080/"
        },
        "outputId": "ca06c74e-7376-4a2c-ea29-06bf82ae043e"
      },
      "source": [
        "df = df.drop('new_column_one')\n",
        "df.show(5,truncate=False)"
      ],
      "execution_count": 75,
      "outputs": [
        {
          "output_type": "stream",
          "name": "stdout",
          "text": [
            "+-------------------------+----+---------+------------+----------+------+------------+-----+------+--------------+----------------+----------------------------+\n",
            "|Car                      |MPG |Cylinders|Displacement|Horsepower|Weight|Acceleration|Model|Origin|new_column_two|new_column_three|car_model                   |\n",
            "+-------------------------+----+---------+------------+----------+------+------------+-----+------+--------------+----------------+----------------------------+\n",
            "|STRING                   |NULL|NULL     |NULL        |NULL      |NULL  |NULL        |NULL |CAT   |2             |Third Column    |NULL                        |\n",
            "|Chevrolet Chevelle Malibu|18.0|8        |307.0       |130.0     |3504.0|12.0        |70   |US    |2             |Third Column    |Chevrolet Chevelle Malibu 70|\n",
            "|Buick Skylark 320        |15.0|8        |350.0       |165.0     |3693.0|11.5        |70   |US    |2             |Third Column    |Buick Skylark 320 70        |\n",
            "|Plymouth Satellite       |18.0|8        |318.0       |150.0     |3436.0|11.0        |70   |US    |2             |Third Column    |Plymouth Satellite 70       |\n",
            "|AMC Rebel SST            |16.0|8        |304.0       |150.0     |3433.0|12.0        |70   |US    |2             |Third Column    |AMC Rebel SST 70            |\n",
            "+-------------------------+----+---------+------------+----------+------+------------+-----+------+--------------+----------------+----------------------------+\n",
            "only showing top 5 rows\n",
            "\n"
          ]
        }
      ]
    },
    {
      "cell_type": "code",
      "metadata": {
        "colab": {
          "base_uri": "https://localhost:8080/"
        },
        "id": "EKOXrXtvzK_0",
        "outputId": "7bbb3dcc-ef2e-4ef2-b2a3-c62b652ba970"
      },
      "source": [
        "df = df.drop('new_column_two') \\\n",
        "       .drop('new_column_three')\n",
        "df.show(5,truncate=False)"
      ],
      "execution_count": 76,
      "outputs": [
        {
          "output_type": "stream",
          "name": "stdout",
          "text": [
            "+-------------------------+----+---------+------------+----------+------+------------+-----+------+----------------------------+\n",
            "|Car                      |MPG |Cylinders|Displacement|Horsepower|Weight|Acceleration|Model|Origin|car_model                   |\n",
            "+-------------------------+----+---------+------------+----------+------+------------+-----+------+----------------------------+\n",
            "|STRING                   |NULL|NULL     |NULL        |NULL      |NULL  |NULL        |NULL |CAT   |NULL                        |\n",
            "|Chevrolet Chevelle Malibu|18.0|8        |307.0       |130.0     |3504.0|12.0        |70   |US    |Chevrolet Chevelle Malibu 70|\n",
            "|Buick Skylark 320        |15.0|8        |350.0       |165.0     |3693.0|11.5        |70   |US    |Buick Skylark 320 70        |\n",
            "|Plymouth Satellite       |18.0|8        |318.0       |150.0     |3436.0|11.0        |70   |US    |Plymouth Satellite 70       |\n",
            "|AMC Rebel SST            |16.0|8        |304.0       |150.0     |3433.0|12.0        |70   |US    |AMC Rebel SST 70            |\n",
            "+-------------------------+----+---------+------------+----------+------+------------+-----+------+----------------------------+\n",
            "only showing top 5 rows\n",
            "\n"
          ]
        }
      ]
    },
    {
      "cell_type": "markdown",
      "metadata": {
        "id": "WbKK5iHwmIoV"
      },
      "source": [
        "<a id='dataframe-operations-on-rows'></a>\n",
        "## DataFrame Operations on Rows"
      ]
    },
    {
      "cell_type": "markdown",
      "metadata": {
        "id": "Quwx3KlLzeq9"
      },
      "source": [
        "We will discuss the follwoing in this section:\n",
        "\n",
        "1.   Filtering Rows\n",
        "2. \t Get Distinct Rows\n",
        "3.   Sorting Rows\n",
        "4.   Union Dataframes\n",
        "\n"
      ]
    },
    {
      "cell_type": "markdown",
      "metadata": {
        "id": "9bKlvX-SH-Wy"
      },
      "source": [
        "<a id='filtering-rows'></a>\n",
        "### Filtering Rows"
      ]
    },
    {
      "cell_type": "code",
      "metadata": {
        "id": "YNfcjOIknA3n",
        "colab": {
          "base_uri": "https://localhost:8080/"
        },
        "outputId": "cb0e40ea-d9c0-43d4-be73-be188e43afc5"
      },
      "source": [
        "total_count = df.count()\n",
        "print(\"TOTAL RECORD COUNT: \" + str(total_count))\n",
        "europe_filtered_count = df.filter(col('Origin')=='Europe').count()\n",
        "print(\"EUROPE FILTERED RECORD COUNT: \" + str(europe_filtered_count))\n",
        "df.filter(col('Origin')=='Europe').show(truncate=False)"
      ],
      "execution_count": 77,
      "outputs": [
        {
          "output_type": "stream",
          "name": "stdout",
          "text": [
            "TOTAL RECORD COUNT: 407\n",
            "EUROPE FILTERED RECORD COUNT: 73\n",
            "+----------------------------+----+---------+------------+----------+------+------------+-----+------+-------------------------------+\n",
            "|Car                         |MPG |Cylinders|Displacement|Horsepower|Weight|Acceleration|Model|Origin|car_model                      |\n",
            "+----------------------------+----+---------+------------+----------+------+------------+-----+------+-------------------------------+\n",
            "|Citroen DS-21 Pallas        |0.0 |4        |133.0       |115.0     |3090.0|17.5        |70   |Europe|Citroen DS-21 Pallas 70        |\n",
            "|Volkswagen 1131 Deluxe Sedan|26.0|4        |97.0        |46.0      |1835.0|20.5        |70   |Europe|Volkswagen 1131 Deluxe Sedan 70|\n",
            "|Peugeot 504                 |25.0|4        |110.0       |87.0      |2672.0|17.5        |70   |Europe|Peugeot 504 70                 |\n",
            "|Audi 100 LS                 |24.0|4        |107.0       |90.0      |2430.0|14.5        |70   |Europe|Audi 100 LS 70                 |\n",
            "|Saab 99e                    |25.0|4        |104.0       |95.0      |2375.0|17.5        |70   |Europe|Saab 99e 70                    |\n",
            "|BMW 2002                    |26.0|4        |121.0       |113.0     |2234.0|12.5        |70   |Europe|BMW 2002 70                    |\n",
            "|Volkswagen Super Beetle 117 |0.0 |4        |97.0        |48.0      |1978.0|20.0        |71   |Europe|Volkswagen Super Beetle 117 71 |\n",
            "|Opel 1900                   |28.0|4        |116.0       |90.0      |2123.0|14.0        |71   |Europe|Opel 1900 71                   |\n",
            "|Peugeot 304                 |30.0|4        |79.0        |70.0      |2074.0|19.5        |71   |Europe|Peugeot 304 71                 |\n",
            "|Fiat 124B                   |30.0|4        |88.0        |76.0      |2065.0|14.5        |71   |Europe|Fiat 124B 71                   |\n",
            "|Volkswagen Model 111        |27.0|4        |97.0        |60.0      |1834.0|19.0        |71   |Europe|Volkswagen Model 111 71        |\n",
            "|Volkswagen Type 3           |23.0|4        |97.0        |54.0      |2254.0|23.5        |72   |Europe|Volkswagen Type 3 72           |\n",
            "|Volvo 145e (sw)             |18.0|4        |121.0       |112.0     |2933.0|14.5        |72   |Europe|Volvo 145e (sw) 72             |\n",
            "|Volkswagen 411 (sw)         |22.0|4        |121.0       |76.0      |2511.0|18.0        |72   |Europe|Volkswagen 411 (sw) 72         |\n",
            "|Peugeot 504 (sw)            |21.0|4        |120.0       |87.0      |2979.0|19.5        |72   |Europe|Peugeot 504 (sw) 72            |\n",
            "|Renault 12 (sw)             |26.0|4        |96.0        |69.0      |2189.0|18.0        |72   |Europe|Renault 12 (sw) 72             |\n",
            "|Volkswagen Super Beetle     |26.0|4        |97.0        |46.0      |1950.0|21.0        |73   |Europe|Volkswagen Super Beetle 73     |\n",
            "|Fiat 124 Sport Coupe        |26.0|4        |98.0        |90.0      |2265.0|15.5        |73   |Europe|Fiat 124 Sport Coupe 73        |\n",
            "|Fiat 128                    |29.0|4        |68.0        |49.0      |1867.0|19.5        |73   |Europe|Fiat 128 73                    |\n",
            "|Opel Manta                  |24.0|4        |116.0       |75.0      |2158.0|15.5        |73   |Europe|Opel Manta 73                  |\n",
            "+----------------------------+----+---------+------------+----------+------+------------+-----+------+-------------------------------+\n",
            "only showing top 20 rows\n",
            "\n"
          ]
        }
      ]
    },
    {
      "cell_type": "code",
      "metadata": {
        "colab": {
          "base_uri": "https://localhost:8080/"
        },
        "id": "MXJxRwBQ1lyd",
        "outputId": "80cfe44c-52c7-4cf2-c6e5-a59d622299fb"
      },
      "source": [
        "total_count = df.count()\n",
        "print(\"TOTAL RECORD COUNT: \" + str(total_count))\n",
        "europe_filtered_count = df.filter((col('Origin')=='Europe') &\n",
        "                                  (col('Cylinders')==4)).count() # Two conditions added here\n",
        "print(\"EUROPE FILTERED RECORD COUNT: \" + str(europe_filtered_count))\n",
        "df.filter(col('Origin')=='Europe').show(truncate=False)"
      ],
      "execution_count": 78,
      "outputs": [
        {
          "output_type": "stream",
          "name": "stdout",
          "text": [
            "TOTAL RECORD COUNT: 407\n",
            "EUROPE FILTERED RECORD COUNT: 66\n",
            "+----------------------------+----+---------+------------+----------+------+------------+-----+------+-------------------------------+\n",
            "|Car                         |MPG |Cylinders|Displacement|Horsepower|Weight|Acceleration|Model|Origin|car_model                      |\n",
            "+----------------------------+----+---------+------------+----------+------+------------+-----+------+-------------------------------+\n",
            "|Citroen DS-21 Pallas        |0.0 |4        |133.0       |115.0     |3090.0|17.5        |70   |Europe|Citroen DS-21 Pallas 70        |\n",
            "|Volkswagen 1131 Deluxe Sedan|26.0|4        |97.0        |46.0      |1835.0|20.5        |70   |Europe|Volkswagen 1131 Deluxe Sedan 70|\n",
            "|Peugeot 504                 |25.0|4        |110.0       |87.0      |2672.0|17.5        |70   |Europe|Peugeot 504 70                 |\n",
            "|Audi 100 LS                 |24.0|4        |107.0       |90.0      |2430.0|14.5        |70   |Europe|Audi 100 LS 70                 |\n",
            "|Saab 99e                    |25.0|4        |104.0       |95.0      |2375.0|17.5        |70   |Europe|Saab 99e 70                    |\n",
            "|BMW 2002                    |26.0|4        |121.0       |113.0     |2234.0|12.5        |70   |Europe|BMW 2002 70                    |\n",
            "|Volkswagen Super Beetle 117 |0.0 |4        |97.0        |48.0      |1978.0|20.0        |71   |Europe|Volkswagen Super Beetle 117 71 |\n",
            "|Opel 1900                   |28.0|4        |116.0       |90.0      |2123.0|14.0        |71   |Europe|Opel 1900 71                   |\n",
            "|Peugeot 304                 |30.0|4        |79.0        |70.0      |2074.0|19.5        |71   |Europe|Peugeot 304 71                 |\n",
            "|Fiat 124B                   |30.0|4        |88.0        |76.0      |2065.0|14.5        |71   |Europe|Fiat 124B 71                   |\n",
            "|Volkswagen Model 111        |27.0|4        |97.0        |60.0      |1834.0|19.0        |71   |Europe|Volkswagen Model 111 71        |\n",
            "|Volkswagen Type 3           |23.0|4        |97.0        |54.0      |2254.0|23.5        |72   |Europe|Volkswagen Type 3 72           |\n",
            "|Volvo 145e (sw)             |18.0|4        |121.0       |112.0     |2933.0|14.5        |72   |Europe|Volvo 145e (sw) 72             |\n",
            "|Volkswagen 411 (sw)         |22.0|4        |121.0       |76.0      |2511.0|18.0        |72   |Europe|Volkswagen 411 (sw) 72         |\n",
            "|Peugeot 504 (sw)            |21.0|4        |120.0       |87.0      |2979.0|19.5        |72   |Europe|Peugeot 504 (sw) 72            |\n",
            "|Renault 12 (sw)             |26.0|4        |96.0        |69.0      |2189.0|18.0        |72   |Europe|Renault 12 (sw) 72             |\n",
            "|Volkswagen Super Beetle     |26.0|4        |97.0        |46.0      |1950.0|21.0        |73   |Europe|Volkswagen Super Beetle 73     |\n",
            "|Fiat 124 Sport Coupe        |26.0|4        |98.0        |90.0      |2265.0|15.5        |73   |Europe|Fiat 124 Sport Coupe 73        |\n",
            "|Fiat 128                    |29.0|4        |68.0        |49.0      |1867.0|19.5        |73   |Europe|Fiat 128 73                    |\n",
            "|Opel Manta                  |24.0|4        |116.0       |75.0      |2158.0|15.5        |73   |Europe|Opel Manta 73                  |\n",
            "+----------------------------+----+---------+------------+----------+------+------------+-----+------+-------------------------------+\n",
            "only showing top 20 rows\n",
            "\n"
          ]
        }
      ]
    },
    {
      "cell_type": "markdown",
      "metadata": {
        "id": "zLU-a4auIEvh"
      },
      "source": [
        "<a id='get-distinct-rows'></a>\n",
        "### Get Distinct Rows"
      ]
    },
    {
      "cell_type": "code",
      "metadata": {
        "id": "B1RKg1UrmBQz",
        "colab": {
          "base_uri": "https://localhost:8080/"
        },
        "outputId": "a26a2a93-2ba8-44a2-915e-e656d64d6eca"
      },
      "source": [
        "df.select('Origin').distinct().show()"
      ],
      "execution_count": 79,
      "outputs": [
        {
          "output_type": "stream",
          "name": "stdout",
          "text": [
            "+------+\n",
            "|Origin|\n",
            "+------+\n",
            "|Europe|\n",
            "|    US|\n",
            "|   CAT|\n",
            "| Japan|\n",
            "+------+\n",
            "\n"
          ]
        }
      ]
    },
    {
      "cell_type": "code",
      "metadata": {
        "colab": {
          "base_uri": "https://localhost:8080/"
        },
        "id": "_LQWXPXt0g0N",
        "outputId": "6d85a63f-867d-459e-cde7-ff9dd0b0998e"
      },
      "source": [
        "df.select('Origin','model').distinct().show()"
      ],
      "execution_count": 80,
      "outputs": [
        {
          "output_type": "stream",
          "name": "stdout",
          "text": [
            "+------+-----+\n",
            "|Origin|model|\n",
            "+------+-----+\n",
            "|Europe|   71|\n",
            "|Europe|   80|\n",
            "|Europe|   79|\n",
            "| Japan|   75|\n",
            "|    US|   72|\n",
            "|    US|   80|\n",
            "|Europe|   74|\n",
            "| Japan|   79|\n",
            "|Europe|   76|\n",
            "|    US|   75|\n",
            "| Japan|   77|\n",
            "|    US|   82|\n",
            "| Japan|   80|\n",
            "| Japan|   78|\n",
            "|    US|   78|\n",
            "|Europe|   75|\n",
            "|    US|   71|\n",
            "|    US|   77|\n",
            "| Japan|   70|\n",
            "| Japan|   71|\n",
            "+------+-----+\n",
            "only showing top 20 rows\n",
            "\n"
          ]
        }
      ]
    },
    {
      "cell_type": "markdown",
      "metadata": {
        "id": "-069UYUwIIYI"
      },
      "source": [
        "<a id='sorting-rows'></a>\n",
        "### Sorting Rows"
      ]
    },
    {
      "cell_type": "code",
      "metadata": {
        "id": "4ZpeJvz0nkBI",
        "colab": {
          "base_uri": "https://localhost:8080/"
        },
        "outputId": "1b242b69-decb-45d4-bbb9-aff97f72fe79"
      },
      "source": [
        "df.orderBy('Cylinders').show(truncate=False)"
      ],
      "execution_count": 81,
      "outputs": [
        {
          "output_type": "stream",
          "name": "stdout",
          "text": [
            "+---------------------------+----+---------+------------+----------+------+------------+-----+------+------------------------------+\n",
            "|Car                        |MPG |Cylinders|Displacement|Horsepower|Weight|Acceleration|Model|Origin|car_model                     |\n",
            "+---------------------------+----+---------+------------+----------+------+------------+-----+------+------------------------------+\n",
            "|STRING                     |NULL|NULL     |NULL        |NULL      |NULL  |NULL        |NULL |CAT   |NULL                          |\n",
            "|Mazda RX2 Coupe            |19.0|3        |70.0        |97.0      |2330.0|13.5        |72   |Japan |Mazda RX2 Coupe 72            |\n",
            "|Mazda RX3                  |18.0|3        |70.0        |90.0      |2124.0|13.5        |73   |Japan |Mazda RX3 73                  |\n",
            "|Mazda RX-4                 |21.5|3        |80.0        |110.0     |2720.0|13.5        |77   |Japan |Mazda RX-4 77                 |\n",
            "|Mazda RX-7 GS              |23.7|3        |70.0        |100.0     |2420.0|12.5        |80   |Japan |Mazda RX-7 GS 80              |\n",
            "|Mercury Capri 2000         |23.0|4        |122.0       |86.0      |2220.0|14.0        |71   |US    |Mercury Capri 2000 71         |\n",
            "|Citroen DS-21 Pallas       |0.0 |4        |133.0       |115.0     |3090.0|17.5        |70   |Europe|Citroen DS-21 Pallas 70       |\n",
            "|Opel 1900                  |28.0|4        |116.0       |90.0      |2123.0|14.0        |71   |Europe|Opel 1900 71                  |\n",
            "|Datsun PL510               |27.0|4        |97.0        |88.0      |2130.0|14.5        |70   |Japan |Datsun PL510 70               |\n",
            "|Peugeot 304                |30.0|4        |79.0        |70.0      |2074.0|19.5        |71   |Europe|Peugeot 304 71                |\n",
            "|Peugeot 504                |25.0|4        |110.0       |87.0      |2672.0|17.5        |70   |Europe|Peugeot 504 70                |\n",
            "|Fiat 124B                  |30.0|4        |88.0        |76.0      |2065.0|14.5        |71   |Europe|Fiat 124B 71                  |\n",
            "|Saab 99e                   |25.0|4        |104.0       |95.0      |2375.0|17.5        |70   |Europe|Saab 99e 70                   |\n",
            "|Toyota Corolla 1200        |31.0|4        |71.0        |65.0      |1773.0|19.0        |71   |Japan |Toyota Corolla 1200 71        |\n",
            "|Datsun PL510               |27.0|4        |97.0        |88.0      |2130.0|14.5        |71   |Japan |Datsun PL510 71               |\n",
            "|Datsun 1200                |35.0|4        |72.0        |69.0      |1613.0|18.0        |71   |Japan |Datsun 1200 71                |\n",
            "|Toyota Corolla             |25.0|4        |113.0       |95.0      |2228.0|14.0        |71   |Japan |Toyota Corolla 71             |\n",
            "|Volkswagen Model 111       |27.0|4        |97.0        |60.0      |1834.0|19.0        |71   |Europe|Volkswagen Model 111 71       |\n",
            "|Volkswagen Super Beetle 117|0.0 |4        |97.0        |48.0      |1978.0|20.0        |71   |Europe|Volkswagen Super Beetle 117 71|\n",
            "|Plymouth Cricket           |26.0|4        |91.0        |70.0      |1955.0|20.5        |71   |US    |Plymouth Cricket 71           |\n",
            "+---------------------------+----+---------+------------+----------+------+------------+-----+------+------------------------------+\n",
            "only showing top 20 rows\n",
            "\n"
          ]
        }
      ]
    },
    {
      "cell_type": "code",
      "metadata": {
        "id": "v1CEwofMJV-D",
        "colab": {
          "base_uri": "https://localhost:8080/"
        },
        "outputId": "13275702-eb43-42aa-bd44-fc33fb6b9dea"
      },
      "source": [
        "df.orderBy('Cylinders', ascending=False).show(truncate=False)"
      ],
      "execution_count": 82,
      "outputs": [
        {
          "output_type": "stream",
          "name": "stdout",
          "text": [
            "+--------------------------------+----+---------+------------+----------+------+------------+-----+------+-----------------------------------+\n",
            "|Car                             |MPG |Cylinders|Displacement|Horsepower|Weight|Acceleration|Model|Origin|car_model                          |\n",
            "+--------------------------------+----+---------+------------+----------+------+------------+-----+------+-----------------------------------+\n",
            "|Dodge Challenger SE             |15.0|8        |383.0       |170.0     |3563.0|10.0        |70   |US    |Dodge Challenger SE 70             |\n",
            "|Hi 1200D                        |9.0 |8        |304.0       |193.0     |4732.0|18.5        |70   |US    |Hi 1200D 70                        |\n",
            "|Plymouth 'Cuda 340              |14.0|8        |340.0       |160.0     |3609.0|8.0         |70   |US    |Plymouth 'Cuda 340 70              |\n",
            "|Buick Skylark 320               |15.0|8        |350.0       |165.0     |3693.0|11.5        |70   |US    |Buick Skylark 320 70               |\n",
            "|Ford Mustang Boss 302           |0.0 |8        |302.0       |140.0     |3353.0|8.0         |70   |US    |Ford Mustang Boss 302 70           |\n",
            "|AMC Rebel SST                   |16.0|8        |304.0       |150.0     |3433.0|12.0        |70   |US    |AMC Rebel SST 70                   |\n",
            "|Chevrolet Monte Carlo           |15.0|8        |400.0       |150.0     |3761.0|9.5         |70   |US    |Chevrolet Monte Carlo 70           |\n",
            "|Ford Galaxie 500                |15.0|8        |429.0       |198.0     |4341.0|10.0        |70   |US    |Ford Galaxie 500 70                |\n",
            "|Buick Estate Wagon (sw)         |14.0|8        |455.0       |225.0     |3086.0|10.0        |70   |US    |Buick Estate Wagon (sw) 70         |\n",
            "|Plymouth Fury iii               |14.0|8        |440.0       |215.0     |4312.0|8.5         |70   |US    |Plymouth Fury iii 70               |\n",
            "|Ford Torino                     |17.0|8        |302.0       |140.0     |3449.0|10.5        |70   |US    |Ford Torino 70                     |\n",
            "|Chevrolet Impala                |14.0|8        |454.0       |220.0     |4354.0|9.0         |70   |US    |Chevrolet Impala 70                |\n",
            "|Chevrolet Chevelle Concours (sw)|0.0 |8        |350.0       |165.0     |4142.0|11.5        |70   |US    |Chevrolet Chevelle Concours (sw) 70|\n",
            "|Pontiac Catalina                |14.0|8        |455.0       |225.0     |4425.0|10.0        |70   |US    |Pontiac Catalina 70                |\n",
            "|Plymouth Satellite (sw)         |0.0 |8        |383.0       |175.0     |4166.0|10.5        |70   |US    |Plymouth Satellite (sw) 70         |\n",
            "|AMC Ambassador DPL              |15.0|8        |390.0       |190.0     |3850.0|8.5         |70   |US    |AMC Ambassador DPL 70              |\n",
            "|Chevrolet Chevelle Malibu       |18.0|8        |307.0       |130.0     |3504.0|12.0        |70   |US    |Chevrolet Chevelle Malibu 70       |\n",
            "|Ford F250                       |10.0|8        |360.0       |215.0     |4615.0|14.0        |70   |US    |Ford F250 70                       |\n",
            "|Dodge D200                      |11.0|8        |318.0       |210.0     |4382.0|13.5        |70   |US    |Dodge D200 70                      |\n",
            "|Chevy C20                       |10.0|8        |307.0       |200.0     |4376.0|15.0        |70   |US    |Chevy C20 70                       |\n",
            "+--------------------------------+----+---------+------------+----------+------+------------+-----+------+-----------------------------------+\n",
            "only showing top 20 rows\n",
            "\n"
          ]
        }
      ]
    },
    {
      "cell_type": "code",
      "metadata": {
        "colab": {
          "base_uri": "https://localhost:8080/"
        },
        "id": "Zx3W4aeL5A4O",
        "outputId": "4a820bd3-623a-42c7-b91d-e4cdbff8a1be"
      },
      "source": [
        "df.groupBy(\"Origin\").count().orderBy('count', ascending=False).show(10)"
      ],
      "execution_count": 83,
      "outputs": [
        {
          "output_type": "stream",
          "name": "stdout",
          "text": [
            "+------+-----+\n",
            "|Origin|count|\n",
            "+------+-----+\n",
            "|    US|  254|\n",
            "| Japan|   79|\n",
            "|Europe|   73|\n",
            "|   CAT|    1|\n",
            "+------+-----+\n",
            "\n"
          ]
        }
      ]
    },
    {
      "cell_type": "markdown",
      "metadata": {
        "id": "aN0-A_JsIX-X"
      },
      "source": [
        "<a id='union-dataframes'></a>\n",
        "### Union Dataframes"
      ]
    },
    {
      "cell_type": "code",
      "metadata": {
        "id": "bCZIzfYmnx--",
        "colab": {
          "base_uri": "https://localhost:8080/"
        },
        "outputId": "04e3553d-8506-4197-9ac9-6c15f0076713"
      },
      "source": [
        "df = spark.read.csv('cars.csv', header=True, sep=\";\", inferSchema=True)\n",
        "europe_cars = df.filter((col('Origin')=='Europe') & (col('Cylinders')==5))\n",
        "japan_cars = df.filter((col('Origin')=='Japan') & (col('Cylinders')==3))\n",
        "print(\"EUROPE CARS: \"+str(europe_cars.count()))\n",
        "print(\"JAPAN CARS: \"+str(japan_cars.count()))\n",
        "print(\"AFTER UNION: \"+str(europe_cars.union(japan_cars).count()))"
      ],
      "execution_count": 84,
      "outputs": [
        {
          "output_type": "stream",
          "name": "stdout",
          "text": [
            "EUROPE CARS: 3\n",
            "JAPAN CARS: 4\n",
            "AFTER UNION: 7\n"
          ]
        }
      ]
    },
    {
      "cell_type": "code",
      "metadata": {
        "id": "CjWjzWBoMxx0",
        "colab": {
          "base_uri": "https://localhost:8080/"
        },
        "outputId": "e40bfd07-3848-4a78-896c-3928124ca66f"
      },
      "source": [
        "# CASE 1: Union When columns are not in order\n",
        "\n",
        "df1 = spark.createDataFrame([[1, 2, 3]], [\"col0\", \"col1\", \"col2\"])\n",
        "df2 = spark.createDataFrame([[4, 5, 6]], [\"col1\", \"col2\", \"col0\"])\n",
        "df1.unionByName(df2).show()"
      ],
      "execution_count": 85,
      "outputs": [
        {
          "output_type": "stream",
          "name": "stdout",
          "text": [
            "+----+----+----+\n",
            "|col0|col1|col2|\n",
            "+----+----+----+\n",
            "|   1|   2|   3|\n",
            "|   6|   4|   5|\n",
            "+----+----+----+\n",
            "\n"
          ]
        }
      ]
    },
    {
      "cell_type": "markdown",
      "metadata": {
        "id": "aHjILb1DriuX"
      },
      "source": [
        "<a id='common-data-manipulation-functions'></a>\n",
        "## Common Data Manipulation Functions"
      ]
    },
    {
      "cell_type": "code",
      "metadata": {
        "id": "x3vlC7ZerlKb",
        "colab": {
          "base_uri": "https://localhost:8080/"
        },
        "outputId": "a541f3b9-acd1-45db-8bbe-99bbeaad961e"
      },
      "source": [
        "# Functions available in PySpark\n",
        "from pyspark.sql import functions\n",
        "# Similar to python, we can use the dir function to view the avaiable functions\n",
        "print(dir(functions))"
      ],
      "execution_count": 86,
      "outputs": [
        {
          "output_type": "stream",
          "name": "stdout",
          "text": [
            "['Any', 'ArrayType', 'Callable', 'Column', 'DataFrame', 'DataType', 'Dict', 'Iterable', 'JVMView', 'List', 'Optional', 'PandasUDFType', 'PySparkTypeError', 'PySparkValueError', 'SparkContext', 'StringType', 'StructType', 'TYPE_CHECKING', 'Tuple', 'Type', 'Union', 'UserDefinedFunction', 'UserDefinedTableFunction', 'ValuesView', '__builtins__', '__cached__', '__doc__', '__file__', '__loader__', '__name__', '__package__', '__spec__', '_create_column_from_literal', '_create_lambda', '_create_py_udf', '_create_py_udtf', '_from_numpy_type', '_get_jvm_function', '_get_lambda_parameters', '_invoke_binary_math_function', '_invoke_function', '_invoke_function_over_columns', '_invoke_function_over_seq_of_columns', '_invoke_higher_order_function', '_options_to_str', '_test', '_to_java_column', '_to_seq', '_unresolved_named_lambda_variable', 'abs', 'acos', 'acosh', 'add_months', 'aes_decrypt', 'aes_encrypt', 'aggregate', 'any_value', 'approxCountDistinct', 'approx_count_distinct', 'approx_percentile', 'array', 'array_agg', 'array_append', 'array_compact', 'array_contains', 'array_distinct', 'array_except', 'array_insert', 'array_intersect', 'array_join', 'array_max', 'array_min', 'array_position', 'array_prepend', 'array_remove', 'array_repeat', 'array_size', 'array_sort', 'array_union', 'arrays_overlap', 'arrays_zip', 'asc', 'asc_nulls_first', 'asc_nulls_last', 'ascii', 'asin', 'asinh', 'assert_true', 'atan', 'atan2', 'atanh', 'avg', 'base64', 'bin', 'bit_and', 'bit_count', 'bit_get', 'bit_length', 'bit_or', 'bit_xor', 'bitmap_bit_position', 'bitmap_bucket_number', 'bitmap_construct_agg', 'bitmap_count', 'bitmap_or_agg', 'bitwiseNOT', 'bitwise_not', 'bool_and', 'bool_or', 'broadcast', 'bround', 'btrim', 'bucket', 'call_function', 'call_udf', 'cardinality', 'cast', 'cbrt', 'ceil', 'ceiling', 'char', 'char_length', 'character_length', 'coalesce', 'col', 'collect_list', 'collect_set', 'column', 'concat', 'concat_ws', 'contains', 'conv', 'convert_timezone', 'corr', 'cos', 'cosh', 'cot', 'count', 'countDistinct', 'count_distinct', 'count_if', 'count_min_sketch', 'covar_pop', 'covar_samp', 'crc32', 'create_map', 'csc', 'cume_dist', 'curdate', 'current_catalog', 'current_database', 'current_date', 'current_schema', 'current_timestamp', 'current_timezone', 'current_user', 'date_add', 'date_diff', 'date_format', 'date_from_unix_date', 'date_part', 'date_sub', 'date_trunc', 'dateadd', 'datediff', 'datepart', 'day', 'dayofmonth', 'dayofweek', 'dayofyear', 'days', 'decimal', 'decode', 'degrees', 'dense_rank', 'desc', 'desc_nulls_first', 'desc_nulls_last', 'e', 'element_at', 'elt', 'encode', 'endswith', 'equal_null', 'every', 'exists', 'exp', 'explode', 'explode_outer', 'expm1', 'expr', 'extract', 'factorial', 'filter', 'find_in_set', 'first', 'first_value', 'flatten', 'floor', 'forall', 'format_number', 'format_string', 'from_csv', 'from_json', 'from_unixtime', 'from_utc_timestamp', 'functools', 'get', 'get_active_spark_context', 'get_json_object', 'getbit', 'greatest', 'grouping', 'grouping_id', 'has_numpy', 'hash', 'hex', 'histogram_numeric', 'hll_sketch_agg', 'hll_sketch_estimate', 'hll_union', 'hll_union_agg', 'hour', 'hours', 'hypot', 'ifnull', 'ilike', 'initcap', 'inline', 'inline_outer', 'input_file_block_length', 'input_file_block_start', 'input_file_name', 'inspect', 'instr', 'isnan', 'isnotnull', 'isnull', 'java_method', 'json_array_length', 'json_object_keys', 'json_tuple', 'kurtosis', 'lag', 'last', 'last_day', 'last_value', 'lcase', 'lead', 'least', 'left', 'length', 'levenshtein', 'like', 'lit', 'ln', 'localtimestamp', 'locate', 'log', 'log10', 'log1p', 'log2', 'lower', 'lpad', 'ltrim', 'make_date', 'make_dt_interval', 'make_interval', 'make_timestamp', 'make_timestamp_ltz', 'make_timestamp_ntz', 'make_ym_interval', 'map_concat', 'map_contains_key', 'map_entries', 'map_filter', 'map_from_arrays', 'map_from_entries', 'map_keys', 'map_values', 'map_zip_with', 'mask', 'max', 'max_by', 'md5', 'mean', 'median', 'min', 'min_by', 'minute', 'mode', 'monotonically_increasing_id', 'month', 'months', 'months_between', 'named_struct', 'nanvl', 'negate', 'negative', 'next_day', 'now', 'np', 'nth_value', 'ntile', 'nullif', 'nvl', 'nvl2', 'octet_length', 'overlay', 'overload', 'pandas_udf', 'parse_url', 'percent_rank', 'percentile', 'percentile_approx', 'pi', 'pmod', 'posexplode', 'posexplode_outer', 'position', 'positive', 'pow', 'power', 'printf', 'product', 'quarter', 'radians', 'raise_error', 'rand', 'randn', 'rank', 'reduce', 'reflect', 'regexp', 'regexp_count', 'regexp_extract', 'regexp_extract_all', 'regexp_instr', 'regexp_like', 'regexp_replace', 'regexp_substr', 'regr_avgx', 'regr_avgy', 'regr_count', 'regr_intercept', 'regr_r2', 'regr_slope', 'regr_sxx', 'regr_sxy', 'regr_syy', 'repeat', 'replace', 'reverse', 'right', 'rint', 'rlike', 'round', 'row_number', 'rpad', 'rtrim', 'schema_of_csv', 'schema_of_json', 'sec', 'second', 'sentences', 'sequence', 'session_window', 'sha', 'sha1', 'sha2', 'shiftLeft', 'shiftRight', 'shiftRightUnsigned', 'shiftleft', 'shiftright', 'shiftrightunsigned', 'shuffle', 'sign', 'signum', 'sin', 'sinh', 'size', 'skewness', 'slice', 'some', 'sort_array', 'soundex', 'spark_partition_id', 'split', 'split_part', 'sqrt', 'stack', 'startswith', 'std', 'stddev', 'stddev_pop', 'stddev_samp', 'str_to_map', 'struct', 'substr', 'substring', 'substring_index', 'sum', 'sumDistinct', 'sum_distinct', 'sys', 'tan', 'tanh', 'timestamp_micros', 'timestamp_millis', 'timestamp_seconds', 'toDegrees', 'toRadians', 'to_binary', 'to_char', 'to_csv', 'to_date', 'to_json', 'to_number', 'to_str', 'to_timestamp', 'to_timestamp_ltz', 'to_timestamp_ntz', 'to_unix_timestamp', 'to_utc_timestamp', 'to_varchar', 'transform', 'transform_keys', 'transform_values', 'translate', 'trim', 'trunc', 'try_add', 'try_aes_decrypt', 'try_avg', 'try_divide', 'try_element_at', 'try_multiply', 'try_remote_functions', 'try_subtract', 'try_sum', 'try_to_binary', 'try_to_number', 'try_to_timestamp', 'typeof', 'ucase', 'udf', 'udtf', 'unbase64', 'unhex', 'unix_date', 'unix_micros', 'unix_millis', 'unix_seconds', 'unix_timestamp', 'unwrap_udt', 'upper', 'url_decode', 'url_encode', 'user', 'var_pop', 'var_samp', 'variance', 'version', 'warnings', 'weekday', 'weekofyear', 'when', 'width_bucket', 'window', 'window_time', 'xpath', 'xpath_boolean', 'xpath_double', 'xpath_float', 'xpath_int', 'xpath_long', 'xpath_number', 'xpath_short', 'xpath_string', 'xxhash64', 'year', 'years', 'zip_with']\n"
          ]
        }
      ]
    },
    {
      "cell_type": "markdown",
      "metadata": {
        "id": "PIKigra7A34e"
      },
      "source": [
        "<a id='string-functions'></a>\n",
        "### String Functions"
      ]
    },
    {
      "cell_type": "code",
      "metadata": {
        "id": "63QDccSjBqC4"
      },
      "source": [
        "# Loading the data\n",
        "from pyspark.sql.functions import col\n",
        "df = spark.read.csv('cars.csv', header=True, sep=\";\", inferSchema=True)"
      ],
      "execution_count": 87,
      "outputs": []
    },
    {
      "cell_type": "markdown",
      "metadata": {
        "id": "LiXWN8DUA9x6"
      },
      "source": [
        "**Display the Car column in exisitng, lower and upper characters, and the first 4 characters of the column**"
      ]
    },
    {
      "cell_type": "code",
      "metadata": {
        "id": "52Gh9c99BZFr",
        "colab": {
          "base_uri": "https://localhost:8080/"
        },
        "outputId": "96191e84-3c9a-460e-f23e-19e5ab04d5ec"
      },
      "source": [
        "from pyspark.sql.functions import col,lower, upper, substring\n",
        "# Prints out the details of a function\n",
        "help(substring)\n",
        "# alias is used to rename the column name in the output\n",
        "df.select(col('Car'),lower(col('Car')),upper(col('Car')),substring(col('Car'),1,4).alias(\"concatenated value\")).show(5, False)"
      ],
      "execution_count": 88,
      "outputs": [
        {
          "output_type": "stream",
          "name": "stdout",
          "text": [
            "Help on function substring in module pyspark.sql.functions:\n",
            "\n",
            "substring(str: 'ColumnOrName', pos: int, len: int) -> pyspark.sql.column.Column\n",
            "    Substring starts at `pos` and is of length `len` when str is String type or\n",
            "    returns the slice of byte array that starts at `pos` in byte and is of length `len`\n",
            "    when str is Binary type.\n",
            "    \n",
            "    .. versionadded:: 1.5.0\n",
            "    \n",
            "    .. versionchanged:: 3.4.0\n",
            "        Supports Spark Connect.\n",
            "    \n",
            "    Notes\n",
            "    -----\n",
            "    The position is not zero based, but 1 based index.\n",
            "    \n",
            "    Parameters\n",
            "    ----------\n",
            "    str : :class:`~pyspark.sql.Column` or str\n",
            "        target column to work on.\n",
            "    pos : int\n",
            "        starting position in str.\n",
            "    len : int\n",
            "        length of chars.\n",
            "    \n",
            "    Returns\n",
            "    -------\n",
            "    :class:`~pyspark.sql.Column`\n",
            "        substring of given value.\n",
            "    \n",
            "    Examples\n",
            "    --------\n",
            "    >>> df = spark.createDataFrame([('abcd',)], ['s',])\n",
            "    >>> df.select(substring(df.s, 1, 2).alias('s')).collect()\n",
            "    [Row(s='ab')]\n",
            "\n",
            "+-------------------------+-------------------------+-------------------------+------------------+\n",
            "|Car                      |lower(Car)               |upper(Car)               |concatenated value|\n",
            "+-------------------------+-------------------------+-------------------------+------------------+\n",
            "|STRING                   |string                   |STRING                   |STRI              |\n",
            "|Chevrolet Chevelle Malibu|chevrolet chevelle malibu|CHEVROLET CHEVELLE MALIBU|Chev              |\n",
            "|Buick Skylark 320        |buick skylark 320        |BUICK SKYLARK 320        |Buic              |\n",
            "|Plymouth Satellite       |plymouth satellite       |PLYMOUTH SATELLITE       |Plym              |\n",
            "|AMC Rebel SST            |amc rebel sst            |AMC REBEL SST            |AMC               |\n",
            "+-------------------------+-------------------------+-------------------------+------------------+\n",
            "only showing top 5 rows\n",
            "\n"
          ]
        }
      ]
    },
    {
      "cell_type": "markdown",
      "metadata": {
        "id": "GZJFdTbk6rBt"
      },
      "source": [
        "**Concatenate the Car column and Model column and add a space between them.**"
      ]
    },
    {
      "cell_type": "code",
      "metadata": {
        "colab": {
          "base_uri": "https://localhost:8080/"
        },
        "id": "8Lo951Cg6phi",
        "outputId": "a3baaa02-901d-46f4-d290-d4574a1271a9"
      },
      "source": [
        "from pyspark.sql.functions import concat\n",
        "df.select(col(\"Car\"),col(\"model\"),concat(col(\"Car\"), lit(\" \"), col(\"model\"))).show(5, False)"
      ],
      "execution_count": 89,
      "outputs": [
        {
          "output_type": "stream",
          "name": "stdout",
          "text": [
            "+-------------------------+-----+----------------------------+\n",
            "|Car                      |model|concat(Car,  , model)       |\n",
            "+-------------------------+-----+----------------------------+\n",
            "|STRING                   |INT  |STRING INT                  |\n",
            "|Chevrolet Chevelle Malibu|70   |Chevrolet Chevelle Malibu 70|\n",
            "|Buick Skylark 320        |70   |Buick Skylark 320 70        |\n",
            "|Plymouth Satellite       |70   |Plymouth Satellite 70       |\n",
            "|AMC Rebel SST            |70   |AMC Rebel SST 70            |\n",
            "+-------------------------+-----+----------------------------+\n",
            "only showing top 5 rows\n",
            "\n"
          ]
        }
      ]
    },
    {
      "cell_type": "markdown",
      "metadata": {
        "id": "ldtA0wk9BMkT"
      },
      "source": [
        "<a id='numeric-functions'></a>\n",
        "### Numeric functions"
      ]
    },
    {
      "cell_type": "markdown",
      "metadata": {
        "id": "kmz4G5LVBOs6"
      },
      "source": [
        "**Show the oldest date and the most recent date**"
      ]
    },
    {
      "cell_type": "code",
      "metadata": {
        "id": "wBDDH-YpBbdk",
        "colab": {
          "base_uri": "https://localhost:8080/"
        },
        "outputId": "fa122733-de72-495e-aeff-a4d21c48c858"
      },
      "source": [
        "from pyspark.sql.functions import min, max\n",
        "df.select(min(col('Weight')), max(col('Weight'))).show()"
      ],
      "execution_count": 90,
      "outputs": [
        {
          "output_type": "stream",
          "name": "stdout",
          "text": [
            "+-----------+-----------+\n",
            "|min(Weight)|max(Weight)|\n",
            "+-----------+-----------+\n",
            "|      1613.|     DOUBLE|\n",
            "+-----------+-----------+\n",
            "\n"
          ]
        }
      ]
    },
    {
      "cell_type": "markdown",
      "metadata": {
        "id": "MTg-Royz7Nvi"
      },
      "source": [
        "**Add 10 to the minimum and maximum weight**"
      ]
    },
    {
      "cell_type": "code",
      "metadata": {
        "colab": {
          "base_uri": "https://localhost:8080/"
        },
        "id": "YeiemMsI7Vm2",
        "outputId": "e85cd4e0-9bea-475e-bb99-43373dfc4178"
      },
      "source": [
        "from pyspark.sql.functions import min, max, lit\n",
        "df.select(min(col('Weight'))+lit(10), max(col('Weight')+lit(10))).show()"
      ],
      "execution_count": 91,
      "outputs": [
        {
          "output_type": "stream",
          "name": "stdout",
          "text": [
            "+------------------+------------------+\n",
            "|(min(Weight) + 10)|max((Weight + 10))|\n",
            "+------------------+------------------+\n",
            "|            1623.0|            5150.0|\n",
            "+------------------+------------------+\n",
            "\n"
          ]
        }
      ]
    },
    {
      "cell_type": "markdown",
      "metadata": {
        "id": "KQ6Ul9HGCwC3"
      },
      "source": [
        "<a id='operations-on-date'></a>\n",
        "### Operations on Date"
      ]
    },
    {
      "cell_type": "code",
      "metadata": {
        "id": "sCTeI_JvDCsH",
        "colab": {
          "base_uri": "https://localhost:8080/"
        },
        "outputId": "3868da35-8eb4-48a9-d813-424afda7b6ff"
      },
      "source": [
        "from pyspark.sql.functions import to_date, to_timestamp, lit\n",
        "df = spark.createDataFrame([('2019-12-25 13:30:00',)], ['DOB'])\n",
        "df.show()\n",
        "df.printSchema()"
      ],
      "execution_count": 92,
      "outputs": [
        {
          "output_type": "stream",
          "name": "stdout",
          "text": [
            "+-------------------+\n",
            "|                DOB|\n",
            "+-------------------+\n",
            "|2019-12-25 13:30:00|\n",
            "+-------------------+\n",
            "\n",
            "root\n",
            " |-- DOB: string (nullable = true)\n",
            "\n"
          ]
        }
      ]
    },
    {
      "cell_type": "code",
      "metadata": {
        "id": "ZH8ja1eHEW8x",
        "colab": {
          "base_uri": "https://localhost:8080/"
        },
        "outputId": "7017c46f-c96a-493e-81a1-f35f3cf41db3"
      },
      "source": [
        "df = spark.createDataFrame([('2019-12-25 13:30:00',)], ['DOB'])\n",
        "df = df.select(to_date(col('DOB'),'yyyy-MM-dd HH:mm:ss'), to_timestamp(col('DOB'),'yyyy-MM-dd HH:mm:ss'))\n",
        "df.show()\n",
        "df.printSchema()"
      ],
      "execution_count": 93,
      "outputs": [
        {
          "output_type": "stream",
          "name": "stdout",
          "text": [
            "+---------------------------------+--------------------------------------+\n",
            "|to_date(DOB, yyyy-MM-dd HH:mm:ss)|to_timestamp(DOB, yyyy-MM-dd HH:mm:ss)|\n",
            "+---------------------------------+--------------------------------------+\n",
            "|                       2019-12-25|                   2019-12-25 13:30:00|\n",
            "+---------------------------------+--------------------------------------+\n",
            "\n",
            "root\n",
            " |-- to_date(DOB, yyyy-MM-dd HH:mm:ss): date (nullable = true)\n",
            " |-- to_timestamp(DOB, yyyy-MM-dd HH:mm:ss): timestamp (nullable = true)\n",
            "\n"
          ]
        }
      ]
    },
    {
      "cell_type": "code",
      "metadata": {
        "id": "7g9m_8PPErI1",
        "colab": {
          "base_uri": "https://localhost:8080/"
        },
        "outputId": "44acfc70-de4a-4b52-e079-dae271728e19"
      },
      "source": [
        "df = spark.createDataFrame([('25/Dec/2019 13:30:00',)], ['DOB'])\n",
        "df = df.select(to_date(col('DOB'),'dd/MMM/yyyy HH:mm:ss'), to_timestamp(col('DOB'),'dd/MMM/yyyy HH:mm:ss'))\n",
        "df.show()\n",
        "df.printSchema()"
      ],
      "execution_count": 94,
      "outputs": [
        {
          "output_type": "stream",
          "name": "stdout",
          "text": [
            "+----------------------------------+---------------------------------------+\n",
            "|to_date(DOB, dd/MMM/yyyy HH:mm:ss)|to_timestamp(DOB, dd/MMM/yyyy HH:mm:ss)|\n",
            "+----------------------------------+---------------------------------------+\n",
            "|                        2019-12-25|                    2019-12-25 13:30:00|\n",
            "+----------------------------------+---------------------------------------+\n",
            "\n",
            "root\n",
            " |-- to_date(DOB, dd/MMM/yyyy HH:mm:ss): date (nullable = true)\n",
            " |-- to_timestamp(DOB, dd/MMM/yyyy HH:mm:ss): timestamp (nullable = true)\n",
            "\n"
          ]
        }
      ]
    },
    {
      "cell_type": "markdown",
      "metadata": {
        "id": "dIPQyQV7-Hz5"
      },
      "source": [
        "**What is 3 days earlier that the oldest date and 3 days later than the most recent date?**"
      ]
    },
    {
      "cell_type": "code",
      "metadata": {
        "colab": {
          "base_uri": "https://localhost:8080/"
        },
        "id": "PUCEwQkZ-I7h",
        "outputId": "08fee327-2a39-4240-c827-6d990c5edb6b"
      },
      "source": [
        "from pyspark.sql.functions import date_add, date_sub\n",
        "# create a dummy dataframe\n",
        "df = spark.createDataFrame([('1990-01-01',),('1995-01-03',),('2021-03-30',)], ['Date'])\n",
        "# find out the required dates\n",
        "df.select(date_add(max(col('Date')),3), date_sub(min(col('Date')),3)).show()"
      ],
      "execution_count": 95,
      "outputs": [
        {
          "output_type": "stream",
          "name": "stdout",
          "text": [
            "+----------------------+----------------------+\n",
            "|date_add(max(Date), 3)|date_sub(min(Date), 3)|\n",
            "+----------------------+----------------------+\n",
            "|            2021-04-02|            1989-12-29|\n",
            "+----------------------+----------------------+\n",
            "\n"
          ]
        }
      ]
    },
    {
      "cell_type": "markdown",
      "metadata": {
        "id": "7OZElEvcGOD1"
      },
      "source": [
        "<a id='joins-in-pyspark'></a>\n",
        "## Joins in PySpark"
      ]
    },
    {
      "cell_type": "code",
      "metadata": {
        "id": "UJBC7r3JFyCL",
        "colab": {
          "base_uri": "https://localhost:8080/"
        },
        "outputId": "e9a9df24-2b58-4fb9-baba-bb5a846901e9"
      },
      "source": [
        "# Create two dataframes\n",
        "cars_df = spark.createDataFrame([[1, 'Car A'],[2, 'Car B'],[3, 'Car C']], [\"id\", \"car_name\"])\n",
        "car_price_df = spark.createDataFrame([[1, 1000],[2, 2000],[3, 3000]], [\"id\", \"car_price\"])\n",
        "cars_df.show()\n",
        "car_price_df.show()"
      ],
      "execution_count": 96,
      "outputs": [
        {
          "output_type": "stream",
          "name": "stdout",
          "text": [
            "+---+--------+\n",
            "| id|car_name|\n",
            "+---+--------+\n",
            "|  1|   Car A|\n",
            "|  2|   Car B|\n",
            "|  3|   Car C|\n",
            "+---+--------+\n",
            "\n",
            "+---+---------+\n",
            "| id|car_price|\n",
            "+---+---------+\n",
            "|  1|     1000|\n",
            "|  2|     2000|\n",
            "|  3|     3000|\n",
            "+---+---------+\n",
            "\n"
          ]
        }
      ]
    },
    {
      "cell_type": "markdown",
      "metadata": {
        "id": "HNPhsx8P2tUH"
      },
      "source": [
        "<a id='spark-sql'></a>\n",
        "## Spark SQL"
      ]
    },
    {
      "cell_type": "markdown",
      "metadata": {
        "id": "rHMvBBAh23cw"
      },
      "source": [
        "SQL has been around since the 1970s, and so one can imagine the number of people who made it their bread and butter. As big data came into popularity, the number of professionals with the technical knowledge to deal with it was in shortage. This led to the creation of Spark SQL. To quote the docs:<br>\n",
        ">Spark SQL is a Spark module for structured data processing. Unlike the basic Spark RDD API, the interfaces provided by Spark SQL provide Spark with more information about the structure of both the data and the computation being performed. Internally, Spark SQL uses this extra information to perform extra optimizations.\n",
        "\n",
        "Basically, what you need to know is that Spark SQL is used to execute SQL queries on big data. Spark SQL can also be used to read data from Hive tables and views. Let me explain Spark SQL with an example.\n"
      ]
    },
    {
      "cell_type": "code",
      "metadata": {
        "id": "g2DaK9-D7QkX",
        "colab": {
          "base_uri": "https://localhost:8080/"
        },
        "outputId": "45272bca-cd57-4794-d70b-c30ba4344f9e"
      },
      "source": [
        "# Load data\n",
        "df = spark.read.csv('cars.csv', header=True, sep=\";\")\n",
        "# Register Temporary Table\n",
        "df.createOrReplaceTempView(\"temp\")\n",
        "# Select all data from temp table\n",
        "spark.sql(\"select * from temp limit 5\").show()\n",
        "# Select count of data in table\n",
        "spark.sql(\"select count(*) as total_count from temp\").show()"
      ],
      "execution_count": 97,
      "outputs": [
        {
          "output_type": "stream",
          "name": "stdout",
          "text": [
            "+--------------------+------+---------+------------+----------+------+------------+-----+------+\n",
            "|                 Car|   MPG|Cylinders|Displacement|Horsepower|Weight|Acceleration|Model|Origin|\n",
            "+--------------------+------+---------+------------+----------+------+------------+-----+------+\n",
            "|              STRING|DOUBLE|      INT|      DOUBLE|    DOUBLE|DOUBLE|      DOUBLE|  INT|   CAT|\n",
            "|Chevrolet Chevell...|  18.0|        8|       307.0|     130.0| 3504.|        12.0|   70|    US|\n",
            "|   Buick Skylark 320|  15.0|        8|       350.0|     165.0| 3693.|        11.5|   70|    US|\n",
            "|  Plymouth Satellite|  18.0|        8|       318.0|     150.0| 3436.|        11.0|   70|    US|\n",
            "|       AMC Rebel SST|  16.0|        8|       304.0|     150.0| 3433.|        12.0|   70|    US|\n",
            "+--------------------+------+---------+------------+----------+------+------------+-----+------+\n",
            "\n",
            "+-----------+\n",
            "|total_count|\n",
            "+-----------+\n",
            "|        407|\n",
            "+-----------+\n",
            "\n"
          ]
        }
      ]
    },
    {
      "cell_type": "markdown",
      "metadata": {
        "id": "x62BiCgBMOtq"
      },
      "source": [
        "<a id='rdd'></a>\n",
        "## RDD"
      ]
    },
    {
      "cell_type": "markdown",
      "metadata": {
        "id": "VGXK6uEuUKRh"
      },
      "source": [
        "> With map, you define a function and then apply it record by record. Flatmap returns a new RDD by first applying a function to all of the elements in RDDs and then flattening the result. Filter, returns a new RDD. Meaning only the elements that satisfy a condition. With reduce, we are taking neighboring elements and producing a single combined result.\n",
        "For example, let's say you have a set of numbers. You can reduce this to its sum by providing a function that takes as input two values and reduces them to one.\n",
        "\n",
        "Some of the reasons you would use a dataframe over RDD are:\n",
        "1.   It's ability to represnt data as rows and columns. But this also means it can only hold structred and semi-structured data.\n",
        "2.   It allows processing data in different formats (AVRO, CSV, JSON, and storage system HDFS, HIVE tables, MySQL).\n",
        "3. It's superior job Optimization capability.\n",
        "4. DataFrame API is very easy to use.\n",
        "\n",
        "\n",
        "\n"
      ]
    },
    {
      "cell_type": "code",
      "metadata": {
        "id": "0_WvAgyvR7m6",
        "colab": {
          "base_uri": "https://localhost:8080/"
        },
        "outputId": "662a34a2-63b2-4b27-827f-182e15ebdc4d"
      },
      "source": [
        "cars = spark.sparkContext.textFile('cars.csv')\n",
        "print(cars.first())\n",
        "cars_header = cars.first()\n",
        "cars_rest = cars.filter(lambda line: line!=cars_header)\n",
        "print(cars_rest.first())"
      ],
      "execution_count": 98,
      "outputs": [
        {
          "output_type": "stream",
          "name": "stdout",
          "text": [
            "Car;MPG;Cylinders;Displacement;Horsepower;Weight;Acceleration;Model;Origin\n",
            "STRING;DOUBLE;INT;DOUBLE;DOUBLE;DOUBLE;DOUBLE;INT;CAT\n"
          ]
        }
      ]
    },
    {
      "cell_type": "markdown",
      "metadata": {
        "id": "P65eAFO3Mkdd"
      },
      "source": [
        "**How many cars are there in our csv data?**"
      ]
    },
    {
      "cell_type": "code",
      "metadata": {
        "id": "Vi03EU0CMSmO",
        "colab": {
          "base_uri": "https://localhost:8080/"
        },
        "outputId": "73d7c61c-4c55-4689-ddc5-dec9d7d36b6e"
      },
      "source": [
        "cars_rest.map(lambda line: line.split(\";\")).count()"
      ],
      "execution_count": 99,
      "outputs": [
        {
          "output_type": "execute_result",
          "data": {
            "text/plain": [
              "407"
            ]
          },
          "metadata": {},
          "execution_count": 99
        }
      ]
    },
    {
      "cell_type": "markdown",
      "metadata": {
        "id": "3c4bci70MnlQ"
      },
      "source": [
        "**Display the Car name, MPG, Cylinders, Weight and Origin for the cars Originating in Europe**"
      ]
    },
    {
      "cell_type": "code",
      "metadata": {
        "id": "fWFpo_WxMnvm",
        "colab": {
          "base_uri": "https://localhost:8080/"
        },
        "outputId": "15b635cf-8929-46b8-c96d-959d0d4943d2"
      },
      "source": [
        "# Car name is column  0\n",
        "(cars_rest.filter(lambda line: line.split(\";\")[8]=='Europe').\n",
        " map(lambda line: (line.split(\";\")[0],\n",
        "    line.split(\";\")[1],\n",
        "    line.split(\";\")[2],\n",
        "    line.split(\";\")[5],\n",
        "    line.split(\";\")[8])).collect())"
      ],
      "execution_count": 100,
      "outputs": [
        {
          "output_type": "execute_result",
          "data": {
            "text/plain": [
              "[('Citroen DS-21 Pallas', '0', '4', '3090.', 'Europe'),\n",
              " ('Volkswagen 1131 Deluxe Sedan', '26.0', '4', '1835.', 'Europe'),\n",
              " ('Peugeot 504', '25.0', '4', '2672.', 'Europe'),\n",
              " ('Audi 100 LS', '24.0', '4', '2430.', 'Europe'),\n",
              " ('Saab 99e', '25.0', '4', '2375.', 'Europe'),\n",
              " ('BMW 2002', '26.0', '4', '2234.', 'Europe'),\n",
              " ('Volkswagen Super Beetle 117', '0', '4', '1978.', 'Europe'),\n",
              " ('Opel 1900', '28.0', '4', '2123.', 'Europe'),\n",
              " ('Peugeot 304', '30.0', '4', '2074.', 'Europe'),\n",
              " ('Fiat 124B', '30.0', '4', '2065.', 'Europe'),\n",
              " ('Volkswagen Model 111', '27.0', '4', '1834.', 'Europe'),\n",
              " ('Volkswagen Type 3', '23.0', '4', '2254.', 'Europe'),\n",
              " ('Volvo 145e (sw)', '18.0', '4', '2933.', 'Europe'),\n",
              " ('Volkswagen 411 (sw)', '22.0', '4', '2511.', 'Europe'),\n",
              " ('Peugeot 504 (sw)', '21.0', '4', '2979.', 'Europe'),\n",
              " ('Renault 12 (sw)', '26.0', '4', '2189.', 'Europe'),\n",
              " ('Volkswagen Super Beetle', '26.0', '4', '1950.', 'Europe'),\n",
              " ('Fiat 124 Sport Coupe', '26.0', '4', '2265.', 'Europe'),\n",
              " ('Fiat 128', '29.0', '4', '1867.', 'Europe'),\n",
              " ('Opel Manta', '24.0', '4', '2158.', 'Europe'),\n",
              " ('Audi 100LS', '20.0', '4', '2582.', 'Europe'),\n",
              " ('Volvo 144ea', '19.0', '4', '2868.', 'Europe'),\n",
              " ('Saab 99le', '24.0', '4', '2660.', 'Europe'),\n",
              " ('Audi Fox', '29.0', '4', '2219.', 'Europe'),\n",
              " ('Volkswagen Dasher', '26.0', '4', '1963.', 'Europe'),\n",
              " ('Opel Manta', '26.0', '4', '2300.', 'Europe'),\n",
              " ('Fiat 128', '24.0', '4', '2108.', 'Europe'),\n",
              " ('Fiat 124 TC', '26.0', '4', '2246.', 'Europe'),\n",
              " ('Fiat x1.9', '31.0', '4', '2000.', 'Europe'),\n",
              " ('Volkswagen Dasher', '25.0', '4', '2223.', 'Europe'),\n",
              " ('Volkswagen Rabbit', '29.0', '4', '1937.', 'Europe'),\n",
              " ('Audi 100LS', '23.0', '4', '2694.', 'Europe'),\n",
              " ('Peugeot 504', '23.0', '4', '2957.', 'Europe'),\n",
              " ('Volvo 244DL', '22.0', '4', '2945.', 'Europe'),\n",
              " ('Saab 99LE', '25.0', '4', '2671.', 'Europe'),\n",
              " ('Fiat 131', '28.0', '4', '2464.', 'Europe'),\n",
              " ('Opel 1900', '25.0', '4', '2220.', 'Europe'),\n",
              " ('Renault 12tl', '27.0', '4', '2202.', 'Europe'),\n",
              " ('Volkswagen Rabbit', '29.0', '4', '1937.', 'Europe'),\n",
              " ('Volkswagen Rabbit', '29.5', '4', '1825.', 'Europe'),\n",
              " ('Volvo 245', '20.0', '4', '3150.', 'Europe'),\n",
              " ('Peugeot 504', '19.0', '4', '3270.', 'Europe'),\n",
              " ('Mercedes-Benz 280s', '16.5', '6', '3820.', 'Europe'),\n",
              " ('Renault 5 GTL', '36.0', '4', '1825.', 'Europe'),\n",
              " ('Volkswagen Rabbit Custom', '29.0', '4', '1940.', 'Europe'),\n",
              " ('Volkswagen Dasher', '30.5', '4', '2190.', 'Europe'),\n",
              " ('BMW 320i', '21.5', '4', '2600.', 'Europe'),\n",
              " ('Volkswagen Rabbit Custom Diesel', '43.1', '4', '1985.', 'Europe'),\n",
              " ('Audi 5000', '20.3', '5', '2830.', 'Europe'),\n",
              " ('Volvo 264gl', '17.0', '6', '3140.', 'Europe'),\n",
              " ('Saab 99gle', '21.6', '4', '2795.', 'Europe'),\n",
              " ('Peugeot 604sl', '16.2', '6', '3410.', 'Europe'),\n",
              " ('Volkswagen Scirocco', '31.5', '4', '1990.', 'Europe'),\n",
              " ('Volkswagen Rabbit Custom', '31.9', '4', '1925.', 'Europe'),\n",
              " ('Mercedes Benz 300d', '25.4', '5', '3530.', 'Europe'),\n",
              " ('Peugeot 504', '27.2', '4', '3190.', 'Europe'),\n",
              " ('Fiat Strada Custom', '37.3', '4', '2130.', 'Europe'),\n",
              " ('Volkswagen Rabbit', '41.5', '4', '2144.', 'Europe'),\n",
              " ('Audi 4000', '34.3', '4', '2188.', 'Europe'),\n",
              " ('Volkswagen Rabbit C (Diesel)', '44.3', '4', '2085.', 'Europe'),\n",
              " ('Volkswagen Dasher (diesel)', '43.4', '4', '2335.', 'Europe'),\n",
              " ('Audi 5000s (diesel)', '36.4', '5', '2950.', 'Europe'),\n",
              " ('Mercedes-Benz 240d', '30.0', '4', '3250.', 'Europe'),\n",
              " ('Renault Lecar Deluxe', '40.9', '4', '1835.', 'Europe'),\n",
              " ('Volkswagen Rabbit', '29.8', '4', '1845.', 'Europe'),\n",
              " ('Triumph TR7 Coupe', '35.0', '4', '2500.', 'Europe'),\n",
              " ('Volkswagen Jetta', '33.0', '4', '2190.', 'Europe'),\n",
              " ('Renault 18i', '34.5', '4', '2320.', 'Europe'),\n",
              " ('Peugeot 505s Turbo Diesel', '28.1', '4', '3230.', 'Europe'),\n",
              " ('Saab 900s', '0', '4', '2800.', 'Europe'),\n",
              " ('Volvo Diesel', '30.7', '6', '3160.', 'Europe'),\n",
              " ('Volkswagen Rabbit l', '36.0', '4', '1980.', 'Europe'),\n",
              " ('Volkswagen Pickup', '44.0', '4', '2130.', 'Europe')]"
            ]
          },
          "metadata": {},
          "execution_count": 100
        }
      ]
    },
    {
      "cell_type": "markdown",
      "metadata": {
        "id": "ZYmb5FscMph3"
      },
      "source": [
        "**Display the Car name, MPG, Cylinders, Weight and Origin for the cars Originating in either Europe or Japan**"
      ]
    },
    {
      "cell_type": "code",
      "metadata": {
        "id": "6ZcRIX3mMquF",
        "colab": {
          "base_uri": "https://localhost:8080/"
        },
        "outputId": "5c06afeb-16a1-4464-c702-b737e292ef8b"
      },
      "source": [
        "# Car name is column  0\n",
        "(cars_rest.filter(lambda line: line.split(\";\")[8] in ['Europe','Japan']).\n",
        " map(lambda line: (line.split(\";\")[0],\n",
        "    line.split(\";\")[1],\n",
        "    line.split(\";\")[2],\n",
        "    line.split(\";\")[5],\n",
        "    line.split(\";\")[8])).collect())"
      ],
      "execution_count": 101,
      "outputs": [
        {
          "output_type": "execute_result",
          "data": {
            "text/plain": [
              "[('Citroen DS-21 Pallas', '0', '4', '3090.', 'Europe'),\n",
              " ('Toyota Corolla Mark ii', '24.0', '4', '2372.', 'Japan'),\n",
              " ('Datsun PL510', '27.0', '4', '2130.', 'Japan'),\n",
              " ('Volkswagen 1131 Deluxe Sedan', '26.0', '4', '1835.', 'Europe'),\n",
              " ('Peugeot 504', '25.0', '4', '2672.', 'Europe'),\n",
              " ('Audi 100 LS', '24.0', '4', '2430.', 'Europe'),\n",
              " ('Saab 99e', '25.0', '4', '2375.', 'Europe'),\n",
              " ('BMW 2002', '26.0', '4', '2234.', 'Europe'),\n",
              " ('Datsun PL510', '27.0', '4', '2130.', 'Japan'),\n",
              " ('Toyota Corolla', '25.0', '4', '2228.', 'Japan'),\n",
              " ('Volkswagen Super Beetle 117', '0', '4', '1978.', 'Europe'),\n",
              " ('Opel 1900', '28.0', '4', '2123.', 'Europe'),\n",
              " ('Peugeot 304', '30.0', '4', '2074.', 'Europe'),\n",
              " ('Fiat 124B', '30.0', '4', '2065.', 'Europe'),\n",
              " ('Toyota Corolla 1200', '31.0', '4', '1773.', 'Japan'),\n",
              " ('Datsun 1200', '35.0', '4', '1613.', 'Japan'),\n",
              " ('Volkswagen Model 111', '27.0', '4', '1834.', 'Europe'),\n",
              " ('Toyota Corolla Hardtop', '24.0', '4', '2278.', 'Japan'),\n",
              " ('Volkswagen Type 3', '23.0', '4', '2254.', 'Europe'),\n",
              " ('Mazda RX2 Coupe', '19.0', '3', '2330.', 'Japan'),\n",
              " ('Volvo 145e (sw)', '18.0', '4', '2933.', 'Europe'),\n",
              " ('Volkswagen 411 (sw)', '22.0', '4', '2511.', 'Europe'),\n",
              " ('Peugeot 504 (sw)', '21.0', '4', '2979.', 'Europe'),\n",
              " ('Renault 12 (sw)', '26.0', '4', '2189.', 'Europe'),\n",
              " ('Datsun 510 (sw)', '28.0', '4', '2288.', 'Japan'),\n",
              " ('Toyota Corolla Mark II (sw)', '23.0', '4', '2506.', 'Japan'),\n",
              " ('Toyota Corolla 1600 (sw)', '27.0', '4', '2100.', 'Japan'),\n",
              " ('Volkswagen Super Beetle', '26.0', '4', '1950.', 'Europe'),\n",
              " ('Toyota Camry', '20.0', '4', '2279.', 'Japan'),\n",
              " ('Datsun 610', '22.0', '4', '2379.', 'Japan'),\n",
              " ('Mazda RX3', '18.0', '3', '2124.', 'Japan'),\n",
              " ('Fiat 124 Sport Coupe', '26.0', '4', '2265.', 'Europe'),\n",
              " ('Fiat 128', '29.0', '4', '1867.', 'Europe'),\n",
              " ('Opel Manta', '24.0', '4', '2158.', 'Europe'),\n",
              " ('Audi 100LS', '20.0', '4', '2582.', 'Europe'),\n",
              " ('Volvo 144ea', '19.0', '4', '2868.', 'Europe'),\n",
              " ('Saab 99le', '24.0', '4', '2660.', 'Europe'),\n",
              " ('Toyota Mark II', '20.0', '6', '2807.', 'Japan'),\n",
              " ('Datsun B210', '31.0', '4', '1950.', 'Japan'),\n",
              " ('Toyota Corolla 1200', '32.0', '4', '1836.', 'Japan'),\n",
              " ('Audi Fox', '29.0', '4', '2219.', 'Europe'),\n",
              " ('Volkswagen Dasher', '26.0', '4', '1963.', 'Europe'),\n",
              " ('Opel Manta', '26.0', '4', '2300.', 'Europe'),\n",
              " ('Toyota Corolla', '31.0', '4', '1649.', 'Japan'),\n",
              " ('Datsun 710', '32.0', '4', '2003.', 'Japan'),\n",
              " ('Fiat 128', '24.0', '4', '2108.', 'Europe'),\n",
              " ('Fiat 124 TC', '26.0', '4', '2246.', 'Europe'),\n",
              " ('Honda Civic', '24.0', '4', '2489.', 'Japan'),\n",
              " ('Subaru', '26.0', '4', '2391.', 'Japan'),\n",
              " ('Fiat x1.9', '31.0', '4', '2000.', 'Europe'),\n",
              " ('Toyota Corolla', '29.0', '4', '2171.', 'Japan'),\n",
              " ('Toyota Corolla', '24.0', '4', '2702.', 'Japan'),\n",
              " ('Volkswagen Dasher', '25.0', '4', '2223.', 'Europe'),\n",
              " ('Datsun 710', '24.0', '4', '2545.', 'Japan'),\n",
              " ('Volkswagen Rabbit', '29.0', '4', '1937.', 'Europe'),\n",
              " ('Audi 100LS', '23.0', '4', '2694.', 'Europe'),\n",
              " ('Peugeot 504', '23.0', '4', '2957.', 'Europe'),\n",
              " ('Volvo 244DL', '22.0', '4', '2945.', 'Europe'),\n",
              " ('Saab 99LE', '25.0', '4', '2671.', 'Europe'),\n",
              " ('Honda Civic CVCC', '33.0', '4', '1795.', 'Japan'),\n",
              " ('Fiat 131', '28.0', '4', '2464.', 'Europe'),\n",
              " ('Opel 1900', '25.0', '4', '2220.', 'Europe'),\n",
              " ('Renault 12tl', '27.0', '4', '2202.', 'Europe'),\n",
              " ('Volkswagen Rabbit', '29.0', '4', '1937.', 'Europe'),\n",
              " ('Honda Civic', '33.0', '4', '1795.', 'Japan'),\n",
              " ('Volkswagen Rabbit', '29.5', '4', '1825.', 'Europe'),\n",
              " ('Datsun B-210', '32.0', '4', '1990.', 'Japan'),\n",
              " ('Toyota Corolla', '28.0', '4', '2155.', 'Japan'),\n",
              " ('Volvo 245', '20.0', '4', '3150.', 'Europe'),\n",
              " ('Peugeot 504', '19.0', '4', '3270.', 'Europe'),\n",
              " ('Toyota Mark II', '19.0', '6', '2930.', 'Japan'),\n",
              " ('Mercedes-Benz 280s', '16.5', '6', '3820.', 'Europe'),\n",
              " ('Honda Accord CVCC', '31.5', '4', '2045.', 'Japan'),\n",
              " ('Renault 5 GTL', '36.0', '4', '1825.', 'Europe'),\n",
              " ('Datsun F-10 Hatchback', '33.5', '4', '1945.', 'Japan'),\n",
              " ('Volkswagen Rabbit Custom', '29.0', '4', '1940.', 'Europe'),\n",
              " ('Toyota Corolla Liftback', '26.0', '4', '2265.', 'Japan'),\n",
              " ('Subaru DL', '30.0', '4', '1985.', 'Japan'),\n",
              " ('Volkswagen Dasher', '30.5', '4', '2190.', 'Europe'),\n",
              " ('Datsun 810', '22.0', '6', '2815.', 'Japan'),\n",
              " ('BMW 320i', '21.5', '4', '2600.', 'Europe'),\n",
              " ('Mazda RX-4', '21.5', '3', '2720.', 'Japan'),\n",
              " ('Volkswagen Rabbit Custom Diesel', '43.1', '4', '1985.', 'Europe'),\n",
              " ('Mazda GLC Deluxe', '32.8', '4', '1985.', 'Japan'),\n",
              " ('Datsun B210 GX', '39.4', '4', '2070.', 'Japan'),\n",
              " ('Honda Civic CVCC', '36.1', '4', '1800.', 'Japan'),\n",
              " ('Toyota Corolla', '27.5', '4', '2560.', 'Japan'),\n",
              " ('Datsun 510', '27.2', '4', '2300.', 'Japan'),\n",
              " ('Toyota Celica GT Liftback', '21.1', '4', '2515.', 'Japan'),\n",
              " ('Datsun 200-SX', '23.9', '4', '2405.', 'Japan'),\n",
              " ('Audi 5000', '20.3', '5', '2830.', 'Europe'),\n",
              " ('Volvo 264gl', '17.0', '6', '3140.', 'Europe'),\n",
              " ('Saab 99gle', '21.6', '4', '2795.', 'Europe'),\n",
              " ('Peugeot 604sl', '16.2', '6', '3410.', 'Europe'),\n",
              " ('Volkswagen Scirocco', '31.5', '4', '1990.', 'Europe'),\n",
              " ('Honda Accord LX', '29.5', '4', '2135.', 'Japan'),\n",
              " ('Volkswagen Rabbit Custom', '31.9', '4', '1925.', 'Europe'),\n",
              " ('Mazda GLC Deluxe', '34.1', '4', '1975.', 'Japan'),\n",
              " ('Mercedes Benz 300d', '25.4', '5', '3530.', 'Europe'),\n",
              " ('Peugeot 504', '27.2', '4', '3190.', 'Europe'),\n",
              " ('Datsun 210', '31.8', '4', '2020.', 'Japan'),\n",
              " ('Fiat Strada Custom', '37.3', '4', '2130.', 'Europe'),\n",
              " ('Volkswagen Rabbit', '41.5', '4', '2144.', 'Europe'),\n",
              " ('Toyota Corolla Tercel', '38.1', '4', '1968.', 'Japan'),\n",
              " ('Datsun 310', '37.2', '4', '2019.', 'Japan'),\n",
              " ('Audi 4000', '34.3', '4', '2188.', 'Europe'),\n",
              " ('Toyota Corolla Liftback', '29.8', '4', '2711.', 'Japan'),\n",
              " ('Mazda 626', '31.3', '4', '2542.', 'Japan'),\n",
              " ('Datsun 510 Hatchback', '37.0', '4', '2434.', 'Japan'),\n",
              " ('Toyota Corolla', '32.2', '4', '2265.', 'Japan'),\n",
              " ('Mazda GLC', '46.6', '4', '2110.', 'Japan'),\n",
              " ('Datsun 210', '40.8', '4', '2110.', 'Japan'),\n",
              " ('Volkswagen Rabbit C (Diesel)', '44.3', '4', '2085.', 'Europe'),\n",
              " ('Volkswagen Dasher (diesel)', '43.4', '4', '2335.', 'Europe'),\n",
              " ('Audi 5000s (diesel)', '36.4', '5', '2950.', 'Europe'),\n",
              " ('Mercedes-Benz 240d', '30.0', '4', '3250.', 'Europe'),\n",
              " ('Honda Civic 1500 gl', '44.6', '4', '1850.', 'Japan'),\n",
              " ('Renault Lecar Deluxe', '40.9', '4', '1835.', 'Europe'),\n",
              " ('Subaru DL', '33.8', '4', '2145.', 'Japan'),\n",
              " ('Volkswagen Rabbit', '29.8', '4', '1845.', 'Europe'),\n",
              " ('Datsun 280-ZX', '32.7', '6', '2910.', 'Japan'),\n",
              " ('Mazda RX-7 GS', '23.7', '3', '2420.', 'Japan'),\n",
              " ('Triumph TR7 Coupe', '35.0', '4', '2500.', 'Europe'),\n",
              " ('Honda Accord', '32.4', '4', '2290.', 'Japan'),\n",
              " ('Toyota Starlet', '39.1', '4', '1755.', 'Japan'),\n",
              " ('Honda Civic 1300', '35.1', '4', '1760.', 'Japan'),\n",
              " ('Subaru', '32.3', '4', '2065.', 'Japan'),\n",
              " ('Datsun 210 MPG', '37.0', '4', '1975.', 'Japan'),\n",
              " ('Toyota Tercel', '37.7', '4', '2050.', 'Japan'),\n",
              " ('Mazda GLC 4', '34.1', '4', '1985.', 'Japan'),\n",
              " ('Volkswagen Jetta', '33.0', '4', '2190.', 'Europe'),\n",
              " ('Renault 18i', '34.5', '4', '2320.', 'Europe'),\n",
              " ('Honda Prelude', '33.7', '4', '2210.', 'Japan'),\n",
              " ('Toyota Corolla', '32.4', '4', '2350.', 'Japan'),\n",
              " ('Datsun 200SX', '32.9', '4', '2615.', 'Japan'),\n",
              " ('Mazda 626', '31.6', '4', '2635.', 'Japan'),\n",
              " ('Peugeot 505s Turbo Diesel', '28.1', '4', '3230.', 'Europe'),\n",
              " ('Saab 900s', '0', '4', '2800.', 'Europe'),\n",
              " ('Volvo Diesel', '30.7', '6', '3160.', 'Europe'),\n",
              " ('Toyota Cressida', '25.4', '6', '2900.', 'Japan'),\n",
              " ('Datsun 810 Maxima', '24.2', '6', '2930.', 'Japan'),\n",
              " ('Volkswagen Rabbit l', '36.0', '4', '1980.', 'Europe'),\n",
              " ('Mazda GLC Custom l', '37.0', '4', '2025.', 'Japan'),\n",
              " ('Mazda GLC Custom', '31.0', '4', '1970.', 'Japan'),\n",
              " ('Nissan Stanza XE', '36.0', '4', '2160.', 'Japan'),\n",
              " ('Honda Accord', '36.0', '4', '2205.', 'Japan'),\n",
              " ('Toyota Corolla', '34.0', '4', '2245', 'Japan'),\n",
              " ('Honda Civic', '38.0', '4', '1965.', 'Japan'),\n",
              " ('Honda Civic (auto)', '32.0', '4', '1965.', 'Japan'),\n",
              " ('Datsun 310 GX', '38.0', '4', '1995.', 'Japan'),\n",
              " ('Toyota Celica GT', '32.0', '4', '2665.', 'Japan'),\n",
              " ('Volkswagen Pickup', '44.0', '4', '2130.', 'Europe')]"
            ]
          },
          "metadata": {},
          "execution_count": 101
        }
      ]
    },
    {
      "cell_type": "markdown",
      "metadata": {
        "id": "VZ1bYvF8R8Dc"
      },
      "source": [
        "<a id='submitting-a-spark-job'></a>\n",
        "## Submitting a Spark Job"
      ]
    },
    {
      "cell_type": "code",
      "metadata": {
        "id": "ktkb6s-kjtgG",
        "colab": {
          "base_uri": "https://localhost:8080/"
        },
        "outputId": "dac4a95c-6537-40d0-f4b1-996ac5a4b9d1"
      },
      "source": [
        "from pyspark.sql.types import StructType\n",
        "sc = spark.sparkContext\n",
        "#Create empty df\n",
        "schema = StructType([])\n",
        "empty = spark.createDataFrame(sc.emptyRDD(), schema)\n",
        "empty.show()"
      ],
      "execution_count": 102,
      "outputs": [
        {
          "output_type": "stream",
          "name": "stdout",
          "text": [
            "++\n",
            "||\n",
            "++\n",
            "++\n",
            "\n"
          ]
        }
      ]
    },
    {
      "cell_type": "markdown",
      "metadata": {
        "id": "mg5K3nz_lSDe"
      },
      "source": [
        "### Create an empty dataframe with header"
      ]
    },
    {
      "cell_type": "code",
      "metadata": {
        "id": "9raf4CkRjuTr",
        "colab": {
          "base_uri": "https://localhost:8080/"
        },
        "outputId": "91222c9d-5aa4-4a81-ec0c-eafa4a59f753"
      },
      "source": [
        "from pyspark.sql.types import StructType, StructField\n",
        "#Create empty df with header\n",
        "schema_header = StructType([StructField(\"name\", StringType(), True)])\n",
        "empty_with_header = spark.createDataFrame(sc.emptyRDD(), schema_header)\n",
        "empty_with_header.show()"
      ],
      "execution_count": 103,
      "outputs": [
        {
          "output_type": "stream",
          "name": "stdout",
          "text": [
            "+----+\n",
            "|name|\n",
            "+----+\n",
            "+----+\n",
            "\n"
          ]
        }
      ]
    },
    {
      "cell_type": "markdown",
      "metadata": {
        "id": "Y1ZNOx7ilUnd"
      },
      "source": [
        "### Create a dataframe with header and data"
      ]
    },
    {
      "cell_type": "code",
      "metadata": {
        "id": "TvzyL46QkJBl",
        "colab": {
          "base_uri": "https://localhost:8080/"
        },
        "outputId": "d2af99e0-90de-4c46-8495-f4c728ad9076"
      },
      "source": [
        "from pyspark.sql import Row\n",
        "mylist = [\n",
        "  {\"name\":'Alisha',\"age\":13},\n",
        "  {\"name\":'Jadoo',\"age\":24},\n",
        "  {\"name\":'Benny',\"age\":35},\n",
        "]\n",
        "spark.createDataFrame(Row(**x) for x in mylist).show()"
      ],
      "execution_count": 105,
      "outputs": [
        {
          "output_type": "stream",
          "name": "stdout",
          "text": [
            "+------+---+\n",
            "|  name|age|\n",
            "+------+---+\n",
            "|Alisha| 13|\n",
            "| Jadoo| 24|\n",
            "| Benny| 35|\n",
            "+------+---+\n",
            "\n"
          ]
        }
      ]
    },
    {
      "cell_type": "code",
      "metadata": {
        "id": "VnRMckA5nLoJ",
        "colab": {
          "base_uri": "https://localhost:8080/"
        },
        "outputId": "475de468-fb5a-4097-e68f-c70a6fc81a24"
      },
      "source": [
        "# You can achieve the same using this - note that we are using spark context here, not a spark session\n",
        "from pyspark.sql import Row\n",
        "df = sc.parallelize([\n",
        "        Row(name='Alisha', age=13),\n",
        "        Row(name='Jadoo', age=24),\n",
        "        Row(name='Benny', age=35)]).toDF()\n",
        "df.show()"
      ],
      "execution_count": 106,
      "outputs": [
        {
          "output_type": "stream",
          "name": "stdout",
          "text": [
            "+------+---+\n",
            "|  name|age|\n",
            "+------+---+\n",
            "|Alisha| 13|\n",
            "| Jadoo| 24|\n",
            "| Benny| 35|\n",
            "+------+---+\n",
            "\n"
          ]
        }
      ]
    },
    {
      "cell_type": "markdown",
      "metadata": {
        "id": "f3crkAQVlxKp"
      },
      "source": [
        "<a id='drop-duplicates'></a>\n",
        "## Drop Duplicates"
      ]
    },
    {
      "cell_type": "code",
      "metadata": {
        "id": "wOuHRAPJmWen",
        "colab": {
          "base_uri": "https://localhost:8080/"
        },
        "outputId": "ca33bed5-cc22-4de2-a67b-bc5e79b71c28"
      },
      "source": [
        "from pyspark.sql import Row\n",
        "from pyspark.sql import Row\n",
        "mylist = [\n",
        "  {\"name\":'Alisha',\"age\":5,\"height\":80},\n",
        "  {\"name\":'Jadoo',\"age\":24,\"height\":80},\n",
        "  {\"name\":'Alisha',\"age\":5,\"height\":80}\n",
        "]\n",
        "df = spark.createDataFrame(Row(**x) for x in mylist)\n",
        "df.dropDuplicates().show()"
      ],
      "execution_count": 107,
      "outputs": [
        {
          "output_type": "stream",
          "name": "stdout",
          "text": [
            "+------+---+------+\n",
            "|  name|age|height|\n",
            "+------+---+------+\n",
            "|Alisha|  5|    80|\n",
            "| Jadoo| 24|    80|\n",
            "+------+---+------+\n",
            "\n"
          ]
        }
      ]
    },
    {
      "cell_type": "code",
      "metadata": {
        "id": "SHnFylV1n8to",
        "colab": {
          "base_uri": "https://localhost:8080/"
        },
        "outputId": "75664501-0d78-4bb0-9ed1-a23e81c9526e"
      },
      "source": [
        "df.dropDuplicates(subset=['height']).show()"
      ],
      "execution_count": 108,
      "outputs": [
        {
          "output_type": "stream",
          "name": "stdout",
          "text": [
            "+------+---+------+\n",
            "|  name|age|height|\n",
            "+------+---+------+\n",
            "|Alisha|  5|    80|\n",
            "+------+---+------+\n",
            "\n"
          ]
        }
      ]
    }
  ]
}